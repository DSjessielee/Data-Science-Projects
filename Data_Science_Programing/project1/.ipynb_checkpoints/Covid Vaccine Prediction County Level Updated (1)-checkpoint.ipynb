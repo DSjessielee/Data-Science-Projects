{
 "cells": [
  {
   "cell_type": "markdown",
   "id": "ffc5349d",
   "metadata": {},
   "source": [
    "# Covid Vaccine Coverage Prediction - an Update\n",
    "This project is to use the themes of each county in United States to predict the outcome of vaccine coverage.\n",
    "The target is to predict the vaccine rate, which is updated daily. We used the data up to 7/21/2021 for calibration\n",
    "The purpose if to identify the area of concerns\n"
   ]
  },
  {
   "cell_type": "code",
   "execution_count": 3,
   "id": "7120d4de",
   "metadata": {},
   "outputs": [
    {
     "name": "stdout",
     "output_type": "stream",
     "text": [
      "Populating the interactive namespace from numpy and matplotlib\n",
      "Populating the interactive namespace from numpy and matplotlib\n"
     ]
    }
   ],
   "source": [
    "from pandas import Series, DataFrame\n",
    "import pandas as pd\n",
    "%pylab inline\n",
    "import IPython\n",
    "import pandas as pd\n",
    "import numpy as np\n",
    "import scipy as sp\n",
    "import pandas as pd\n",
    "import matplotlib.pyplot as plt\n",
    "import seaborn as sn\n",
    "import sklearn as sk\n",
    "import statsmodels.formula.api as smf\n",
    "import statsmodels.api as sm\n",
    "import os\n",
    "from sklearn.datasets import load_boston\n",
    "from sklearn.ensemble import RandomForestRegressor\n",
    "from sklearn.model_selection import train_test_split\n",
    "from matplotlib.lines import Line2D\n",
    "from scipy.stats import pearsonr\n",
    "from sklearn.model_selection import train_test_split\n",
    "from sklearn.neighbors import KNeighborsRegressor\n",
    "from sklearn.preprocessing import StandardScaler\n",
    "from sklearn import metrics\n",
    "import time\n",
    "from pandas import Series, DataFrame\n",
    "import pandas as pd\n",
    "%pylab inline"
   ]
  },
  {
   "cell_type": "code",
   "execution_count": 4,
   "id": "c58f22a1",
   "metadata": {},
   "outputs": [],
   "source": [
    "#Daily vaccination administration data from cdc up to 7/31\n",
    "#source:https://data.cdc.gov/Vaccinations/COVID-19-Vaccinations-in-the-United-States-Jurisdi/unsk-b7fc\n",
    "vac_admin = pd.read_csv('vac_county.csv')\n",
    "\n",
    "#Vaccination hesitance survey result by states and county\n",
    "#source: https://data.cdc.gov/stories/s/cnd2-a6zw\n",
    "vac_h = pd.read_csv('vac_hesi_county.csv')\n",
    "vac_h=vac_h.dropna()\n",
    "\n",
    "#Vaccination coverage index by states and county\n",
    "#source:https://vaccine.precisionforcovid.org/\n",
    "vac_c = pd.read_csv('cvac_county.csv')\n",
    "vac_c_sub=pd.read_csv('cvac_sub_county.csv')\n",
    "\n",
    "#political data from 2020 election\n",
    "poli=pd.read_csv('poli_county1.csv')\n",
    "\n",
    "#2017 Per research fundation religion research\n",
    "relig=pd.read_csv('religion.csv')\n",
    "\n",
    "#2020 Us census data for state population\n",
    "#source: https://www.census.gov/data/tables/2020/dec/2020-apportionment-data.html\n",
    "pop = pd.read_csv('pop_county.csv')"
   ]
  },
  {
   "cell_type": "code",
   "execution_count": null,
   "id": "3c1cb0d0",
   "metadata": {},
   "outputs": [],
   "source": [
    "us_state_abbrev = {\n",
    "    'Alabama': 'AL',\n",
    "    'Alaska': 'AK',\n",
    "    'American Samoa': 'AS',\n",
    "    'Arizona': 'AZ',\n",
    "    'Arkansas': 'AR',\n",
    "    'California': 'CA',\n",
    "    'Colorado': 'CO',\n",
    "    'Connecticut': 'CT',\n",
    "    'Delaware': 'DE',\n",
    "    'District of Columbia': 'DC',\n",
    "    'Florida': 'FL',\n",
    "    'Georgia': 'GA',\n",
    "    'Guam': 'GU',\n",
    "    'Hawaii': 'HI',\n",
    "    'Idaho': 'ID',\n",
    "    'Illinois': 'IL',\n",
    "    'Indiana': 'IN',\n",
    "    'Iowa': 'IA',\n",
    "    'Kansas': 'KS',\n",
    "    'Kentucky': 'KY',\n",
    "    'Louisiana': 'LA',\n",
    "    'Maine': 'ME',\n",
    "    'Maryland': 'MD',\n",
    "    'Massachusetts': 'MA',\n",
    "    'Michigan': 'MI',\n",
    "    'Minnesota': 'MN',\n",
    "    'Mississippi': 'MS',\n",
    "    'Missouri': 'MO',\n",
    "    'Montana': 'MT',\n",
    "    'Nebraska': 'NE',\n",
    "    'Nevada': 'NV',\n",
    "    'New Hampshire': 'NH',\n",
    "    'New Jersey': 'NJ',\n",
    "    'New Mexico': 'NM',\n",
    "    'New York': 'NY',\n",
    "    'North Carolina': 'NC',\n",
    "    'North Dakota': 'ND',\n",
    "    'Northern Mariana Islands':'MP',\n",
    "    'Ohio': 'OH',\n",
    "    'Oklahoma': 'OK',\n",
    "    'Oregon': 'OR',\n",
    "    'Pennsylvania': 'PA',\n",
    "    'Puerto Rico': 'PR',\n",
    "    'Rhode Island': 'RI',\n",
    "    'South Carolina': 'SC',\n",
    "    'South Dakota': 'SD',\n",
    "    'Tennessee': 'TN',\n",
    "    'Texas': 'TX',\n",
    "    'Utah': 'UT',\n",
    "    'Vermont': 'VT',\n",
    "    'Virgin Islands': 'VI',\n",
    "    'Virginia': 'VA',\n",
    "    'Washington': 'WA',\n",
    "    'West Virginia': 'WV',\n",
    "    'Wisconsin': 'WI',\n",
    "    'Wyoming': 'WY'\n",
    "}\n",
    "\n",
    "def state_abbrev(x):\n",
    "    \n",
    "    '''\n",
    "    This function converts full US tates name into abbreviated version.\n",
    "    '''\n",
    "    for key, value in us_state_abbrev.items():\n",
    "        if x==key:\n",
    "            return value\n",
    "\n",
    "def state_full(x):\n",
    "    '''\n",
    "    This function converts abbreviated US tates name into full version.\n",
    "    '''\n",
    "    for key, value in us_state_abbrev.items():\n",
    "        if x==value:\n",
    "            return key\n"
   ]
  },
  {
   "cell_type": "markdown",
   "id": "b033c230",
   "metadata": {},
   "source": [
    "# Population"
   ]
  },
  {
   "cell_type": "code",
   "execution_count": null,
   "id": "9c8f3f06",
   "metadata": {},
   "outputs": [],
   "source": [
    "pop.columns=['state','county','population']"
   ]
  },
  {
   "cell_type": "code",
   "execution_count": null,
   "id": "b60d8513",
   "metadata": {},
   "outputs": [],
   "source": [
    "pop['st']=pop['state'].map(state_abbrev)\n",
    "pop['st_cty']=pop['st']+' '+pop['county']"
   ]
  },
  {
   "cell_type": "code",
   "execution_count": null,
   "id": "e4f62f28",
   "metadata": {},
   "outputs": [],
   "source": [
    "pop=pop[['st_cty','population']]\n",
    "pop"
   ]
  },
  {
   "cell_type": "code",
   "execution_count": null,
   "id": "a3f485f5",
   "metadata": {},
   "outputs": [],
   "source": [
    "#print('pop shape {} \\n'.format(pop.shape))\n",
    "\n",
    "#county_list=pop['county'].tolist()\n",
    "#pop['st_cty']=pop['state']+\n",
    "\n",
    "#len(county_list)"
   ]
  },
  {
   "cell_type": "markdown",
   "id": "fcccddfa",
   "metadata": {},
   "source": [
    "# Vaccination status"
   ]
  },
  {
   "cell_type": "code",
   "execution_count": null,
   "id": "eb4d171a",
   "metadata": {},
   "outputs": [],
   "source": [
    "vac_admin.columns"
   ]
  },
  {
   "cell_type": "code",
   "execution_count": null,
   "id": "351c8133",
   "metadata": {},
   "outputs": [],
   "source": [
    "vac_admin['Administered_Dose1_Pop_Pct'].sort_values(ascending=False)"
   ]
  },
  {
   "cell_type": "code",
   "execution_count": null,
   "id": "3cebfb7d",
   "metadata": {},
   "outputs": [],
   "source": [
    "temp=vac_admin.groupby(['Recip_State','Recip_County'])['Administered_Dose1_Pop_Pct'].agg('max')\n",
    "\n",
    "temp=temp.reset_index()\n",
    "temp['st_cty']=temp['Recip_State']+' '+temp['Recip_County']\n",
    "vac=temp[['st_cty','Administered_Dose1_Pop_Pct']]\n",
    "vac.columns=['st_cty','vac_rate']\n",
    "vac"
   ]
  },
  {
   "cell_type": "markdown",
   "id": "82ffa326",
   "metadata": {},
   "source": [
    "# Vaccine hesitation"
   ]
  },
  {
   "cell_type": "code",
   "execution_count": null,
   "id": "df79a799",
   "metadata": {},
   "outputs": [],
   "source": [
    "cty_name=list(vac['st_cty'])\n",
    "\n",
    "def match(x):\n",
    "    for name in cty_name:\n",
    "        if (x['county'] in name)&(x['state'] in name):\n",
    "            return name"
   ]
  },
  {
   "cell_type": "code",
   "execution_count": null,
   "id": "e1a7ecca",
   "metadata": {},
   "outputs": [],
   "source": [
    "vac_h.iloc[:,0:2]"
   ]
  },
  {
   "cell_type": "code",
   "execution_count": null,
   "id": "e3a1b2ab",
   "metadata": {},
   "outputs": [],
   "source": [
    "vac_h['st_cty']=vac_h.iloc[:,0:2].T.apply(match)"
   ]
  },
  {
   "cell_type": "code",
   "execution_count": null,
   "id": "a7d058cb",
   "metadata": {},
   "outputs": [],
   "source": [
    "vac_h = vac_h.rename(columns = {'% Estimated Hesitant or Unsure - May 26 - June 7, 2021':'low', '% Estimated Hesitant-  May 26 - June 7, 2021':'medium', '% Estimated Strongly Hesitant-  May 26 - June 7, 2021':'high'})"
   ]
  },
  {
   "cell_type": "code",
   "execution_count": null,
   "id": "9c663da9",
   "metadata": {},
   "outputs": [],
   "source": [
    "vac_h=vac_h[['st_cty','low', 'medium', 'high']]\n"
   ]
  },
  {
   "cell_type": "code",
   "execution_count": null,
   "id": "c4bd5645",
   "metadata": {},
   "outputs": [],
   "source": [
    "vac_h['tot_hesi']=vac_h['low']+vac_h['medium']+vac_h['high']\n",
    "vac_h"
   ]
  },
  {
   "cell_type": "markdown",
   "id": "a4d08173",
   "metadata": {},
   "source": [
    "# Vaccine Coverage"
   ]
  },
  {
   "cell_type": "code",
   "execution_count": null,
   "id": "25cbb632",
   "metadata": {},
   "outputs": [],
   "source": [
    "vac_c['st']=vac_c['state'].map(state_abbrev)\n",
    "vac_c['st_cty']=vac_c['st']+' '+vac_c['county']\n",
    "temp1=vac_c[['st_cty',\n",
    "             'Th1_Historic_Undervaccination',\n",
    "             'Th2_Sociodemographic_Barriers',\n",
    "             'Th3_Resource_constrained_Healthcare_System',\n",
    "             'Th4_Healthcare_Accessibility_Barriers',\n",
    "             'Th5_Irregular_Care_Seeking_Behavior']]\n",
    "temp1"
   ]
  },
  {
   "cell_type": "code",
   "execution_count": null,
   "id": "852a7575",
   "metadata": {},
   "outputs": [],
   "source": [
    "#Ignore this... These are for subthemes\n",
    "\n",
    "vac_c_sub['st']=vac_c['state'].map(state_abbrev)\n",
    "vac_c_sub['st_cty']=vac_c['st']+' '+vac_c['county']\n",
    "vac_c_sub.columns\n",
    "temp2=vac_c_sub[['st_cty',\n",
    "                 'Th1_Lower Coverage and Higher Refusal Rates',\n",
    "       'Th2_Lack of Access to Infomation',\n",
    "       'Th2_Socio-economically disadvantaged',\n",
    "       'Th3_Low Healthcare System Capacity', 'Th3_Weak Healthcare System',\n",
    "       'Th4_Barriers due to cost', 'Th4_Barriers due to Transportation',\n",
    "       'Th5_Lack of Designated Medical Home',\n",
    "       'Th5_Lack of Routine Care Visits',\n",
    "                ]]\n",
    "temp2"
   ]
  },
  {
   "cell_type": "markdown",
   "id": "c36c49fe",
   "metadata": {},
   "source": [
    "# Political Dataset"
   ]
  },
  {
   "cell_type": "code",
   "execution_count": null,
   "id": "44dd0511",
   "metadata": {},
   "outputs": [],
   "source": [
    "#poli.groupby(['state','county'])['votes'].idxmax()[2000:2020]"
   ]
  },
  {
   "cell_type": "code",
   "execution_count": null,
   "id": "cbcd3619",
   "metadata": {},
   "outputs": [],
   "source": [
    "poli.rename(columns = {'state_po':'state', 'county_name':'county'}, inplace = True)\n",
    "poli"
   ]
  },
  {
   "cell_type": "code",
   "execution_count": null,
   "id": "648241de",
   "metadata": {},
   "outputs": [],
   "source": [
    "poli['st_cty']=poli.iloc[:,0:2].T.apply(match)"
   ]
  },
  {
   "cell_type": "code",
   "execution_count": null,
   "id": "49b633e7",
   "metadata": {},
   "outputs": [],
   "source": [
    "poli"
   ]
  },
  {
   "cell_type": "code",
   "execution_count": null,
   "id": "37368e79",
   "metadata": {},
   "outputs": [],
   "source": [
    "poli = poli.loc[poli.groupby('st_cty')['candidatevotes'].idxmax()]"
   ]
  },
  {
   "cell_type": "code",
   "execution_count": null,
   "id": "d3c7a6a5",
   "metadata": {},
   "outputs": [],
   "source": [
    "poli = poli[['st_cty','party']]"
   ]
  },
  {
   "cell_type": "code",
   "execution_count": null,
   "id": "be1507f6",
   "metadata": {},
   "outputs": [],
   "source": [
    "poli['party'] = poli['party'].map(lambda x: 1 if x == 'DEMOCRAT' else 0)"
   ]
  },
  {
   "cell_type": "code",
   "execution_count": null,
   "id": "1534c109",
   "metadata": {},
   "outputs": [],
   "source": [
    "poli"
   ]
  },
  {
   "cell_type": "code",
   "execution_count": null,
   "id": "5c3259e2",
   "metadata": {},
   "outputs": [],
   "source": [
    "m1=vac.merge(temp1,on='st_cty')\n",
    "m2=m1.merge(vac_h,on='st_cty')\n",
    "m3=m2.merge(vac_c)\n",
    "m4=m3.merge(poli, on = 'st_cty')\n",
    "m4"
   ]
  },
  {
   "cell_type": "code",
   "execution_count": 5,
   "id": "c1fa65ae",
   "metadata": {},
   "outputs": [
    {
     "ename": "NameError",
     "evalue": "name 'state_abbrev' is not defined",
     "output_type": "error",
     "traceback": [
      "\u001b[1;31m---------------------------------------------------------------------------\u001b[0m",
      "\u001b[1;31mNameError\u001b[0m                                 Traceback (most recent call last)",
      "\u001b[1;32m<ipython-input-5-43b739d2d8e7>\u001b[0m in \u001b[0;36m<module>\u001b[1;34m\u001b[0m\n\u001b[0;32m      1\u001b[0m \u001b[0mrelig_cln\u001b[0m\u001b[1;33m=\u001b[0m\u001b[0mrelig\u001b[0m\u001b[1;33m[\u001b[0m\u001b[1;33m[\u001b[0m\u001b[1;34m'State'\u001b[0m\u001b[1;33m,\u001b[0m\u001b[1;34m'Believe in God with Certainty'\u001b[0m\u001b[1;33m,\u001b[0m\u001b[1;34m'Overall Religiosity Rank'\u001b[0m\u001b[1;33m,\u001b[0m\u001b[1;34m'religious index'\u001b[0m\u001b[1;33m]\u001b[0m\u001b[1;33m]\u001b[0m\u001b[1;33m\u001b[0m\u001b[1;33m\u001b[0m\u001b[0m\n\u001b[0;32m      2\u001b[0m \u001b[0mrelig_cln\u001b[0m\u001b[1;33m.\u001b[0m\u001b[0mcolumns\u001b[0m\u001b[1;33m=\u001b[0m\u001b[1;33m[\u001b[0m\u001b[1;34m'state'\u001b[0m\u001b[1;33m,\u001b[0m\u001b[1;34m'believe_in_god'\u001b[0m\u001b[1;33m,\u001b[0m\u001b[1;34m'relig_rank'\u001b[0m\u001b[1;33m,\u001b[0m\u001b[1;34m'religious_index'\u001b[0m\u001b[1;33m]\u001b[0m\u001b[1;33m\u001b[0m\u001b[1;33m\u001b[0m\u001b[0m\n\u001b[1;32m----> 3\u001b[1;33m \u001b[0mrelig_cln\u001b[0m\u001b[1;33m[\u001b[0m\u001b[1;34m'state_abb'\u001b[0m\u001b[1;33m]\u001b[0m \u001b[1;33m=\u001b[0m \u001b[0mrelig_cln\u001b[0m\u001b[1;33m[\u001b[0m\u001b[1;34m'state'\u001b[0m\u001b[1;33m]\u001b[0m\u001b[1;33m.\u001b[0m\u001b[0mmap\u001b[0m\u001b[1;33m(\u001b[0m\u001b[0mstate_abbrev\u001b[0m\u001b[1;33m)\u001b[0m\u001b[1;33m\u001b[0m\u001b[1;33m\u001b[0m\u001b[0m\n\u001b[0m\u001b[0;32m      4\u001b[0m \u001b[0mrelig_cln\u001b[0m\u001b[1;33m.\u001b[0m\u001b[0mhead\u001b[0m\u001b[1;33m(\u001b[0m\u001b[1;33m)\u001b[0m\u001b[1;33m\u001b[0m\u001b[1;33m\u001b[0m\u001b[0m\n",
      "\u001b[1;31mNameError\u001b[0m: name 'state_abbrev' is not defined"
     ]
    }
   ],
   "source": [
    "relig_cln=relig[['State','Believe in God with Certainty','Overall Religiosity Rank','religious index']]\n",
    "relig_cln.columns=['state','believe_in_god','relig_rank','religious_index']\n",
    "relig_cln['state_abb'] = relig_cln['state'].map(state_abbrev)\n",
    "relig_cln.head()"
   ]
  },
  {
   "cell_type": "code",
   "execution_count": null,
   "id": "24f65856",
   "metadata": {},
   "outputs": [],
   "source": [
    "m5 = m4.merge(relig_cln, left_on = 'st', right_on = 'state_abb')\n",
    "m5"
   ]
  },
  {
   "cell_type": "code",
   "execution_count": null,
   "id": "f0d5ba2f",
   "metadata": {},
   "outputs": [],
   "source": [
    "vac_2model.sort_values(by='vac_rate',ascending=False)"
   ]
  },
  {
   "cell_type": "markdown",
   "id": "bc541d0a",
   "metadata": {},
   "source": [
    "# Linear regression"
   ]
  },
  {
   "cell_type": "code",
   "execution_count": null,
   "id": "f758c937",
   "metadata": {
    "scrolled": true
   },
   "outputs": [],
   "source": [
    "# Special packages\n",
    "import statsmodels.api as sm\n",
    "from patsy import dmatrices\n",
    "\n",
    "\n",
    "y, X = dmatrices('vac_rate ~ Th1_Historic_Undervaccination + Th2_Sociodemographic_Barriers + Th3_Resource_constrained_Healthcare_System +Th4_Healthcare_Accessibility_Barriers+Th5_Irregular_Care_Seeking_Behavior', data=vac_2model, return_type='dataframe')\n",
    "\n",
    "\n",
    "model = sm.OLS(y, X)       # Set up the model\n",
    "result = model.fit()       # Fit model (find the intercept and slopes)\n",
    "print(result.summary())"
   ]
  },
  {
   "cell_type": "code",
   "execution_count": null,
   "id": "9a561ff3",
   "metadata": {},
   "outputs": [],
   "source": []
  },
  {
   "cell_type": "code",
   "execution_count": null,
   "id": "6a213e3a",
   "metadata": {},
   "outputs": [],
   "source": [
    "# Special packages\n",
    "import statsmodels.api as sm\n",
    "from patsy import dmatrices\n",
    "\n",
    "\n",
    "y, X = dmatrices('Administered_Dose1_Pop_Pct ~ Th1_Historic_Undervaccination + Th2_Sociodemographic_Barriers + Th3_Resource_constrained_Healthcare_System +Th5_Irregular_Care_Seeking_Behavior', data=vac_2model, return_type='dataframe')\n",
    "\n",
    "\n",
    "model = sm.OLS(y, X)       # Set up the model\n",
    "result = model.fit()       # Fit model (find the intercept and slopes)\n",
    "print(result.summary())"
   ]
  },
  {
   "cell_type": "code",
   "execution_count": null,
   "id": "25434c8a",
   "metadata": {},
   "outputs": [],
   "source": [
    "# Special packages\n",
    "import statsmodels.api as sm\n",
    "from patsy import dmatrices\n",
    "\n",
    "\n",
    "y, X = dmatrices('Administered_Dose1_Pop_Pct ~ CVAC', data=vac_2model, return_type='dataframe')\n",
    "\n",
    "\n",
    "model = sm.OLS(y, X)       # Set up the model\n",
    "result = model.fit()       # Fit model (find the intercept and slopes)\n",
    "print(result.summary())"
   ]
  },
  {
   "cell_type": "markdown",
   "id": "f1df26b6",
   "metadata": {},
   "source": [
    "# Random Forest"
   ]
  },
  {
   "cell_type": "code",
   "execution_count": null,
   "id": "4a32199d",
   "metadata": {},
   "outputs": [],
   "source": []
  },
  {
   "cell_type": "code",
   "execution_count": null,
   "id": "8abff147",
   "metadata": {},
   "outputs": [],
   "source": []
  },
  {
   "cell_type": "code",
   "execution_count": null,
   "id": "ccf6b32f",
   "metadata": {},
   "outputs": [],
   "source": []
  }
 ],
 "metadata": {
  "kernelspec": {
   "display_name": "Python 3",
   "language": "python",
   "name": "python3"
  },
  "language_info": {
   "codemirror_mode": {
    "name": "ipython",
    "version": 3
   },
   "file_extension": ".py",
   "mimetype": "text/x-python",
   "name": "python",
   "nbconvert_exporter": "python",
   "pygments_lexer": "ipython3",
   "version": "3.8.8"
  }
 },
 "nbformat": 4,
 "nbformat_minor": 5
}
