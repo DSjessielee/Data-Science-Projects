{
 "cells": [
  {
   "cell_type": "markdown",
   "id": "ffc5349d",
   "metadata": {},
   "source": [
    "### A Model to Predict Covid Vaccine Coverage Prediction\n",
    "This project is to use the themes of each county in United States to predict the outcome of vaccine coverage.\n",
    "The target is to predict the vaccine rate, which is updated daily. We used the data up to 7/31/2021 for calibration\n",
    "The purpose if to identify the area of concerns"
   ]
  },
  {
   "cell_type": "code",
   "execution_count": 1,
   "id": "7120d4de",
   "metadata": {},
   "outputs": [
    {
     "name": "stdout",
     "output_type": "stream",
     "text": [
      "Populating the interactive namespace from numpy and matplotlib\n"
     ]
    }
   ],
   "source": [
    "from pandas import Series, DataFrame\n",
    "import pandas as pd\n",
    "%pylab inline"
   ]
  },
  {
   "cell_type": "code",
   "execution_count": 2,
   "id": "c58f22a1",
   "metadata": {},
   "outputs": [
    {
     "name": "stderr",
     "output_type": "stream",
     "text": [
      "C:\\ProgramData\\Anaconda3\\lib\\site-packages\\IPython\\core\\interactiveshell.py:3165: DtypeWarning: Columns (1,23,24,25,26) have mixed types.Specify dtype option on import or set low_memory=False.\n",
      "  has_raised = await self.run_ast_nodes(code_ast.body, cell_name,\n"
     ]
    }
   ],
   "source": [
    "#Daily vaccination administration data from cdc up to 7/31\n",
    "#source:https://data.cdc.gov/Vaccinations/COVID-19-Vaccinations-in-the-United-States-Jurisdi/unsk-b7fc\n",
    "vac_admin = pd.read_csv('vac_county.csv')\n",
    "\n",
    "#Vaccination hesitance survey result by states and county\n",
    "#source: https://data.cdc.gov/stories/s/cnd2-a6zw\n",
    "vac_h = pd.read_csv('vac_hesi.csv')\n",
    "vac_h=vac_h.dropna()\n",
    "\n",
    "#Vaccination coverage index by states and county\n",
    "#source:https://vaccine.precisionforcovid.org/\n",
    "vac_c = pd.read_csv('cvac_county.csv')\n",
    "vac_c_sub=pd.read_csv('cvac_sub_county.csv')\n",
    "\n",
    "#2020 Us census data for state population\n",
    "#source: https://www.census.gov/data/tables/2020/dec/2020-apportionment-data.html\n",
    "pop = pd.read_csv('pop_county.csv')"
   ]
  },
  {
   "cell_type": "code",
   "execution_count": 3,
   "id": "9485052f",
   "metadata": {},
   "outputs": [
    {
     "data": {
      "text/html": [
       "<div>\n",
       "<style scoped>\n",
       "    .dataframe tbody tr th:only-of-type {\n",
       "        vertical-align: middle;\n",
       "    }\n",
       "\n",
       "    .dataframe tbody tr th {\n",
       "        vertical-align: top;\n",
       "    }\n",
       "\n",
       "    .dataframe thead tr th {\n",
       "        text-align: left;\n",
       "    }\n",
       "</style>\n",
       "<table border=\"1\" class=\"dataframe\">\n",
       "  <thead>\n",
       "    <tr>\n",
       "      <th></th>\n",
       "      <th>state</th>\n",
       "      <th>county</th>\n",
       "      <th>population</th>\n",
       "    </tr>\n",
       "  </thead>\n",
       "  <tbody>\n",
       "    <tr>\n",
       "      <th>100</th>\n",
       "      <td>Arizona</td>\n",
       "      <td>Apache County</td>\n",
       "      <td>71875</td>\n",
       "    </tr>\n",
       "    <tr>\n",
       "      <th>101</th>\n",
       "      <td>Arizona</td>\n",
       "      <td>Cochise County</td>\n",
       "      <td>127450</td>\n",
       "    </tr>\n",
       "    <tr>\n",
       "      <th>102</th>\n",
       "      <td>Arizona</td>\n",
       "      <td>Coconino County</td>\n",
       "      <td>142481</td>\n",
       "    </tr>\n",
       "    <tr>\n",
       "      <th>103</th>\n",
       "      <td>Arizona</td>\n",
       "      <td>Gila County</td>\n",
       "      <td>54303</td>\n",
       "    </tr>\n",
       "    <tr>\n",
       "      <th>104</th>\n",
       "      <td>Arizona</td>\n",
       "      <td>Graham County</td>\n",
       "      <td>39211</td>\n",
       "    </tr>\n",
       "    <tr>\n",
       "      <th>105</th>\n",
       "      <td>Arizona</td>\n",
       "      <td>Greenlee County</td>\n",
       "      <td>9341</td>\n",
       "    </tr>\n",
       "    <tr>\n",
       "      <th>106</th>\n",
       "      <td>Arizona</td>\n",
       "      <td>La Paz County</td>\n",
       "      <td>21480</td>\n",
       "    </tr>\n",
       "    <tr>\n",
       "      <th>107</th>\n",
       "      <td>Arizona</td>\n",
       "      <td>Maricopa County</td>\n",
       "      <td>4579081</td>\n",
       "    </tr>\n",
       "    <tr>\n",
       "      <th>108</th>\n",
       "      <td>Arizona</td>\n",
       "      <td>Mohave County</td>\n",
       "      <td>217206</td>\n",
       "    </tr>\n",
       "    <tr>\n",
       "      <th>109</th>\n",
       "      <td>Arizona</td>\n",
       "      <td>Navajo County</td>\n",
       "      <td>112112</td>\n",
       "    </tr>\n",
       "    <tr>\n",
       "      <th>110</th>\n",
       "      <td>Arizona</td>\n",
       "      <td>Pima County</td>\n",
       "      <td>1061175</td>\n",
       "    </tr>\n",
       "    <tr>\n",
       "      <th>111</th>\n",
       "      <td>Arizona</td>\n",
       "      <td>Pinal County</td>\n",
       "      <td>480828</td>\n",
       "    </tr>\n",
       "    <tr>\n",
       "      <th>112</th>\n",
       "      <td>Arizona</td>\n",
       "      <td>Santa Cruz County</td>\n",
       "      <td>46808</td>\n",
       "    </tr>\n",
       "    <tr>\n",
       "      <th>113</th>\n",
       "      <td>Arizona</td>\n",
       "      <td>Yavapai County</td>\n",
       "      <td>240226</td>\n",
       "    </tr>\n",
       "    <tr>\n",
       "      <th>114</th>\n",
       "      <td>Arizona</td>\n",
       "      <td>Yuma County</td>\n",
       "      <td>217824</td>\n",
       "    </tr>\n",
       "    <tr>\n",
       "      <th>115</th>\n",
       "      <td>Arkansas</td>\n",
       "      <td>Arkansas</td>\n",
       "      <td>3030522</td>\n",
       "    </tr>\n",
       "    <tr>\n",
       "      <th>116</th>\n",
       "      <td>Arkansas</td>\n",
       "      <td>Arkansas County</td>\n",
       "      <td>17383</td>\n",
       "    </tr>\n",
       "    <tr>\n",
       "      <th>117</th>\n",
       "      <td>Arkansas</td>\n",
       "      <td>Ashley County</td>\n",
       "      <td>19339</td>\n",
       "    </tr>\n",
       "    <tr>\n",
       "      <th>118</th>\n",
       "      <td>Arkansas</td>\n",
       "      <td>Baxter County</td>\n",
       "      <td>42242</td>\n",
       "    </tr>\n",
       "    <tr>\n",
       "      <th>119</th>\n",
       "      <td>Arkansas</td>\n",
       "      <td>Benton County</td>\n",
       "      <td>288774</td>\n",
       "    </tr>\n",
       "  </tbody>\n",
       "</table>\n",
       "</div>"
      ],
      "text/plain": [
       "        state             county population\n",
       "100   Arizona      Apache County      71875\n",
       "101   Arizona     Cochise County     127450\n",
       "102   Arizona    Coconino County     142481\n",
       "103   Arizona        Gila County      54303\n",
       "104   Arizona      Graham County      39211\n",
       "105   Arizona    Greenlee County       9341\n",
       "106   Arizona      La Paz County      21480\n",
       "107   Arizona    Maricopa County    4579081\n",
       "108   Arizona      Mohave County     217206\n",
       "109   Arizona      Navajo County     112112\n",
       "110   Arizona        Pima County    1061175\n",
       "111   Arizona       Pinal County     480828\n",
       "112   Arizona  Santa Cruz County      46808\n",
       "113   Arizona     Yavapai County     240226\n",
       "114   Arizona        Yuma County     217824\n",
       "115  Arkansas           Arkansas    3030522\n",
       "116  Arkansas    Arkansas County      17383\n",
       "117  Arkansas      Ashley County      19339\n",
       "118  Arkansas      Baxter County      42242\n",
       "119  Arkansas      Benton County     288774"
      ]
     },
     "execution_count": 3,
     "metadata": {},
     "output_type": "execute_result"
    }
   ],
   "source": [
    "pop.columns=[['state','county','population']]\n",
    "pop[100:120]"
   ]
  },
  {
   "cell_type": "code",
   "execution_count": 4,
   "id": "a3f485f5",
   "metadata": {},
   "outputs": [
    {
     "name": "stdout",
     "output_type": "stream",
     "text": [
      "pop shape (3194, 3) \n",
      "\n"
     ]
    },
    {
     "data": {
      "text/plain": [
       "[('county',)]"
      ]
     },
     "execution_count": 4,
     "metadata": {},
     "output_type": "execute_result"
    }
   ],
   "source": [
    "print('pop shape {} \\n'.format(pop.shape))\n",
    "\n",
    "pop.loc[:,'county']\n",
    "x=list(pop.loc[:,'county'])\n",
    "x"
   ]
  }
 ],
 "metadata": {
  "kernelspec": {
   "display_name": "Python 3",
   "language": "python",
   "name": "python3"
  },
  "language_info": {
   "codemirror_mode": {
    "name": "ipython",
    "version": 3
   },
   "file_extension": ".py",
   "mimetype": "text/x-python",
   "name": "python",
   "nbconvert_exporter": "python",
   "pygments_lexer": "ipython3",
   "version": "3.8.8"
  }
 },
 "nbformat": 4,
 "nbformat_minor": 5
}
