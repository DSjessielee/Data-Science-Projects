{
 "cells": [
  {
   "cell_type": "markdown",
   "id": "ffc5349d",
   "metadata": {},
   "source": [
    "# Covid Vaccine Coverage Prediction - an Update\n",
    "This project is to use the themes of each county in United States to predict the outcome of vaccine coverage.\n",
    "The target is to predict the vaccine rate, which is updated daily. We used the data up to 7/21/2021 for calibration\n",
    "The purpose if to identify the area of concerns\n"
   ]
  },
  {
   "cell_type": "code",
   "execution_count": 1,
   "id": "7120d4de",
   "metadata": {},
   "outputs": [
    {
     "name": "stdout",
     "output_type": "stream",
     "text": [
      "Populating the interactive namespace from numpy and matplotlib\n",
      "Populating the interactive namespace from numpy and matplotlib\n"
     ]
    }
   ],
   "source": [
    "from pandas import Series, DataFrame\n",
    "import pandas as pd\n",
    "%pylab inline\n",
    "import IPython\n",
    "import pandas as pd\n",
    "import numpy as np\n",
    "import scipy as sp\n",
    "import pandas as pd\n",
    "import matplotlib.pyplot as plt\n",
    "import seaborn as sn\n",
    "import sklearn as sk\n",
    "import statsmodels.formula.api as smf\n",
    "import statsmodels.api as sm\n",
    "import os\n",
    "from sklearn.datasets import load_boston\n",
    "from sklearn.ensemble import RandomForestRegressor\n",
    "from sklearn.model_selection import train_test_split\n",
    "from matplotlib.lines import Line2D\n",
    "from scipy.stats import pearsonr\n",
    "from sklearn.model_selection import train_test_split\n",
    "from sklearn.neighbors import KNeighborsRegressor\n",
    "from sklearn.preprocessing import StandardScaler\n",
    "from sklearn import metrics\n",
    "import time\n",
    "from pandas import Series, DataFrame\n",
    "import pandas as pd\n",
    "%pylab inline"
   ]
  },
  {
   "cell_type": "code",
   "execution_count": 2,
   "id": "c58f22a1",
   "metadata": {},
   "outputs": [
    {
     "name": "stderr",
     "output_type": "stream",
     "text": [
      "C:\\ProgramData\\Anaconda3\\lib\\site-packages\\IPython\\core\\interactiveshell.py:3165: DtypeWarning: Columns (1,23,24,25,26) have mixed types.Specify dtype option on import or set low_memory=False.\n",
      "  has_raised = await self.run_ast_nodes(code_ast.body, cell_name,\n"
     ]
    }
   ],
   "source": [
    "#Daily vaccination administration data from cdc up to 7/31\n",
    "#source:https://data.cdc.gov/Vaccinations/COVID-19-Vaccinations-in-the-United-States-Jurisdi/unsk-b7fc\n",
    "vac_admin = pd.read_csv('vac_county.csv')\n",
    "\n",
    "#Vaccination hesitance survey result by states and county\n",
    "#source: https://data.cdc.gov/stories/s/cnd2-a6zw\n",
    "vac_h = pd.read_csv('vac_hesi_county.csv')\n",
    "vac_h=vac_h.dropna()\n",
    "\n",
    "#Vaccination coverage index by states and county\n",
    "#source:https://vaccine.precisionforcovid.org/\n",
    "vac_c = pd.read_csv('cvac_county.csv')\n",
    "vac_c_sub=pd.read_csv('cvac_sub_county.csv')\n",
    "\n",
    "#political data from 2020 election\n",
    "poli=pd.read_csv('poli_county1.csv')\n",
    "\n",
    "#2020 Us census data for state population\n",
    "#source: https://www.census.gov/data/tables/2020/dec/2020-apportionment-data.html\n",
    "pop = pd.read_csv('pop_county.csv')"
   ]
  },
  {
   "cell_type": "code",
   "execution_count": 3,
   "id": "3c1cb0d0",
   "metadata": {},
   "outputs": [],
   "source": [
    "us_state_abbrev = {\n",
    "    'Alabama': 'AL',\n",
    "    'Alaska': 'AK',\n",
    "    'American Samoa': 'AS',\n",
    "    'Arizona': 'AZ',\n",
    "    'Arkansas': 'AR',\n",
    "    'California': 'CA',\n",
    "    'Colorado': 'CO',\n",
    "    'Connecticut': 'CT',\n",
    "    'Delaware': 'DE',\n",
    "    'District of Columbia': 'DC',\n",
    "    'Florida': 'FL',\n",
    "    'Georgia': 'GA',\n",
    "    'Guam': 'GU',\n",
    "    'Hawaii': 'HI',\n",
    "    'Idaho': 'ID',\n",
    "    'Illinois': 'IL',\n",
    "    'Indiana': 'IN',\n",
    "    'Iowa': 'IA',\n",
    "    'Kansas': 'KS',\n",
    "    'Kentucky': 'KY',\n",
    "    'Louisiana': 'LA',\n",
    "    'Maine': 'ME',\n",
    "    'Maryland': 'MD',\n",
    "    'Massachusetts': 'MA',\n",
    "    'Michigan': 'MI',\n",
    "    'Minnesota': 'MN',\n",
    "    'Mississippi': 'MS',\n",
    "    'Missouri': 'MO',\n",
    "    'Montana': 'MT',\n",
    "    'Nebraska': 'NE',\n",
    "    'Nevada': 'NV',\n",
    "    'New Hampshire': 'NH',\n",
    "    'New Jersey': 'NJ',\n",
    "    'New Mexico': 'NM',\n",
    "    'New York': 'NY',\n",
    "    'North Carolina': 'NC',\n",
    "    'North Dakota': 'ND',\n",
    "    'Northern Mariana Islands':'MP',\n",
    "    'Ohio': 'OH',\n",
    "    'Oklahoma': 'OK',\n",
    "    'Oregon': 'OR',\n",
    "    'Pennsylvania': 'PA',\n",
    "    'Puerto Rico': 'PR',\n",
    "    'Rhode Island': 'RI',\n",
    "    'South Carolina': 'SC',\n",
    "    'South Dakota': 'SD',\n",
    "    'Tennessee': 'TN',\n",
    "    'Texas': 'TX',\n",
    "    'Utah': 'UT',\n",
    "    'Vermont': 'VT',\n",
    "    'Virgin Islands': 'VI',\n",
    "    'Virginia': 'VA',\n",
    "    'Washington': 'WA',\n",
    "    'West Virginia': 'WV',\n",
    "    'Wisconsin': 'WI',\n",
    "    'Wyoming': 'WY'\n",
    "}\n",
    "\n",
    "def state_abbrev(x):\n",
    "    \n",
    "    '''\n",
    "    This function converts full US tates name into abbreviated version.\n",
    "    '''\n",
    "    for key, value in us_state_abbrev.items():\n",
    "        if x==key:\n",
    "            return value\n",
    "\n",
    "def state_full(x):\n",
    "    '''\n",
    "    This function converts abbreviated US tates name into full version.\n",
    "    '''\n",
    "    for key, value in us_state_abbrev.items():\n",
    "        if x==value:\n",
    "            return key\n"
   ]
  },
  {
   "cell_type": "markdown",
   "id": "b033c230",
   "metadata": {},
   "source": [
    "# Population"
   ]
  },
  {
   "cell_type": "code",
   "execution_count": 4,
   "id": "9c8f3f06",
   "metadata": {},
   "outputs": [],
   "source": [
    "pop.columns=['state','county','population']"
   ]
  },
  {
   "cell_type": "code",
   "execution_count": 5,
   "id": "b60d8513",
   "metadata": {},
   "outputs": [],
   "source": [
    "pop['st']=pop['state'].map(state_abbrev)\n",
    "pop['st_cty']=pop['st']+' '+pop['county']"
   ]
  },
  {
   "cell_type": "code",
   "execution_count": 6,
   "id": "e4f62f28",
   "metadata": {},
   "outputs": [
    {
     "data": {
      "text/html": [
       "<div>\n",
       "<style scoped>\n",
       "    .dataframe tbody tr th:only-of-type {\n",
       "        vertical-align: middle;\n",
       "    }\n",
       "\n",
       "    .dataframe tbody tr th {\n",
       "        vertical-align: top;\n",
       "    }\n",
       "\n",
       "    .dataframe thead th {\n",
       "        text-align: right;\n",
       "    }\n",
       "</style>\n",
       "<table border=\"1\" class=\"dataframe\">\n",
       "  <thead>\n",
       "    <tr style=\"text-align: right;\">\n",
       "      <th></th>\n",
       "      <th>st_cty</th>\n",
       "      <th>population</th>\n",
       "    </tr>\n",
       "  </thead>\n",
       "  <tbody>\n",
       "    <tr>\n",
       "      <th>0</th>\n",
       "      <td>AL Alabama</td>\n",
       "      <td>4921532</td>\n",
       "    </tr>\n",
       "    <tr>\n",
       "      <th>1</th>\n",
       "      <td>AL Autauga County</td>\n",
       "      <td>56145</td>\n",
       "    </tr>\n",
       "    <tr>\n",
       "      <th>2</th>\n",
       "      <td>AL Baldwin County</td>\n",
       "      <td>229287</td>\n",
       "    </tr>\n",
       "    <tr>\n",
       "      <th>3</th>\n",
       "      <td>AL Barbour County</td>\n",
       "      <td>24589</td>\n",
       "    </tr>\n",
       "    <tr>\n",
       "      <th>4</th>\n",
       "      <td>AL Bibb County</td>\n",
       "      <td>22136</td>\n",
       "    </tr>\n",
       "    <tr>\n",
       "      <th>...</th>\n",
       "      <td>...</td>\n",
       "      <td>...</td>\n",
       "    </tr>\n",
       "    <tr>\n",
       "      <th>3189</th>\n",
       "      <td>WY Sweetwater County</td>\n",
       "      <td>42673</td>\n",
       "    </tr>\n",
       "    <tr>\n",
       "      <th>3190</th>\n",
       "      <td>WY Teton County</td>\n",
       "      <td>23497</td>\n",
       "    </tr>\n",
       "    <tr>\n",
       "      <th>3191</th>\n",
       "      <td>WY Uinta County</td>\n",
       "      <td>20215</td>\n",
       "    </tr>\n",
       "    <tr>\n",
       "      <th>3192</th>\n",
       "      <td>WY Washakie County</td>\n",
       "      <td>7760</td>\n",
       "    </tr>\n",
       "    <tr>\n",
       "      <th>3193</th>\n",
       "      <td>WY Weston County</td>\n",
       "      <td>6743</td>\n",
       "    </tr>\n",
       "  </tbody>\n",
       "</table>\n",
       "<p>3194 rows × 2 columns</p>\n",
       "</div>"
      ],
      "text/plain": [
       "                    st_cty  population\n",
       "0               AL Alabama     4921532\n",
       "1        AL Autauga County       56145\n",
       "2        AL Baldwin County      229287\n",
       "3        AL Barbour County       24589\n",
       "4           AL Bibb County       22136\n",
       "...                    ...         ...\n",
       "3189  WY Sweetwater County       42673\n",
       "3190       WY Teton County       23497\n",
       "3191       WY Uinta County       20215\n",
       "3192    WY Washakie County        7760\n",
       "3193      WY Weston County        6743\n",
       "\n",
       "[3194 rows x 2 columns]"
      ]
     },
     "execution_count": 6,
     "metadata": {},
     "output_type": "execute_result"
    }
   ],
   "source": [
    "pop=pop[['st_cty','population']]\n",
    "pop"
   ]
  },
  {
   "cell_type": "code",
   "execution_count": 7,
   "id": "a3f485f5",
   "metadata": {},
   "outputs": [],
   "source": [
    "#print('pop shape {} \\n'.format(pop.shape))\n",
    "\n",
    "#county_list=pop['county'].tolist()\n",
    "#pop['st_cty']=pop['state']+\n",
    "\n",
    "#len(county_list)"
   ]
  },
  {
   "cell_type": "markdown",
   "id": "fcccddfa",
   "metadata": {},
   "source": [
    "# Vaccination status"
   ]
  },
  {
   "cell_type": "code",
   "execution_count": 8,
   "id": "eb4d171a",
   "metadata": {},
   "outputs": [
    {
     "data": {
      "text/plain": [
       "Index(['Date', 'FIPS', 'MMWR_week', 'Recip_County', 'Recip_State',\n",
       "       'Series_Complete_Pop_Pct', 'Series_Complete_Yes',\n",
       "       'Series_Complete_12Plus', 'Series_Complete_12PlusPop_Pct',\n",
       "       'Series_Complete_18Plus', 'Series_Complete_18PlusPop_Pct',\n",
       "       'Series_Complete_65Plus', 'Series_Complete_65PlusPop_Pct',\n",
       "       'Completeness_pct', 'Administered_Dose1_Recip',\n",
       "       'Administered_Dose1_Pop_Pct', 'Administered_Dose1_Recip_12Plus',\n",
       "       'Administered_Dose1_Recip_12PlusPop_Pct',\n",
       "       'Administered_Dose1_Recip_18Plus',\n",
       "       'Administered_Dose1_Recip_18PlusPop_Pct',\n",
       "       'Administered_Dose1_Recip_65Plus',\n",
       "       'Administered_Dose1_Recip_65PlusPop_Pct', 'SVI_CTGY',\n",
       "       'Series_Complete_Pop_Pct_SVI', 'Series_Complete_12PlusPop_Pct_SVI',\n",
       "       'Series_Complete_18PlusPop_Pct_SVI',\n",
       "       'Series_Complete_65PlusPop_Pct_SVI'],\n",
       "      dtype='object')"
      ]
     },
     "execution_count": 8,
     "metadata": {},
     "output_type": "execute_result"
    }
   ],
   "source": [
    "vac_admin.columns"
   ]
  },
  {
   "cell_type": "code",
   "execution_count": 9,
   "id": "351c8133",
   "metadata": {},
   "outputs": [
    {
     "data": {
      "text/plain": [
       "290250    99.9\n",
       "106649    99.9\n",
       "28904     99.9\n",
       "318172    99.9\n",
       "164230    99.9\n",
       "          ... \n",
       "48810      0.0\n",
       "576740     0.0\n",
       "48797      0.0\n",
       "48791      0.0\n",
       "757899     0.0\n",
       "Name: Administered_Dose1_Pop_Pct, Length: 757900, dtype: float64"
      ]
     },
     "execution_count": 9,
     "metadata": {},
     "output_type": "execute_result"
    }
   ],
   "source": [
    "vac_admin['Administered_Dose1_Pop_Pct'].sort_values(ascending=False)"
   ]
  },
  {
   "cell_type": "code",
   "execution_count": 10,
   "id": "3cebfb7d",
   "metadata": {},
   "outputs": [
    {
     "data": {
      "text/html": [
       "<div>\n",
       "<style scoped>\n",
       "    .dataframe tbody tr th:only-of-type {\n",
       "        vertical-align: middle;\n",
       "    }\n",
       "\n",
       "    .dataframe tbody tr th {\n",
       "        vertical-align: top;\n",
       "    }\n",
       "\n",
       "    .dataframe thead th {\n",
       "        text-align: right;\n",
       "    }\n",
       "</style>\n",
       "<table border=\"1\" class=\"dataframe\">\n",
       "  <thead>\n",
       "    <tr style=\"text-align: right;\">\n",
       "      <th></th>\n",
       "      <th>st_cty</th>\n",
       "      <th>vac_rate</th>\n",
       "    </tr>\n",
       "  </thead>\n",
       "  <tbody>\n",
       "    <tr>\n",
       "      <th>0</th>\n",
       "      <td>AK Aleutians East Borough</td>\n",
       "      <td>72.3</td>\n",
       "    </tr>\n",
       "    <tr>\n",
       "      <th>1</th>\n",
       "      <td>AK Aleutians West Census Area</td>\n",
       "      <td>61.5</td>\n",
       "    </tr>\n",
       "    <tr>\n",
       "      <th>2</th>\n",
       "      <td>AK Anchorage Municipality</td>\n",
       "      <td>55.6</td>\n",
       "    </tr>\n",
       "    <tr>\n",
       "      <th>3</th>\n",
       "      <td>AK Bethel Census Area</td>\n",
       "      <td>56.5</td>\n",
       "    </tr>\n",
       "    <tr>\n",
       "      <th>4</th>\n",
       "      <td>AK Bristol Bay Borough</td>\n",
       "      <td>99.9</td>\n",
       "    </tr>\n",
       "    <tr>\n",
       "      <th>...</th>\n",
       "      <td>...</td>\n",
       "      <td>...</td>\n",
       "    </tr>\n",
       "    <tr>\n",
       "      <th>3277</th>\n",
       "      <td>WY Teton County</td>\n",
       "      <td>82.0</td>\n",
       "    </tr>\n",
       "    <tr>\n",
       "      <th>3278</th>\n",
       "      <td>WY Uinta County</td>\n",
       "      <td>37.2</td>\n",
       "    </tr>\n",
       "    <tr>\n",
       "      <th>3279</th>\n",
       "      <td>WY Unknown County</td>\n",
       "      <td>0.0</td>\n",
       "    </tr>\n",
       "    <tr>\n",
       "      <th>3280</th>\n",
       "      <td>WY Washakie County</td>\n",
       "      <td>33.8</td>\n",
       "    </tr>\n",
       "    <tr>\n",
       "      <th>3281</th>\n",
       "      <td>WY Weston County</td>\n",
       "      <td>29.4</td>\n",
       "    </tr>\n",
       "  </tbody>\n",
       "</table>\n",
       "<p>3282 rows × 2 columns</p>\n",
       "</div>"
      ],
      "text/plain": [
       "                             st_cty  vac_rate\n",
       "0         AK Aleutians East Borough      72.3\n",
       "1     AK Aleutians West Census Area      61.5\n",
       "2         AK Anchorage Municipality      55.6\n",
       "3             AK Bethel Census Area      56.5\n",
       "4            AK Bristol Bay Borough      99.9\n",
       "...                             ...       ...\n",
       "3277                WY Teton County      82.0\n",
       "3278                WY Uinta County      37.2\n",
       "3279              WY Unknown County       0.0\n",
       "3280             WY Washakie County      33.8\n",
       "3281               WY Weston County      29.4\n",
       "\n",
       "[3282 rows x 2 columns]"
      ]
     },
     "execution_count": 10,
     "metadata": {},
     "output_type": "execute_result"
    }
   ],
   "source": [
    "temp=vac_admin.groupby(['Recip_State','Recip_County'])['Administered_Dose1_Pop_Pct'].agg('max')\n",
    "\n",
    "temp=temp.reset_index()\n",
    "temp['st_cty']=temp['Recip_State']+' '+temp['Recip_County']\n",
    "vac=temp[['st_cty','Administered_Dose1_Pop_Pct']]\n",
    "vac.columns=['st_cty','vac_rate']\n",
    "vac"
   ]
  },
  {
   "cell_type": "markdown",
   "id": "82ffa326",
   "metadata": {},
   "source": [
    "# Vaccine hesitation"
   ]
  },
  {
   "cell_type": "markdown",
   "id": "6c5c3c35",
   "metadata": {},
   "source": [
    "cty_name=list(vac['st_cty'])\n",
    "\n",
    "def match(x):\n",
    "    for name in cty_name:\n",
    "        if (x['county'] in name)&(x['state'] in name):\n",
    "            return name"
   ]
  },
  {
   "cell_type": "markdown",
   "id": "abba5e95",
   "metadata": {},
   "source": [
    "vac_h.iloc[:,0:2]"
   ]
  },
  {
   "cell_type": "markdown",
   "id": "c0e538fc",
   "metadata": {},
   "source": [
    "vac_h['st_cty']=vac_h.iloc[:,0:2].T.apply(match)"
   ]
  },
  {
   "cell_type": "markdown",
   "id": "20ede879",
   "metadata": {},
   "source": [
    "vac_h = vac_h.rename(columns = {'% Estimated Hesitant or Unsure - May 26 - June 7, 2021':'low', '% Estimated Hesitant-  May 26 - June 7, 2021':'medium', '% Estimated Strongly Hesitant-  May 26 - June 7, 2021':'high'})"
   ]
  },
  {
   "cell_type": "markdown",
   "id": "46721046",
   "metadata": {},
   "source": [
    "vac_h=vac_h[['st_cty','low', 'medium', 'high']]\n"
   ]
  },
  {
   "cell_type": "markdown",
   "id": "7668cd75",
   "metadata": {},
   "source": [
    "vac_h['tot_hesi']=vac_h['low']+vac_h['medium']+vac_h['high']\n",
    "vac_h"
   ]
  },
  {
   "cell_type": "code",
   "execution_count": 13,
   "id": "78755ce8",
   "metadata": {},
   "outputs": [],
   "source": [
    "vac_h=pd.read_csv('vac_h.csv')"
   ]
  },
  {
   "cell_type": "code",
   "execution_count": null,
   "id": "3480a803",
   "metadata": {},
   "outputs": [],
   "source": []
  },
  {
   "cell_type": "markdown",
   "id": "a4d08173",
   "metadata": {},
   "source": [
    "# Vaccine Coverage"
   ]
  },
  {
   "cell_type": "code",
   "execution_count": 14,
   "id": "25cbb632",
   "metadata": {},
   "outputs": [
    {
     "data": {
      "text/html": [
       "<div>\n",
       "<style scoped>\n",
       "    .dataframe tbody tr th:only-of-type {\n",
       "        vertical-align: middle;\n",
       "    }\n",
       "\n",
       "    .dataframe tbody tr th {\n",
       "        vertical-align: top;\n",
       "    }\n",
       "\n",
       "    .dataframe thead th {\n",
       "        text-align: right;\n",
       "    }\n",
       "</style>\n",
       "<table border=\"1\" class=\"dataframe\">\n",
       "  <thead>\n",
       "    <tr style=\"text-align: right;\">\n",
       "      <th></th>\n",
       "      <th>st_cty</th>\n",
       "      <th>Th1_Historic_Undervaccination</th>\n",
       "      <th>Th2_Sociodemographic_Barriers</th>\n",
       "      <th>Th3_Resource_constrained_Healthcare_System</th>\n",
       "      <th>Th4_Healthcare_Accessibility_Barriers</th>\n",
       "      <th>Th5_Irregular_Care_Seeking_Behavior</th>\n",
       "    </tr>\n",
       "  </thead>\n",
       "  <tbody>\n",
       "    <tr>\n",
       "      <th>0</th>\n",
       "      <td>AL Autauga County</td>\n",
       "      <td>0.419612</td>\n",
       "      <td>0.231455</td>\n",
       "      <td>0.827762</td>\n",
       "      <td>0.484241</td>\n",
       "      <td>0.830309</td>\n",
       "    </tr>\n",
       "    <tr>\n",
       "      <th>1</th>\n",
       "      <td>AL Baldwin County</td>\n",
       "      <td>0.228590</td>\n",
       "      <td>0.150271</td>\n",
       "      <td>0.170965</td>\n",
       "      <td>0.391277</td>\n",
       "      <td>0.726839</td>\n",
       "    </tr>\n",
       "    <tr>\n",
       "      <th>2</th>\n",
       "      <td>AL Barbour County</td>\n",
       "      <td>0.505571</td>\n",
       "      <td>0.991404</td>\n",
       "      <td>0.621777</td>\n",
       "      <td>0.966253</td>\n",
       "      <td>0.694683</td>\n",
       "    </tr>\n",
       "    <tr>\n",
       "      <th>3</th>\n",
       "      <td>AL Bibb County</td>\n",
       "      <td>0.410060</td>\n",
       "      <td>0.888252</td>\n",
       "      <td>0.335880</td>\n",
       "      <td>0.842089</td>\n",
       "      <td>0.834448</td>\n",
       "    </tr>\n",
       "    <tr>\n",
       "      <th>4</th>\n",
       "      <td>AL Blount County</td>\n",
       "      <td>0.440306</td>\n",
       "      <td>0.716014</td>\n",
       "      <td>0.850684</td>\n",
       "      <td>0.580388</td>\n",
       "      <td>0.837950</td>\n",
       "    </tr>\n",
       "    <tr>\n",
       "      <th>...</th>\n",
       "      <td>...</td>\n",
       "      <td>...</td>\n",
       "      <td>...</td>\n",
       "      <td>...</td>\n",
       "      <td>...</td>\n",
       "      <td>...</td>\n",
       "    </tr>\n",
       "    <tr>\n",
       "      <th>3137</th>\n",
       "      <td>WY Sweetwater County</td>\n",
       "      <td>0.951926</td>\n",
       "      <td>0.201210</td>\n",
       "      <td>0.318370</td>\n",
       "      <td>0.264565</td>\n",
       "      <td>0.923910</td>\n",
       "    </tr>\n",
       "    <tr>\n",
       "      <th>3138</th>\n",
       "      <td>WY Teton County</td>\n",
       "      <td>0.913403</td>\n",
       "      <td>0.115568</td>\n",
       "      <td>0.021331</td>\n",
       "      <td>0.314550</td>\n",
       "      <td>0.923591</td>\n",
       "    </tr>\n",
       "    <tr>\n",
       "      <th>3139</th>\n",
       "      <td>WY Uinta County</td>\n",
       "      <td>0.942057</td>\n",
       "      <td>0.152499</td>\n",
       "      <td>0.049666</td>\n",
       "      <td>0.353709</td>\n",
       "      <td>0.913085</td>\n",
       "    </tr>\n",
       "    <tr>\n",
       "      <th>3140</th>\n",
       "      <td>WY Washakie County</td>\n",
       "      <td>0.980579</td>\n",
       "      <td>0.375040</td>\n",
       "      <td>0.168099</td>\n",
       "      <td>0.642789</td>\n",
       "      <td>0.899713</td>\n",
       "    </tr>\n",
       "    <tr>\n",
       "      <th>3141</th>\n",
       "      <td>WY Weston County</td>\n",
       "      <td>0.991404</td>\n",
       "      <td>0.090099</td>\n",
       "      <td>0.216173</td>\n",
       "      <td>0.306909</td>\n",
       "      <td>0.912130</td>\n",
       "    </tr>\n",
       "  </tbody>\n",
       "</table>\n",
       "<p>3142 rows × 6 columns</p>\n",
       "</div>"
      ],
      "text/plain": [
       "                    st_cty  Th1_Historic_Undervaccination  \\\n",
       "0        AL Autauga County                       0.419612   \n",
       "1        AL Baldwin County                       0.228590   \n",
       "2        AL Barbour County                       0.505571   \n",
       "3           AL Bibb County                       0.410060   \n",
       "4         AL Blount County                       0.440306   \n",
       "...                    ...                            ...   \n",
       "3137  WY Sweetwater County                       0.951926   \n",
       "3138       WY Teton County                       0.913403   \n",
       "3139       WY Uinta County                       0.942057   \n",
       "3140    WY Washakie County                       0.980579   \n",
       "3141      WY Weston County                       0.991404   \n",
       "\n",
       "      Th2_Sociodemographic_Barriers  \\\n",
       "0                          0.231455   \n",
       "1                          0.150271   \n",
       "2                          0.991404   \n",
       "3                          0.888252   \n",
       "4                          0.716014   \n",
       "...                             ...   \n",
       "3137                       0.201210   \n",
       "3138                       0.115568   \n",
       "3139                       0.152499   \n",
       "3140                       0.375040   \n",
       "3141                       0.090099   \n",
       "\n",
       "      Th3_Resource_constrained_Healthcare_System  \\\n",
       "0                                       0.827762   \n",
       "1                                       0.170965   \n",
       "2                                       0.621777   \n",
       "3                                       0.335880   \n",
       "4                                       0.850684   \n",
       "...                                          ...   \n",
       "3137                                    0.318370   \n",
       "3138                                    0.021331   \n",
       "3139                                    0.049666   \n",
       "3140                                    0.168099   \n",
       "3141                                    0.216173   \n",
       "\n",
       "      Th4_Healthcare_Accessibility_Barriers  \\\n",
       "0                                  0.484241   \n",
       "1                                  0.391277   \n",
       "2                                  0.966253   \n",
       "3                                  0.842089   \n",
       "4                                  0.580388   \n",
       "...                                     ...   \n",
       "3137                               0.264565   \n",
       "3138                               0.314550   \n",
       "3139                               0.353709   \n",
       "3140                               0.642789   \n",
       "3141                               0.306909   \n",
       "\n",
       "      Th5_Irregular_Care_Seeking_Behavior  \n",
       "0                                0.830309  \n",
       "1                                0.726839  \n",
       "2                                0.694683  \n",
       "3                                0.834448  \n",
       "4                                0.837950  \n",
       "...                                   ...  \n",
       "3137                             0.923910  \n",
       "3138                             0.923591  \n",
       "3139                             0.913085  \n",
       "3140                             0.899713  \n",
       "3141                             0.912130  \n",
       "\n",
       "[3142 rows x 6 columns]"
      ]
     },
     "execution_count": 14,
     "metadata": {},
     "output_type": "execute_result"
    }
   ],
   "source": [
    "vac_c['st']=vac_c['state'].map(state_abbrev)\n",
    "vac_c['st_cty']=vac_c['st']+' '+vac_c['county']\n",
    "temp1=vac_c[['st_cty',\n",
    "             'Th1_Historic_Undervaccination',\n",
    "             'Th2_Sociodemographic_Barriers',\n",
    "             'Th3_Resource_constrained_Healthcare_System',\n",
    "             'Th4_Healthcare_Accessibility_Barriers',\n",
    "             'Th5_Irregular_Care_Seeking_Behavior']]\n",
    "temp1"
   ]
  },
  {
   "cell_type": "code",
   "execution_count": null,
   "id": "852a7575",
   "metadata": {},
   "outputs": [],
   "source": [
    "#Ignore this... These are for subthemes\n",
    "\n",
    "vac_c_sub['st']=vac_c['state'].map(state_abbrev)\n",
    "vac_c_sub['st_cty']=vac_c['st']+' '+vac_c['county']\n",
    "vac_c_sub.columns\n",
    "temp2=vac_c_sub[['st_cty',\n",
    "                 'Th1_Lower Coverage and Higher Refusal Rates',\n",
    "       'Th2_Lack of Access to Infomation',\n",
    "       'Th2_Socio-economically disadvantaged',\n",
    "       'Th3_Low Healthcare System Capacity', 'Th3_Weak Healthcare System',\n",
    "       'Th4_Barriers due to cost', 'Th4_Barriers due to Transportation',\n",
    "       'Th5_Lack of Designated Medical Home',\n",
    "       'Th5_Lack of Routine Care Visits',\n",
    "                ]]\n",
    "temp2"
   ]
  },
  {
   "cell_type": "markdown",
   "id": "c36c49fe",
   "metadata": {},
   "source": [
    "# Political Dataset"
   ]
  },
  {
   "cell_type": "code",
   "execution_count": null,
   "id": "44dd0511",
   "metadata": {},
   "outputs": [],
   "source": [
    "#poli.groupby(['state','county'])['votes'].idxmax()[2000:2020]"
   ]
  },
  {
   "cell_type": "code",
   "execution_count": null,
   "id": "cbcd3619",
   "metadata": {},
   "outputs": [],
   "source": [
    "poli.rename(columns = {'state_po':'state', 'county_name':'county'}, inplace = True)\n",
    "poli"
   ]
  },
  {
   "cell_type": "code",
   "execution_count": null,
   "id": "ac0f9432",
   "metadata": {},
   "outputs": [],
   "source": [
    "poli['st_cty']=poli.iloc[:,0:2].T.apply(match)"
   ]
  },
  {
   "cell_type": "code",
   "execution_count": null,
   "id": "e4f7ff40",
   "metadata": {},
   "outputs": [],
   "source": [
    "poli"
   ]
  },
  {
   "cell_type": "code",
   "execution_count": null,
   "id": "37368e79",
   "metadata": {},
   "outputs": [],
   "source": [
    "poli = poli.loc[poli.groupby('st_cty')['candidatevotes'].idxmax()]"
   ]
  },
  {
   "cell_type": "code",
   "execution_count": null,
   "id": "d3c7a6a5",
   "metadata": {},
   "outputs": [],
   "source": [
    "poli = poli[['st_cty','party']]"
   ]
  },
  {
   "cell_type": "code",
   "execution_count": null,
   "id": "a2a6a838",
   "metadata": {},
   "outputs": [],
   "source": [
    "poli['party'] = poli['party'].map(lambda x: 1 if x == 'DEMOCRAT' else 0)"
   ]
  },
  {
   "cell_type": "code",
   "execution_count": null,
   "id": "e8aaf79f",
   "metadata": {},
   "outputs": [],
   "source": [
    "poli"
   ]
  },
  {
   "cell_type": "code",
   "execution_count": null,
   "id": "5c3259e2",
   "metadata": {},
   "outputs": [],
   "source": [
    "m1=vac.merge(temp1,on='st_cty')\n",
    "m2=m1.merge(vac_h,on='st_cty')\n",
    "m3=m2.merge(vac_c)\n",
    "m4=m3.merge(poli, on = 'st_cty')\n",
    "m4"
   ]
  },
  {
   "cell_type": "code",
   "execution_count": null,
   "id": "5b555a82",
   "metadata": {},
   "outputs": [],
   "source": [
    "m4 = m3.merge(poli, left_on = 'st_cty', right_on = 'stcty')"
   ]
  },
  {
   "cell_type": "code",
   "execution_count": null,
   "id": "ee3c9c33",
   "metadata": {},
   "outputs": [],
   "source": [
    "m3"
   ]
  },
  {
   "cell_type": "code",
   "execution_count": null,
   "id": "f0d5ba2f",
   "metadata": {},
   "outputs": [],
   "source": [
    "vac_2model.sort_values(by='vac_rate',ascending=False)"
   ]
  },
  {
   "cell_type": "markdown",
   "id": "bc541d0a",
   "metadata": {},
   "source": [
    "# Linear regression"
   ]
  },
  {
   "cell_type": "code",
   "execution_count": null,
   "id": "f758c937",
   "metadata": {
    "scrolled": true
   },
   "outputs": [],
   "source": [
    "# Special packages\n",
    "import statsmodels.api as sm\n",
    "from patsy import dmatrices\n",
    "\n",
    "\n",
    "y, X = dmatrices('vac_rate ~ Th1_Historic_Undervaccination + Th2_Sociodemographic_Barriers + Th3_Resource_constrained_Healthcare_System +Th4_Healthcare_Accessibility_Barriers+Th5_Irregular_Care_Seeking_Behavior', data=vac_2model, return_type='dataframe')\n",
    "\n",
    "\n",
    "model = sm.OLS(y, X)       # Set up the model\n",
    "result = model.fit()       # Fit model (find the intercept and slopes)\n",
    "print(result.summary())"
   ]
  },
  {
   "cell_type": "code",
   "execution_count": null,
   "id": "9a561ff3",
   "metadata": {},
   "outputs": [],
   "source": []
  },
  {
   "cell_type": "code",
   "execution_count": null,
   "id": "6a213e3a",
   "metadata": {},
   "outputs": [],
   "source": [
    "# Special packages\n",
    "import statsmodels.api as sm\n",
    "from patsy import dmatrices\n",
    "\n",
    "\n",
    "y, X = dmatrices('Administered_Dose1_Pop_Pct ~ Th1_Historic_Undervaccination + Th2_Sociodemographic_Barriers + Th3_Resource_constrained_Healthcare_System +Th5_Irregular_Care_Seeking_Behavior', data=vac_2model, return_type='dataframe')\n",
    "\n",
    "\n",
    "model = sm.OLS(y, X)       # Set up the model\n",
    "result = model.fit()       # Fit model (find the intercept and slopes)\n",
    "print(result.summary())"
   ]
  },
  {
   "cell_type": "code",
   "execution_count": null,
   "id": "25434c8a",
   "metadata": {},
   "outputs": [],
   "source": [
    "# Special packages\n",
    "import statsmodels.api as sm\n",
    "from patsy import dmatrices\n",
    "\n",
    "\n",
    "y, X = dmatrices('Administered_Dose1_Pop_Pct ~ CVAC', data=vac_2model, return_type='dataframe')\n",
    "\n",
    "\n",
    "model = sm.OLS(y, X)       # Set up the model\n",
    "result = model.fit()       # Fit model (find the intercept and slopes)\n",
    "print(result.summary())"
   ]
  },
  {
   "cell_type": "markdown",
   "id": "f1df26b6",
   "metadata": {},
   "source": [
    "# Random Forest"
   ]
  },
  {
   "cell_type": "code",
   "execution_count": null,
   "id": "4a32199d",
   "metadata": {},
   "outputs": [],
   "source": []
  },
  {
   "cell_type": "code",
   "execution_count": null,
   "id": "8abff147",
   "metadata": {},
   "outputs": [],
   "source": []
  },
  {
   "cell_type": "code",
   "execution_count": null,
   "id": "ccf6b32f",
   "metadata": {},
   "outputs": [],
   "source": []
  }
 ],
 "metadata": {
  "kernelspec": {
   "display_name": "Python 3",
   "language": "python",
   "name": "python3"
  },
  "language_info": {
   "codemirror_mode": {
    "name": "ipython",
    "version": 3
   },
   "file_extension": ".py",
   "mimetype": "text/x-python",
   "name": "python",
   "nbconvert_exporter": "python",
   "pygments_lexer": "ipython3",
   "version": "3.8.8"
  }
 },
 "nbformat": 4,
 "nbformat_minor": 5
}
