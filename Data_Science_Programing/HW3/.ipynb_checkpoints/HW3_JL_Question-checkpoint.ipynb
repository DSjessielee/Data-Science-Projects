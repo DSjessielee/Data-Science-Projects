{
 "cells": [
  {
   "cell_type": "markdown",
   "id": "1c4c57be",
   "metadata": {},
   "source": [
    "# HW3\n"
   ]
  },
  {
   "cell_type": "code",
   "execution_count": 30,
   "id": "baa4822f",
   "metadata": {},
   "outputs": [
    {
     "data": {
      "text/html": [
       "<div>\n",
       "<style scoped>\n",
       "    .dataframe tbody tr th:only-of-type {\n",
       "        vertical-align: middle;\n",
       "    }\n",
       "\n",
       "    .dataframe tbody tr th {\n",
       "        vertical-align: top;\n",
       "    }\n",
       "\n",
       "    .dataframe thead tr th {\n",
       "        text-align: left;\n",
       "    }\n",
       "\n",
       "    .dataframe thead tr:last-of-type th {\n",
       "        text-align: right;\n",
       "    }\n",
       "</style>\n",
       "<table border=\"1\" class=\"dataframe\">\n",
       "  <thead>\n",
       "    <tr>\n",
       "      <th></th>\n",
       "      <th>counts result 75</th>\n",
       "    </tr>\n",
       "    <tr>\n",
       "      <th>(top_category,)</th>\n",
       "      <th></th>\n",
       "    </tr>\n",
       "  </thead>\n",
       "  <tbody>\n",
       "    <tr>\n",
       "      <th>G</th>\n",
       "      <td>9814</td>\n",
       "    </tr>\n",
       "    <tr>\n",
       "      <th>P</th>\n",
       "      <td>334</td>\n",
       "    </tr>\n",
       "    <tr>\n",
       "      <th>X</th>\n",
       "      <td>329</td>\n",
       "    </tr>\n",
       "    <tr>\n",
       "      <th>R</th>\n",
       "      <td>133</td>\n",
       "    </tr>\n",
       "  </tbody>\n",
       "</table>\n",
       "</div>"
      ],
      "text/plain": [
       "                counts result 75\n",
       "(top_category,)                 \n",
       "G                           9814\n",
       "P                            334\n",
       "X                            329\n",
       "R                            133"
      ]
     },
     "execution_count": 30,
     "metadata": {},
     "output_type": "execute_result"
    }
   ],
   "source": [
    "#to compare the 2 methods...\n",
    "compare=result_75['top_category'].value_counts()\n",
    "compare=pd.DataFrame(compare)\n",
    "compare.columns=[['counts result 75']]\n",
    "compare"
   ]
  },
  {
   "cell_type": "code",
   "execution_count": 31,
   "id": "e9dd5255",
   "metadata": {},
   "outputs": [
    {
     "data": {
      "text/html": [
       "<div>\n",
       "<style scoped>\n",
       "    .dataframe tbody tr th:only-of-type {\n",
       "        vertical-align: middle;\n",
       "    }\n",
       "\n",
       "    .dataframe tbody tr th {\n",
       "        vertical-align: top;\n",
       "    }\n",
       "\n",
       "    .dataframe thead tr th {\n",
       "        text-align: left;\n",
       "    }\n",
       "</style>\n",
       "<table border=\"1\" class=\"dataframe\">\n",
       "  <thead>\n",
       "    <tr>\n",
       "      <th></th>\n",
       "      <th>top_category</th>\n",
       "      <th>counts result 75</th>\n",
       "      <th>counts result 25</th>\n",
       "      <th>difference</th>\n",
       "    </tr>\n",
       "  </thead>\n",
       "  <tbody>\n",
       "    <tr>\n",
       "      <th>0</th>\n",
       "      <td>G</td>\n",
       "      <td>9814</td>\n",
       "      <td>9854</td>\n",
       "      <td>40</td>\n",
       "    </tr>\n",
       "    <tr>\n",
       "      <th>1</th>\n",
       "      <td>P</td>\n",
       "      <td>334</td>\n",
       "      <td>291</td>\n",
       "      <td>43</td>\n",
       "    </tr>\n",
       "    <tr>\n",
       "      <th>2</th>\n",
       "      <td>X</td>\n",
       "      <td>329</td>\n",
       "      <td>437</td>\n",
       "      <td>108</td>\n",
       "    </tr>\n",
       "    <tr>\n",
       "      <th>3</th>\n",
       "      <td>R</td>\n",
       "      <td>133</td>\n",
       "      <td>118</td>\n",
       "      <td>15</td>\n",
       "    </tr>\n",
       "  </tbody>\n",
       "</table>\n",
       "</div>"
      ],
      "text/plain": [
       "  top_category counts result 75 counts result 25 difference\n",
       "0            G             9814             9854         40\n",
       "1            P              334              291         43\n",
       "2            X              329              437        108\n",
       "3            R              133              118         15"
      ]
     },
     "execution_count": 31,
     "metadata": {},
     "output_type": "execute_result"
    }
   ],
   "source": [
    "#calculate the difference url counts in each category\n",
    "compare['counts result 25']=result_25['top_category'].value_counts()\n",
    "\n",
    "#the simple sum/minus function wont work if we dont add .values to the columns\n",
    "compare['difference']=abs(compare['counts result 75'].values-compare['counts result 25'].values)\n",
    "compare.reset_index()"
   ]
  },
  {
   "cell_type": "code",
   "execution_count": 33,
   "id": "940de90f",
   "metadata": {},
   "outputs": [
    {
     "data": {
      "text/html": [
       "<div>\n",
       "<style scoped>\n",
       "    .dataframe tbody tr th:only-of-type {\n",
       "        vertical-align: middle;\n",
       "    }\n",
       "\n",
       "    .dataframe tbody tr th {\n",
       "        vertical-align: top;\n",
       "    }\n",
       "\n",
       "    .dataframe thead th {\n",
       "        text-align: right;\n",
       "    }\n",
       "</style>\n",
       "<table border=\"1\" class=\"dataframe\">\n",
       "  <thead>\n",
       "    <tr style=\"text-align: right;\">\n",
       "      <th></th>\n",
       "      <th>counts result 75</th>\n",
       "      <th>counts result 25</th>\n",
       "      <th>difference</th>\n",
       "    </tr>\n",
       "    <tr>\n",
       "      <th>(top_category,)</th>\n",
       "      <th></th>\n",
       "      <th></th>\n",
       "      <th></th>\n",
       "    </tr>\n",
       "  </thead>\n",
       "  <tbody>\n",
       "    <tr>\n",
       "      <th>G</th>\n",
       "      <td>9814</td>\n",
       "      <td>9814</td>\n",
       "      <td>0</td>\n",
       "    </tr>\n",
       "    <tr>\n",
       "      <th>P</th>\n",
       "      <td>334</td>\n",
       "      <td>334</td>\n",
       "      <td>0</td>\n",
       "    </tr>\n",
       "    <tr>\n",
       "      <th>X</th>\n",
       "      <td>329</td>\n",
       "      <td>329</td>\n",
       "      <td>0</td>\n",
       "    </tr>\n",
       "    <tr>\n",
       "      <th>R</th>\n",
       "      <td>133</td>\n",
       "      <td>133</td>\n",
       "      <td>0</td>\n",
       "    </tr>\n",
       "  </tbody>\n",
       "</table>\n",
       "</div>"
      ],
      "text/plain": [
       "                 counts result 75  counts result 25  difference\n",
       "(top_category,)                                                \n",
       "G                            9814              9814           0\n",
       "P                             334               334           0\n",
       "X                             329               329           0\n",
       "R                             133               133           0"
      ]
     },
     "execution_count": 33,
     "metadata": {},
     "output_type": "execute_result"
    }
   ],
   "source": [
    "#try another way, still wont work... but at least it give number 0's instead of nan's\n",
    "\n",
    "compare_concat=pd.concat([result_75['top_category'].value_counts(), result_75['top_category'].value_counts()], axis=1)\n",
    "compare_concat.columns=['counts result 75', 'counts result 25']\n",
    "compare_concat['difference']=abs(compare_concat['counts result 75']-compare_concat['counts result 25'])\n",
    "compare_concat"
   ]
  },
  {
   "cell_type": "markdown",
   "id": "e3c5b396",
   "metadata": {},
   "source": [
    "**The result 25 predicted 40 more urls in category x, which is biggest difference in numbers between the 2 different models\n",
    "\n",
    "**The Result 25 predicted 15 less urls in catetory R, which is the smallest difference in numbers between the 2 different models\n",
    "\n",
    "**The G,P rated urls, the difference is only 40 and 43, respectively, however, because the overall more urls that are rated G, the fraction is much smaller."
   ]
  },
  {
   "cell_type": "markdown",
   "id": "651bd596",
   "metadata": {},
   "source": [
    "##What if multiple category are tied\n",
    "##How to you access the index/columns"
   ]
  },
  {
   "cell_type": "markdown",
   "id": "325bf021",
   "metadata": {},
   "source": [
    "\n",
    "\n",
    "\n",
    "\n",
    "\n"
   ]
  }
 ],
 "metadata": {
  "kernelspec": {
   "display_name": "Python 3",
   "language": "python",
   "name": "python3"
  },
  "language_info": {
   "codemirror_mode": {
    "name": "ipython",
    "version": 3
   },
   "file_extension": ".py",
   "mimetype": "text/x-python",
   "name": "python",
   "nbconvert_exporter": "python",
   "pygments_lexer": "ipython3",
   "version": "3.8.8"
  }
 },
 "nbformat": 4,
 "nbformat_minor": 5
}
