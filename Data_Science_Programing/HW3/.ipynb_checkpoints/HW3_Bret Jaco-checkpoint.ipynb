{
 "cells": [
  {
   "cell_type": "code",
   "execution_count": 1,
   "id": "d90fa681",
   "metadata": {},
   "outputs": [
    {
     "name": "stdout",
     "output_type": "stream",
     "text": [
      "Populating the interactive namespace from numpy and matplotlib\n"
     ]
    }
   ],
   "source": [
    "from pandas import Series, DataFrame\n",
    "import pandas as pd\n",
    "pd.options.mode.chained_assignment = None\n",
    "%pylab inline"
   ]
  },
  {
   "cell_type": "markdown",
   "id": "93f7d46b",
   "metadata": {},
   "source": [
    "**Q1: Reading in Data [10 points]**"
   ]
  },
  {
   "cell_type": "code",
   "execution_count": 2,
   "id": "b6f1a5d8",
   "metadata": {
    "scrolled": true
   },
   "outputs": [
    {
     "name": "stdout",
     "output_type": "stream",
     "text": [
      "                                      url category\n",
      "0               http://0800-horoscope.com        G\n",
      "1                      http://18games.net        X\n",
      "2                    http://1pixelout.net        G\n",
      "3  http://1porno.com/004/teens/index.html        X\n",
      "4   http://1stpussy.com/005/16/index.html        X\n",
      "1517\n"
     ]
    }
   ],
   "source": [
    "#The data sets are tab separated\n",
    "gold = pd.read_csv(\"gold.txt\", sep=\"\\t\", header=None, names=[\"url\",\"category\"])\n",
    "print(gold.head())\n",
    "print(len(gold))"
   ]
  },
  {
   "cell_type": "code",
   "execution_count": 3,
   "id": "579f3677",
   "metadata": {},
   "outputs": [
    {
     "name": "stdout",
     "output_type": "stream",
     "text": [
      "             turk            url category\n",
      "0  A1OT3A29R9N1DG  http://000.cc        P\n",
      "1  A1PXXEOGQ76RNJ  http://000.cc        G\n",
      "2  A1PXXEOGQ76RNJ  http://000.cc        G\n",
      "3  A21US576U8SCO4  http://000.cc        G\n",
      "4  A2LGX47NN7C5D3  http://000.cc        G\n",
      "92721\n"
     ]
    }
   ],
   "source": [
    "labels = pd.read_csv(\"labels.txt\", sep=\"\\t\", header=None, names=[\"turk\",\"url\",\"category\"])\n",
    "print(labels.head())\n",
    "print(len(labels))"
   ]
  },
  {
   "cell_type": "markdown",
   "id": "582b9b52",
   "metadata": {},
   "source": [
    "**Q2: Splitting labels into 2 DataFrames [10 points]**"
   ]
  },
  {
   "cell_type": "code",
   "execution_count": 4,
   "id": "1c3f13bb",
   "metadata": {},
   "outputs": [
    {
     "name": "stdout",
     "output_type": "stream",
     "text": [
      "               turk                        url category\n",
      "245  A1253FXHCZ9CWM  http://0800-horoscope.com        G\n",
      "246  A153PKAL7OAY36  http://0800-horoscope.com        G\n",
      "247  A1FV9SAPL5C6KY  http://0800-horoscope.com        G\n",
      "248  A1JTOT0DWM6QGL  http://0800-horoscope.com        G\n",
      "249  A1PXXEOGQ76RNJ  http://0800-horoscope.com        G\n",
      "3324\n"
     ]
    }
   ],
   "source": [
    "#merging the 2 tables\n",
    "labels_merge = labels.merge(gold, on='url', suffixes=['','_gold'], how='left')\n",
    "#labels_merge[labels_merge['category_gold'].isna()]\n",
    "\n",
    "#separating the datasets\n",
    "labels_on_gold = labels_merge.dropna()[['turk','url','category']] #3324\n",
    "print(labels_on_gold.head())\n",
    "print(len(labels_on_gold))"
   ]
  },
  {
   "cell_type": "code",
   "execution_count": 5,
   "id": "786e6a6f",
   "metadata": {},
   "outputs": [
    {
     "name": "stdout",
     "output_type": "stream",
     "text": [
      "             turk            url category\n",
      "0  A1OT3A29R9N1DG  http://000.cc        P\n",
      "1  A1PXXEOGQ76RNJ  http://000.cc        G\n",
      "2  A1PXXEOGQ76RNJ  http://000.cc        G\n",
      "3  A21US576U8SCO4  http://000.cc        G\n",
      "4  A2LGX47NN7C5D3  http://000.cc        G\n",
      "89397\n"
     ]
    }
   ],
   "source": [
    "labels_unknown = labels_merge[labels_merge['category_gold'].isna()][['turk','url','category']]#89416\n",
    "print(labels_unknown.head())\n",
    "print(len(labels_unknown))#89397"
   ]
  },
  {
   "cell_type": "markdown",
   "id": "02c2887c",
   "metadata": {},
   "source": [
    "**Q3: Comparing accuracies of Turks [10 points]**"
   ]
  },
  {
   "cell_type": "code",
   "execution_count": 6,
   "id": "e722eb48",
   "metadata": {
    "scrolled": true
   },
   "outputs": [
    {
     "data": {
      "text/html": [
       "<div>\n",
       "<style scoped>\n",
       "    .dataframe tbody tr th:only-of-type {\n",
       "        vertical-align: middle;\n",
       "    }\n",
       "\n",
       "    .dataframe tbody tr th {\n",
       "        vertical-align: top;\n",
       "    }\n",
       "\n",
       "    .dataframe thead th {\n",
       "        text-align: right;\n",
       "    }\n",
       "</style>\n",
       "<table border=\"1\" class=\"dataframe\">\n",
       "  <thead>\n",
       "    <tr style=\"text-align: right;\">\n",
       "      <th></th>\n",
       "      <th>rating_count</th>\n",
       "      <th>avg_correctness</th>\n",
       "    </tr>\n",
       "    <tr>\n",
       "      <th>turk</th>\n",
       "      <th></th>\n",
       "      <th></th>\n",
       "    </tr>\n",
       "  </thead>\n",
       "  <tbody>\n",
       "    <tr>\n",
       "      <th>A112DVP1KG4QZU</th>\n",
       "      <td>1</td>\n",
       "      <td>1.000000</td>\n",
       "    </tr>\n",
       "    <tr>\n",
       "      <th>A1253FXHCZ9CWM</th>\n",
       "      <td>29</td>\n",
       "      <td>0.517241</td>\n",
       "    </tr>\n",
       "    <tr>\n",
       "      <th>A12CY1Q7XKJJDE</th>\n",
       "      <td>1</td>\n",
       "      <td>1.000000</td>\n",
       "    </tr>\n",
       "    <tr>\n",
       "      <th>A12RE8G66WTO8B</th>\n",
       "      <td>20</td>\n",
       "      <td>0.750000</td>\n",
       "    </tr>\n",
       "    <tr>\n",
       "      <th>A12Y1GTGIQDGRA</th>\n",
       "      <td>3</td>\n",
       "      <td>0.333333</td>\n",
       "    </tr>\n",
       "  </tbody>\n",
       "</table>\n",
       "</div>"
      ],
      "text/plain": [
       "                rating_count  avg_correctness\n",
       "turk                                         \n",
       "A112DVP1KG4QZU             1         1.000000\n",
       "A1253FXHCZ9CWM            29         0.517241\n",
       "A12CY1Q7XKJJDE             1         1.000000\n",
       "A12RE8G66WTO8B            20         0.750000\n",
       "A12Y1GTGIQDGRA             3         0.333333"
      ]
     },
     "execution_count": 6,
     "metadata": {},
     "output_type": "execute_result"
    }
   ],
   "source": [
    "gold_master = labels_merge.dropna()\n",
    "\n",
    "\n",
    "gold_master['correct'] = (gold_master.loc[:,'category'] == gold_master.loc[:,'category_gold']).astype(int)\n",
    "gold_master['rating_count'] = 1\n",
    "\n",
    "\n",
    "rater_goodness = gold_master.pivot_table(index='turk', aggfunc={'correct': 'sum', 'rating_count': 'sum'})\n",
    "rater_goodness['avg_correctness'] = rater_goodness['correct']/rater_goodness['rating_count']\n",
    "rater_goodness = rater_goodness[['rating_count','avg_correctness']]\n",
    "\n",
    "rater_goodness.head()"
   ]
  },
  {
   "cell_type": "markdown",
   "id": "2efbf667",
   "metadata": {},
   "source": [
    "**Q4: Odds Ratios [10 points]**"
   ]
  },
  {
   "cell_type": "code",
   "execution_count": 7,
   "id": "4fc9bd01",
   "metadata": {},
   "outputs": [
    {
     "data": {
      "text/html": [
       "<div>\n",
       "<style scoped>\n",
       "    .dataframe tbody tr th:only-of-type {\n",
       "        vertical-align: middle;\n",
       "    }\n",
       "\n",
       "    .dataframe tbody tr th {\n",
       "        vertical-align: top;\n",
       "    }\n",
       "\n",
       "    .dataframe thead th {\n",
       "        text-align: right;\n",
       "    }\n",
       "</style>\n",
       "<table border=\"1\" class=\"dataframe\">\n",
       "  <thead>\n",
       "    <tr style=\"text-align: right;\">\n",
       "      <th></th>\n",
       "      <th>rating_count</th>\n",
       "      <th>avg_correctness</th>\n",
       "      <th>odds</th>\n",
       "    </tr>\n",
       "    <tr>\n",
       "      <th>turk</th>\n",
       "      <th></th>\n",
       "      <th></th>\n",
       "      <th></th>\n",
       "    </tr>\n",
       "  </thead>\n",
       "  <tbody>\n",
       "    <tr>\n",
       "      <th>A112DVP1KG4QZU</th>\n",
       "      <td>1</td>\n",
       "      <td>1.000000</td>\n",
       "      <td>1000.000000</td>\n",
       "    </tr>\n",
       "    <tr>\n",
       "      <th>A1253FXHCZ9CWM</th>\n",
       "      <td>29</td>\n",
       "      <td>0.517241</td>\n",
       "      <td>1.069214</td>\n",
       "    </tr>\n",
       "    <tr>\n",
       "      <th>A12CY1Q7XKJJDE</th>\n",
       "      <td>1</td>\n",
       "      <td>1.000000</td>\n",
       "      <td>1000.000000</td>\n",
       "    </tr>\n",
       "    <tr>\n",
       "      <th>A12RE8G66WTO8B</th>\n",
       "      <td>20</td>\n",
       "      <td>0.750000</td>\n",
       "      <td>2.988048</td>\n",
       "    </tr>\n",
       "    <tr>\n",
       "      <th>A12Y1GTGIQDGRA</th>\n",
       "      <td>3</td>\n",
       "      <td>0.333333</td>\n",
       "      <td>0.499251</td>\n",
       "    </tr>\n",
       "    <tr>\n",
       "      <th>...</th>\n",
       "      <td>...</td>\n",
       "      <td>...</td>\n",
       "      <td>...</td>\n",
       "    </tr>\n",
       "    <tr>\n",
       "      <th>AYWOBMTEGFVVI</th>\n",
       "      <td>1</td>\n",
       "      <td>0.000000</td>\n",
       "      <td>0.000000</td>\n",
       "    </tr>\n",
       "    <tr>\n",
       "      <th>AZ1S5BIG5R6P6</th>\n",
       "      <td>35</td>\n",
       "      <td>0.714286</td>\n",
       "      <td>2.491281</td>\n",
       "    </tr>\n",
       "    <tr>\n",
       "      <th>AZSDW7JJL5VA7</th>\n",
       "      <td>100</td>\n",
       "      <td>0.680000</td>\n",
       "      <td>2.118380</td>\n",
       "    </tr>\n",
       "    <tr>\n",
       "      <th>AZVB3RZW0OR1H</th>\n",
       "      <td>3</td>\n",
       "      <td>0.666667</td>\n",
       "      <td>1.994018</td>\n",
       "    </tr>\n",
       "    <tr>\n",
       "      <th>amurray</th>\n",
       "      <td>15</td>\n",
       "      <td>0.933333</td>\n",
       "      <td>13.793103</td>\n",
       "    </tr>\n",
       "  </tbody>\n",
       "</table>\n",
       "<p>269 rows × 3 columns</p>\n",
       "</div>"
      ],
      "text/plain": [
       "                rating_count  avg_correctness         odds\n",
       "turk                                                      \n",
       "A112DVP1KG4QZU             1         1.000000  1000.000000\n",
       "A1253FXHCZ9CWM            29         0.517241     1.069214\n",
       "A12CY1Q7XKJJDE             1         1.000000  1000.000000\n",
       "A12RE8G66WTO8B            20         0.750000     2.988048\n",
       "A12Y1GTGIQDGRA             3         0.333333     0.499251\n",
       "...                      ...              ...          ...\n",
       "AYWOBMTEGFVVI              1         0.000000     0.000000\n",
       "AZ1S5BIG5R6P6             35         0.714286     2.491281\n",
       "AZSDW7JJL5VA7            100         0.680000     2.118380\n",
       "AZVB3RZW0OR1H              3         0.666667     1.994018\n",
       "amurray                   15         0.933333    13.793103\n",
       "\n",
       "[269 rows x 3 columns]"
      ]
     },
     "execution_count": 7,
     "metadata": {},
     "output_type": "execute_result"
    }
   ],
   "source": [
    "rater_goodness['odds'] = (rater_goodness['avg_correctness']/(1.001 - rater_goodness['avg_correctness']))\n",
    "rater_goodness"
   ]
  },
  {
   "cell_type": "markdown",
   "id": "887e2a2a",
   "metadata": {},
   "source": [
    "**Q5: Most Accurate Turks [10 points]**"
   ]
  },
  {
   "cell_type": "code",
   "execution_count": 8,
   "id": "3a462f47",
   "metadata": {},
   "outputs": [
    {
     "data": {
      "text/html": [
       "<div>\n",
       "<style scoped>\n",
       "    .dataframe tbody tr th:only-of-type {\n",
       "        vertical-align: middle;\n",
       "    }\n",
       "\n",
       "    .dataframe tbody tr th {\n",
       "        vertical-align: top;\n",
       "    }\n",
       "\n",
       "    .dataframe thead th {\n",
       "        text-align: right;\n",
       "    }\n",
       "</style>\n",
       "<table border=\"1\" class=\"dataframe\">\n",
       "  <thead>\n",
       "    <tr style=\"text-align: right;\">\n",
       "      <th></th>\n",
       "      <th>rating_count</th>\n",
       "      <th>avg_correctness</th>\n",
       "      <th>odds</th>\n",
       "    </tr>\n",
       "    <tr>\n",
       "      <th>turk</th>\n",
       "      <th></th>\n",
       "      <th></th>\n",
       "      <th></th>\n",
       "    </tr>\n",
       "  </thead>\n",
       "  <tbody>\n",
       "    <tr>\n",
       "      <th>A2U0R4X38GUKZE</th>\n",
       "      <td>20</td>\n",
       "      <td>0.950000</td>\n",
       "      <td>18.627451</td>\n",
       "    </tr>\n",
       "    <tr>\n",
       "      <th>A22C0PJUBFJTI0</th>\n",
       "      <td>36</td>\n",
       "      <td>0.916667</td>\n",
       "      <td>10.869565</td>\n",
       "    </tr>\n",
       "    <tr>\n",
       "      <th>A23YQUBXZPKILZ</th>\n",
       "      <td>24</td>\n",
       "      <td>0.875000</td>\n",
       "      <td>6.944444</td>\n",
       "    </tr>\n",
       "    <tr>\n",
       "      <th>ATVALOQVDCMZW</th>\n",
       "      <td>103</td>\n",
       "      <td>0.854369</td>\n",
       "      <td>5.826657</td>\n",
       "    </tr>\n",
       "    <tr>\n",
       "      <th>A1HIXWH4OXT8S4</th>\n",
       "      <td>40</td>\n",
       "      <td>0.825000</td>\n",
       "      <td>4.687500</td>\n",
       "    </tr>\n",
       "    <tr>\n",
       "      <th>A3220HG1O83HQ4</th>\n",
       "      <td>22</td>\n",
       "      <td>0.818182</td>\n",
       "      <td>4.475385</td>\n",
       "    </tr>\n",
       "    <tr>\n",
       "      <th>A32W20KGQXS0LL</th>\n",
       "      <td>25</td>\n",
       "      <td>0.800000</td>\n",
       "      <td>3.980100</td>\n",
       "    </tr>\n",
       "    <tr>\n",
       "      <th>A20PWAB7G3HDHU</th>\n",
       "      <td>20</td>\n",
       "      <td>0.800000</td>\n",
       "      <td>3.980100</td>\n",
       "    </tr>\n",
       "    <tr>\n",
       "      <th>AJSJVK40F5HM6</th>\n",
       "      <td>28</td>\n",
       "      <td>0.785714</td>\n",
       "      <td>3.649635</td>\n",
       "    </tr>\n",
       "    <tr>\n",
       "      <th>A31OCN4MNHUQ6W</th>\n",
       "      <td>184</td>\n",
       "      <td>0.777174</td>\n",
       "      <td>3.472222</td>\n",
       "    </tr>\n",
       "  </tbody>\n",
       "</table>\n",
       "</div>"
      ],
      "text/plain": [
       "                rating_count  avg_correctness       odds\n",
       "turk                                                    \n",
       "A2U0R4X38GUKZE            20         0.950000  18.627451\n",
       "A22C0PJUBFJTI0            36         0.916667  10.869565\n",
       "A23YQUBXZPKILZ            24         0.875000   6.944444\n",
       "ATVALOQVDCMZW            103         0.854369   5.826657\n",
       "A1HIXWH4OXT8S4            40         0.825000   4.687500\n",
       "A3220HG1O83HQ4            22         0.818182   4.475385\n",
       "A32W20KGQXS0LL            25         0.800000   3.980100\n",
       "A20PWAB7G3HDHU            20         0.800000   3.980100\n",
       "AJSJVK40F5HM6             28         0.785714   3.649635\n",
       "A31OCN4MNHUQ6W           184         0.777174   3.472222"
      ]
     },
     "execution_count": 8,
     "metadata": {},
     "output_type": "execute_result"
    }
   ],
   "source": [
    "rater_goodness[rater_goodness['rating_count']>=20].sort_values('avg_correctness', ascending=False)[:10]"
   ]
  },
  {
   "cell_type": "markdown",
   "id": "b1d0746a",
   "metadata": {},
   "source": [
    "**Q6: Rating Count vs. Accuracy**"
   ]
  },
  {
   "cell_type": "code",
   "execution_count": 9,
   "id": "240a554b",
   "metadata": {},
   "outputs": [
    {
     "data": {
      "text/html": [
       "<div>\n",
       "<style scoped>\n",
       "    .dataframe tbody tr th:only-of-type {\n",
       "        vertical-align: middle;\n",
       "    }\n",
       "\n",
       "    .dataframe tbody tr th {\n",
       "        vertical-align: top;\n",
       "    }\n",
       "\n",
       "    .dataframe thead th {\n",
       "        text-align: right;\n",
       "    }\n",
       "</style>\n",
       "<table border=\"1\" class=\"dataframe\">\n",
       "  <thead>\n",
       "    <tr style=\"text-align: right;\">\n",
       "      <th></th>\n",
       "      <th>rating_count</th>\n",
       "      <th>avg_correctness</th>\n",
       "    </tr>\n",
       "  </thead>\n",
       "  <tbody>\n",
       "    <tr>\n",
       "      <th>rating_count</th>\n",
       "      <td>1.000000</td>\n",
       "      <td>0.045292</td>\n",
       "    </tr>\n",
       "    <tr>\n",
       "      <th>avg_correctness</th>\n",
       "      <td>0.045292</td>\n",
       "      <td>1.000000</td>\n",
       "    </tr>\n",
       "  </tbody>\n",
       "</table>\n",
       "</div>"
      ],
      "text/plain": [
       "                 rating_count  avg_correctness\n",
       "rating_count         1.000000         0.045292\n",
       "avg_correctness      0.045292         1.000000"
      ]
     },
     "execution_count": 9,
     "metadata": {},
     "output_type": "execute_result"
    },
    {
     "data": {
      "image/png": "[encoded data removed]",
      "text/plain": [
       "<Figure size 432x288 with 1 Axes>"
      ]
     },
     "metadata": {
      "needs_background": "light"
     },
     "output_type": "display_data"
    }
   ],
   "source": [
    "rater_goodness.plot.scatter(x='rating_count',y='avg_correctness',c='DarkBlue')\n",
    "rater_goodness[[\"rating_count\",\"avg_correctness\"]].corr()\n",
    "\n",
    "#There is almost no correlation between the number of ratings and the correctness."
   ]
  },
  {
   "cell_type": "markdown",
   "id": "fba1e1ac",
   "metadata": {},
   "source": [
    "**Q7: Overall Predicted Odds [13 points]**"
   ]
  },
  {
   "cell_type": "code",
   "execution_count": 10,
   "id": "d34e0048",
   "metadata": {},
   "outputs": [
    {
     "name": "stdout",
     "output_type": "stream",
     "text": [
      "                                      overall_odds\n",
      "url                         category              \n",
      "http://0-101.net            G             2.155963\n",
      "http://000.cc               G             1.460583\n",
      "http://0000.jp              G            14.488244\n",
      "http://000relationships.com G             5.681060\n",
      "                            P             1.851852\n",
      "...                                            ...\n",
      "http://zynga.com            G             3.704611\n",
      "http://zz868.com            G             1.047852\n",
      "                            P             1.851852\n",
      "http://zzx.cc               G             1.330229\n",
      "                            X             1.620746\n",
      "\n",
      "[13983 rows x 1 columns]\n"
     ]
    }
   ],
   "source": [
    "# Calculating the 75th percentile\n",
    "perc75 = rater_goodness['rating_count'].quantile(q=0.75) #75th percentile is 11\n",
    "\n",
    "# Creating master for unknown labels\n",
    "# Merging with rater dataset and retaining the data of only those turks who have rated more than 75% of the gold set\n",
    "unknown_master = labels_unknown.merge(rater_goodness, left_on = 'turk', right_on='turk', how='left')#master table\n",
    "unknown_master_75 = unknown_master[unknown_master['rating_count']>perc75]\n",
    "\n",
    "overall_odds = unknown_master_75[['url','category','odds']].pivot_table(index=['url','category'], values='odds', aggfunc='prod').fillna(0)\n",
    "overall_odds.rename(columns = {'odds':'overall_odds'}, inplace = True)\n",
    "print(overall_odds)\n",
    "\n",
    "overall_odds1 = unknown_master_75[['url','category','odds']].pivot_table(index='url',columns='category', values='odds', aggfunc='prod').fillna(0)\n",
    "overall_odds1.rename(columns = {'odds':'overall_odds'}, inplace = True)"
   ]
  },
  {
   "cell_type": "markdown",
   "id": "82b70e23",
   "metadata": {},
   "source": [
    "\n",
    "**Q8: Overall Categories [13 points]**"
   ]
  },
  {
   "cell_type": "code",
   "execution_count": 11,
   "id": "d0c859d2",
   "metadata": {},
   "outputs": [
    {
     "data": {
      "text/html": [
       "<div>\n",
       "<style scoped>\n",
       "    .dataframe tbody tr th:only-of-type {\n",
       "        vertical-align: middle;\n",
       "    }\n",
       "\n",
       "    .dataframe tbody tr th {\n",
       "        vertical-align: top;\n",
       "    }\n",
       "\n",
       "    .dataframe thead th {\n",
       "        text-align: right;\n",
       "    }\n",
       "</style>\n",
       "<table border=\"1\" class=\"dataframe\">\n",
       "  <thead>\n",
       "    <tr style=\"text-align: right;\">\n",
       "      <th></th>\n",
       "      <th>top category</th>\n",
       "    </tr>\n",
       "    <tr>\n",
       "      <th>url</th>\n",
       "      <th></th>\n",
       "    </tr>\n",
       "  </thead>\n",
       "  <tbody>\n",
       "    <tr>\n",
       "      <th>http://0-101.net</th>\n",
       "      <td>G</td>\n",
       "    </tr>\n",
       "    <tr>\n",
       "      <th>http://000.cc</th>\n",
       "      <td>G</td>\n",
       "    </tr>\n",
       "    <tr>\n",
       "      <th>http://0000.jp</th>\n",
       "      <td>G</td>\n",
       "    </tr>\n",
       "    <tr>\n",
       "      <th>http://000relationships.com</th>\n",
       "      <td>G</td>\n",
       "    </tr>\n",
       "    <tr>\n",
       "      <th>http://000vitamins.com</th>\n",
       "      <td>G</td>\n",
       "    </tr>\n",
       "    <tr>\n",
       "      <th>...</th>\n",
       "      <td>...</td>\n",
       "    </tr>\n",
       "    <tr>\n",
       "      <th>http://zwinky.com</th>\n",
       "      <td>G</td>\n",
       "    </tr>\n",
       "    <tr>\n",
       "      <th>http://zylom.com</th>\n",
       "      <td>G</td>\n",
       "    </tr>\n",
       "    <tr>\n",
       "      <th>http://zynga.com</th>\n",
       "      <td>G</td>\n",
       "    </tr>\n",
       "    <tr>\n",
       "      <th>http://zz868.com</th>\n",
       "      <td>P</td>\n",
       "    </tr>\n",
       "    <tr>\n",
       "      <th>http://zzx.cc</th>\n",
       "      <td>X</td>\n",
       "    </tr>\n",
       "  </tbody>\n",
       "</table>\n",
       "<p>10610 rows × 1 columns</p>\n",
       "</div>"
      ],
      "text/plain": [
       "                            top category\n",
       "url                                     \n",
       "http://0-101.net                       G\n",
       "http://000.cc                          G\n",
       "http://0000.jp                         G\n",
       "http://000relationships.com            G\n",
       "http://000vitamins.com                 G\n",
       "...                                  ...\n",
       "http://zwinky.com                      G\n",
       "http://zylom.com                       G\n",
       "http://zynga.com                       G\n",
       "http://zz868.com                       P\n",
       "http://zzx.cc                          X\n",
       "\n",
       "[10610 rows x 1 columns]"
      ]
     },
     "execution_count": 11,
     "metadata": {},
     "output_type": "execute_result"
    }
   ],
   "source": [
    "top_cat = DataFrame(overall_odds1.idxmax(axis=1), columns=['top category'])\n",
    "top_odd = DataFrame(overall_odds1.T.max().round(2), columns=['top odds'])\n",
    "\n",
    "result_75 = top_cat.merge(top_odd, on='url')\n",
    "result_75\n",
    "\n",
    "top_cat"
   ]
  },
  {
   "cell_type": "markdown",
   "id": "792f3158",
   "metadata": {},
   "source": [
    "**Q9: Predicted categories using more turks**"
   ]
  },
  {
   "cell_type": "code",
   "execution_count": 15,
   "id": "a90a3d36",
   "metadata": {},
   "outputs": [
    {
     "data": {
      "text/html": [
       "<div>\n",
       "<style scoped>\n",
       "    .dataframe tbody tr th:only-of-type {\n",
       "        vertical-align: middle;\n",
       "    }\n",
       "\n",
       "    .dataframe tbody tr th {\n",
       "        vertical-align: top;\n",
       "    }\n",
       "\n",
       "    .dataframe thead th {\n",
       "        text-align: right;\n",
       "    }\n",
       "</style>\n",
       "<table border=\"1\" class=\"dataframe\">\n",
       "  <thead>\n",
       "    <tr style=\"text-align: right;\">\n",
       "      <th></th>\n",
       "      <th>top category</th>\n",
       "    </tr>\n",
       "    <tr>\n",
       "      <th>url</th>\n",
       "      <th></th>\n",
       "    </tr>\n",
       "  </thead>\n",
       "  <tbody>\n",
       "    <tr>\n",
       "      <th>http://0-101.net</th>\n",
       "      <td>G</td>\n",
       "    </tr>\n",
       "    <tr>\n",
       "      <th>http://000.cc</th>\n",
       "      <td>G</td>\n",
       "    </tr>\n",
       "    <tr>\n",
       "      <th>http://0000.jp</th>\n",
       "      <td>G</td>\n",
       "    </tr>\n",
       "    <tr>\n",
       "      <th>http://000relationships.com</th>\n",
       "      <td>P</td>\n",
       "    </tr>\n",
       "    <tr>\n",
       "      <th>http://000vitamins.com</th>\n",
       "      <td>G</td>\n",
       "    </tr>\n",
       "    <tr>\n",
       "      <th>...</th>\n",
       "      <td>...</td>\n",
       "    </tr>\n",
       "    <tr>\n",
       "      <th>http://zwinky.com</th>\n",
       "      <td>P</td>\n",
       "    </tr>\n",
       "    <tr>\n",
       "      <th>http://zylom.com</th>\n",
       "      <td>G</td>\n",
       "    </tr>\n",
       "    <tr>\n",
       "      <th>http://zynga.com</th>\n",
       "      <td>G</td>\n",
       "    </tr>\n",
       "    <tr>\n",
       "      <th>http://zz868.com</th>\n",
       "      <td>G</td>\n",
       "    </tr>\n",
       "    <tr>\n",
       "      <th>http://zzx.cc</th>\n",
       "      <td>X</td>\n",
       "    </tr>\n",
       "  </tbody>\n",
       "</table>\n",
       "<p>10700 rows × 1 columns</p>\n",
       "</div>"
      ],
      "text/plain": [
       "                            top category\n",
       "url                                     \n",
       "http://0-101.net                       G\n",
       "http://000.cc                          G\n",
       "http://0000.jp                         G\n",
       "http://000relationships.com            P\n",
       "http://000vitamins.com                 G\n",
       "...                                  ...\n",
       "http://zwinky.com                      P\n",
       "http://zylom.com                       G\n",
       "http://zynga.com                       G\n",
       "http://zz868.com                       G\n",
       "http://zzx.cc                          X\n",
       "\n",
       "[10700 rows x 1 columns]"
      ]
     },
     "execution_count": 15,
     "metadata": {},
     "output_type": "execute_result"
    }
   ],
   "source": [
    "# Calculating the 75th percentile\n",
    "perc25 = rater_goodness['rating_count'].quantile(q=0.25) #25th percentile is 1\n",
    "\n",
    "# Creating master for unknown labels - merging with rater dataset and retaining the data of only those turks who have rated\n",
    "#more than 25% of the gold set\n",
    "unknown_master_25 = unknown_master[unknown_master['rating_count']>perc25]\n",
    "\n",
    "overall_odds_25 = unknown_master_25[['url','category','odds']].pivot_table(index='url', columns='category', values='odds', aggfunc='prod').fillna(0)\n",
    "overall_odds_25\n",
    "\n",
    "\n",
    "top_cat_25 = DataFrame(overall_odds_25.idxmax(axis=1), columns=['top category'])\n",
    "top_odd_25 = DataFrame(overall_odds_25.T.max().round(2), columns=['top odds'])\n",
    "\n",
    "result_25 = top_cat_25.merge(top_odd_25, on='url')\n",
    "result_25\n",
    "\n",
    "top_cat_25"
   ]
  },
  {
   "cell_type": "code",
   "execution_count": 13,
   "id": "1b2cc26e",
   "metadata": {
    "scrolled": true
   },
   "outputs": [
    {
     "data": {
      "text/html": [
       "<div>\n",
       "<style scoped>\n",
       "    .dataframe tbody tr th:only-of-type {\n",
       "        vertical-align: middle;\n",
       "    }\n",
       "\n",
       "    .dataframe tbody tr th {\n",
       "        vertical-align: top;\n",
       "    }\n",
       "\n",
       "    .dataframe thead th {\n",
       "        text-align: right;\n",
       "    }\n",
       "</style>\n",
       "<table border=\"1\" class=\"dataframe\">\n",
       "  <thead>\n",
       "    <tr style=\"text-align: right;\">\n",
       "      <th>top category_25</th>\n",
       "      <th>G</th>\n",
       "      <th>P</th>\n",
       "      <th>R</th>\n",
       "      <th>X</th>\n",
       "    </tr>\n",
       "    <tr>\n",
       "      <th>top category_75</th>\n",
       "      <th></th>\n",
       "      <th></th>\n",
       "      <th></th>\n",
       "      <th></th>\n",
       "    </tr>\n",
       "  </thead>\n",
       "  <tbody>\n",
       "    <tr>\n",
       "      <th>G</th>\n",
       "      <td>8327</td>\n",
       "      <td>574</td>\n",
       "      <td>186</td>\n",
       "      <td>216</td>\n",
       "    </tr>\n",
       "    <tr>\n",
       "      <th>P</th>\n",
       "      <td>189</td>\n",
       "      <td>328</td>\n",
       "      <td>47</td>\n",
       "      <td>19</td>\n",
       "    </tr>\n",
       "    <tr>\n",
       "      <th>R</th>\n",
       "      <td>21</td>\n",
       "      <td>34</td>\n",
       "      <td>128</td>\n",
       "      <td>25</td>\n",
       "    </tr>\n",
       "    <tr>\n",
       "      <th>X</th>\n",
       "      <td>27</td>\n",
       "      <td>6</td>\n",
       "      <td>26</td>\n",
       "      <td>457</td>\n",
       "    </tr>\n",
       "  </tbody>\n",
       "</table>\n",
       "</div>"
      ],
      "text/plain": [
       "top category_25     G    P    R    X\n",
       "top category_75                     \n",
       "G                8327  574  186  216\n",
       "P                 189  328   47   19\n",
       "R                  21   34  128   25\n",
       "X                  27    6   26  457"
      ]
     },
     "execution_count": 13,
     "metadata": {},
     "output_type": "execute_result"
    }
   ],
   "source": [
    "# Merging the result_25 and result_75 data sets. \n",
    "# The result_75 dataset has 10,610 rows, while the result_25 dataset has 10,700 rows\n",
    "\n",
    "# Creating a data frame combining the results of the 2 data sets\n",
    "df = result_75.merge(result_25, on='url', how='left', suffixes = ['_75','_25'])\n",
    "\n",
    "df_1 = pd.crosstab(df['top category_75'], df['top category_25'])\n",
    "df_1\n",
    "\n",
    "# We observe that out of 10,610 urls, 9240 of the URLs (diagonal elements of below table) will be categorized similarly.\n",
    "# This implies 87% of the classifications remain the same."
   ]
  },
  {
   "cell_type": "code",
   "execution_count": 14,
   "id": "25d2bd7d",
   "metadata": {},
   "outputs": [
    {
     "data": {
      "text/html": [
       "<div>\n",
       "<style scoped>\n",
       "    .dataframe tbody tr th:only-of-type {\n",
       "        vertical-align: middle;\n",
       "    }\n",
       "\n",
       "    .dataframe tbody tr th {\n",
       "        vertical-align: top;\n",
       "    }\n",
       "\n",
       "    .dataframe thead th {\n",
       "        text-align: right;\n",
       "    }\n",
       "</style>\n",
       "<table border=\"1\" class=\"dataframe\">\n",
       "  <thead>\n",
       "    <tr style=\"text-align: right;\">\n",
       "      <th>top category_25</th>\n",
       "      <th>G</th>\n",
       "      <th>P</th>\n",
       "      <th>R</th>\n",
       "      <th>X</th>\n",
       "    </tr>\n",
       "    <tr>\n",
       "      <th>top category_75</th>\n",
       "      <th></th>\n",
       "      <th></th>\n",
       "      <th></th>\n",
       "      <th></th>\n",
       "    </tr>\n",
       "  </thead>\n",
       "  <tbody>\n",
       "    <tr>\n",
       "      <th>G</th>\n",
       "      <td>0.895088</td>\n",
       "      <td>0.061701</td>\n",
       "      <td>0.019994</td>\n",
       "      <td>0.023218</td>\n",
       "    </tr>\n",
       "    <tr>\n",
       "      <th>P</th>\n",
       "      <td>0.324185</td>\n",
       "      <td>0.562607</td>\n",
       "      <td>0.080617</td>\n",
       "      <td>0.032590</td>\n",
       "    </tr>\n",
       "    <tr>\n",
       "      <th>R</th>\n",
       "      <td>0.100962</td>\n",
       "      <td>0.163462</td>\n",
       "      <td>0.615385</td>\n",
       "      <td>0.120192</td>\n",
       "    </tr>\n",
       "    <tr>\n",
       "      <th>X</th>\n",
       "      <td>0.052326</td>\n",
       "      <td>0.011628</td>\n",
       "      <td>0.050388</td>\n",
       "      <td>0.885659</td>\n",
       "    </tr>\n",
       "  </tbody>\n",
       "</table>\n",
       "</div>"
      ],
      "text/plain": [
       "top category_25         G         P         R         X\n",
       "top category_75                                        \n",
       "G                0.895088  0.061701  0.019994  0.023218\n",
       "P                0.324185  0.562607  0.080617  0.032590\n",
       "R                0.100962  0.163462  0.615385  0.120192\n",
       "X                0.052326  0.011628  0.050388  0.885659"
      ]
     },
     "execution_count": 14,
     "metadata": {},
     "output_type": "execute_result"
    }
   ],
   "source": [
    "# Dividing by row sums to find out which category changed the most\n",
    "df_1.div(df_1.sum(axis=1), axis=0)\n",
    "\n",
    "# P-rated URLs have the highest differences in classification. Only 56% of P-rated and 62% of R-rated URLs are classified similarly by top-25 percentile and top-75 percentile turks\n",
    "# 90% of G-rated URLs and 89% of X-rated URLs have been classified similarly by the turks in top-25 percentile and top-75 percentile\n"
   ]
  }
 ],
 "metadata": {
  "kernelspec": {
   "display_name": "Python 3",
   "language": "python",
   "name": "python3"
  },
  "language_info": {
   "codemirror_mode": {
    "name": "ipython",
    "version": 3
   },
   "file_extension": ".py",
   "mimetype": "text/x-python",
   "name": "python",
   "nbconvert_exporter": "python",
   "pygments_lexer": "ipython3",
   "version": "3.8.8"
  }
 },
 "nbformat": 4,
 "nbformat_minor": 5
}
