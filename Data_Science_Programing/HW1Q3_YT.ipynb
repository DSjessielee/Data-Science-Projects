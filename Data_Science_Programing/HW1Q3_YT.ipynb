{
 "cells": [
  {
   "cell_type": "markdown",
   "metadata": {},
   "source": [
    "# HW1 Q3\n",
    "\n",
    "Near-duplicate detection (20 points)\n",
    "Tweets on a subject are often nearly (but not exactly) duplicates of each\n",
    "other. The file Santa.txt contains a few tweets about Santa Claus, one\n",
    "tweet per line. We will try to detect tweets that we have already seen before.\n",
    "\n",
    "\n",
    "**(a) Convert each tweet into a dictionary of phrases (6 points).**\n",
    "Write a function called moving window that takes as input a tweet (that is,\n",
    "a string), and converts it into a bunch of phrases. Each phrase is three consecutive words in the tweet. For example, the tweet ‘‘This is an awesome\n",
    "tweet, dude’’ consists of the phrases ‘‘ This is an’’, ‘‘is an awesome’’,\n",
    "‘‘an awesome tweet,’’, and ‘‘awesome tweet, dude’’. Return a dictio\u0002nary whose keys are these phrases, and just set the corresponding values to\n",
    "1. This dictionary contains all the unique 3-word phrases in the tweet.\n",
    "\n",
    "\n",
    "\n",
    "***(b) Calculate similarity between two tweets (6 points). ***\n",
    "\n",
    "To check if\n",
    "one tweet is a near-duplicate of another, we compute their cosine similarity:\n",
    "cosine(tweet1, tweet2) =\n",
    "matches\n",
    "√\n",
    "n1 ∗ n2\n",
    ",\n",
    "where matches is the number of 3-word phrases in common between the\n",
    "two tweets, and n1 and n2 are the number of phrases in the two tweets\n",
    "respectively.\n",
    "Write a function called cosine that takes as input two dictionaries. Each\n",
    "dictionary contains the 3-word phrases from one tweet. Return the cosine\n",
    "similarity between the phrases in the two dictionaries.Hint: You can use the function math.sqrt(x) to calculate the square-root\n",
    "of any floating point number x, but you must import the math module.\n",
    "\n",
    "***(c) Read in tweets, and output near-duplicates (8 points). ***\n",
    "\n",
    "Read in\n",
    "the tweets in the file Santa.txt. For each tweet, figure out if it is a near\u0002duplicate of any of the previously-seen tweets. We say that the two tweets\n",
    "are near-duplicates if their cosine similarity is greater than 0.5.\n",
    "You should call the functions moving window and cosine here."
   ]
  },
  {
   "cell_type": "code",
   "execution_count": null,
   "metadata": {},
   "outputs": [],
   "source": [
    "import math"
   ]
  },
  {
   "cell_type": "markdown",
   "metadata": {},
   "source": [
    "## moving_window"
   ]
  },
  {
   "cell_type": "code",
   "execution_count": 5,
   "metadata": {},
   "outputs": [
    {
     "data": {
      "text/plain": [
       "{'SPECIAL SECRET HEARTS:': 1,\n",
       " 'SECRET HEARTS: A': 1,\n",
       " \"HEARTS: A Child's\": 1,\n",
       " \"A Child's Introduction\": 1,\n",
       " \"Child's Introduction to\": 1,\n",
       " 'Introduction to Dementia': 1,\n",
       " 'to Dementia and': 1,\n",
       " 'Dementia and Pink': 1,\n",
       " 'and Pink Curls': 1,\n",
       " 'Pink Curls -': 1,\n",
       " 'Curls - A': 1,\n",
       " '- A Santa': 1,\n",
       " 'A Santa ...': 1,\n",
       " 'Santa ... -': 1,\n",
       " '... - http://t.co/UWCdc8FA9a': 1,\n",
       " '- http://t.co/UWCdc8FA9a http://t.co/meexKLGTKl\\n\"Santa': 1,\n",
       " 'http://t.co/UWCdc8FA9a http://t.co/meexKLGTKl\\n\"Santa Claus': 1,\n",
       " 'http://t.co/meexKLGTKl\\n\"Santa Claus Is': 1,\n",
       " 'Claus Is Coming': 1,\n",
       " 'Is Coming To': 1,\n",
       " 'Coming To Town': 1,\n",
       " 'To Town #MTVHottest': 1,\n",
       " 'Town #MTVHottest Justin': 1,\n",
       " '#MTVHottest Justin Bieber\"\\nRT': 1,\n",
       " 'Justin Bieber\"\\nRT @BuyBookstore:': 1,\n",
       " 'Bieber\"\\nRT @BuyBookstore: SPECIAL': 1,\n",
       " '@BuyBookstore: SPECIAL SECRET': 1,\n",
       " '- http://t.co/UWCdc8FA9a http://t.Â…\\n\"RT': 1,\n",
       " 'http://t.co/UWCdc8FA9a http://t.Â…\\n\"RT @DrewFtDevonne_:': 1,\n",
       " 'http://t.Â…\\n\"RT @DrewFtDevonne_: Rt': 1,\n",
       " '@DrewFtDevonne_: Rt si': 1,\n",
       " 'Rt si te': 1,\n",
       " 'si te gusta': 1,\n",
       " 'te gusta Santa': 1,\n",
       " 'gusta Santa Claus': 1,\n",
       " 'Santa Claus Is': 1,\n",
       " '#MTVHottest Justin Bieber\"\\n\"Rt': 1,\n",
       " 'Justin Bieber\"\\n\"Rt si': 1,\n",
       " 'Bieber\"\\n\"Rt si te': 1,\n",
       " '#MTVHottest Justin Bieber\"\\n': 1}"
      ]
     },
     "execution_count": 5,
     "metadata": {},
     "output_type": "execute_result"
    }
   ],
   "source": [
    "#(a) Convert each tweet into a dictionary of phrases (6 points)\n",
    "\n",
    "\n",
    "def moving_window(tweet: str):\n",
    "    \"\"\"\n",
    "    divide A tweet into several unique 3-word phrases\n",
    "    :param tweet: Str type\n",
    "    :return: A dictionary. Keys are 3-word phrases\n",
    "    \"\"\"\n",
    "    str_list = tweet.split(\" \")\n",
    "    result = {}\n",
    "    blank = \" \"\n",
    "    for i in range(0, len(str_list) - 2):\n",
    "        add = blank.join(str_list[i:i + 3])\n",
    "        if add not in result.keys():\n",
    "            result[add] = 1\n",
    "    return result\n",
    "\n",
    "\n",
    "#Codee testing\n",
    "\n",
    "f = open(\"Santa.txt\", \"r\")\n",
    "tweets = f.read()\n",
    "moving_window(tweets)"
   ]
  },
  {
   "cell_type": "markdown",
   "metadata": {},
   "source": [
    "## cosine"
   ]
  },
  {
   "cell_type": "code",
   "execution_count": 3,
   "metadata": {},
   "outputs": [],
   "source": [
    "#(b) Calculate similarity between two tweets\n",
    "\n",
    "\n",
    "def cosine(tweet_1: dict, tweet_2: dict):\n",
    "    \"\"\"\n",
    "    calculate cosine similarity between two tweets\n",
    "    :param tweet_1: A dictionary. Keys are 3-word phrases of this tweet\n",
    "    :param tweet_2: A dictionary. Keys are 3-word phrases of this tweet\n",
    "    :return: cosine similarity between this two tweets\n",
    "    \"\"\"\n",
    "    n_1 = len(tweet_1.keys())\n",
    "    n_2 = len(tweet_2.keys())\n",
    "    matches = 0\n",
    "    for k in tweet_1.keys():\n",
    "        if k in tweet_2.keys():\n",
    "            matches += 1\n",
    "    return float(matches) / math.sqrt(n_1 * n_2)\n",
    "\n",
    "\n"
   ]
  },
  {
   "cell_type": "markdown",
   "metadata": {},
   "source": [
    "## get tweets and test"
   ]
  },
  {
   "cell_type": "code",
   "execution_count": 4,
   "metadata": {},
   "outputs": [
    {
     "name": "stdout",
     "output_type": "stream",
     "text": [
      "tweet 0 : SPECIAL SECRET HEARTS: A Child's Introduction to Dementia and Pink Curls - A Santa ... - http://t.co/UWCdc8FA9a http://t.co/meexKLGTKl\n",
      "\n",
      "tweet 1 : \"Santa Claus Is Coming To Town #MTVHottest Justin Bieber\"\n",
      "\n",
      "tweet 2 : RT @BuyBookstore: SPECIAL SECRET HEARTS: A Child's Introduction to Dementia and Pink Curls - A Santa ... - http://t.co/UWCdc8FA9a http://t.Â…\n",
      "\n",
      "tweet 3 : \"RT @DrewFtDevonne_: Rt si te gusta Santa Claus Is Coming To Town #MTVHottest Justin Bieber\"\n",
      "\n",
      "tweet 4 : \"Rt si te gusta Santa Claus Is Coming To Town #MTVHottest Justin Bieber\"\n",
      "\n",
      "tweet 2 and tweet 0 is near-duplicate, consine similarity is 0.8838834764831844\n",
      "tweet 3 and tweet 1 is near-duplicate, consine similarity is 0.628970902033151\n",
      "tweet 4 and tweet 1 is near-duplicate, consine similarity is 0.6837634587578276\n",
      "tweet 4 and tweet 3 is near-duplicate, consine similarity is 0.8362420100070908\n"
     ]
    }
   ],
   "source": [
    "#(c) Read in tweets, and output near-duplicates\n",
    "\n",
    "f = open(\"Santa.txt\", \"r\")\n",
    "tweets = f.readlines()\n",
    "for i in range(0, len(tweets)):\n",
    "    print(f\"tweet {i} : {tweets[i]}\")\n",
    "for i in range(0, len(tweets)):\n",
    "    for j in range(0, i):\n",
    "        sim = cosine(moving_window(tweets[i]), moving_window(tweets[j]))\n",
    "        if sim > 0.5:\n",
    "            print(f\"tweet {i} and tweet {j} is near-duplicate, consine similarity is {sim}\")"
   ]
  },
  {
   "cell_type": "code",
   "execution_count": null,
   "metadata": {},
   "outputs": [],
   "source": []
  }
 ],
 "metadata": {
  "kernelspec": {
   "display_name": "Python 3",
   "language": "python",
   "name": "python3"
  },
  "language_info": {
   "codemirror_mode": {
    "name": "ipython",
    "version": 3
   },
   "file_extension": ".py",
   "mimetype": "text/x-python",
   "name": "python",
   "nbconvert_exporter": "python",
   "pygments_lexer": "ipython3",
   "version": "3.8.8"
  }
 },
 "nbformat": 4,
 "nbformat_minor": 4
}
