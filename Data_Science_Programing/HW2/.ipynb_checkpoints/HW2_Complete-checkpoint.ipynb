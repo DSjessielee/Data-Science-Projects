{
 "cells": [
  {
   "cell_type": "markdown",
   "id": "1b159eee",
   "metadata": {},
   "source": [
    "# NYC Restaurants Data Analysis"
   ]
  },
  {
   "cell_type": "code",
   "execution_count": 1,
   "id": "78aa7e2a",
   "metadata": {},
   "outputs": [
    {
     "name": "stdout",
     "output_type": "stream",
     "text": [
      "Populating the interactive namespace from numpy and matplotlib\n"
     ]
    }
   ],
   "source": [
    "from pandas import Series, DataFrame\n",
    "import pandas as pd\n",
    "import matplotlib\n",
    "%pylab inline"
   ]
  },
  {
   "cell_type": "code",
   "execution_count": 2,
   "id": "f731dfdc",
   "metadata": {},
   "outputs": [],
   "source": [
    "df=pd.read_csv('NYC_Restaurants.csv', dtype=str)\n"
   ]
  },
  {
   "cell_type": "code",
   "execution_count": 3,
   "id": "649e1b27",
   "metadata": {},
   "outputs": [
    {
     "data": {
      "text/plain": [
       "(44633, 19)"
      ]
     },
     "execution_count": 3,
     "metadata": {},
     "output_type": "execute_result"
    }
   ],
   "source": [
    "df.shape"
   ]
  },
  {
   "cell_type": "code",
   "execution_count": 4,
   "id": "465f1ddb",
   "metadata": {},
   "outputs": [
    {
     "data": {
      "text/html": [
       "<div>\n",
       "<style scoped>\n",
       "    .dataframe tbody tr th:only-of-type {\n",
       "        vertical-align: middle;\n",
       "    }\n",
       "\n",
       "    .dataframe tbody tr th {\n",
       "        vertical-align: top;\n",
       "    }\n",
       "\n",
       "    .dataframe thead th {\n",
       "        text-align: right;\n",
       "    }\n",
       "</style>\n",
       "<table border=\"1\" class=\"dataframe\">\n",
       "  <thead>\n",
       "    <tr style=\"text-align: right;\">\n",
       "      <th></th>\n",
       "      <th>Unnamed: 0</th>\n",
       "      <th>CAMIS</th>\n",
       "      <th>DBA</th>\n",
       "      <th>BORO</th>\n",
       "      <th>BUILDING</th>\n",
       "      <th>STREET</th>\n",
       "      <th>ZIPCODE</th>\n",
       "      <th>PHONE</th>\n",
       "      <th>CUISINE DESCRIPTION</th>\n",
       "      <th>INSPECTION DATE</th>\n",
       "      <th>ACTION</th>\n",
       "      <th>VIOLATION CODE</th>\n",
       "      <th>VIOLATION DESCRIPTION</th>\n",
       "      <th>CRITICAL FLAG</th>\n",
       "      <th>SCORE</th>\n",
       "      <th>GRADE</th>\n",
       "      <th>GRADE DATE</th>\n",
       "      <th>RECORD DATE</th>\n",
       "      <th>INSPECTION TYPE</th>\n",
       "    </tr>\n",
       "  </thead>\n",
       "  <tbody>\n",
       "    <tr>\n",
       "      <th>0</th>\n",
       "      <td>0</td>\n",
       "      <td>30112340</td>\n",
       "      <td>WENDY'S</td>\n",
       "      <td>BROOKLYN</td>\n",
       "      <td>469</td>\n",
       "      <td>FLATBUSH AVENUE</td>\n",
       "      <td>11225</td>\n",
       "      <td>7182875005</td>\n",
       "      <td>Hamburgers</td>\n",
       "      <td>12/30/2014</td>\n",
       "      <td>Violations were cited in the following area(s).</td>\n",
       "      <td>06C</td>\n",
       "      <td>Food not protected from potential source of co...</td>\n",
       "      <td>Critical</td>\n",
       "      <td>8</td>\n",
       "      <td>A</td>\n",
       "      <td>12/30/2014</td>\n",
       "      <td>02/12/2015</td>\n",
       "      <td>Cycle Inspection / Re-inspection</td>\n",
       "    </tr>\n",
       "    <tr>\n",
       "      <th>1</th>\n",
       "      <td>1</td>\n",
       "      <td>30112340</td>\n",
       "      <td>WENDY'S</td>\n",
       "      <td>BROOKLYN</td>\n",
       "      <td>469</td>\n",
       "      <td>FLATBUSH AVENUE</td>\n",
       "      <td>11225</td>\n",
       "      <td>7182875005</td>\n",
       "      <td>Hamburgers</td>\n",
       "      <td>12/30/2014</td>\n",
       "      <td>Violations were cited in the following area(s).</td>\n",
       "      <td>10F</td>\n",
       "      <td>Non-food contact surface improperly constructe...</td>\n",
       "      <td>Not Critical</td>\n",
       "      <td>8</td>\n",
       "      <td>A</td>\n",
       "      <td>12/30/2014</td>\n",
       "      <td>02/12/2015</td>\n",
       "      <td>Cycle Inspection / Re-inspection</td>\n",
       "    </tr>\n",
       "    <tr>\n",
       "      <th>2</th>\n",
       "      <td>2</td>\n",
       "      <td>30112340</td>\n",
       "      <td>WENDY'S</td>\n",
       "      <td>BROOKLYN</td>\n",
       "      <td>469</td>\n",
       "      <td>FLATBUSH AVENUE</td>\n",
       "      <td>11225</td>\n",
       "      <td>7182875005</td>\n",
       "      <td>Hamburgers</td>\n",
       "      <td>11/13/2014</td>\n",
       "      <td>Violations were cited in the following area(s).</td>\n",
       "      <td>04H</td>\n",
       "      <td>Raw, cooked or prepared food is adulterated, c...</td>\n",
       "      <td>Critical</td>\n",
       "      <td>16</td>\n",
       "      <td>NaN</td>\n",
       "      <td>NaN</td>\n",
       "      <td>02/12/2015</td>\n",
       "      <td>Cycle Inspection / Initial Inspection</td>\n",
       "    </tr>\n",
       "    <tr>\n",
       "      <th>3</th>\n",
       "      <td>3</td>\n",
       "      <td>30112340</td>\n",
       "      <td>WENDY'S</td>\n",
       "      <td>BROOKLYN</td>\n",
       "      <td>469</td>\n",
       "      <td>FLATBUSH AVENUE</td>\n",
       "      <td>11225</td>\n",
       "      <td>7182875005</td>\n",
       "      <td>Hamburgers</td>\n",
       "      <td>11/13/2014</td>\n",
       "      <td>Violations were cited in the following area(s).</td>\n",
       "      <td>06A</td>\n",
       "      <td>Personal cleanliness inadequate. Outer garment...</td>\n",
       "      <td>Critical</td>\n",
       "      <td>16</td>\n",
       "      <td>NaN</td>\n",
       "      <td>NaN</td>\n",
       "      <td>02/12/2015</td>\n",
       "      <td>Cycle Inspection / Initial Inspection</td>\n",
       "    </tr>\n",
       "    <tr>\n",
       "      <th>4</th>\n",
       "      <td>4</td>\n",
       "      <td>30112340</td>\n",
       "      <td>WENDY'S</td>\n",
       "      <td>BROOKLYN</td>\n",
       "      <td>469</td>\n",
       "      <td>FLATBUSH AVENUE</td>\n",
       "      <td>11225</td>\n",
       "      <td>7182875005</td>\n",
       "      <td>Hamburgers</td>\n",
       "      <td>11/13/2014</td>\n",
       "      <td>Violations were cited in the following area(s).</td>\n",
       "      <td>10F</td>\n",
       "      <td>Non-food contact surface improperly constructe...</td>\n",
       "      <td>Not Critical</td>\n",
       "      <td>16</td>\n",
       "      <td>NaN</td>\n",
       "      <td>NaN</td>\n",
       "      <td>02/12/2015</td>\n",
       "      <td>Cycle Inspection / Initial Inspection</td>\n",
       "    </tr>\n",
       "    <tr>\n",
       "      <th>5</th>\n",
       "      <td>5</td>\n",
       "      <td>40356068</td>\n",
       "      <td>TOV KOSHER KITCHEN</td>\n",
       "      <td>QUEENS</td>\n",
       "      <td>97-22</td>\n",
       "      <td>63 ROAD</td>\n",
       "      <td>11374</td>\n",
       "      <td>7188967788</td>\n",
       "      <td>Jewish/Kosher</td>\n",
       "      <td>11/24/2014</td>\n",
       "      <td>Violations were cited in the following area(s).</td>\n",
       "      <td>02B</td>\n",
       "      <td>Hot food item not held at or above 140º F.</td>\n",
       "      <td>Critical</td>\n",
       "      <td>20</td>\n",
       "      <td>Z</td>\n",
       "      <td>11/24/2014</td>\n",
       "      <td>02/12/2015</td>\n",
       "      <td>Cycle Inspection / Re-inspection</td>\n",
       "    </tr>\n",
       "    <tr>\n",
       "      <th>6</th>\n",
       "      <td>6</td>\n",
       "      <td>40356068</td>\n",
       "      <td>TOV KOSHER KITCHEN</td>\n",
       "      <td>QUEENS</td>\n",
       "      <td>97-22</td>\n",
       "      <td>63 ROAD</td>\n",
       "      <td>11374</td>\n",
       "      <td>7188967788</td>\n",
       "      <td>Jewish/Kosher</td>\n",
       "      <td>11/24/2014</td>\n",
       "      <td>Violations were cited in the following area(s).</td>\n",
       "      <td>06A</td>\n",
       "      <td>Personal cleanliness inadequate. Outer garment...</td>\n",
       "      <td>Critical</td>\n",
       "      <td>20</td>\n",
       "      <td>Z</td>\n",
       "      <td>11/24/2014</td>\n",
       "      <td>02/12/2015</td>\n",
       "      <td>Cycle Inspection / Re-inspection</td>\n",
       "    </tr>\n",
       "    <tr>\n",
       "      <th>7</th>\n",
       "      <td>7</td>\n",
       "      <td>40356068</td>\n",
       "      <td>TOV KOSHER KITCHEN</td>\n",
       "      <td>QUEENS</td>\n",
       "      <td>97-22</td>\n",
       "      <td>63 ROAD</td>\n",
       "      <td>11374</td>\n",
       "      <td>7188967788</td>\n",
       "      <td>Jewish/Kosher</td>\n",
       "      <td>11/24/2014</td>\n",
       "      <td>Violations were cited in the following area(s).</td>\n",
       "      <td>06C</td>\n",
       "      <td>Food not protected from potential source of co...</td>\n",
       "      <td>Critical</td>\n",
       "      <td>20</td>\n",
       "      <td>Z</td>\n",
       "      <td>11/24/2014</td>\n",
       "      <td>02/12/2015</td>\n",
       "      <td>Cycle Inspection / Re-inspection</td>\n",
       "    </tr>\n",
       "    <tr>\n",
       "      <th>8</th>\n",
       "      <td>8</td>\n",
       "      <td>40356068</td>\n",
       "      <td>TOV KOSHER KITCHEN</td>\n",
       "      <td>QUEENS</td>\n",
       "      <td>97-22</td>\n",
       "      <td>63 ROAD</td>\n",
       "      <td>11374</td>\n",
       "      <td>7188967788</td>\n",
       "      <td>Jewish/Kosher</td>\n",
       "      <td>11/24/2014</td>\n",
       "      <td>Violations were cited in the following area(s).</td>\n",
       "      <td>10F</td>\n",
       "      <td>Non-food contact surface improperly constructe...</td>\n",
       "      <td>Not Critical</td>\n",
       "      <td>20</td>\n",
       "      <td>Z</td>\n",
       "      <td>11/24/2014</td>\n",
       "      <td>02/12/2015</td>\n",
       "      <td>Cycle Inspection / Re-inspection</td>\n",
       "    </tr>\n",
       "    <tr>\n",
       "      <th>9</th>\n",
       "      <td>9</td>\n",
       "      <td>40356151</td>\n",
       "      <td>BRUNOS ON THE BOULEVARD</td>\n",
       "      <td>QUEENS</td>\n",
       "      <td>8825</td>\n",
       "      <td>ASTORIA BOULEVARD</td>\n",
       "      <td>11369</td>\n",
       "      <td>7183350505</td>\n",
       "      <td>American</td>\n",
       "      <td>11/15/2014</td>\n",
       "      <td>Violations were cited in the following area(s).</td>\n",
       "      <td>04L</td>\n",
       "      <td>Evidence of mice or live mice present in facil...</td>\n",
       "      <td>Critical</td>\n",
       "      <td>38</td>\n",
       "      <td>Z</td>\n",
       "      <td>11/15/2014</td>\n",
       "      <td>02/12/2015</td>\n",
       "      <td>Cycle Inspection / Re-inspection</td>\n",
       "    </tr>\n",
       "  </tbody>\n",
       "</table>\n",
       "</div>"
      ],
      "text/plain": [
       "  Unnamed: 0     CAMIS                      DBA      BORO BUILDING  \\\n",
       "0          0  30112340                  WENDY'S  BROOKLYN      469   \n",
       "1          1  30112340                  WENDY'S  BROOKLYN      469   \n",
       "2          2  30112340                  WENDY'S  BROOKLYN      469   \n",
       "3          3  30112340                  WENDY'S  BROOKLYN      469   \n",
       "4          4  30112340                  WENDY'S  BROOKLYN      469   \n",
       "5          5  40356068       TOV KOSHER KITCHEN    QUEENS    97-22   \n",
       "6          6  40356068       TOV KOSHER KITCHEN    QUEENS    97-22   \n",
       "7          7  40356068       TOV KOSHER KITCHEN    QUEENS    97-22   \n",
       "8          8  40356068       TOV KOSHER KITCHEN    QUEENS    97-22   \n",
       "9          9  40356151  BRUNOS ON THE BOULEVARD    QUEENS     8825   \n",
       "\n",
       "              STREET ZIPCODE       PHONE CUISINE DESCRIPTION INSPECTION DATE  \\\n",
       "0    FLATBUSH AVENUE   11225  7182875005          Hamburgers      12/30/2014   \n",
       "1    FLATBUSH AVENUE   11225  7182875005          Hamburgers      12/30/2014   \n",
       "2    FLATBUSH AVENUE   11225  7182875005          Hamburgers      11/13/2014   \n",
       "3    FLATBUSH AVENUE   11225  7182875005          Hamburgers      11/13/2014   \n",
       "4    FLATBUSH AVENUE   11225  7182875005          Hamburgers      11/13/2014   \n",
       "5            63 ROAD   11374  7188967788       Jewish/Kosher      11/24/2014   \n",
       "6            63 ROAD   11374  7188967788       Jewish/Kosher      11/24/2014   \n",
       "7            63 ROAD   11374  7188967788       Jewish/Kosher      11/24/2014   \n",
       "8            63 ROAD   11374  7188967788       Jewish/Kosher      11/24/2014   \n",
       "9  ASTORIA BOULEVARD   11369  7183350505           American       11/15/2014   \n",
       "\n",
       "                                            ACTION VIOLATION CODE  \\\n",
       "0  Violations were cited in the following area(s).            06C   \n",
       "1  Violations were cited in the following area(s).            10F   \n",
       "2  Violations were cited in the following area(s).            04H   \n",
       "3  Violations were cited in the following area(s).            06A   \n",
       "4  Violations were cited in the following area(s).            10F   \n",
       "5  Violations were cited in the following area(s).            02B   \n",
       "6  Violations were cited in the following area(s).            06A   \n",
       "7  Violations were cited in the following area(s).            06C   \n",
       "8  Violations were cited in the following area(s).            10F   \n",
       "9  Violations were cited in the following area(s).            04L   \n",
       "\n",
       "                               VIOLATION DESCRIPTION CRITICAL FLAG SCORE  \\\n",
       "0  Food not protected from potential source of co...      Critical     8   \n",
       "1  Non-food contact surface improperly constructe...  Not Critical     8   \n",
       "2  Raw, cooked or prepared food is adulterated, c...      Critical    16   \n",
       "3  Personal cleanliness inadequate. Outer garment...      Critical    16   \n",
       "4  Non-food contact surface improperly constructe...  Not Critical    16   \n",
       "5         Hot food item not held at or above 140º F.      Critical    20   \n",
       "6  Personal cleanliness inadequate. Outer garment...      Critical    20   \n",
       "7  Food not protected from potential source of co...      Critical    20   \n",
       "8  Non-food contact surface improperly constructe...  Not Critical    20   \n",
       "9  Evidence of mice or live mice present in facil...      Critical    38   \n",
       "\n",
       "  GRADE  GRADE DATE RECORD DATE                        INSPECTION TYPE  \n",
       "0     A  12/30/2014  02/12/2015       Cycle Inspection / Re-inspection  \n",
       "1     A  12/30/2014  02/12/2015       Cycle Inspection / Re-inspection  \n",
       "2   NaN         NaN  02/12/2015  Cycle Inspection / Initial Inspection  \n",
       "3   NaN         NaN  02/12/2015  Cycle Inspection / Initial Inspection  \n",
       "4   NaN         NaN  02/12/2015  Cycle Inspection / Initial Inspection  \n",
       "5     Z  11/24/2014  02/12/2015       Cycle Inspection / Re-inspection  \n",
       "6     Z  11/24/2014  02/12/2015       Cycle Inspection / Re-inspection  \n",
       "7     Z  11/24/2014  02/12/2015       Cycle Inspection / Re-inspection  \n",
       "8     Z  11/24/2014  02/12/2015       Cycle Inspection / Re-inspection  \n",
       "9     Z  11/15/2014  02/12/2015       Cycle Inspection / Re-inspection  "
      ]
     },
     "execution_count": 4,
     "metadata": {},
     "output_type": "execute_result"
    }
   ],
   "source": [
    "df[:10]"
   ]
  },
  {
   "cell_type": "markdown",
   "id": "58502074",
   "metadata": {},
   "source": [
    "# [Q1, 6 points] Create a unique name for each restaurant.\n",
    "On the DataFrame created above, add a new column to your DataFrame, called\n",
    "’RESTAURANT’, that combines DBA, BUILDING, STREET, ZIPCODE,\n",
    "and BORO fields. For example, “WENDY’S 469 FLATBUSH AVENUE\n",
    "11225 BROOKLYN”. Print the first 10 values of the RESTAURANT column\n",
    "of your DataFrame."
   ]
  },
  {
   "cell_type": "code",
   "execution_count": 5,
   "id": "9be61328",
   "metadata": {},
   "outputs": [
    {
     "data": {
      "text/plain": [
       "0           WENDY'S 469 FLATBUSH AVENUE 11225 BROOKLYN\n",
       "1           WENDY'S 469 FLATBUSH AVENUE 11225 BROOKLYN\n",
       "2           WENDY'S 469 FLATBUSH AVENUE 11225 BROOKLYN\n",
       "3           WENDY'S 469 FLATBUSH AVENUE 11225 BROOKLYN\n",
       "4           WENDY'S 469 FLATBUSH AVENUE 11225 BROOKLYN\n",
       "5        TOV KOSHER KITCHEN 97-22 63 ROAD 11374 QUEENS\n",
       "6        TOV KOSHER KITCHEN 97-22 63 ROAD 11374 QUEENS\n",
       "7        TOV KOSHER KITCHEN 97-22 63 ROAD 11374 QUEENS\n",
       "8        TOV KOSHER KITCHEN 97-22 63 ROAD 11374 QUEENS\n",
       "9    BRUNOS ON THE BOULEVARD 8825 ASTORIA BOULEVARD...\n",
       "Name: RESTAURANT, dtype: object"
      ]
     },
     "execution_count": 5,
     "metadata": {},
     "output_type": "execute_result"
    }
   ],
   "source": [
    "df['RESTAURANT']=df['DBA']+' '+df['BUILDING']+' '+df['STREET']+' '+df['ZIPCODE']+' '+df['BORO']\n",
    "df['RESTAURANT'][:10]"
   ]
  },
  {
   "cell_type": "markdown",
   "id": "b6113695",
   "metadata": {},
   "source": [
    "# [Q2, 6 points] How many restaurants are included in the data?\n",
    "Careful now:\n",
    "\n",
    "• A “Subway” in one particular address (i.e., building, street, zipcode,\n",
    "and boro) counts as one restaurant; don’t combine all Subways into\n",
    "one restaurant!\n",
    "\n",
    "• The data can have multiple violations for the same restaurant\n"
   ]
  },
  {
   "cell_type": "code",
   "execution_count": 6,
   "id": "cf48868a",
   "metadata": {},
   "outputs": [
    {
     "ename": "NameError",
     "evalue": "name 'x' is not defined",
     "output_type": "error",
     "traceback": [
      "\u001b[1;31m---------------------------------------------------------------------------\u001b[0m",
      "\u001b[1;31mNameError\u001b[0m                                 Traceback (most recent call last)",
      "\u001b[1;32m<ipython-input-6-6d8efdf0d6b0>\u001b[0m in \u001b[0;36m<module>\u001b[1;34m\u001b[0m\n\u001b[0;32m      1\u001b[0m \u001b[0mnum_restaurants\u001b[0m\u001b[1;33m=\u001b[0m\u001b[0mlen\u001b[0m\u001b[1;33m(\u001b[0m\u001b[0mdf\u001b[0m\u001b[1;33m[\u001b[0m\u001b[1;34m'RESTAURANT'\u001b[0m\u001b[1;33m]\u001b[0m\u001b[1;33m.\u001b[0m\u001b[0munique\u001b[0m\u001b[1;33m(\u001b[0m\u001b[1;33m)\u001b[0m\u001b[1;33m)\u001b[0m\u001b[1;33m\u001b[0m\u001b[1;33m\u001b[0m\u001b[0m\n\u001b[0;32m      2\u001b[0m \u001b[1;33m\u001b[0m\u001b[0m\n\u001b[1;32m----> 3\u001b[1;33m \u001b[0mprint\u001b[0m\u001b[1;33m(\u001b[0m\u001b[1;34m'There are {} restaurants included in the data. \\n'\u001b[0m\u001b[1;33m.\u001b[0m\u001b[0mformat\u001b[0m\u001b[1;33m(\u001b[0m\u001b[0mlen\u001b[0m\u001b[1;33m(\u001b[0m\u001b[0mx\u001b[0m\u001b[1;33m)\u001b[0m\u001b[1;33m)\u001b[0m\u001b[1;33m)\u001b[0m\u001b[1;33m\u001b[0m\u001b[1;33m\u001b[0m\u001b[0m\n\u001b[0m",
      "\u001b[1;31mNameError\u001b[0m: name 'x' is not defined"
     ]
    }
   ],
   "source": [
    "num_restaurants=len(df['RESTAURANT'].unique())\n",
    "\n",
    "print('There are {} restaurants included in the data. \\n'.format(len(x)))\n"
   ]
  },
  {
   "cell_type": "markdown",
   "id": "ff3a271e",
   "metadata": {},
   "source": [
    "# [Q3, 6 points] How many chains are there?\n",
    "Let us define a chain to be the same restaurant name occurring in at least two different \n",
    "(building, street, zipcode, boro) addresses (i.e., one DBA with multiple restaurant locations).\n",
    "\n",
    "You’ll see multiple versions of the name ”DUNKIN DONUTS”. Just act\n",
    "as if they are different chains.\n"
   ]
  },
  {
   "cell_type": "code",
   "execution_count": null,
   "id": "bc4198e3",
   "metadata": {},
   "outputs": [],
   "source": [
    "#One way to do it\n",
    "#changing original dataframe to not have duplicate restaurants\n",
    "df=df.drop_duplicates(subset='RESTAURANT')\n",
    "vc=df['DBA'].value_counts()\n",
    "\n",
    "vc=dict(vc)\n",
    "\n",
    "chain_count=0\n",
    "for k,v in vc.items():\n",
    "    if v>1:\n",
    "        chain_count+=1\n",
    "\n",
    "print('There are {} chain restaurants.'.format(chain_count))"
   ]
  },
  {
   "cell_type": "code",
   "execution_count": null,
   "id": "f49af870",
   "metadata": {},
   "outputs": [],
   "source": [
    "# Another way to do it\n",
    "tmp_df = df[['DBA', 'RESTAURANT']].drop_duplicates()['DBA'].value_counts()\n",
    "num_chains = len(tmp_df[tmp_df.values > 1])\n",
    "\n",
    "print('There are {} chain restaurants.'.format(num_chains))"
   ]
  },
  {
   "cell_type": "markdown",
   "id": "1e9f772e",
   "metadata": {},
   "source": [
    "# [Q4, 6 points] Plot a bar graph of the top 20 most popular chains.\n",
    "We already have the chains from the previous problem. Count the number\n",
    "of restaurants for each chain as a measure of its popularity"
   ]
  },
  {
   "cell_type": "code",
   "execution_count": null,
   "id": "e737f461",
   "metadata": {},
   "outputs": [],
   "source": [
    "vc=df['DBA'].value_counts()\n",
    "\n",
    "vc.iloc[:20].plot(kind='bar')"
   ]
  },
  {
   "cell_type": "markdown",
   "id": "4a5156dc",
   "metadata": {},
   "source": [
    "# [Q5, 6 points] What fraction of all restaurants are chain restaurants? You should think of a restaurant as being one restaurant at one location.\n",
    "\n",
    " So “Wendy’s 5th Street” and “Wendy’s on 10th Street” are two\n",
    "different restaurants. Essentially a restaurant is what you defined in Q1.\n",
    "\n"
   ]
  },
  {
   "cell_type": "code",
   "execution_count": null,
   "id": "0003eda7",
   "metadata": {},
   "outputs": [],
   "source": [
    "chain_frac = num_chains/num_restaurants\n",
    "\n",
    "print('{:.2%} of all restaurants are chain restaurants. \\n'.format(chain_frac))"
   ]
  },
  {
   "cell_type": "markdown",
   "id": "0f85a5ba",
   "metadata": {},
   "source": [
    "# [Q6, 6 points] Plot the number of non-chain restaurants in each boro\n",
    "\n",
    "First, we need to figure out all the non-chain restaurants, then select\n",
    "out only those restaurants, and finally plot the number of such restaurants\n",
    "by boro. Make sure to look at the plot; we don’t want to see... oh... the\n",
    "“missing” boro.\n"
   ]
  },
  {
   "cell_type": "code",
   "execution_count": null,
   "id": "870dff93",
   "metadata": {},
   "outputs": [],
   "source": [
    "#dropping all duplicates to get nonchains as a dataframe\n",
    "nonchains = df.drop_duplicates(subset = 'DBA', keep = False)\n",
    "\n",
    "#removing 'missing' column\n",
    "nonchains = nonchains[nonchains['BORO'] != 'Missing']\n",
    "\n",
    "nonchains['BORO'].value_counts().plot(kind='bar')\n",
    "nonchains['BORO'].value_counts()"
   ]
  },
  {
   "cell_type": "markdown",
   "id": "614f46e2",
   "metadata": {},
   "source": [
    "# [Q7, 8 points] Plot the fraction of non-chain restaurants in each boro. \n",
    "\n",
    "The boro with the most non-chain restaurants might just be the\n",
    "boro with the most restaurants in general. If we want to find the boro that\n",
    "attracts the most “independent” restauranteurs, we must divide the number\n",
    "of non-chain restaurants by the total number of restaurants in the boro. Plot\n",
    "this.\n",
    "\n",
    "Is the boro with the most independent restaurants also the one with the\n",
    "highest ratio of independent restaurants?"
   ]
  },
  {
   "cell_type": "code",
   "execution_count": null,
   "id": "29d29bc9",
   "metadata": {},
   "outputs": [],
   "source": [
    "tmp_df = df[df['BORO'] != 'Missing']\n",
    "\n",
    "print((nonchains['BORO'].value_counts() / tmp_df['BORO'].value_counts()).sort_values(ascending=False))\n",
    "\n",
    "(nonchains['BORO'].value_counts() / tmp_df['BORO'].value_counts()).sort_values(ascending=False).plot(kind='bar')"
   ]
  },
  {
   "cell_type": "markdown",
   "id": "ac31605b",
   "metadata": {},
   "source": [
    "# [Q8, 6 points] Plot the popularity of cuisines. \n",
    "\n",
    "Which cuisines are the most well-represented among all restaurants? Define the popularity of a\n",
    "cuisine as the number of restaurants serving that cuisine. Plot the popularity\n",
    "of the top 20 cuisines."
   ]
  },
  {
   "cell_type": "code",
   "execution_count": null,
   "id": "5cd21390",
   "metadata": {},
   "outputs": [],
   "source": [
    "df[\"CUISINE DESCRIPTION\"].value_counts()[:20].plot(kind=\"bar\")"
   ]
  },
  {
   "cell_type": "markdown",
   "id": "9d77c6ab",
   "metadata": {},
   "source": [
    "# [Q9, 9 points] Plot the cuisines among restaurants which never got cited for violations.\n",
    " \n",
    "Ideally, you should explore and see what happens\n",
    "when there is no violation, but here I will just tell you: the ’VIOLATION\n",
    "CODE’ field is missing.\n",
    "\n",
    "First, find the restaurants that were never cited for a code violation. The\n",
    "compute the popularity of each cuisine among these “clean” restaurants. Plot\n",
    "the popularity of the top-20 among these cuisines."
   ]
  },
  {
   "cell_type": "code",
   "execution_count": null,
   "id": "0e9f2eab",
   "metadata": {},
   "outputs": [],
   "source": [
    "no_vio = df[df['VIOLATION CODE'].isnull()]\n",
    "\n",
    "no_vio['CUISINE DESCRIPTION'].value_counts()[:20].plot(kind='bar')"
   ]
  },
  {
   "cell_type": "markdown",
   "id": "937c6d89",
   "metadata": {},
   "source": [
    "# [Q10, 6 points] What cuisines tend to be the “cleanest”?\n",
    "\n",
    "• Select all cuisines for which there were at least 20 restaurants repre\u0002senting that cuisine.\n",
    "\n",
    "• For each such cuisine, compute the ratio of the counts in Q9 to Q8.\n",
    "\n",
    "This is the ratio of restaurants that never got cited, versus total number\n",
    "of restaurants, for each cuisine.\n",
    "\n",
    "• Find the top-10 cuisines with the highest ratios; these are that cuisines\n",
    "whose restaurants are “most likely to be clean.”"
   ]
  },
  {
   "cell_type": "code",
   "execution_count": null,
   "id": "a7fd6841",
   "metadata": {},
   "outputs": [],
   "source": [
    "cuisine_series = df['CUISINE DESCRIPTION'].value_counts()\n",
    "\n",
    "def is_top_cuisine(cuisine):\n",
    "    return cuisine_series[cuisine]>=20\n",
    "\n",
    "mask = df['CUISINE DESCRIPTION'].map(is_top_cuisine)\n",
    "mask2 = df['VIOLATION CODE'].isnull()\n",
    "\n",
    "tmp_series = df[mask & mask2]['CUISINE DESCRIPTION'].value_counts()\n",
    "tmp_series2 = df[mask]['CUISINE DESCRIPTION'].value_counts()\n",
    "(tmp_series/tmp_series2).sort_values(ascending=False)[:10].plot(kind=\"bar\")"
   ]
  },
  {
   "cell_type": "markdown",
   "id": "d6436ee5",
   "metadata": {},
   "source": [
    "# [Q11, 8 points] What are the most common violations in each borough? \n",
    "\n",
    "Create a table of the number of times each violation description\n",
    "was observed in each borough, and figure out the most common violation\n",
    "description for each borough.\n",
    "\n",
    "To create the table, check out the crosstab function. We will see a more\n",
    "general version of this when we discuss groupby in class."
   ]
  },
  {
   "cell_type": "code",
   "execution_count": null,
   "id": "32e6816e",
   "metadata": {},
   "outputs": [],
   "source": [
    "vio_boro = pd.crosstab(df['VIOLATION DESCRIPTION'],df[df['BORO'] != 'Missing']['BORO']) #second boro tells what column\n",
    "vio_boro.idxmax()"
   ]
  },
  {
   "cell_type": "code",
   "execution_count": null,
   "id": "f46b4f5f",
   "metadata": {},
   "outputs": [],
   "source": [
    "###I did it this way just to practice dataframe merge!!!\n",
    "\n",
    "#Get the frequency of violation per boro\n",
    "\n",
    "vio=df[['BORO','VIOLATION CODE']]\n",
    "vio=vio.dropna()\n",
    "vio.sort_values(['BORO','VIOLATION CODE'])\n",
    "x=pd.crosstab(vio['VIOLATION CODE'],vio['BORO'])\n",
    "#x=x.transpose()\n",
    "x=pd.DataFrame(x.idxmax())\n",
    "\n",
    "x['BORO']=x.index\n",
    "\n",
    "\n",
    "#Only pick the 2 columns from original dataframe - the purpose is to link the code with violation description\n",
    "#since the question is asking about the 'violation description'\n",
    "\n",
    "y=df[['VIOLATION CODE', 'VIOLATION DESCRIPTION']]\n",
    "\n",
    "y=y.drop_duplicates()\n",
    "\n",
    "#Get violation description from violation code\n",
    "\n",
    "get_vio_code=x.merge(y,\n",
    "                     left_on=0,\n",
    "                    right_on='VIOLATION CODE',)\n",
    "\n",
    "max_vio=get_vio_code[['BORO', 'VIOLATION DESCRIPTION']]\n",
    "max_vio=max_vio.drop(max_vio.index[[-1]])\n",
    "\n",
    "print('\\nThe max violation for each borough is: \\n')\n",
    "print(max_vio)\n"
   ]
  },
  {
   "cell_type": "markdown",
   "id": "0f99bb64",
   "metadata": {},
   "source": [
    "# [Q12, 9 points] What are the most common violations per borough,after normalizing for the relative abundance of each violation?\n",
    "\n",
    "\n",
    "Hopefully, the answer to the previous question left you unsatisfied, because\n",
    "some violations are just very common, irrespective of borough. A better\n",
    "approach would be to normalize the violation counts, as follows.\n",
    "\n",
    "• Get overall frequencies: Figure out how common each violation is, over\n",
    "the entire dataset; let’s call this violationFrequency.\n",
    "\n",
    "• Normalize: Consider the table of number of violations by boro that\n",
    "you created for the previous question. For each borough, divide the\n",
    "number of violations of each type by the total number of violations for\n",
    "that type; i.e., divide the series of violations by violationFrequency.\n",
    "We want to do this for each borough.\n",
    "\n",
    "• Find the biggest violations: Now, after this normalization, for each\n",
    "borough, figure out the most common violation description."
   ]
  },
  {
   "cell_type": "code",
   "execution_count": null,
   "id": "13fa4f5a",
   "metadata": {},
   "outputs": [],
   "source": [
    "vio=df[['BORO','VIOLATION DESCRIPTION']]\n",
    "vio=vio.dropna()\n",
    "vio.sort_values(['BORO','VIOLATION DESCRIPTION'])\n",
    "violationFrequency=vio['VIOLATION DESCRIPTION'].value_counts()\n",
    "violationFrequency=list(violationFrequency)\n",
    "\n",
    "\n",
    "x=pd.crosstab(vio['VIOLATION DESCRIPTION'],vio['BORO'])\n",
    "x=x.astype(int)\n",
    "\n",
    "#Get violation frequencies\n",
    "x['violationFrequency']= x.iloc[:,:].sum(axis=1)\n",
    "\n",
    "\n",
    "#Normalize\n",
    "norm_vio=x.iloc[:,:-1].div(x['violationFrequency'], axis=0)\n",
    "#Find max\n",
    "mx=norm_vio.idxmax()\n",
    "mx=mx.drop(mx.index[[3]])\n",
    "\n",
    "print ('The most common violation in each boro after normalize to total of each violation is: \\n')\n",
    "print (mx)"
   ]
  },
  {
   "cell_type": "markdown",
   "id": "b0bc6d98",
   "metadata": {},
   "source": [
    "# [Q13, 8 points] How many phone area codes correspond to a single zipcode?\n",
    "\n",
    "\n",
    "The first three digits of the restaurant phone numbers are their\n",
    "area codes. The area codes do not generally align with zip codes, but some\n",
    "area codes are only for a single zip code. You must figure out how many area\n",
    "codes have this property.\n",
    "\n",
    "   • To extract the first 3 characters of the phone number, recall that strings\n",
    "are pretty similar to lists."
   ]
  },
  {
   "cell_type": "code",
   "execution_count": null,
   "id": "f4ff45eb",
   "metadata": {},
   "outputs": [],
   "source": [
    "df[:5]"
   ]
  },
  {
   "cell_type": "code",
   "execution_count": null,
   "id": "819dd323",
   "metadata": {},
   "outputs": [],
   "source": [
    "df['AREA CODE'] = df['PHONE'].astype(str).str[:3]\n",
    "\n",
    "x_tab = pd.crosstab(df['AREA CODE'],df['ZIPCODE'])\n",
    "x_tab['SUM'] = x_tab.sum(axis=1)\n",
    "x_tab[x_tab['SUM']==1]['SUM']\n",
    "\n",
    "area_code_list=x_tab.index\n",
    "\n",
    "area_code_list=list(area_code_list)\n",
    "\n",
    "err_in_data=['000','___']\n",
    "\n",
    "area_code_list = [c for c in area_code_list if c not in err_in_data]\n",
    "\n",
    "print ('There are total of {} phone area codes that only appear in ONE zipcode!\\n'.format(len(area_code_list)))\n",
    "\n",
    "print ('The ara code list includes {}'.format(area_code_list))"
   ]
  },
  {
   "cell_type": "markdown",
   "id": "3b0a4b20",
   "metadata": {},
   "source": [
    "# [Q14, 10 points] Find common misspellings of street names \n",
    "\n",
    "Some times, it’s Avenue, and sometimes, it’s Ave. We will try to come up with an\n",
    "automated way to find common misspellings. The idea is the following: if\n",
    "Ave and Avenue are the same, they should show up often in similar-sounding\n",
    "street names, e.g., Lexington Ave and Lexington Avenue.\n",
    "\n",
    "• Create a new column, called STREET TYPE, which is the the last word\n",
    "in the name of the street. For example, if the street is “Astoria Boulevard”, the street type should be “Boulevard”.\n"
   ]
  },
  {
   "cell_type": "code",
   "execution_count": null,
   "id": "edd9d63b",
   "metadata": {},
   "outputs": [],
   "source": [
    "def find_lst_word(street):\n",
    "    str_name=street.split()\n",
    "    lst_word=str_name[-1]\n",
    "    return lst_word\n",
    "\n",
    "\n",
    "df['STREET TYPE']=df['STREET'].apply(find_lst_word)\n",
    "\n",
    "df['STREET TYPE']"
   ]
  },
  {
   "cell_type": "markdown",
   "id": "13a0005e",
   "metadata": {},
   "source": [
    "• Create another column, called STREET BASE, which contains everything\n",
    "but the last word in the name of the street. For example, if the street\n",
    "is “Astoria Boulevard”, the street base should be “Astoria”."
   ]
  },
  {
   "cell_type": "code",
   "execution_count": null,
   "id": "68f9f5bf",
   "metadata": {},
   "outputs": [],
   "source": [
    "def find_first_words(street):\n",
    "    str_name=street.split()\n",
    "    get_words=str_name[:-1]\n",
    "    first_words=' '.join(get_words)\n",
    "    return first_words\n",
    "\n",
    "find_first_words('resg sdfasd sdfadsf')\n",
    "\n",
    "\n",
    "df['STREET BASE']=df['STREET'].apply(find_first_words)\n",
    "\n",
    "df[['STREET','STREET BASE','STREET TYPE']][20:40]"
   ]
  },
  {
   "cell_type": "markdown",
   "id": "0f8ec36d",
   "metadata": {},
   "source": [
    "Create a third column, called STREET BASE & ZIP, that combines the\n",
    "street base and the zipcode."
   ]
  },
  {
   "cell_type": "code",
   "execution_count": null,
   "id": "f354fa4d",
   "metadata": {},
   "outputs": [],
   "source": [
    "df['STREET BASE & ZIP']=df['STREET BASE']+' '+df['ZIPCODE']\n",
    "df[['STREET','STREET BASE','STREET TYPE','STREET BASE & ZIP']][:20]\n",
    "df.shape"
   ]
  },
  {
   "cell_type": "markdown",
   "id": "85a69a8b",
   "metadata": {},
   "source": [
    "Create a table containing just these three columns, and remove any\n",
    "duplicates or instances where street base is empty. This table now\n",
    "contains unique street names, along with the street type.\n"
   ]
  },
  {
   "cell_type": "code",
   "execution_count": null,
   "id": "f061faae",
   "metadata": {},
   "outputs": [],
   "source": [
    "st=df[['STREET BASE','STREET TYPE','STREET BASE & ZIP']].dropna(subset=['STREET BASE'])\n",
    "print(st.shape)\n",
    "st=st.drop_duplicates(subset=['STREET BASE','STREET TYPE'])\n",
    "print(st.shape)"
   ]
  },
  {
   "cell_type": "code",
   "execution_count": null,
   "id": "c7b5b27c",
   "metadata": {},
   "outputs": [],
   "source": [
    "st[:10]"
   ]
  },
  {
   "cell_type": "markdown",
   "id": "1e0e73b0",
   "metadata": {},
   "source": [
    "Merge this table with itself, on the STREET BASE & ZIP column. Thus,\n",
    "in the new merged tabled, we will have two STREET TYPE fields for\n",
    "each street base and zipcode. For example, if both Lexington Ave and\n",
    "Lexington Avenue exist in the same zipcode, we will get a row for the\n",
    "street base Lexington and the two street types Ave and Avenue"
   ]
  },
  {
   "cell_type": "code",
   "execution_count": null,
   "id": "2fa311a4",
   "metadata": {},
   "outputs": [],
   "source": [
    "merg_st=st.merge(st,left_on='STREET BASE & ZIP',right_on='STREET BASE & ZIP')\n",
    "merg_st.sort_values('STREET BASE_x')[-20:]"
   ]
  },
  {
   "cell_type": "markdown",
   "id": "044b3869",
   "metadata": {},
   "source": [
    "• From the merged table, select only the rows where the street types are\n",
    "different"
   ]
  },
  {
   "cell_type": "code",
   "execution_count": null,
   "id": "0b5a113b",
   "metadata": {},
   "outputs": [],
   "source": [
    "mask=merg_st['STREET TYPE_x']!=merg_st['STREET TYPE_y']\n",
    "\n",
    "merg_st[mask][:20]"
   ]
  },
  {
   "cell_type": "markdown",
   "id": "9362567d",
   "metadata": {},
   "source": [
    "Now, do a cross-tabulation of the two distinct street types (check out\n",
    "the crosstab function in Pandas). This gives us the number of times\n",
    "Ave and Avenue were used with the same STREET BASE & ZIP."
   ]
  },
  {
   "cell_type": "code",
   "execution_count": null,
   "id": "3996adbe",
   "metadata": {},
   "outputs": [],
   "source": [
    "\n",
    "x_tbl=pd.crosstab(merg_st['STREET BASE & ZIP'],merg_st['STREET TYPE_x'])\n",
    "print(x_tbl.shape)\n",
    "x_tbl[160:170]\n"
   ]
  },
  {
   "cell_type": "markdown",
   "id": "4273c509",
   "metadata": {},
   "source": [
    "From this cross-tabulation table, find the most commonly street type\n",
    "that occurs with each of the following: AVE, ST, RD, PL, BOULEARD,\n",
    "and BULEVARD"
   ]
  },
  {
   "cell_type": "code",
   "execution_count": null,
   "id": "8822c148",
   "metadata": {},
   "outputs": [],
   "source": [
    "x=pd.DataFrame(x_tbl)\n",
    "\n",
    "x=x[['AVE', 'ST', 'RD', 'PL', 'BOULEARD','BULEVARD']]\n",
    "\n",
    "print ('These are the most commonly occuring street names with \"AVE, ST, RD, PL, BOULEARD, and BULEVARD: \"')\n",
    "\n",
    "x.idxmax(axis=0)"
   ]
  }
 ],
 "metadata": {
  "kernelspec": {
   "display_name": "Python 3",
   "language": "python",
   "name": "python3"
  },
  "language_info": {
   "codemirror_mode": {
    "name": "ipython",
    "version": 3
   },
   "file_extension": ".py",
   "mimetype": "text/x-python",
   "name": "python",
   "nbconvert_exporter": "python",
   "pygments_lexer": "ipython3",
   "version": "3.8.8"
  }
 },
 "nbformat": 4,
 "nbformat_minor": 5
}
