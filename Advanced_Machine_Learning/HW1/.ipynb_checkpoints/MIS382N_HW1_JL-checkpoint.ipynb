{
 "cells": [
  {
   "cell_type": "markdown",
   "metadata": {
    "id": "TWWU_gOSLEEv"
   },
   "source": [
    "# Question 1: MLOps (10 pts)\n",
    "# Read this [article](https://towardsdatascience.com/what-is-mlops-everything-you-must-know-to-get-started-523f2d0b8bd8) \"What is MLOps — Everything You Must Know to Get Started\", which gives a quick walkthrough of the machine learning development lifecycle and explains how MLOps come into play, or watch this [video](https://www.youtube.com/watch?v=06-AZXmwHjo) which you may find interesting.\n",
    "\n",
    "# 1. (**4 pts**) Use your own words to describe what MLOps is, and what challenges MLOps address. Limit your answer to one paragraph.\n",
    "\n",
    "## Answer:\n",
    "\n",
    "MLOps are a relatively new engineering category as a subset of data scientists that intersects DevOps, who can both develope ML system and apply such ML system to continuously deliver high performrace models to solve business problems. \n",
    "MLOps combine Machine Learning development process with the operations process to form an integrated workflow to optimize KPI. MLOps are adaptive and dynamic to address changing business ojectives in the models, and bridge communication gaps between technical and business units with common language to collaborate, where the risk/cost can be better assessed with improved transparency of the ML/DL systems to their ultimater clients - the business teams. The market is demanding more MLOps as they reside on a sweek spot at the intersection of Data Science and DevOps.\n",
    "\n",
    "\n",
    "# 2. (**6 pts**) Describe what the main phases in MLOps are. Your answer should be 2-3 paragraphs.\n",
    "\n",
    "\n",
    "\n",
    "## Answer:\n",
    "\n",
    "First, MLOps should define the business goal or objective to achieve, and then plan for ML and data solutions to achieve the goal. You need to look for available relevant data that are regularization compliant, understand the techinical details (sources, type, storage, etc.) of the data before using it. Next step is data preparation. Data needs to be cleaned and feature engineered and selected. In addition, pipeline needs to be designed to make the clean and compatible data architectured, stored and accessable to model.\n",
    "\n",
    "The next step of training your ML model using the training dataset, the initial phase of training to iterate with different types of models and to use several quantitative measures like accuracy, precision, recall, etc. to compare model performance and compare model against baselines and simpler models.\n",
    "\n",
    "Then MLOps need to build automating ML pipelines and deploying models to the production system. After that, MLOps need to monitor, optimize and maintain models to ensure that models deliver the results by design to all stakeholders and relevant users."
   ]
  },
  {
   "cell_type": "markdown",
   "metadata": {
    "id": "wusA9L1LmUMH"
   },
   "source": [
    "# Question 2: Applications of Machine Learning (5 pts)\n",
    "Read this [article](https://builtin.com/data-science/data-science-applications-examples) \"17 Data Science Applications & Examples\" and pick one of the data science systems used by various organizations according to this blog. \n",
    "\n",
    "For this system you have chosen, answer the following questions. Please limit your answer to one paragraph:\n",
    "\n",
    "1. What kind of machine learning problem is involved (e.g. classification, regression, clustering, outlier detection,...) in this system?\n",
    "2. Speculate on what kind of data may be needed and how the results can be useful to the organization.\n",
    "3. What do you think are the ethical implications of using machine learning in a domain like this?\n",
    "\n",
    "## Answer:\n",
    "\n"
   ]
  },
  {
   "cell_type": "markdown",
   "metadata": {},
   "source": [
    "1. UPS uses data science and machine learning algorithm to optimize package transportation route from drop-off to delivery to maximize efficiency. There was recent development algorithm combining clustering and decision trees. These predictions are obtained with a recently introduced tree-based method using aggregate features at the cluster level."
   ]
  },
  {
   "cell_type": "markdown",
   "metadata": {},
   "source": [
    "2. Data needed include geographic/spacial data for roads, daynamic road conditions, customer locations, distribution center locations, vihicle locations, vihicle load capacities, speeds, etc."
   ]
  },
  {
   "cell_type": "markdown",
   "metadata": {},
   "source": [
    "3. Route optimization doesn't have obvious ethical challenges to overcome. In fact, it has very positive ethical implications: it saves fuel (resource), and continuous reducing carbon emission at large scale, and increase the overall life quality of human society by improve efficiency of delivery service. "
   ]
  },
  {
   "cell_type": "markdown",
   "metadata": {
    "id": "2w8za9lLmVO7"
   },
   "source": [
    "# Question 3: Simpson's Paradox (10 pts)\n",
    "A data scientist should be careful about drawing unwarranted conclusions about any data that is presented. One of the 'gotchas' that can happen even in apparently very simple tabular summaries, is called Simpson's paradox.\n",
    "\n",
    "Read this [article](https://www.covid-datascience.com/post/israeli-data-how-can-efficacy-vs-severe-disease-be-strong-when-60-of-hospitalized-are-vaccinated), which explains why the computed efficacy of the Pfizer vaccine is misleadingly low (67.5%) when you lump all people together, but once you stratify people by age (which is the right thing to do), you get much higher efficacy numbers.\n",
    "\n",
    "1.(**5 pts**) Explain in your own words what Simpson's paradox is, and how this 'paradox' can happen in real data.\n",
    "\n",
    "\n",
    "\n",
    "2.(**5 pts**) Find and mention another example of Simpson's paradox (but not any of the 3 examples given in the Wikipedia entry for 'Simpson's paradox'), state why the paradox appeared in your chosen example. Also give a reference (URL) to your source for the chosen example.\n",
    "\n",
    "## Answer:"
   ]
  },
  {
   "cell_type": "markdown",
   "metadata": {},
   "source": [
    "1. Simpson's paradox is that very different or even opposite conclusions can be drawn from the same data depending on how the samples were grouped. In another word, a conclusion that is drawn when data is put into subgroup that reverses or disappears when the data is combined.Simpson's paradox can happen in real data when samples are lumped together without putting them in the proper population context. We need to understand the causality inhereted in the data. If you don't have control on conditions of certain population, Simpson's paradox can happen and lead one to draw wrong conclusion. "
   ]
  },
  {
   "cell_type": "markdown",
   "metadata": {},
   "source": [
    "2. For example, to test a drug named decentril for effectiveness, 800 people were tested and half of them were placed in the placedo group. The result seems promising scince half of the people took Decentril recoverd and only 40% of people taking placedo recovered. However, if we look at the subgroups of men and women, we found that recovery rate for both men and women are higher for the placedo group.\n",
    "\n",
    "When design experiment, we need to pay attention to lurking confounding variables that may distort the result of the final interpretion or even ruin the whole experiment. For example, there is a very unbalanced sample size and recovery rate for female and male groups in this example, which gives rise to the misleading overall positive result of the drug by lumping them together. \n",
    "\n",
    "link:https://365datascience.com/trending/simpsons-paradox/"
   ]
  },
  {
   "cell_type": "code",
   "execution_count": 1,
   "metadata": {},
   "outputs": [
    {
     "data": {
      "image/png": "[encoded data removed]",
      "text/plain": [
       "<PIL.PngImagePlugin.PngImageFile image mode=RGBA size=663x106 at 0x1E53724DFA0>"
      ]
     },
     "execution_count": 1,
     "metadata": {},
     "output_type": "execute_result"
    }
   ],
   "source": [
    "import requests\n",
    "from PIL import Image\n",
    "Image.open(requests.get('https://365datascience.com/resources/blog/2017-07-table-1.png', stream=True).raw)"
   ]
  },
  {
   "cell_type": "code",
   "execution_count": 2,
   "metadata": {},
   "outputs": [
    {
     "data": {
      "image/png": "[encoded data removed]",
      "text/plain": [
       "<PIL.PngImagePlugin.PngImageFile image mode=RGBA size=673x144 at 0x1E5373E8A30>"
      ]
     },
     "execution_count": 2,
     "metadata": {},
     "output_type": "execute_result"
    }
   ],
   "source": [
    "Image.open(requests.get('https://365datascience.com/resources/blog/2017-07-table-2.png', stream=True).raw)"
   ]
  },
  {
   "cell_type": "markdown",
   "metadata": {
    "id": "gth0D8jiMBSe"
   },
   "source": [
    "# Question 4: Ridge and Lasso Regression (30 pts)\n",
    "\n",
    "Download the dataset **Admission.csv** from Canvas and use the following codes to import the Admission dataset in Python. \n",
    "\n",
    "There are 7 features in the dataset:\n",
    "\n",
    "1. GRE score\n",
    "2. TOEFL score\n",
    "3. University Rating\n",
    "4. SOP(Statement of Purpose)\n",
    "5. LOR(Letter of Recommendation)\n",
    "6. CGPA\n",
    "7. Research\n",
    "\n",
    "And the target is **Chance of Admission**."
   ]
  },
  {
   "cell_type": "code",
   "execution_count": 3,
   "metadata": {
    "id": "QFazlpLgGpAa"
   },
   "outputs": [],
   "source": [
    "# Only use this code block if you are using Google Colab.\n",
    "# If you are using Jupyter Notebook, please ignore this code block. You can directly upload the file to your Jupyter Notebook file systems.\n",
    "#from google.colab import files\n",
    "\n",
    "## It will prompt you to select a local file. Click on “Choose Files” then select and upload the file. \n",
    "## Wait for the file to be 100% uploaded. You should see the name of the file once Colab has uploaded it.\n",
    "#uploaded = files.upload()"
   ]
  },
  {
   "cell_type": "code",
   "execution_count": 4,
   "metadata": {
    "id": "xsPaOOehGuU6"
   },
   "outputs": [],
   "source": [
    "# Codes below will work for both Google Colab and Jupyter Notebook.\n",
    "import numpy as np\n",
    "import pandas as pd\n",
    "import random\n",
    "from sklearn import linear_model\n",
    "from sklearn.metrics import mean_absolute_error, mean_squared_error\n",
    "from sklearn.linear_model import LogisticRegression\n",
    "\n",
    "## Load the dataset into pandas DataFrame\n",
    "df = pd.read_csv('D:\\\\05_GitHub\\\\Data_Science_Projects\\\\Advanced_Machine_Learning\\\\HW1\\\\admission.csv',index_col=0)\n",
    "df = df.replace([np.inf, -np.inf], np.nan) # \n",
    "df = df.fillna(0) # Replace all the NaN values with 0"
   ]
  },
  {
   "cell_type": "code",
   "execution_count": 5,
   "metadata": {
    "id": "PmMz72U6Gv-z"
   },
   "outputs": [
    {
     "data": {
      "text/plain": [
       "Index(['GRE_Score', 'TOEFL_Score', 'University_Rating', 'SOP', 'LOR ', 'CGPA',\n",
       "       'Research', 'Chance_of_Admit'],\n",
       "      dtype='object')"
      ]
     },
     "execution_count": 5,
     "metadata": {},
     "output_type": "execute_result"
    }
   ],
   "source": [
    "df.columns # Show you all the columns in this file"
   ]
  },
  {
   "cell_type": "code",
   "execution_count": 6,
   "metadata": {
    "id": "CyZN-yFfGxlt"
   },
   "outputs": [
    {
     "data": {
      "text/html": [
       "<div>\n",
       "<style scoped>\n",
       "    .dataframe tbody tr th:only-of-type {\n",
       "        vertical-align: middle;\n",
       "    }\n",
       "\n",
       "    .dataframe tbody tr th {\n",
       "        vertical-align: top;\n",
       "    }\n",
       "\n",
       "    .dataframe thead th {\n",
       "        text-align: right;\n",
       "    }\n",
       "</style>\n",
       "<table border=\"1\" class=\"dataframe\">\n",
       "  <thead>\n",
       "    <tr style=\"text-align: right;\">\n",
       "      <th></th>\n",
       "      <th>GRE_Score</th>\n",
       "      <th>TOEFL_Score</th>\n",
       "      <th>University_Rating</th>\n",
       "      <th>SOP</th>\n",
       "      <th>LOR</th>\n",
       "      <th>CGPA</th>\n",
       "      <th>Research</th>\n",
       "      <th>Chance_of_Admit</th>\n",
       "    </tr>\n",
       "    <tr>\n",
       "      <th>Serial No.</th>\n",
       "      <th></th>\n",
       "      <th></th>\n",
       "      <th></th>\n",
       "      <th></th>\n",
       "      <th></th>\n",
       "      <th></th>\n",
       "      <th></th>\n",
       "      <th></th>\n",
       "    </tr>\n",
       "  </thead>\n",
       "  <tbody>\n",
       "    <tr>\n",
       "      <th>1</th>\n",
       "      <td>337</td>\n",
       "      <td>118</td>\n",
       "      <td>4</td>\n",
       "      <td>4.5</td>\n",
       "      <td>4.5</td>\n",
       "      <td>9.65</td>\n",
       "      <td>1</td>\n",
       "      <td>0.92</td>\n",
       "    </tr>\n",
       "    <tr>\n",
       "      <th>2</th>\n",
       "      <td>324</td>\n",
       "      <td>107</td>\n",
       "      <td>4</td>\n",
       "      <td>4.0</td>\n",
       "      <td>4.5</td>\n",
       "      <td>8.87</td>\n",
       "      <td>1</td>\n",
       "      <td>0.76</td>\n",
       "    </tr>\n",
       "    <tr>\n",
       "      <th>3</th>\n",
       "      <td>316</td>\n",
       "      <td>104</td>\n",
       "      <td>3</td>\n",
       "      <td>3.0</td>\n",
       "      <td>3.5</td>\n",
       "      <td>8.00</td>\n",
       "      <td>1</td>\n",
       "      <td>0.72</td>\n",
       "    </tr>\n",
       "    <tr>\n",
       "      <th>4</th>\n",
       "      <td>322</td>\n",
       "      <td>110</td>\n",
       "      <td>3</td>\n",
       "      <td>3.5</td>\n",
       "      <td>2.5</td>\n",
       "      <td>8.67</td>\n",
       "      <td>1</td>\n",
       "      <td>0.80</td>\n",
       "    </tr>\n",
       "    <tr>\n",
       "      <th>5</th>\n",
       "      <td>314</td>\n",
       "      <td>103</td>\n",
       "      <td>2</td>\n",
       "      <td>2.0</td>\n",
       "      <td>3.0</td>\n",
       "      <td>8.21</td>\n",
       "      <td>0</td>\n",
       "      <td>0.65</td>\n",
       "    </tr>\n",
       "  </tbody>\n",
       "</table>\n",
       "</div>"
      ],
      "text/plain": [
       "            GRE_Score  TOEFL_Score  University_Rating  SOP  LOR   CGPA  \\\n",
       "Serial No.                                                               \n",
       "1                 337          118                  4  4.5   4.5  9.65   \n",
       "2                 324          107                  4  4.0   4.5  8.87   \n",
       "3                 316          104                  3  3.0   3.5  8.00   \n",
       "4                 322          110                  3  3.5   2.5  8.67   \n",
       "5                 314          103                  2  2.0   3.0  8.21   \n",
       "\n",
       "            Research  Chance_of_Admit  \n",
       "Serial No.                             \n",
       "1                  1             0.92  \n",
       "2                  1             0.76  \n",
       "3                  1             0.72  \n",
       "4                  1             0.80  \n",
       "5                  0             0.65  "
      ]
     },
     "execution_count": 6,
     "metadata": {},
     "output_type": "execute_result"
    }
   ],
   "source": [
    "df.head() # Show you the first 5 rows in this file"
   ]
  },
  {
   "cell_type": "code",
   "execution_count": 7,
   "metadata": {
    "id": "S3TfR0i4G2rO"
   },
   "outputs": [],
   "source": [
    "y = df['Chance_of_Admit'] # The column named Chance_of_Admit is used as the target, and we store it in y\n",
    "X = df.drop(['Chance_of_Admit'], axis=1) # We keep the remaining columns as the features, and store them in x"
   ]
  },
  {
   "cell_type": "markdown",
   "metadata": {
    "id": "pKq1KERxJw9y"
   },
   "source": [
    "# 4.1 (2pt) Split the data into a training set(75% of data) and a test set(25% of data), using the [train_test_split](https://scikit-learn.org/stable/modules/generated/sklearn.model_selection.train_test_split.html) function with random_state = 50. Then scale the data (not including target) so that each of the independent variables would have zero mean and unit variance. You can use the [sklearn.preprocessing.scale](https://scikit-learn.org/stable/modules/generated/sklearn.preprocessing.scale.html) function for this. Print the first 5 rows of the training set after scaling."
   ]
  },
  {
   "cell_type": "code",
   "execution_count": 8,
   "metadata": {},
   "outputs": [],
   "source": [
    "from sklearn.model_selection import train_test_split\n",
    "from sklearn.preprocessing import scale"
   ]
  },
  {
   "cell_type": "code",
   "execution_count": 9,
   "metadata": {},
   "outputs": [
    {
     "name": "stdout",
     "output_type": "stream",
     "text": [
      "X_train sample, features(300, 7)\n",
      "y_train sample (300,)\n",
      "X_test sample features (100, 7)\n",
      "y_test (100,)\n"
     ]
    }
   ],
   "source": [
    "X_train, X_test, y_train, y_test = train_test_split(X, y, test_size=0.25, random_state=50)\n",
    "print('X_train sample, features{}'.format(X_train.shape))\n",
    "print('y_train sample {}'.format(y_train.shape))\n",
    "print('X_test sample features {}'.format(X_test.shape))\n",
    "print('y_test {}'.format(y_test.shape))"
   ]
  },
  {
   "cell_type": "code",
   "execution_count": 10,
   "metadata": {},
   "outputs": [],
   "source": [
    "#scale X_train and X_test\n",
    "X_train_sc=scale(X_train)\n",
    "X_test_sc=scale(X_test)"
   ]
  },
  {
   "cell_type": "code",
   "execution_count": 11,
   "metadata": {},
   "outputs": [
    {
     "data": {
      "text/plain": [
       "array([[ 1.52725374,  2.0917706 ,  1.61594354,  0.63150829,  1.72829095,\n",
       "         2.11370277,  0.90453403],\n",
       "       [ 0.74180896,  0.46308859, -0.9310778 , -0.35266047, -1.04140609,\n",
       "         0.29488827,  0.90453403],\n",
       "       [ 0.56726568,  0.13735218,  1.61594354,  0.63150829,  0.62041214,\n",
       "         0.26211684,  0.90453403],\n",
       "       [-0.39272239, -0.51412062, -0.08207069,  0.13942391,  0.62041214,\n",
       "        -0.80295471, -1.1055416 ],\n",
       "       [ 0.47999403,  0.78882499,  0.76693642,  1.12359267,  1.17435154,\n",
       "         1.11417408,  0.90453403]])"
      ]
     },
     "execution_count": 11,
     "metadata": {},
     "output_type": "execute_result"
    }
   ],
   "source": [
    "X_train_sc[:5]"
   ]
  },
  {
   "cell_type": "code",
   "execution_count": 12,
   "metadata": {},
   "outputs": [
    {
     "data": {
      "text/html": [
       "<div>\n",
       "<style scoped>\n",
       "    .dataframe tbody tr th:only-of-type {\n",
       "        vertical-align: middle;\n",
       "    }\n",
       "\n",
       "    .dataframe tbody tr th {\n",
       "        vertical-align: top;\n",
       "    }\n",
       "\n",
       "    .dataframe thead th {\n",
       "        text-align: right;\n",
       "    }\n",
       "</style>\n",
       "<table border=\"1\" class=\"dataframe\">\n",
       "  <thead>\n",
       "    <tr style=\"text-align: right;\">\n",
       "      <th></th>\n",
       "      <th>GRE_Score</th>\n",
       "      <th>TOEFL_Score</th>\n",
       "      <th>University_Rating</th>\n",
       "      <th>SOP</th>\n",
       "      <th>LOR</th>\n",
       "      <th>CGPA</th>\n",
       "      <th>Research</th>\n",
       "    </tr>\n",
       "    <tr>\n",
       "      <th>Serial No.</th>\n",
       "      <th></th>\n",
       "      <th></th>\n",
       "      <th></th>\n",
       "      <th></th>\n",
       "      <th></th>\n",
       "      <th></th>\n",
       "      <th></th>\n",
       "    </tr>\n",
       "  </thead>\n",
       "  <tbody>\n",
       "    <tr>\n",
       "      <th>147</th>\n",
       "      <td>315</td>\n",
       "      <td>105</td>\n",
       "      <td>3</td>\n",
       "      <td>2.0</td>\n",
       "      <td>2.5</td>\n",
       "      <td>8.48</td>\n",
       "      <td>0</td>\n",
       "    </tr>\n",
       "    <tr>\n",
       "      <th>333</th>\n",
       "      <td>308</td>\n",
       "      <td>106</td>\n",
       "      <td>3</td>\n",
       "      <td>3.5</td>\n",
       "      <td>2.5</td>\n",
       "      <td>8.21</td>\n",
       "      <td>1</td>\n",
       "    </tr>\n",
       "    <tr>\n",
       "      <th>68</th>\n",
       "      <td>316</td>\n",
       "      <td>107</td>\n",
       "      <td>2</td>\n",
       "      <td>3.5</td>\n",
       "      <td>3.5</td>\n",
       "      <td>8.64</td>\n",
       "      <td>1</td>\n",
       "    </tr>\n",
       "    <tr>\n",
       "      <th>363</th>\n",
       "      <td>338</td>\n",
       "      <td>115</td>\n",
       "      <td>5</td>\n",
       "      <td>4.5</td>\n",
       "      <td>5.0</td>\n",
       "      <td>9.23</td>\n",
       "      <td>1</td>\n",
       "    </tr>\n",
       "    <tr>\n",
       "      <th>103</th>\n",
       "      <td>314</td>\n",
       "      <td>106</td>\n",
       "      <td>2</td>\n",
       "      <td>4.0</td>\n",
       "      <td>3.5</td>\n",
       "      <td>8.25</td>\n",
       "      <td>0</td>\n",
       "    </tr>\n",
       "  </tbody>\n",
       "</table>\n",
       "</div>"
      ],
      "text/plain": [
       "            GRE_Score  TOEFL_Score  University_Rating  SOP  LOR   CGPA  \\\n",
       "Serial No.                                                               \n",
       "147               315          105                  3  2.0   2.5  8.48   \n",
       "333               308          106                  3  3.5   2.5  8.21   \n",
       "68                316          107                  2  3.5   3.5  8.64   \n",
       "363               338          115                  5  4.5   5.0  9.23   \n",
       "103               314          106                  2  4.0   3.5  8.25   \n",
       "\n",
       "            Research  \n",
       "Serial No.            \n",
       "147                0  \n",
       "333                1  \n",
       "68                 1  \n",
       "363                1  \n",
       "103                0  "
      ]
     },
     "execution_count": 12,
     "metadata": {},
     "output_type": "execute_result"
    }
   ],
   "source": [
    "X_test[:5]"
   ]
  },
  {
   "cell_type": "markdown",
   "metadata": {},
   "source": [
    "# 4.2 (5 pts) Use [sklearn.linear_model.Lasso](https://scikit-learn.org/stable/modules/generated/sklearn.linear_model.Lasso.html) and [sklearn.linear_model.Ridge](https://scikit-learn.org/stable/modules/generated/sklearn.linear_model.Ridge.html) classes to do a **5-fold** cross validation using sklearn's KFold. For the sweep of the regularization parameter, we will look at a grid of values ranging from α=10^10 to α=10^−6. In Python, you can consider this range of values as follows: alpha = 10**numpy.linspace(6,-6,100) \n",
    "\n",
    "# so that you can generate 100 uniform values between -6 to 6 as power series.\n",
    "\n",
    "# Fit the 2 regression models with scaled data and report the best chosen **α** based on cross validation as well as the corresponding scoring metric. The cross validation should happen on your training data using **MSE** as the scoring metric."
   ]
  },
  {
   "cell_type": "markdown",
   "metadata": {},
   "source": [
    "# Ridge and Lasso Models w/ 5-Fold Cross Validation"
   ]
  },
  {
   "cell_type": "code",
   "execution_count": 13,
   "metadata": {},
   "outputs": [],
   "source": [
    "import numpy as np\n",
    "from sklearn.metrics import SCORERS\n",
    "from sklearn.linear_model import RidgeCV\n",
    "from sklearn.model_selection import GridSearchCV\n",
    "from sklearn import linear_model\n",
    "from sklearn.linear_model import Ridge, RidgeCV, Lasso, LassoCV\n",
    "from sklearn.metrics import mean_squared_error\n",
    "from sklearn.model_selection import KFold\n",
    "from sklearn.metrics import mean_squared_error, make_scorer\n",
    "import matplotlib.pyplot as plt"
   ]
  },
  {
   "cell_type": "code",
   "execution_count": 14,
   "metadata": {},
   "outputs": [],
   "source": [
    "#Setup tunning parameters\n",
    "\n",
    "lasso = Lasso()\n",
    "ridge = Ridge()\n",
    "\n",
    "#5 fold CV\n",
    "\n",
    "kf=KFold(10)\n",
    "\n",
    "#Setup alpha gird\n",
    "\n",
    "alpha_grid = 10**np.linspace(6,-6,100)\n",
    "tuned_parameters = [{'alpha': alpha_grid}]\n"
   ]
  },
  {
   "cell_type": "code",
   "execution_count": 15,
   "metadata": {
    "scrolled": true
   },
   "outputs": [
    {
     "data": {
      "text/plain": [
       "GridSearchCV(cv=KFold(n_splits=10, random_state=None, shuffle=False),\n",
       "             estimator=Ridge(),\n",
       "             param_grid=[{'alpha': array([1.00000000e+06, 7.56463328e+05, 5.72236766e+05, 4.32876128e+05,\n",
       "       3.27454916e+05, 2.47707636e+05, 1.87381742e+05, 1.41747416e+05,\n",
       "       1.07226722e+05, 8.11130831e+04, 6.13590727e+04, 4.64158883e+04,\n",
       "       3.51119173e+04, 2.65608778e+04, 2.00923300e+04, 1.51991108e+...\n",
       "       6.13590727e-04, 4.64158883e-04, 3.51119173e-04, 2.65608778e-04,\n",
       "       2.00923300e-04, 1.51991108e-04, 1.14975700e-04, 8.69749003e-05,\n",
       "       6.57933225e-05, 4.97702356e-05, 3.76493581e-05, 2.84803587e-05,\n",
       "       2.15443469e-05, 1.62975083e-05, 1.23284674e-05, 9.32603347e-06,\n",
       "       7.05480231e-06, 5.33669923e-06, 4.03701726e-06, 3.05385551e-06,\n",
       "       2.31012970e-06, 1.74752840e-06, 1.32194115e-06, 1.00000000e-06])}],\n",
       "             scoring='neg_mean_squared_error')"
      ]
     },
     "execution_count": 15,
     "metadata": {},
     "output_type": "execute_result"
    }
   ],
   "source": [
    "#Fit a ridge model using MSE as scoring matric\n",
    "\n",
    "ridge_cv_model = GridSearchCV(ridge, \n",
    "                              tuned_parameters, \n",
    "                              cv=kf, scoring = 'neg_mean_squared_error', \n",
    "                              refit=True) #build lasso model with 5 fold\n",
    "ridge_cv_model.fit(X_train_sc, y_train)"
   ]
  },
  {
   "cell_type": "code",
   "execution_count": 16,
   "metadata": {},
   "outputs": [
    {
     "data": {
      "text/plain": [
       "GridSearchCV(cv=KFold(n_splits=10, random_state=None, shuffle=False),\n",
       "             estimator=Lasso(),\n",
       "             param_grid=[{'alpha': array([1.00000000e+06, 7.56463328e+05, 5.72236766e+05, 4.32876128e+05,\n",
       "       3.27454916e+05, 2.47707636e+05, 1.87381742e+05, 1.41747416e+05,\n",
       "       1.07226722e+05, 8.11130831e+04, 6.13590727e+04, 4.64158883e+04,\n",
       "       3.51119173e+04, 2.65608778e+04, 2.00923300e+04, 1.51991108e+...\n",
       "       6.13590727e-04, 4.64158883e-04, 3.51119173e-04, 2.65608778e-04,\n",
       "       2.00923300e-04, 1.51991108e-04, 1.14975700e-04, 8.69749003e-05,\n",
       "       6.57933225e-05, 4.97702356e-05, 3.76493581e-05, 2.84803587e-05,\n",
       "       2.15443469e-05, 1.62975083e-05, 1.23284674e-05, 9.32603347e-06,\n",
       "       7.05480231e-06, 5.33669923e-06, 4.03701726e-06, 3.05385551e-06,\n",
       "       2.31012970e-06, 1.74752840e-06, 1.32194115e-06, 1.00000000e-06])}],\n",
       "             scoring='neg_mean_squared_error')"
      ]
     },
     "execution_count": 16,
     "metadata": {},
     "output_type": "execute_result"
    }
   ],
   "source": [
    "#Fit a lasso model using MSE as scoring matric\n",
    "\n",
    "lasso_cv_model = GridSearchCV(lasso, \n",
    "                              tuned_parameters, \n",
    "                              cv=kf, scoring = 'neg_mean_squared_error', \n",
    "                              refit=True) #build lasso model with 5 fold\n",
    "lasso_cv_model.fit(X_train_sc, y_train)"
   ]
  },
  {
   "cell_type": "code",
   "execution_count": 17,
   "metadata": {},
   "outputs": [
    {
     "name": "stdout",
     "output_type": "stream",
     "text": [
      "Based on MSE scoring, best Ridge Model alpha is: 6.135907273413176.\n",
      " \n",
      "Based on MSE scoring, best Lasso Model alpha is: 0.00046415888336127724.\n",
      "\n"
     ]
    }
   ],
   "source": [
    "#Best alpha\n",
    "\n",
    "ridge_alpha=ridge_cv_model.best_params_['alpha']\n",
    "lasso_alpha=lasso_cv_model.best_params_['alpha']\n",
    "\n",
    "print ('Based on MSE scoring, best Ridge Model alpha is: {}.\\n '.format(ridge_alpha))\n",
    "print ('Based on MSE scoring, best Lasso Model alpha is: {}.\\n'.format(lasso_alpha))"
   ]
  },
  {
   "cell_type": "code",
   "execution_count": 18,
   "metadata": {},
   "outputs": [],
   "source": [
    "#use model to predict y hat\n",
    "\n",
    "ridge_predict=ridge_cv_model.predict(X_test_sc)\n",
    "lasso_predict=lasso_cv_model.predict(X_test_sc)"
   ]
  },
  {
   "cell_type": "code",
   "execution_count": 19,
   "metadata": {},
   "outputs": [
    {
     "name": "stdout",
     "output_type": "stream",
     "text": [
      "Ridge Model MSE for test set is:  0.005130698675442872\n",
      "Lasso Model MSE for test set is:  0.005186488536209941\n"
     ]
    }
   ],
   "source": [
    "#MSE for test set\n",
    "\n",
    "ridge_mse=mean_squared_error(y_test,ridge_predict)\n",
    "lasso_mse=mean_squared_error(y_test,lasso_predict)\n",
    "\n",
    "ridge_mse_test=-ridge_cv_model.score(X_test_sc,y_test)\n",
    "lasso_mse_test=-lasso_cv_model.score(X_test_sc,y_test)\n",
    "\n",
    "#MSE for test set\n",
    "\n",
    "print ('Ridge Model MSE for test set is: ', ridge_mse)\n",
    "print ('Lasso Model MSE for test set is: ', lasso_mse)\n",
    "\n",
    "\n",
    "# print ('Ridge Model MSE for test set is: '+ str(ridge_mse_test))\n",
    "# print ('Lasso Model MSE for test set is: '+ str(lasso_mse_test))\n"
   ]
  },
  {
   "cell_type": "markdown",
   "metadata": {},
   "source": [
    "# 4.3 Run Ridge and Lasso regression for all of the **α** specified above (on training data), and plot the coefficients learned for each of them - there should be one plot each for lasso and ridge, so a total of two plots; different features' weights of each model should be on the same plot with different colors (3pts)\n"
   ]
  },
  {
   "cell_type": "markdown",
   "metadata": {},
   "source": [
    "# What do you qualitatively observe when the value of the regularization parameter changes (2pts)? "
   ]
  },
  {
   "cell_type": "code",
   "execution_count": 20,
   "metadata": {},
   "outputs": [],
   "source": [
    "import matplotlib.pyplot as plt"
   ]
  },
  {
   "cell_type": "code",
   "execution_count": 21,
   "metadata": {},
   "outputs": [
    {
     "data": {
      "image/png": "[encoded data removed]",
      "text/plain": [
       "<Figure size 432x288 with 1 Axes>"
      ]
     },
     "metadata": {
      "needs_background": "light"
     },
     "output_type": "display_data"
    }
   ],
   "source": [
    "#for Ridge Model\n",
    "\n",
    "ridge_coefs = []\n",
    "\n",
    "alpha_grid = 10**np.linspace(6,-6,100)\n",
    "\n",
    "for a in alpha_grid:\n",
    "    ridge_cv_model_sim = RidgeCV(alphas=[a], \n",
    "                              cv=5, \n",
    "                              scoring = 'neg_mean_squared_error') #build lasso model with 5 fold\n",
    "    ridge_cv_model_sim.fit(X_train_sc, y_train)\n",
    "    ridge_coefs.append(ridge_cv_model_sim.coef_)\n",
    "\n",
    "    \n",
    "#Plot RidgeCV Coefficient as function of the regularization\n",
    "ax = plt.gca()\n",
    "\n",
    "ax.plot(alpha_grid, ridge_coefs)\n",
    "ax.set_xscale('log')\n",
    "ax.set_xlim(ax.get_xlim()[::-1])  # reverse axis\n",
    "plt.xlabel('alpha')\n",
    "plt.ylabel('weights')\n",
    "plt.title('Ridge CV coefficients as a function of the regularization')\n",
    "plt.axis('tight')\n",
    "plt.show()"
   ]
  },
  {
   "cell_type": "code",
   "execution_count": 22,
   "metadata": {},
   "outputs": [
    {
     "data": {
      "image/png": "[encoded data removed]",
      "text/plain": [
       "<Figure size 432x288 with 1 Axes>"
      ]
     },
     "metadata": {
      "needs_background": "light"
     },
     "output_type": "display_data"
    }
   ],
   "source": [
    "#for Lasso Model\n",
    "lasso_coefs = []\n",
    "for a in alpha_grid:\n",
    "    lasso_cv_model_sim=LassoCV(alphas=[a],\n",
    "                               cv=5,)\n",
    "    lasso_cv_model_sim.fit(X_train_sc, y_train)\n",
    "    lasso_coefs.append(lasso_cv_model_sim.coef_)\n",
    "\n",
    "    \n",
    "#Plot RidgeCV Coefficient as function of the regularization\n",
    "ax = plt.gca()\n",
    "\n",
    "ax.plot(alpha_grid, lasso_coefs)\n",
    "ax.set_xscale('log')\n",
    "ax.set_xlim(ax.get_xlim()[::-1])  # reverse axis\n",
    "plt.xlabel('alpha')\n",
    "plt.ylabel('weights')\n",
    "plt.title('Lasso CV coefficients as a function of the regularization')\n",
    "plt.axis('tight')\n",
    "plt.show()"
   ]
  },
  {
   "cell_type": "markdown",
   "metadata": {},
   "source": [
    "# The observation is that:\n",
    "\n",
    "* In summary, for large alpha (strong regularization) suppresses the coefficients and they eventually converging at 0 when alpha panelty is sufficiently large, leading to a simpler and biased solution, where for smaller alpha, coefficients become variable and larger. When alpha gets smaller, the model getting more complicated but less biased.\n",
    "\n",
    "* For ridge model, the coefficients started as all close to 0 when the regularization (alpha) term is large (10^6-10^5), where they are highly unstable or variable between 10^1 to 10^3. They start to stabilize after the alpha term (regularization) is sufficiently small (1-10), where the best alpha chosen by the model is around 4.6 (between 1-10).\n",
    "\n",
    "* For lasso model, the coefficients started as all close to 0 from 10^6 all the way down to ~10^(-1), where the the coefficient of one parameter (CGPA) ramped up first with subsequently increase of coefficient of other paramters, where they stabilize after the regularization (alpha) term > ~10^(-3), where around 10^(-3)=0.001 is the best alpha chosen by the model."
   ]
  },
  {
   "cell_type": "markdown",
   "metadata": {},
   "source": [
    "# 4.4: Take the exponential of Y_train as the target, and fit the 2 regression models again. Report the best chosen **α** based on cross validation as well as the corresponding scoring metric. Compare the results of using the original target with the results of using the exponential of the target. What do you observe? (**3 pts**) \n"
   ]
  },
  {
   "cell_type": "code",
   "execution_count": 23,
   "metadata": {},
   "outputs": [],
   "source": [
    "#New y train and y test as exp (y)\n",
    "\n",
    "y_train_exp=np.exp(y_train)\n",
    "y_test_exp=np.exp(y_test)"
   ]
  },
  {
   "cell_type": "code",
   "execution_count": 24,
   "metadata": {},
   "outputs": [
    {
     "data": {
      "text/plain": [
       "GridSearchCV(cv=KFold(n_splits=10, random_state=None, shuffle=False),\n",
       "             estimator=Ridge(),\n",
       "             param_grid=[{'alpha': array([1.00000000e+06, 7.56463328e+05, 5.72236766e+05, 4.32876128e+05,\n",
       "       3.27454916e+05, 2.47707636e+05, 1.87381742e+05, 1.41747416e+05,\n",
       "       1.07226722e+05, 8.11130831e+04, 6.13590727e+04, 4.64158883e+04,\n",
       "       3.51119173e+04, 2.65608778e+04, 2.00923300e+04, 1.51991108e+...\n",
       "       6.13590727e-04, 4.64158883e-04, 3.51119173e-04, 2.65608778e-04,\n",
       "       2.00923300e-04, 1.51991108e-04, 1.14975700e-04, 8.69749003e-05,\n",
       "       6.57933225e-05, 4.97702356e-05, 3.76493581e-05, 2.84803587e-05,\n",
       "       2.15443469e-05, 1.62975083e-05, 1.23284674e-05, 9.32603347e-06,\n",
       "       7.05480231e-06, 5.33669923e-06, 4.03701726e-06, 3.05385551e-06,\n",
       "       2.31012970e-06, 1.74752840e-06, 1.32194115e-06, 1.00000000e-06])}],\n",
       "             scoring='neg_mean_squared_error')"
      ]
     },
     "execution_count": 24,
     "metadata": {},
     "output_type": "execute_result"
    }
   ],
   "source": [
    "#Fit a ridge model to predict exp(y) using MSE as scoring matric\n",
    "\n",
    "ridge_exp_cv_model = GridSearchCV(ridge, \n",
    "                              tuned_parameters, \n",
    "                              cv=kf, scoring = 'neg_mean_squared_error', \n",
    "                              refit=True) #build lasso model with 5 fold\n",
    "ridge_exp_cv_model.fit(X_train_sc, y_train_exp)"
   ]
  },
  {
   "cell_type": "code",
   "execution_count": 25,
   "metadata": {},
   "outputs": [
    {
     "data": {
      "text/plain": [
       "GridSearchCV(cv=KFold(n_splits=10, random_state=None, shuffle=False),\n",
       "             estimator=Lasso(),\n",
       "             param_grid=[{'alpha': array([1.00000000e+06, 7.56463328e+05, 5.72236766e+05, 4.32876128e+05,\n",
       "       3.27454916e+05, 2.47707636e+05, 1.87381742e+05, 1.41747416e+05,\n",
       "       1.07226722e+05, 8.11130831e+04, 6.13590727e+04, 4.64158883e+04,\n",
       "       3.51119173e+04, 2.65608778e+04, 2.00923300e+04, 1.51991108e+...\n",
       "       6.13590727e-04, 4.64158883e-04, 3.51119173e-04, 2.65608778e-04,\n",
       "       2.00923300e-04, 1.51991108e-04, 1.14975700e-04, 8.69749003e-05,\n",
       "       6.57933225e-05, 4.97702356e-05, 3.76493581e-05, 2.84803587e-05,\n",
       "       2.15443469e-05, 1.62975083e-05, 1.23284674e-05, 9.32603347e-06,\n",
       "       7.05480231e-06, 5.33669923e-06, 4.03701726e-06, 3.05385551e-06,\n",
       "       2.31012970e-06, 1.74752840e-06, 1.32194115e-06, 1.00000000e-06])}],\n",
       "             scoring='neg_mean_squared_error')"
      ]
     },
     "execution_count": 25,
     "metadata": {},
     "output_type": "execute_result"
    }
   ],
   "source": [
    "#Fit a lasso model to predict exp(y) using MSE as scoring matric\n",
    "\n",
    "lasso_exp_cv_model = GridSearchCV(lasso, \n",
    "                              tuned_parameters, \n",
    "                              cv=kf, \n",
    "                              scoring = 'neg_mean_squared_error', \n",
    "                              refit=True) #build lasso model with 5 fold\n",
    "lasso_exp_cv_model.fit(X_train_sc, y_train_exp)"
   ]
  },
  {
   "cell_type": "code",
   "execution_count": 26,
   "metadata": {},
   "outputs": [
    {
     "name": "stdout",
     "output_type": "stream",
     "text": [
      "Based on MSE scoring, best Ridge Model alpha is: 6.135907273413176.\n",
      " \n",
      "Based on MSE scoring, best Lasso Model alpha is: 0.00046415888336127724.\n",
      " \n"
     ]
    }
   ],
   "source": [
    "#Best alpha\n",
    "\n",
    "ridge_alpha=ridge_cv_model.best_params_['alpha']\n",
    "lasso_alpha=lasso_cv_model.best_params_['alpha']\n",
    "\n",
    "print ('Based on MSE scoring, best Ridge Model alpha is: {}.\\n '.format(ridge_alpha))\n",
    "print ('Based on MSE scoring, best Lasso Model alpha is: {}.\\n '.format(lasso_alpha))"
   ]
  },
  {
   "cell_type": "code",
   "execution_count": 27,
   "metadata": {},
   "outputs": [
    {
     "name": "stdout",
     "output_type": "stream",
     "text": [
      "Based on MSE scoring, best Ridge Model alpha for exp(y) is: 6.135907273413176.\n",
      " \n",
      "Based on MSE scoring, best Lasso Model alpha for exp(y) is: 0.0003511191734215127.\n",
      "\n",
      "By Comparison:\n",
      "\n",
      "Based on MSE scoring, best Ridge Model alpha for y is: 6.135907273413176.\n",
      " \n",
      "Based on MSE scoring, best Lasso Model alpha for y is: 0.00046415888336127724.\n",
      "\n",
      "Observation is that the MSE to predict exp(y) is higher than using the original y for both models!\n"
     ]
    }
   ],
   "source": [
    "#Best alpha\n",
    "\n",
    "ridge_exp_alpha=ridge_exp_cv_model.best_params_['alpha']\n",
    "lasso_exp_alpha=lasso_exp_cv_model.best_params_['alpha']\n",
    "\n",
    "print ('Based on MSE scoring, best Ridge Model alpha for exp(y) is: {}.\\n '.format(ridge_exp_alpha))\n",
    "print ('Based on MSE scoring, best Lasso Model alpha for exp(y) is: {}.\\n'.format(lasso_exp_alpha))\n",
    "\n",
    "print('By Comparison:\\n')\n",
    "print ('Based on MSE scoring, best Ridge Model alpha for y is: {}.\\n '.format(ridge_alpha))\n",
    "print ('Based on MSE scoring, best Lasso Model alpha for y is: {}.\\n'.format(lasso_alpha))\n",
    "\n",
    "print('Observation is that the MSE to predict exp(y) is higher than using the original y for both models!')"
   ]
  },
  {
   "cell_type": "markdown",
   "metadata": {},
   "source": [
    "# Observation is that the MSE to predict exp(y) is higher than using the original y for both models!"
   ]
  },
  {
   "cell_type": "markdown",
   "metadata": {},
   "source": [
    "# 4.5: Similarly, use sklearn.linear_model.ElasticNet to do linear regression with different α values, and plot the coefficients learned for each of them (2pts). Observe the plot, then explain the pros and cons of ridge, lasso and Elastic Net models (3pts).\n"
   ]
  },
  {
   "cell_type": "code",
   "execution_count": 28,
   "metadata": {},
   "outputs": [],
   "source": [
    "from sklearn.linear_model import ElasticNetCV"
   ]
  },
  {
   "cell_type": "code",
   "execution_count": 29,
   "metadata": {},
   "outputs": [],
   "source": [
    "#Fint out optimal l1/l2 ratio\n",
    "\n",
    "l1_ratio_100=np.linspace(0.01,1,100)"
   ]
  },
  {
   "cell_type": "code",
   "execution_count": 30,
   "metadata": {},
   "outputs": [],
   "source": [
    "elastic_cv_model=ElasticNetCV(l1_ratio=l1_ratio_100,\n",
    "                            alphas=alpha_grid,                            \n",
    "                            cv=5)\n",
    "elastic_cv_model.fit(X_train_sc,y_train)\n",
    "elastic_predict=elastic_cv_model.predict(X_test_sc)"
   ]
  },
  {
   "cell_type": "code",
   "execution_count": 31,
   "metadata": {},
   "outputs": [
    {
     "name": "stdout",
     "output_type": "stream",
     "text": [
      "regularization ratio between ridge and lasso models is:  0.95\n"
     ]
    }
   ],
   "source": [
    "#Optimal L1/L2 regularization Ratio\n",
    "print ('regularization ratio between ridge and lasso models is: ', round(elastic_cv_model.l1_ratio_,2))"
   ]
  },
  {
   "cell_type": "code",
   "execution_count": 32,
   "metadata": {},
   "outputs": [
    {
     "data": {
      "text/html": [
       "<div>\n",
       "<style scoped>\n",
       "    .dataframe tbody tr th:only-of-type {\n",
       "        vertical-align: middle;\n",
       "    }\n",
       "\n",
       "    .dataframe tbody tr th {\n",
       "        vertical-align: top;\n",
       "    }\n",
       "\n",
       "    .dataframe thead th {\n",
       "        text-align: right;\n",
       "    }\n",
       "</style>\n",
       "<table border=\"1\" class=\"dataframe\">\n",
       "  <thead>\n",
       "    <tr style=\"text-align: right;\">\n",
       "      <th></th>\n",
       "      <th>predictor</th>\n",
       "      <th>ridge</th>\n",
       "      <th>lasso</th>\n",
       "      <th>elastic</th>\n",
       "    </tr>\n",
       "  </thead>\n",
       "  <tbody>\n",
       "    <tr>\n",
       "      <th>5</th>\n",
       "      <td>CGPA</td>\n",
       "      <td>0.070157</td>\n",
       "      <td>0.075837</td>\n",
       "      <td>0.075920</td>\n",
       "    </tr>\n",
       "    <tr>\n",
       "      <th>0</th>\n",
       "      <td>GRE_Score</td>\n",
       "      <td>0.026321</td>\n",
       "      <td>0.025206</td>\n",
       "      <td>0.025146</td>\n",
       "    </tr>\n",
       "    <tr>\n",
       "      <th>4</th>\n",
       "      <td>LOR</td>\n",
       "      <td>0.021416</td>\n",
       "      <td>0.021130</td>\n",
       "      <td>0.020894</td>\n",
       "    </tr>\n",
       "    <tr>\n",
       "      <th>1</th>\n",
       "      <td>TOEFL_Score</td>\n",
       "      <td>0.015877</td>\n",
       "      <td>0.014177</td>\n",
       "      <td>0.014020</td>\n",
       "    </tr>\n",
       "    <tr>\n",
       "      <th>6</th>\n",
       "      <td>Research</td>\n",
       "      <td>0.007118</td>\n",
       "      <td>0.006608</td>\n",
       "      <td>0.006297</td>\n",
       "    </tr>\n",
       "    <tr>\n",
       "      <th>2</th>\n",
       "      <td>University_Rating</td>\n",
       "      <td>0.004200</td>\n",
       "      <td>0.002944</td>\n",
       "      <td>0.002819</td>\n",
       "    </tr>\n",
       "    <tr>\n",
       "      <th>3</th>\n",
       "      <td>SOP</td>\n",
       "      <td>0.002022</td>\n",
       "      <td>0.000666</td>\n",
       "      <td>0.000597</td>\n",
       "    </tr>\n",
       "  </tbody>\n",
       "</table>\n",
       "</div>"
      ],
      "text/plain": [
       "           predictor     ridge     lasso   elastic\n",
       "5               CGPA  0.070157  0.075837  0.075920\n",
       "0          GRE_Score  0.026321  0.025206  0.025146\n",
       "4               LOR   0.021416  0.021130  0.020894\n",
       "1        TOEFL_Score  0.015877  0.014177  0.014020\n",
       "6           Research  0.007118  0.006608  0.006297\n",
       "2  University_Rating  0.004200  0.002944  0.002819\n",
       "3                SOP  0.002022  0.000666  0.000597"
      ]
     },
     "execution_count": 32,
     "metadata": {},
     "output_type": "execute_result"
    }
   ],
   "source": [
    "#Final coefficient estimation from Ridge and Lasso Model\n",
    "\n",
    "predictor=X_train.columns\n",
    "ridge_coef=ridge_cv_model.best_estimator_.coef_\n",
    "lasso_coef=lasso_cv_model.best_estimator_.coef_\n",
    "elastic_coef=elastic_cv_model.coef_\n",
    "\n",
    "coef_tab=pd.DataFrame(predictor)\n",
    "coef_tab['ridge']=ridge_coef\n",
    "coef_tab['lasso']=lasso_coef\n",
    "coef_tab['elastic']=elastic_coef\n",
    "\n",
    "coef_tab.columns=['predictor', 'ridge', 'lasso', 'elastic']\n",
    "coef_tab.sort_values('ridge',ascending=False)"
   ]
  },
  {
   "cell_type": "code",
   "execution_count": 33,
   "metadata": {},
   "outputs": [
    {
     "data": {
      "image/png": "[encoded data removed]",
      "text/plain": [
       "<Figure size 432x288 with 1 Axes>"
      ]
     },
     "metadata": {
      "needs_background": "light"
     },
     "output_type": "display_data"
    }
   ],
   "source": [
    "#Plot ElasticNet CV Coefficient as function of the regularization\n",
    "\n",
    "elastic_coefs = []\n",
    "for a in alpha_grid:\n",
    "    elastic_cv_model=ElasticNetCV(l1_ratio=0.95,\n",
    "                            alphas=[a],                            \n",
    "                            cv=5)\n",
    "    elastic_cv_model.fit(X_train_sc,y_train)\n",
    "    elastic_coefs.append(elastic_cv_model.coef_)\n",
    "    \n",
    "  \n",
    "    \n",
    "ax = plt.gca()\n",
    "\n",
    "ax.plot(alpha_grid, elastic_coefs)\n",
    "ax.set_xscale('log')\n",
    "ax.set_xlim(ax.get_xlim()[::-1])  # reverse axis\n",
    "plt.xlabel('alpha')\n",
    "plt.ylabel('weights')\n",
    "plt.title('ElasticNet CV coefficients as a function of the regularization')\n",
    "plt.axis('tight')\n",
    "plt.show()"
   ]
  },
  {
   "cell_type": "code",
   "execution_count": 34,
   "metadata": {},
   "outputs": [
    {
     "data": {
      "image/png": "[encoded data removed]",
      "text/plain": [
       "<Figure size 432x288 with 1 Axes>"
      ]
     },
     "metadata": {
      "needs_background": "light"
     },
     "output_type": "display_data"
    }
   ],
   "source": [
    "coef_tab.sort_values('ridge',ascending=False).plot(x='predictor', y=[\"ridge\", \"lasso\", \"elastic\"], kind=\"bar\")\n",
    "plt.ylabel(\"Coefficient\")\n",
    "plt.title('Model Coefficients')\n",
    "plt.show()"
   ]
  },
  {
   "cell_type": "markdown",
   "metadata": {},
   "source": [
    "# Lasso model tends to minimize the coefficient of some less important predictors such as SOP and University Rating while Ridge model computes coefficients that weigh more evenly.\n",
    "# ElasticNet model has the capability of testing both models out and use scoring metric to select the best combination of regularization methods. For this case, 95% regularization term is from the Lasso model so the coefficient variation with regulation and final coefficients are very similar to the Lasso model coefficients, where the selected alpha equals to the best alpha chosen from Lasso model."
   ]
  },
  {
   "cell_type": "code",
   "execution_count": 35,
   "metadata": {},
   "outputs": [
    {
     "name": "stdout",
     "output_type": "stream",
     "text": [
      "Ridge Model MSE for test set is:  0.005130698675442872\n",
      "Lasso Model MSE for test set is:  0.005186488536209941\n",
      "ElasticNet Model MSE for test set is:  0.005170944595076217\n"
     ]
    }
   ],
   "source": [
    "ridge_mse=mean_squared_error(y_test,ridge_predict)\n",
    "lasso_mse=mean_squared_error(y_test,lasso_predict)\n",
    "elastic_mse=mean_squared_error(y_test,elastic_predict)\n",
    "\n",
    "#MSE for test set\n",
    "\n",
    "print ('Ridge Model MSE for test set is: ',ridge_mse)\n",
    "print ('Lasso Model MSE for test set is: ',lasso_mse)\n",
    "print ('ElasticNet Model MSE for test set is: ',elastic_mse)\n"
   ]
  },
  {
   "cell_type": "code",
   "execution_count": 36,
   "metadata": {},
   "outputs": [
    {
     "name": "stdout",
     "output_type": "stream",
     "text": [
      "Based on MSE scoring, best Ridge Model alpha is: 6.135907273413176.\n",
      " \n",
      "Based on MSE scoring, best Lasso Model alpha is: 0.00046415888336127724.\n",
      "\n",
      "Based on MSE scoring, best ElasticNet Model alpha is: 1e-06.\n",
      "\n"
     ]
    }
   ],
   "source": [
    "ridge_alpha=ridge_cv_model.best_params_['alpha']\n",
    "lasso_alpha=lasso_cv_model.best_params_['alpha']\n",
    "elastic_alpha=elastic_cv_model.alpha_\n",
    "\n",
    "print ('Based on MSE scoring, best Ridge Model alpha is: {}.\\n '.format(ridge_alpha))\n",
    "print ('Based on MSE scoring, best Lasso Model alpha is: {}.\\n'.format(lasso_alpha))\n",
    "print ('Based on MSE scoring, best ElasticNet Model alpha is: {}.\\n'.format(elastic_alpha))"
   ]
  },
  {
   "cell_type": "markdown",
   "metadata": {},
   "source": [
    "\n",
    "# 4.6 (**5 pts**) Run the following three regression models with **MSE** loss on the training data: \n",
    "\n",
    "a. linear regression without regularization (1pts)\n",
    "\n",
    "b. linear regression with ridge regularization (2pts)\n",
    "\n",
    "c. linear regression with lasso regularization (2pts)\n",
    "\n",
    "For part (b) and (c), use only the best regularization parameters. Report the MSE and R<sup>2</sup> on the test data for each model.\n",
    "\n"
   ]
  },
  {
   "cell_type": "code",
   "execution_count": 37,
   "metadata": {},
   "outputs": [],
   "source": [
    "from sklearn.linear_model import LinearRegression\n",
    "from sklearn.linear_model import Ridge\n",
    "from sklearn.linear_model import Lasso"
   ]
  },
  {
   "cell_type": "markdown",
   "metadata": {},
   "source": [
    "# Linear"
   ]
  },
  {
   "cell_type": "code",
   "execution_count": 38,
   "metadata": {},
   "outputs": [],
   "source": [
    "linear_model=LinearRegression()\n",
    "linear_model.fit(X_train_sc, y_train)\n",
    "linear_predict=linear_model.predict(X_test_sc)\n",
    "linear_mse=mean_squared_error(y_test,linear_predict)\n",
    "linear_ss_res=sum((y_test-linear_predict)**2)\n",
    "linear_ss_tot=sum((y_test-np.mean(y_test))**2)\n",
    "linear_r2=1-(linear_ss_res/linear_ss_tot)\n",
    "linear_coef=linear_model.coef_"
   ]
  },
  {
   "cell_type": "markdown",
   "metadata": {},
   "source": [
    "# Ridge"
   ]
  },
  {
   "cell_type": "code",
   "execution_count": 39,
   "metadata": {},
   "outputs": [],
   "source": [
    "ridge_model=Ridge(alpha=ridge_alpha)\n",
    "ridge_model.fit(X_train_sc, y_train)\n",
    "ridge_predict=ridge_model.predict(X_test_sc)\n",
    "ridge_mse_check=mean_squared_error(y_test,ridge_predict)\n",
    "ridge_ss_res=sum((y_test-ridge_predict)**2)\n",
    "ridge_ss_tot=sum((y_test-np.mean(y_test))**2)\n",
    "ridge_r2=1-(ridge_ss_res/ridge_ss_tot)"
   ]
  },
  {
   "cell_type": "markdown",
   "metadata": {},
   "source": [
    "# Lasso"
   ]
  },
  {
   "cell_type": "code",
   "execution_count": 40,
   "metadata": {},
   "outputs": [],
   "source": [
    "lasso_model=Lasso(alpha=lasso_alpha)\n",
    "lasso_model.fit(X_train_sc, y_train)\n",
    "lasso_predict=lasso_model.predict(X_test_sc)\n",
    "lasso_mse_check=mean_squared_error(y_test,lasso_predict)\n",
    "lasso_ss_res=sum((y_test-lasso_predict)**2)\n",
    "lasso_ss_tot=sum((y_test-np.mean(y_test))**2)\n",
    "lasso_r2=1-(lasso_ss_res/lasso_ss_tot)"
   ]
  },
  {
   "cell_type": "markdown",
   "metadata": {},
   "source": [
    "# Model parameters"
   ]
  },
  {
   "cell_type": "code",
   "execution_count": 41,
   "metadata": {},
   "outputs": [
    {
     "name": "stdout",
     "output_type": "stream",
     "text": [
      "The MSE for Linear Regression is:  0.0052\n",
      "The MSE for Ridge Regression is:  0.005131\n",
      "Compared with Lasso previous run:  0.005131\n",
      "The MSE for Lasso Regression is:  0.005186\n",
      "Compared with Lasso previous run:  0.005186\n"
     ]
    }
   ],
   "source": [
    "print('The MSE for Linear Regression is: ', round(linear_mse,6))\n",
    "print('The MSE for Ridge Regression is: ', round(ridge_mse_check,6))\n",
    "print('Compared with Lasso previous run: ', round(ridge_mse,6))\n",
    "print('The MSE for Lasso Regression is: ', round(lasso_mse_check,6))\n",
    "print('Compared with Lasso previous run: ', round(lasso_mse,6))"
   ]
  },
  {
   "cell_type": "code",
   "execution_count": 42,
   "metadata": {},
   "outputs": [
    {
     "name": "stdout",
     "output_type": "stream",
     "text": [
      "The R2 for Linear Regression is:  0.691029\n",
      "The R2 for Ridge Regression is:  0.695159\n",
      "The R2 for Lasso Regression is:  0.691844\n"
     ]
    }
   ],
   "source": [
    "print('The R2 for Linear Regression is: ', round(linear_r2,6))\n",
    "print('The R2 for Ridge Regression is: ', round(ridge_r2,6))\n",
    "print('The R2 for Lasso Regression is: ', round(lasso_r2,6))"
   ]
  },
  {
   "cell_type": "markdown",
   "metadata": {},
   "source": [
    "# 4.7 (**5 pts**) Train the 3 models and report the metrics with the original data without scaling (3pts). \n",
    "\n",
    "# Why do we need to scale the data before regularization (2pts)? \n"
   ]
  },
  {
   "cell_type": "code",
   "execution_count": 43,
   "metadata": {},
   "outputs": [],
   "source": [
    "#Linear model for unscaled data\n",
    "\n",
    "linear_model_unsc=LinearRegression()\n",
    "linear_model_unsc.fit(X_train, y_train)\n",
    "linear_predict_unsc=linear_model_unsc.predict(X_test)\n",
    "linear_mse_unsc=mean_squared_error(y_test,linear_predict_unsc)\n",
    "linear_ss_res_unsc=sum((y_test-linear_predict_unsc)**2)\n",
    "linear_ss_total_unsc=sum((y_test-np.mean(y_test))**2)\n",
    "linear_r2_unsc=1-(linear_ss_res_unsc/linear_ss_total_unsc)\n",
    "linear_coef_unsc=linear_model_unsc.coef_\n"
   ]
  },
  {
   "cell_type": "code",
   "execution_count": 44,
   "metadata": {},
   "outputs": [],
   "source": [
    "#ridge model for unscaled data\n",
    "\n",
    "ridge_cv_model_unsc = GridSearchCV(ridge, \n",
    "                              tuned_parameters, \n",
    "                              cv = kf, \n",
    "                              scoring = 'neg_mean_squared_error', \n",
    "                              refit = True) #build lasso model with 5 fold for unscaled data\n",
    "ridge_cv_model_unsc.fit(X_train, y_train)\n",
    "ridge_predict_unsc=ridge_cv_model_unsc.predict(X_test)\n",
    "ridge_mse_unsc=mean_squared_error(y_test,ridge_predict_unsc)\n",
    "ridge_ss_res_unsc=sum((y_test-ridge_predict_unsc)**2)\n",
    "ridge_ss_total_unsc=sum((y_test-np.mean(y_test))**2)\n",
    "ridge_r2_unsc=1-(ridge_ss_res_unsc/ridge_ss_total_unsc)\n",
    "ridge_coef_unsc=ridge_cv_model_unsc.best_estimator_.coef_"
   ]
  },
  {
   "cell_type": "code",
   "execution_count": 45,
   "metadata": {},
   "outputs": [],
   "source": [
    "#lasso model for unscaled data\n",
    "\n",
    "lasso_cv_model_unsc = GridSearchCV(lasso, \n",
    "                              tuned_parameters, \n",
    "                              cv=kf, \n",
    "                              scoring = 'neg_mean_squared_error', \n",
    "                              refit=True) #build lasso model with 5 fold for unscaled data\n",
    "lasso_cv_model_unsc.fit(X_train, y_train)\n",
    "lasso_predict_unsc=lasso_cv_model_unsc.predict(X_test)\n",
    "lasso_mse_unsc=mean_squared_error(y_test,lasso_predict_unsc)\n",
    "lasso_ss_res_unsc=sum((y_test-lasso_predict_unsc)**2)\n",
    "lasso_ss_total_unsc=sum((y_test-np.mean(y_test))**2)\n",
    "lasso_r2_unsc=1-(lasso_ss_res_unsc/lasso_ss_total_unsc)\n",
    "lasso_coef_unsc=lasso_cv_model_unsc.best_estimator_.coef_"
   ]
  },
  {
   "cell_type": "code",
   "execution_count": 46,
   "metadata": {},
   "outputs": [
    {
     "name": "stdout",
     "output_type": "stream",
     "text": [
      "The MSE for scaled vs unscaled Linear Regression is: 0.0052 vs 0.004526\n",
      "The MSE for scaled vs unscaled Ridge Regression is: 0.005131 vs 0.00452\n",
      "The MSE for scaled vs unscaled Lasso Regression is: 0.005186 vs 0.004547\n",
      "The R2 for scaled vs unscaled Linear Regression is: 0.691029 vs 0.731068\n",
      "The R2 for scaled vs unscaled Ridge Regression is: 0.695159 vs 0.731445\n",
      "The R2 for scaled vs unscaled Lasso Regression is: 0.691844 vs 0.729855\n"
     ]
    }
   ],
   "source": [
    "print('The MSE for scaled vs unscaled Linear Regression is: {} vs {}'.format(round(linear_mse,6),round(linear_mse_unsc,6)))\n",
    "print('The MSE for scaled vs unscaled Ridge Regression is: {} vs {}'.format(round(ridge_mse,6),round(ridge_mse_unsc,6)))\n",
    "print('The MSE for scaled vs unscaled Lasso Regression is: {} vs {}'.format(round(lasso_mse,6),round(lasso_mse_unsc,6)))\n",
    "\n",
    "print('The R2 for scaled vs unscaled Linear Regression is: {} vs {}'.format(round(linear_r2,6),round(linear_r2_unsc,6)))\n",
    "print('The R2 for scaled vs unscaled Ridge Regression is: {} vs {}'.format(round(ridge_r2,6),round(ridge_r2_unsc,6)))\n",
    "print('The R2 for scaled vs unscaled Lasso Regression is: {} vs {}'.format(round(lasso_r2,6),round(lasso_r2_unsc,6)))"
   ]
  },
  {
   "cell_type": "code",
   "execution_count": 47,
   "metadata": {},
   "outputs": [
    {
     "data": {
      "text/html": [
       "<div>\n",
       "<style scoped>\n",
       "    .dataframe tbody tr th:only-of-type {\n",
       "        vertical-align: middle;\n",
       "    }\n",
       "\n",
       "    .dataframe tbody tr th {\n",
       "        vertical-align: top;\n",
       "    }\n",
       "\n",
       "    .dataframe thead th {\n",
       "        text-align: right;\n",
       "    }\n",
       "</style>\n",
       "<table border=\"1\" class=\"dataframe\">\n",
       "  <thead>\n",
       "    <tr style=\"text-align: right;\">\n",
       "      <th></th>\n",
       "      <th>predictor</th>\n",
       "      <th>linear scaled</th>\n",
       "      <th>linear unscaled</th>\n",
       "      <th>ridge scaled</th>\n",
       "      <th>ridge unscaled</th>\n",
       "      <th>lasso scaled</th>\n",
       "      <th>lasso unscaled</th>\n",
       "    </tr>\n",
       "  </thead>\n",
       "  <tbody>\n",
       "    <tr>\n",
       "      <th>0</th>\n",
       "      <td>GRE_Score</td>\n",
       "      <td>0.025272</td>\n",
       "      <td>0.002205</td>\n",
       "      <td>0.026321</td>\n",
       "      <td>0.002309</td>\n",
       "      <td>0.025206</td>\n",
       "      <td>0.002392</td>\n",
       "    </tr>\n",
       "    <tr>\n",
       "      <th>1</th>\n",
       "      <td>TOEFL_Score</td>\n",
       "      <td>0.014318</td>\n",
       "      <td>0.002332</td>\n",
       "      <td>0.015877</td>\n",
       "      <td>0.002446</td>\n",
       "      <td>0.014177</td>\n",
       "      <td>0.002474</td>\n",
       "    </tr>\n",
       "    <tr>\n",
       "      <th>2</th>\n",
       "      <td>University_Rating</td>\n",
       "      <td>0.003054</td>\n",
       "      <td>0.002593</td>\n",
       "      <td>0.004200</td>\n",
       "      <td>0.002920</td>\n",
       "      <td>0.002944</td>\n",
       "      <td>0.002610</td>\n",
       "    </tr>\n",
       "    <tr>\n",
       "      <th>3</th>\n",
       "      <td>SOP</td>\n",
       "      <td>0.000730</td>\n",
       "      <td>0.000718</td>\n",
       "      <td>0.002022</td>\n",
       "      <td>0.001155</td>\n",
       "      <td>0.000666</td>\n",
       "      <td>0.000931</td>\n",
       "    </tr>\n",
       "    <tr>\n",
       "      <th>4</th>\n",
       "      <td>LOR</td>\n",
       "      <td>0.021330</td>\n",
       "      <td>0.023631</td>\n",
       "      <td>0.021416</td>\n",
       "      <td>0.023967</td>\n",
       "      <td>0.021130</td>\n",
       "      <td>0.023697</td>\n",
       "    </tr>\n",
       "    <tr>\n",
       "      <th>5</th>\n",
       "      <td>CGPA</td>\n",
       "      <td>0.075736</td>\n",
       "      <td>0.124098</td>\n",
       "      <td>0.070157</td>\n",
       "      <td>0.119348</td>\n",
       "      <td>0.075837</td>\n",
       "      <td>0.119488</td>\n",
       "    </tr>\n",
       "    <tr>\n",
       "      <th>6</th>\n",
       "      <td>Research</td>\n",
       "      <td>0.006865</td>\n",
       "      <td>0.013799</td>\n",
       "      <td>0.007118</td>\n",
       "      <td>0.013587</td>\n",
       "      <td>0.006608</td>\n",
       "      <td>0.011242</td>\n",
       "    </tr>\n",
       "  </tbody>\n",
       "</table>\n",
       "</div>"
      ],
      "text/plain": [
       "           predictor  linear scaled  linear unscaled  ridge scaled  \\\n",
       "0          GRE_Score       0.025272         0.002205      0.026321   \n",
       "1        TOEFL_Score       0.014318         0.002332      0.015877   \n",
       "2  University_Rating       0.003054         0.002593      0.004200   \n",
       "3                SOP       0.000730         0.000718      0.002022   \n",
       "4               LOR        0.021330         0.023631      0.021416   \n",
       "5               CGPA       0.075736         0.124098      0.070157   \n",
       "6           Research       0.006865         0.013799      0.007118   \n",
       "\n",
       "   ridge unscaled  lasso scaled  lasso unscaled  \n",
       "0        0.002309      0.025206        0.002392  \n",
       "1        0.002446      0.014177        0.002474  \n",
       "2        0.002920      0.002944        0.002610  \n",
       "3        0.001155      0.000666        0.000931  \n",
       "4        0.023967      0.021130        0.023697  \n",
       "5        0.119348      0.075837        0.119488  \n",
       "6        0.013587      0.006608        0.011242  "
      ]
     },
     "execution_count": 47,
     "metadata": {},
     "output_type": "execute_result"
    }
   ],
   "source": [
    "coef_compare=pd.DataFrame(predictor)\n",
    "coef_compare['linear']=linear_coef\n",
    "coef_compare['linear unscaled']=linear_coef_unsc\n",
    "coef_compare['ridge']=ridge_coef\n",
    "coef_compare['ridge unscaled']=ridge_coef_unsc\n",
    "coef_compare['lasso']=lasso_coef\n",
    "coef_compare['lasso unscaled']=lasso_coef_unsc\n",
    "\n",
    "coef_compare.columns=['predictor','linear scaled', 'linear unscaled', 'ridge scaled', 'ridge unscaled', 'lasso scaled','lasso unscaled']\n",
    "coef_compare"
   ]
  },
  {
   "cell_type": "code",
   "execution_count": 48,
   "metadata": {},
   "outputs": [
    {
     "data": {
      "image/png": "[encoded data removed]",
      "text/plain": [
       "<Figure size 432x288 with 1 Axes>"
      ]
     },
     "metadata": {
      "needs_background": "light"
     },
     "output_type": "display_data"
    },
    {
     "data": {
      "image/png": "[encoded data removed]",
      "text/plain": [
       "<Figure size 432x288 with 1 Axes>"
      ]
     },
     "metadata": {
      "needs_background": "light"
     },
     "output_type": "display_data"
    },
    {
     "data": {
      "image/png": "[encoded data removed]",
      "text/plain": [
       "<Figure size 432x288 with 1 Axes>"
      ]
     },
     "metadata": {
      "needs_background": "light"
     },
     "output_type": "display_data"
    }
   ],
   "source": [
    "coef_compare.sort_values('ridge scaled',ascending=False).plot(x='predictor', \n",
    "                                                       y=['linear scaled', 'linear unscaled'],\n",
    "                                                       kind=\"bar\")\n",
    "\n",
    "coef_compare.sort_values('ridge scaled',ascending=False).plot(x='predictor', \n",
    "                                                       y=['ridge scaled', 'ridge unscaled'],\n",
    "                                                       kind=\"bar\")\n",
    "\n",
    "coef_compare.sort_values('ridge scaled',ascending=False).plot(x='predictor', \n",
    "                                                       y=['lasso scaled', 'lasso unscaled'],\n",
    "                                                       kind=\"bar\")\n",
    "plt.ylabel(\"Coefficient\")\n",
    "plt.title('Model Coefficients')\n",
    "plt.show()"
   ]
  },
  {
   "cell_type": "markdown",
   "metadata": {},
   "source": [
    "# As you can see from the plot, models using unscaled data have reasonable R2 and MSE compared with the models trained by scaled data, meaning mathmatically they are all 'good' models.\n",
    "\n",
    "# When we look at the coefficient that can be interpreted as feature importance, we get a very distorted picture from the unscaled model. \n",
    "\n",
    "# As we can see from the model built on the scaled predictor, for example, GRE scores are the second most important predictor. However, because GRE scores by absolute numbers are much higher than other predictors such as research and LOR, it's coefficient is highly supressed so its importance is under estimated by the unscaled model.\n",
    "\n",
    "# As the result, we need to scaled the data to standardize the distribution of data without the distortion introduced by the relative numeric value of each variable.\n"
   ]
  }
 ],
 "metadata": {
  "colab": {
   "collapsed_sections": [],
   "name": "MIS 382N - HW1.ipynb",
   "provenance": []
  },
  "kernelspec": {
   "display_name": "Python 3",
   "language": "python",
   "name": "python3"
  },
  "language_info": {
   "codemirror_mode": {
    "name": "ipython",
    "version": 3
   },
   "file_extension": ".py",
   "mimetype": "text/x-python",
   "name": "python",
   "nbconvert_exporter": "python",
   "pygments_lexer": "ipython3",
   "version": "3.8.8"
  }
 },
 "nbformat": 4,
 "nbformat_minor": 1
}
