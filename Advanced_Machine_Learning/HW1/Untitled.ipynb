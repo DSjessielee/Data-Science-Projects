{
 "cells": [
  {
   "cell_type": "markdown",
   "id": "d78b1b1a",
   "metadata": {
    "id": "TWWU_gOSLEEv"
   },
   "source": [
    "## Question 1: MLOps (10 pts)\n",
    "Read this [article](https://towardsdatascience.com/what-is-mlops-everything-you-must-know-to-get-started-523f2d0b8bd8) \"What is MLOps — Everything You Must Know to Get Started\", which gives a quick walkthrough of the machine learning development lifecycle and explains how MLOps come into play, or watch this [video](https://www.youtube.com/watch?v=06-AZXmwHjo) which you may find interesting.\n",
    "\n",
    "1. (**4 pts**) Use your own words to describe what MLOps is, and what challenges MLOps address. Limit your answer to one paragraph.\n",
    "\n",
    "Answer:\n",
    "\n",
    "MLOps are a relatively new engineering category as a subset of data scientists that intersects DevOps, who can both develope ML system and apply such ML system to continuously deliver high performrace models to solve business problems. \n",
    "MLOps combine Machine Learning development process with the operations process to form an integrated workflow to optimize KPI. MLOps are adaptive and dynamic to address changing business ojectives in the models, and bridge communication gaps between technical and business units with common language to collaborate, where the risk/cost can be better assessed with improved transparency of the ML/DL systems to their ultimater clients - the business teams. The market is demanding more MLOps as they reside on a sweek spot at the intersection of Data Science and DevOps.\n",
    "\n",
    "\n",
    "2. (**6 pts**) Describe what the main phases in MLOps are. Your answer should be 2-3 paragraphs.\n",
    "\n",
    "\n",
    "\n",
    "Answer:\n",
    "\n",
    "First, MLOps should define the business goal or objective to achieve, and then plan for ML and data solutions to achieve the goal. You need to look for available relevant data that are regularization compliant, understand the techinical details (sources, type, storage, etc.) of the data before using it. Next step is data preparation. Data needs to be cleaned and feature engineered and selected. In addition, pipeline needs to be designed to make the clean and compatible data architectured, stored and accessable to model.\n",
    "\n",
    "The next step of training your ML model using the training dataset, the initial phase of training to iterate with different types of models and to use several quantitative measures like accuracy, precision, recall, etc. to compare model performance and compare model against baselines and simpler models.\n",
    "\n",
    "Then MLOps need to build automating ML pipelines and deploying models to the production system. After that, MLOps need to monitor, optimize and maintain models to ensure that models deliver the results by design to all stakeholders and relevant users."
   ]
  },
  {
   "cell_type": "markdown",
   "id": "fa3a5536",
   "metadata": {
    "id": "wusA9L1LmUMH"
   },
   "source": [
    "## Question 2: Applications of Machine Learning (5 pts)\n",
    "Read this [article](https://builtin.com/data-science/data-science-applications-examples) \"17 Data Science Applications & Examples\" and pick one of the data science systems used by various organizations according to this blog. \n",
    "\n",
    "For this system you have chosen, answer the following questions. Please limit your answer to one paragraph:\n",
    "\n",
    "1. What kind of machine learning problem is involved (e.g. classification, regression, clustering, outlier detection,...) in this system?\n",
    "2. Speculate on what kind of data may be needed and how the results can be useful to the organization.\n",
    "3. What do you think are the ethical implications of using machine learning in a domain like this?\n",
    "\n",
    "Answer:\n",
    "\n"
   ]
  },
  {
   "cell_type": "markdown",
   "id": "8889b650",
   "metadata": {},
   "source": [
    "1. UPS uses data science and machine learning algorithm to optimize package transportation route from drop-off to delivery to maximize efficiency. There was recent development algorithm combining clustering and decision trees. These predictions are obtained with a recently introduced tree-based method using aggregate features at the cluster level."
   ]
  },
  {
   "cell_type": "markdown",
   "id": "9638b4c4",
   "metadata": {},
   "source": [
    "2. Data needed include geographic/spacial data for roads, daynamic road conditions, customer locations, distribution center locations, vihicle locations, vihicle load capacities, speeds, etc."
   ]
  },
  {
   "cell_type": "markdown",
   "id": "24201bce",
   "metadata": {},
   "source": [
    "3. Route optimization doesn't have obvious ethical challenges to overcome. In fact, it has very positive ethical implications: it saves fuel (resource), and continuous reducing carbon emission at large scale, and increase the overall life quality of human society by improve efficiency of delivery service. "
   ]
  },
  {
   "cell_type": "markdown",
   "id": "9db9b2cb",
   "metadata": {
    "id": "2w8za9lLmVO7"
   },
   "source": [
    "## Question 3: Simpson's Paradox (10 pts)\n",
    "A data scientist should be careful about drawing unwarranted conclusions about any data that is presented. One of the 'gotchas' that can happen even in apparently very simple tabular summaries, is called Simpson's paradox.\n",
    "\n",
    "Read this [article](https://www.covid-datascience.com/post/israeli-data-how-can-efficacy-vs-severe-disease-be-strong-when-60-of-hospitalized-are-vaccinated), which explains why the computed efficacy of the Pfizer vaccine is misleadingly low (67.5%) when you lump all people together, but once you stratify people by age (which is the right thing to do), you get much higher efficacy numbers.\n",
    "\n",
    "1.(**5 pts**) Explain in your own words what Simpson's paradox is, and how this 'paradox' can happen in real data.\n",
    "\n",
    "\n",
    "\n",
    "2.(**5 pts**) Find and mention another example of Simpson's paradox (but not any of the 3 examples given in the Wikipedia entry for 'Simpson's paradox'), state why the paradox appeared in your chosen example. Also give a reference (URL) to your source for the chosen example.\n",
    "\n",
    "Answer:"
   ]
  },
  {
   "cell_type": "markdown",
   "id": "7f431176",
   "metadata": {},
   "source": [
    "1. Simpson's paradox is that very different or even opposite conclusions can be drawn from the same data depending on how the samples were grouped. In another word, a conclusion that is drawn when data is put into subgroup that reverses or disappears when the data is combined.Simpson's paradox can happen in real data when samples are lumped together without putting them in the proper population context. We need to understand the causality inhereted in the data. If you don't have control on conditions of certain population, Simpson's paradox can happen and lead one to draw wrong conclusion. "
   ]
  },
  {
   "cell_type": "markdown",
   "id": "ab230da8",
   "metadata": {},
   "source": [
    "2. For example, to test a drug named decentril for effectiveness, 800 people were tested and half of them were placed in the placedo group. The result seems promising scince half of the people took Decentril recoverd and only 40% of people taking placedo recovered. However, if we look at the subgroups of men and women, we found that recovery rate for both men and women are higher for the placedo group.\n",
    "\n",
    "When design experiment, we need to pay attention to lurking confounding variables that may distort the result of the final interpretion or even ruin the whole experiment. For example, there is a very unbalanced sample size and recovery rate for female and male groups in this example, which gives rise to the misleading overall positive result of the drug by lumping them together. \n",
    "\n",
    "link:https://365datascience.com/trending/simpsons-paradox/"
   ]
  },
  {
   "cell_type": "code",
   "execution_count": 1,
   "id": "c4a5dfca",
   "metadata": {},
   "outputs": [
    {
     "data": {
      "image/png": "[encoded data removed]",
      "text/plain": [
       "<PIL.PngImagePlugin.PngImageFile image mode=RGBA size=663x106 at 0x1BE01EC6790>"
      ]
     },
     "execution_count": 1,
     "metadata": {},
     "output_type": "execute_result"
    }
   ],
   "source": [
    "import requests\n",
    "from PIL import Image\n",
    "Image.open(requests.get('https://365datascience.com/resources/blog/2017-07-table-1.png', stream=True).raw)"
   ]
  },
  {
   "cell_type": "code",
   "execution_count": 2,
   "id": "e95b4f1b",
   "metadata": {
    "scrolled": true
   },
   "outputs": [
    {
     "data": {
      "image/png": "[encoded data removed]",
      "text/plain": [
       "<PIL.PngImagePlugin.PngImageFile image mode=RGBA size=673x144 at 0x1BE01C304C0>"
      ]
     },
     "execution_count": 2,
     "metadata": {},
     "output_type": "execute_result"
    }
   ],
   "source": [
    "Image.open(requests.get('https://365datascience.com/resources/blog/2017-07-table-2.png', stream=True).raw)"
   ]
  }
 ],
 "metadata": {
  "kernelspec": {
   "display_name": "Python 3",
   "language": "python",
   "name": "python3"
  },
  "language_info": {
   "codemirror_mode": {
    "name": "ipython",
    "version": 3
   },
   "file_extension": ".py",
   "mimetype": "text/x-python",
   "name": "python",
   "nbconvert_exporter": "python",
   "pygments_lexer": "ipython3",
   "version": "3.8.8"
  }
 },
 "nbformat": 4,
 "nbformat_minor": 5
}
