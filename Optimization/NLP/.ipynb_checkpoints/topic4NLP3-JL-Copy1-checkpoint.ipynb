{
 "cells": [
  {
   "cell_type": "code",
   "execution_count": 2,
   "metadata": {},
   "outputs": [],
   "source": [
    "import numpy as np\n",
    "import gurobipy as gp\n",
    "from scipy.optimize import minimize"
   ]
  },
  {
   "cell_type": "markdown",
   "metadata": {},
   "source": [
    "# Portfolio Optimization"
   ]
  },
  {
   "cell_type": "code",
   "execution_count": 3,
   "metadata": {},
   "outputs": [
    {
     "name": "stdout",
     "output_type": "stream",
     "text": [
      "0.0053137777777777775\n",
      "0.08123333333333334\n"
     ]
    }
   ],
   "source": [
    "threshold_return = 0.09\n",
    "\n",
    "\n",
    "meanvec = np.array([.1073,.0737,.0627])\n",
    "Sigma = np.zeros((3,3))\n",
    "Sigma[0,:] = [0.0278,0.00387,0.000207]\n",
    "Sigma[1,:] = [0.00387,0.0111,-0.000195]\n",
    "Sigma[2,:] = [0.000207,-0.000195,0.00116]\n",
    "\n",
    "w = np.ones(3)/3\n",
    "\n",
    "print(w @ Sigma @ w)\n",
    "\n",
    "print(w @ meanvec)\n",
    "\n"
   ]
  },
  {
   "cell_type": "markdown",
   "metadata": {},
   "source": [
    "# Solve it as a QP"
   ]
  },
  {
   "cell_type": "code",
   "execution_count": 4,
   "metadata": {},
   "outputs": [],
   "source": [
    "# constraint0: weights sum to 1\n",
    "# constraint1: mean return is >= 9%\n",
    "\n",
    "A = np.ones((2,3)) # row 0 is all 1s already\n",
    "A[1,:] = meanvec # now change row 1\n",
    "\n",
    "b = np.ones(2) # row 0 is already 1\n",
    "b[1] = threshold_return # now change row 1\n",
    "\n",
    "sense = ['=','>'] \n",
    "\n"
   ]
  },
  {
   "cell_type": "code",
   "execution_count": 5,
   "metadata": {},
   "outputs": [
    {
     "name": "stdout",
     "output_type": "stream",
     "text": [
      "Academic license - for non-commercial use only - expires 2022-01-03\n",
      "Using license file C:\\Users\\Jessi\\gurobi.lic\n"
     ]
    }
   ],
   "source": [
    "portMod = gp.Model()\n",
    "portMod_x = portMod.addMVar(3,ub=np.array([1,1,1]))\n",
    "portMod_con = portMod.addMConstrs(A, portMod_x, sense, b)\n",
    "\n",
    "#no linear so none\n",
    "#only quadratic matrix sigma\n",
    "\n",
    "portMod.setMObjective(Sigma,None,0,sense=gp.GRB.MINIMIZE)\n",
    "\n",
    "portMod.Params.OutputFlag = 0 \n",
    "\n",
    "portMod.optimize()\n"
   ]
  },
  {
   "cell_type": "code",
   "execution_count": 20,
   "metadata": {},
   "outputs": [
    {
     "data": {
      "text/plain": [
       "array([0.56328345, 0.19795984, 0.23875671])"
      ]
     },
     "execution_count": 20,
     "metadata": {},
     "output_type": "execute_result"
    }
   ],
   "source": [
    "portMod_x.x"
   ]
  },
  {
   "cell_type": "code",
   "execution_count": 21,
   "metadata": {},
   "outputs": [
    {
     "data": {
      "text/plain": [
       "0.010222039472787168"
      ]
     },
     "execution_count": 21,
     "metadata": {},
     "output_type": "execute_result"
    }
   ],
   "source": [
    "portMod.objVal"
   ]
  },
  {
   "cell_type": "code",
   "execution_count": null,
   "metadata": {},
   "outputs": [],
   "source": []
  },
  {
   "cell_type": "markdown",
   "metadata": {},
   "source": [
    "## Now solve it as a general NLP"
   ]
  },
  {
   "cell_type": "code",
   "execution_count": 8,
   "metadata": {},
   "outputs": [],
   "source": [
    "def obj_fun(x):\n",
    "    return x @ Sigma @ x"
   ]
  },
  {
   "cell_type": "code",
   "execution_count": 9,
   "metadata": {},
   "outputs": [],
   "source": [
    "# inequality constraints must be >= 0\n",
    "def mean_con_fun(x):\n",
    "    return (x @ meanvec) - threshold_return"
   ]
  },
  {
   "cell_type": "code",
   "execution_count": 10,
   "metadata": {},
   "outputs": [],
   "source": [
    "# equality constraints must be =0\n",
    "def all_invest_con(x):\n",
    "    return np.sum(x)-1"
   ]
  },
  {
   "cell_type": "code",
   "execution_count": 11,
   "metadata": {},
   "outputs": [],
   "source": [
    "con1 = {'type':'eq', 'fun': all_invest_con}\n",
    "con2 = {'type':'ineq', 'fun': mean_con_fun}\n",
    "cons = [con1,con2]\n",
    "bds = [(0,1),(0,1),(0,1)] # all weights must be between 0-1"
   ]
  },
  {
   "cell_type": "code",
   "execution_count": 12,
   "metadata": {},
   "outputs": [],
   "source": [
    "# if you don't tell it what method to use it will default to the correct method based on constraints/bounds\n",
    "\n",
    "opt_port = minimize(obj_fun,w,constraints=cons,bounds=bds) "
   ]
  },
  {
   "cell_type": "code",
   "execution_count": 13,
   "metadata": {},
   "outputs": [
    {
     "data": {
      "text/plain": [
       "array([0.56328343, 0.19795991, 0.23875666])"
      ]
     },
     "execution_count": 13,
     "metadata": {},
     "output_type": "execute_result"
    }
   ],
   "source": [
    "opt_port.x"
   ]
  },
  {
   "cell_type": "code",
   "execution_count": 14,
   "metadata": {},
   "outputs": [
    {
     "data": {
      "text/plain": [
       "0.01022203949243753"
      ]
     },
     "execution_count": 14,
     "metadata": {},
     "output_type": "execute_result"
    }
   ],
   "source": [
    "opt_port.fun"
   ]
  },
  {
   "cell_type": "markdown",
   "metadata": {},
   "source": [
    "# Something weird...\n",
    "Something I have noticed is that for portfolio problems with many stocks if the objective is variance then the solver may return the initial guess, which is stupid.  It is sometimes possible to fix this by changing the objective to be standard deviation."
   ]
  },
  {
   "cell_type": "code",
   "execution_count": 15,
   "metadata": {},
   "outputs": [],
   "source": [
    "def obj_fun_std(x):\n",
    "    return np.sqrt(x @ Sigma @ x)"
   ]
  },
  {
   "cell_type": "code",
   "execution_count": 16,
   "metadata": {},
   "outputs": [],
   "source": [
    "opt_port2 = minimize(obj_fun_std,w,constraints=cons,bounds=bds)"
   ]
  },
  {
   "cell_type": "code",
   "execution_count": 17,
   "metadata": {},
   "outputs": [
    {
     "data": {
      "text/plain": [
       "array([0.56330632, 0.19786712, 0.23882657])"
      ]
     },
     "execution_count": 17,
     "metadata": {},
     "output_type": "execute_result"
    }
   ],
   "source": [
    "opt_port2.x"
   ]
  },
  {
   "cell_type": "code",
   "execution_count": 18,
   "metadata": {},
   "outputs": [
    {
     "data": {
      "text/plain": [
       "0.010222039596755302"
      ]
     },
     "execution_count": 18,
     "metadata": {},
     "output_type": "execute_result"
    }
   ],
   "source": [
    "opt_port2.fun**2"
   ]
  }
 ],
 "metadata": {
  "kernelspec": {
   "display_name": "Python 3",
   "language": "python",
   "name": "python3"
  },
  "language_info": {
   "codemirror_mode": {
    "name": "ipython",
    "version": 3
   },
   "file_extension": ".py",
   "mimetype": "text/x-python",
   "name": "python",
   "nbconvert_exporter": "python",
   "pygments_lexer": "ipython3",
   "version": "3.8.8"
  }
 },
 "nbformat": 4,
 "nbformat_minor": 2
}
