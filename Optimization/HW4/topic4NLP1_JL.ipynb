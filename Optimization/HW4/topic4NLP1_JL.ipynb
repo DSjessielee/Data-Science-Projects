{
 "cells": [
  {
   "cell_type": "code",
   "execution_count": 40,
   "metadata": {},
   "outputs": [],
   "source": [
    "import numpy as np\n",
    "from scipy.optimize import minimize"
   ]
  },
  {
   "cell_type": "code",
   "execution_count": 41,
   "metadata": {},
   "outputs": [],
   "source": [
    "def neg_profit(price):\n",
    "    demand = 3777178*(price[0]**(-2.154))\n",
    "    revenue = price[0]*demand\n",
    "    cost = demand*50\n",
    "    profit = revenue-cost\n",
    "    return(-profit)\n"
   ]
  },
  {
   "cell_type": "code",
   "execution_count": 42,
   "metadata": {},
   "outputs": [
    {
     "name": "stdout",
     "output_type": "stream",
     "text": [
      "8634.26748658103\n",
      "9292.60454653096\n",
      "7760.092168095631\n"
     ]
    }
   ],
   "source": [
    "# what is the profit for a few prices?\n",
    "print(-neg_profit([75]))\n",
    "print(-neg_profit([100]))\n",
    "print(-neg_profit([150]))"
   ]
  },
  {
   "cell_type": "code",
   "execution_count": 43,
   "metadata": {},
   "outputs": [
    {
     "name": "stdout",
     "output_type": "stream",
     "text": [
      "93.32755632582322\n",
      "9343.94630933845\n"
     ]
    }
   ],
   "source": [
    "# the calculus answer\n",
    "opt_price = -2.154*50/(-2.154 + 1)\n",
    "print(opt_price)\n",
    "print(-neg_profit([opt_price]))"
   ]
  },
  {
   "cell_type": "code",
   "execution_count": null,
   "metadata": {},
   "outputs": [],
   "source": []
  },
  {
   "cell_type": "code",
   "execution_count": 44,
   "metadata": {},
   "outputs": [],
   "source": [
    "# now use scipy.optimize to solve the problem\n",
    "# method should be 'BFGS' or 'L-BFGS-B' or 'SLSQP'\n",
    "# BFGS for completely unconstrained\n",
    "# L-BFGS-B for just upper and lower bounds on variables - these are called box constraints\n",
    "# SLSQP for general constraints\n",
    "# tol tells the solver how accurate to make the solution\n",
    "# smaller values of tol take longer to solve but are more accurate"
   ]
  },
  {
   "cell_type": "code",
   "execution_count": 48,
   "metadata": {},
   "outputs": [
    {
     "data": {
      "text/plain": [
       "      fun: -9343.946309337007\n",
       " hess_inv: <1x1 LbfgsInvHessProduct with dtype=float64>\n",
       "      jac: array([0.])\n",
       "  message: 'CONVERGENCE: NORM_OF_PROJECTED_GRADIENT_<=_PGTOL'\n",
       "     nfev: 10\n",
       "      nit: 3\n",
       "     njev: 5\n",
       "   status: 0\n",
       "  success: True\n",
       "        x: array([93.32752344])"
      ]
     },
     "execution_count": 48,
     "metadata": {},
     "output_type": "execute_result"
    }
   ],
   "source": [
    "optProfitNLP = minimize(neg_profit,[90],method='L-BFGS-B',bounds=[(0,1000)],tol=1e-8)\n",
    "optProfitNLP"
   ]
  },
  {
   "cell_type": "code",
   "execution_count": 46,
   "metadata": {},
   "outputs": [
    {
     "data": {
      "text/plain": [
       "array([93.32752344])"
      ]
     },
     "execution_count": 46,
     "metadata": {},
     "output_type": "execute_result"
    }
   ],
   "source": [
    "optProfitNLP.x"
   ]
  },
  {
   "cell_type": "code",
   "execution_count": 47,
   "metadata": {},
   "outputs": [
    {
     "data": {
      "text/plain": [
       "9343.946309337007"
      ]
     },
     "execution_count": 47,
     "metadata": {},
     "output_type": "execute_result"
    }
   ],
   "source": [
    "-optProfitNLP.fun"
   ]
  },
  {
   "cell_type": "code",
   "execution_count": 22,
   "metadata": {},
   "outputs": [
    {
     "name": "stdout",
     "output_type": "stream",
     "text": [
      "[93.32753947]\n",
      "9343.946309338071\n"
     ]
    }
   ],
   "source": [
    "# starting at different places may lead to different solutions\n",
    "optProfitNLP = minimize(neg_profit,[89],method='L-BFGS-B',bounds=[(0,1000)])\n",
    "print(optProfitNLP.x)\n",
    "print(-optProfitNLP.fun)\n",
    "# usually not much difference for convex programs"
   ]
  },
  {
   "cell_type": "code",
   "execution_count": null,
   "metadata": {},
   "outputs": [],
   "source": []
  },
  {
   "cell_type": "markdown",
   "metadata": {},
   "source": [
    "# 2 variable NLP"
   ]
  },
  {
   "cell_type": "code",
   "execution_count": 17,
   "metadata": {},
   "outputs": [],
   "source": [
    "def neg_profit2(x):\n",
    "    # x[0] is price\n",
    "    # x[1] is number manufactured\n",
    "    \n",
    "    demand = 3777178*x[0]**(-2.154)\n",
    "    num_sold = min(demand,x[1])\n",
    "    revenue = num_sold*x[0]\n",
    "    cost = 50*x[1]\n",
    "    \n",
    "    profit = revenue-cost\n",
    "    return -profit"
   ]
  },
  {
   "cell_type": "code",
   "execution_count": 18,
   "metadata": {},
   "outputs": [
    {
     "name": "stdout",
     "output_type": "stream",
     "text": [
      "9000\n",
      "7875\n"
     ]
    }
   ],
   "source": [
    "print(-neg_profit2([100,180]))\n",
    "print(-neg_profit2([95,175]))"
   ]
  },
  {
   "cell_type": "code",
   "execution_count": 57,
   "metadata": {},
   "outputs": [
    {
     "name": "stdout",
     "output_type": "stream",
     "text": [
      "8244.420743900893\n",
      "[135.92503445  95.9489955 ]\n"
     ]
    }
   ],
   "source": [
    "optProfitNLP2 = minimize(neg_profit2,[5,150],method='L-BFGS-B',bounds=[(0,1000),(0,1000)])\n",
    "print(-optProfitNLP2.fun)\n",
    "print(optProfitNLP2.x)"
   ]
  },
  {
   "cell_type": "code",
   "execution_count": 49,
   "metadata": {},
   "outputs": [
    {
     "data": {
      "text/plain": [
       "9343.946309337007"
      ]
     },
     "execution_count": 49,
     "metadata": {},
     "output_type": "execute_result"
    }
   ],
   "source": [
    "-neg_profit2([optProfitNLP.x[0],3777178*optProfitNLP.x[0]**(-2.154)])"
   ]
  },
  {
   "cell_type": "code",
   "execution_count": null,
   "metadata": {},
   "outputs": [],
   "source": []
  },
  {
   "cell_type": "code",
   "execution_count": null,
   "metadata": {},
   "outputs": [],
   "source": []
  },
  {
   "cell_type": "code",
   "execution_count": null,
   "metadata": {},
   "outputs": [],
   "source": []
  }
 ],
 "metadata": {
  "kernelspec": {
   "display_name": "Python 3",
   "language": "python",
   "name": "python3"
  },
  "language_info": {
   "codemirror_mode": {
    "name": "ipython",
    "version": 3
   },
   "file_extension": ".py",
   "mimetype": "text/x-python",
   "name": "python",
   "nbconvert_exporter": "python",
   "pygments_lexer": "ipython3",
   "version": "3.8.8"
  }
 },
 "nbformat": 4,
 "nbformat_minor": 2
}
