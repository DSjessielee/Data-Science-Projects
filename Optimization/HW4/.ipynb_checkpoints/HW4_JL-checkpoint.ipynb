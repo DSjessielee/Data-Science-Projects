{
 "cells": [
  {
   "cell_type": "code",
   "execution_count": 3,
   "metadata": {},
   "outputs": [],
   "source": [
    "import numpy as np\n",
    "from scipy.optimize import minimize"
   ]
  },
  {
   "cell_type": "markdown",
   "metadata": {},
   "source": [
    "# Q1"
   ]
  },
  {
   "cell_type": "code",
   "execution_count": 4,
   "metadata": {},
   "outputs": [],
   "source": [
    "def neg_machine(lk):\n",
    "    machine =  0.05*lk[0]**(2/3)*lk[1]**(1/3)\n",
    "    return(-machine)\n",
    "\n",
    "def confun(lk):\n",
    "    return (100000-12*lk[0]-15*lk[1])\n"
   ]
  },
  {
   "cell_type": "code",
   "execution_count": 5,
   "metadata": {},
   "outputs": [
    {
     "name": "stdout",
     "output_type": "stream",
     "text": [
      "total mahchine: 204.72777024779947\n",
      "total cost: 10\n",
      "total mahchine: 204.72777024779947\n",
      "total cost: 10\n",
      "total mahchine: 204.72777024779947\n",
      "total cost: 10\n",
      "total mahchine: 204.72777024779947\n",
      "total cost: 10\n"
     ]
    }
   ],
   "source": [
    "for i in range(1000,5000,1000):\n",
    "    print('total mahchine: {}'.format(-neg_machine([5557,2223])))\n",
    "    print('total cost: {}'.format(confun([5555,2222])))"
   ]
  },
  {
   "cell_type": "code",
   "execution_count": 6,
   "metadata": {},
   "outputs": [],
   "source": [
    "\n",
    "def confun(lk):\n",
    "    return (100000-12*lk[0]-15*lk[1])\n",
    "\n",
    "# now we create a dictionary telling the solver what type of constraint and what the function is\n",
    "# ineq means inequility, or 'eq',conf --- 2 keys\n",
    "# ineq means >\n",
    "constr1 = {'type':'ineq', 'fun': confun}\n",
    "# then we put all our constraint dictionaries into a list\n",
    "constraint = [constr1]"
   ]
  },
  {
   "cell_type": "code",
   "execution_count": 7,
   "metadata": {},
   "outputs": [
    {
     "data": {
      "text/plain": [
       "array([5555.55875338, 2222.21966396])"
      ]
     },
     "execution_count": 7,
     "metadata": {},
     "output_type": "execute_result"
    }
   ],
   "source": [
    "tot_machine = minimize(neg_machine,[4000,1000],constraints=constraint,tol=1e-8)\n",
    "tot_machine.x"
   ]
  },
  {
   "cell_type": "code",
   "execution_count": 8,
   "metadata": {},
   "outputs": [],
   "source": [
    "# why is this not working\n",
    "# tot_machine = minimize(neg_machine,[3000,1000],method='L-BFGS-B',constraints=constraint,tol=1e-8)"
   ]
  },
  {
   "cell_type": "code",
   "execution_count": 9,
   "metadata": {},
   "outputs": [
    {
     "data": {
      "text/plain": [
       "-204.6684165910318"
      ]
     },
     "execution_count": 9,
     "metadata": {},
     "output_type": "execute_result"
    }
   ],
   "source": [
    "tot_machine.fun"
   ]
  },
  {
   "cell_type": "code",
   "execution_count": 10,
   "metadata": {},
   "outputs": [
    {
     "data": {
      "text/plain": [
       "-204.6684165910318"
      ]
     },
     "execution_count": 10,
     "metadata": {},
     "output_type": "execute_result"
    }
   ],
   "source": [
    "tot_machine.fun"
   ]
  },
  {
   "cell_type": "markdown",
   "metadata": {},
   "source": [
    "# Q2"
   ]
  },
  {
   "cell_type": "code",
   "execution_count": 11,
   "metadata": {},
   "outputs": [],
   "source": [
    "import pandas as pd"
   ]
  },
  {
   "cell_type": "code",
   "execution_count": 12,
   "metadata": {},
   "outputs": [
    {
     "data": {
      "text/html": [
       "<div>\n",
       "<style scoped>\n",
       "    .dataframe tbody tr th:only-of-type {\n",
       "        vertical-align: middle;\n",
       "    }\n",
       "\n",
       "    .dataframe tbody tr th {\n",
       "        vertical-align: top;\n",
       "    }\n",
       "\n",
       "    .dataframe thead th {\n",
       "        text-align: right;\n",
       "    }\n",
       "</style>\n",
       "<table border=\"1\" class=\"dataframe\">\n",
       "  <thead>\n",
       "    <tr style=\"text-align: right;\">\n",
       "      <th></th>\n",
       "      <th>AA</th>\n",
       "      <th>AAPL</th>\n",
       "      <th>AXP</th>\n",
       "      <th>BA</th>\n",
       "      <th>CAT</th>\n",
       "      <th>CSCO</th>\n",
       "      <th>DD</th>\n",
       "      <th>DIS</th>\n",
       "      <th>EK</th>\n",
       "      <th>FDX</th>\n",
       "      <th>...</th>\n",
       "      <th>KO</th>\n",
       "      <th>MCD</th>\n",
       "      <th>MMM</th>\n",
       "      <th>MO</th>\n",
       "      <th>MRK</th>\n",
       "      <th>MSFT</th>\n",
       "      <th>PG</th>\n",
       "      <th>T</th>\n",
       "      <th>UTX</th>\n",
       "      <th>WMT</th>\n",
       "    </tr>\n",
       "    <tr>\n",
       "      <th>Date</th>\n",
       "      <th></th>\n",
       "      <th></th>\n",
       "      <th></th>\n",
       "      <th></th>\n",
       "      <th></th>\n",
       "      <th></th>\n",
       "      <th></th>\n",
       "      <th></th>\n",
       "      <th></th>\n",
       "      <th></th>\n",
       "      <th></th>\n",
       "      <th></th>\n",
       "      <th></th>\n",
       "      <th></th>\n",
       "      <th></th>\n",
       "      <th></th>\n",
       "      <th></th>\n",
       "      <th></th>\n",
       "      <th></th>\n",
       "      <th></th>\n",
       "      <th></th>\n",
       "    </tr>\n",
       "  </thead>\n",
       "  <tbody>\n",
       "    <tr>\n",
       "      <th>Jan-2004</th>\n",
       "      <td>-0.101</td>\n",
       "      <td>0.055</td>\n",
       "      <td>0.075</td>\n",
       "      <td>-0.009</td>\n",
       "      <td>-0.055</td>\n",
       "      <td>0.061</td>\n",
       "      <td>-0.043</td>\n",
       "      <td>0.029</td>\n",
       "      <td>0.107</td>\n",
       "      <td>-0.003</td>\n",
       "      <td>...</td>\n",
       "      <td>-0.030</td>\n",
       "      <td>0.037</td>\n",
       "      <td>-0.070</td>\n",
       "      <td>0.021</td>\n",
       "      <td>0.030</td>\n",
       "      <td>0.010</td>\n",
       "      <td>0.017</td>\n",
       "      <td>-0.011</td>\n",
       "      <td>0.008</td>\n",
       "      <td>0.015</td>\n",
       "    </tr>\n",
       "    <tr>\n",
       "      <th>Feb-2004</th>\n",
       "      <td>0.101</td>\n",
       "      <td>0.060</td>\n",
       "      <td>0.031</td>\n",
       "      <td>0.043</td>\n",
       "      <td>-0.030</td>\n",
       "      <td>-0.099</td>\n",
       "      <td>0.035</td>\n",
       "      <td>0.105</td>\n",
       "      <td>0.005</td>\n",
       "      <td>0.021</td>\n",
       "      <td>...</td>\n",
       "      <td>0.015</td>\n",
       "      <td>0.099</td>\n",
       "      <td>-0.009</td>\n",
       "      <td>0.035</td>\n",
       "      <td>0.010</td>\n",
       "      <td>-0.040</td>\n",
       "      <td>0.014</td>\n",
       "      <td>-0.058</td>\n",
       "      <td>-0.032</td>\n",
       "      <td>0.106</td>\n",
       "    </tr>\n",
       "    <tr>\n",
       "      <th>Mar-2004</th>\n",
       "      <td>-0.074</td>\n",
       "      <td>0.130</td>\n",
       "      <td>-0.028</td>\n",
       "      <td>-0.053</td>\n",
       "      <td>0.044</td>\n",
       "      <td>0.018</td>\n",
       "      <td>-0.064</td>\n",
       "      <td>-0.058</td>\n",
       "      <td>-0.083</td>\n",
       "      <td>0.095</td>\n",
       "      <td>...</td>\n",
       "      <td>0.012</td>\n",
       "      <td>0.010</td>\n",
       "      <td>0.049</td>\n",
       "      <td>-0.043</td>\n",
       "      <td>-0.074</td>\n",
       "      <td>-0.060</td>\n",
       "      <td>0.023</td>\n",
       "      <td>0.022</td>\n",
       "      <td>-0.063</td>\n",
       "      <td>0.004</td>\n",
       "    </tr>\n",
       "    <tr>\n",
       "      <th>Apr-2004</th>\n",
       "      <td>-0.114</td>\n",
       "      <td>-0.047</td>\n",
       "      <td>-0.056</td>\n",
       "      <td>0.039</td>\n",
       "      <td>-0.012</td>\n",
       "      <td>-0.113</td>\n",
       "      <td>0.017</td>\n",
       "      <td>-0.078</td>\n",
       "      <td>-0.015</td>\n",
       "      <td>-0.043</td>\n",
       "      <td>...</td>\n",
       "      <td>0.005</td>\n",
       "      <td>-0.047</td>\n",
       "      <td>0.056</td>\n",
       "      <td>0.017</td>\n",
       "      <td>0.064</td>\n",
       "      <td>0.048</td>\n",
       "      <td>0.014</td>\n",
       "      <td>0.028</td>\n",
       "      <td>-0.001</td>\n",
       "      <td>-0.045</td>\n",
       "    </tr>\n",
       "    <tr>\n",
       "      <th>May-2004</th>\n",
       "      <td>0.023</td>\n",
       "      <td>0.088</td>\n",
       "      <td>0.036</td>\n",
       "      <td>0.078</td>\n",
       "      <td>-0.031</td>\n",
       "      <td>0.070</td>\n",
       "      <td>0.014</td>\n",
       "      <td>0.019</td>\n",
       "      <td>0.025</td>\n",
       "      <td>0.023</td>\n",
       "      <td>...</td>\n",
       "      <td>0.015</td>\n",
       "      <td>-0.030</td>\n",
       "      <td>-0.018</td>\n",
       "      <td>-0.133</td>\n",
       "      <td>0.006</td>\n",
       "      <td>0.004</td>\n",
       "      <td>0.019</td>\n",
       "      <td>-0.048</td>\n",
       "      <td>-0.015</td>\n",
       "      <td>-0.020</td>\n",
       "    </tr>\n",
       "    <tr>\n",
       "      <th>...</th>\n",
       "      <td>...</td>\n",
       "      <td>...</td>\n",
       "      <td>...</td>\n",
       "      <td>...</td>\n",
       "      <td>...</td>\n",
       "      <td>...</td>\n",
       "      <td>...</td>\n",
       "      <td>...</td>\n",
       "      <td>...</td>\n",
       "      <td>...</td>\n",
       "      <td>...</td>\n",
       "      <td>...</td>\n",
       "      <td>...</td>\n",
       "      <td>...</td>\n",
       "      <td>...</td>\n",
       "      <td>...</td>\n",
       "      <td>...</td>\n",
       "      <td>...</td>\n",
       "      <td>...</td>\n",
       "      <td>...</td>\n",
       "      <td>...</td>\n",
       "    </tr>\n",
       "    <tr>\n",
       "      <th>Jan-2010</th>\n",
       "      <td>-0.211</td>\n",
       "      <td>-0.089</td>\n",
       "      <td>-0.067</td>\n",
       "      <td>0.120</td>\n",
       "      <td>-0.077</td>\n",
       "      <td>-0.061</td>\n",
       "      <td>-0.031</td>\n",
       "      <td>-0.084</td>\n",
       "      <td>0.434</td>\n",
       "      <td>-0.061</td>\n",
       "      <td>...</td>\n",
       "      <td>-0.048</td>\n",
       "      <td>0.000</td>\n",
       "      <td>-0.026</td>\n",
       "      <td>0.012</td>\n",
       "      <td>0.045</td>\n",
       "      <td>-0.075</td>\n",
       "      <td>0.022</td>\n",
       "      <td>-0.082</td>\n",
       "      <td>-0.028</td>\n",
       "      <td>0.000</td>\n",
       "    </tr>\n",
       "    <tr>\n",
       "      <th>Feb-2010</th>\n",
       "      <td>0.047</td>\n",
       "      <td>0.065</td>\n",
       "      <td>0.014</td>\n",
       "      <td>0.049</td>\n",
       "      <td>0.092</td>\n",
       "      <td>0.083</td>\n",
       "      <td>0.047</td>\n",
       "      <td>0.057</td>\n",
       "      <td>-0.018</td>\n",
       "      <td>0.082</td>\n",
       "      <td>...</td>\n",
       "      <td>-0.028</td>\n",
       "      <td>0.031</td>\n",
       "      <td>0.002</td>\n",
       "      <td>0.013</td>\n",
       "      <td>-0.034</td>\n",
       "      <td>0.022</td>\n",
       "      <td>0.028</td>\n",
       "      <td>-0.022</td>\n",
       "      <td>0.024</td>\n",
       "      <td>0.012</td>\n",
       "    </tr>\n",
       "    <tr>\n",
       "      <th>Mar-2010</th>\n",
       "      <td>0.071</td>\n",
       "      <td>0.148</td>\n",
       "      <td>0.085</td>\n",
       "      <td>0.150</td>\n",
       "      <td>0.102</td>\n",
       "      <td>0.070</td>\n",
       "      <td>0.104</td>\n",
       "      <td>0.117</td>\n",
       "      <td>-0.025</td>\n",
       "      <td>0.103</td>\n",
       "      <td>...</td>\n",
       "      <td>0.052</td>\n",
       "      <td>0.045</td>\n",
       "      <td>0.043</td>\n",
       "      <td>0.038</td>\n",
       "      <td>0.023</td>\n",
       "      <td>0.022</td>\n",
       "      <td>0.000</td>\n",
       "      <td>0.042</td>\n",
       "      <td>0.072</td>\n",
       "      <td>0.034</td>\n",
       "    </tr>\n",
       "    <tr>\n",
       "      <th>Apr-2010</th>\n",
       "      <td>-0.057</td>\n",
       "      <td>0.111</td>\n",
       "      <td>0.118</td>\n",
       "      <td>-0.002</td>\n",
       "      <td>0.090</td>\n",
       "      <td>0.035</td>\n",
       "      <td>0.070</td>\n",
       "      <td>0.055</td>\n",
       "      <td>0.059</td>\n",
       "      <td>-0.036</td>\n",
       "      <td>...</td>\n",
       "      <td>-0.028</td>\n",
       "      <td>0.058</td>\n",
       "      <td>0.061</td>\n",
       "      <td>0.033</td>\n",
       "      <td>-0.062</td>\n",
       "      <td>0.043</td>\n",
       "      <td>-0.010</td>\n",
       "      <td>0.025</td>\n",
       "      <td>0.018</td>\n",
       "      <td>-0.035</td>\n",
       "    </tr>\n",
       "    <tr>\n",
       "      <th>May-2010</th>\n",
       "      <td>-0.131</td>\n",
       "      <td>-0.016</td>\n",
       "      <td>-0.135</td>\n",
       "      <td>-0.109</td>\n",
       "      <td>-0.108</td>\n",
       "      <td>-0.140</td>\n",
       "      <td>-0.082</td>\n",
       "      <td>-0.093</td>\n",
       "      <td>-0.080</td>\n",
       "      <td>-0.072</td>\n",
       "      <td>...</td>\n",
       "      <td>-0.038</td>\n",
       "      <td>-0.045</td>\n",
       "      <td>-0.100</td>\n",
       "      <td>-0.043</td>\n",
       "      <td>-0.039</td>\n",
       "      <td>-0.151</td>\n",
       "      <td>-0.017</td>\n",
       "      <td>-0.068</td>\n",
       "      <td>-0.096</td>\n",
       "      <td>-0.052</td>\n",
       "    </tr>\n",
       "  </tbody>\n",
       "</table>\n",
       "<p>77 rows × 27 columns</p>\n",
       "</div>"
      ],
      "text/plain": [
       "             AA   AAPL    AXP     BA    CAT   CSCO     DD    DIS     EK  \\\n",
       "Date                                                                      \n",
       "Jan-2004 -0.101  0.055  0.075 -0.009 -0.055  0.061 -0.043  0.029  0.107   \n",
       "Feb-2004  0.101  0.060  0.031  0.043 -0.030 -0.099  0.035  0.105  0.005   \n",
       "Mar-2004 -0.074  0.130 -0.028 -0.053  0.044  0.018 -0.064 -0.058 -0.083   \n",
       "Apr-2004 -0.114 -0.047 -0.056  0.039 -0.012 -0.113  0.017 -0.078 -0.015   \n",
       "May-2004  0.023  0.088  0.036  0.078 -0.031  0.070  0.014  0.019  0.025   \n",
       "...         ...    ...    ...    ...    ...    ...    ...    ...    ...   \n",
       "Jan-2010 -0.211 -0.089 -0.067  0.120 -0.077 -0.061 -0.031 -0.084  0.434   \n",
       "Feb-2010  0.047  0.065  0.014  0.049  0.092  0.083  0.047  0.057 -0.018   \n",
       "Mar-2010  0.071  0.148  0.085  0.150  0.102  0.070  0.104  0.117 -0.025   \n",
       "Apr-2010 -0.057  0.111  0.118 -0.002  0.090  0.035  0.070  0.055  0.059   \n",
       "May-2010 -0.131 -0.016 -0.135 -0.109 -0.108 -0.140 -0.082 -0.093 -0.080   \n",
       "\n",
       "            FDX  ...     KO    MCD    MMM     MO    MRK   MSFT     PG      T  \\\n",
       "Date             ...                                                           \n",
       "Jan-2004 -0.003  ... -0.030  0.037 -0.070  0.021  0.030  0.010  0.017 -0.011   \n",
       "Feb-2004  0.021  ...  0.015  0.099 -0.009  0.035  0.010 -0.040  0.014 -0.058   \n",
       "Mar-2004  0.095  ...  0.012  0.010  0.049 -0.043 -0.074 -0.060  0.023  0.022   \n",
       "Apr-2004 -0.043  ...  0.005 -0.047  0.056  0.017  0.064  0.048  0.014  0.028   \n",
       "May-2004  0.023  ...  0.015 -0.030 -0.018 -0.133  0.006  0.004  0.019 -0.048   \n",
       "...         ...  ...    ...    ...    ...    ...    ...    ...    ...    ...   \n",
       "Jan-2010 -0.061  ... -0.048  0.000 -0.026  0.012  0.045 -0.075  0.022 -0.082   \n",
       "Feb-2010  0.082  ... -0.028  0.031  0.002  0.013 -0.034  0.022  0.028 -0.022   \n",
       "Mar-2010  0.103  ...  0.052  0.045  0.043  0.038  0.023  0.022  0.000  0.042   \n",
       "Apr-2010 -0.036  ... -0.028  0.058  0.061  0.033 -0.062  0.043 -0.010  0.025   \n",
       "May-2010 -0.072  ... -0.038 -0.045 -0.100 -0.043 -0.039 -0.151 -0.017 -0.068   \n",
       "\n",
       "            UTX    WMT  \n",
       "Date                    \n",
       "Jan-2004  0.008  0.015  \n",
       "Feb-2004 -0.032  0.106  \n",
       "Mar-2004 -0.063  0.004  \n",
       "Apr-2004 -0.001 -0.045  \n",
       "May-2004 -0.015 -0.020  \n",
       "...         ...    ...  \n",
       "Jan-2010 -0.028  0.000  \n",
       "Feb-2010  0.024  0.012  \n",
       "Mar-2010  0.072  0.034  \n",
       "Apr-2010  0.018 -0.035  \n",
       "May-2010 -0.096 -0.052  \n",
       "\n",
       "[77 rows x 27 columns]"
      ]
     },
     "execution_count": 12,
     "metadata": {},
     "output_type": "execute_result"
    }
   ],
   "source": [
    "df=pd.read_csv('homework4stocks.csv',index_col=0)\n",
    "df_mean=df.mean(axis=0)\n",
    "df_var=df.var(axis=0)\n",
    "df_covar=pd.DataFrame(df.cov())\n",
    "df"
   ]
  },
  {
   "cell_type": "code",
   "execution_count": 20,
   "metadata": {},
   "outputs": [],
   "source": [
    "def sum_var(x):\n",
    "    sum=0\n",
    "    for i in range(len(x)):\n",
    "        for j in range(len(x)):\n",
    "            sum+=x[i]*x[j]*df_covar.iloc[i,j]\n",
    "    return sum\n",
    "\n",
    "def confun_weight_sum(weight):\n",
    "    return np.sum(weight)-1\n",
    "\n",
    "def confun_return(weight):\n",
    "    return weight.dot(df_mean)-0.01\n"
   ]
  },
  {
   "cell_type": "code",
   "execution_count": 14,
   "metadata": {},
   "outputs": [],
   "source": [
    "# now use scipy.optimize to solve the problem\n",
    "# method should be 'BFGS' or 'L-BFGS-B' or 'SLSQP'\n",
    "# BFGS for completely unconstrained\n",
    "# L-BFGS-B for just upper and lower bounds on variables - these are called box constraints\n",
    "# SLSQP for general constraints\n",
    "# tol tells the solver how accurate to make the solution\n",
    "# smaller values of tol take longer to solve but are more accurate"
   ]
  },
  {
   "cell_type": "code",
   "execution_count": 21,
   "metadata": {},
   "outputs": [],
   "source": [
    "# now we create a dictionary telling the solver what type of constraint and what the function is\n",
    "# ineq means inequility, or 'eq',conf --- 2 keys\n",
    "# ineq means >\n",
    "constr1 = {'type':'eq', 'fun': confun_weight_sum}\n",
    "\n",
    "constr2 = {'type':'ineq', 'fun': confun_return}\n",
    "\n",
    "# then we put all our constraint dictionaries into a list\n",
    "constraint = [constr1,constr2]"
   ]
  },
  {
   "cell_type": "code",
   "execution_count": 22,
   "metadata": {},
   "outputs": [],
   "source": [
    "starter=list([1/df.shape[1]]*df.shape[1])\n",
    "bound=list([(0,1)]*df.shape[1])"
   ]
  },
  {
   "cell_type": "code",
   "execution_count": 23,
   "metadata": {},
   "outputs": [
    {
     "data": {
      "text/plain": [
       "array([0.00000000e+00, 5.18341627e-02, 0.00000000e+00, 4.35101728e-04,\n",
       "       2.32908066e-18, 0.00000000e+00, 1.21837601e-18, 4.87309441e-18,\n",
       "       0.00000000e+00, 5.63235233e-19, 5.03910987e-18, 0.00000000e+00,\n",
       "       1.33758865e-03, 1.17093835e-17, 0.00000000e+00, 8.54671180e-02,\n",
       "       6.67796290e-18, 2.84316603e-02, 1.71317855e-01, 0.00000000e+00,\n",
       "       2.32483453e-01, 0.00000000e+00, 6.70725156e-18, 9.66903133e-02,\n",
       "       6.52337210e-02, 0.00000000e+00, 2.66769027e-01])"
      ]
     },
     "execution_count": 23,
     "metadata": {},
     "output_type": "execute_result"
    }
   ],
   "source": [
    "total_var = minimize(sum_var,starter,constraints=constraint,bounds=bound)#,tol=1e-8)\n",
    "total_var.x"
   ]
  },
  {
   "cell_type": "code",
   "execution_count": 24,
   "metadata": {},
   "outputs": [
    {
     "data": {
      "text/plain": [
       "1.0"
      ]
     },
     "execution_count": 24,
     "metadata": {},
     "output_type": "execute_result"
    }
   ],
   "source": [
    "np.sum(total_var.x)"
   ]
  },
  {
   "cell_type": "code",
   "execution_count": 25,
   "metadata": {},
   "outputs": [
    {
     "data": {
      "text/plain": [
       "0.0008972527655963927"
      ]
     },
     "execution_count": 25,
     "metadata": {},
     "output_type": "execute_result"
    }
   ],
   "source": [
    "total_var.fun"
   ]
  },
  {
   "cell_type": "code",
   "execution_count": 26,
   "metadata": {},
   "outputs": [
    {
     "data": {
      "text/plain": [
       "0.029954177765320028"
      ]
     },
     "execution_count": 26,
     "metadata": {},
     "output_type": "execute_result"
    }
   ],
   "source": [
    "import math\n",
    "math.sqrt(total_var.fun)"
   ]
  },
  {
   "cell_type": "markdown",
   "metadata": {},
   "source": [
    "# Q3"
   ]
  },
  {
   "cell_type": "code",
   "execution_count": 153,
   "metadata": {},
   "outputs": [
    {
     "data": {
      "text/plain": [
       "4.411439407393"
      ]
     },
     "execution_count": 153,
     "metadata": {},
     "output_type": "execute_result"
    }
   ],
   "source": [
    "df1=pd.read_csv('variable_selection.csv',index_col=0)\n",
    "df2=pd.concat([df1.iloc[:,1:],df1.iloc[:,:1]],axis=1)\n",
    "df2.iloc[2,1]"
   ]
  },
  {
   "cell_type": "code",
   "execution_count": 142,
   "metadata": {},
   "outputs": [],
   "source": [
    "''''\n",
    "def sum_err_fun(beta):\n",
    "    sum_err=0\n",
    "    for i in range(df2.shape[0]):\n",
    "        sqr=(np.array(beta).dot(np.hstack(([1],df2.iloc[0,:-1])))-df2.iloc[i,-1:])**2\n",
    "        sum_err+=sqr\n",
    "    return sum_err\n",
    "\n",
    "def non_zero(beta):\n",
    "    return np.prod(beta[1:])\n",
    "''''''"
   ]
  },
  {
   "cell_type": "code",
   "execution_count": 156,
   "metadata": {},
   "outputs": [],
   "source": [
    "def sum_err_fun(beta):\n",
    "    sum_err=0\n",
    "    for i in range(df2.shape[0]):\n",
    "        sqr=(beta[0]+beta[1]*df2.iloc[i,0]+beta[2]*df2.iloc[i,1]+beta[3]*df2.iloc[i,2]-df2.iloc[i,3])**2\n",
    "        sum_err+=sqr\n",
    "    return sum_err\n",
    "\n",
    "def non_zero(beta):\n",
    "    return beta[1]*beta[2]*beta[3]"
   ]
  },
  {
   "cell_type": "code",
   "execution_count": 145,
   "metadata": {},
   "outputs": [],
   "source": [
    "# now we create a dictionary telling the solver what type of constraint and what the function is\n",
    "# ineq means inequility, or 'eq',conf --- 2 keys\n",
    "# ineq means >\n",
    "\n",
    "constr1 = {'type':'eq', 'fun': non_zero}\n",
    "\n",
    "# then we put all our constraint dictionaries into a list\n",
    "constraint = [constr1]"
   ]
  },
  {
   "cell_type": "code",
   "execution_count": 162,
   "metadata": {},
   "outputs": [],
   "source": [
    "starter=[100]*4"
   ]
  },
  {
   "cell_type": "code",
   "execution_count": 163,
   "metadata": {},
   "outputs": [
    {
     "data": {
      "text/plain": [
       "array([0.1525321 , 2.99923324, 3.96917994, 0.        ])"
      ]
     },
     "execution_count": 163,
     "metadata": {},
     "output_type": "execute_result"
    }
   ],
   "source": [
    "var_selection = minimize(sum_err_fun,starter,constraints=constraint)#,tol=1e-8)\n",
    "var_selection.x"
   ]
  },
  {
   "cell_type": "code",
   "execution_count": null,
   "metadata": {},
   "outputs": [],
   "source": []
  },
  {
   "cell_type": "markdown",
   "metadata": {},
   "source": [
    "# Q4"
   ]
  },
  {
   "cell_type": "code",
   "execution_count": 136,
   "metadata": {},
   "outputs": [],
   "source": [
    "col=['game','home','visiting','home_score','visiting_score'] \n",
    "df4=pd.read_csv('nflratings.csv',names=col, header=None)"
   ]
  },
  {
   "cell_type": "code",
   "execution_count": 193,
   "metadata": {},
   "outputs": [],
   "source": [
    "def pred_err(x):\n",
    "    sum_err=0\n",
    "    for i in range(df4.shape[0]):\n",
    "        err=(x[df4['home'][i]]+x[0]-x[df4['visiting'][i]]-(df4['home_score'][i]-df4['visiting_score'][i]))**2\n",
    "        sum_err+=err\n",
    "    return sum_err\n",
    "\n",
    "def fun_con(x):\n",
    "    return np.mean(x[1:])-85"
   ]
  },
  {
   "cell_type": "code",
   "execution_count": 194,
   "metadata": {},
   "outputs": [],
   "source": [
    "starter=np.array([90]*33+[1])\n",
    "bound=[(0,1000)]*33"
   ]
  },
  {
   "cell_type": "code",
   "execution_count": 195,
   "metadata": {},
   "outputs": [],
   "source": [
    "# now we create a dictionary telling the solver what type of constraint and what the function is\n",
    "# ineq means inequility, or 'eq',conf --- 2 keys\n",
    "# ineq means >\n",
    "\n",
    "constr1 = {'type':'eq', 'fun': fun_con}\n",
    "\n",
    "# then we put all our constraint dictionaries into a list\n",
    "constraint = [constr1]\n",
    "\n",
    "starter=np.array([90]*32+[1])\n",
    "\n",
    "nfl_score = minimize(pred_err,starter,bounds=bound,constraints=constraint)#,tol=1e-8)"
   ]
  },
  {
   "cell_type": "code",
   "execution_count": 196,
   "metadata": {},
   "outputs": [
    {
     "data": {
      "text/plain": [
       "array([ 2.17274072, 84.52232803, 89.84144619, 92.7456717 , 83.0890177 ,\n",
       "       88.75996734, 79.8120294 , 87.54400892, 76.88699524, 92.12107967,\n",
       "       85.63574456, 70.50409809, 92.25559636, 86.98429844, 90.86237313,\n",
       "       78.43980056, 76.88818762, 86.61524457, 92.06485507, 96.12272425,\n",
       "       95.6286758 , 85.09890053, 93.14844195, 75.03285018, 90.95814049,\n",
       "       86.64229973, 67.71997792, 92.60580571, 85.24190224, 74.73185218,\n",
       "       79.17109606, 82.18828301, 80.13630735])"
      ]
     },
     "execution_count": 196,
     "metadata": {},
     "output_type": "execute_result"
    }
   ],
   "source": [
    "nfl_score.x"
   ]
  },
  {
   "cell_type": "code",
   "execution_count": 217,
   "metadata": {},
   "outputs": [
    {
     "data": {
      "text/plain": [
       "[25,\n",
       " 2,\n",
       " 29,\n",
       " 21,\n",
       " 3,\n",
       " 22,\n",
       " 20,\n",
       " 9,\n",
       " 1,\n",
       " 24,\n",
       " 12,\n",
       " 7,\n",
       " 18,\n",
       " 14,\n",
       " 27,\n",
       " 19,\n",
       " 13,\n",
       " 16,\n",
       " 20,\n",
       " 19,\n",
       " 32,\n",
       " 27,\n",
       " 28,\n",
       " 18,\n",
       " 9,\n",
       " 2,\n",
       " 4,\n",
       " 25,\n",
       " 12,\n",
       " 10,\n",
       " 1,\n",
       " 14,\n",
       " 12,\n",
       " 13,\n",
       " 24,\n",
       " 27,\n",
       " 18,\n",
       " 21,\n",
       " 22,\n",
       " 32,\n",
       " 10,\n",
       " 14,\n",
       " 3,\n",
       " 7,\n",
       " 6,\n",
       " 19,\n",
       " 20,\n",
       " 9,\n",
       " 31,\n",
       " 21,\n",
       " 20,\n",
       " 19,\n",
       " 27,\n",
       " 28,\n",
       " 32,\n",
       " 13,\n",
       " 9,\n",
       " 14,\n",
       " 7,\n",
       " 6,\n",
       " 17,\n",
       " 18,\n",
       " 2,\n",
       " 5,\n",
       " 24,\n",
       " 13,\n",
       " 15,\n",
       " 25,\n",
       " 19,\n",
       " 9,\n",
       " 14,\n",
       " 3,\n",
       " 21,\n",
       " 4,\n",
       " 18,\n",
       " 22,\n",
       " 20,\n",
       " 24,\n",
       " 1,\n",
       " 5,\n",
       " 2,\n",
       " 19,\n",
       " 18,\n",
       " 32,\n",
       " 15,\n",
       " 12,\n",
       " 25,\n",
       " 7,\n",
       " 22,\n",
       " 27,\n",
       " 14,\n",
       " 9,\n",
       " 20,\n",
       " 7,\n",
       " 21,\n",
       " 27,\n",
       " 12,\n",
       " 18,\n",
       " 19,\n",
       " 5,\n",
       " 22,\n",
       " 13,\n",
       " 24,\n",
       " 22,\n",
       " 31,\n",
       " 12,\n",
       " 11,\n",
       " 3,\n",
       " 9,\n",
       " 14,\n",
       " 6,\n",
       " 5,\n",
       " 24,\n",
       " 13,\n",
       " 27,\n",
       " 20,\n",
       " 28,\n",
       " 19,\n",
       " 15,\n",
       " 12,\n",
       " 29,\n",
       " 20,\n",
       " 24,\n",
       " 14,\n",
       " 3,\n",
       " 1,\n",
       " 2,\n",
       " 27,\n",
       " 10,\n",
       " 28,\n",
       " 22,\n",
       " 23,\n",
       " 17,\n",
       " 20,\n",
       " 27,\n",
       " 18,\n",
       " 10,\n",
       " 12,\n",
       " 5,\n",
       " 31,\n",
       " 25,\n",
       " 19,\n",
       " 1,\n",
       " 3,\n",
       " 5,\n",
       " 27,\n",
       " 12,\n",
       " 25,\n",
       " 18,\n",
       " 20,\n",
       " 19,\n",
       " 9,\n",
       " 1,\n",
       " 3,\n",
       " 8,\n",
       " 7,\n",
       " 24,\n",
       " 4,\n",
       " 2,\n",
       " 13,\n",
       " 12,\n",
       " 10,\n",
       " 9,\n",
       " 3,\n",
       " 24,\n",
       " 27,\n",
       " 28,\n",
       " 29,\n",
       " 17,\n",
       " 1,\n",
       " 2,\n",
       " 22,\n",
       " 18,\n",
       " 7,\n",
       " 14,\n",
       " 20,\n",
       " 22,\n",
       " 10,\n",
       " 13,\n",
       " 19,\n",
       " 20,\n",
       " 25,\n",
       " 28,\n",
       " 9,\n",
       " 18,\n",
       " 2,\n",
       " 5,\n",
       " 6,\n",
       " 7,\n",
       " 27,\n",
       " 14,\n",
       " 12,\n",
       " 25,\n",
       " 13,\n",
       " 17,\n",
       " 24,\n",
       " 22,\n",
       " 31,\n",
       " 32,\n",
       " 3,\n",
       " 9,\n",
       " 14,\n",
       " 18,\n",
       " 12,\n",
       " 19,\n",
       " 4,\n",
       " 20,\n",
       " 28,\n",
       " 14,\n",
       " 20,\n",
       " 24,\n",
       " 17,\n",
       " 13,\n",
       " 12,\n",
       " 10,\n",
       " 30,\n",
       " 1,\n",
       " 16,\n",
       " 27,\n",
       " 3,\n",
       " 18,\n",
       " 19,\n",
       " 22,\n",
       " 21,\n",
       " 27,\n",
       " 5,\n",
       " 20,\n",
       " 19,\n",
       " 17,\n",
       " 3,\n",
       " 28,\n",
       " 24,\n",
       " 9,\n",
       " 1,\n",
       " 22,\n",
       " 8,\n",
       " 2,\n",
       " 12,\n",
       " 7,\n",
       " 18,\n",
       " 25,\n",
       " 28,\n",
       " 3,\n",
       " 31,\n",
       " 18,\n",
       " 17,\n",
       " 19,\n",
       " 10,\n",
       " 9,\n",
       " 2,\n",
       " 14,\n",
       " 20,\n",
       " 6,\n",
       " 22,\n",
       " 8,\n",
       " 12]"
      ]
     },
     "execution_count": 217,
     "metadata": {},
     "output_type": "execute_result"
    }
   ],
   "source": [
    "win=[]\n",
    "\n",
    "for i in range(df4.shape[0]):\n",
    "\n",
    "    if nfl_score.x[df4['home'][i]]+nfl_score.x[0]-nfl_score.x[df4['visiting'][i]]>0:\n",
    "        win.append(df4['home'][i])\n",
    "    else:\n",
    "        win.append(df4['visiting'][i])"
   ]
  },
  {
   "cell_type": "code",
   "execution_count": 218,
   "metadata": {},
   "outputs": [],
   "source": [
    "a = [['10', '1.2', '4.2'], ['15', '70', '0.03'], ['8', '5', '0']]\n",
    "df = pd.DataFrame(a, columns=['one', 'two', 'three'])\n",
    "\n",
    "df4['win'] = np.where((df4['home_score'] > df4['visiting_score']),df4['home'],df4['visiting'])\n",
    "df4['pred_win']=win"
   ]
  },
  {
   "cell_type": "code",
   "execution_count": 222,
   "metadata": {},
   "outputs": [
    {
     "data": {
      "text/html": [
       "<div>\n",
       "<style scoped>\n",
       "    .dataframe tbody tr th:only-of-type {\n",
       "        vertical-align: middle;\n",
       "    }\n",
       "\n",
       "    .dataframe tbody tr th {\n",
       "        vertical-align: top;\n",
       "    }\n",
       "\n",
       "    .dataframe thead th {\n",
       "        text-align: right;\n",
       "    }\n",
       "</style>\n",
       "<table border=\"1\" class=\"dataframe\">\n",
       "  <thead>\n",
       "    <tr style=\"text-align: right;\">\n",
       "      <th></th>\n",
       "      <th>game</th>\n",
       "      <th>home</th>\n",
       "      <th>visiting</th>\n",
       "      <th>home_score</th>\n",
       "      <th>visiting_score</th>\n",
       "      <th>win</th>\n",
       "      <th>pred_win</th>\n",
       "    </tr>\n",
       "  </thead>\n",
       "  <tbody>\n",
       "    <tr>\n",
       "      <th>0</th>\n",
       "      <td>1</td>\n",
       "      <td>25</td>\n",
       "      <td>31</td>\n",
       "      <td>13</td>\n",
       "      <td>10</td>\n",
       "      <td>25</td>\n",
       "      <td>25</td>\n",
       "    </tr>\n",
       "    <tr>\n",
       "      <th>1</th>\n",
       "      <td>1</td>\n",
       "      <td>2</td>\n",
       "      <td>17</td>\n",
       "      <td>19</td>\n",
       "      <td>7</td>\n",
       "      <td>2</td>\n",
       "      <td>2</td>\n",
       "    </tr>\n",
       "    <tr>\n",
       "      <th>2</th>\n",
       "      <td>1</td>\n",
       "      <td>29</td>\n",
       "      <td>26</td>\n",
       "      <td>28</td>\n",
       "      <td>0</td>\n",
       "      <td>29</td>\n",
       "      <td>29</td>\n",
       "    </tr>\n",
       "    <tr>\n",
       "      <th>3</th>\n",
       "      <td>1</td>\n",
       "      <td>21</td>\n",
       "      <td>32</td>\n",
       "      <td>23</td>\n",
       "      <td>17</td>\n",
       "      <td>21</td>\n",
       "      <td>21</td>\n",
       "    </tr>\n",
       "    <tr>\n",
       "      <th>4</th>\n",
       "      <td>1</td>\n",
       "      <td>3</td>\n",
       "      <td>16</td>\n",
       "      <td>38</td>\n",
       "      <td>24</td>\n",
       "      <td>3</td>\n",
       "      <td>3</td>\n",
       "    </tr>\n",
       "    <tr>\n",
       "      <th>...</th>\n",
       "      <td>...</td>\n",
       "      <td>...</td>\n",
       "      <td>...</td>\n",
       "      <td>...</td>\n",
       "      <td>...</td>\n",
       "      <td>...</td>\n",
       "      <td>...</td>\n",
       "    </tr>\n",
       "    <tr>\n",
       "      <th>249</th>\n",
       "      <td>17</td>\n",
       "      <td>30</td>\n",
       "      <td>2</td>\n",
       "      <td>10</td>\n",
       "      <td>20</td>\n",
       "      <td>2</td>\n",
       "      <td>2</td>\n",
       "    </tr>\n",
       "    <tr>\n",
       "      <th>252</th>\n",
       "      <td>17</td>\n",
       "      <td>11</td>\n",
       "      <td>6</td>\n",
       "      <td>23</td>\n",
       "      <td>37</td>\n",
       "      <td>6</td>\n",
       "      <td>6</td>\n",
       "    </tr>\n",
       "    <tr>\n",
       "      <th>253</th>\n",
       "      <td>17</td>\n",
       "      <td>22</td>\n",
       "      <td>6</td>\n",
       "      <td>37</td>\n",
       "      <td>0</td>\n",
       "      <td>22</td>\n",
       "      <td>22</td>\n",
       "    </tr>\n",
       "    <tr>\n",
       "      <th>254</th>\n",
       "      <td>17</td>\n",
       "      <td>8</td>\n",
       "      <td>15</td>\n",
       "      <td>23</td>\n",
       "      <td>17</td>\n",
       "      <td>8</td>\n",
       "      <td>8</td>\n",
       "    </tr>\n",
       "    <tr>\n",
       "      <th>255</th>\n",
       "      <td>17</td>\n",
       "      <td>1</td>\n",
       "      <td>12</td>\n",
       "      <td>7</td>\n",
       "      <td>33</td>\n",
       "      <td>12</td>\n",
       "      <td>12</td>\n",
       "    </tr>\n",
       "  </tbody>\n",
       "</table>\n",
       "<p>181 rows × 7 columns</p>\n",
       "</div>"
      ],
      "text/plain": [
       "     game  home  visiting  home_score  visiting_score  win  pred_win\n",
       "0       1    25        31          13              10   25        25\n",
       "1       1     2        17          19               7    2         2\n",
       "2       1    29        26          28               0   29        29\n",
       "3       1    21        32          23              17   21        21\n",
       "4       1     3        16          38              24    3         3\n",
       "..    ...   ...       ...         ...             ...  ...       ...\n",
       "249    17    30         2          10              20    2         2\n",
       "252    17    11         6          23              37    6         6\n",
       "253    17    22         6          37               0   22        22\n",
       "254    17     8        15          23              17    8         8\n",
       "255    17     1        12           7              33   12        12\n",
       "\n",
       "[181 rows x 7 columns]"
      ]
     },
     "execution_count": 222,
     "metadata": {},
     "output_type": "execute_result"
    }
   ],
   "source": [
    "df4[df4['win']==df4['pred_win']]"
   ]
  },
  {
   "cell_type": "code",
   "execution_count": null,
   "metadata": {},
   "outputs": [],
   "source": []
  },
  {
   "cell_type": "code",
   "execution_count": null,
   "metadata": {},
   "outputs": [],
   "source": []
  },
  {
   "cell_type": "code",
   "execution_count": null,
   "metadata": {},
   "outputs": [],
   "source": []
  },
  {
   "cell_type": "code",
   "execution_count": null,
   "metadata": {},
   "outputs": [],
   "source": []
  },
  {
   "cell_type": "code",
   "execution_count": null,
   "metadata": {},
   "outputs": [],
   "source": []
  },
  {
   "cell_type": "code",
   "execution_count": 17,
   "metadata": {},
   "outputs": [],
   "source": [
    "def neg_profit2(x):\n",
    "    # x[0] is price\n",
    "    # x[1] is number manufactured\n",
    "    \n",
    "    demand = 3777178*x[0]**(-2.154)\n",
    "    num_sold = min(demand,x[1])\n",
    "    revenue = num_sold*x[0]\n",
    "    cost = 50*x[1]\n",
    "    \n",
    "    profit = revenue-cost\n",
    "    return -profit"
   ]
  },
  {
   "cell_type": "code",
   "execution_count": 18,
   "metadata": {},
   "outputs": [
    {
     "name": "stdout",
     "output_type": "stream",
     "text": [
      "9000\n",
      "7875\n"
     ]
    }
   ],
   "source": [
    "print(-neg_profit2([100,180]))\n",
    "print(-neg_profit2([95,175]))"
   ]
  },
  {
   "cell_type": "code",
   "execution_count": 57,
   "metadata": {},
   "outputs": [
    {
     "name": "stdout",
     "output_type": "stream",
     "text": [
      "8244.420743900893\n",
      "[135.92503445  95.9489955 ]\n"
     ]
    }
   ],
   "source": [
    "optProfitNLP2 = minimize(neg_profit2,[5,150],method='L-BFGS-B',bounds=[(0,1000),(0,1000)])\n",
    "print(-optProfitNLP2.fun)\n",
    "print(optProfitNLP2.x)"
   ]
  },
  {
   "cell_type": "code",
   "execution_count": 49,
   "metadata": {},
   "outputs": [
    {
     "data": {
      "text/plain": [
       "9343.946309337007"
      ]
     },
     "execution_count": 49,
     "metadata": {},
     "output_type": "execute_result"
    }
   ],
   "source": [
    "-neg_profit2([optProfitNLP.x[0],3777178*optProfitNLP.x[0]**(-2.154)])"
   ]
  },
  {
   "cell_type": "code",
   "execution_count": null,
   "metadata": {},
   "outputs": [],
   "source": []
  },
  {
   "cell_type": "code",
   "execution_count": null,
   "metadata": {},
   "outputs": [],
   "source": []
  },
  {
   "cell_type": "code",
   "execution_count": null,
   "metadata": {},
   "outputs": [],
   "source": []
  }
 ],
 "metadata": {
  "kernelspec": {
   "display_name": "Python 3",
   "language": "python",
   "name": "python3"
  },
  "language_info": {
   "codemirror_mode": {
    "name": "ipython",
    "version": 3
   },
   "file_extension": ".py",
   "mimetype": "text/x-python",
   "name": "python",
   "nbconvert_exporter": "python",
   "pygments_lexer": "ipython3",
   "version": "3.8.8"
  }
 },
 "nbformat": 4,
 "nbformat_minor": 2
}
