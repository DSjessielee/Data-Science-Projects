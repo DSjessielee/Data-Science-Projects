{
 "cells": [
  {
   "cell_type": "code",
   "execution_count": 69,
   "metadata": {},
   "outputs": [
    {
     "name": "stdout",
     "output_type": "stream",
     "text": [
      "Populating the interactive namespace from numpy and matplotlib\n"
     ]
    },
    {
     "name": "stderr",
     "output_type": "stream",
     "text": [
      "C:\\ProgramData\\Anaconda3\\lib\\site-packages\\IPython\\core\\magics\\pylab.py:159: UserWarning: pylab import has clobbered these variables: ['plt']\n",
      "`%matplotlib` prevents importing * from pylab and numpy\n",
      "  warn(\"pylab import has clobbered these variables: %s\"  % clobbered +\n"
     ]
    }
   ],
   "source": [
    "import numpy as np\n",
    "import pandas as pd\n",
    "import matplotlib as plt\n",
    "%pylab inline"
   ]
  },
  {
   "cell_type": "code",
   "execution_count": null,
   "metadata": {},
   "outputs": [],
   "source": []
  },
  {
   "cell_type": "markdown",
   "metadata": {},
   "source": [
    "# Qustion 1"
   ]
  },
  {
   "cell_type": "code",
   "execution_count": 5,
   "metadata": {},
   "outputs": [
    {
     "data": {
      "text/plain": [
       "'\\nlet x1,x2,x3,x4 be the loan amount for \\n\\nFirst mortgage\\nSecond mortgage\\nHome improvement\\nPersonal overdraft\\n\\nrespectively\\n'"
      ]
     },
     "execution_count": 5,
     "metadata": {},
     "output_type": "execute_result"
    }
   ],
   "source": [
    "'''\n",
    "let x1,x2,x3,x4 be the loan amount for \n",
    "\n",
    "First mortgage\n",
    "Second mortgage\n",
    "Home improvement\n",
    "Personal overdraft\n",
    "\n",
    "respectively\n",
    "'''"
   ]
  },
  {
   "cell_type": "code",
   "execution_count": 6,
   "metadata": {},
   "outputs": [
    {
     "data": {
      "text/plain": [
       "array([[ 1.  ,  1.  ,  1.  ,  1.  ],\n",
       "       [ 0.45, -0.55,  0.  ,  0.  ],\n",
       "       [ 0.  ,  1.  ,  0.  ,  0.  ],\n",
       "       [ 0.14,  0.2 ,  0.2 ,  0.1 ]])"
      ]
     },
     "execution_count": 6,
     "metadata": {},
     "output_type": "execute_result"
    }
   ],
   "source": [
    "A=np.zeros((4,4))\n",
    "A[0,:] = [1,1,1,1]\n",
    "A[1,:] = [0.45,-0.55,0,0]\n",
    "A[2,:] = [0,1,0,0]\n",
    "A[3,:] = [0.14,0.2,0.2,0.1]\n",
    "A"
   ]
  },
  {
   "cell_type": "code",
   "execution_count": null,
   "metadata": {},
   "outputs": [],
   "source": [
    "pd.DataFrame"
   ]
  },
  {
   "cell_type": "code",
   "execution_count": 7,
   "metadata": {},
   "outputs": [
    {
     "data": {
      "text/plain": [
       "array([1.  , 0.  , 0.25, 0.15])"
      ]
     },
     "execution_count": 7,
     "metadata": {},
     "output_type": "execute_result"
    }
   ],
   "source": [
    "b=np.array([1,0,0.25,0.15])\n",
    "b"
   ]
  },
  {
   "cell_type": "code",
   "execution_count": 8,
   "metadata": {},
   "outputs": [
    {
     "data": {
      "text/plain": [
       "array([76.39, 62.5 , 31.94, 79.17])"
      ]
     },
     "execution_count": 8,
     "metadata": {},
     "output_type": "execute_result"
    }
   ],
   "source": [
    "interest_frac=np.linalg.solve(A,b)\n",
    "interest_amt=np.round(250*interest_frac,2)\n",
    "interest_amt"
   ]
  },
  {
   "cell_type": "code",
   "execution_count": 14,
   "metadata": {},
   "outputs": [
    {
     "data": {
      "text/html": [
       "<div>\n",
       "<style scoped>\n",
       "    .dataframe tbody tr th:only-of-type {\n",
       "        vertical-align: middle;\n",
       "    }\n",
       "\n",
       "    .dataframe tbody tr th {\n",
       "        vertical-align: top;\n",
       "    }\n",
       "\n",
       "    .dataframe thead th {\n",
       "        text-align: right;\n",
       "    }\n",
       "</style>\n",
       "<table border=\"1\" class=\"dataframe\">\n",
       "  <thead>\n",
       "    <tr style=\"text-align: right;\">\n",
       "      <th></th>\n",
       "      <th>Total amount</th>\n",
       "    </tr>\n",
       "  </thead>\n",
       "  <tbody>\n",
       "    <tr>\n",
       "      <th>First mortgage</th>\n",
       "      <td>76.39</td>\n",
       "    </tr>\n",
       "    <tr>\n",
       "      <th>Second mortgage</th>\n",
       "      <td>62.50</td>\n",
       "    </tr>\n",
       "    <tr>\n",
       "      <th>Home improvement</th>\n",
       "      <td>31.94</td>\n",
       "    </tr>\n",
       "    <tr>\n",
       "      <th>Personal overdraft</th>\n",
       "      <td>79.17</td>\n",
       "    </tr>\n",
       "  </tbody>\n",
       "</table>\n",
       "</div>"
      ],
      "text/plain": [
       "                    Total amount\n",
       "First mortgage             76.39\n",
       "Second mortgage            62.50\n",
       "Home improvement           31.94\n",
       "Personal overdraft         79.17"
      ]
     },
     "execution_count": 14,
     "metadata": {},
     "output_type": "execute_result"
    }
   ],
   "source": [
    "interest_tab=pd.DataFrame(interest_amt)\n",
    "interest_tab.columns=['Total amount']\n",
    "interest_tab.index=['First mortgage','Second mortgage','Home improvement','Personal overdraft']\n",
    "interest_tab"
   ]
  },
  {
   "cell_type": "markdown",
   "metadata": {},
   "source": [
    "# Question 2"
   ]
  },
  {
   "cell_type": "markdown",
   "metadata": {},
   "source": [
    "Rankings are ubiquitous. You may have heard of Google’s PageRank and IMDB movie ratings. The backbone of these systems is Linear Algebra. We want to give you to taste of building your own ranking system to rank sports teams.\n",
    "\n",
    "In a football league one is interested in modeling the ratings of teams based on the margin of victory and not just the outcomes, win/loss/draw. Consider the following data for five teams playing in such a league"
   ]
  },
  {
   "cell_type": "code",
   "execution_count": 5,
   "metadata": {},
   "outputs": [],
   "source": [
    "import numpy as np"
   ]
  },
  {
   "cell_type": "code",
   "execution_count": 16,
   "metadata": {},
   "outputs": [
    {
     "data": {
      "text/plain": [
       "array([[ 1., -1.,  0.,  0.,  0.],\n",
       "       [ 1.,  0., -1.,  0.,  0.],\n",
       "       [ 1.,  0.,  0., -1.,  0.],\n",
       "       [ 1.,  0.,  0.,  0., -1.],\n",
       "       [ 0.,  1., -1.,  0.,  0.],\n",
       "       [ 0.,  1.,  0., -1.,  0.],\n",
       "       [ 0.,  1.,  0.,  0., -1.],\n",
       "       [ 0.,  0.,  1., -1.,  0.],\n",
       "       [ 0.,  0.,  1.,  0., -1.],\n",
       "       [ 0.,  0.,  0.,  1., -1.]])"
      ]
     },
     "execution_count": 16,
     "metadata": {},
     "output_type": "execute_result"
    }
   ],
   "source": [
    "M=np.zeros((10,5))\n",
    "row = 0\n",
    "for i in range(5):\n",
    "    for j in range (i+1, 5):\n",
    "        M[row, i] = 1\n",
    "        M[row, j] = -1\n",
    "        row = row + 1\n",
    "        \n",
    "M\n",
    "        "
   ]
  },
  {
   "cell_type": "code",
   "execution_count": 17,
   "metadata": {},
   "outputs": [
    {
     "data": {
      "text/plain": [
       "array([ 35., 138.,  50.,  99., 134.])"
      ]
     },
     "execution_count": 17,
     "metadata": {},
     "output_type": "execute_result"
    }
   ],
   "source": [
    "#Team score matrix\n",
    "\n",
    "team_score=np.zeros((5,5))\n",
    "team_score[0,:] = [0,7,21,7,0]\n",
    "team_score[1,:] = [52,0,34,25,27]\n",
    "team_score[2,:] = [24,16,0,7,3]\n",
    "team_score[3,:] = [38,17,30,0,14]\n",
    "team_score[4,:] = [45,7,30,52,0]\n",
    "s=team_score.sum(axis=1)\n",
    "s"
   ]
  },
  {
   "cell_type": "code",
   "execution_count": 19,
   "metadata": {},
   "outputs": [
    {
     "data": {
      "text/plain": [
       "array([[ 0., 52., 24., 38., 45.],\n",
       "       [ 7.,  0., 16., 17.,  7.],\n",
       "       [21., 34.,  0., 30., 30.],\n",
       "       [ 7., 25.,  7.,  0., 52.],\n",
       "       [ 0., 27.,  3., 14.,  0.]])"
      ]
     },
     "execution_count": 19,
     "metadata": {},
     "output_type": "execute_result"
    }
   ],
   "source": [
    "#Team opponent score matrix\n",
    "\n",
    "team_o_score=np.zeros((5,5))\n",
    "\n",
    "for i in range(5):\n",
    "    for j in range(5):\n",
    "        team_o_score[i,j] = team_score[j,i]\n",
    "\n",
    "team_o_score"
   ]
  },
  {
   "cell_type": "code",
   "execution_count": 39,
   "metadata": {},
   "outputs": [
    {
     "data": {
      "text/plain": [
       "array([[-45.],\n",
       "       [ -3.],\n",
       "       [-31.],\n",
       "       [-45.],\n",
       "       [ 18.],\n",
       "       [  8.],\n",
       "       [ 20.],\n",
       "       [-23.],\n",
       "       [-27.],\n",
       "       [-38.]])"
      ]
     },
     "execution_count": 39,
     "metadata": {},
     "output_type": "execute_result"
    }
   ],
   "source": [
    "#Difference in score\n",
    "\n",
    "S=team_score-team_o_score\n",
    "\n",
    "\n",
    "X=np.zeros((10,5))\n",
    "y=np.zeros((10,1))\n",
    "row = 0\n",
    "for i in range(5):\n",
    "    for j in range (i+1, 5):\n",
    "        X[row, i] = 1\n",
    "        X[row, j] = -1\n",
    "        y[row:] = S[i, j]\n",
    "        row = row + 1\n",
    "        \n",
    "y"
   ]
  },
  {
   "cell_type": "code",
   "execution_count": 40,
   "metadata": {},
   "outputs": [
    {
     "data": {
      "text/plain": [
       "array([[ 4., -1., -1., -1., -1.],\n",
       "       [-1.,  4., -1., -1., -1.],\n",
       "       [-1., -1.,  4., -1., -1.],\n",
       "       [-1., -1., -1.,  4., -1.],\n",
       "       [-1., -1., -1., -1.,  4.]])"
      ]
     },
     "execution_count": 40,
     "metadata": {},
     "output_type": "execute_result"
    }
   ],
   "source": [
    "M=X.T@X\n",
    "M"
   ]
  },
  {
   "cell_type": "code",
   "execution_count": 41,
   "metadata": {},
   "outputs": [],
   "source": [
    "y=X.T@y"
   ]
  },
  {
   "cell_type": "code",
   "execution_count": 42,
   "metadata": {},
   "outputs": [
    {
     "data": {
      "text/plain": [
       "array([[ 4., -1., -1., -1., -1.],\n",
       "       [-1.,  4., -1., -1., -1.],\n",
       "       [-1., -1.,  4., -1., -1.],\n",
       "       [-1., -1., -1.,  4., -1.],\n",
       "       [ 1.,  1.,  1.,  1.,  1.]])"
      ]
     },
     "execution_count": 42,
     "metadata": {},
     "output_type": "execute_result"
    }
   ],
   "source": [
    "for i in range(5):\n",
    "    M[4,i]=1\n",
    "M"
   ]
  },
  {
   "cell_type": "code",
   "execution_count": 36,
   "metadata": {},
   "outputs": [
    {
     "data": {
      "text/plain": [
       "array([[-124.],\n",
       "       [  73.],\n",
       "       [ -47.],\n",
       "       [   8.],\n",
       "       [   0.]])"
      ]
     },
     "execution_count": 36,
     "metadata": {},
     "output_type": "execute_result"
    }
   ],
   "source": [
    "y[4,]=0\n",
    "y"
   ]
  },
  {
   "cell_type": "code",
   "execution_count": 43,
   "metadata": {},
   "outputs": [],
   "source": [
    "r=np.linalg.inv(M)@y"
   ]
  },
  {
   "cell_type": "code",
   "execution_count": 44,
   "metadata": {},
   "outputs": [
    {
     "data": {
      "text/plain": [
       "array([[-6.8],\n",
       "       [36.2],\n",
       "       [ 5. ],\n",
       "       [19.6],\n",
       "       [36. ]])"
      ]
     },
     "execution_count": 44,
     "metadata": {},
     "output_type": "execute_result"
    }
   ],
   "source": [
    "r"
   ]
  },
  {
   "cell_type": "code",
   "execution_count": 72,
   "metadata": {},
   "outputs": [
    {
     "data": {
      "text/plain": [
       "<AxesSubplot:>"
      ]
     },
     "execution_count": 72,
     "metadata": {},
     "output_type": "execute_result"
    },
    {
     "data": {
      "image/png": "[encoded data removed]",
      "text/plain": [
       "<Figure size 432x288 with 1 Axes>"
      ]
     },
     "metadata": {
      "needs_background": "light"
     },
     "output_type": "display_data"
    }
   ],
   "source": [
    "team_rate=pd.DataFrame(r)\n",
    "team_rate.index=['team1','team2','team3','tea4','team5']\n",
    "\n",
    "team_rate.columns=['rating']\n",
    "team_rate['rating'].sort_values(ascending=False).plot(kind='bar')"
   ]
  },
  {
   "cell_type": "markdown",
   "metadata": {},
   "source": [
    "# Question3"
   ]
  },
  {
   "cell_type": "code",
   "execution_count": 52,
   "metadata": {},
   "outputs": [
    {
     "data": {
      "text/plain": [
       "array([[1.        , 0.5       , 0.33333333, 0.25      ],\n",
       "       [0.5       , 1.        , 0.66666667, 0.5       ],\n",
       "       [0.33333333, 0.66666667, 1.        , 0.75      ],\n",
       "       [0.25      , 0.5       , 0.75      , 1.        ]])"
      ]
     },
     "execution_count": 52,
     "metadata": {},
     "output_type": "execute_result"
    }
   ],
   "source": [
    "A=np.zeros((4,4))\n",
    "\n",
    "for i in range(4):\n",
    "    for j in range(4):\n",
    "        if j>i:\n",
    "            A[i,j]=(i+1)/(j+1)\n",
    "        else:\n",
    "            A[i,j]=(j+1)/(i+1)\n",
    "            \n",
    "A"
   ]
  },
  {
   "cell_type": "code",
   "execution_count": 56,
   "metadata": {},
   "outputs": [
    {
     "data": {
      "text/html": [
       "<div>\n",
       "<style scoped>\n",
       "    .dataframe tbody tr th:only-of-type {\n",
       "        vertical-align: middle;\n",
       "    }\n",
       "\n",
       "    .dataframe tbody tr th {\n",
       "        vertical-align: top;\n",
       "    }\n",
       "\n",
       "    .dataframe thead th {\n",
       "        text-align: right;\n",
       "    }\n",
       "</style>\n",
       "<table border=\"1\" class=\"dataframe\">\n",
       "  <thead>\n",
       "    <tr style=\"text-align: right;\">\n",
       "      <th></th>\n",
       "      <th>0</th>\n",
       "      <th>1</th>\n",
       "      <th>2</th>\n",
       "      <th>3</th>\n",
       "      <th>4</th>\n",
       "      <th>5</th>\n",
       "      <th>6</th>\n",
       "      <th>7</th>\n",
       "      <th>8</th>\n",
       "      <th>9</th>\n",
       "      <th>10</th>\n",
       "      <th>11</th>\n",
       "      <th>12</th>\n",
       "      <th>13</th>\n",
       "      <th>14</th>\n",
       "      <th>15</th>\n",
       "      <th>16</th>\n",
       "      <th>17</th>\n",
       "      <th>18</th>\n",
       "      <th>19</th>\n",
       "    </tr>\n",
       "  </thead>\n",
       "  <tbody>\n",
       "    <tr>\n",
       "      <th>0</th>\n",
       "      <td>1.000000</td>\n",
       "      <td>0.500000</td>\n",
       "      <td>0.333333</td>\n",
       "      <td>0.250000</td>\n",
       "      <td>0.200000</td>\n",
       "      <td>0.166667</td>\n",
       "      <td>0.142857</td>\n",
       "      <td>0.125000</td>\n",
       "      <td>0.111111</td>\n",
       "      <td>0.100000</td>\n",
       "      <td>0.090909</td>\n",
       "      <td>0.083333</td>\n",
       "      <td>0.076923</td>\n",
       "      <td>0.071429</td>\n",
       "      <td>0.066667</td>\n",
       "      <td>0.062500</td>\n",
       "      <td>0.058824</td>\n",
       "      <td>0.055556</td>\n",
       "      <td>0.052632</td>\n",
       "      <td>0.05</td>\n",
       "    </tr>\n",
       "    <tr>\n",
       "      <th>1</th>\n",
       "      <td>0.500000</td>\n",
       "      <td>1.000000</td>\n",
       "      <td>0.666667</td>\n",
       "      <td>0.500000</td>\n",
       "      <td>0.400000</td>\n",
       "      <td>0.333333</td>\n",
       "      <td>0.285714</td>\n",
       "      <td>0.250000</td>\n",
       "      <td>0.222222</td>\n",
       "      <td>0.200000</td>\n",
       "      <td>0.181818</td>\n",
       "      <td>0.166667</td>\n",
       "      <td>0.153846</td>\n",
       "      <td>0.142857</td>\n",
       "      <td>0.133333</td>\n",
       "      <td>0.125000</td>\n",
       "      <td>0.117647</td>\n",
       "      <td>0.111111</td>\n",
       "      <td>0.105263</td>\n",
       "      <td>0.10</td>\n",
       "    </tr>\n",
       "    <tr>\n",
       "      <th>2</th>\n",
       "      <td>0.333333</td>\n",
       "      <td>0.666667</td>\n",
       "      <td>1.000000</td>\n",
       "      <td>0.750000</td>\n",
       "      <td>0.600000</td>\n",
       "      <td>0.500000</td>\n",
       "      <td>0.428571</td>\n",
       "      <td>0.375000</td>\n",
       "      <td>0.333333</td>\n",
       "      <td>0.300000</td>\n",
       "      <td>0.272727</td>\n",
       "      <td>0.250000</td>\n",
       "      <td>0.230769</td>\n",
       "      <td>0.214286</td>\n",
       "      <td>0.200000</td>\n",
       "      <td>0.187500</td>\n",
       "      <td>0.176471</td>\n",
       "      <td>0.166667</td>\n",
       "      <td>0.157895</td>\n",
       "      <td>0.15</td>\n",
       "    </tr>\n",
       "    <tr>\n",
       "      <th>3</th>\n",
       "      <td>0.250000</td>\n",
       "      <td>0.500000</td>\n",
       "      <td>0.750000</td>\n",
       "      <td>1.000000</td>\n",
       "      <td>0.800000</td>\n",
       "      <td>0.666667</td>\n",
       "      <td>0.571429</td>\n",
       "      <td>0.500000</td>\n",
       "      <td>0.444444</td>\n",
       "      <td>0.400000</td>\n",
       "      <td>0.363636</td>\n",
       "      <td>0.333333</td>\n",
       "      <td>0.307692</td>\n",
       "      <td>0.285714</td>\n",
       "      <td>0.266667</td>\n",
       "      <td>0.250000</td>\n",
       "      <td>0.235294</td>\n",
       "      <td>0.222222</td>\n",
       "      <td>0.210526</td>\n",
       "      <td>0.20</td>\n",
       "    </tr>\n",
       "    <tr>\n",
       "      <th>4</th>\n",
       "      <td>0.200000</td>\n",
       "      <td>0.400000</td>\n",
       "      <td>0.600000</td>\n",
       "      <td>0.800000</td>\n",
       "      <td>1.000000</td>\n",
       "      <td>0.833333</td>\n",
       "      <td>0.714286</td>\n",
       "      <td>0.625000</td>\n",
       "      <td>0.555556</td>\n",
       "      <td>0.500000</td>\n",
       "      <td>0.454545</td>\n",
       "      <td>0.416667</td>\n",
       "      <td>0.384615</td>\n",
       "      <td>0.357143</td>\n",
       "      <td>0.333333</td>\n",
       "      <td>0.312500</td>\n",
       "      <td>0.294118</td>\n",
       "      <td>0.277778</td>\n",
       "      <td>0.263158</td>\n",
       "      <td>0.25</td>\n",
       "    </tr>\n",
       "    <tr>\n",
       "      <th>5</th>\n",
       "      <td>0.166667</td>\n",
       "      <td>0.333333</td>\n",
       "      <td>0.500000</td>\n",
       "      <td>0.666667</td>\n",
       "      <td>0.833333</td>\n",
       "      <td>1.000000</td>\n",
       "      <td>0.857143</td>\n",
       "      <td>0.750000</td>\n",
       "      <td>0.666667</td>\n",
       "      <td>0.600000</td>\n",
       "      <td>0.545455</td>\n",
       "      <td>0.500000</td>\n",
       "      <td>0.461538</td>\n",
       "      <td>0.428571</td>\n",
       "      <td>0.400000</td>\n",
       "      <td>0.375000</td>\n",
       "      <td>0.352941</td>\n",
       "      <td>0.333333</td>\n",
       "      <td>0.315789</td>\n",
       "      <td>0.30</td>\n",
       "    </tr>\n",
       "    <tr>\n",
       "      <th>6</th>\n",
       "      <td>0.142857</td>\n",
       "      <td>0.285714</td>\n",
       "      <td>0.428571</td>\n",
       "      <td>0.571429</td>\n",
       "      <td>0.714286</td>\n",
       "      <td>0.857143</td>\n",
       "      <td>1.000000</td>\n",
       "      <td>0.875000</td>\n",
       "      <td>0.777778</td>\n",
       "      <td>0.700000</td>\n",
       "      <td>0.636364</td>\n",
       "      <td>0.583333</td>\n",
       "      <td>0.538462</td>\n",
       "      <td>0.500000</td>\n",
       "      <td>0.466667</td>\n",
       "      <td>0.437500</td>\n",
       "      <td>0.411765</td>\n",
       "      <td>0.388889</td>\n",
       "      <td>0.368421</td>\n",
       "      <td>0.35</td>\n",
       "    </tr>\n",
       "    <tr>\n",
       "      <th>7</th>\n",
       "      <td>0.125000</td>\n",
       "      <td>0.250000</td>\n",
       "      <td>0.375000</td>\n",
       "      <td>0.500000</td>\n",
       "      <td>0.625000</td>\n",
       "      <td>0.750000</td>\n",
       "      <td>0.875000</td>\n",
       "      <td>1.000000</td>\n",
       "      <td>0.888889</td>\n",
       "      <td>0.800000</td>\n",
       "      <td>0.727273</td>\n",
       "      <td>0.666667</td>\n",
       "      <td>0.615385</td>\n",
       "      <td>0.571429</td>\n",
       "      <td>0.533333</td>\n",
       "      <td>0.500000</td>\n",
       "      <td>0.470588</td>\n",
       "      <td>0.444444</td>\n",
       "      <td>0.421053</td>\n",
       "      <td>0.40</td>\n",
       "    </tr>\n",
       "    <tr>\n",
       "      <th>8</th>\n",
       "      <td>0.111111</td>\n",
       "      <td>0.222222</td>\n",
       "      <td>0.333333</td>\n",
       "      <td>0.444444</td>\n",
       "      <td>0.555556</td>\n",
       "      <td>0.666667</td>\n",
       "      <td>0.777778</td>\n",
       "      <td>0.888889</td>\n",
       "      <td>1.000000</td>\n",
       "      <td>0.900000</td>\n",
       "      <td>0.818182</td>\n",
       "      <td>0.750000</td>\n",
       "      <td>0.692308</td>\n",
       "      <td>0.642857</td>\n",
       "      <td>0.600000</td>\n",
       "      <td>0.562500</td>\n",
       "      <td>0.529412</td>\n",
       "      <td>0.500000</td>\n",
       "      <td>0.473684</td>\n",
       "      <td>0.45</td>\n",
       "    </tr>\n",
       "    <tr>\n",
       "      <th>9</th>\n",
       "      <td>0.100000</td>\n",
       "      <td>0.200000</td>\n",
       "      <td>0.300000</td>\n",
       "      <td>0.400000</td>\n",
       "      <td>0.500000</td>\n",
       "      <td>0.600000</td>\n",
       "      <td>0.700000</td>\n",
       "      <td>0.800000</td>\n",
       "      <td>0.900000</td>\n",
       "      <td>1.000000</td>\n",
       "      <td>0.909091</td>\n",
       "      <td>0.833333</td>\n",
       "      <td>0.769231</td>\n",
       "      <td>0.714286</td>\n",
       "      <td>0.666667</td>\n",
       "      <td>0.625000</td>\n",
       "      <td>0.588235</td>\n",
       "      <td>0.555556</td>\n",
       "      <td>0.526316</td>\n",
       "      <td>0.50</td>\n",
       "    </tr>\n",
       "    <tr>\n",
       "      <th>10</th>\n",
       "      <td>0.090909</td>\n",
       "      <td>0.181818</td>\n",
       "      <td>0.272727</td>\n",
       "      <td>0.363636</td>\n",
       "      <td>0.454545</td>\n",
       "      <td>0.545455</td>\n",
       "      <td>0.636364</td>\n",
       "      <td>0.727273</td>\n",
       "      <td>0.818182</td>\n",
       "      <td>0.909091</td>\n",
       "      <td>1.000000</td>\n",
       "      <td>0.916667</td>\n",
       "      <td>0.846154</td>\n",
       "      <td>0.785714</td>\n",
       "      <td>0.733333</td>\n",
       "      <td>0.687500</td>\n",
       "      <td>0.647059</td>\n",
       "      <td>0.611111</td>\n",
       "      <td>0.578947</td>\n",
       "      <td>0.55</td>\n",
       "    </tr>\n",
       "    <tr>\n",
       "      <th>11</th>\n",
       "      <td>0.083333</td>\n",
       "      <td>0.166667</td>\n",
       "      <td>0.250000</td>\n",
       "      <td>0.333333</td>\n",
       "      <td>0.416667</td>\n",
       "      <td>0.500000</td>\n",
       "      <td>0.583333</td>\n",
       "      <td>0.666667</td>\n",
       "      <td>0.750000</td>\n",
       "      <td>0.833333</td>\n",
       "      <td>0.916667</td>\n",
       "      <td>1.000000</td>\n",
       "      <td>0.923077</td>\n",
       "      <td>0.857143</td>\n",
       "      <td>0.800000</td>\n",
       "      <td>0.750000</td>\n",
       "      <td>0.705882</td>\n",
       "      <td>0.666667</td>\n",
       "      <td>0.631579</td>\n",
       "      <td>0.60</td>\n",
       "    </tr>\n",
       "    <tr>\n",
       "      <th>12</th>\n",
       "      <td>0.076923</td>\n",
       "      <td>0.153846</td>\n",
       "      <td>0.230769</td>\n",
       "      <td>0.307692</td>\n",
       "      <td>0.384615</td>\n",
       "      <td>0.461538</td>\n",
       "      <td>0.538462</td>\n",
       "      <td>0.615385</td>\n",
       "      <td>0.692308</td>\n",
       "      <td>0.769231</td>\n",
       "      <td>0.846154</td>\n",
       "      <td>0.923077</td>\n",
       "      <td>1.000000</td>\n",
       "      <td>0.928571</td>\n",
       "      <td>0.866667</td>\n",
       "      <td>0.812500</td>\n",
       "      <td>0.764706</td>\n",
       "      <td>0.722222</td>\n",
       "      <td>0.684211</td>\n",
       "      <td>0.65</td>\n",
       "    </tr>\n",
       "    <tr>\n",
       "      <th>13</th>\n",
       "      <td>0.071429</td>\n",
       "      <td>0.142857</td>\n",
       "      <td>0.214286</td>\n",
       "      <td>0.285714</td>\n",
       "      <td>0.357143</td>\n",
       "      <td>0.428571</td>\n",
       "      <td>0.500000</td>\n",
       "      <td>0.571429</td>\n",
       "      <td>0.642857</td>\n",
       "      <td>0.714286</td>\n",
       "      <td>0.785714</td>\n",
       "      <td>0.857143</td>\n",
       "      <td>0.928571</td>\n",
       "      <td>1.000000</td>\n",
       "      <td>0.933333</td>\n",
       "      <td>0.875000</td>\n",
       "      <td>0.823529</td>\n",
       "      <td>0.777778</td>\n",
       "      <td>0.736842</td>\n",
       "      <td>0.70</td>\n",
       "    </tr>\n",
       "    <tr>\n",
       "      <th>14</th>\n",
       "      <td>0.066667</td>\n",
       "      <td>0.133333</td>\n",
       "      <td>0.200000</td>\n",
       "      <td>0.266667</td>\n",
       "      <td>0.333333</td>\n",
       "      <td>0.400000</td>\n",
       "      <td>0.466667</td>\n",
       "      <td>0.533333</td>\n",
       "      <td>0.600000</td>\n",
       "      <td>0.666667</td>\n",
       "      <td>0.733333</td>\n",
       "      <td>0.800000</td>\n",
       "      <td>0.866667</td>\n",
       "      <td>0.933333</td>\n",
       "      <td>1.000000</td>\n",
       "      <td>0.937500</td>\n",
       "      <td>0.882353</td>\n",
       "      <td>0.833333</td>\n",
       "      <td>0.789474</td>\n",
       "      <td>0.75</td>\n",
       "    </tr>\n",
       "    <tr>\n",
       "      <th>15</th>\n",
       "      <td>0.062500</td>\n",
       "      <td>0.125000</td>\n",
       "      <td>0.187500</td>\n",
       "      <td>0.250000</td>\n",
       "      <td>0.312500</td>\n",
       "      <td>0.375000</td>\n",
       "      <td>0.437500</td>\n",
       "      <td>0.500000</td>\n",
       "      <td>0.562500</td>\n",
       "      <td>0.625000</td>\n",
       "      <td>0.687500</td>\n",
       "      <td>0.750000</td>\n",
       "      <td>0.812500</td>\n",
       "      <td>0.875000</td>\n",
       "      <td>0.937500</td>\n",
       "      <td>1.000000</td>\n",
       "      <td>0.941176</td>\n",
       "      <td>0.888889</td>\n",
       "      <td>0.842105</td>\n",
       "      <td>0.80</td>\n",
       "    </tr>\n",
       "    <tr>\n",
       "      <th>16</th>\n",
       "      <td>0.058824</td>\n",
       "      <td>0.117647</td>\n",
       "      <td>0.176471</td>\n",
       "      <td>0.235294</td>\n",
       "      <td>0.294118</td>\n",
       "      <td>0.352941</td>\n",
       "      <td>0.411765</td>\n",
       "      <td>0.470588</td>\n",
       "      <td>0.529412</td>\n",
       "      <td>0.588235</td>\n",
       "      <td>0.647059</td>\n",
       "      <td>0.705882</td>\n",
       "      <td>0.764706</td>\n",
       "      <td>0.823529</td>\n",
       "      <td>0.882353</td>\n",
       "      <td>0.941176</td>\n",
       "      <td>1.000000</td>\n",
       "      <td>0.944444</td>\n",
       "      <td>0.894737</td>\n",
       "      <td>0.85</td>\n",
       "    </tr>\n",
       "    <tr>\n",
       "      <th>17</th>\n",
       "      <td>0.055556</td>\n",
       "      <td>0.111111</td>\n",
       "      <td>0.166667</td>\n",
       "      <td>0.222222</td>\n",
       "      <td>0.277778</td>\n",
       "      <td>0.333333</td>\n",
       "      <td>0.388889</td>\n",
       "      <td>0.444444</td>\n",
       "      <td>0.500000</td>\n",
       "      <td>0.555556</td>\n",
       "      <td>0.611111</td>\n",
       "      <td>0.666667</td>\n",
       "      <td>0.722222</td>\n",
       "      <td>0.777778</td>\n",
       "      <td>0.833333</td>\n",
       "      <td>0.888889</td>\n",
       "      <td>0.944444</td>\n",
       "      <td>1.000000</td>\n",
       "      <td>0.947368</td>\n",
       "      <td>0.90</td>\n",
       "    </tr>\n",
       "    <tr>\n",
       "      <th>18</th>\n",
       "      <td>0.052632</td>\n",
       "      <td>0.105263</td>\n",
       "      <td>0.157895</td>\n",
       "      <td>0.210526</td>\n",
       "      <td>0.263158</td>\n",
       "      <td>0.315789</td>\n",
       "      <td>0.368421</td>\n",
       "      <td>0.421053</td>\n",
       "      <td>0.473684</td>\n",
       "      <td>0.526316</td>\n",
       "      <td>0.578947</td>\n",
       "      <td>0.631579</td>\n",
       "      <td>0.684211</td>\n",
       "      <td>0.736842</td>\n",
       "      <td>0.789474</td>\n",
       "      <td>0.842105</td>\n",
       "      <td>0.894737</td>\n",
       "      <td>0.947368</td>\n",
       "      <td>1.000000</td>\n",
       "      <td>0.95</td>\n",
       "    </tr>\n",
       "    <tr>\n",
       "      <th>19</th>\n",
       "      <td>0.050000</td>\n",
       "      <td>0.100000</td>\n",
       "      <td>0.150000</td>\n",
       "      <td>0.200000</td>\n",
       "      <td>0.250000</td>\n",
       "      <td>0.300000</td>\n",
       "      <td>0.350000</td>\n",
       "      <td>0.400000</td>\n",
       "      <td>0.450000</td>\n",
       "      <td>0.500000</td>\n",
       "      <td>0.550000</td>\n",
       "      <td>0.600000</td>\n",
       "      <td>0.650000</td>\n",
       "      <td>0.700000</td>\n",
       "      <td>0.750000</td>\n",
       "      <td>0.800000</td>\n",
       "      <td>0.850000</td>\n",
       "      <td>0.900000</td>\n",
       "      <td>0.950000</td>\n",
       "      <td>1.00</td>\n",
       "    </tr>\n",
       "  </tbody>\n",
       "</table>\n",
       "</div>"
      ],
      "text/plain": [
       "          0         1         2         3         4         5         6   \\\n",
       "0   1.000000  0.500000  0.333333  0.250000  0.200000  0.166667  0.142857   \n",
       "1   0.500000  1.000000  0.666667  0.500000  0.400000  0.333333  0.285714   \n",
       "2   0.333333  0.666667  1.000000  0.750000  0.600000  0.500000  0.428571   \n",
       "3   0.250000  0.500000  0.750000  1.000000  0.800000  0.666667  0.571429   \n",
       "4   0.200000  0.400000  0.600000  0.800000  1.000000  0.833333  0.714286   \n",
       "5   0.166667  0.333333  0.500000  0.666667  0.833333  1.000000  0.857143   \n",
       "6   0.142857  0.285714  0.428571  0.571429  0.714286  0.857143  1.000000   \n",
       "7   0.125000  0.250000  0.375000  0.500000  0.625000  0.750000  0.875000   \n",
       "8   0.111111  0.222222  0.333333  0.444444  0.555556  0.666667  0.777778   \n",
       "9   0.100000  0.200000  0.300000  0.400000  0.500000  0.600000  0.700000   \n",
       "10  0.090909  0.181818  0.272727  0.363636  0.454545  0.545455  0.636364   \n",
       "11  0.083333  0.166667  0.250000  0.333333  0.416667  0.500000  0.583333   \n",
       "12  0.076923  0.153846  0.230769  0.307692  0.384615  0.461538  0.538462   \n",
       "13  0.071429  0.142857  0.214286  0.285714  0.357143  0.428571  0.500000   \n",
       "14  0.066667  0.133333  0.200000  0.266667  0.333333  0.400000  0.466667   \n",
       "15  0.062500  0.125000  0.187500  0.250000  0.312500  0.375000  0.437500   \n",
       "16  0.058824  0.117647  0.176471  0.235294  0.294118  0.352941  0.411765   \n",
       "17  0.055556  0.111111  0.166667  0.222222  0.277778  0.333333  0.388889   \n",
       "18  0.052632  0.105263  0.157895  0.210526  0.263158  0.315789  0.368421   \n",
       "19  0.050000  0.100000  0.150000  0.200000  0.250000  0.300000  0.350000   \n",
       "\n",
       "          7         8         9         10        11        12        13  \\\n",
       "0   0.125000  0.111111  0.100000  0.090909  0.083333  0.076923  0.071429   \n",
       "1   0.250000  0.222222  0.200000  0.181818  0.166667  0.153846  0.142857   \n",
       "2   0.375000  0.333333  0.300000  0.272727  0.250000  0.230769  0.214286   \n",
       "3   0.500000  0.444444  0.400000  0.363636  0.333333  0.307692  0.285714   \n",
       "4   0.625000  0.555556  0.500000  0.454545  0.416667  0.384615  0.357143   \n",
       "5   0.750000  0.666667  0.600000  0.545455  0.500000  0.461538  0.428571   \n",
       "6   0.875000  0.777778  0.700000  0.636364  0.583333  0.538462  0.500000   \n",
       "7   1.000000  0.888889  0.800000  0.727273  0.666667  0.615385  0.571429   \n",
       "8   0.888889  1.000000  0.900000  0.818182  0.750000  0.692308  0.642857   \n",
       "9   0.800000  0.900000  1.000000  0.909091  0.833333  0.769231  0.714286   \n",
       "10  0.727273  0.818182  0.909091  1.000000  0.916667  0.846154  0.785714   \n",
       "11  0.666667  0.750000  0.833333  0.916667  1.000000  0.923077  0.857143   \n",
       "12  0.615385  0.692308  0.769231  0.846154  0.923077  1.000000  0.928571   \n",
       "13  0.571429  0.642857  0.714286  0.785714  0.857143  0.928571  1.000000   \n",
       "14  0.533333  0.600000  0.666667  0.733333  0.800000  0.866667  0.933333   \n",
       "15  0.500000  0.562500  0.625000  0.687500  0.750000  0.812500  0.875000   \n",
       "16  0.470588  0.529412  0.588235  0.647059  0.705882  0.764706  0.823529   \n",
       "17  0.444444  0.500000  0.555556  0.611111  0.666667  0.722222  0.777778   \n",
       "18  0.421053  0.473684  0.526316  0.578947  0.631579  0.684211  0.736842   \n",
       "19  0.400000  0.450000  0.500000  0.550000  0.600000  0.650000  0.700000   \n",
       "\n",
       "          14        15        16        17        18    19  \n",
       "0   0.066667  0.062500  0.058824  0.055556  0.052632  0.05  \n",
       "1   0.133333  0.125000  0.117647  0.111111  0.105263  0.10  \n",
       "2   0.200000  0.187500  0.176471  0.166667  0.157895  0.15  \n",
       "3   0.266667  0.250000  0.235294  0.222222  0.210526  0.20  \n",
       "4   0.333333  0.312500  0.294118  0.277778  0.263158  0.25  \n",
       "5   0.400000  0.375000  0.352941  0.333333  0.315789  0.30  \n",
       "6   0.466667  0.437500  0.411765  0.388889  0.368421  0.35  \n",
       "7   0.533333  0.500000  0.470588  0.444444  0.421053  0.40  \n",
       "8   0.600000  0.562500  0.529412  0.500000  0.473684  0.45  \n",
       "9   0.666667  0.625000  0.588235  0.555556  0.526316  0.50  \n",
       "10  0.733333  0.687500  0.647059  0.611111  0.578947  0.55  \n",
       "11  0.800000  0.750000  0.705882  0.666667  0.631579  0.60  \n",
       "12  0.866667  0.812500  0.764706  0.722222  0.684211  0.65  \n",
       "13  0.933333  0.875000  0.823529  0.777778  0.736842  0.70  \n",
       "14  1.000000  0.937500  0.882353  0.833333  0.789474  0.75  \n",
       "15  0.937500  1.000000  0.941176  0.888889  0.842105  0.80  \n",
       "16  0.882353  0.941176  1.000000  0.944444  0.894737  0.85  \n",
       "17  0.833333  0.888889  0.944444  1.000000  0.947368  0.90  \n",
       "18  0.789474  0.842105  0.894737  0.947368  1.000000  0.95  \n",
       "19  0.750000  0.800000  0.850000  0.900000  0.950000  1.00  "
      ]
     },
     "execution_count": 56,
     "metadata": {},
     "output_type": "execute_result"
    }
   ],
   "source": [
    "A=np.zeros((20,20))\n",
    "\n",
    "for i in range(20):\n",
    "    for j in range(20):\n",
    "        if j>i:\n",
    "            A[i,j]=(i+1)/(j+1)\n",
    "        else:\n",
    "            A[i,j]=(j+1)/(i+1)\n",
    "            \n",
    "B=pd.DataFrame(A)\n",
    "B"
   ]
  },
  {
   "cell_type": "markdown",
   "metadata": {},
   "source": [
    "# Question 4"
   ]
  },
  {
   "cell_type": "code",
   "execution_count": 57,
   "metadata": {},
   "outputs": [
    {
     "data": {
      "text/plain": [
       "array([[1.        , 0.5       , 0.33333333, 0.25      , 0.2       ,\n",
       "        0.16666667, 0.14285714, 0.125     , 0.11111111, 0.1       ,\n",
       "        0.09090909, 0.08333333, 0.07692308, 0.07142857, 0.06666667,\n",
       "        0.0625    , 0.05882353, 0.05555556, 0.05263158, 0.05      ],\n",
       "       [0.5       , 1.        , 0.66666667, 0.5       , 0.4       ,\n",
       "        0.33333333, 0.28571429, 0.25      , 0.22222222, 0.2       ,\n",
       "        0.18181818, 0.16666667, 0.15384615, 0.14285714, 0.13333333,\n",
       "        0.125     , 0.11764706, 0.11111111, 0.10526316, 0.1       ],\n",
       "       [0.33333333, 0.66666667, 1.        , 0.75      , 0.6       ,\n",
       "        0.5       , 0.42857143, 0.375     , 0.33333333, 0.3       ,\n",
       "        0.27272727, 0.25      , 0.23076923, 0.21428571, 0.2       ,\n",
       "        0.1875    , 0.17647059, 0.16666667, 0.15789474, 0.15      ],\n",
       "       [0.25      , 0.5       , 0.75      , 1.        , 0.8       ,\n",
       "        0.66666667, 0.57142857, 0.5       , 0.44444444, 0.4       ,\n",
       "        0.36363636, 0.33333333, 0.30769231, 0.28571429, 0.26666667,\n",
       "        0.25      , 0.23529412, 0.22222222, 0.21052632, 0.2       ],\n",
       "       [0.2       , 0.4       , 0.6       , 0.8       , 1.        ,\n",
       "        0.83333333, 0.71428571, 0.625     , 0.55555556, 0.5       ,\n",
       "        0.45454545, 0.41666667, 0.38461538, 0.35714286, 0.33333333,\n",
       "        0.3125    , 0.29411765, 0.27777778, 0.26315789, 0.25      ],\n",
       "       [0.16666667, 0.33333333, 0.5       , 0.66666667, 0.83333333,\n",
       "        1.        , 0.85714286, 0.75      , 0.66666667, 0.6       ,\n",
       "        0.54545455, 0.5       , 0.46153846, 0.42857143, 0.4       ,\n",
       "        0.375     , 0.35294118, 0.33333333, 0.31578947, 0.3       ],\n",
       "       [0.14285714, 0.28571429, 0.42857143, 0.57142857, 0.71428571,\n",
       "        0.85714286, 1.        , 0.875     , 0.77777778, 0.7       ,\n",
       "        0.63636364, 0.58333333, 0.53846154, 0.5       , 0.46666667,\n",
       "        0.4375    , 0.41176471, 0.38888889, 0.36842105, 0.35      ],\n",
       "       [0.125     , 0.25      , 0.375     , 0.5       , 0.625     ,\n",
       "        0.75      , 0.875     , 1.        , 0.88888889, 0.8       ,\n",
       "        0.72727273, 0.66666667, 0.61538462, 0.57142857, 0.53333333,\n",
       "        0.5       , 0.47058824, 0.44444444, 0.42105263, 0.4       ],\n",
       "       [0.11111111, 0.22222222, 0.33333333, 0.44444444, 0.55555556,\n",
       "        0.66666667, 0.77777778, 0.88888889, 1.        , 0.9       ,\n",
       "        0.81818182, 0.75      , 0.69230769, 0.64285714, 0.6       ,\n",
       "        0.5625    , 0.52941176, 0.5       , 0.47368421, 0.45      ],\n",
       "       [0.1       , 0.2       , 0.3       , 0.4       , 0.5       ,\n",
       "        0.6       , 0.7       , 0.8       , 0.9       , 1.        ,\n",
       "        0.90909091, 0.83333333, 0.76923077, 0.71428571, 0.66666667,\n",
       "        0.625     , 0.58823529, 0.55555556, 0.52631579, 0.5       ],\n",
       "       [0.09090909, 0.18181818, 0.27272727, 0.36363636, 0.45454545,\n",
       "        0.54545455, 0.63636364, 0.72727273, 0.81818182, 0.90909091,\n",
       "        1.        , 0.91666667, 0.84615385, 0.78571429, 0.73333333,\n",
       "        0.6875    , 0.64705882, 0.61111111, 0.57894737, 0.55      ],\n",
       "       [0.08333333, 0.16666667, 0.25      , 0.33333333, 0.41666667,\n",
       "        0.5       , 0.58333333, 0.66666667, 0.75      , 0.83333333,\n",
       "        0.91666667, 1.        , 0.92307692, 0.85714286, 0.8       ,\n",
       "        0.75      , 0.70588235, 0.66666667, 0.63157895, 0.6       ],\n",
       "       [0.07692308, 0.15384615, 0.23076923, 0.30769231, 0.38461538,\n",
       "        0.46153846, 0.53846154, 0.61538462, 0.69230769, 0.76923077,\n",
       "        0.84615385, 0.92307692, 1.        , 0.92857143, 0.86666667,\n",
       "        0.8125    , 0.76470588, 0.72222222, 0.68421053, 0.65      ],\n",
       "       [0.07142857, 0.14285714, 0.21428571, 0.28571429, 0.35714286,\n",
       "        0.42857143, 0.5       , 0.57142857, 0.64285714, 0.71428571,\n",
       "        0.78571429, 0.85714286, 0.92857143, 1.        , 0.93333333,\n",
       "        0.875     , 0.82352941, 0.77777778, 0.73684211, 0.7       ],\n",
       "       [0.06666667, 0.13333333, 0.2       , 0.26666667, 0.33333333,\n",
       "        0.4       , 0.46666667, 0.53333333, 0.6       , 0.66666667,\n",
       "        0.73333333, 0.8       , 0.86666667, 0.93333333, 1.        ,\n",
       "        0.9375    , 0.88235294, 0.83333333, 0.78947368, 0.75      ],\n",
       "       [0.0625    , 0.125     , 0.1875    , 0.25      , 0.3125    ,\n",
       "        0.375     , 0.4375    , 0.5       , 0.5625    , 0.625     ,\n",
       "        0.6875    , 0.75      , 0.8125    , 0.875     , 0.9375    ,\n",
       "        1.        , 0.94117647, 0.88888889, 0.84210526, 0.8       ],\n",
       "       [0.05882353, 0.11764706, 0.17647059, 0.23529412, 0.29411765,\n",
       "        0.35294118, 0.41176471, 0.47058824, 0.52941176, 0.58823529,\n",
       "        0.64705882, 0.70588235, 0.76470588, 0.82352941, 0.88235294,\n",
       "        0.94117647, 1.        , 0.94444444, 0.89473684, 0.85      ],\n",
       "       [0.05555556, 0.11111111, 0.16666667, 0.22222222, 0.27777778,\n",
       "        0.33333333, 0.38888889, 0.44444444, 0.5       , 0.55555556,\n",
       "        0.61111111, 0.66666667, 0.72222222, 0.77777778, 0.83333333,\n",
       "        0.88888889, 0.94444444, 1.        , 0.94736842, 0.9       ],\n",
       "       [0.05263158, 0.10526316, 0.15789474, 0.21052632, 0.26315789,\n",
       "        0.31578947, 0.36842105, 0.42105263, 0.47368421, 0.52631579,\n",
       "        0.57894737, 0.63157895, 0.68421053, 0.73684211, 0.78947368,\n",
       "        0.84210526, 0.89473684, 0.94736842, 1.        , 0.95      ],\n",
       "       [0.05      , 0.1       , 0.15      , 0.2       , 0.25      ,\n",
       "        0.3       , 0.35      , 0.4       , 0.45      , 0.5       ,\n",
       "        0.55      , 0.6       , 0.65      , 0.7       , 0.75      ,\n",
       "        0.8       , 0.85      , 0.9       , 0.95      , 1.        ]])"
      ]
     },
     "execution_count": 57,
     "metadata": {},
     "output_type": "execute_result"
    }
   ],
   "source": [
    "A"
   ]
  },
  {
   "cell_type": "code",
   "execution_count": 60,
   "metadata": {},
   "outputs": [],
   "source": [
    "C=np.linalg.inv(A)"
   ]
  },
  {
   "cell_type": "code",
   "execution_count": 58,
   "metadata": {},
   "outputs": [
    {
     "data": {
      "text/plain": [
       "[1.0,\n",
       " 2.0,\n",
       " 3.0,\n",
       " 4.0,\n",
       " 5.0,\n",
       " 6.0,\n",
       " 7.0,\n",
       " 8.0,\n",
       " 9.0,\n",
       " 10.0,\n",
       " 10.0,\n",
       " 9.0,\n",
       " 8.0,\n",
       " 7.0,\n",
       " 6.0,\n",
       " 5.0,\n",
       " 4.0,\n",
       " 3.0,\n",
       " 2.0,\n",
       " 1.0]"
      ]
     },
     "execution_count": 58,
     "metadata": {},
     "output_type": "execute_result"
    }
   ],
   "source": [
    "d1=np.linspace(1,10,10)\n",
    "d2=np.linspace(10,1,10)\n",
    "d=[*d1, *d2]\n",
    "d"
   ]
  },
  {
   "cell_type": "code",
   "execution_count": 61,
   "metadata": {},
   "outputs": [],
   "source": [
    "Cd=C @ d"
   ]
  },
  {
   "cell_type": "code",
   "execution_count": 64,
   "metadata": {},
   "outputs": [
    {
     "data": {
      "text/plain": [
       "array([-8.88178420e-16,  9.94759830e-15,  3.52070682e-15, -7.26913457e-14,\n",
       "        1.59424384e-13, -2.54373524e-13,  2.73454074e-13, -1.12927026e-13,\n",
       "       -2.48120301e+01,  2.00642393e+01,  3.58137507e+01, -3.00626280e+01,\n",
       "       -3.73699569e-04, -2.77204400e-04, -2.09968770e-04, -1.61954093e-04,\n",
       "       -1.26922825e-04, -1.00877939e-04,  9.50593309e+01, -1.00062903e+02])"
      ]
     },
     "execution_count": 64,
     "metadata": {},
     "output_type": "execute_result"
    }
   ],
   "source": [
    "S=np.linalg.solve(A,Cd)\n",
    "S"
   ]
  },
  {
   "cell_type": "code",
   "execution_count": 67,
   "metadata": {},
   "outputs": [
    {
     "data": {
      "text/plain": [
       "array([  -0. ,    0. ,    0. ,   -0. ,    0. ,   -0. ,    0. ,   -0. ,\n",
       "        -24.8,   20.1,   35.8,  -30.1,   -0. ,   -0. ,   -0. ,   -0. ,\n",
       "         -0. ,   -0. ,   95.1, -100.1])"
      ]
     },
     "execution_count": 67,
     "metadata": {},
     "output_type": "execute_result"
    }
   ],
   "source": [
    "S=np.round(S,1)\n",
    "S"
   ]
  },
  {
   "cell_type": "code",
   "execution_count": 68,
   "metadata": {},
   "outputs": [
    {
     "data": {
      "text/plain": [
       "20.1"
      ]
     },
     "execution_count": 68,
     "metadata": {},
     "output_type": "execute_result"
    }
   ],
   "source": [
    "S[9]"
   ]
  }
 ],
 "metadata": {
  "kernelspec": {
   "display_name": "Python 3",
   "language": "python",
   "name": "python3"
  },
  "language_info": {
   "codemirror_mode": {
    "name": "ipython",
    "version": 3
   },
   "file_extension": ".py",
   "mimetype": "text/x-python",
   "name": "python",
   "nbconvert_exporter": "python",
   "pygments_lexer": "ipython3",
   "version": "3.8.8"
  }
 },
 "nbformat": 4,
 "nbformat_minor": 2
}
