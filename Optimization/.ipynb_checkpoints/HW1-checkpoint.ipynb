{
 "cells": [
  {
   "cell_type": "code",
   "execution_count": 54,
   "metadata": {},
   "outputs": [],
   "source": [
    "import numpy as np\n",
    "import pandas as pd"
   ]
  },
  {
   "cell_type": "markdown",
   "metadata": {},
   "source": [
    "# Qustion 1"
   ]
  },
  {
   "cell_type": "code",
   "execution_count": 3,
   "metadata": {},
   "outputs": [],
   "source": [
    "'''\n",
    "let x1,x2,x3,x4 be the loan amount for \n",
    "\n",
    "First mortgage\n",
    "Second mortgage\n",
    "Home improvement\n",
    "Personal overdraft\n",
    "\n",
    "respectively\n",
    "'''"
   ]
  },
  {
   "cell_type": "code",
   "execution_count": 22,
   "metadata": {},
   "outputs": [
    {
     "data": {
      "text/plain": [
       "array([[ 1.  ,  1.  ,  1.  ,  1.  ],\n",
       "       [ 0.45, -0.55,  0.  ,  0.  ],\n",
       "       [ 0.  ,  1.  ,  0.  ,  0.  ],\n",
       "       [ 0.14,  0.2 ,  0.2 ,  0.1 ]])"
      ]
     },
     "execution_count": 22,
     "metadata": {},
     "output_type": "execute_result"
    }
   ],
   "source": [
    "A=np.zeros((4,4))\n",
    "A[0,:] = [1,1,1,1]\n",
    "A[1,:] = [0.45,-0.55,0,0]\n",
    "A[2,:] = [0,1,0,0]\n",
    "A[3,:] = [0.14,0.2,0.2,0.1]\n",
    "A"
   ]
  },
  {
   "cell_type": "code",
   "execution_count": 23,
   "metadata": {},
   "outputs": [
    {
     "data": {
      "text/plain": [
       "array([1.  , 0.  , 0.25, 0.15])"
      ]
     },
     "execution_count": 23,
     "metadata": {},
     "output_type": "execute_result"
    }
   ],
   "source": [
    "b=np.array([1,0,0.25,0.15])\n",
    "b"
   ]
  },
  {
   "cell_type": "code",
   "execution_count": 34,
   "metadata": {},
   "outputs": [
    {
     "data": {
      "text/plain": [
       "array([76.39, 62.5 , 31.94, 79.17])"
      ]
     },
     "execution_count": 34,
     "metadata": {},
     "output_type": "execute_result"
    }
   ],
   "source": [
    "interest_frac=np.linalg.solve(A,b)\n",
    "interest_amt=np.round(250*interest_frac,2)\n",
    "interest_amt"
   ]
  },
  {
   "cell_type": "markdown",
   "metadata": {},
   "source": [
    "# Question 2"
   ]
  },
  {
   "cell_type": "markdown",
   "metadata": {},
   "source": [
    "Rankings are ubiquitous. You may have heard of Google’s PageRank and IMDB movie ratings. The backbone of these systems is Linear Algebra. We want to give you to taste of building your own ranking system to rank sports teams.\n",
    "\n",
    "In a football league one is interested in modeling the ratings of teams based on the margin of victory and not just the outcomes, win/loss/draw. Consider the following data for five teams playing in such a league"
   ]
  },
  {
   "cell_type": "code",
   "execution_count": 5,
   "metadata": {},
   "outputs": [],
   "source": [
    "import numpy as np"
   ]
  },
  {
   "cell_type": "code",
   "execution_count": 6,
   "metadata": {},
   "outputs": [
    {
     "data": {
      "text/plain": [
       "array([[ 1., -1.,  0.,  0.,  0.],\n",
       "       [ 1.,  0., -1.,  0.,  0.],\n",
       "       [ 1.,  0.,  0., -1.,  0.],\n",
       "       [ 1.,  0.,  0.,  0., -1.],\n",
       "       [ 0.,  1., -1.,  0.,  0.],\n",
       "       [ 0.,  1.,  0., -1.,  0.],\n",
       "       [ 0.,  1.,  0.,  0., -1.],\n",
       "       [ 0.,  0.,  1., -1.,  0.],\n",
       "       [ 0.,  0.,  1.,  0., -1.],\n",
       "       [ 0.,  0.,  0.,  1., -1.]])"
      ]
     },
     "execution_count": 6,
     "metadata": {},
     "output_type": "execute_result"
    }
   ],
   "source": [
    "M=np.zeros((10,5))\n",
    "row = 0\n",
    "for i in range(5):\n",
    "    for j in range (i+1, 5):\n",
    "        M[row, i] = 1\n",
    "        M[row, j] = -1\n",
    "        row = row + 1\n",
    "        \n",
    "M\n",
    "        \n",
    "        \n",
    "        "
   ]
  },
  {
   "cell_type": "code",
   "execution_count": null,
   "metadata": {},
   "outputs": [],
   "source": []
  },
  {
   "cell_type": "code",
   "execution_count": null,
   "metadata": {},
   "outputs": [],
   "source": []
  },
  {
   "cell_type": "code",
   "execution_count": 8,
   "metadata": {},
   "outputs": [
    {
     "data": {
      "text/plain": [
       "array([ 35., 138.,  50.,  99., 134.])"
      ]
     },
     "execution_count": 8,
     "metadata": {},
     "output_type": "execute_result"
    }
   ],
   "source": [
    "#Team score matrix\n",
    "\n",
    "team_score=np.zeros((5,5))\n",
    "team_score[0,:] = [0,7,21,7,0]\n",
    "team_score[1,:] = [52,0,34,25,27]\n",
    "team_score[2,:] = [24,16,0,7,3]\n",
    "team_score[3,:] = [38,17,30,0,14]\n",
    "team_score[4,:] = [45,7,30,52,0]\n",
    "s=team_score.sum(axis=1)\n",
    "s"
   ]
  },
  {
   "cell_type": "code",
   "execution_count": 9,
   "metadata": {},
   "outputs": [
    {
     "data": {
      "text/plain": [
       "array([[ 0., 52., 24., 38., 45.],\n",
       "       [ 7.,  0., 16., 17.,  7.],\n",
       "       [21., 34.,  0., 30., 30.],\n",
       "       [ 7., 25.,  7.,  0., 52.],\n",
       "       [ 0., 27.,  3., 14.,  0.]])"
      ]
     },
     "execution_count": 9,
     "metadata": {},
     "output_type": "execute_result"
    }
   ],
   "source": [
    "#Team opponent score matrix\n",
    "\n",
    "team_o_score=np.zeros((5,5))\n",
    "\n",
    "for i in range(5):\n",
    "    for j in range(5):\n",
    "        team_o_score[i,j] = team_score[j,i]\n",
    "\n",
    "team_o_score"
   ]
  },
  {
   "cell_type": "code",
   "execution_count": 25,
   "metadata": {},
   "outputs": [
    {
     "data": {
      "text/plain": [
       "array([[-45.],\n",
       "       [ -3.],\n",
       "       [-31.],\n",
       "       [-45.],\n",
       "       [ 18.],\n",
       "       [  8.],\n",
       "       [ 20.],\n",
       "       [-23.],\n",
       "       [-27.],\n",
       "       [-38.]])"
      ]
     },
     "execution_count": 25,
     "metadata": {},
     "output_type": "execute_result"
    }
   ],
   "source": [
    "#Difference in score\n",
    "\n",
    "S=team_score-team_o_score\n",
    "\n",
    "\n",
    "X=np.zeros((10,5))\n",
    "y=np.zeros((10,1))\n",
    "row = 0\n",
    "for i in range(5):\n",
    "    for j in range (i+1, 5):\n",
    "        X[row, i] = 1\n",
    "        X[row, j] = -1\n",
    "        y[row:] = S[i, j]\n",
    "        row = row + 1\n",
    "        \n",
    "y\n",
    "        "
   ]
  },
  {
   "cell_type": "code",
   "execution_count": 30,
   "metadata": {},
   "outputs": [
    {
     "data": {
      "text/plain": [
       "array([[ 4., -1., -1., -1., -1.],\n",
       "       [-1.,  4., -1., -1., -1.],\n",
       "       [-1., -1.,  4., -1., -1.],\n",
       "       [-1., -1., -1.,  4., -1.],\n",
       "       [-1., -1., -1., -1.,  4.]])"
      ]
     },
     "execution_count": 30,
     "metadata": {},
     "output_type": "execute_result"
    }
   ],
   "source": [
    "M=X.T@X\n",
    "M"
   ]
  },
  {
   "cell_type": "code",
   "execution_count": 27,
   "metadata": {},
   "outputs": [],
   "source": [
    "y=X.T@y"
   ]
  },
  {
   "cell_type": "code",
   "execution_count": 38,
   "metadata": {},
   "outputs": [
    {
     "data": {
      "text/plain": [
       "array([[ 4., -1., -1., -1., -1.],\n",
       "       [-1.,  4., -1., -1., -1.],\n",
       "       [-1., -1.,  4., -1., -1.],\n",
       "       [-1., -1., -1.,  4., -1.],\n",
       "       [ 1.,  1.,  1.,  1.,  1.]])"
      ]
     },
     "execution_count": 38,
     "metadata": {},
     "output_type": "execute_result"
    }
   ],
   "source": [
    "for i in range(5):\n",
    "    M[4,i]=1\n",
    "M"
   ]
  },
  {
   "cell_type": "code",
   "execution_count": 41,
   "metadata": {},
   "outputs": [
    {
     "data": {
      "text/plain": [
       "array([[-124.],\n",
       "       [  91.],\n",
       "       [ -65.],\n",
       "       [   8.],\n",
       "       [   0.]])"
      ]
     },
     "execution_count": 41,
     "metadata": {},
     "output_type": "execute_result"
    }
   ],
   "source": [
    "y[4,]=0\n",
    "y"
   ]
  },
  {
   "cell_type": "code",
   "execution_count": 42,
   "metadata": {},
   "outputs": [],
   "source": [
    "r=np.linalg.inv(M)@y"
   ]
  },
  {
   "cell_type": "code",
   "execution_count": 45,
   "metadata": {},
   "outputs": [
    {
     "data": {
      "text/plain": [
       "array([[-24.8],\n",
       "       [ 18.2],\n",
       "       [-13. ],\n",
       "       [  1.6],\n",
       "       [ 18. ]])"
      ]
     },
     "execution_count": 45,
     "metadata": {},
     "output_type": "execute_result"
    }
   ],
   "source": [
    "r"
   ]
  },
  {
   "cell_type": "markdown",
   "metadata": {},
   "source": [
    "# Question3"
   ]
  },
  {
   "cell_type": "code",
   "execution_count": 52,
   "metadata": {},
   "outputs": [
    {
     "data": {
      "text/plain": [
       "array([[1.        , 0.5       , 0.33333333, 0.25      ],\n",
       "       [0.5       , 1.        , 0.66666667, 0.5       ],\n",
       "       [0.33333333, 0.66666667, 1.        , 0.75      ],\n",
       "       [0.25      , 0.5       , 0.75      , 1.        ]])"
      ]
     },
     "execution_count": 52,
     "metadata": {},
     "output_type": "execute_result"
    }
   ],
   "source": [
    "A=np.zeros((4,4))\n",
    "\n",
    "for i in range(4):\n",
    "    for j in range(4):\n",
    "        if j>i:\n",
    "            A[i,j]=(i+1)/(j+1)\n",
    "        else:\n",
    "            A[i,j]=(j+1)/(i+1)\n",
    "            \n",
    "A"
   ]
  },
  {
   "cell_type": "code",
   "execution_count": 77,
   "metadata": {},
   "outputs": [],
   "source": [
    "A=np.zeros((20,20))\n",
    "\n",
    "for i in range(20):\n",
    "    for j in range(20):\n",
    "        if j>i:\n",
    "            A[i,j]=(i+1)/(j+1)\n",
    "        else:\n",
    "            A[i,j]=(j+1)/(i+1)\n",
    "            \n",
    "B=pd.DataFrame(A)"
   ]
  },
  {
   "cell_type": "code",
   "execution_count": null,
   "metadata": {},
   "outputs": [],
   "source": []
  },
  {
   "cell_type": "markdown",
   "metadata": {},
   "source": [
    "# Question 4"
   ]
  },
  {
   "cell_type": "code",
   "execution_count": 2,
   "metadata": {},
   "outputs": [
    {
     "ename": "NameError",
     "evalue": "name 'np' is not defined",
     "output_type": "error",
     "traceback": [
      "\u001b[1;31m---------------------------------------------------------------------------\u001b[0m",
      "\u001b[1;31mNameError\u001b[0m                                 Traceback (most recent call last)",
      "\u001b[1;32m<ipython-input-2-6e7c62e7d469>\u001b[0m in \u001b[0;36m<module>\u001b[1;34m\u001b[0m\n\u001b[1;32m----> 1\u001b[1;33m \u001b[0mA\u001b[0m\u001b[1;33m=\u001b[0m\u001b[0mnp\u001b[0m\u001b[1;33m.\u001b[0m\u001b[0mzeros\u001b[0m\u001b[1;33m(\u001b[0m\u001b[1;33m(\u001b[0m\u001b[1;36m20\u001b[0m\u001b[1;33m,\u001b[0m\u001b[1;36m20\u001b[0m\u001b[1;33m)\u001b[0m\u001b[1;33m)\u001b[0m\u001b[1;33m\u001b[0m\u001b[1;33m\u001b[0m\u001b[0m\n\u001b[0m\u001b[0;32m      2\u001b[0m \u001b[1;33m\u001b[0m\u001b[0m\n\u001b[0;32m      3\u001b[0m \u001b[1;32mfor\u001b[0m \u001b[0mi\u001b[0m \u001b[1;32min\u001b[0m \u001b[0mrange\u001b[0m\u001b[1;33m(\u001b[0m\u001b[1;36m20\u001b[0m\u001b[1;33m)\u001b[0m\u001b[1;33m:\u001b[0m\u001b[1;33m\u001b[0m\u001b[1;33m\u001b[0m\u001b[0m\n\u001b[0;32m      4\u001b[0m     \u001b[1;32mfor\u001b[0m \u001b[0mj\u001b[0m \u001b[1;32min\u001b[0m \u001b[0mrange\u001b[0m\u001b[1;33m(\u001b[0m\u001b[1;36m20\u001b[0m\u001b[1;33m)\u001b[0m\u001b[1;33m:\u001b[0m\u001b[1;33m\u001b[0m\u001b[1;33m\u001b[0m\u001b[0m\n\u001b[0;32m      5\u001b[0m         \u001b[1;32mif\u001b[0m \u001b[0mj\u001b[0m\u001b[1;33m>\u001b[0m\u001b[0mi\u001b[0m\u001b[1;33m:\u001b[0m\u001b[1;33m\u001b[0m\u001b[1;33m\u001b[0m\u001b[0m\n",
      "\u001b[1;31mNameError\u001b[0m: name 'np' is not defined"
     ]
    }
   ],
   "source": [
    "A=np.zeros((20,20))\n",
    "\n",
    "for i in range(20):\n",
    "    for j in range(20):\n",
    "        if j>i:\n",
    "            A[i,j]=(i+1)/(j+1)\n",
    "        else:\n",
    "            A[i,j]=(j+1)/(i+1)\n"
   ]
  },
  {
   "cell_type": "code",
   "execution_count": 78,
   "metadata": {},
   "outputs": [
    {
     "data": {
      "text/plain": [
       "array([[1.        , 0.5       , 0.33333333, 0.25      , 0.2       ,\n",
       "        0.16666667, 0.14285714, 0.125     , 0.11111111, 0.1       ,\n",
       "        0.09090909, 0.08333333, 0.07692308, 0.07142857, 0.06666667,\n",
       "        0.0625    , 0.05882353, 0.05555556, 0.05263158, 0.05      ],\n",
       "       [0.5       , 1.        , 0.66666667, 0.5       , 0.4       ,\n",
       "        0.33333333, 0.28571429, 0.25      , 0.22222222, 0.2       ,\n",
       "        0.18181818, 0.16666667, 0.15384615, 0.14285714, 0.13333333,\n",
       "        0.125     , 0.11764706, 0.11111111, 0.10526316, 0.1       ],\n",
       "       [0.33333333, 0.66666667, 1.        , 0.75      , 0.6       ,\n",
       "        0.5       , 0.42857143, 0.375     , 0.33333333, 0.3       ,\n",
       "        0.27272727, 0.25      , 0.23076923, 0.21428571, 0.2       ,\n",
       "        0.1875    , 0.17647059, 0.16666667, 0.15789474, 0.15      ],\n",
       "       [0.25      , 0.5       , 0.75      , 1.        , 0.8       ,\n",
       "        0.66666667, 0.57142857, 0.5       , 0.44444444, 0.4       ,\n",
       "        0.36363636, 0.33333333, 0.30769231, 0.28571429, 0.26666667,\n",
       "        0.25      , 0.23529412, 0.22222222, 0.21052632, 0.2       ],\n",
       "       [0.2       , 0.4       , 0.6       , 0.8       , 1.        ,\n",
       "        0.83333333, 0.71428571, 0.625     , 0.55555556, 0.5       ,\n",
       "        0.45454545, 0.41666667, 0.38461538, 0.35714286, 0.33333333,\n",
       "        0.3125    , 0.29411765, 0.27777778, 0.26315789, 0.25      ],\n",
       "       [0.16666667, 0.33333333, 0.5       , 0.66666667, 0.83333333,\n",
       "        1.        , 0.85714286, 0.75      , 0.66666667, 0.6       ,\n",
       "        0.54545455, 0.5       , 0.46153846, 0.42857143, 0.4       ,\n",
       "        0.375     , 0.35294118, 0.33333333, 0.31578947, 0.3       ],\n",
       "       [0.14285714, 0.28571429, 0.42857143, 0.57142857, 0.71428571,\n",
       "        0.85714286, 1.        , 0.875     , 0.77777778, 0.7       ,\n",
       "        0.63636364, 0.58333333, 0.53846154, 0.5       , 0.46666667,\n",
       "        0.4375    , 0.41176471, 0.38888889, 0.36842105, 0.35      ],\n",
       "       [0.125     , 0.25      , 0.375     , 0.5       , 0.625     ,\n",
       "        0.75      , 0.875     , 1.        , 0.88888889, 0.8       ,\n",
       "        0.72727273, 0.66666667, 0.61538462, 0.57142857, 0.53333333,\n",
       "        0.5       , 0.47058824, 0.44444444, 0.42105263, 0.4       ],\n",
       "       [0.11111111, 0.22222222, 0.33333333, 0.44444444, 0.55555556,\n",
       "        0.66666667, 0.77777778, 0.88888889, 1.        , 0.9       ,\n",
       "        0.81818182, 0.75      , 0.69230769, 0.64285714, 0.6       ,\n",
       "        0.5625    , 0.52941176, 0.5       , 0.47368421, 0.45      ],\n",
       "       [0.1       , 0.2       , 0.3       , 0.4       , 0.5       ,\n",
       "        0.6       , 0.7       , 0.8       , 0.9       , 1.        ,\n",
       "        0.90909091, 0.83333333, 0.76923077, 0.71428571, 0.66666667,\n",
       "        0.625     , 0.58823529, 0.55555556, 0.52631579, 0.5       ],\n",
       "       [0.09090909, 0.18181818, 0.27272727, 0.36363636, 0.45454545,\n",
       "        0.54545455, 0.63636364, 0.72727273, 0.81818182, 0.90909091,\n",
       "        1.        , 0.91666667, 0.84615385, 0.78571429, 0.73333333,\n",
       "        0.6875    , 0.64705882, 0.61111111, 0.57894737, 0.55      ],\n",
       "       [0.08333333, 0.16666667, 0.25      , 0.33333333, 0.41666667,\n",
       "        0.5       , 0.58333333, 0.66666667, 0.75      , 0.83333333,\n",
       "        0.91666667, 1.        , 0.92307692, 0.85714286, 0.8       ,\n",
       "        0.75      , 0.70588235, 0.66666667, 0.63157895, 0.6       ],\n",
       "       [0.07692308, 0.15384615, 0.23076923, 0.30769231, 0.38461538,\n",
       "        0.46153846, 0.53846154, 0.61538462, 0.69230769, 0.76923077,\n",
       "        0.84615385, 0.92307692, 1.        , 0.92857143, 0.86666667,\n",
       "        0.8125    , 0.76470588, 0.72222222, 0.68421053, 0.65      ],\n",
       "       [0.07142857, 0.14285714, 0.21428571, 0.28571429, 0.35714286,\n",
       "        0.42857143, 0.5       , 0.57142857, 0.64285714, 0.71428571,\n",
       "        0.78571429, 0.85714286, 0.92857143, 1.        , 0.93333333,\n",
       "        0.875     , 0.82352941, 0.77777778, 0.73684211, 0.7       ],\n",
       "       [0.06666667, 0.13333333, 0.2       , 0.26666667, 0.33333333,\n",
       "        0.4       , 0.46666667, 0.53333333, 0.6       , 0.66666667,\n",
       "        0.73333333, 0.8       , 0.86666667, 0.93333333, 1.        ,\n",
       "        0.9375    , 0.88235294, 0.83333333, 0.78947368, 0.75      ],\n",
       "       [0.0625    , 0.125     , 0.1875    , 0.25      , 0.3125    ,\n",
       "        0.375     , 0.4375    , 0.5       , 0.5625    , 0.625     ,\n",
       "        0.6875    , 0.75      , 0.8125    , 0.875     , 0.9375    ,\n",
       "        1.        , 0.94117647, 0.88888889, 0.84210526, 0.8       ],\n",
       "       [0.05882353, 0.11764706, 0.17647059, 0.23529412, 0.29411765,\n",
       "        0.35294118, 0.41176471, 0.47058824, 0.52941176, 0.58823529,\n",
       "        0.64705882, 0.70588235, 0.76470588, 0.82352941, 0.88235294,\n",
       "        0.94117647, 1.        , 0.94444444, 0.89473684, 0.85      ],\n",
       "       [0.05555556, 0.11111111, 0.16666667, 0.22222222, 0.27777778,\n",
       "        0.33333333, 0.38888889, 0.44444444, 0.5       , 0.55555556,\n",
       "        0.61111111, 0.66666667, 0.72222222, 0.77777778, 0.83333333,\n",
       "        0.88888889, 0.94444444, 1.        , 0.94736842, 0.9       ],\n",
       "       [0.05263158, 0.10526316, 0.15789474, 0.21052632, 0.26315789,\n",
       "        0.31578947, 0.36842105, 0.42105263, 0.47368421, 0.52631579,\n",
       "        0.57894737, 0.63157895, 0.68421053, 0.73684211, 0.78947368,\n",
       "        0.84210526, 0.89473684, 0.94736842, 1.        , 0.95      ],\n",
       "       [0.05      , 0.1       , 0.15      , 0.2       , 0.25      ,\n",
       "        0.3       , 0.35      , 0.4       , 0.45      , 0.5       ,\n",
       "        0.55      , 0.6       , 0.65      , 0.7       , 0.75      ,\n",
       "        0.8       , 0.85      , 0.9       , 0.95      , 1.        ]])"
      ]
     },
     "execution_count": 78,
     "metadata": {},
     "output_type": "execute_result"
    }
   ],
   "source": [
    "A"
   ]
  },
  {
   "cell_type": "code",
   "execution_count": 56,
   "metadata": {},
   "outputs": [],
   "source": [
    "C=np.linalg.inv(A)"
   ]
  },
  {
   "cell_type": "code",
   "execution_count": 79,
   "metadata": {},
   "outputs": [
    {
     "data": {
      "text/plain": [
       "[1.0,\n",
       " 2.0,\n",
       " 3.0,\n",
       " 4.0,\n",
       " 5.0,\n",
       " 6.0,\n",
       " 7.0,\n",
       " 8.0,\n",
       " 9.0,\n",
       " 10.0,\n",
       " 10.0,\n",
       " 9.0,\n",
       " 8.0,\n",
       " 7.0,\n",
       " 6.0,\n",
       " 5.0,\n",
       " 4.0,\n",
       " 3.0,\n",
       " 2.0,\n",
       " 1.0]"
      ]
     },
     "execution_count": 79,
     "metadata": {},
     "output_type": "execute_result"
    }
   ],
   "source": [
    "d1=np.linspace(1,10,10)\n",
    "d2=np.linspace(10,1,10)\n",
    "d=[*d1, *d2]\n",
    "d"
   ]
  },
  {
   "cell_type": "code",
   "execution_count": 75,
   "metadata": {},
   "outputs": [],
   "source": [
    "Cd=C @ d"
   ]
  },
  {
   "cell_type": "code",
   "execution_count": 91,
   "metadata": {},
   "outputs": [
    {
     "data": {
      "text/plain": [
       "array([-8.88178420e-16,  9.94759830e-15,  3.52070682e-15, -7.26913457e-14,\n",
       "        1.59424384e-13, -2.54373524e-13,  2.73454074e-13, -1.12927026e-13,\n",
       "       -2.48120301e+01,  2.00642393e+01,  3.58137507e+01, -3.00626280e+01,\n",
       "       -3.73699569e-04, -2.77204400e-04, -2.09968770e-04, -1.61954093e-04,\n",
       "       -1.26922825e-04, -1.00877939e-04,  9.50593309e+01, -1.00062903e+02])"
      ]
     },
     "execution_count": 91,
     "metadata": {},
     "output_type": "execute_result"
    }
   ],
   "source": [
    "S=np.linalg.solve(A,Cd)\n",
    "S"
   ]
  },
  {
   "cell_type": "code",
   "execution_count": 96,
   "metadata": {},
   "outputs": [
    {
     "data": {
      "text/plain": [
       "array([  -0. ,    0. ,    0. ,   -0. ,    0. ,   -0. ,    0. ,   -0. ,\n",
       "        -24.8,   20.1,   35.8,  -30.1,   -0. ,   -0. ,   -0. ,   -0. ,\n",
       "         -0. ,   -0. ,   95.1, -100.1])"
      ]
     },
     "execution_count": 96,
     "metadata": {},
     "output_type": "execute_result"
    }
   ],
   "source": [
    "S=np.round(S,1)\n",
    "S"
   ]
  },
  {
   "cell_type": "code",
   "execution_count": 84,
   "metadata": {},
   "outputs": [
    {
     "data": {
      "text/plain": [
       "array([  -0.,    0.,    0.,   -0.,    0.,   -0.,    0.,   -0.,  -25.,\n",
       "         20.,   36.,  -30.,   -0.,   -0.,   -0.,   -0.,   -0.,   -0.,\n",
       "         95., -100.])"
      ]
     },
     "execution_count": 84,
     "metadata": {},
     "output_type": "execute_result"
    }
   ],
   "source": []
  },
  {
   "cell_type": "code",
   "execution_count": null,
   "metadata": {},
   "outputs": [],
   "source": []
  },
  {
   "cell_type": "code",
   "execution_count": null,
   "metadata": {},
   "outputs": [],
   "source": [
    "a + b"
   ]
  },
  {
   "cell_type": "code",
   "execution_count": null,
   "metadata": {},
   "outputs": [],
   "source": [
    "A = np.array([[1.,2.],[3.,4.]])\n",
    "A"
   ]
  },
  {
   "cell_type": "code",
   "execution_count": null,
   "metadata": {},
   "outputs": [],
   "source": [
    "A[1,0]"
   ]
  },
  {
   "cell_type": "code",
   "execution_count": null,
   "metadata": {},
   "outputs": [],
   "source": [
    "A @ b"
   ]
  },
  {
   "cell_type": "code",
   "execution_count": null,
   "metadata": {},
   "outputs": [],
   "source": [
    "B = np.zeros((3,3))\n",
    "B"
   ]
  },
  {
   "cell_type": "code",
   "execution_count": 23,
   "metadata": {},
   "outputs": [
    {
     "data": {
      "text/plain": [
       "array([[1., 2., 3.],\n",
       "       [0., 0., 0.],\n",
       "       [0., 0., 0.]])"
      ]
     },
     "execution_count": 23,
     "metadata": {},
     "output_type": "execute_result"
    }
   ],
   "source": [
    "B[0,:] = [1,2,3]\n",
    "B"
   ]
  },
  {
   "cell_type": "code",
   "execution_count": 24,
   "metadata": {},
   "outputs": [
    {
     "data": {
      "text/plain": [
       "array([[1., 2., 7.],\n",
       "       [0., 0., 8.],\n",
       "       [0., 0., 9.]])"
      ]
     },
     "execution_count": 24,
     "metadata": {},
     "output_type": "execute_result"
    }
   ],
   "source": [
    "B[:,2] = [7,8,9]\n",
    "B"
   ]
  },
  {
   "cell_type": "code",
   "execution_count": null,
   "metadata": {},
   "outputs": [],
   "source": []
  },
  {
   "cell_type": "code",
   "execution_count": 26,
   "metadata": {},
   "outputs": [
    {
     "data": {
      "text/plain": [
       "125"
      ]
     },
     "execution_count": 26,
     "metadata": {},
     "output_type": "execute_result"
    }
   ],
   "source": [
    "5**3"
   ]
  },
  {
   "cell_type": "code",
   "execution_count": 27,
   "metadata": {},
   "outputs": [
    {
     "data": {
      "text/plain": [
       "array([[  9.,   9.,   9.],\n",
       "       [ 36.,  64., 100.],\n",
       "       [ 81., 225., 441.]])"
      ]
     },
     "execution_count": 27,
     "metadata": {},
     "output_type": "execute_result"
    }
   ],
   "source": [
    "for i in range(3):\n",
    "    for j in range(3):\n",
    "        B[i,j] = (i+1)**2*(j*i+3)**2\n",
    "\n",
    "B"
   ]
  },
  {
   "cell_type": "code",
   "execution_count": 29,
   "metadata": {},
   "outputs": [
    {
     "data": {
      "text/plain": [
       "array([15., 22.])"
      ]
     },
     "execution_count": 29,
     "metadata": {},
     "output_type": "execute_result"
    }
   ],
   "source": [
    "b @ A"
   ]
  },
  {
   "cell_type": "code",
   "execution_count": 30,
   "metadata": {},
   "outputs": [
    {
     "data": {
      "text/plain": [
       "array([3., 4.])"
      ]
     },
     "execution_count": 30,
     "metadata": {},
     "output_type": "execute_result"
    }
   ],
   "source": [
    "b"
   ]
  },
  {
   "cell_type": "code",
   "execution_count": 31,
   "metadata": {},
   "outputs": [
    {
     "data": {
      "text/plain": [
       "array([-2. ,  2.5])"
      ]
     },
     "execution_count": 31,
     "metadata": {},
     "output_type": "execute_result"
    }
   ],
   "source": [
    "x = np.linalg.solve(A,b)\n",
    "x"
   ]
  },
  {
   "cell_type": "code",
   "execution_count": 32,
   "metadata": {},
   "outputs": [
    {
     "data": {
      "text/plain": [
       "array([3., 4.])"
      ]
     },
     "execution_count": 32,
     "metadata": {},
     "output_type": "execute_result"
    }
   ],
   "source": [
    "A @ x"
   ]
  },
  {
   "cell_type": "code",
   "execution_count": null,
   "metadata": {},
   "outputs": [],
   "source": [
    "b"
   ]
  },
  {
   "cell_type": "code",
   "execution_count": null,
   "metadata": {},
   "outputs": [],
   "source": [
    "# 4x4 Identity matrix\n",
    "np.diag(np.ones(4))"
   ]
  },
  {
   "cell_type": "code",
   "execution_count": null,
   "metadata": {},
   "outputs": [],
   "source": [
    "np.linalg.inv(B)"
   ]
  },
  {
   "cell_type": "code",
   "execution_count": null,
   "metadata": {},
   "outputs": [],
   "source": [
    "np.linalg.solve(B,np.diag(np.ones(3)))"
   ]
  },
  {
   "cell_type": "code",
   "execution_count": null,
   "metadata": {},
   "outputs": [],
   "source": [
    "B @ np.linalg.inv(B)"
   ]
  },
  {
   "cell_type": "markdown",
   "metadata": {},
   "source": [
    "# The interest example\n",
    "\n"
   ]
  },
  {
   "cell_type": "code",
   "execution_count": null,
   "metadata": {},
   "outputs": [],
   "source": [
    "A = np.zeros((3,3))\n",
    "A[0,:] = [1,1,1]\n",
    "A[1,:] = [0.06,0.08,0.1]\n",
    "A[2,:] = [-1,0,2]\n",
    "A"
   ]
  },
  {
   "cell_type": "code",
   "execution_count": null,
   "metadata": {},
   "outputs": [],
   "source": [
    "b = np.array([50,3.7,0])\n",
    "b"
   ]
  },
  {
   "cell_type": "code",
   "execution_count": null,
   "metadata": {},
   "outputs": [],
   "source": [
    "xyz = np.linalg.solve(A,b)\n",
    "xyz"
   ]
  },
  {
   "cell_type": "code",
   "execution_count": null,
   "metadata": {},
   "outputs": [],
   "source": [
    "# double check interest equation\n",
    "30*0.06 + 5*0.08 + 15*0.1"
   ]
  },
  {
   "cell_type": "code",
   "execution_count": null,
   "metadata": {},
   "outputs": [],
   "source": []
  },
  {
   "cell_type": "markdown",
   "metadata": {},
   "source": [
    "# This is an example of a markdown cell in action!\n",
    "\n",
    "## This is a sub header\n",
    "\n",
    "We can do math if you know $\\LaTeX$: $ \\int_0^\\infty f(x) dx $ \n",
    "\n",
    "We can make bullets with the star\n",
    "\n",
    "* Bullet 1\n",
    "* Bullet again\n",
    "    * Sub bullet\n",
    "\n",
    "Here's a list\n",
    "1. item 1\n",
    "2. item 2\n",
    "1. what is going on??? markdown knows what's up!\n",
    "\n",
    "### Tables too\n",
    "| Column 1 | Column 2 | Column 3|\n",
    "|   ---    |  ---     | ---     |\n",
    "| 1        |  a       |   x     |\n",
    "| 2        |  b       |  y      |\n",
    "| 5        |  g       | $\\Omega$ |\n",
    "\n",
    "I will expect a lot of nice formatting in your project submissions!"
   ]
  },
  {
   "cell_type": "code",
   "execution_count": null,
   "metadata": {},
   "outputs": [],
   "source": [
    "\n"
   ]
  },
  {
   "cell_type": "code",
   "execution_count": null,
   "metadata": {},
   "outputs": [],
   "source": []
  }
 ],
 "metadata": {
  "kernelspec": {
   "display_name": "Python 3",
   "language": "python",
   "name": "python3"
  },
  "language_info": {
   "codemirror_mode": {
    "name": "ipython",
    "version": 3
   },
   "file_extension": ".py",
   "mimetype": "text/x-python",
   "name": "python",
   "nbconvert_exporter": "python",
   "pygments_lexer": "ipython3",
   "version": "3.8.8"
  }
 },
 "nbformat": 4,
 "nbformat_minor": 2
}
