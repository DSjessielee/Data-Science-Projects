{
 "cells": [
  {
   "cell_type": "markdown",
   "metadata": {
    "id": "qcxOqnDFR8Ly"
   },
   "source": [
    "# <p style=\"text-align: center;\">MIS 382N: Advanced Machine Learning</p>\n",
    "# <p style=\"text-align: center;\">Homework 2</p>\n",
    "## <p style=\"text-align: center;\">Total points: **55**</p>\n",
    "## <p style=\"text-align: center;\">Due: Monday, **Sep 27** submitted via Canvas by 11:59 pm</p>\n",
    "\n",
    "Your homework should be written in a **Jupyter notebook**. Please make sure your code runs and the graphics (and anything else) are displayed in your notebook before submitting (%matplotlib inline). \n",
    "\n",
    "\n",
    "**Note: Notebooks MUST have the images embedded in them. There will be no regrades if attached images do not render in the notebook. Please make sure all attached images render without errors. (Hint: Image module from IPython.display)**"
   ]
  },
  {
   "cell_type": "markdown",
   "metadata": {
    "id": "qZU0QWkzSDnx"
   },
   "source": [
    "**This can be an individual assignment or group of 2. If you choose to do it as a group, please specify who you are working with (name and EID), then only one student should submit the homework. Put your name and eid here.**\n",
    "\n",
    "Name: Jessie Lee\n",
    "\n",
    "EID: JYL787\n",
    "\n",
    "Name:\n",
    "\n",
    "EID:"
   ]
  },
  {
   "cell_type": "markdown",
   "metadata": {
    "id": "02CfYifUSHzJ"
   },
   "source": [
    "# Question 1: Bias-Variance (5 pts)\n",
    "\n",
    "a) (**2 pts**) Assume there is a data generator $Y=f(X)+\\epsilon$, which is generating Data(X, Y), where $\\epsilon$ is the added random gaussian noise. We are trying to fit a curve to the samples generated from the data generator, using an estimator. The estimator can be represented as $g(X|\\theta)$, where $\\theta$ represents the parameters. For any test point $x_0$, what does the following mathematical representation mean? Is this the bias or variance of the estimator? $$E[g(x_0)]-f(x_0)$$\n",
    "\n",
    "b) (**3 pts**) Use your own words to describe why there is a tradeoff between bias and variance. \n",
    "\n",
    "## Answer:"
   ]
  },
  {
   "cell_type": "markdown",
   "metadata": {},
   "source": [
    "a)This function represents the difference between estimated value by the model and the true value at certain point $x_0$ from the generator fuction. This is the bias of the estimator at $x_0$."
   ]
  },
  {
   "cell_type": "markdown",
   "metadata": {},
   "source": [
    "b) Bias describes how good the average model is, which is quantitatively how far off your modeled mean vs true mean of samples, where variance describes how sensitive the model is to variations in data. When a model is simple (in the Lasso or Ridge case, regularization is high), the bias is low but the variance is high, where each variable is given low weights; whereas for high complexity models (in the Lasso or Ridge case, regularization is low), for example overfit models, variance is low but the bias is high where training samples were all given high weight. Expected loss (E[L]) = $bias^2$ + variance + noise, so at low model complexity, E(L) is dominated by bias where at high complexity, E[L] is dominated by variance. What we need to do is to find the Goldilocks zone between the trade offs when we build our models."
   ]
  },
  {
   "cell_type": "markdown",
   "metadata": {
    "id": "2JX0hdXUSJJj"
   },
   "source": [
    "# Question 2: Bias-Variance exploration (15 pts)\n",
    "\n",
    "We want to build a model that can predict y for unknown inputs x. Please use **tmp.data.npy** data for this question.\n",
    "\n",
    "a) (**10 pts**) Fit polynomial models of degrees 2, 4, 8 to the training data. Print out the mean squared error (on both train and test sets) for all the models. Plot the data (y_train vs x_train and y_test vs x_test), the fitted models (predictions on x_all by different models vs x_all), and the predictions on the test set (predictions on x_test by different models vs x_test). All the plots must be in the same figure and be clearly labeled. **Tips**: you can use `np.vander(np.squeeze(x_train), deg+1)` to generate the `deg`-degree polynomial vector of `x_train`. For example, `np.vander(np.squeeze(x_train), 3)` gives you the second-degree polynomial of `x_train`.\n",
    "\n",
    "\n",
    "(b) (**5 pts**) Which model gives the best performance? Explain in terms of the bias-variance tradeoff.\n",
    "\n",
    "**You can use following codes to load the dataset**:\n"
   ]
  },
  {
   "cell_type": "code",
   "execution_count": 2,
   "metadata": {
    "id": "7CEX0XdwSo0A"
   },
   "outputs": [],
   "source": [
    "from sklearn import linear_model as lm\n",
    "from sklearn.linear_model import LinearRegression\n",
    "from sklearn.preprocessing import PolynomialFeatures\n",
    "from sklearn.metrics import mean_squared_error, mean_absolute_error\n",
    "import matplotlib.pyplot as plt\n",
    "import numpy as np\n",
    "import pandas as pd\n",
    "from sklearn.metrics import mean_squared_error as mse\n",
    "%matplotlib inline\n",
    "\n",
    "data_load = np.load('data.npy', allow_pickle=True)\n",
    "x_train = data_load.item().get(\"Xtrain\")\n",
    "y_train = data_load.item().get(\"Ytrain\")\n",
    "x_test = data_load.item().get(\"Xtest\")\n",
    "y_test =data_load.item().get(\"Ytest\")\n",
    "x_all = np.linspace(-10,10,101).reshape(-1,1)\n",
    "\n",
    "lrp = LinearRegression()"
   ]
  },
  {
   "cell_type": "code",
   "execution_count": null,
   "metadata": {},
   "outputs": [],
   "source": []
  },
  {
   "cell_type": "markdown",
   "metadata": {
    "id": "XtseLbFDTLws"
   },
   "source": [
    "## Answer:\n",
    "# 2-a)"
   ]
  },
  {
   "cell_type": "code",
   "execution_count": 3,
   "metadata": {},
   "outputs": [
    {
     "ename": "ValueError",
     "evalue": "Expected 2D array, got 1D array instead:\narray=[-3.50387597 -0.34108527  1.70542636  2.4496124   2.01550388 -2.13953488\n -1.27131783 -1.95348837 -0.09302326 -2.3875969   0.52713178 -3.56589147\n -2.63565891  2.51162791 -3.37984496 -1.02325581  3.75193798  1.58139535\n -3.87596899  1.76744186 -0.7751938   1.95348837 -2.51162791 -0.8372093\n -0.89922481 -1.51937984  3.50387597  0.21705426  0.09302326 -3.00775194\n -0.15503876  3.44186047 -3.19379845  0.71317829  0.8372093  -1.20930233\n -3.06976744  1.64341085  3.19379845  1.89147287 -3.81395349 -1.33333333\n -3.62790698  1.20930233 -0.65116279  2.13953488  1.82945736  3.00775194\n -0.21705426  2.69767442  0.40310078 -2.3255814  -2.88372093  2.63565891\n -3.31782946  3.68992248  2.82170543 -1.45736434  1.33333333 -0.27906977\n -3.9379845  -0.52713178  2.07751938  2.94573643 -1.39534884 -3.75193798\n -2.94573643 -1.64341085 -3.68992248 -0.71317829  3.31782946  2.26356589\n -4.         -1.89147287 -2.26356589 -0.58914729  0.65116279 -1.82945736\n -2.57364341  0.58914729 -2.07751938  1.27131783 -0.46511628  2.20155039\n  2.88372093 -2.01550388  2.75968992 -3.13178295  1.51937984 -2.82170543\n -2.20155039 -0.96124031  2.57364341  1.08527132  3.87596899  4.\n  0.89922481  0.27906977  0.96124031 -2.75968992].\nReshape your data either using array.reshape(-1, 1) if your data has a single feature or array.reshape(1, -1) if it contains a single sample.",
     "output_type": "error",
     "traceback": [
      "\u001b[1;31m---------------------------------------------------------------------------\u001b[0m",
      "\u001b[1;31mValueError\u001b[0m                                Traceback (most recent call last)",
      "\u001b[1;32m<ipython-input-3-1568c73d6002>\u001b[0m in \u001b[0;36m<module>\u001b[1;34m\u001b[0m\n\u001b[0;32m      5\u001b[0m \u001b[0mpoly6\u001b[0m \u001b[1;33m=\u001b[0m \u001b[0mPolynomialFeatures\u001b[0m\u001b[1;33m(\u001b[0m\u001b[0mdegree\u001b[0m\u001b[1;33m=\u001b[0m\u001b[1;36m6\u001b[0m\u001b[1;33m)\u001b[0m\u001b[1;33m\u001b[0m\u001b[1;33m\u001b[0m\u001b[0m\n\u001b[0;32m      6\u001b[0m \u001b[1;33m\u001b[0m\u001b[0m\n\u001b[1;32m----> 7\u001b[1;33m \u001b[0mX_2_train\u001b[0m \u001b[1;33m=\u001b[0m \u001b[0mpoly2\u001b[0m\u001b[1;33m.\u001b[0m\u001b[0mfit_transform\u001b[0m\u001b[1;33m(\u001b[0m\u001b[0mx_train\u001b[0m\u001b[1;33m)\u001b[0m\u001b[1;33m\u001b[0m\u001b[1;33m\u001b[0m\u001b[0m\n\u001b[0m\u001b[0;32m      8\u001b[0m \u001b[0mX_4_train\u001b[0m \u001b[1;33m=\u001b[0m \u001b[0mpoly4\u001b[0m\u001b[1;33m.\u001b[0m\u001b[0mfit_transform\u001b[0m\u001b[1;33m(\u001b[0m\u001b[0mx_train\u001b[0m\u001b[1;33m)\u001b[0m\u001b[1;33m\u001b[0m\u001b[1;33m\u001b[0m\u001b[0m\n\u001b[0;32m      9\u001b[0m \u001b[0mX_6_train\u001b[0m \u001b[1;33m=\u001b[0m \u001b[0mpoly6\u001b[0m\u001b[1;33m.\u001b[0m\u001b[0mfit_transform\u001b[0m\u001b[1;33m(\u001b[0m\u001b[0mx_train\u001b[0m\u001b[1;33m)\u001b[0m\u001b[1;33m\u001b[0m\u001b[1;33m\u001b[0m\u001b[0m\n",
      "\u001b[1;32mC:\\ProgramData\\Anaconda3\\lib\\site-packages\\sklearn\\base.py\u001b[0m in \u001b[0;36mfit_transform\u001b[1;34m(self, X, y, **fit_params)\u001b[0m\n\u001b[0;32m    697\u001b[0m         \u001b[1;32mif\u001b[0m \u001b[0my\u001b[0m \u001b[1;32mis\u001b[0m \u001b[1;32mNone\u001b[0m\u001b[1;33m:\u001b[0m\u001b[1;33m\u001b[0m\u001b[1;33m\u001b[0m\u001b[0m\n\u001b[0;32m    698\u001b[0m             \u001b[1;31m# fit method of arity 1 (unsupervised transformation)\u001b[0m\u001b[1;33m\u001b[0m\u001b[1;33m\u001b[0m\u001b[1;33m\u001b[0m\u001b[0m\n\u001b[1;32m--> 699\u001b[1;33m             \u001b[1;32mreturn\u001b[0m \u001b[0mself\u001b[0m\u001b[1;33m.\u001b[0m\u001b[0mfit\u001b[0m\u001b[1;33m(\u001b[0m\u001b[0mX\u001b[0m\u001b[1;33m,\u001b[0m \u001b[1;33m**\u001b[0m\u001b[0mfit_params\u001b[0m\u001b[1;33m)\u001b[0m\u001b[1;33m.\u001b[0m\u001b[0mtransform\u001b[0m\u001b[1;33m(\u001b[0m\u001b[0mX\u001b[0m\u001b[1;33m)\u001b[0m\u001b[1;33m\u001b[0m\u001b[1;33m\u001b[0m\u001b[0m\n\u001b[0m\u001b[0;32m    700\u001b[0m         \u001b[1;32melse\u001b[0m\u001b[1;33m:\u001b[0m\u001b[1;33m\u001b[0m\u001b[1;33m\u001b[0m\u001b[0m\n\u001b[0;32m    701\u001b[0m             \u001b[1;31m# fit method of arity 2 (supervised transformation)\u001b[0m\u001b[1;33m\u001b[0m\u001b[1;33m\u001b[0m\u001b[1;33m\u001b[0m\u001b[0m\n",
      "\u001b[1;32mC:\\ProgramData\\Anaconda3\\lib\\site-packages\\sklearn\\preprocessing\\_data.py\u001b[0m in \u001b[0;36mfit\u001b[1;34m(self, X, y)\u001b[0m\n\u001b[0;32m   1702\u001b[0m             \u001b[0mFitted\u001b[0m \u001b[0mtransformer\u001b[0m\u001b[1;33m.\u001b[0m\u001b[1;33m\u001b[0m\u001b[1;33m\u001b[0m\u001b[0m\n\u001b[0;32m   1703\u001b[0m         \"\"\"\n\u001b[1;32m-> 1704\u001b[1;33m         n_samples, n_features = self._validate_data(\n\u001b[0m\u001b[0;32m   1705\u001b[0m             X, accept_sparse=True).shape\n\u001b[0;32m   1706\u001b[0m         combinations = self._combinations(n_features, self.degree,\n",
      "\u001b[1;32mC:\\ProgramData\\Anaconda3\\lib\\site-packages\\sklearn\\base.py\u001b[0m in \u001b[0;36m_validate_data\u001b[1;34m(self, X, y, reset, validate_separately, **check_params)\u001b[0m\n\u001b[0;32m    419\u001b[0m             \u001b[0mout\u001b[0m \u001b[1;33m=\u001b[0m \u001b[0mX\u001b[0m\u001b[1;33m\u001b[0m\u001b[1;33m\u001b[0m\u001b[0m\n\u001b[0;32m    420\u001b[0m         \u001b[1;32melif\u001b[0m \u001b[0misinstance\u001b[0m\u001b[1;33m(\u001b[0m\u001b[0my\u001b[0m\u001b[1;33m,\u001b[0m \u001b[0mstr\u001b[0m\u001b[1;33m)\u001b[0m \u001b[1;32mand\u001b[0m \u001b[0my\u001b[0m \u001b[1;33m==\u001b[0m \u001b[1;34m'no_validation'\u001b[0m\u001b[1;33m:\u001b[0m\u001b[1;33m\u001b[0m\u001b[1;33m\u001b[0m\u001b[0m\n\u001b[1;32m--> 421\u001b[1;33m             \u001b[0mX\u001b[0m \u001b[1;33m=\u001b[0m \u001b[0mcheck_array\u001b[0m\u001b[1;33m(\u001b[0m\u001b[0mX\u001b[0m\u001b[1;33m,\u001b[0m \u001b[1;33m**\u001b[0m\u001b[0mcheck_params\u001b[0m\u001b[1;33m)\u001b[0m\u001b[1;33m\u001b[0m\u001b[1;33m\u001b[0m\u001b[0m\n\u001b[0m\u001b[0;32m    422\u001b[0m             \u001b[0mout\u001b[0m \u001b[1;33m=\u001b[0m \u001b[0mX\u001b[0m\u001b[1;33m\u001b[0m\u001b[1;33m\u001b[0m\u001b[0m\n\u001b[0;32m    423\u001b[0m         \u001b[1;32melse\u001b[0m\u001b[1;33m:\u001b[0m\u001b[1;33m\u001b[0m\u001b[1;33m\u001b[0m\u001b[0m\n",
      "\u001b[1;32mC:\\ProgramData\\Anaconda3\\lib\\site-packages\\sklearn\\utils\\validation.py\u001b[0m in \u001b[0;36minner_f\u001b[1;34m(*args, **kwargs)\u001b[0m\n\u001b[0;32m     61\u001b[0m             \u001b[0mextra_args\u001b[0m \u001b[1;33m=\u001b[0m \u001b[0mlen\u001b[0m\u001b[1;33m(\u001b[0m\u001b[0margs\u001b[0m\u001b[1;33m)\u001b[0m \u001b[1;33m-\u001b[0m \u001b[0mlen\u001b[0m\u001b[1;33m(\u001b[0m\u001b[0mall_args\u001b[0m\u001b[1;33m)\u001b[0m\u001b[1;33m\u001b[0m\u001b[1;33m\u001b[0m\u001b[0m\n\u001b[0;32m     62\u001b[0m             \u001b[1;32mif\u001b[0m \u001b[0mextra_args\u001b[0m \u001b[1;33m<=\u001b[0m \u001b[1;36m0\u001b[0m\u001b[1;33m:\u001b[0m\u001b[1;33m\u001b[0m\u001b[1;33m\u001b[0m\u001b[0m\n\u001b[1;32m---> 63\u001b[1;33m                 \u001b[1;32mreturn\u001b[0m \u001b[0mf\u001b[0m\u001b[1;33m(\u001b[0m\u001b[1;33m*\u001b[0m\u001b[0margs\u001b[0m\u001b[1;33m,\u001b[0m \u001b[1;33m**\u001b[0m\u001b[0mkwargs\u001b[0m\u001b[1;33m)\u001b[0m\u001b[1;33m\u001b[0m\u001b[1;33m\u001b[0m\u001b[0m\n\u001b[0m\u001b[0;32m     64\u001b[0m \u001b[1;33m\u001b[0m\u001b[0m\n\u001b[0;32m     65\u001b[0m             \u001b[1;31m# extra_args > 0\u001b[0m\u001b[1;33m\u001b[0m\u001b[1;33m\u001b[0m\u001b[1;33m\u001b[0m\u001b[0m\n",
      "\u001b[1;32mC:\\ProgramData\\Anaconda3\\lib\\site-packages\\sklearn\\utils\\validation.py\u001b[0m in \u001b[0;36mcheck_array\u001b[1;34m(array, accept_sparse, accept_large_sparse, dtype, order, copy, force_all_finite, ensure_2d, allow_nd, ensure_min_samples, ensure_min_features, estimator)\u001b[0m\n\u001b[0;32m    635\u001b[0m             \u001b[1;31m# If input is 1D raise error\u001b[0m\u001b[1;33m\u001b[0m\u001b[1;33m\u001b[0m\u001b[1;33m\u001b[0m\u001b[0m\n\u001b[0;32m    636\u001b[0m             \u001b[1;32mif\u001b[0m \u001b[0marray\u001b[0m\u001b[1;33m.\u001b[0m\u001b[0mndim\u001b[0m \u001b[1;33m==\u001b[0m \u001b[1;36m1\u001b[0m\u001b[1;33m:\u001b[0m\u001b[1;33m\u001b[0m\u001b[1;33m\u001b[0m\u001b[0m\n\u001b[1;32m--> 637\u001b[1;33m                 raise ValueError(\n\u001b[0m\u001b[0;32m    638\u001b[0m                     \u001b[1;34m\"Expected 2D array, got 1D array instead:\\narray={}.\\n\"\u001b[0m\u001b[1;33m\u001b[0m\u001b[1;33m\u001b[0m\u001b[0m\n\u001b[0;32m    639\u001b[0m                     \u001b[1;34m\"Reshape your data either using array.reshape(-1, 1) if \"\u001b[0m\u001b[1;33m\u001b[0m\u001b[1;33m\u001b[0m\u001b[0m\n",
      "\u001b[1;31mValueError\u001b[0m: Expected 2D array, got 1D array instead:\narray=[-3.50387597 -0.34108527  1.70542636  2.4496124   2.01550388 -2.13953488\n -1.27131783 -1.95348837 -0.09302326 -2.3875969   0.52713178 -3.56589147\n -2.63565891  2.51162791 -3.37984496 -1.02325581  3.75193798  1.58139535\n -3.87596899  1.76744186 -0.7751938   1.95348837 -2.51162791 -0.8372093\n -0.89922481 -1.51937984  3.50387597  0.21705426  0.09302326 -3.00775194\n -0.15503876  3.44186047 -3.19379845  0.71317829  0.8372093  -1.20930233\n -3.06976744  1.64341085  3.19379845  1.89147287 -3.81395349 -1.33333333\n -3.62790698  1.20930233 -0.65116279  2.13953488  1.82945736  3.00775194\n -0.21705426  2.69767442  0.40310078 -2.3255814  -2.88372093  2.63565891\n -3.31782946  3.68992248  2.82170543 -1.45736434  1.33333333 -0.27906977\n -3.9379845  -0.52713178  2.07751938  2.94573643 -1.39534884 -3.75193798\n -2.94573643 -1.64341085 -3.68992248 -0.71317829  3.31782946  2.26356589\n -4.         -1.89147287 -2.26356589 -0.58914729  0.65116279 -1.82945736\n -2.57364341  0.58914729 -2.07751938  1.27131783 -0.46511628  2.20155039\n  2.88372093 -2.01550388  2.75968992 -3.13178295  1.51937984 -2.82170543\n -2.20155039 -0.96124031  2.57364341  1.08527132  3.87596899  4.\n  0.89922481  0.27906977  0.96124031 -2.75968992].\nReshape your data either using array.reshape(-1, 1) if your data has a single feature or array.reshape(1, -1) if it contains a single sample."
     ]
    }
   ],
   "source": [
    "# Fit polynomial models of degrees 2, 4, 8 to the training data\n",
    "\n",
    "poly2 = PolynomialFeatures(degree=2)\n",
    "poly4 = PolynomialFeatures(degree=4)\n",
    "poly6 = PolynomialFeatures(degree=6)\n",
    "\n",
    "X_2_train = poly2.fit_transform(x_train)\n",
    "X_4_train = poly4.fit_transform(x_train)\n",
    "X_6_train = poly6.fit_transform(x_train)\n",
    "\n",
    "X_2_test = poly2.fit_transform(x_test)\n",
    "X_4_test = poly4.fit_transform(x_test)\n",
    "X_6_test = poly6.fit_transform(x_test)\n",
    "\n",
    "lrp2 = LinearRegression()\n",
    "lrp2.fit(X_2_train, y_train)\n",
    "y_2_train = lrp2.predict(X_2_train)\n",
    "y_2_test = lrp2.predict(X_2_test)\n",
    "\n",
    "lrp4 = LinearRegression()\n",
    "lrp4.fit(X_4_train, y_train)\n",
    "y_4_train = lrp4.predict(X_4_train)\n",
    "y_4_test = lrp4.predict(X_4_test)\n",
    "\n",
    "\n",
    "lrp6 = LinearRegression()\n",
    "lrp6.fit(X_6_train, y_train)\n",
    "y_6_train = lrp6.predict(X_6_train)\n",
    "y_6_test = lrp6.predict(X_6_test)\n",
    "\n",
    "# dt=dict({'y_test': y_test,\n",
    "#     'poly2_pred': y_2_test,\n",
    "#     'poly4_pred': y_4_test,\n",
    "#     'poly6_pred': y_6_test})\n",
    "\n",
    "\n",
    "df_train=pd.DataFrame(x_train)\n",
    "\n",
    "df_train['y_train']   = y_train\n",
    "df_train['y_2_train'] = y_2_train\n",
    "df_train['y_4_train'] = y_4_train\n",
    "df_train['y_6_train'] = y_6_train\n",
    "df_train.columns=['x_train','y_train','y_2_train', 'y_4_train', 'y_6_train']\n",
    "df_train.sort_values(by='x_train',inplace=True)\n",
    "\n",
    "df_test=pd.DataFrame(x_test)\n",
    "\n",
    "df_test['y_test'] = y_test\n",
    "df_test['y_2_test'] = y_2_test\n",
    "df_test['y_4_test'] = y_4_test\n",
    "df_test['y_6_test'] = y_6_test\n",
    "df_test.columns=['x_test','y_test','y_2_test', 'y_4_test', 'y_6_test']\n",
    "df_test.sort_values(by='x_test',inplace=True)\n"
   ]
  },
  {
   "cell_type": "code",
   "execution_count": 124,
   "metadata": {},
   "outputs": [
    {
     "name": "stdout",
     "output_type": "stream",
     "text": [
      "MSE for degree 2 polynomial on training data is:  8.63356886287906\n",
      "MSE for degree 4 polynomial on training data is:  5.386282113264774\n",
      "MSE for degree 6 polynomial on training data is:  5.278340904114266\n",
      "MSE for degree 2 polynomial on test data is:  77.80097370911297\n",
      "MSE for degree 4 polynomial on test data is:  31.299150556764587\n",
      "MSE for degree 6 polynomial on test data is:  36.22029022850937\n"
     ]
    }
   ],
   "source": [
    "print('MSE for degree 2 polynomial on training data is: ', mse(y_train,y_2_train))\n",
    "print('MSE for degree 4 polynomial on training data is: ', mse(y_train,y_4_train))\n",
    "print('MSE for degree 6 polynomial on training data is: ', mse(y_train,y_6_train))\n",
    "print('MSE for degree 2 polynomial on test data is: ', mse(y_test,y_2_test))\n",
    "print('MSE for degree 4 polynomial on test data is: ', mse(y_test,y_4_test))\n",
    "print('MSE for degree 6 polynomial on test data is: ', mse(y_test,y_6_test))"
   ]
  },
  {
   "cell_type": "code",
   "execution_count": 147,
   "metadata": {},
   "outputs": [
    {
     "data": {
      "image/png": "[encoded data removed]",
      "text/plain": [
       "<Figure size 864x576 with 1 Axes>"
      ]
     },
     "metadata": {
      "needs_background": "light"
     },
     "output_type": "display_data"
    }
   ],
   "source": [
    "#Plot all model predictions vs. test data\n",
    "\n",
    "ax = plt.gca()\n",
    "\n",
    "\n",
    "# plt.plot(df_train['x_train'], df_train['y_train'], linestyle='None', marker= 'o', color='b',label='train')\n",
    "# plt.plot(df_train['x_train'], df_train['y_2_train'], linestyle='-.', linewidth=6, marker='None', color='m',label='poly2_train')\n",
    "# plt.plot(df_train['x_train'], df_train['y_4_train'], linestyle='-.', linewidth=6, marker='None', color='c',label='poly4_train')\n",
    "# plt.plot(df_train['x_train'], df_train['y_6_train'], linestyle='-.', linewidth=6, marker='None', color='b',label='poly6_train')\n",
    "\n",
    "\n",
    "# plt.plot(df_test['x_test'], df_test['y_test'], linestyle='None', marker= 's', color='r',label='train')\n",
    "# plt.plot(df_test['x_test'], df_test['y_2_test'], linestyle='-', linewidth=4, marker='None', color='y',label='poly2_test')\n",
    "# plt.plot(df_test['x_test'], df_test['y_4_test'], linestyle='-', linewidth=4, marker= 'None', color='g',label='poly4_test')\n",
    "# plt.plot(df_test['x_test'], df_test['y_6_test'], linestyle='-', linewidth=4, marker='None', color='purple',label='poly6_test')\n",
    "\n",
    "ax.plot(df_train['x_train'], df_train['y_train'],linestyle='None',marker= 'o', color='b',label='train_obs')\n",
    "ax.plot(df_train['x_train'], df_train['y_2_train'],linestyle='-',color='m',label='2nd deg poly pred on train')\n",
    "ax.plot(df_train['x_train'], df_train['y_4_train'],linestyle='-',color='c',label='4th deg poly pred on train')\n",
    "ax.plot(df_train['x_train'], df_train['y_6_train'],linestyle='-',color='y',label='6th deg poly pred on tain')\n",
    "\n",
    "ax.plot(df_test['x_test'], df_test['y_test'],linestyle='None',marker= 's', color='r',label='train_obs')\n",
    "ax.plot(df_test['x_test'], df_test['y_2_test'],linestyle='-.',color='m',label='2nd deg poly pred on test')\n",
    "ax.plot(df_test['x_test'], df_test['y_4_test'],linestyle='-.',color='c',label='4th deg poly pred on test')\n",
    "ax.plot(df_test['x_test'], df_test['y_6_test'],linestyle='-.',color='y',label='6th deg poly pred on test')\n",
    "\n",
    "\n",
    "ax.set_xscale('linear')\n",
    "ax.set_xlim(ax.get_xlim()[::1])  # normal direction \n",
    "plt.rcParams[\"figure.figsize\"] = (12,8)\n",
    "plt.xlabel('X')\n",
    "plt.ylabel('Y')\n",
    "plt.title('Model Comparison')\n",
    "ax.legend()\n",
    "plt.axis('tight')\n",
    "plt.show()\n"
   ]
  },
  {
   "cell_type": "markdown",
   "metadata": {},
   "source": [
    "# 2- b)"
   ]
  },
  {
   "cell_type": "markdown",
   "metadata": {},
   "source": [
    "As expected, for training data, 6th degree polynomial model gives the best result based on MSE, because when increasing model complexity and test the error on the data that was used to fit the model, you always get tighter 'fit' give you lower MSE with no penalty for overfitting. However, when you test your model with test data. you will see a trade off between bias and variance, when you look at the loss function loss (E[L]) = $bias^2$ + variance + noise, where when you cross the optimal complexity and complexity is too high for the given sample size, increased variance will increase with complexity resulting in higher predition error. For our case, 2nd degree and 6th degree polynomial fit gave higher MSE than 4th degree polynomial, which indicate that 4th degree polynomial fit is close to the optimal degree of model complexity for our data."
   ]
  },
  {
   "cell_type": "code",
   "execution_count": null,
   "metadata": {},
   "outputs": [],
   "source": []
  },
  {
   "cell_type": "markdown",
   "metadata": {
    "id": "VKbRSU9tSoRD"
   },
   "source": [
    "# Question 3: Gradient descent (5 pts)\n",
    "\n",
    "a) (**2 pts**) Compare gradient descent and stochastic gradient descent in terms of their key advantages and disdvantages. Limit your answer to one paragaraph.\n",
    "\n",
    "b) (**3 pts**) Read this [blog](https://www.benfrederickson.com/numerical-optimization/) on second order optimization and answer the following question: **How does Nelder-Mead method work? What can be the major problems of Nelder-Mead method?**\n",
    "\n",
    "## Answer:"
   ]
  },
  {
   "cell_type": "markdown",
   "metadata": {},
   "source": [
    "# 3 a)"
   ]
  },
  {
   "cell_type": "markdown",
   "metadata": {},
   "source": [
    "In both gradient descent (GD) and stochastic gradient descent (SGD), a set of model parameters are updated iteratively to minimize an error function. While in GD, you have to run through ALL the samples in your training set to do a single update for a parameter in a particular iteration, in SGD, on the other hand, you use ONLY ONE or SUBSET of training sample from your training set to do the update for a parameter in a particular iteration. Thus, if the number of training samples are large, using gradient descent may take too long because in every iteration when you are updating the values of the parameters, you are running through the complete training set. On the other hand, using SGD will be faster because you use only one training sample and it starts improving itself right away from the first sample.SGD often converges much faster compared to GD but the error function is not as well minimized as in the case of GD. Often in most cases, the close approximation that you get in SGD for the parameter values are enough because they reach the optimal values and keep oscillating there."
   ]
  },
  {
   "cell_type": "code",
   "execution_count": null,
   "metadata": {},
   "outputs": [],
   "source": []
  },
  {
   "cell_type": "markdown",
   "metadata": {},
   "source": [
    "# 3 b)"
   ]
  },
  {
   "cell_type": "code",
   "execution_count": null,
   "metadata": {},
   "outputs": [],
   "source": []
  },
  {
   "cell_type": "markdown",
   "metadata": {
    "id": "9ezhiR4cSsUs"
   },
   "source": [
    "# Question 4: Stochastic gradient descent (10 pts)\n",
    "\n",
    "Use stochastic gradient descent to derive the coefficent updates for the 4 coefficients $w_0, w_1, w_2, w_3$ in this model：\n",
    "$$ y = w_0 + w_1x_1 + w_2 x_1x_2 + w_3e^{-x_1} $$ \n",
    "\n",
    "## Answer:"
   ]
  },
  {
   "cell_type": "markdown",
   "metadata": {
    "id": "uQ8eqNmwTWsK"
   },
   "source": [
    "# Question 5: Stochastic gradient descent coding (20 pts)\n",
    "\n",
    "Code an SGD solution in Python for this non-linear model$$ y = w_0 + w_1x_1 + w_2x_1x_2 + w_3e^{-x_1} $$  The template of the solution class is given. The init function of the class takes as input the learning rate, regularization constant and number of epochs. The fit method must take as input X, y. The predict method takes an X value (optionally, an array of values). \n",
    "\n",
    "a) (**15 pts**) Use your new gradient descent regression to predict the data given in 'SGD_samples.csv', for 15 epochs, using learning rates: [0, .0001, .001, .01, 0.1, 1, 10, 100] and regularization (ridge regression) constants: [0,10,100]. For the best 2 combinations of learning_rate and regularization for SGD, plot MSE and the $w$ parameters as a function of epoch (for 15 epochs) . \n",
    "\n",
    "b) (**5 pts**) Report the MSE of the two best combinations of learning rate and regularization constant."
   ]
  },
  {
   "cell_type": "code",
   "execution_count": null,
   "metadata": {
    "id": "IN4rIn-CSr0i"
   },
   "outputs": [],
   "source": [
    "# Only use this code block if you are using Google Colab.\n",
    "# If you are using Jupyter Notebook, please ignore this code block. You can directly upload the file to your Jupyter Notebook file systems.\n",
    "from google.colab import files\n",
    "\n",
    "## It will prompt you to select a local file. Click on “Choose Files” then select and upload the file. \n",
    "## Wait for the file to be 100% uploaded. You should see the name of the file once Colab has uploaded it.\n",
    "uploaded = files.upload()"
   ]
  },
  {
   "cell_type": "code",
   "execution_count": null,
   "metadata": {
    "id": "l676O-DJUKUM"
   },
   "outputs": [],
   "source": [
    "%matplotlib inline\n",
    "import random\n",
    "import numpy as np\n",
    "import matplotlib.pyplot as plt\n",
    "import pandas as pd\n",
    "\n",
    "class Regression:\n",
    "    \n",
    "    def __init__(self, learning_rate, regularization, n_epoch):\n",
    "        self.learning_rate = learning_rate\n",
    "        self.n_epoch = n_epoch\n",
    "        self.regularization = regularization\n",
    "        \n",
    "    def sgd(self, gradient):\n",
    "        self.coef # = please put your codes here to update the self.coef using SGD\n",
    "    \n",
    "        \n",
    "    def fit(self, X, y, update_rule='sgd', plot=False):\n",
    "        mse = []\n",
    "        coefs = []\n",
    "        X = self.get_features(X)\n",
    "        for epoch in range(self.n_epoch):\n",
    "            for i in range(X.shape[0]):\n",
    "                # Compute error\n",
    "                   #please put your codes here\n",
    "\n",
    "                # Compute gradients\n",
    "                    #please put your codes here\n",
    "               \n",
    "                # Update weights\n",
    "                self.sgd(gradient)\n",
    "\n",
    "            coefs.append(self.coef)\n",
    "            residuals = y - self.linearPredict(X)         \n",
    "            mse.append(np.mean(residuals**2))\n",
    "\n",
    "        self.lowest_mse = mse[-1]\n",
    "        if plot == True:\n",
    "            plt.figure()\n",
    "            plt.plot(range(self.n_epoch),mse)\n",
    "            plt.xlabel('epoch')\n",
    "            plt.ylabel('MSE')\n",
    "            plt.figure()\n",
    "            coefs = np.array(coefs)\n",
    "            plt.plot(range(self.n_epoch),coefs[:,0],label='w0')\n",
    "            plt.plot(range(self.n_epoch),coefs[:,1],label='w1')\n",
    "            plt.plot(range(self.n_epoch),coefs[:,2],label='w2')\n",
    "            plt.plot(range(self.n_epoch),coefs[:,3],label='w3')\n",
    "            plt.legend()\n",
    "            plt.xlabel('epoch')\n",
    "            plt.ylabel('parameter value')\n",
    "\n",
    "    def get_features(self, X):\n",
    "        '''\n",
    "        this output of this function can be used to compute the gradient in `fit`\n",
    "        '''\n",
    "        x = np.zeros((X.shape[0], 4))\n",
    "        x[:,0] = 1\n",
    "        x[:,1] = X[:,0]\n",
    "        x[:,2] = X[:,0]*X[:,1]\n",
    "        x[:,3] = np.exp(-X[:,0])\n",
    "        \n",
    "        return x\n",
    "        \n",
    "    def linearPredict(self, X):  \n",
    "      #compute the dot product of self.coef and X\n",
    "      return None #this line is just a placeholder, please delete this line in your code        "
   ]
  },
  {
   "cell_type": "code",
   "execution_count": null,
   "metadata": {
    "id": "CvOp8kdxUNCP"
   },
   "outputs": [],
   "source": [
    "data = pd.read_csv('SGD_samples.csv')\n",
    "X = np.array([data['x1'].values, data['x2'].values]).T\n",
    "y = data['y'].values\n",
    "n_epochs = 15\n",
    "learning_rate = [0.0001, 0.001, 0.01, 0.1, 1, 10, 100]\n",
    "regularization = [0, 10, 100]"
   ]
  },
  {
   "cell_type": "markdown",
   "metadata": {
    "id": "Na3FbmyUUQF3"
   },
   "source": [
    "## Answer:"
   ]
  }
 ],
 "metadata": {
  "colab": {
   "collapsed_sections": [],
   "name": "MIS382N-HW2.ipynb",
   "provenance": []
  },
  "kernelspec": {
   "display_name": "Python 3",
   "language": "python",
   "name": "python3"
  },
  "language_info": {
   "codemirror_mode": {
    "name": "ipython",
    "version": 3
   },
   "file_extension": ".py",
   "mimetype": "text/x-python",
   "name": "python",
   "nbconvert_exporter": "python",
   "pygments_lexer": "ipython3",
   "version": "3.8.8"
  }
 },
 "nbformat": 4,
 "nbformat_minor": 1
}
