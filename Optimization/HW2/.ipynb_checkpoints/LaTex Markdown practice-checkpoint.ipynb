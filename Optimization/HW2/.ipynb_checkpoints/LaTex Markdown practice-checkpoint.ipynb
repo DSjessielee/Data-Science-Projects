{
 "cells": [
  {
   "cell_type": "markdown",
   "id": "b9d6233d",
   "metadata": {},
   "source": [
    "This can be expressed in a matrix form\n",
    "\n",
    "\n",
    "$J(X,Y,W) = \\frac{1}{2m}(WX - Y)^T(WX - Y)$\n",
    "\n",
    "Where \n",
    "\n",
    "$\\frac{dJ}{dW} = \\frac{2}{2m}(WX - Y)^TX$\n",
    "\n",
    "where you want $\\frac{dJ}{dW} = \\frac{1}{m}(WX - Y)^TX = 0$\n",
    "\n",
    "therefore\n",
    "\n",
    "$WX^TX=YX^T$ \n",
    "\n",
    "Then\n",
    "\n",
    "$W=(WX^TX)^{-1}YX^T$\n",
    "\n",
    "So\n",
    "\n",
    "$W=\n",
    "\n",
    "\n"
   ]
  }
 ],
 "metadata": {
  "kernelspec": {
   "display_name": "Python 3",
   "language": "python",
   "name": "python3"
  },
  "language_info": {
   "codemirror_mode": {
    "name": "ipython",
    "version": 3
   },
   "file_extension": ".py",
   "mimetype": "text/x-python",
   "name": "python",
   "nbconvert_exporter": "python",
   "pygments_lexer": "ipython3",
   "version": "3.8.8"
  }
 },
 "nbformat": 4,
 "nbformat_minor": 5
}
