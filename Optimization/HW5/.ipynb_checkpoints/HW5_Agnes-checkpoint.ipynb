{
 "cells": [
  {
   "cell_type": "code",
   "execution_count": 1,
   "id": "83c35bbd-21db-4354-a827-6b96bb976a34",
   "metadata": {},
   "outputs": [],
   "source": [
    "import pandas as pd\n",
    "import numpy as np\n",
    "from tqdm import tqdm\n",
    "df = pd.read_csv('hw5data.csv')"
   ]
  },
  {
   "cell_type": "code",
   "execution_count": 2,
   "id": "1085b3f8-9662-4f67-8013-acbbefb736df",
   "metadata": {},
   "outputs": [
    {
     "data": {
      "text/html": [
       "<div>\n",
       "<style scoped>\n",
       "    .dataframe tbody tr th:only-of-type {\n",
       "        vertical-align: middle;\n",
       "    }\n",
       "\n",
       "    .dataframe tbody tr th {\n",
       "        vertical-align: top;\n",
       "    }\n",
       "\n",
       "    .dataframe thead th {\n",
       "        text-align: right;\n",
       "    }\n",
       "</style>\n",
       "<table border=\"1\" class=\"dataframe\">\n",
       "  <thead>\n",
       "    <tr style=\"text-align: right;\">\n",
       "      <th></th>\n",
       "      <th>w1</th>\n",
       "      <th>w2</th>\n",
       "      <th>w3</th>\n",
       "    </tr>\n",
       "  </thead>\n",
       "  <tbody>\n",
       "    <tr>\n",
       "      <th>0</th>\n",
       "      <td>0.804264</td>\n",
       "      <td>-0.279226</td>\n",
       "      <td>0.675103</td>\n",
       "    </tr>\n",
       "    <tr>\n",
       "      <th>1</th>\n",
       "      <td>-0.498909</td>\n",
       "      <td>-0.191620</td>\n",
       "      <td>1.637611</td>\n",
       "    </tr>\n",
       "    <tr>\n",
       "      <th>2</th>\n",
       "      <td>-0.773979</td>\n",
       "      <td>-0.208076</td>\n",
       "      <td>0.174573</td>\n",
       "    </tr>\n",
       "    <tr>\n",
       "      <th>3</th>\n",
       "      <td>1.907634</td>\n",
       "      <td>2.186758</td>\n",
       "      <td>3.022080</td>\n",
       "    </tr>\n",
       "    <tr>\n",
       "      <th>4</th>\n",
       "      <td>-0.642327</td>\n",
       "      <td>0.354942</td>\n",
       "      <td>0.833098</td>\n",
       "    </tr>\n",
       "    <tr>\n",
       "      <th>...</th>\n",
       "      <td>...</td>\n",
       "      <td>...</td>\n",
       "      <td>...</td>\n",
       "    </tr>\n",
       "    <tr>\n",
       "      <th>195</th>\n",
       "      <td>0.094264</td>\n",
       "      <td>0.557352</td>\n",
       "      <td>2.500823</td>\n",
       "    </tr>\n",
       "    <tr>\n",
       "      <th>196</th>\n",
       "      <td>0.591495</td>\n",
       "      <td>0.009174</td>\n",
       "      <td>1.581164</td>\n",
       "    </tr>\n",
       "    <tr>\n",
       "      <th>197</th>\n",
       "      <td>0.931319</td>\n",
       "      <td>0.894461</td>\n",
       "      <td>0.592521</td>\n",
       "    </tr>\n",
       "    <tr>\n",
       "      <th>198</th>\n",
       "      <td>-0.803304</td>\n",
       "      <td>1.603877</td>\n",
       "      <td>0.376878</td>\n",
       "    </tr>\n",
       "    <tr>\n",
       "      <th>199</th>\n",
       "      <td>2.036373</td>\n",
       "      <td>0.728574</td>\n",
       "      <td>0.680451</td>\n",
       "    </tr>\n",
       "  </tbody>\n",
       "</table>\n",
       "<p>200 rows × 3 columns</p>\n",
       "</div>"
      ],
      "text/plain": [
       "           w1        w2        w3\n",
       "0    0.804264 -0.279226  0.675103\n",
       "1   -0.498909 -0.191620  1.637611\n",
       "2   -0.773979 -0.208076  0.174573\n",
       "3    1.907634  2.186758  3.022080\n",
       "4   -0.642327  0.354942  0.833098\n",
       "..        ...       ...       ...\n",
       "195  0.094264  0.557352  2.500823\n",
       "196  0.591495  0.009174  1.581164\n",
       "197  0.931319  0.894461  0.592521\n",
       "198 -0.803304  1.603877  0.376878\n",
       "199  2.036373  0.728574  0.680451\n",
       "\n",
       "[200 rows x 3 columns]"
      ]
     },
     "execution_count": 2,
     "metadata": {},
     "output_type": "execute_result"
    }
   ],
   "source": [
    "df"
   ]
  },
  {
   "cell_type": "code",
   "execution_count": 3,
   "id": "b8b49101-c389-4b69-a755-514fec0d7b62",
   "metadata": {},
   "outputs": [],
   "source": [
    "w1 = df['w1']\n",
    "w2 = df['w2']\n",
    "w3 = df['w3']"
   ]
  },
  {
   "cell_type": "code",
   "execution_count": 6,
   "id": "b8c4f4f6-a1e7-427f-a9a4-52d5411b7cfb",
   "metadata": {},
   "outputs": [
    {
     "name": "stderr",
     "output_type": "stream",
     "text": [
      "100%|███████████████████████████████████| 50000/50000 [00:45<00:00, 1094.36it/s]"
     ]
    },
    {
     "name": "stdout",
     "output_type": "stream",
     "text": [
      "[1.96310122 1.95893695 1.95479208 ... 0.98401852 0.98401852 0.98401852]\n"
     ]
    },
    {
     "name": "stderr",
     "output_type": "stream",
     "text": [
      "\n"
     ]
    }
   ],
   "source": [
    "epochs = 50000\n",
    "learnRate = 0.001\n",
    "GDError = np.zeros(epochs)\n",
    "variables = np.zeros(3)\n",
    "for ep in tqdm(range(epochs)):\n",
    "    \n",
    "    grad0 = np.mean(w1*np.exp(w1*variables[0]+w2*variables[1])*(variables[2]-w3)**2)\n",
    "    grad1 = np.mean(w2*np.exp(w1*variables[0]+w2*variables[1])*(variables[2]-w3)**2)\n",
    "    grad2 = np.mean(2*np.exp(w1*variables[0]+w2*variables[1])*(variables[2]-w3))\n",
    "    grad = np.array([grad0,grad1,grad2])\n",
    "    \n",
    "    variables -= learnRate*grad\n",
    "    \n",
    "    GDError[ep] = np.mean(np.exp(w1*variables[0]+w2*variables[1])*(variables[2]-w3)**2)\n",
    "\n",
    "print(GDError[ep])"
   ]
  },
  {
   "cell_type": "code",
   "execution_count": 37,
   "id": "20e63d89-1e17-4a88-9735-962c0e539099",
   "metadata": {
    "tags": []
   },
   "outputs": [
    {
     "name": "stderr",
     "output_type": "stream",
     "text": [
      "100%|█████████████████████████████████████████| 100/100 [00:03<00:00, 26.18it/s]"
     ]
    },
    {
     "name": "stdout",
     "output_type": "stream",
     "text": [
      "0.985079280305462\n"
     ]
    },
    {
     "name": "stderr",
     "output_type": "stream",
     "text": [
      "\n"
     ]
    }
   ],
   "source": [
    "epochs = 100\n",
    "SGDError = np.zeros(epochs)\n",
    "variables = np.zeros(3)\n",
    "batches = 20\n",
    "ndata = df.shape[0]\n",
    "dat_per_bat = int(ndata/batches)\n",
    "np.random.seed(4382)\n",
    "for ep in tqdm(range(epochs)):\n",
    "    shuf = np.random.choice(range(ndata),size=ndata,replace=False)\n",
    "    for bat in range(batches):\n",
    "        this_bat = shuf[(bat*dat_per_bat):((bat+1)*dat_per_bat)]\n",
    "\n",
    "        grad0 = np.mean(w1[this_bat]*np.exp(w1[this_bat]*variables[0]+w2[this_bat]*variables[1])*(variables[2]-w3[this_bat])**2)\n",
    "        grad1 = np.mean(w2[this_bat]*np.exp(w1[this_bat]*variables[0]+w2[this_bat]*variables[1])*(variables[2]-w3[this_bat])**2)\n",
    "        grad2 = np.mean(2*np.exp(w1[this_bat]*variables[0]+w2[this_bat]*variables[1])*(variables[2]-w3[this_bat]))\n",
    "        grad = np.array([grad0,grad1,grad2])\n",
    "        variables -= learnRate*grad\n",
    "\n",
    "\n",
    "    SGDError[ep] = np.mean(np.exp(w1*variables[0]+w2*variables[1])*(variables[2]-w3)**2)\n",
    "print(SGDError[ep])"
   ]
  },
  {
   "cell_type": "code",
   "execution_count": 38,
   "id": "09cefd26-90e6-4095-b855-6bc51945e2a9",
   "metadata": {},
   "outputs": [
    {
     "name": "stderr",
     "output_type": "stream",
     "text": [
      "100%|█████████████████████████████████████████| 200/200 [00:07<00:00, 26.18it/s]\n"
     ]
    }
   ],
   "source": [
    "epochs = 200\n",
    "ADAMError = np.zeros(epochs)\n",
    "variables = np.zeros(3)\n",
    "theta1 = 0.9\n",
    "theta2 = 0.999\n",
    "e=1e-12\n",
    "k = 1\n",
    "m = np.zeros(3)\n",
    "v = np.zeros(3)\n",
    "np.random.seed(11492)\n",
    "for ep in tqdm(range(epochs)):\n",
    "    shuf = np.random.choice(range(ndata),size=ndata,replace=False)\n",
    "    for bat in range(batches):\n",
    "        this_bat = shuf[(bat*dat_per_bat):((bat+1)*dat_per_bat)]\n",
    "\n",
    "        grad0 = np.mean(w1[this_bat]*np.exp(w1[this_bat]*variables[0]+w2[this_bat]*variables[1])*(variables[2]-w3[this_bat])**2)\n",
    "        grad1 = np.mean(w2[this_bat]*np.exp(w1[this_bat]*variables[0]+w2[this_bat]*variables[1])*(variables[2]-w3[this_bat])**2)\n",
    "        grad2 = np.mean(2*np.exp(w1[this_bat]*variables[0]+w2[this_bat]*variables[1])*(variables[2]-w3[this_bat]))\n",
    "        grad = np.array([grad0,grad1,grad2])\n",
    "        \n",
    "        m = theta1*m + (1-theta1)*grad\n",
    "        mhat = m/(1-theta1**k)\n",
    "        \n",
    "        v = theta2*v + (1-theta2)*(grad**2)\n",
    "        vhat = v/(1-theta2**k)\n",
    "\n",
    "        variables -= learnRate*mhat/(np.sqrt(vhat)+e)\n",
    "        k += 1\n",
    "\n",
    "    ADAMError[ep] = np.mean(np.exp(w1*variables[0]+w2*variables[1])*(variables[2]-w3)**2)"
   ]
  },
  {
   "cell_type": "code",
   "execution_count": 39,
   "id": "6e16a0e4-e7c1-4ea2-8d81-8158e7bd4804",
   "metadata": {},
   "outputs": [
    {
     "data": {
      "text/plain": [
       "array([1.05195823, 1.04728925, 1.0436437 , 1.03964545, 1.0358162 ,\n",
       "       1.03253037, 1.02961906, 1.02613193, 1.02362722, 1.02131048,\n",
       "       1.01809273, 1.0162296 , 1.01372759, 1.01172131, 1.01007113,\n",
       "       1.00792355, 1.00646552, 1.00489021, 1.00357858, 1.0019698 ,\n",
       "       1.00082659, 0.99975189, 0.99842554, 0.99767614, 0.99652604,\n",
       "       0.99543104, 0.99457487, 0.99410139, 0.99332183, 0.99253086,\n",
       "       0.99209398, 0.99126907, 0.99099224, 0.9905247 , 0.98985879,\n",
       "       0.98934875, 0.98891093, 0.98866995, 0.98857643, 0.98812438,\n",
       "       0.98767599, 0.9874539 , 0.98729941, 0.98689715, 0.98686394,\n",
       "       0.98668621, 0.98642309, 0.98624556, 0.98607631, 0.98593409])"
      ]
     },
     "execution_count": 39,
     "metadata": {},
     "output_type": "execute_result"
    }
   ],
   "source": [
    "ADAMError[50:100]"
   ]
  },
  {
   "cell_type": "code",
   "execution_count": 40,
   "id": "efa5262b-c3ed-4b35-a9c3-9dec9f8c5869",
   "metadata": {},
   "outputs": [
    {
     "data": {
      "text/plain": [
       "array([0.9858368 , 0.98571428, 0.98567979, 0.9854519 , 0.9853697 ,\n",
       "       0.98536004, 0.98528416, 0.98514541, 0.98508709, 0.9850056 ,\n",
       "       0.98500382, 0.98489113, 0.98487169, 0.98475581, 0.9847505 ,\n",
       "       0.98469454, 0.98467715, 0.9846725 , 0.98464273, 0.98457372,\n",
       "       0.98451589, 0.98452444, 0.98451896, 0.98446733, 0.98444835,\n",
       "       0.9844429 , 0.98445084, 0.9844061 , 0.98436824, 0.984342  ,\n",
       "       0.98436628, 0.98433462, 0.98430038, 0.98427736, 0.98425244,\n",
       "       0.98427129, 0.98424889, 0.98426138, 0.98424492, 0.98421626,\n",
       "       0.98420772, 0.98422996, 0.9842023 , 0.98420467, 0.98418289,\n",
       "       0.98419841, 0.98417751, 0.98417185, 0.98415879, 0.98417756])"
      ]
     },
     "execution_count": 40,
     "metadata": {},
     "output_type": "execute_result"
    }
   ],
   "source": [
    "ADAMError[100:150]"
   ]
  },
  {
   "cell_type": "code",
   "execution_count": 41,
   "id": "13b1deca-d27d-4e7c-b969-2a3a60271551",
   "metadata": {},
   "outputs": [
    {
     "data": {
      "text/plain": [
       "array([0.98415081, 0.98413945, 0.98413629, 0.98413837, 0.98412327,\n",
       "       0.98413596, 0.98413131, 0.98412505, 0.9840969 , 0.98409057,\n",
       "       0.98409897, 0.98410382, 0.98410891, 0.98409689, 0.98409144,\n",
       "       0.98409143, 0.98409253, 0.98408524, 0.98408508, 0.98407833,\n",
       "       0.9840698 , 0.98407357, 0.98406584, 0.98407391, 0.98406685,\n",
       "       0.98406849, 0.98406798, 0.98406121, 0.98407435, 0.98405843,\n",
       "       0.98405381, 0.98406102, 0.9840568 , 0.98405019, 0.98405254,\n",
       "       0.98404926, 0.984048  , 0.98405391, 0.98405165, 0.98403983,\n",
       "       0.98404562, 0.9840389 , 0.98404238, 0.98405352, 0.98404157,\n",
       "       0.98403876, 0.98403924, 0.98403793, 0.98403118, 0.98403124])"
      ]
     },
     "execution_count": 41,
     "metadata": {},
     "output_type": "execute_result"
    }
   ],
   "source": [
    "ADAMError[150:200]"
   ]
  },
  {
   "cell_type": "code",
   "execution_count": 32,
   "id": "a7d2e400-6052-43ae-8f41-778a6d16a74d",
   "metadata": {},
   "outputs": [
    {
     "data": {
      "text/plain": [
       "0.9840187697581677"
      ]
     },
     "execution_count": 32,
     "metadata": {},
     "output_type": "execute_result"
    }
   ],
   "source": [
    "ADAMError[-1]"
   ]
  },
  {
   "cell_type": "code",
   "execution_count": null,
   "id": "919dc7fb-e3f8-4f67-8993-37d6ce9940a5",
   "metadata": {},
   "outputs": [],
   "source": []
  }
 ],
 "metadata": {
  "kernelspec": {
   "display_name": "Python 3",
   "language": "python",
   "name": "python3"
  },
  "language_info": {
   "codemirror_mode": {
    "name": "ipython",
    "version": 3
   },
   "file_extension": ".py",
   "mimetype": "text/x-python",
   "name": "python",
   "nbconvert_exporter": "python",
   "pygments_lexer": "ipython3",
   "version": "3.8.8"
  }
 },
 "nbformat": 4,
 "nbformat_minor": 5
}
