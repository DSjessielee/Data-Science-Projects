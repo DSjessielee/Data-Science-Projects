{
 "cells": [
  {
   "cell_type": "code",
   "execution_count": 4,
   "metadata": {},
   "outputs": [],
   "source": [
    "import numpy as np\n",
    "import matplotlib.pyplot as plt\n",
    "import gurobipy as gp\n",
    "import pandas as pd"
   ]
  },
  {
   "cell_type": "markdown",
   "metadata": {},
   "source": [
    "# Task 1,2,3,4"
   ]
  },
  {
   "cell_type": "markdown",
   "metadata": {},
   "source": [
    "# Load Data from CSV file"
   ]
  },
  {
   "cell_type": "code",
   "execution_count": 5,
   "metadata": {},
   "outputs": [
    {
     "data": {
      "text/html": [
       "<div>\n",
       "<style scoped>\n",
       "    .dataframe tbody tr th:only-of-type {\n",
       "        vertical-align: middle;\n",
       "    }\n",
       "\n",
       "    .dataframe tbody tr th {\n",
       "        vertical-align: top;\n",
       "    }\n",
       "\n",
       "    .dataframe thead th {\n",
       "        text-align: right;\n",
       "    }\n",
       "</style>\n",
       "<table border=\"1\" class=\"dataframe\">\n",
       "  <thead>\n",
       "    <tr style=\"text-align: right;\">\n",
       "      <th></th>\n",
       "      <th>Platform</th>\n",
       "      <th>Print</th>\n",
       "      <th>TV</th>\n",
       "      <th>SEO</th>\n",
       "      <th>AdWords</th>\n",
       "      <th>Facebook</th>\n",
       "      <th>LinkedIn</th>\n",
       "      <th>Instagram</th>\n",
       "      <th>Snapchat</th>\n",
       "      <th>Twitter</th>\n",
       "      <th>Email</th>\n",
       "    </tr>\n",
       "  </thead>\n",
       "  <tbody>\n",
       "    <tr>\n",
       "      <th>0</th>\n",
       "      <td>ROI</td>\n",
       "      <td>0.031</td>\n",
       "      <td>0.049</td>\n",
       "      <td>0.024</td>\n",
       "      <td>0.039</td>\n",
       "      <td>0.016</td>\n",
       "      <td>0.024</td>\n",
       "      <td>0.046</td>\n",
       "      <td>0.026</td>\n",
       "      <td>0.033</td>\n",
       "      <td>0.044</td>\n",
       "    </tr>\n",
       "    <tr>\n",
       "      <th>1</th>\n",
       "      <td>Second Firms ROI Estimate</td>\n",
       "      <td>0.049</td>\n",
       "      <td>0.023</td>\n",
       "      <td>0.024</td>\n",
       "      <td>0.039</td>\n",
       "      <td>0.044</td>\n",
       "      <td>0.046</td>\n",
       "      <td>0.026</td>\n",
       "      <td>0.019</td>\n",
       "      <td>0.037</td>\n",
       "      <td>0.026</td>\n",
       "    </tr>\n",
       "  </tbody>\n",
       "</table>\n",
       "</div>"
      ],
      "text/plain": [
       "                    Platform  Print     TV    SEO  AdWords  Facebook  \\\n",
       "0                        ROI  0.031  0.049  0.024    0.039     0.016   \n",
       "1  Second Firms ROI Estimate  0.049  0.023  0.024    0.039     0.044   \n",
       "\n",
       "   LinkedIn  Instagram  Snapchat  Twitter  Email  \n",
       "0     0.024      0.046     0.026    0.033  0.044  \n",
       "1     0.046      0.026     0.019    0.037  0.026  "
      ]
     },
     "execution_count": 5,
     "metadata": {},
     "output_type": "execute_result"
    }
   ],
   "source": [
    "target=pd.read_csv('ROI_data.csv')\n",
    "target"
   ]
  },
  {
   "cell_type": "markdown",
   "metadata": {},
   "source": [
    "# Get all of the medium names"
   ]
  },
  {
   "cell_type": "code",
   "execution_count": 6,
   "metadata": {},
   "outputs": [
    {
     "data": {
      "text/html": [
       "<div>\n",
       "<style scoped>\n",
       "    .dataframe tbody tr th:only-of-type {\n",
       "        vertical-align: middle;\n",
       "    }\n",
       "\n",
       "    .dataframe tbody tr th {\n",
       "        vertical-align: top;\n",
       "    }\n",
       "\n",
       "    .dataframe thead th {\n",
       "        text-align: right;\n",
       "    }\n",
       "</style>\n",
       "<table border=\"1\" class=\"dataframe\">\n",
       "  <thead>\n",
       "    <tr style=\"text-align: right;\">\n",
       "      <th></th>\n",
       "      <th>1</th>\n",
       "      <th>2</th>\n",
       "      <th>3</th>\n",
       "      <th>4</th>\n",
       "      <th>5</th>\n",
       "      <th>6</th>\n",
       "      <th>7</th>\n",
       "      <th>8</th>\n",
       "      <th>9</th>\n",
       "      <th>10</th>\n",
       "    </tr>\n",
       "  </thead>\n",
       "  <tbody>\n",
       "    <tr>\n",
       "      <th>medium</th>\n",
       "      <td>Print</td>\n",
       "      <td>TV</td>\n",
       "      <td>SEO</td>\n",
       "      <td>AdWords</td>\n",
       "      <td>Facebook</td>\n",
       "      <td>LinkedIn</td>\n",
       "      <td>Instagram</td>\n",
       "      <td>Snapchat</td>\n",
       "      <td>Twitter</td>\n",
       "      <td>Email</td>\n",
       "    </tr>\n",
       "  </tbody>\n",
       "</table>\n",
       "</div>"
      ],
      "text/plain": [
       "           1   2    3        4         5         6          7         8   \\\n",
       "medium  Print  TV  SEO  AdWords  Facebook  LinkedIn  Instagram  Snapchat   \n",
       "\n",
       "             9      10  \n",
       "medium  Twitter  Email  "
      ]
     },
     "execution_count": 6,
     "metadata": {},
     "output_type": "execute_result"
    }
   ],
   "source": [
    "target_index=pd.DataFrame(target.columns).iloc[1:,:]\n",
    "target_index.columns=['medium']\n",
    "target_index.T"
   ]
  },
  {
   "cell_type": "markdown",
   "metadata": {},
   "source": [
    "# Define 2 ROI scenarios as objectives to maximize"
   ]
  },
  {
   "cell_type": "code",
   "execution_count": 7,
   "metadata": {},
   "outputs": [],
   "source": [
    "obj1 = np.array(target.iloc[0,1:].values.astype('float')) # objective vector for allocation 1\n",
    "obj2 = np.array(target.iloc[1,1:].values.astype('float')) # objective vector for allocation 2"
   ]
  },
  {
   "cell_type": "code",
   "execution_count": 9,
   "metadata": {},
   "outputs": [
    {
     "data": {
      "text/plain": [
       "array([0.049, 0.023, 0.024, 0.039, 0.044, 0.046, 0.026, 0.019, 0.037,\n",
       "       0.026])"
      ]
     },
     "execution_count": 9,
     "metadata": {},
     "output_type": "execute_result"
    }
   ],
   "source": [
    "obj2"
   ]
  },
  {
   "cell_type": "code",
   "execution_count": 36,
   "metadata": {},
   "outputs": [
    {
     "data": {
      "text/html": [
       "<div>\n",
       "<style scoped>\n",
       "    .dataframe tbody tr th:only-of-type {\n",
       "        vertical-align: middle;\n",
       "    }\n",
       "\n",
       "    .dataframe tbody tr th {\n",
       "        vertical-align: top;\n",
       "    }\n",
       "\n",
       "    .dataframe thead th {\n",
       "        text-align: right;\n",
       "    }\n",
       "</style>\n",
       "<table border=\"1\" class=\"dataframe\">\n",
       "  <thead>\n",
       "    <tr style=\"text-align: right;\">\n",
       "      <th></th>\n",
       "      <th>1</th>\n",
       "      <th>2</th>\n",
       "      <th>3</th>\n",
       "      <th>4</th>\n",
       "      <th>5</th>\n",
       "      <th>6</th>\n",
       "      <th>7</th>\n",
       "      <th>8</th>\n",
       "      <th>9</th>\n",
       "      <th>10</th>\n",
       "    </tr>\n",
       "  </thead>\n",
       "  <tbody>\n",
       "    <tr>\n",
       "      <th>medium</th>\n",
       "      <td>Print</td>\n",
       "      <td>TV</td>\n",
       "      <td>SEO</td>\n",
       "      <td>AdWords</td>\n",
       "      <td>Facebook</td>\n",
       "      <td>LinkedIn</td>\n",
       "      <td>Instagram</td>\n",
       "      <td>Snapchat</td>\n",
       "      <td>Twitter</td>\n",
       "      <td>Email</td>\n",
       "    </tr>\n",
       "  </tbody>\n",
       "</table>\n",
       "</div>"
      ],
      "text/plain": [
       "           1   2    3        4         5         6          7         8   \\\n",
       "medium  Print  TV  SEO  AdWords  Facebook  LinkedIn  Instagram  Snapchat   \n",
       "\n",
       "             9      10  \n",
       "medium  Twitter  Email  "
      ]
     },
     "execution_count": 36,
     "metadata": {},
     "output_type": "execute_result"
    }
   ],
   "source": [
    "#Reference here\n",
    "target_index.T"
   ]
  },
  {
   "cell_type": "code",
   "execution_count": 10,
   "metadata": {},
   "outputs": [],
   "source": [
    "# Constrains: \n",
    "    \n",
    "A = np.zeros((13,10)) # initialize constraint matrix\n",
    "\n",
    "A[0,:] = [1,1,0,0,-1,0,0,0,0,-1]  # print and TV no more than Facebook and Email\n",
    "A[1,:] = [0,0,2,2,-1,-1,-1,-1,-1,0]  # Facebook, LinkedIn, Instagram, Snapchat, and Twitter > 2X (SEO+AdWords)\n",
    "A[2:12,:] = np.identity(10)  # each platform <3\n",
    "A[12,:] = [1,1,1,1,1,1,1,1,1,1] # total <10\n",
    "b = np.array([0.,0.,3.,3.,3.,3.,3.,3.,3.,3.,3.,3.,10.]) # constrains\n",
    "sense = np.array(['<']*13) # all constraints are less than or equal constraints"
   ]
  },
  {
   "cell_type": "markdown",
   "metadata": {},
   "source": [
    "# Run model for ROI case #1 as Base Case"
   ]
  },
  {
   "cell_type": "code",
   "execution_count": 12,
   "metadata": {},
   "outputs": [
    {
     "name": "stdout",
     "output_type": "stream",
     "text": [
      "Restricted license - for non-production use only - expires 2022-01-13\n"
     ]
    }
   ],
   "source": [
    "\n",
    "ojModel = gp.Model() # initialize an empty model\n",
    "\n",
    "ojModX = ojModel.addMVar(10) # tell the model how many variables there are\n",
    "# must define the variables before adding constraints because variables go into the constraints\n",
    "ojModCon = ojModel.addMConstrs(A, ojModX, sense, b) # add the constraints to the model\n",
    "ojModel.setMObjective(None,obj1,0,sense=gp.GRB.MAXIMIZE) # add the objective to the model\n",
    "ojModel.Params.OutputFlag = 0 # tell gurobi to shut up!!\n",
    "ojModel.optimize() # solve the LP\n",
    "x1=ojModX.x\n",
    "y1=ojModel.objVal # optimal ROI"
   ]
  },
  {
   "cell_type": "markdown",
   "metadata": {},
   "source": [
    "# Run model for ROI case #2 for Second Firms ROI Estimate"
   ]
  },
  {
   "cell_type": "code",
   "execution_count": 13,
   "metadata": {},
   "outputs": [],
   "source": [
    "\n",
    "ojModel = gp.Model() # initialize an empty model\n",
    "\n",
    "ojModX = ojModel.addMVar(10) # tell the model how many variables there are\n",
    "# must define the variables before adding constraints because variables go into the constraints\n",
    "ojModCon = ojModel.addMConstrs(A, ojModX, sense, b) # add the constraints to the model\n",
    "ojModel.setMObjective(None,obj2,0,sense=gp.GRB.MAXIMIZE) # add the objective to the model\n",
    "ojModel.Params.OutputFlag = 0 # tell gurobi to shut up!!\n",
    "ojModel.optimize() # solve the LP\n",
    "x2=ojModX.x\n",
    "y2=ojModel.objVal # optimal ROI"
   ]
  },
  {
   "cell_type": "markdown",
   "metadata": {},
   "source": [
    "# Generate summary table to compare funds allocations for the 2 ROI cases"
   ]
  },
  {
   "cell_type": "code",
   "execution_count": 14,
   "metadata": {},
   "outputs": [
    {
     "data": {
      "text/html": [
       "<div>\n",
       "<style scoped>\n",
       "    .dataframe tbody tr th:only-of-type {\n",
       "        vertical-align: middle;\n",
       "    }\n",
       "\n",
       "    .dataframe tbody tr th {\n",
       "        vertical-align: top;\n",
       "    }\n",
       "\n",
       "    .dataframe thead th {\n",
       "        text-align: right;\n",
       "    }\n",
       "</style>\n",
       "<table border=\"1\" class=\"dataframe\">\n",
       "  <thead>\n",
       "    <tr style=\"text-align: right;\">\n",
       "      <th></th>\n",
       "      <th>platform</th>\n",
       "      <th>amount_allo_1</th>\n",
       "      <th>amount_allo_2</th>\n",
       "    </tr>\n",
       "  </thead>\n",
       "  <tbody>\n",
       "    <tr>\n",
       "      <th>1</th>\n",
       "      <td>Print</td>\n",
       "      <td>0.0</td>\n",
       "      <td>3.0</td>\n",
       "    </tr>\n",
       "    <tr>\n",
       "      <th>2</th>\n",
       "      <td>TV</td>\n",
       "      <td>3.0</td>\n",
       "      <td>0.0</td>\n",
       "    </tr>\n",
       "    <tr>\n",
       "      <th>3</th>\n",
       "      <td>SEO</td>\n",
       "      <td>0.0</td>\n",
       "      <td>0.0</td>\n",
       "    </tr>\n",
       "    <tr>\n",
       "      <th>4</th>\n",
       "      <td>AdWords</td>\n",
       "      <td>1.0</td>\n",
       "      <td>1.0</td>\n",
       "    </tr>\n",
       "    <tr>\n",
       "      <th>5</th>\n",
       "      <td>Facebook</td>\n",
       "      <td>0.0</td>\n",
       "      <td>3.0</td>\n",
       "    </tr>\n",
       "    <tr>\n",
       "      <th>6</th>\n",
       "      <td>LinkedIn</td>\n",
       "      <td>0.0</td>\n",
       "      <td>3.0</td>\n",
       "    </tr>\n",
       "    <tr>\n",
       "      <th>7</th>\n",
       "      <td>Instagram</td>\n",
       "      <td>3.0</td>\n",
       "      <td>0.0</td>\n",
       "    </tr>\n",
       "    <tr>\n",
       "      <th>8</th>\n",
       "      <td>Snapchat</td>\n",
       "      <td>0.0</td>\n",
       "      <td>0.0</td>\n",
       "    </tr>\n",
       "    <tr>\n",
       "      <th>9</th>\n",
       "      <td>Twitter</td>\n",
       "      <td>0.0</td>\n",
       "      <td>0.0</td>\n",
       "    </tr>\n",
       "    <tr>\n",
       "      <th>10</th>\n",
       "      <td>Email</td>\n",
       "      <td>3.0</td>\n",
       "      <td>0.0</td>\n",
       "    </tr>\n",
       "  </tbody>\n",
       "</table>\n",
       "</div>"
      ],
      "text/plain": [
       "     platform  amount_allo_1  amount_allo_2\n",
       "1       Print            0.0            3.0\n",
       "2          TV            3.0            0.0\n",
       "3         SEO            0.0            0.0\n",
       "4     AdWords            1.0            1.0\n",
       "5    Facebook            0.0            3.0\n",
       "6    LinkedIn            0.0            3.0\n",
       "7   Instagram            3.0            0.0\n",
       "8    Snapchat            0.0            0.0\n",
       "9     Twitter            0.0            0.0\n",
       "10      Email            3.0            0.0"
      ]
     },
     "execution_count": 14,
     "metadata": {},
     "output_type": "execute_result"
    }
   ],
   "source": [
    "allo=target_index\n",
    "allo['amount_allo_1']=np.round(x1,2)\n",
    "allo['amount_allo_2']=np.round(x2,2)\n",
    "allo.columns=['platform','amount_allo_1','amount_allo_2']\n",
    "allo"
   ]
  },
  {
   "cell_type": "markdown",
   "metadata": {},
   "source": [
    "# 5"
   ]
  },
  {
   "cell_type": "markdown",
   "metadata": {},
   "source": [
    "**Are the allocations the same?**"
   ]
  },
  {
   "cell_type": "markdown",
   "metadata": {},
   "source": [
    "# As we can see from the table below, the allocation is very difference for Print, TV, Facebook, LinkedIn, Instagram, and Email between the 2 cases. However, SEO, AdWords, SnapChat and Twitter, the allocations are the same."
   ]
  },
  {
   "cell_type": "code",
   "execution_count": 41,
   "metadata": {},
   "outputs": [
    {
     "data": {
      "text/html": [
       "<div>\n",
       "<style scoped>\n",
       "    .dataframe tbody tr th:only-of-type {\n",
       "        vertical-align: middle;\n",
       "    }\n",
       "\n",
       "    .dataframe tbody tr th {\n",
       "        vertical-align: top;\n",
       "    }\n",
       "\n",
       "    .dataframe thead th {\n",
       "        text-align: right;\n",
       "    }\n",
       "</style>\n",
       "<table border=\"1\" class=\"dataframe\">\n",
       "  <thead>\n",
       "    <tr style=\"text-align: right;\">\n",
       "      <th></th>\n",
       "      <th>platform</th>\n",
       "      <th>amount_allo_1</th>\n",
       "      <th>amount_allo_2</th>\n",
       "    </tr>\n",
       "  </thead>\n",
       "  <tbody>\n",
       "    <tr>\n",
       "      <th>1</th>\n",
       "      <td>Print</td>\n",
       "      <td>0.0</td>\n",
       "      <td>3.0</td>\n",
       "    </tr>\n",
       "    <tr>\n",
       "      <th>2</th>\n",
       "      <td>TV</td>\n",
       "      <td>3.0</td>\n",
       "      <td>0.0</td>\n",
       "    </tr>\n",
       "    <tr>\n",
       "      <th>3</th>\n",
       "      <td>SEO</td>\n",
       "      <td>0.0</td>\n",
       "      <td>0.0</td>\n",
       "    </tr>\n",
       "    <tr>\n",
       "      <th>4</th>\n",
       "      <td>AdWords</td>\n",
       "      <td>1.0</td>\n",
       "      <td>1.0</td>\n",
       "    </tr>\n",
       "    <tr>\n",
       "      <th>5</th>\n",
       "      <td>Facebook</td>\n",
       "      <td>0.0</td>\n",
       "      <td>3.0</td>\n",
       "    </tr>\n",
       "    <tr>\n",
       "      <th>6</th>\n",
       "      <td>LinkedIn</td>\n",
       "      <td>0.0</td>\n",
       "      <td>3.0</td>\n",
       "    </tr>\n",
       "    <tr>\n",
       "      <th>7</th>\n",
       "      <td>Instagram</td>\n",
       "      <td>3.0</td>\n",
       "      <td>0.0</td>\n",
       "    </tr>\n",
       "    <tr>\n",
       "      <th>8</th>\n",
       "      <td>Snapchat</td>\n",
       "      <td>0.0</td>\n",
       "      <td>0.0</td>\n",
       "    </tr>\n",
       "    <tr>\n",
       "      <th>9</th>\n",
       "      <td>Twitter</td>\n",
       "      <td>0.0</td>\n",
       "      <td>0.0</td>\n",
       "    </tr>\n",
       "    <tr>\n",
       "      <th>10</th>\n",
       "      <td>Email</td>\n",
       "      <td>3.0</td>\n",
       "      <td>0.0</td>\n",
       "    </tr>\n",
       "  </tbody>\n",
       "</table>\n",
       "</div>"
      ],
      "text/plain": [
       "     platform  amount_allo_1  amount_allo_2\n",
       "1       Print            0.0            3.0\n",
       "2          TV            3.0            0.0\n",
       "3         SEO            0.0            0.0\n",
       "4     AdWords            1.0            1.0\n",
       "5    Facebook            0.0            3.0\n",
       "6    LinkedIn            0.0            3.0\n",
       "7   Instagram            3.0            0.0\n",
       "8    Snapchat            0.0            0.0\n",
       "9     Twitter            0.0            0.0\n",
       "10      Email            3.0            0.0"
      ]
     },
     "execution_count": 41,
     "metadata": {},
     "output_type": "execute_result"
    }
   ],
   "source": [
    "allo"
   ]
  },
  {
   "cell_type": "markdown",
   "metadata": {},
   "source": [
    "**Assuming the first ROI data is correct, if you were to use the second allocation (the allocation that assumed the second ROI data was correct) how much lower would the objective be relative to the optimal objective (the one that uses the first ROI data and the first allocation)?  Assuming the second ROI data is correct, if you used the first allocation how much lower would the objective be relative to the optimal objective?  Do you think the third constraint above, based on your boss’ experience, is useful?**"
   ]
  },
  {
   "cell_type": "code",
   "execution_count": 42,
   "metadata": {},
   "outputs": [
    {
     "name": "stdout",
     "output_type": "stream",
     "text": [
      "Assume ROI 1 is correct:\n",
      "Allocation 1 would have a return of 0.456.\n",
      "while allocationi 2 would have a return of 0.252.\n",
      "So we would have $0.204million lower ROI by mistakenly use allocation 2.\n"
     ]
    }
   ],
   "source": [
    "print('Assume ROI 1 is correct:')\n",
    "print('Allocation 1 would have a return of {}.'.format(round(y1,3)))\n",
    "print('while allocationi 2 would have a return of {}.'.format(x2@obj1.T))\n",
    "print('So we would have ${}million lower ROI by mistakenly use allocation 2.'.format(round((y1-x2@obj1.T),3)))"
   ]
  },
  {
   "cell_type": "code",
   "execution_count": 43,
   "metadata": {},
   "outputs": [
    {
     "name": "stdout",
     "output_type": "stream",
     "text": [
      "Assume ROI 2 is correct:\n",
      "Allocation 2 would have a return of 0.456\n",
      "while allocation 1 would have a return of 0.264\n",
      "So we would have $0.192million lower ROI by mistakenly use allocation 1\n"
     ]
    }
   ],
   "source": [
    "print('Assume ROI 2 is correct:')\n",
    "print('Allocation 2 would have a return of {}'.format(round(y2,3)))\n",
    "print('while allocation 1 would have a return of {}'.format(round(x1@obj2.T,3)))\n",
    "print('So we would have ${}million lower ROI by mistakenly use allocation 1'.format(round((y2-x1@obj2.T),3)))"
   ]
  },
  {
   "cell_type": "markdown",
   "metadata": {},
   "source": [
    "**Do you think the third constraint above, based on your boss’ experience, is useful?**"
   ]
  },
  {
   "cell_type": "markdown",
   "metadata": {},
   "source": [
    "# Let's try to change the cap funds for each funds. We tried to increase the allocation cap from 1 to 10 Million dollars."
   ]
  },
  {
   "cell_type": "code",
   "execution_count": 15,
   "metadata": {},
   "outputs": [],
   "source": [
    "   \n",
    "A = np.zeros((13,10)) # initialize constraint matrix\n",
    "A[0,:] = [1,1,0,0,-1,0,0,0,0,-1]  # print and TV no more than Facebook and Email\n",
    "A[1,:] = [0,0,2,2,-1,-1,-1,-1,-1,0]  # Facebook, LinkedIn, Instagram, Snapchat, and Twitter > 2X (SEO+AdWords)\n",
    "A[2:12,:] = np.identity(10)  # each platform <3\n",
    "A[12,:] = [1,1,1,1,1,1,1,1,1,1] # total <10\n",
    "b = np.array([0.,0.,3.,3.,3.,3.,3.,3.,3.,3.,3.,3.,10.]) # constrains\n",
    "allo_change=[]\n",
    "target_change=[]\n",
    "counter=[]\n",
    "for i in range(1,11,1):  # try to increase fund cap from $1 to 10 Million\n",
    "    for j in range(2,12,1):  # make sure caps for all funds are set to change \n",
    "        b[j]=i\n",
    "    sense = np.array(['<']*13) # all constraints are less than or equal constraints\n",
    "    ojModel = gp.Model() # initialize an empty model\n",
    "    ojModX = ojModel.addMVar(10) # tell the model how many variables there are\n",
    "    # must define the variables before adding constraints because variables go into the constraints\n",
    "    ojModCon = ojModel.addMConstrs(A, ojModX, sense, b) # add the constraints to the model\n",
    "    ojModel.setMObjective(None,obj1,0,sense=gp.GRB.MAXIMIZE) # add the objective to the model\n",
    "    ojModel.Params.OutputFlag = 0 # tell gurobi to shut up!!\n",
    "    ojModel.optimize() # solve the LP\n",
    "    counter.append(i)\n",
    "    allo_change.append(ojModX.x)\n",
    "    target_change.append(ojModel.objVal) # optimal ROI"
   ]
  },
  {
   "cell_type": "markdown",
   "metadata": {},
   "source": [
    "# As we can see fro the table below, as we increase the cap for each medium, the funds allocation would change. As the cap increases to 5 and up, all funds for ads goes to TV and Email to generate max return."
   ]
  },
  {
   "cell_type": "code",
   "execution_count": 16,
   "metadata": {},
   "outputs": [
    {
     "data": {
      "text/html": [
       "<div>\n",
       "<style scoped>\n",
       "    .dataframe tbody tr th:only-of-type {\n",
       "        vertical-align: middle;\n",
       "    }\n",
       "\n",
       "    .dataframe tbody tr th {\n",
       "        vertical-align: top;\n",
       "    }\n",
       "\n",
       "    .dataframe thead th {\n",
       "        text-align: right;\n",
       "    }\n",
       "</style>\n",
       "<table border=\"1\" class=\"dataframe\">\n",
       "  <thead>\n",
       "    <tr style=\"text-align: right;\">\n",
       "      <th>platform</th>\n",
       "      <th>Print</th>\n",
       "      <th>TV</th>\n",
       "      <th>SEO</th>\n",
       "      <th>AdWords</th>\n",
       "      <th>Facebook</th>\n",
       "      <th>LinkedIn</th>\n",
       "      <th>Instagram</th>\n",
       "      <th>Snapchat</th>\n",
       "      <th>Twitter</th>\n",
       "      <th>Email</th>\n",
       "    </tr>\n",
       "    <tr>\n",
       "      <th>max for each medium in $M</th>\n",
       "      <th></th>\n",
       "      <th></th>\n",
       "      <th></th>\n",
       "      <th></th>\n",
       "      <th></th>\n",
       "      <th></th>\n",
       "      <th></th>\n",
       "      <th></th>\n",
       "      <th></th>\n",
       "      <th></th>\n",
       "    </tr>\n",
       "  </thead>\n",
       "  <tbody>\n",
       "    <tr>\n",
       "      <th>1</th>\n",
       "      <td>1.0</td>\n",
       "      <td>1.0</td>\n",
       "      <td>1.0</td>\n",
       "      <td>1.0</td>\n",
       "      <td>1.0</td>\n",
       "      <td>1.0</td>\n",
       "      <td>1.0</td>\n",
       "      <td>1.0</td>\n",
       "      <td>1.0</td>\n",
       "      <td>1.0</td>\n",
       "    </tr>\n",
       "    <tr>\n",
       "      <th>2</th>\n",
       "      <td>0.0</td>\n",
       "      <td>2.0</td>\n",
       "      <td>0.0</td>\n",
       "      <td>2.0</td>\n",
       "      <td>0.0</td>\n",
       "      <td>0.0</td>\n",
       "      <td>2.0</td>\n",
       "      <td>0.0</td>\n",
       "      <td>2.0</td>\n",
       "      <td>2.0</td>\n",
       "    </tr>\n",
       "    <tr>\n",
       "      <th>3</th>\n",
       "      <td>0.0</td>\n",
       "      <td>3.0</td>\n",
       "      <td>0.0</td>\n",
       "      <td>1.0</td>\n",
       "      <td>0.0</td>\n",
       "      <td>0.0</td>\n",
       "      <td>3.0</td>\n",
       "      <td>0.0</td>\n",
       "      <td>0.0</td>\n",
       "      <td>3.0</td>\n",
       "    </tr>\n",
       "    <tr>\n",
       "      <th>4</th>\n",
       "      <td>0.0</td>\n",
       "      <td>4.0</td>\n",
       "      <td>0.0</td>\n",
       "      <td>0.0</td>\n",
       "      <td>0.0</td>\n",
       "      <td>0.0</td>\n",
       "      <td>2.0</td>\n",
       "      <td>0.0</td>\n",
       "      <td>0.0</td>\n",
       "      <td>4.0</td>\n",
       "    </tr>\n",
       "    <tr>\n",
       "      <th>5</th>\n",
       "      <td>0.0</td>\n",
       "      <td>5.0</td>\n",
       "      <td>0.0</td>\n",
       "      <td>0.0</td>\n",
       "      <td>0.0</td>\n",
       "      <td>0.0</td>\n",
       "      <td>0.0</td>\n",
       "      <td>0.0</td>\n",
       "      <td>0.0</td>\n",
       "      <td>5.0</td>\n",
       "    </tr>\n",
       "    <tr>\n",
       "      <th>6</th>\n",
       "      <td>0.0</td>\n",
       "      <td>5.0</td>\n",
       "      <td>0.0</td>\n",
       "      <td>0.0</td>\n",
       "      <td>0.0</td>\n",
       "      <td>0.0</td>\n",
       "      <td>0.0</td>\n",
       "      <td>0.0</td>\n",
       "      <td>0.0</td>\n",
       "      <td>5.0</td>\n",
       "    </tr>\n",
       "    <tr>\n",
       "      <th>7</th>\n",
       "      <td>0.0</td>\n",
       "      <td>5.0</td>\n",
       "      <td>0.0</td>\n",
       "      <td>0.0</td>\n",
       "      <td>0.0</td>\n",
       "      <td>0.0</td>\n",
       "      <td>0.0</td>\n",
       "      <td>0.0</td>\n",
       "      <td>0.0</td>\n",
       "      <td>5.0</td>\n",
       "    </tr>\n",
       "    <tr>\n",
       "      <th>8</th>\n",
       "      <td>0.0</td>\n",
       "      <td>5.0</td>\n",
       "      <td>0.0</td>\n",
       "      <td>0.0</td>\n",
       "      <td>0.0</td>\n",
       "      <td>0.0</td>\n",
       "      <td>0.0</td>\n",
       "      <td>0.0</td>\n",
       "      <td>0.0</td>\n",
       "      <td>5.0</td>\n",
       "    </tr>\n",
       "    <tr>\n",
       "      <th>9</th>\n",
       "      <td>0.0</td>\n",
       "      <td>5.0</td>\n",
       "      <td>0.0</td>\n",
       "      <td>0.0</td>\n",
       "      <td>0.0</td>\n",
       "      <td>0.0</td>\n",
       "      <td>0.0</td>\n",
       "      <td>0.0</td>\n",
       "      <td>0.0</td>\n",
       "      <td>5.0</td>\n",
       "    </tr>\n",
       "    <tr>\n",
       "      <th>10</th>\n",
       "      <td>0.0</td>\n",
       "      <td>5.0</td>\n",
       "      <td>0.0</td>\n",
       "      <td>0.0</td>\n",
       "      <td>0.0</td>\n",
       "      <td>0.0</td>\n",
       "      <td>0.0</td>\n",
       "      <td>0.0</td>\n",
       "      <td>0.0</td>\n",
       "      <td>5.0</td>\n",
       "    </tr>\n",
       "  </tbody>\n",
       "</table>\n",
       "</div>"
      ],
      "text/plain": [
       "platform                   Print   TV  SEO  AdWords  Facebook  LinkedIn  \\\n",
       "max for each medium in $M                                                 \n",
       "1                            1.0  1.0  1.0      1.0       1.0       1.0   \n",
       "2                            0.0  2.0  0.0      2.0       0.0       0.0   \n",
       "3                            0.0  3.0  0.0      1.0       0.0       0.0   \n",
       "4                            0.0  4.0  0.0      0.0       0.0       0.0   \n",
       "5                            0.0  5.0  0.0      0.0       0.0       0.0   \n",
       "6                            0.0  5.0  0.0      0.0       0.0       0.0   \n",
       "7                            0.0  5.0  0.0      0.0       0.0       0.0   \n",
       "8                            0.0  5.0  0.0      0.0       0.0       0.0   \n",
       "9                            0.0  5.0  0.0      0.0       0.0       0.0   \n",
       "10                           0.0  5.0  0.0      0.0       0.0       0.0   \n",
       "\n",
       "platform                   Instagram  Snapchat  Twitter  Email  \n",
       "max for each medium in $M                                       \n",
       "1                                1.0       1.0      1.0    1.0  \n",
       "2                                2.0       0.0      2.0    2.0  \n",
       "3                                3.0       0.0      0.0    3.0  \n",
       "4                                2.0       0.0      0.0    4.0  \n",
       "5                                0.0       0.0      0.0    5.0  \n",
       "6                                0.0       0.0      0.0    5.0  \n",
       "7                                0.0       0.0      0.0    5.0  \n",
       "8                                0.0       0.0      0.0    5.0  \n",
       "9                                0.0       0.0      0.0    5.0  \n",
       "10                               0.0       0.0      0.0    5.0  "
      ]
     },
     "execution_count": 16,
     "metadata": {},
     "output_type": "execute_result"
    }
   ],
   "source": [
    "allo_change=pd.DataFrame(allo_change)\n",
    "allo_change.index=counter\n",
    "allo_change.columns=target_index['platform']\n",
    "allo_change.index.names=['max for each medium in $M']\n",
    "allo_change"
   ]
  },
  {
   "cell_type": "markdown",
   "metadata": {},
   "source": [
    "# 6"
   ]
  },
  {
   "cell_type": "markdown",
   "metadata": {},
   "source": [
    "**6)\tTo explore this further perform some analysis of how your optimal allocation would change based on changes in the ROI data.  Use the first ROI data as your starting point.  By how much could each advertising medium’s ROI increase or decrease and still result in the same optimal allocation you found in step (3)?**"
   ]
  },
  {
   "cell_type": "markdown",
   "metadata": {},
   "source": [
    "# Let's start from the first objective"
   ]
  },
  {
   "cell_type": "code",
   "execution_count": 46,
   "metadata": {},
   "outputs": [],
   "source": [
    "obj1 = np.array(target.iloc[0,1:].values.astype('float')) # objective vector for allocation 1"
   ]
  },
  {
   "cell_type": "code",
   "execution_count": 47,
   "metadata": {},
   "outputs": [
    {
     "data": {
      "text/plain": [
       "array([0.031, 0.049, 0.024, 0.039, 0.016, 0.024, 0.046, 0.026, 0.033,\n",
       "       0.044])"
      ]
     },
     "execution_count": 47,
     "metadata": {},
     "output_type": "execute_result"
    }
   ],
   "source": [
    "obj1"
   ]
  },
  {
   "cell_type": "markdown",
   "metadata": {},
   "source": [
    "# Here is the fund allocation"
   ]
  },
  {
   "cell_type": "code",
   "execution_count": 48,
   "metadata": {},
   "outputs": [
    {
     "name": "stdout",
     "output_type": "stream",
     "text": [
      "[0.031 0.049 0.024 0.039 0.016 0.024 0.046 0.026 0.033 0.044]\n",
      "[0. 3. 0. 1. 0. 0. 3. 0. 0. 3.]\n"
     ]
    }
   ],
   "source": [
    "obj1 = np.array(target.iloc[0,1:].values.astype('float')) # objective vector for allocation 1\n",
    "print(obj1)\n",
    "print(x1)"
   ]
  },
  {
   "cell_type": "code",
   "execution_count": 49,
   "metadata": {},
   "outputs": [
    {
     "data": {
      "text/html": [
       "<div>\n",
       "<style scoped>\n",
       "    .dataframe tbody tr th:only-of-type {\n",
       "        vertical-align: middle;\n",
       "    }\n",
       "\n",
       "    .dataframe tbody tr th {\n",
       "        vertical-align: top;\n",
       "    }\n",
       "\n",
       "    .dataframe thead th {\n",
       "        text-align: right;\n",
       "    }\n",
       "</style>\n",
       "<table border=\"1\" class=\"dataframe\">\n",
       "  <thead>\n",
       "    <tr style=\"text-align: right;\">\n",
       "      <th></th>\n",
       "      <th>platform</th>\n",
       "      <th>ROI</th>\n",
       "      <th>amount_allo_1</th>\n",
       "    </tr>\n",
       "  </thead>\n",
       "  <tbody>\n",
       "    <tr>\n",
       "      <th>1</th>\n",
       "      <td>Print</td>\n",
       "      <td>0.031</td>\n",
       "      <td>0.0</td>\n",
       "    </tr>\n",
       "    <tr>\n",
       "      <th>2</th>\n",
       "      <td>TV</td>\n",
       "      <td>0.049</td>\n",
       "      <td>3.0</td>\n",
       "    </tr>\n",
       "    <tr>\n",
       "      <th>3</th>\n",
       "      <td>SEO</td>\n",
       "      <td>0.024</td>\n",
       "      <td>0.0</td>\n",
       "    </tr>\n",
       "    <tr>\n",
       "      <th>4</th>\n",
       "      <td>AdWords</td>\n",
       "      <td>0.039</td>\n",
       "      <td>1.0</td>\n",
       "    </tr>\n",
       "    <tr>\n",
       "      <th>5</th>\n",
       "      <td>Facebook</td>\n",
       "      <td>0.016</td>\n",
       "      <td>0.0</td>\n",
       "    </tr>\n",
       "    <tr>\n",
       "      <th>6</th>\n",
       "      <td>LinkedIn</td>\n",
       "      <td>0.024</td>\n",
       "      <td>0.0</td>\n",
       "    </tr>\n",
       "    <tr>\n",
       "      <th>7</th>\n",
       "      <td>Instagram</td>\n",
       "      <td>0.046</td>\n",
       "      <td>3.0</td>\n",
       "    </tr>\n",
       "    <tr>\n",
       "      <th>8</th>\n",
       "      <td>Snapchat</td>\n",
       "      <td>0.026</td>\n",
       "      <td>0.0</td>\n",
       "    </tr>\n",
       "    <tr>\n",
       "      <th>9</th>\n",
       "      <td>Twitter</td>\n",
       "      <td>0.033</td>\n",
       "      <td>0.0</td>\n",
       "    </tr>\n",
       "    <tr>\n",
       "      <th>10</th>\n",
       "      <td>Email</td>\n",
       "      <td>0.044</td>\n",
       "      <td>3.0</td>\n",
       "    </tr>\n",
       "  </tbody>\n",
       "</table>\n",
       "</div>"
      ],
      "text/plain": [
       "     platform    ROI  amount_allo_1\n",
       "1       Print  0.031            0.0\n",
       "2          TV  0.049            3.0\n",
       "3         SEO  0.024            0.0\n",
       "4     AdWords  0.039            1.0\n",
       "5    Facebook  0.016            0.0\n",
       "6    LinkedIn  0.024            0.0\n",
       "7   Instagram  0.046            3.0\n",
       "8    Snapchat  0.026            0.0\n",
       "9     Twitter  0.033            0.0\n",
       "10      Email  0.044            3.0"
      ]
     },
     "execution_count": 49,
     "metadata": {},
     "output_type": "execute_result"
    }
   ],
   "source": [
    "#To show the starting allocation\n",
    "senstivity_test=allo.copy()\n",
    "senstivity_test['ROI']=obj1\n",
    "senstivity_test.drop(['amount_allo_2'],axis=1,inplace=True)\n",
    "#rearrange\n",
    "cols=senstivity_test.columns.tolist()\n",
    "cols=['platform','ROI','amount_allo_1']\n",
    "senstivity_test=senstivity_test[cols]\n",
    "senstivity_test"
   ]
  },
  {
   "cell_type": "markdown",
   "metadata": {},
   "source": [
    "# Test Part I: try to increase the ROI of each medium by increament of 0.001 up to 1(100%)"
   ]
  },
  {
   "cell_type": "code",
   "execution_count": 50,
   "metadata": {},
   "outputs": [
    {
     "name": "stdout",
     "output_type": "stream",
     "text": [
      "Print\n",
      "[0.049 0.049 0.024 0.039 0.016 0.024 0.046 0.026 0.033 0.044] [3. 0. 0. 1. 0. 0. 3. 0. 0. 3.]\n",
      "TV\n",
      "No effect!\n",
      "SEO\n",
      "[0.031 0.049 0.04  0.039 0.016 0.024 0.046 0.026 0.033 0.044] [0. 3. 1. 0. 0. 0. 3. 0. 0. 3.]\n",
      "AdWords\n",
      "[0.031 0.049 0.024 0.046 0.016 0.024 0.046 0.026 0.033 0.044] [0.    3.    0.    1.333 0.    0.    2.667 0.    0.    3.   ]\n",
      "Facebook\n",
      "[0.031 0.049 0.024 0.039 0.039 0.024 0.046 0.026 0.033 0.044] [0. 3. 0. 0. 1. 0. 3. 0. 0. 3.]\n",
      "LinkedIn\n",
      "[0.031 0.049 0.024 0.039 0.016 0.039 0.046 0.026 0.033 0.044] [0. 3. 0. 0. 0. 1. 3. 0. 0. 3.]\n",
      "Instagram\n",
      "No effect!\n",
      "Snapchat\n",
      "[0.031 0.049 0.024 0.039 0.016 0.024 0.046 0.039 0.033 0.044] [0. 3. 0. 0. 0. 0. 3. 1. 0. 3.]\n",
      "Twitter\n",
      "[0.031 0.049 0.024 0.039 0.016 0.024 0.046 0.026 0.039 0.044] [0. 3. 0. 0. 0. 0. 3. 0. 1. 3.]\n",
      "Email\n",
      "No effect!\n"
     ]
    }
   ],
   "source": [
    "\n",
    "b = np.array([0.,0.,3.,3.,3.,3.,3.,3.,3.,3.,3.,3.,10.])\n",
    "upperlimit=[]\n",
    "allo_change1=[]\n",
    "for i in range(10):\n",
    "    obj_test=obj1.copy()\n",
    "    print(target.columns[i+1])\n",
    "    for j in range(1000):\n",
    "        obj_test[i]=obj_test[i]+0.001\n",
    "        ojModel = gp.Model() # initialize an empty model\n",
    "        ojModX = ojModel.addMVar(10) # tell the model how many variables there are\n",
    "        # must define the variables before adding constraints because variables go into the constraints\n",
    "        ojModCon = ojModel.addMConstrs(A, ojModX, sense, b) # add the constraints to the model\n",
    "        ojModel.setMObjective(None,obj_test,0,sense=gp.GRB.MAXIMIZE) # add the objective to the model\n",
    "        ojModel.Params.OutputFlag = 0 # tell gurobi to shut up!!\n",
    "        ojModel.optimize() # solve the LP\n",
    "        if False in list(np.round(ojModX.x,3)==np.round(x1,3)):\n",
    "            print(np.round(obj_test,3), np.round(ojModX.x,3))\n",
    "            upperlimit.append(obj_test)\n",
    "            allo_change1.append(ojModX.x)\n",
    "            break\n",
    "        elif obj_test[i]>1:\n",
    "            print('No effect!')\n",
    "            upperlimit.append([np.nan]*10)\n",
    "            allo_change1.append(obj1)\n",
    "            break\n",
    "        else:\n",
    "            continue"
   ]
  },
  {
   "cell_type": "markdown",
   "metadata": {},
   "source": [
    "# Test Part II: try to decrease the ROI of each medium by increament of 0.001 down to 0%"
   ]
  },
  {
   "cell_type": "code",
   "execution_count": 51,
   "metadata": {},
   "outputs": [
    {
     "name": "stdout",
     "output_type": "stream",
     "text": [
      "Print\n",
      "No effect!\n",
      "TV\n",
      "[0.031 0.039 0.024 0.039 0.016 0.024 0.046 0.026 0.033 0.044] [0.  2.5 0.  1.5 0.  0.  3.  0.  0.  3. ]\n",
      "SEO\n",
      "No effect!\n",
      "AdWords\n",
      "[0.031 0.049 0.024 0.033 0.016 0.024 0.046 0.026 0.033 0.044] [0. 3. 0. 0. 0. 0. 3. 0. 1. 3.]\n",
      "Facebook\n",
      "No effect!\n",
      "LinkedIn\n",
      "No effect!\n",
      "Instagram\n",
      "[0.031 0.049 0.024 0.039 0.016 0.024 0.039 0.026 0.033 0.044] [0.    3.    0.    1.333 0.    0.    2.667 0.    0.    3.   ]\n",
      "Snapchat\n",
      "No effect!\n",
      "Twitter\n",
      "No effect!\n",
      "Email\n",
      "[0.031 0.049 0.024 0.039 0.016 0.024 0.046 0.026 0.033 0.029] [0.   2.75 0.   1.5  0.   0.   3.   0.   0.   2.75]\n"
     ]
    }
   ],
   "source": [
    "b = np.array([0.,0.,3.,3.,3.,3.,3.,3.,3.,3.,3.,3.,10.])\n",
    "lowerlimit=[]\n",
    "allo_change2=[]\n",
    "for i in range(10):\n",
    "    obj_test=obj1.copy()\n",
    "    print(target.columns[i+1])\n",
    "    for j in range(100):\n",
    "        obj_test[i]=obj_test[i]-0.001     \n",
    "        ojModel = gp.Model() # initialize an empty model\n",
    "\n",
    "        ojModX = ojModel.addMVar(10) # tell the model how many variables there are\n",
    "        # must define the variables before adding constraints because variables go into the constraints\n",
    "        ojModCon = ojModel.addMConstrs(A, ojModX, sense, b) # add the constraints to the model\n",
    "        ojModel.setMObjective(None,obj_test,0,sense=gp.GRB.MAXIMIZE) # add the objective to the model\n",
    "        ojModel.Params.OutputFlag = 0 # tell gurobi to shut up!!\n",
    "        ojModel.optimize() # solve the LP\n",
    "        if False in list(np.round(ojModX.x,3)==np.round(x1,3)):\n",
    "            print(np.round(obj_test,3), np.round(ojModX.x,3))\n",
    "            lowerlimit.append(obj_test)\n",
    "            allo_change2.append(ojModX.x)\n",
    "            break\n",
    "        elif obj_test[i]<0:\n",
    "            print('No effect!')\n",
    "            lowerlimit.append([np.nan]*10)\n",
    "            allo_change2.append(obj1)\n",
    "            break\n",
    "        else:\n",
    "            continue"
   ]
  },
  {
   "cell_type": "markdown",
   "metadata": {},
   "source": [
    "#  This table summarizes how much ROI of each medium will have to increase TO to change the final funds allocation.NAN means it will not effect the funds allocation.\n"
   ]
  },
  {
   "cell_type": "code",
   "execution_count": 52,
   "metadata": {},
   "outputs": [
    {
     "data": {
      "text/html": [
       "<div>\n",
       "<style scoped>\n",
       "    .dataframe tbody tr th:only-of-type {\n",
       "        vertical-align: middle;\n",
       "    }\n",
       "\n",
       "    .dataframe tbody tr th {\n",
       "        vertical-align: top;\n",
       "    }\n",
       "\n",
       "    .dataframe thead th {\n",
       "        text-align: right;\n",
       "    }\n",
       "</style>\n",
       "<table border=\"1\" class=\"dataframe\">\n",
       "  <thead>\n",
       "    <tr style=\"text-align: right;\">\n",
       "      <th>platform</th>\n",
       "      <th>Print</th>\n",
       "      <th>TV</th>\n",
       "      <th>SEO</th>\n",
       "      <th>AdWords</th>\n",
       "      <th>Facebook</th>\n",
       "      <th>LinkedIn</th>\n",
       "      <th>Instagram</th>\n",
       "      <th>Snapchat</th>\n",
       "      <th>Twitter</th>\n",
       "      <th>Email</th>\n",
       "    </tr>\n",
       "  </thead>\n",
       "  <tbody>\n",
       "    <tr>\n",
       "      <th>upperlimit</th>\n",
       "      <td>0.049</td>\n",
       "      <td>NaN</td>\n",
       "      <td>0.04</td>\n",
       "      <td>0.046</td>\n",
       "      <td>0.039</td>\n",
       "      <td>0.039</td>\n",
       "      <td>NaN</td>\n",
       "      <td>0.039</td>\n",
       "      <td>0.039</td>\n",
       "      <td>NaN</td>\n",
       "    </tr>\n",
       "  </tbody>\n",
       "</table>\n",
       "</div>"
      ],
      "text/plain": [
       "platform    Print  TV   SEO  AdWords  Facebook  LinkedIn  Instagram  Snapchat  \\\n",
       "upperlimit  0.049 NaN  0.04    0.046     0.039     0.039        NaN     0.039   \n",
       "\n",
       "platform    Twitter  Email  \n",
       "upperlimit    0.039    NaN  "
      ]
     },
     "execution_count": 52,
     "metadata": {},
     "output_type": "execute_result"
    }
   ],
   "source": [
    "ul=pd.DataFrame((np.array(upperlimit)*np.identity(10))@np.array([1]*10)).T\n",
    "ul.columns=target_index['platform']\n",
    "ul.index=['upperlimit']\n",
    "ul"
   ]
  },
  {
   "cell_type": "markdown",
   "metadata": {},
   "source": [
    "#  This table summarizes how much ROI of each mediumwill have to decrease BY to change the final funds allocation. NAN means it will not effect the funds allocation."
   ]
  },
  {
   "cell_type": "code",
   "execution_count": 53,
   "metadata": {},
   "outputs": [
    {
     "data": {
      "text/html": [
       "<div>\n",
       "<style scoped>\n",
       "    .dataframe tbody tr th:only-of-type {\n",
       "        vertical-align: middle;\n",
       "    }\n",
       "\n",
       "    .dataframe tbody tr th {\n",
       "        vertical-align: top;\n",
       "    }\n",
       "\n",
       "    .dataframe thead th {\n",
       "        text-align: right;\n",
       "    }\n",
       "</style>\n",
       "<table border=\"1\" class=\"dataframe\">\n",
       "  <thead>\n",
       "    <tr style=\"text-align: right;\">\n",
       "      <th>platform</th>\n",
       "      <th>Print</th>\n",
       "      <th>TV</th>\n",
       "      <th>SEO</th>\n",
       "      <th>AdWords</th>\n",
       "      <th>Facebook</th>\n",
       "      <th>LinkedIn</th>\n",
       "      <th>Instagram</th>\n",
       "      <th>Snapchat</th>\n",
       "      <th>Twitter</th>\n",
       "      <th>Email</th>\n",
       "    </tr>\n",
       "  </thead>\n",
       "  <tbody>\n",
       "    <tr>\n",
       "      <th>lowerlimit</th>\n",
       "      <td>NaN</td>\n",
       "      <td>0.039</td>\n",
       "      <td>NaN</td>\n",
       "      <td>0.033</td>\n",
       "      <td>NaN</td>\n",
       "      <td>NaN</td>\n",
       "      <td>0.039</td>\n",
       "      <td>NaN</td>\n",
       "      <td>NaN</td>\n",
       "      <td>0.029</td>\n",
       "    </tr>\n",
       "  </tbody>\n",
       "</table>\n",
       "</div>"
      ],
      "text/plain": [
       "platform    Print     TV  SEO  AdWords  Facebook  LinkedIn  Instagram  \\\n",
       "lowerlimit    NaN  0.039  NaN    0.033       NaN       NaN      0.039   \n",
       "\n",
       "platform    Snapchat  Twitter  Email  \n",
       "lowerlimit       NaN      NaN  0.029  "
      ]
     },
     "execution_count": 53,
     "metadata": {},
     "output_type": "execute_result"
    }
   ],
   "source": [
    "ll=pd.DataFrame((np.array(lowerlimit)*np.identity(10))@np.array([1]*10)).T\n",
    "ll.columns=target_index['platform']\n",
    "ll.index=['lowerlimit']\n",
    "ll"
   ]
  },
  {
   "cell_type": "markdown",
   "metadata": {},
   "source": [
    "#  This table summarizes Upper and Lower limit of ROI for each funds before the change will effect the final funds allocation. NAN means no effect."
   ]
  },
  {
   "cell_type": "code",
   "execution_count": 54,
   "metadata": {},
   "outputs": [
    {
     "data": {
      "text/html": [
       "<div>\n",
       "<style scoped>\n",
       "    .dataframe tbody tr th:only-of-type {\n",
       "        vertical-align: middle;\n",
       "    }\n",
       "\n",
       "    .dataframe tbody tr th {\n",
       "        vertical-align: top;\n",
       "    }\n",
       "\n",
       "    .dataframe thead th {\n",
       "        text-align: right;\n",
       "    }\n",
       "</style>\n",
       "<table border=\"1\" class=\"dataframe\">\n",
       "  <thead>\n",
       "    <tr style=\"text-align: right;\">\n",
       "      <th>platform</th>\n",
       "      <th>Print</th>\n",
       "      <th>TV</th>\n",
       "      <th>SEO</th>\n",
       "      <th>AdWords</th>\n",
       "      <th>Facebook</th>\n",
       "      <th>LinkedIn</th>\n",
       "      <th>Instagram</th>\n",
       "      <th>Snapchat</th>\n",
       "      <th>Twitter</th>\n",
       "      <th>Email</th>\n",
       "    </tr>\n",
       "  </thead>\n",
       "  <tbody>\n",
       "    <tr>\n",
       "      <th>upperlimit</th>\n",
       "      <td>0.049</td>\n",
       "      <td>NaN</td>\n",
       "      <td>0.04</td>\n",
       "      <td>0.046</td>\n",
       "      <td>0.039</td>\n",
       "      <td>0.039</td>\n",
       "      <td>NaN</td>\n",
       "      <td>0.039</td>\n",
       "      <td>0.039</td>\n",
       "      <td>NaN</td>\n",
       "    </tr>\n",
       "    <tr>\n",
       "      <th>lowerlimit</th>\n",
       "      <td>NaN</td>\n",
       "      <td>0.039</td>\n",
       "      <td>NaN</td>\n",
       "      <td>0.033</td>\n",
       "      <td>NaN</td>\n",
       "      <td>NaN</td>\n",
       "      <td>0.039</td>\n",
       "      <td>NaN</td>\n",
       "      <td>NaN</td>\n",
       "      <td>0.029</td>\n",
       "    </tr>\n",
       "  </tbody>\n",
       "</table>\n",
       "</div>"
      ],
      "text/plain": [
       "platform    Print     TV   SEO  AdWords  Facebook  LinkedIn  Instagram  \\\n",
       "upperlimit  0.049    NaN  0.04    0.046     0.039     0.039        NaN   \n",
       "lowerlimit    NaN  0.039   NaN    0.033       NaN       NaN      0.039   \n",
       "\n",
       "platform    Snapchat  Twitter  Email  \n",
       "upperlimit     0.039    0.039    NaN  \n",
       "lowerlimit       NaN      NaN  0.029  "
      ]
     },
     "execution_count": 54,
     "metadata": {},
     "output_type": "execute_result"
    }
   ],
   "source": [
    "summary_limit = ul.append(ll)\n",
    "summary_limit"
   ]
  },
  {
   "cell_type": "code",
   "execution_count": null,
   "metadata": {},
   "outputs": [],
   "source": []
  },
  {
   "cell_type": "markdown",
   "metadata": {},
   "source": [
    "# 7\n",
    "\n",
    "**Your boss has gained permission to reinvest half of the return. For example, if the marketing obtains a 4% return in January, the budget of February will be $10M + $10M × 4% × 50% = $10.2M.  The monthly ROI for next year is given in ROI_mat.csv. The three constraints given by your boss are still in place for each month.  What is the optimal allocation for each month?**"
   ]
  },
  {
   "cell_type": "code",
   "execution_count": 18,
   "metadata": {},
   "outputs": [],
   "source": [
    "# Initiate the constrains       \n",
    "A = np.zeros((13,10)) # initialize constraint matrix\n",
    "A[0,:] = [1,1,0,0,-1,0,0,0,0,-1]  # print and TV no more than Facebook and Email\n",
    "A[1,:] = [0,0,2,2,-1,-1,-1,-1,-1,0]  # Facebook, LinkedIn, Instagram, Snapchat, and Twitter > 2X (SEO+AdWords)\n",
    "A[2:12,:] = np.identity(10)  # each platform <3\n",
    "A[12,:] = [1,1,1,1,1,1,1,1,1,1] # total <10\n",
    "b = np.array([0.,0.,3.,3.,3.,3.,3.,3.,3.,3.,3.,3.,10.]) # All constrains\n",
    "sense = np.array(['<','<','<','<','<','<','<','<','<','<','<','<','<']) # all constraints are less than or equal constraints"
   ]
  },
  {
   "cell_type": "code",
   "execution_count": 22,
   "metadata": {},
   "outputs": [
    {
     "data": {
      "text/plain": [
       "Print          0.04\n",
       "TV            0.036\n",
       "SEO           0.024\n",
       "AdWords       0.039\n",
       "Facebook       0.03\n",
       "LinkedIn      0.035\n",
       "Instagram     0.036\n",
       "Snapchat     0.0225\n",
       "Twitter       0.035\n",
       "Email         0.035\n",
       "Name: 0, dtype: object"
      ]
     },
     "execution_count": 22,
     "metadata": {},
     "output_type": "execute_result"
    }
   ],
   "source": [
    "monthly_roi=pd.read_csv('roi_mat.csv')"
   ]
  },
  {
   "cell_type": "code",
   "execution_count": 23,
   "metadata": {},
   "outputs": [],
   "source": [
    "# must define the variables before adding constraints because variables go into the constraints\n",
    "\n",
    "\n",
    "monthly = []   #each month's allocation\n",
    "b_var = []  #constrain change through time due to increased funds\n",
    "b = np.round(b,3) # round the constrains to 3 digits\n",
    "\n",
    "for i in range(12):  # For each month\n",
    "    ojModel = gp.Model() # initialize an empty model\n",
    "    ojModX = ojModel.addMVar(10) # tell the model how many variables there are\n",
    "    ojModCon = ojModel.addMConstrs(A, ojModX, sense, b) # add the constraints to the model\n",
    "    obj_monthly=monthly_roi.iloc[i,1:]/100\n",
    "    ojModel.setMObjective(None,obj_monthly,0,sense=gp.GRB.MAXIMIZE) # add the objective to the model\n",
    "    ojModel.Params.OutputFlag = 0 # tell gurobi to shut up!!\n",
    "    ojModel.optimize() # solve the LP\n",
    "    monthly.append(ojModX.x)\n",
    "    y=ojModel.objVal\n",
    "    b[12]=b[12]+y*0.5     #  add 50% of the return to total fund available for next month\n",
    "    b_var.append(b.copy())"
   ]
  },
  {
   "cell_type": "code",
   "execution_count": 26,
   "metadata": {},
   "outputs": [
    {
     "data": {
      "text/html": [
       "<div>\n",
       "<style scoped>\n",
       "    .dataframe tbody tr th:only-of-type {\n",
       "        vertical-align: middle;\n",
       "    }\n",
       "\n",
       "    .dataframe tbody tr th {\n",
       "        vertical-align: top;\n",
       "    }\n",
       "\n",
       "    .dataframe thead th {\n",
       "        text-align: right;\n",
       "    }\n",
       "</style>\n",
       "<table border=\"1\" class=\"dataframe\">\n",
       "  <thead>\n",
       "    <tr style=\"text-align: right;\">\n",
       "      <th>platform</th>\n",
       "      <th>Print</th>\n",
       "      <th>TV</th>\n",
       "      <th>SEO</th>\n",
       "      <th>AdWords</th>\n",
       "      <th>Facebook</th>\n",
       "      <th>LinkedIn</th>\n",
       "      <th>Instagram</th>\n",
       "      <th>Snapchat</th>\n",
       "      <th>Twitter</th>\n",
       "      <th>Email</th>\n",
       "    </tr>\n",
       "  </thead>\n",
       "  <tbody>\n",
       "    <tr>\n",
       "      <th>Jan</th>\n",
       "      <td>3.000</td>\n",
       "      <td>0.0</td>\n",
       "      <td>0.0</td>\n",
       "      <td>1.333</td>\n",
       "      <td>0.000</td>\n",
       "      <td>0.000</td>\n",
       "      <td>2.667</td>\n",
       "      <td>0.0</td>\n",
       "      <td>0.000</td>\n",
       "      <td>3.000</td>\n",
       "    </tr>\n",
       "    <tr>\n",
       "      <th>Feb</th>\n",
       "      <td>3.000</td>\n",
       "      <td>0.0</td>\n",
       "      <td>0.0</td>\n",
       "      <td>2.396</td>\n",
       "      <td>3.000</td>\n",
       "      <td>0.000</td>\n",
       "      <td>0.000</td>\n",
       "      <td>0.0</td>\n",
       "      <td>1.791</td>\n",
       "      <td>0.000</td>\n",
       "    </tr>\n",
       "    <tr>\n",
       "      <th>Mar</th>\n",
       "      <td>0.000</td>\n",
       "      <td>0.0</td>\n",
       "      <td>0.0</td>\n",
       "      <td>3.000</td>\n",
       "      <td>0.000</td>\n",
       "      <td>3.000</td>\n",
       "      <td>1.390</td>\n",
       "      <td>0.0</td>\n",
       "      <td>3.000</td>\n",
       "      <td>0.000</td>\n",
       "    </tr>\n",
       "    <tr>\n",
       "      <th>Apr</th>\n",
       "      <td>0.000</td>\n",
       "      <td>0.0</td>\n",
       "      <td>0.0</td>\n",
       "      <td>3.000</td>\n",
       "      <td>0.000</td>\n",
       "      <td>3.000</td>\n",
       "      <td>3.000</td>\n",
       "      <td>0.0</td>\n",
       "      <td>1.597</td>\n",
       "      <td>0.000</td>\n",
       "    </tr>\n",
       "    <tr>\n",
       "      <th>May</th>\n",
       "      <td>1.804</td>\n",
       "      <td>0.0</td>\n",
       "      <td>0.0</td>\n",
       "      <td>0.000</td>\n",
       "      <td>0.000</td>\n",
       "      <td>0.000</td>\n",
       "      <td>3.000</td>\n",
       "      <td>0.0</td>\n",
       "      <td>3.000</td>\n",
       "      <td>3.000</td>\n",
       "    </tr>\n",
       "    <tr>\n",
       "      <th>Jun</th>\n",
       "      <td>3.000</td>\n",
       "      <td>0.0</td>\n",
       "      <td>0.0</td>\n",
       "      <td>0.000</td>\n",
       "      <td>0.000</td>\n",
       "      <td>0.000</td>\n",
       "      <td>3.000</td>\n",
       "      <td>0.0</td>\n",
       "      <td>2.020</td>\n",
       "      <td>3.000</td>\n",
       "    </tr>\n",
       "    <tr>\n",
       "      <th>Jul</th>\n",
       "      <td>1.124</td>\n",
       "      <td>0.0</td>\n",
       "      <td>0.0</td>\n",
       "      <td>3.000</td>\n",
       "      <td>1.124</td>\n",
       "      <td>0.000</td>\n",
       "      <td>3.000</td>\n",
       "      <td>0.0</td>\n",
       "      <td>3.000</td>\n",
       "      <td>0.000</td>\n",
       "    </tr>\n",
       "    <tr>\n",
       "      <th>Aug</th>\n",
       "      <td>3.000</td>\n",
       "      <td>0.0</td>\n",
       "      <td>0.0</td>\n",
       "      <td>1.827</td>\n",
       "      <td>0.000</td>\n",
       "      <td>0.655</td>\n",
       "      <td>0.000</td>\n",
       "      <td>0.0</td>\n",
       "      <td>3.000</td>\n",
       "      <td>3.000</td>\n",
       "    </tr>\n",
       "    <tr>\n",
       "      <th>Sep</th>\n",
       "      <td>1.363</td>\n",
       "      <td>0.0</td>\n",
       "      <td>0.0</td>\n",
       "      <td>3.000</td>\n",
       "      <td>0.000</td>\n",
       "      <td>3.000</td>\n",
       "      <td>0.000</td>\n",
       "      <td>0.0</td>\n",
       "      <td>3.000</td>\n",
       "      <td>1.363</td>\n",
       "    </tr>\n",
       "    <tr>\n",
       "      <th>Oct</th>\n",
       "      <td>0.000</td>\n",
       "      <td>0.0</td>\n",
       "      <td>0.0</td>\n",
       "      <td>3.000</td>\n",
       "      <td>0.000</td>\n",
       "      <td>3.000</td>\n",
       "      <td>3.000</td>\n",
       "      <td>0.0</td>\n",
       "      <td>0.000</td>\n",
       "      <td>2.955</td>\n",
       "    </tr>\n",
       "    <tr>\n",
       "      <th>Nov</th>\n",
       "      <td>3.000</td>\n",
       "      <td>0.0</td>\n",
       "      <td>0.0</td>\n",
       "      <td>2.056</td>\n",
       "      <td>0.000</td>\n",
       "      <td>1.113</td>\n",
       "      <td>3.000</td>\n",
       "      <td>0.0</td>\n",
       "      <td>0.000</td>\n",
       "      <td>3.000</td>\n",
       "    </tr>\n",
       "    <tr>\n",
       "      <th>Dec</th>\n",
       "      <td>3.000</td>\n",
       "      <td>3.0</td>\n",
       "      <td>0.0</td>\n",
       "      <td>0.428</td>\n",
       "      <td>3.000</td>\n",
       "      <td>0.000</td>\n",
       "      <td>0.000</td>\n",
       "      <td>0.0</td>\n",
       "      <td>0.000</td>\n",
       "      <td>3.000</td>\n",
       "    </tr>\n",
       "  </tbody>\n",
       "</table>\n",
       "</div>"
      ],
      "text/plain": [
       "platform  Print   TV  SEO  AdWords  Facebook  LinkedIn  Instagram  Snapchat  \\\n",
       "Jan       3.000  0.0  0.0    1.333     0.000     0.000      2.667       0.0   \n",
       "Feb       3.000  0.0  0.0    2.396     3.000     0.000      0.000       0.0   \n",
       "Mar       0.000  0.0  0.0    3.000     0.000     3.000      1.390       0.0   \n",
       "Apr       0.000  0.0  0.0    3.000     0.000     3.000      3.000       0.0   \n",
       "May       1.804  0.0  0.0    0.000     0.000     0.000      3.000       0.0   \n",
       "Jun       3.000  0.0  0.0    0.000     0.000     0.000      3.000       0.0   \n",
       "Jul       1.124  0.0  0.0    3.000     1.124     0.000      3.000       0.0   \n",
       "Aug       3.000  0.0  0.0    1.827     0.000     0.655      0.000       0.0   \n",
       "Sep       1.363  0.0  0.0    3.000     0.000     3.000      0.000       0.0   \n",
       "Oct       0.000  0.0  0.0    3.000     0.000     3.000      3.000       0.0   \n",
       "Nov       3.000  0.0  0.0    2.056     0.000     1.113      3.000       0.0   \n",
       "Dec       3.000  3.0  0.0    0.428     3.000     0.000      0.000       0.0   \n",
       "\n",
       "platform  Twitter  Email  \n",
       "Jan         0.000  3.000  \n",
       "Feb         1.791  0.000  \n",
       "Mar         3.000  0.000  \n",
       "Apr         1.597  0.000  \n",
       "May         3.000  3.000  \n",
       "Jun         2.020  3.000  \n",
       "Jul         3.000  0.000  \n",
       "Aug         3.000  3.000  \n",
       "Sep         3.000  1.363  \n",
       "Oct         0.000  2.955  \n",
       "Nov         0.000  3.000  \n",
       "Dec         0.000  3.000  "
      ]
     },
     "execution_count": 26,
     "metadata": {},
     "output_type": "execute_result"
    }
   ],
   "source": [
    "df=pd.DataFrame(monthly)\n",
    "df.index=['Jan','Feb','Mar','Apr','May','Jun','Jul','Aug','Sep','Oct','Nov','Dec']\n",
    "df.columns=target_index['platform']\n",
    "df.round(3)"
   ]
  },
  {
   "cell_type": "markdown",
   "metadata": {},
   "source": [
    "# Funds available through time (in Millions of Dollars)"
   ]
  },
  {
   "cell_type": "code",
   "execution_count": 27,
   "metadata": {},
   "outputs": [
    {
     "data": {
      "text/plain": [
       "Jan    10.186\n",
       "Feb    10.390\n",
       "Mar    10.597\n",
       "Apr    10.804\n",
       "May    11.020\n",
       "Jun    11.248\n",
       "Jul    11.482\n",
       "Aug    11.726\n",
       "Sep    11.955\n",
       "Oct    12.169\n",
       "Nov    12.428\n",
       "Dec    12.686\n",
       "Name: 12, dtype: float64"
      ]
     },
     "execution_count": 27,
     "metadata": {},
     "output_type": "execute_result"
    }
   ],
   "source": [
    "# Change in total funds for investment through time\n",
    "\n",
    "bv=pd.DataFrame(b_var)[12]\n",
    "\n",
    "bv.index=df.index\n",
    "\n",
    "bv.round(3)"
   ]
  },
  {
   "cell_type": "markdown",
   "metadata": {},
   "source": [
    "# Plot"
   ]
  },
  {
   "cell_type": "code",
   "execution_count": 28,
   "metadata": {},
   "outputs": [
    {
     "data": {
      "text/plain": [
       "Text(0, 0.5, 'Funds in $Million')"
      ]
     },
     "execution_count": 28,
     "metadata": {},
     "output_type": "execute_result"
    },
    {
     "data": {
      "image/png": "[encoded data removed]",
      "text/plain": [
       "<Figure size 432x288 with 1 Axes>"
      ]
     },
     "metadata": {
      "needs_background": "light"
     },
     "output_type": "display_data"
    }
   ],
   "source": [
    "\n",
    "ax = bv.plot(kind='bar')\n",
    "ax.set_title(\"Monthly Funds for Invest\")\n",
    "ax.set_xlabel(\"Month\")\n",
    "ax.set_ylabel(\"Funds in $Million\")"
   ]
  },
  {
   "cell_type": "markdown",
   "metadata": {},
   "source": [
    "# 8\n",
    "\n",
    "**A stable budget is defined as a monthly allocation such that for each platform the monthly change in spend is no more than $1M. Is the allocation you found stable? If it isn’t, you do not need to solve a new optimization model.  Describe how my might model this?**"
   ]
  },
  {
   "cell_type": "markdown",
   "metadata": {},
   "source": [
    "# See the table, it's not stable stable without any monthly change of funds allocation by over 1 Million Dollars"
   ]
  },
  {
   "cell_type": "code",
   "execution_count": 29,
   "metadata": {
    "scrolled": true
   },
   "outputs": [
    {
     "data": {
      "text/html": [
       "<div>\n",
       "<style scoped>\n",
       "    .dataframe tbody tr th:only-of-type {\n",
       "        vertical-align: middle;\n",
       "    }\n",
       "\n",
       "    .dataframe tbody tr th {\n",
       "        vertical-align: top;\n",
       "    }\n",
       "\n",
       "    .dataframe thead th {\n",
       "        text-align: right;\n",
       "    }\n",
       "</style>\n",
       "<table border=\"1\" class=\"dataframe\">\n",
       "  <thead>\n",
       "    <tr style=\"text-align: right;\">\n",
       "      <th>platform</th>\n",
       "      <th>Print</th>\n",
       "      <th>TV</th>\n",
       "      <th>SEO</th>\n",
       "      <th>AdWords</th>\n",
       "      <th>Facebook</th>\n",
       "      <th>LinkedIn</th>\n",
       "      <th>Instagram</th>\n",
       "      <th>Snapchat</th>\n",
       "      <th>Twitter</th>\n",
       "      <th>Email</th>\n",
       "    </tr>\n",
       "  </thead>\n",
       "  <tbody>\n",
       "    <tr>\n",
       "      <th>Jan</th>\n",
       "      <td>3.000</td>\n",
       "      <td>0.0</td>\n",
       "      <td>0.0</td>\n",
       "      <td>1.333</td>\n",
       "      <td>0.000</td>\n",
       "      <td>0.000</td>\n",
       "      <td>2.667</td>\n",
       "      <td>0.0</td>\n",
       "      <td>0.000</td>\n",
       "      <td>3.000</td>\n",
       "    </tr>\n",
       "    <tr>\n",
       "      <th>Feb</th>\n",
       "      <td>3.000</td>\n",
       "      <td>0.0</td>\n",
       "      <td>0.0</td>\n",
       "      <td>2.396</td>\n",
       "      <td>3.000</td>\n",
       "      <td>0.000</td>\n",
       "      <td>0.000</td>\n",
       "      <td>0.0</td>\n",
       "      <td>1.791</td>\n",
       "      <td>0.000</td>\n",
       "    </tr>\n",
       "    <tr>\n",
       "      <th>Mar</th>\n",
       "      <td>0.000</td>\n",
       "      <td>0.0</td>\n",
       "      <td>0.0</td>\n",
       "      <td>3.000</td>\n",
       "      <td>0.000</td>\n",
       "      <td>3.000</td>\n",
       "      <td>1.390</td>\n",
       "      <td>0.0</td>\n",
       "      <td>3.000</td>\n",
       "      <td>0.000</td>\n",
       "    </tr>\n",
       "    <tr>\n",
       "      <th>Apr</th>\n",
       "      <td>0.000</td>\n",
       "      <td>0.0</td>\n",
       "      <td>0.0</td>\n",
       "      <td>3.000</td>\n",
       "      <td>0.000</td>\n",
       "      <td>3.000</td>\n",
       "      <td>3.000</td>\n",
       "      <td>0.0</td>\n",
       "      <td>1.597</td>\n",
       "      <td>0.000</td>\n",
       "    </tr>\n",
       "    <tr>\n",
       "      <th>May</th>\n",
       "      <td>1.804</td>\n",
       "      <td>0.0</td>\n",
       "      <td>0.0</td>\n",
       "      <td>0.000</td>\n",
       "      <td>0.000</td>\n",
       "      <td>0.000</td>\n",
       "      <td>3.000</td>\n",
       "      <td>0.0</td>\n",
       "      <td>3.000</td>\n",
       "      <td>3.000</td>\n",
       "    </tr>\n",
       "    <tr>\n",
       "      <th>Jun</th>\n",
       "      <td>3.000</td>\n",
       "      <td>0.0</td>\n",
       "      <td>0.0</td>\n",
       "      <td>0.000</td>\n",
       "      <td>0.000</td>\n",
       "      <td>0.000</td>\n",
       "      <td>3.000</td>\n",
       "      <td>0.0</td>\n",
       "      <td>2.020</td>\n",
       "      <td>3.000</td>\n",
       "    </tr>\n",
       "    <tr>\n",
       "      <th>Jul</th>\n",
       "      <td>1.124</td>\n",
       "      <td>0.0</td>\n",
       "      <td>0.0</td>\n",
       "      <td>3.000</td>\n",
       "      <td>1.124</td>\n",
       "      <td>0.000</td>\n",
       "      <td>3.000</td>\n",
       "      <td>0.0</td>\n",
       "      <td>3.000</td>\n",
       "      <td>0.000</td>\n",
       "    </tr>\n",
       "    <tr>\n",
       "      <th>Aug</th>\n",
       "      <td>3.000</td>\n",
       "      <td>0.0</td>\n",
       "      <td>0.0</td>\n",
       "      <td>1.827</td>\n",
       "      <td>0.000</td>\n",
       "      <td>0.655</td>\n",
       "      <td>0.000</td>\n",
       "      <td>0.0</td>\n",
       "      <td>3.000</td>\n",
       "      <td>3.000</td>\n",
       "    </tr>\n",
       "    <tr>\n",
       "      <th>Sep</th>\n",
       "      <td>1.363</td>\n",
       "      <td>0.0</td>\n",
       "      <td>0.0</td>\n",
       "      <td>3.000</td>\n",
       "      <td>0.000</td>\n",
       "      <td>3.000</td>\n",
       "      <td>0.000</td>\n",
       "      <td>0.0</td>\n",
       "      <td>3.000</td>\n",
       "      <td>1.363</td>\n",
       "    </tr>\n",
       "    <tr>\n",
       "      <th>Oct</th>\n",
       "      <td>0.000</td>\n",
       "      <td>0.0</td>\n",
       "      <td>0.0</td>\n",
       "      <td>3.000</td>\n",
       "      <td>0.000</td>\n",
       "      <td>3.000</td>\n",
       "      <td>3.000</td>\n",
       "      <td>0.0</td>\n",
       "      <td>0.000</td>\n",
       "      <td>2.955</td>\n",
       "    </tr>\n",
       "    <tr>\n",
       "      <th>Nov</th>\n",
       "      <td>3.000</td>\n",
       "      <td>0.0</td>\n",
       "      <td>0.0</td>\n",
       "      <td>2.056</td>\n",
       "      <td>0.000</td>\n",
       "      <td>1.113</td>\n",
       "      <td>3.000</td>\n",
       "      <td>0.0</td>\n",
       "      <td>0.000</td>\n",
       "      <td>3.000</td>\n",
       "    </tr>\n",
       "    <tr>\n",
       "      <th>Dec</th>\n",
       "      <td>3.000</td>\n",
       "      <td>3.0</td>\n",
       "      <td>0.0</td>\n",
       "      <td>0.428</td>\n",
       "      <td>3.000</td>\n",
       "      <td>0.000</td>\n",
       "      <td>0.000</td>\n",
       "      <td>0.0</td>\n",
       "      <td>0.000</td>\n",
       "      <td>3.000</td>\n",
       "    </tr>\n",
       "  </tbody>\n",
       "</table>\n",
       "</div>"
      ],
      "text/plain": [
       "platform  Print   TV  SEO  AdWords  Facebook  LinkedIn  Instagram  Snapchat  \\\n",
       "Jan       3.000  0.0  0.0    1.333     0.000     0.000      2.667       0.0   \n",
       "Feb       3.000  0.0  0.0    2.396     3.000     0.000      0.000       0.0   \n",
       "Mar       0.000  0.0  0.0    3.000     0.000     3.000      1.390       0.0   \n",
       "Apr       0.000  0.0  0.0    3.000     0.000     3.000      3.000       0.0   \n",
       "May       1.804  0.0  0.0    0.000     0.000     0.000      3.000       0.0   \n",
       "Jun       3.000  0.0  0.0    0.000     0.000     0.000      3.000       0.0   \n",
       "Jul       1.124  0.0  0.0    3.000     1.124     0.000      3.000       0.0   \n",
       "Aug       3.000  0.0  0.0    1.827     0.000     0.655      0.000       0.0   \n",
       "Sep       1.363  0.0  0.0    3.000     0.000     3.000      0.000       0.0   \n",
       "Oct       0.000  0.0  0.0    3.000     0.000     3.000      3.000       0.0   \n",
       "Nov       3.000  0.0  0.0    2.056     0.000     1.113      3.000       0.0   \n",
       "Dec       3.000  3.0  0.0    0.428     3.000     0.000      0.000       0.0   \n",
       "\n",
       "platform  Twitter  Email  \n",
       "Jan         0.000  3.000  \n",
       "Feb         1.791  0.000  \n",
       "Mar         3.000  0.000  \n",
       "Apr         1.597  0.000  \n",
       "May         3.000  3.000  \n",
       "Jun         2.020  3.000  \n",
       "Jul         3.000  0.000  \n",
       "Aug         3.000  3.000  \n",
       "Sep         3.000  1.363  \n",
       "Oct         0.000  2.955  \n",
       "Nov         0.000  3.000  \n",
       "Dec         0.000  3.000  "
      ]
     },
     "execution_count": 29,
     "metadata": {},
     "output_type": "execute_result"
    }
   ],
   "source": [
    "df.round(3)"
   ]
  },
  {
   "cell_type": "markdown",
   "metadata": {},
   "source": [
    "# 9\n",
    "**Write an pdf file that does all of this and summarizes your analysis with graphs, text, and code chunks. The first few lines of the Rmd file, in the first code chunk at the beginning, should include pd.read_csv call that reads the csv file that has the ROI data.  Be sure to include a noticeable comment that lets us know where you read the csv files.  The template csv files fit the correct format.  To be graded, we will change this pd.read_csv call to load a new csv file and re-run your code to see if you get the right answer on new data.  Failure to run will automatically reduce your grade by 10 percentage points!  Be sure that all your analysis in the python code file is generalized, so when we load the new csv files the output will be for the new data, instead of the template data.  That means you should not hard code any numbers.  Instead you should reference variable names for your output.**"
   ]
  },
  {
   "cell_type": "markdown",
   "metadata": {},
   "source": [
    "# 10"
   ]
  },
  {
   "cell_type": "code",
   "execution_count": null,
   "metadata": {},
   "outputs": [],
   "source": []
  },
  {
   "cell_type": "code",
   "execution_count": null,
   "metadata": {},
   "outputs": [],
   "source": []
  }
 ],
 "metadata": {
  "kernelspec": {
   "display_name": "Python 3",
   "language": "python",
   "name": "python3"
  },
  "language_info": {
   "codemirror_mode": {
    "name": "ipython",
    "version": 3
   },
   "file_extension": ".py",
   "mimetype": "text/x-python",
   "name": "python",
   "nbconvert_exporter": "python",
   "pygments_lexer": "ipython3",
   "version": "3.8.8"
  }
 },
 "nbformat": 4,
 "nbformat_minor": 2
}
