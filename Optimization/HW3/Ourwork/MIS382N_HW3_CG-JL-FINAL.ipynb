{
 "cells": [
  {
   "cell_type": "markdown",
   "metadata": {
    "id": "Nb3QnVJJbF-b"
   },
   "source": [
    "# <p style=\"text-align: center;\">MIS 382N: Advanced Machine Learning</p>\n",
    "# <p style=\"text-align: center;\">Homework 3</p>\n",
    "## <p style=\"text-align: center;\">Total points: 85</p>\n",
    "## <p style=\"text-align: center;\">Due: Monday, **Oct 15th** submitted via Canvas by 11:59 pm</p>\n",
    "\n",
    "Your homework should be written in a **Jupyter notebook**. Please make sure your code runs and the graphics (and anything else) are displayed in your notebook before submitting (%matplotlib inline). \n",
    "\n",
    "**Note: Notebooks MUST have the images embedded in them. There will be no regrades if attached images do not render in the notebook. Please re download from canvas after submission and make sure all attached images render without errors. (Hint: Image module from IPython.display)**"
   ]
  },
  {
   "cell_type": "markdown",
   "metadata": {
    "id": "wkXOyWSCbMlw"
   },
   "source": [
    "**This can be an individual assignment or group of 2. If you choose to do it as a group, please specify who you are working with (name and EID), then only one student should submit the homework. Put your name and eid here.**\n",
    "\n",
    "Name: Connor Gilmore\n",
    "\n",
    "EID: CMG5829\n",
    "\n",
    "Name: Jessie Lee\n",
    "\n",
    "EID: JYL787"
   ]
  },
  {
   "cell_type": "code",
   "execution_count": 7,
   "metadata": {},
   "outputs": [],
   "source": [
    "import warnings\n",
    "warnings.filterwarnings('ignore')"
   ]
  },
  {
   "cell_type": "markdown",
   "metadata": {
    "id": "7LgyLF87bPkA"
   },
   "source": [
    "# Question 1: Stochastic gradient descent II (20 pts)\n",
    "\n",
    "Write an SGD solution in Python to the non-linear model without using any other library except for those provided in the code template below. \n",
    "\n",
    "$$ y = w_0 + w_1x_1 + w_2x_1x_2 + w_3x_1^2x_2 + w_4x_1x_2^2 + w_5x_2^3$$ \n",
    "\n",
    "The solution class template is given. The `init()` function of the class takes as input the `learning_rate`, `regularization_constant` and `number_of_epochs`. The `fit()` method must take as input `X`, `y` and `update_rule` which can be `'sgd_momentum'` or `'RMSprop'`. The `predict()` method takes an `X` value (optionally, an array of values). \n",
    "\n",
    "Use your new gradient descent regression to train your model and predict the data given in 'SGD_samples.csv', for 30 epochs, using learning rates: `[0.0001, 0.001, 0.01, 0.05]` and regularization (ridge regression) constants: `[0, 0.01, 0.1]`. **(8 points)** \n",
    "\n",
    "Plot MSE and the $w$ parameters as a function of epoch (for 30 epochs) for the best 2 combinations of `learning_rate` and `regularization_constant` for SGD-Momentum, RMSprop, i.e., for each combination, you should have one plot for MSE vs Epoch and another for the parameters(weights) vs Epoch using respectively SGD-Momentum and RMSprop, hence in total 8 plots. Report the `learning_rate`, `regularization_constant` and MSE at the end of 30 epochs for the two best combinations for SGD-Momentum and RMSprop respectively. **($4\\times 2 = 8$ pts)**\n",
    "\n",
    "Observe the results, compare the performance of the two learning methods **(4 pts)**. \n",
    "\n",
    "Here is a blog which you can go through to know about RMSprop and Adam - [blog](http://ruder.io/optimizing-gradient-descent/).\n",
    "\n",
    "Following codes are for your reference, please don't change the initialization values of the given parameters.\n"
   ]
  },
  {
   "cell_type": "code",
   "execution_count": 8,
   "metadata": {
    "id": "XVVk-mks4laL"
   },
   "outputs": [],
   "source": [
    "%matplotlib inline\n",
    "import random\n",
    "import numpy as np\n",
    "import matplotlib.pyplot as plt\n",
    "import pandas as pd\n",
    "\n",
    "num_of_coefs = 6\n",
    "\n",
    "class LinearRegression:\n",
    "    \n",
    "    def __init__(self, learning_rate, regularization, n_epoch):\n",
    "        self.learning_rate = learning_rate\n",
    "        self.n_epoch = n_epoch\n",
    "        self.regularization = regularization\n",
    "        self.eps = 10**-8\n",
    "        self.coef = np.zeros(num_of_coefs) # coefficient vector\n",
    "        self.cache = np.zeros(self.coef.shape) # used only for rmsprop\n",
    "        self.gama = 0.9 # used only for rmsprop\n",
    "        self.mu = 0.9 # used in momentum\n",
    "        self.momentum = self.learning_rate * self.coef\n",
    "\n",
    "    def rmsprop(self, gradient):\n",
    "        '''\n",
    "        updates self.coef based on gradient using rmsprop\n",
    "        '''\n",
    "        self.cache = self.gama * self.cache + (1 - self.gama) * gradient**2\n",
    "        denominator = np.sqrt(self.cache + self.eps)\n",
    "        self.coef = self.coef - (self.learning_rate / denominator)*gradient\n",
    "    \n",
    "    def sgd_momentum(self, gradient):\n",
    "        '''\n",
    "        updates self.coef based on gradient using Sgd_momentum\n",
    "        '''\n",
    "        self.momentum = (self.momentum*self.mu) + (self.learning_rate * gradient)\n",
    "        self.coef = self.coef - self.momentum\n",
    "    \n",
    "    def fit(self, X, y, update_rule='sgd_momentum', plot=False):\n",
    "        '''\n",
    "        Fit the model given X, y. It uses the specified update_rule\n",
    "        and displays a plot of the coefficients vs epochs, and mse vs epochs if plot is set as True. \n",
    "        \n",
    "        -> use get_features to get the features from X\n",
    "        -> for epoch in epochs:\n",
    "            iterate through all x, y.\n",
    "                compute prediction using linearPredict.\n",
    "                compute gradient.\n",
    "                pass this gradient to the corresponding update function and update the coefficients\n",
    "                keep track of mse and coefficients\n",
    "        -> plot if required\n",
    "        \n",
    "        '''\n",
    "        mse = []\n",
    "        coefs = []\n",
    "        \n",
    "        X = self.get_features(X)\n",
    "        for epoch in range(self.n_epoch):\n",
    "            for i in range(X.shape[0]):\n",
    "                # Compute error\n",
    "                yhat=self.linearPredict(X[i,:])\n",
    "                error = yhat - y[i]\n",
    "                # Compute gradients\n",
    "                #gradient = (error * X) + (self.regularization * self.coef)\n",
    "                gradient= np.dot(error,X[i,:])+ np.append(np.zeros((1,1)),np.dot(self.regularization, self.coef[1:]))\n",
    "                \n",
    "                # Update weights\n",
    "                if update_rule == 'sgd_momentum':\n",
    "                    self.sgd_momentum(gradient)\n",
    "                if update_rule == 'rmsprop':\n",
    "                    self.rmsprop(gradient)\n",
    "   \n",
    "            coefs.append(self.coef)\n",
    "            residuals = y - self.linearPredict(X)         \n",
    "            mse.append(np.mean(residuals**2))\n",
    "        self.lowest_mse = mse[-1]\n",
    "        if plot == True:\n",
    "            plt.figure()\n",
    "            plt.plot(range(self.n_epoch),mse)\n",
    "            plt.xlabel('epoch')\n",
    "            plt.ylabel('MSE')\n",
    "            plt.figure()\n",
    "            coefs = np.array(coefs)\n",
    "            plt.plot(range(self.n_epoch),coefs[:,0],label='w0')\n",
    "            plt.plot(range(self.n_epoch),coefs[:,1],label='w1')\n",
    "            plt.plot(range(self.n_epoch),coefs[:,2],label='w2')\n",
    "            plt.plot(range(self.n_epoch),coefs[:,3],label='w3')\n",
    "            plt.plot(range(self.n_epoch),coefs[:,4],label='w4')\n",
    "            plt.plot(range(self.n_epoch),coefs[:,5],label='w5')\n",
    "            plt.legend()\n",
    "            plt.xlabel('epoch')\n",
    "            plt.ylabel('parameter value')\n",
    "\n",
    "    def get_features(self, X):\n",
    "        x = np.zeros((X.shape[0], num_of_coefs))\n",
    "        x[:,0] = 1\n",
    "        x[:,1] = X[:,0]\n",
    "        x[:,2] = X[:,0]*X[:,1]\n",
    "        x[:,3] = (X[:,0]**2)*X[:,1]\n",
    "        x[:,4] = X[:,0] * (X[:,1]**2)\n",
    "        x[:,5] = X[:,1]**3\n",
    "        \n",
    "        return x\n",
    "        \n",
    "    def linearPredict(self, X_features):\n",
    "        '''\n",
    "        returns the dot product of X and self.coef\n",
    "        '''\n",
    "        return X_features.dot(self.coef)"
   ]
  },
  {
   "cell_type": "code",
   "execution_count": 9,
   "metadata": {
    "id": "KMCFUos-5Brh"
   },
   "outputs": [],
   "source": [
    "import random\n",
    "import numpy as np\n",
    "import matplotlib.pyplot as plt\n",
    "import pandas as pd\n",
    "\n",
    "data = pd.read_csv('SGD_samples.csv')\n",
    "X = np.array([data['x1'].values, data['x2'].values]).T\n",
    "y = data['y'].values\n",
    "n_epochs = 30\n",
    "learning_rate = [0.0001, 0.001, 0.01, 0.05]\n",
    "regularization = [0, 0.01, 0.1]"
   ]
  },
  {
   "cell_type": "markdown",
   "metadata": {
    "id": "d0xrLYAi3GtV"
   },
   "source": [
    "# Answer:"
   ]
  },
  {
   "cell_type": "markdown",
   "metadata": {},
   "source": [
    "Momentum"
   ]
  },
  {
   "cell_type": "code",
   "execution_count": 10,
   "metadata": {},
   "outputs": [
    {
     "name": "stdout",
     "output_type": "stream",
     "text": [
      "Best Hyper parameter 1: (0.001, 0)\n",
      "Best Hyper parameter 2: (0.001, 0.01)\n",
      "[0.020195535187159188, 0.02020904002316665]\n"
     ]
    },
    {
     "data": {
      "image/png": "[encoded data removed]",
      "text/plain": [
       "<Figure size 432x288 with 1 Axes>"
      ]
     },
     "metadata": {
      "needs_background": "light"
     },
     "output_type": "display_data"
    },
    {
     "data": {
      "image/png": "[encoded data removed]",
      "text/plain": [
       "<Figure size 432x288 with 1 Axes>"
      ]
     },
     "metadata": {
      "needs_background": "light"
     },
     "output_type": "display_data"
    },
    {
     "data": {
      "image/png": "[encoded data removed]",
      "text/plain": [
       "<Figure size 432x288 with 1 Axes>"
      ]
     },
     "metadata": {
      "needs_background": "light"
     },
     "output_type": "display_data"
    },
    {
     "data": {
      "image/png": "[encoded data removed]",
      "text/plain": [
       "<Figure size 432x288 with 1 Axes>"
      ]
     },
     "metadata": {
      "needs_background": "light"
     },
     "output_type": "display_data"
    }
   ],
   "source": [
    "hyper = []\n",
    "for lr in range(0, len(learning_rate)):\n",
    "    for reg in range(0, len(regularization)):\n",
    "        hyper.append((learning_rate[lr], regularization[reg]))\n",
    "lowest_scores = []\n",
    "for hyper_iter in range(0, len(hyper)):\n",
    "    mom = LinearRegression(hyper[hyper_iter][0], hyper[hyper_iter][1], n_epochs)\n",
    "    mom.fit(X,y,plot=False)\n",
    "    lowest_scores.append(mom.lowest_mse)\n",
    "    \n",
    "chosen_hyper = np.argsort(np.array(lowest_scores))[:2]\n",
    "print(\"Best Hyper parameter 1:\",hyper[chosen_hyper[0]])\n",
    "print(\"Best Hyper parameter 2:\",hyper[chosen_hyper[1]])\n",
    "lowest_scores = []\n",
    "for hyper_iter in chosen_hyper:\n",
    "    mom = LinearRegression(hyper[hyper_iter][0], hyper[hyper_iter][1], n_epochs)\n",
    "    mom.fit(X,y,plot=True)\n",
    "    lowest_scores.append(mom.lowest_mse)\n",
    "print(lowest_scores)"
   ]
  },
  {
   "cell_type": "markdown",
   "metadata": {},
   "source": [
    "RMSProp"
   ]
  },
  {
   "cell_type": "code",
   "execution_count": 11,
   "metadata": {},
   "outputs": [
    {
     "name": "stdout",
     "output_type": "stream",
     "text": [
      "Best Hyper parameter 1: (0.001, 0)\n",
      "Best Hyper parameter 2: (0.001, 0.01)\n",
      "[0.020203078865835295, 0.020215253592428473]\n"
     ]
    },
    {
     "data": {
      "image/png": "[encoded data removed]",
      "text/plain": [
       "<Figure size 432x288 with 1 Axes>"
      ]
     },
     "metadata": {
      "needs_background": "light"
     },
     "output_type": "display_data"
    },
    {
     "data": {
      "image/png": "[encoded data removed]",
      "text/plain": [
       "<Figure size 432x288 with 1 Axes>"
      ]
     },
     "metadata": {
      "needs_background": "light"
     },
     "output_type": "display_data"
    },
    {
     "data": {
      "image/png": "[encoded data removed]",
      "text/plain": [
       "<Figure size 432x288 with 1 Axes>"
      ]
     },
     "metadata": {
      "needs_background": "light"
     },
     "output_type": "display_data"
    },
    {
     "data": {
      "image/png": "[encoded data removed]",
      "text/plain": [
       "<Figure size 432x288 with 1 Axes>"
      ]
     },
     "metadata": {
      "needs_background": "light"
     },
     "output_type": "display_data"
    }
   ],
   "source": [
    "hyper = []\n",
    "for lr in range(0, len(learning_rate)):\n",
    "    for reg in range(0, len(regularization)):\n",
    "        hyper.append((learning_rate[lr], regularization[reg]))\n",
    "lowest_scores = []\n",
    "for hyper_iter in range(0, len(hyper)):\n",
    "    mom = LinearRegression(hyper[hyper_iter][0], hyper[hyper_iter][1], n_epochs)\n",
    "    mom.fit(X,y,plot=False, update_rule='rmsprop')\n",
    "    lowest_scores.append(mom.lowest_mse)\n",
    "    \n",
    "chosen_hyper = np.argsort(np.array(lowest_scores))[:2]\n",
    "print(\"Best Hyper parameter 1:\",hyper[chosen_hyper[0]])\n",
    "print(\"Best Hyper parameter 2:\",hyper[chosen_hyper[1]])\n",
    "lowest_scores = []\n",
    "for hyper_iter in chosen_hyper:\n",
    "    mom = LinearRegression(hyper[hyper_iter][0], hyper[hyper_iter][1], n_epochs)\n",
    "    mom.fit(X,y,plot=True, update_rule='rmsprop')\n",
    "    lowest_scores.append(mom.lowest_mse)\n",
    "print(lowest_scores)"
   ]
  },
  {
   "cell_type": "markdown",
   "metadata": {},
   "source": [
    "**Observations**"
   ]
  },
  {
   "cell_type": "markdown",
   "metadata": {},
   "source": [
    "It appears that the momentum approach is slightly better than the rmsprop method, judging by their respective MSE results. When looking at the parameter values (for the weights) across epochs, it appears that in the momentum method, the final values / the values where they plateau occur in earlier epochs than in the rmsprop method. This illustrates how, under the momentum method, the model converges earlier, while rmsprop takes a little longer due to moderate/diminish oscillations."
   ]
  },
  {
   "cell_type": "markdown",
   "metadata": {
    "id": "H6pUQ7SvbU4G"
   },
   "source": [
    "# Question 2: Tensorflow Playground (15 pts)\n",
    "\n",
    "In this question, you will be playing with [Tensorflow Playground](https://playground.tensorflow.org).\n",
    "\n",
    "Select \"**Classification**\" as the **Problem Type**. Among the four datasets shown in DATA, please select the **top right** dataset. \n",
    "\n",
    "Use the following settings as the DEFAULT settings for all **subquestions**: Learning rate = 0.03, Activation = Tanh, Regularization = None, Ratio of training to test data = 50%, Noise = 0, Batch Size = 30, input as $X_1$ with $X_2$, One hidden layer with two neurons.\n",
    "\n",
    "a) **(4 pts)** Use the DEFAULT setting and run two experiments - one using **Tanh** as the activation function and one using the **Linear** activation function. Report the train, test losses for both at the end of **1000 epochs**. What qualitative difference do you observe in the decision boundaries obtained? What do you think is the reason for this? \n",
    "\n",
    "We will now study the effect of certain variations in the network structure or training process, keeping all other aspects the same as in the DEFAULT setting specified above, with **Tanh** as the activation.\n",
    "\n",
    "b) **(4 pts)** Effect of number of hidden units: Keep other settings the same as in DEFAULT, report the training loss and test loss at the end of 1000 epochs **using 4 neurons and 8 neurons in the hidden layer**. What do you observe in terms of the decision boundary obtained as the number of neurons increases? What do you think is the reason for this? \n",
    "\n",
    "c) **(4 pts)** Effect of Learning rate and number of epochs: Keep other settings the same as in DEFAULT, change the Activation to **ReLU** and use **4 neurons** in the hidden layer. For learning rate 10, 1, 0.1, 0.01 and 0.001, report the train, test losses at the end of **100 epochs**, **1000 epochs** respectively. What do you observe from the change of loss vs learning rate, and the change of loss vs epoch numbers? \n",
    "\n",
    "d) **(3 pts)** Use the DEFAULT setting. Play around with any hyperparameters, network architectures or input features (such as $\\sin(X_1), X_1^2$ etc.), and report the best train and test loss you obtain (test loss should be no greater than 0.06). Attach the screenshot showing your full network, output and the parameters. Briefly justify your results, and comment on what helps/what doesn't help with lowering the loss, etc. "
   ]
  },
  {
   "cell_type": "markdown",
   "metadata": {
    "id": "l85_A1P33Nr4"
   },
   "source": [
    "# Answer:"
   ]
  },
  {
   "cell_type": "markdown",
   "metadata": {},
   "source": [
    "**a**"
   ]
  },
  {
   "cell_type": "markdown",
   "metadata": {},
   "source": [
    "*Experiment using the Tanh activation function*:\n",
    "\n",
    "* Train loss: 0.167\n",
    "* Test loss: 0.175\n",
    "\n",
    "*Experiment using the Linear activation function*:\n",
    "\n",
    "* Train loss: 0.500\n",
    "* Test loss: 0.501\n",
    "\n",
    "*Qualitative Observations*:   \n",
    "\n",
    "The experiment with the Tanh activation funtion shows a much more non-linear decision boundary that changes very rapidly in the early epochs. The Linear function's decision boundary is much more rigid and linear across epochs compared to the Tanh activation function. This may be because the Tanh activation function is a non-linear function that transforms the input data non-linearly and also because it's derivative is non-constant, so the gradient has a relationship with the x input data."
   ]
  },
  {
   "cell_type": "markdown",
   "metadata": {},
   "source": [
    "**b**"
   ]
  },
  {
   "cell_type": "markdown",
   "metadata": {},
   "source": [
    "*Experiment using 4 neurons in the hidden layer*:\n",
    "\n",
    "* Train loss: 0.031\n",
    "* Test loss: 0.049\n",
    "\n",
    "*Experiment using 4 neurons in the hidden layer*:\n",
    "\n",
    "* Train loss: 0.006\n",
    "* Test loss: 0.014\n",
    "\n",
    "*Qualitative Observations*: \n",
    "\n",
    "As the number of neurons increased, the decision boundary more closely mirrored that of the organization of the ground truth classes. While both qualitatively appeared to do so very well, with eight neurons in the hidden layer, the neural network more closely mirrored some of the smaller nuances of the class boundaries. With more neurons, the neural network is better able to learn the patterns in the data that improves test and train loss rate. This can lead to a low bias, high variance case, as shown in the train and test loss data above."
   ]
  },
  {
   "cell_type": "markdown",
   "metadata": {},
   "source": [
    "**c**"
   ]
  },
  {
   "cell_type": "markdown",
   "metadata": {},
   "source": [
    "*100 Epochs*\n",
    "\n",
    "Learning Rate 10\n",
    "\n",
    "* Train: 0.998\n",
    "* Test: 0.975\n",
    "\n",
    "Learning Rate 1\n",
    "\n",
    "* Train: 0.007\n",
    "* Test: 0.000\n",
    "\n",
    "Learning Rate 0.1\n",
    "\n",
    "* Train: 0.008\n",
    "* Test: 0.008\n",
    "\n",
    "Learning Rate 0.01\n",
    "\n",
    "* Train: 0.082\n",
    "* Test: 0.094\n",
    "\n",
    "Learning Rate 0.001\n",
    "\n",
    "* Train: 0.428\n",
    "* Test: 0.432\n",
    "\n",
    "\n",
    "*1000 Epochs* \n",
    "\n",
    "Learning Rate 10\n",
    "\n",
    "* Train: 0.640\n",
    "* Test: 0.624\n",
    "\n",
    "Learning Rate 1\n",
    "\n",
    "* Train: 0.000\n",
    "* Test: 0.003\n",
    "\n",
    "Learning Rate 0.1\n",
    "\n",
    "* Train: 0.001\n",
    "* Test: 0.001\n",
    "\n",
    "Learning Rate 0.01\n",
    "\n",
    "* Train: 0.136\n",
    "* Test: 0.170\n",
    "\n",
    "Learning Rate 0.001\n",
    "\n",
    "* Train: 0.310\n",
    "* Test: 0.306\n",
    "\n",
    "*Qualitative Observations*: \n",
    "\n",
    "With respect to learning rate vs loss (regardless of number of epochs), there appears to be a parabolic / non-linear relationship. As the learning rate decreases from 10, the loss decreases (overall model improves), but as the learning rate increases from 0.1, the loss increases (overall model deteriorates). With respect to number of epochs vs loss, there appears to be a slight decreasese in loss (overall model improves). However, the same parabolic / non-linear relationship across learning rates is apparent in both epoch levels. The relationship is lower, however, at 1000 epochs. "
   ]
  },
  {
   "cell_type": "markdown",
   "metadata": {},
   "source": [
    "**d**"
   ]
  },
  {
   "cell_type": "code",
   "execution_count": 12,
   "metadata": {},
   "outputs": [],
   "source": [
    "from IPython.display import Image"
   ]
  },
  {
   "cell_type": "markdown",
   "metadata": {},
   "source": [
    "All runs are at 1000 epochs"
   ]
  },
  {
   "cell_type": "markdown",
   "metadata": {},
   "source": [
    "*L2 Regularization (Regularization at 0.001) and 4 Neurons*"
   ]
  },
  {
   "cell_type": "code",
   "execution_count": 13,
   "metadata": {},
   "outputs": [
    {
     "ename": "FileNotFoundError",
     "evalue": "[Errno 2] No such file or directory: '5d-l2-4n.png'",
     "output_type": "error",
     "traceback": [
      "\u001b[1;31m---------------------------------------------------------------------------\u001b[0m",
      "\u001b[1;31mFileNotFoundError\u001b[0m                         Traceback (most recent call last)",
      "\u001b[1;32m<ipython-input-13-487406c5203f>\u001b[0m in \u001b[0;36m<module>\u001b[1;34m\u001b[0m\n\u001b[1;32m----> 1\u001b[1;33m \u001b[0mImage\u001b[0m\u001b[1;33m(\u001b[0m\u001b[0mfilename\u001b[0m\u001b[1;33m=\u001b[0m\u001b[1;34m'5d-l2-4n.png'\u001b[0m\u001b[1;33m)\u001b[0m\u001b[1;33m\u001b[0m\u001b[1;33m\u001b[0m\u001b[0m\n\u001b[0m",
      "\u001b[1;32mC:\\ProgramData\\Anaconda3\\lib\\site-packages\\IPython\\core\\display.py\u001b[0m in \u001b[0;36m__init__\u001b[1;34m(self, data, url, filename, format, embed, width, height, retina, unconfined, metadata)\u001b[0m\n\u001b[0;32m   1222\u001b[0m         \u001b[0mself\u001b[0m\u001b[1;33m.\u001b[0m\u001b[0mretina\u001b[0m \u001b[1;33m=\u001b[0m \u001b[0mretina\u001b[0m\u001b[1;33m\u001b[0m\u001b[1;33m\u001b[0m\u001b[0m\n\u001b[0;32m   1223\u001b[0m         \u001b[0mself\u001b[0m\u001b[1;33m.\u001b[0m\u001b[0munconfined\u001b[0m \u001b[1;33m=\u001b[0m \u001b[0munconfined\u001b[0m\u001b[1;33m\u001b[0m\u001b[1;33m\u001b[0m\u001b[0m\n\u001b[1;32m-> 1224\u001b[1;33m         super(Image, self).__init__(data=data, url=url, filename=filename, \n\u001b[0m\u001b[0;32m   1225\u001b[0m                 metadata=metadata)\n\u001b[0;32m   1226\u001b[0m \u001b[1;33m\u001b[0m\u001b[0m\n",
      "\u001b[1;32mC:\\ProgramData\\Anaconda3\\lib\\site-packages\\IPython\\core\\display.py\u001b[0m in \u001b[0;36m__init__\u001b[1;34m(self, data, url, filename, metadata)\u001b[0m\n\u001b[0;32m    628\u001b[0m             \u001b[0mself\u001b[0m\u001b[1;33m.\u001b[0m\u001b[0mmetadata\u001b[0m \u001b[1;33m=\u001b[0m \u001b[1;33m{\u001b[0m\u001b[1;33m}\u001b[0m\u001b[1;33m\u001b[0m\u001b[1;33m\u001b[0m\u001b[0m\n\u001b[0;32m    629\u001b[0m \u001b[1;33m\u001b[0m\u001b[0m\n\u001b[1;32m--> 630\u001b[1;33m         \u001b[0mself\u001b[0m\u001b[1;33m.\u001b[0m\u001b[0mreload\u001b[0m\u001b[1;33m(\u001b[0m\u001b[1;33m)\u001b[0m\u001b[1;33m\u001b[0m\u001b[1;33m\u001b[0m\u001b[0m\n\u001b[0m\u001b[0;32m    631\u001b[0m         \u001b[0mself\u001b[0m\u001b[1;33m.\u001b[0m\u001b[0m_check_data\u001b[0m\u001b[1;33m(\u001b[0m\u001b[1;33m)\u001b[0m\u001b[1;33m\u001b[0m\u001b[1;33m\u001b[0m\u001b[0m\n\u001b[0;32m    632\u001b[0m \u001b[1;33m\u001b[0m\u001b[0m\n",
      "\u001b[1;32mC:\\ProgramData\\Anaconda3\\lib\\site-packages\\IPython\\core\\display.py\u001b[0m in \u001b[0;36mreload\u001b[1;34m(self)\u001b[0m\n\u001b[0;32m   1254\u001b[0m         \u001b[1;34m\"\"\"Reload the raw data from file or URL.\"\"\"\u001b[0m\u001b[1;33m\u001b[0m\u001b[1;33m\u001b[0m\u001b[0m\n\u001b[0;32m   1255\u001b[0m         \u001b[1;32mif\u001b[0m \u001b[0mself\u001b[0m\u001b[1;33m.\u001b[0m\u001b[0membed\u001b[0m\u001b[1;33m:\u001b[0m\u001b[1;33m\u001b[0m\u001b[1;33m\u001b[0m\u001b[0m\n\u001b[1;32m-> 1256\u001b[1;33m             \u001b[0msuper\u001b[0m\u001b[1;33m(\u001b[0m\u001b[0mImage\u001b[0m\u001b[1;33m,\u001b[0m\u001b[0mself\u001b[0m\u001b[1;33m)\u001b[0m\u001b[1;33m.\u001b[0m\u001b[0mreload\u001b[0m\u001b[1;33m(\u001b[0m\u001b[1;33m)\u001b[0m\u001b[1;33m\u001b[0m\u001b[1;33m\u001b[0m\u001b[0m\n\u001b[0m\u001b[0;32m   1257\u001b[0m             \u001b[1;32mif\u001b[0m \u001b[0mself\u001b[0m\u001b[1;33m.\u001b[0m\u001b[0mretina\u001b[0m\u001b[1;33m:\u001b[0m\u001b[1;33m\u001b[0m\u001b[1;33m\u001b[0m\u001b[0m\n\u001b[0;32m   1258\u001b[0m                 \u001b[0mself\u001b[0m\u001b[1;33m.\u001b[0m\u001b[0m_retina_shape\u001b[0m\u001b[1;33m(\u001b[0m\u001b[1;33m)\u001b[0m\u001b[1;33m\u001b[0m\u001b[1;33m\u001b[0m\u001b[0m\n",
      "\u001b[1;32mC:\\ProgramData\\Anaconda3\\lib\\site-packages\\IPython\\core\\display.py\u001b[0m in \u001b[0;36mreload\u001b[1;34m(self)\u001b[0m\n\u001b[0;32m    653\u001b[0m         \u001b[1;34m\"\"\"Reload the raw data from file or URL.\"\"\"\u001b[0m\u001b[1;33m\u001b[0m\u001b[1;33m\u001b[0m\u001b[0m\n\u001b[0;32m    654\u001b[0m         \u001b[1;32mif\u001b[0m \u001b[0mself\u001b[0m\u001b[1;33m.\u001b[0m\u001b[0mfilename\u001b[0m \u001b[1;32mis\u001b[0m \u001b[1;32mnot\u001b[0m \u001b[1;32mNone\u001b[0m\u001b[1;33m:\u001b[0m\u001b[1;33m\u001b[0m\u001b[1;33m\u001b[0m\u001b[0m\n\u001b[1;32m--> 655\u001b[1;33m             \u001b[1;32mwith\u001b[0m \u001b[0mopen\u001b[0m\u001b[1;33m(\u001b[0m\u001b[0mself\u001b[0m\u001b[1;33m.\u001b[0m\u001b[0mfilename\u001b[0m\u001b[1;33m,\u001b[0m \u001b[0mself\u001b[0m\u001b[1;33m.\u001b[0m\u001b[0m_read_flags\u001b[0m\u001b[1;33m)\u001b[0m \u001b[1;32mas\u001b[0m \u001b[0mf\u001b[0m\u001b[1;33m:\u001b[0m\u001b[1;33m\u001b[0m\u001b[1;33m\u001b[0m\u001b[0m\n\u001b[0m\u001b[0;32m    656\u001b[0m                 \u001b[0mself\u001b[0m\u001b[1;33m.\u001b[0m\u001b[0mdata\u001b[0m \u001b[1;33m=\u001b[0m \u001b[0mf\u001b[0m\u001b[1;33m.\u001b[0m\u001b[0mread\u001b[0m\u001b[1;33m(\u001b[0m\u001b[1;33m)\u001b[0m\u001b[1;33m\u001b[0m\u001b[1;33m\u001b[0m\u001b[0m\n\u001b[0;32m    657\u001b[0m         \u001b[1;32melif\u001b[0m \u001b[0mself\u001b[0m\u001b[1;33m.\u001b[0m\u001b[0murl\u001b[0m \u001b[1;32mis\u001b[0m \u001b[1;32mnot\u001b[0m \u001b[1;32mNone\u001b[0m\u001b[1;33m:\u001b[0m\u001b[1;33m\u001b[0m\u001b[1;33m\u001b[0m\u001b[0m\n",
      "\u001b[1;31mFileNotFoundError\u001b[0m: [Errno 2] No such file or directory: '5d-l2-4n.png'"
     ]
    }
   ],
   "source": [
    "Image(filename='5d-l2-4n.png') "
   ]
  },
  {
   "cell_type": "markdown",
   "metadata": {},
   "source": [
    "*Polynomial Input Variables and 4 Neurons*"
   ]
  },
  {
   "cell_type": "code",
   "execution_count": null,
   "metadata": {},
   "outputs": [],
   "source": [
    "Image(filename='5d-poly-4n.png') "
   ]
  },
  {
   "cell_type": "markdown",
   "metadata": {},
   "source": [
    "*sin() Input Variables*"
   ]
  },
  {
   "cell_type": "code",
   "execution_count": null,
   "metadata": {},
   "outputs": [],
   "source": [
    "Image(filename='5d-sin.png') "
   ]
  },
  {
   "cell_type": "markdown",
   "metadata": {},
   "source": [
    "*Qualitative Observations*"
   ]
  },
  {
   "cell_type": "markdown",
   "metadata": {},
   "source": [
    "We ran three experiments with the neural network model. The first experiment was L2 Regularization (Regularization at 0.001) and 4 neurons which resulted in a test loss of 0.018 and a train loss of 0.015. This indicates a model with a close balance of bias and variance. The second experiment was with the polynomial of the input variables in addition to the X1 and @2 variables and 4 neurons which resulted in a test loss of 0.021 and a train loss of 0.009. This indicates a model of high bias and low variance. Finally, the third experiment used the sin(X1) and sin(X2) input variables along with the X1 and X2 variables. This resulted in a test loss of 0.006 and a train loss of 0.002. This third experiment was the lowest across the three. What is interesting is that this model only used 2 neurons to obtain the lowest loss rates, but the other used 4 neurons. This can possibly be explained that the non-linear transformation of the two input variables (by taking the sin of them), helps to better model and predict the classes. This means that the additional neurons (using the non-linear tanh activation function) are not needed. Compared to the second experiment, which also inputed non-linear transformations of X1 and X2, the third experiment with the sin() transformations appears to better capture and model the classification, perhaps indicating X1 and X2 follow cyclical patterns. "
   ]
  },
  {
   "cell_type": "markdown",
   "metadata": {
    "id": "rYljtggnkSzl"
   },
   "source": [
    "# Question 3: Outlier detection using PyOD (30 pts)\n",
    "\n",
    "Oulier detection, or anomaly detection is usually an unsupervised learning task where the objective is to identify suspicious observations in data. It has been widely used in military surveillance for enemy activities to prevent attacks, intrusion detection in cyber security, fraud detection for credit cards, etc.\n",
    "\n",
    "PyOD is a comprehensive and scalable Python library for detecting outlying objects in multivariate data. PyOD includes more than 30 detection algorithms and provides unified APIs which makes it quite handy to use. In this question, you will play with PyOD, explore three different outlier detection algorithms and compare their performances. First let's install PyOD.\n",
    "\n",
    "```\n",
    "# install pyod using pip first\n",
    "!pip install pyod\n",
    "```\n",
    "\n",
    "You can load the data stored in 'Q3_train_dataset.csv' and 'Q3_test_dataset.csv' using the following codes.\n",
    "\n",
    "```\n",
    "import pandas as pd\n",
    "# Load data code goes here\n",
    "train_df = pd.read_csv('Q3_train_dataset.csv')\n",
    "test_df = pd.read_csv('Q3_test_dataset.csv')\n",
    "\n",
    "X_train = train_df[['X_train_0', 'X_train_1', 'X_train_2', 'X_train_3', 'X_train_4']].to_numpy()\n",
    "y_train = train_df[['y_train']].to_numpy()\n",
    "X_test = test_df[['X_test_0', 'X_test_1', 'X_test_2', 'X_test_3', 'X_test_4']].to_numpy()\n",
    "y_test = test_df[['y_test']].to_numpy()\n",
    "```\n",
    "\n",
    " `X_train` and `X_test` contain the features, with the dimension of 5. `y_train` and `y_test` store the outlier labels, 0 means normal data, 1 means outlier data. \n",
    " \n",
    "a) **(5 pts)** **Fit `X_train` to a linear outlier detection model Minimum Covariance Determinant (MCD) using PyOD**, this [page](https://pyod.readthedocs.io/en/latest/pyod.models.html#module-pyod.models.mcd) will provide some functions you may need. \n",
    "\n",
    "```\n",
    "from pyod.models.mcd import MCD\n",
    "clf = MCD() # initialize MCD class using the default parameters\n",
    "\n",
    "# YOUR CODE SHOULD COME HERE, FIT THE MODEL USING X_TRAIN\n",
    "```\n",
    "**Use the fitted model to predict the outlier labels of `X_test`. Compute the raw outlier scores on `X_test` using `decision_function()`.**\n",
    "\n",
    "**Run PyOD's `evaluate_print()` function using the test set ground truth outlier labels and the raw outlier scores predicted by the model, to compute the ROC and Precision@n results .** \n",
    "\n",
    "```\n",
    "from pyod.utils.data import evaluate_print\n",
    "```\n",
    "\n",
    "b) **(5 pts)** `X_train` and `X_test` are 5-dimension features, which makes it impossible to visualize them in Euclidean plane. But we can use Principal Component Analysis (PCA) to reduce the dimensions of `X_train` and `X_test` to 2, and then plot them. You may want to use `fit_and_transform()` function.\n",
    "\n",
    "\n",
    "```\n",
    "from sklearn.decomposition import PCA\n",
    "\n",
    "pca = PCA(n_components=2)\n",
    "\n",
    "# Fit pca to X_train and X_test and transform \n",
    "train_principalComponents = # IMPLEMENT\n",
    "test_principalComponents = # IMPLEMENT\n",
    "```\n",
    "\n",
    "After reducing the dimension to 2, now you can visualize the outliers using PyOD's `visualize()` function. Please plot the visualization. You may find [this](https://pyod.readthedocs.io/en/latest/pyod.utils.html#module-pyod.utils.example) useful on how to use `visualize()` .\n",
    "\n",
    "```\n",
    "from pyod.utils.example import visualize\n",
    "```\n",
    "\n",
    "Now you should be able to observe the ground truth outliers and the outliers predicted by the model.\n",
    "\n",
    "\n",
    "c) **(20 pts)** Apply the same process as in (a) and (b) to the following two models, and visualize the outlier results. Please compare the performance of the three models in terms of their ROC, Precision@n, and what you observe from the three visualizations.\n",
    "\n",
    "*   [Proximity-Based model - Clustering Based Local Outlier Factor (CBLOF)](https://pyod.readthedocs.io/en/latest/pyod.models.html#module-pyod.models.cblof)\n",
    "*   [Probabilistic model - Copula-based Outlier Detection (COPOD)](https://pyod.readthedocs.io/en/latest/pyod.models.html#module-pyod.models.copod)\n",
    "\n",
    "```\n",
    "from pyod.models.cblof import CBLOF\n",
    "from pyod.models.copod import COPOD\n",
    "```\n",
    "\n",
    "# Answer:"
   ]
  },
  {
   "cell_type": "code",
   "execution_count": null,
   "metadata": {
    "id": "BULJ0M0sL1gf"
   },
   "outputs": [],
   "source": [
    "# install pyod using pip first\n",
    "!pip install pyod"
   ]
  },
  {
   "cell_type": "code",
   "execution_count": null,
   "metadata": {
    "id": "qEY5NClZL9a8"
   },
   "outputs": [],
   "source": [
    "import pandas as pd\n",
    "# Load data code goes here\n",
    "train_df = pd.read_csv('Q3_train_dataset.csv')\n",
    "test_df = pd.read_csv('Q3_test_dataset.csv')\n",
    "\n",
    "X_train = train_df[['X_train_0', 'X_train_1', 'X_train_2', 'X_train_3', 'X_train_4']].to_numpy()\n",
    "y_train = train_df[['y_train']].to_numpy()\n",
    "X_test = test_df[['X_test_0', 'X_test_1', 'X_test_2', 'X_test_3', 'X_test_4']].to_numpy()\n",
    "y_test = test_df[['y_test']].to_numpy()"
   ]
  },
  {
   "cell_type": "code",
   "execution_count": null,
   "metadata": {
    "id": "oRPwxrFQL_Y3"
   },
   "outputs": [],
   "source": [
    "# (a)\n",
    "from pyod.models.mcd import MCD\n",
    "clf = MCD() # initialize MCD class using the default parameters\n",
    "\n",
    "# fit the model using X_train\n",
    "\n",
    "# YOUR CODE SHOULD COME HERE\n",
    "clf.fit(X_train)"
   ]
  },
  {
   "cell_type": "code",
   "execution_count": null,
   "metadata": {
    "id": "pwFvjZQ5MBE_"
   },
   "outputs": [],
   "source": [
    "from pyod.utils.data import evaluate_print\n",
    "# predict the outlier labels of X_test using the trained model, compute the raw outlier scores on X_test using decision_function()\n",
    "# then use evaluate_print() to print out the evaluation results\n",
    "\n",
    "# pyod.utils.data.evaluate_print(clf_name, y, y_pred)\n",
    "\n",
    "# YOUR CODE SHOULD COME HERE\n",
    "preds = clf.predict(X_test)\n",
    "raw_outlier_scores = clf.decision_function(X_test)\n",
    "evaluate_print(clf, y_test, preds)"
   ]
  },
  {
   "cell_type": "code",
   "execution_count": null,
   "metadata": {
    "id": "RBIhWWz-MC1C"
   },
   "outputs": [],
   "source": [
    "# (b)\n",
    "from sklearn.decomposition import PCA\n",
    "\n",
    "pca = PCA(n_components=2)\n",
    "\n",
    "# Fit pca to X_train and X_test and transform \n",
    "train_principalComponents = pca.fit_transform(X_train)\n",
    "test_principalComponents = pca.fit_transform(X_test)\n",
    "\n",
    "from pyod.utils.example import visualize\n",
    "# Visualize the ground truth outliers and predicted outliers using visualize()\n",
    "clf = MCD()\n",
    "clf.fit(train_principalComponents)\n",
    "train_preds = clf.predict(train_principalComponents)\n",
    "test_preds = clf.predict(test_principalComponents)\n",
    "\n",
    "#pyod.utils.example.visualize(clf_name, X_train, y_train, X_test, y_test, y_train_pred, y_test_pred, show_figure=True, save_figure=False)\n",
    "\n",
    "# YOUR CODE SHOULD COME HERE\n",
    "visualize(clf, train_principalComponents, y_train, test_principalComponents, y_test, train_preds, test_preds)"
   ]
  },
  {
   "cell_type": "code",
   "execution_count": null,
   "metadata": {
    "id": "dSs_Kej_MIN5"
   },
   "outputs": [],
   "source": [
    "# (c)\n",
    "from pyod.models.cblof import CBLOF\n",
    "from pyod.models.copod import COPOD\n",
    "\n",
    "# YOUR CODE SHOULD COME HERE"
   ]
  },
  {
   "cell_type": "markdown",
   "metadata": {},
   "source": [
    "CBLOF"
   ]
  },
  {
   "cell_type": "code",
   "execution_count": null,
   "metadata": {},
   "outputs": [],
   "source": [
    "clf = CBLOF()\n",
    "clf.fit(X_train)\n",
    "preds = clf.predict(X_test)\n",
    "raw_outlier_scores = clf.decision_function(X_test)\n",
    "evaluate_print(clf, y_test, preds)"
   ]
  },
  {
   "cell_type": "code",
   "execution_count": null,
   "metadata": {},
   "outputs": [],
   "source": [
    "from sklearn.decomposition import PCA\n",
    "\n",
    "pca = PCA(n_components=2)\n",
    "\n",
    "# Fit pca to X_train and X_test and transform \n",
    "train_principalComponents = pca.fit_transform(X_train)\n",
    "test_principalComponents = pca.fit_transform(X_test)\n",
    "\n",
    "from pyod.utils.example import visualize\n",
    "# Visualize the ground truth outliers and predicted outliers using visualize()\n",
    "clf = CBLOF()\n",
    "clf.fit(train_principalComponents)\n",
    "train_preds = clf.predict(train_principalComponents)\n",
    "test_preds = clf.predict(test_principalComponents)\n",
    "\n",
    "#pyod.utils.example.visualize(clf_name, X_train, y_train, X_test, y_test, y_train_pred, y_test_pred, show_figure=True, save_figure=False)\n",
    "\n",
    "# YOUR CODE SHOULD COME HERE\n",
    "visualize(clf, train_principalComponents, y_train, test_principalComponents, y_test, train_preds, test_preds)"
   ]
  },
  {
   "cell_type": "markdown",
   "metadata": {},
   "source": [
    "COPOD"
   ]
  },
  {
   "cell_type": "code",
   "execution_count": null,
   "metadata": {},
   "outputs": [],
   "source": [
    "clf = COPOD()\n",
    "clf.fit(X_train)\n",
    "preds = clf.predict(X_test)\n",
    "raw_outlier_scores = clf.decision_function(X_test)\n",
    "evaluate_print(clf, y_test, preds)"
   ]
  },
  {
   "cell_type": "code",
   "execution_count": null,
   "metadata": {},
   "outputs": [],
   "source": [
    "from sklearn.decomposition import PCA\n",
    "\n",
    "pca = PCA(n_components=2)\n",
    "\n",
    "# Fit pca to X_train and X_test and transform \n",
    "train_principalComponents = pca.fit_transform(X_train)\n",
    "test_principalComponents = pca.fit_transform(X_test)\n",
    "\n",
    "from pyod.utils.example import visualize\n",
    "# Visualize the ground truth outliers and predicted outliers using visualize()\n",
    "clf = COPOD()\n",
    "clf.fit(train_principalComponents)\n",
    "train_preds = clf.predict(train_principalComponents)\n",
    "test_preds = clf.predict(test_principalComponents)\n",
    "\n",
    "#pyod.utils.example.visualize(clf_name, X_train, y_train, X_test, y_test, y_train_pred, y_test_pred, show_figure=True, save_figure=False)\n",
    "\n",
    "# YOUR CODE SHOULD COME HERE\n",
    "visualize(clf, train_principalComponents, y_train, test_principalComponents, y_test, train_preds, test_preds)"
   ]
  },
  {
   "cell_type": "markdown",
   "metadata": {},
   "source": [
    "#### Observations"
   ]
  },
  {
   "cell_type": "markdown",
   "metadata": {},
   "source": [
    "The three visuals above show that for the most part, the outlier classifiers perform well on the train set when predicting inliers, but for both the train and test sets, they tend to either miss outliers or mis-identify inliers as outliers. Across the models, the COPOD model performs the best on the PCA-transformed data as measured by the ROC. "
   ]
  },
  {
   "cell_type": "markdown",
   "metadata": {
    "id": "98Ipdr7rbdal"
   },
   "source": [
    "# Question 4: PCA Conceptual questions (5 pts)\n",
    "Explain the principle of Principal Component Analysis algorithm, especially why we can select the best projection bases based on the covariance matrix of data from the perspective of optimization?\n",
    "\n",
    "# Answer:"
   ]
  },
  {
   "cell_type": "markdown",
   "metadata": {},
   "source": [
    "Combined Answer:"
   ]
  },
  {
   "cell_type": "markdown",
   "metadata": {},
   "source": [
    "PCA is an unsupervised learning algorithm that reduces dimensionality in data. PCA reduces the number of variables (features) in a dataset without eliminating any of them, as the variables are compressed together.\n",
    "\n",
    "\n",
    "N-dimensional data will result in NxN symetric covariance matrix where the diagnal is the variance of each dimension. The covariance matrix is found by multiplying the standardized matrix by the transpose of itself. \n",
    "\n",
    "\n",
    "\n",
    "$$\\Sigma = \\begin{bmatrix} cov(x_{1}x_{1}) & cov(x_{1}x_{2}) & cov(x_{1}x_{3}) ... & cov(x_{1}x_{n}) \\\\\n",
    "  cov(x_{2}x_{1}) & cov(x_{2}x_{2}) & cov(x_{2}x_{3}) ... & cov(x_{2}x_{n}) \\\\\n",
    "  cov(x_{3}x_{1}) & cov(x_{3}x_{2}) & cov(x_{3}x_{3}) ... & cov(x_{3}x_{n}) \\\\\n",
    "  ...    &  ...   &  ...       & ...     \\\\\n",
    "  cov(x_{n}x_{1}) & cov(x_{n}x_{2}) & cov(x_{n}x_{3}) ... & cov(x_{n}x_{n}) \\end{bmatrix}$$\n",
    " \n",
    "This covariance matrix needs to be decomposed to find eigenvectors and eigenvalues, where eigen vector are the vector that won't change direction when we multiply it with the covariance matrix. We find eigen values by solving the determinant of the marix:\n",
    "\n",
    "$$det(\\Sigma-\\lambda\\mathbb{1}) = 0  .........(1)  $$\n",
    "\n",
    "where $\\Sigma$ is the covariance matrix and, $\\lambda$ is the eigenvalues and $\\mathbb{1}$ is the identity matrix\n",
    "\n",
    "Then what we need to do is to solve for each eigon vector $e_{i}$ by solving the function with respect each eigen factor determined from equation (1):\n",
    "\n",
    "$$(\\Sigma\\ e_{i}-\\lambda_{i}e_{i}) = 0$$\n",
    "\n",
    "\n",
    "We find that the eigenvectors with the largest eigenvalues correspond to the dimensions that have the strongest correlation in the dataset, thus the maximum variance. The sorted (descending) eigenvectors are then used as weights to be multiplied to the original x values of the matrix. That is our principal component. PCA finds the best “subspace” that captures as much data variance as possible, to retain as much information as possible from the original dataset, where the dimention is reduced. \n",
    "\n",
    "As a result of transforming, the original n-dimensional data onto this new k-dimensional subspace (typically k ≪ n), the first principal component will have the largest possible variance, and all consequent principal components will have the largest variance given the constraint that these components are uncorrelated (orthogonal) to the other principal components — even if the input features are correlated, the resulting principal components will be mutually orthogonal (uncorrelated).\n"
   ]
  },
  {
   "cell_type": "markdown",
   "metadata": {
    "id": "a7LS1E520XPL"
   },
   "source": [
    "\n",
    "\n",
    "# Question 5: Pre-processing and sampling (15 pts)\n",
    "\n",
    "The following dataset contains House prices describing the sales of individual residential property in Ames, Iowa data with explanatory variables describing almost every aspect of residential homes and dependent variable being SalePrice. Here, some cells of most columns in the dataset contain NaN values.\n",
    "\n",
    "\n",
    "\n",
    "\n",
    "\n",
    "\n",
    "\n",
    "\n",
    "\n",
    "\n",
    "\n"
   ]
  },
  {
   "cell_type": "code",
   "execution_count": null,
   "metadata": {
    "id": "HzXBJJihpKum"
   },
   "outputs": [],
   "source": [
    "import pandas as pd \n",
    "import numpy as np \n",
    "import scipy.stats as stats\n",
    "import math\n",
    "import matplotlib.pyplot as plt\n",
    "np.random.seed(100)\n",
    "\n",
    "data = pd.read_csv(\"sales_data.csv\")\n",
    "data.head()"
   ]
  },
  {
   "cell_type": "markdown",
   "metadata": {
    "id": "SZpAfufgqDnc"
   },
   "source": [
    "\n",
    "a) **(2 pts)** Print the number of NaN values in each column.\n"
   ]
  },
  {
   "cell_type": "code",
   "execution_count": null,
   "metadata": {
    "id": "4ZJ-OvcIO9bW"
   },
   "outputs": [],
   "source": [
    "data.isna().sum()"
   ]
  },
  {
   "cell_type": "markdown",
   "metadata": {
    "id": "2qX1tYc9PTeq"
   },
   "source": [
    "b) **(3 pts)** Create a copy of `data`, and name it `data_dm`, then create a new column in `data_dm` named `binned_yr_built` and apply binning to the column `yr_built`. Use `pandas.cut()` and modify its paramter list as below:\n",
    "\n",
    "```\n",
    "bins=[1900, 1920, 1940, 1960, 1980, 2000, 2020]\n",
    "labels=['1900-1920', '1920-1940', '1940-1960', '1960-1980', '1980-2000', '2000-2020']\n",
    "include_lowest=True\n",
    "```\n",
    "Next, perform one-hot encoding on this new column."
   ]
  },
  {
   "cell_type": "code",
   "execution_count": null,
   "metadata": {},
   "outputs": [],
   "source": [
    "bins=[1900, 1920, 1940, 1960, 1980, 2000, 2020]\n",
    "labels=['1900-1920', '1920-1940', '1940-1960', '1960-1980', '1980-2000', '2000-2020']"
   ]
  },
  {
   "cell_type": "code",
   "execution_count": null,
   "metadata": {
    "id": "f5JLgp3ePXaH"
   },
   "outputs": [],
   "source": [
    "data_dm = data"
   ]
  },
  {
   "cell_type": "code",
   "execution_count": null,
   "metadata": {
    "id": "f5JLgp3ePXaH"
   },
   "outputs": [],
   "source": [
    "data_dm['binned_yr_built'] = pd.cut(data_dm['YearBuilt'], bins=bins, labels=labels, include_lowest=True)"
   ]
  },
  {
   "cell_type": "code",
   "execution_count": null,
   "metadata": {
    "id": "Fca0nB-KP5X8"
   },
   "outputs": [],
   "source": [
    "one_hot = pd.get_dummies(data_dm['binned_yr_built'])\n",
    "data_dm = data_dm.join(one_hot)"
   ]
  },
  {
   "cell_type": "markdown",
   "metadata": {
    "id": "DZG-thPCPe8J"
   },
   "source": [
    "\n",
    "c) **(2 pts)** Drop the columns which have more than 65 percentage of missing values."
   ]
  },
  {
   "cell_type": "code",
   "execution_count": null,
   "metadata": {
    "id": "4wwgOq-_PlXV"
   },
   "outputs": [],
   "source": [
    "perc = 65\n",
    "min_count =  int(((100-perc)/100)*data_dm.shape[0] + 1)\n",
    "data_dm = data_dm.dropna(axis=1, thresh=min_count)"
   ]
  },
  {
   "cell_type": "markdown",
   "metadata": {
    "id": "1F_Tj5rtPSLw"
   },
   "source": [
    "\n",
    "d) **(3 pts)** Take a sample of 800 rows at random and compute its mean, compare this value with the population mean.\n",
    "  "
   ]
  },
  {
   "cell_type": "code",
   "execution_count": null,
   "metadata": {
    "id": "LqijYNMkPS-a"
   },
   "outputs": [],
   "source": [
    "np.random.seed(6)\n",
    "sample_ages = np.random.choice(a= data['SalePrice'], size=800)\n",
    "#Sample mean\n",
    "sample_mean = sample_ages.mean()\n",
    "\n",
    "#Population mean\n",
    "pop_mean = data['SalePrice'].mean()"
   ]
  },
  {
   "cell_type": "code",
   "execution_count": null,
   "metadata": {},
   "outputs": [],
   "source": [
    "print('Sample Mean: ', round(sample_mean, 2))\n",
    "print('Population Mean: ', round(pop_mean, 2))"
   ]
  },
  {
   "cell_type": "markdown",
   "metadata": {
    "id": "2FfEuB-hQ9a5"
   },
   "source": [
    "e) **(2pts)** Calculate the 95% confidence intervals for SalePrice with a sample size of 100. \n",
    "\n",
    "**(3pts)** Calculate the 95% confidence intervals for 100 different trials with a sample size of 500. Plot the confidence intervals and interpret how it captures the population mean."
   ]
  },
  {
   "cell_type": "code",
   "execution_count": null,
   "metadata": {
    "id": "nrXDpIsgUhPs"
   },
   "outputs": [],
   "source": [
    "np.random.seed(10)\n",
    "sample_size = 100\n",
    "sample = np.random.choice(a= data_dm['SalePrice'],\n",
    "                          size = sample_size)\n",
    "sample_mean = sample.mean()\n",
    "print(sample_mean)\n",
    "\n",
    "#Get the critical Z value\n",
    "z_critical = stats.norm.ppf(1-.05)\n",
    "\n",
    "#Get population standard deviation\n",
    "pop_stdev = data_dm['SalePrice'].std()\n",
    "\n",
    "#margin of error\n",
    "margin_of_error = z_critical * (pop_stdev/math.sqrt(sample_size)) \n",
    "\n",
    "#confidence interval\n",
    "confidence_interval = (sample_mean - margin_of_error,\n",
    "                       sample_mean + margin_of_error)  \n",
    "\n",
    "#Print confidence interval and true mean value\n",
    "print('Confidence Interval: ', confidence_interval)\n",
    "print('True Mean Value: ', data_dm['SalePrice'].mean())"
   ]
  },
  {
   "cell_type": "code",
   "execution_count": null,
   "metadata": {
    "id": "vpX5NGr0VhyM"
   },
   "outputs": [],
   "source": [
    "np.random.seed(12)\n",
    "\n",
    "sample_size = 500\n",
    "\n",
    "intervals = []\n",
    "sample_means = []\n",
    "\n",
    "for sample in range(100):\n",
    "    sample = np.random.choice(a= data_dm['SalePrice'], size = sample_size)\n",
    "    sample_mean = sample.mean()\n",
    "    sample_means.append(sample_mean)\n",
    "    \n",
    "    # compute z critical value\n",
    "    z_critical = stats.norm.ppf(1-.05)\n",
    "\n",
    "    # compute population standard deviation  \n",
    "    pop_stdev = np.std(data_dm['SalePrice'])\n",
    "  \n",
    "    margin_of_error = z_critical * (pop_stdev/math.sqrt(sample_size))\n",
    "    confidence_interval = (sample_mean - margin_of_error,\n",
    "                           sample_mean + margin_of_error)  \n",
    "    \n",
    "    intervals.append(confidence_interval)\n",
    "    \n",
    "plt.figure(figsize=(13, 9))\n",
    "\n",
    "plt.errorbar(x=np.arange(0.1, 100, 1), \n",
    "             y=sample_means, \n",
    "             yerr=[(top-bot)/2 for top,bot in intervals],\n",
    "             fmt='o')\n",
    "\n",
    "plt.hlines(xmin=0, xmax=100,\n",
    "           y=data['SalePrice'].mean(), \n",
    "           linewidth=2.0,\n",
    "           color=\"red\")\n",
    "plt.title('Confidence Intervals for 100 Trials', fontsize = 20)\n",
    "plt.show()"
   ]
  },
  {
   "cell_type": "markdown",
   "metadata": {},
   "source": [
    "*Interpretation*\n",
    "\n",
    "The above plot illustrates what we can say about the confidence intervals: 95% of the time, the population mean falls within the confidence interval (where each vertical blue line is a confidence interval). We do see cases where the mean (the red line) falls outside of a confidence interval, but in the vast majority of cases, it falls within the confidence interval. This further illustrates the stability of statistical sampling to obtain an estimate and margin of error for each confidence interval. While the sample means and confidence intervals vary, we see that across 100 of them, they are relatively similar."
   ]
  },
  {
   "cell_type": "code",
   "execution_count": null,
   "metadata": {},
   "outputs": [],
   "source": []
  }
 ],
 "metadata": {
  "colab": {
   "collapsed_sections": [],
   "name": "MIS382N-HW3.ipynb",
   "provenance": []
  },
  "kernelspec": {
   "display_name": "Python 3",
   "language": "python",
   "name": "python3"
  },
  "language_info": {
   "codemirror_mode": {
    "name": "ipython",
    "version": 3
   },
   "file_extension": ".py",
   "mimetype": "text/x-python",
   "name": "python",
   "nbconvert_exporter": "python",
   "pygments_lexer": "ipython3",
   "version": "3.8.8"
  }
 },
 "nbformat": 4,
 "nbformat_minor": 4
}
