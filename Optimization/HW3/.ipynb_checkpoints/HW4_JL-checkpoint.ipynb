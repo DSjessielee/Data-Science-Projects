{
 "cells": [
  {
   "cell_type": "code",
   "execution_count": 2,
   "metadata": {},
   "outputs": [],
   "source": [
    "import numpy as np\n",
    "import gurobipy as gp"
   ]
  },
  {
   "cell_type": "code",
   "execution_count": null,
   "metadata": {},
   "outputs": [],
   "source": []
  },
  {
   "cell_type": "markdown",
   "metadata": {},
   "source": [
    "# Q1"
   ]
  },
  {
   "cell_type": "code",
   "execution_count": 3,
   "metadata": {},
   "outputs": [],
   "source": [
    "obj = np.array([-1,4])\n",
    "A = np.zeros((3,2))\n",
    "A[0,:] = [-10,20]\n",
    "A[1,:] = [5,10]\n",
    "A[2,:] = [1,0]\n",
    "sense = ['<']*3\n",
    "b = np.array([22,49,5])"
   ]
  },
  {
   "cell_type": "code",
   "execution_count": 4,
   "metadata": {},
   "outputs": [
    {
     "data": {
      "text/plain": [
       "array([[-10.,  20.],\n",
       "       [  5.,  10.],\n",
       "       [  1.,   0.]])"
      ]
     },
     "execution_count": 4,
     "metadata": {},
     "output_type": "execute_result"
    }
   ],
   "source": [
    "A"
   ]
  },
  {
   "cell_type": "code",
   "execution_count": 5,
   "metadata": {},
   "outputs": [
    {
     "name": "stdout",
     "output_type": "stream",
     "text": [
      "Restricted license - for non-production use only - expires 2022-01-13\n"
     ]
    }
   ],
   "source": [
    "lpMod = gp.Model()\n",
    "lpMod_x = lpMod.addMVar(2)\n",
    "lpMod_con = lpMod.addMConstrs(A, lpMod_x, sense, b)\n",
    "lpMod.setMObjective(None,obj,0,sense=gp.GRB.MAXIMIZE)\n",
    "\n",
    "lpMod.Params.OutputFlag = 0 # tell gurobi to shut up!!\n",
    "lpMod.optimize()"
   ]
  },
  {
   "cell_type": "code",
   "execution_count": 6,
   "metadata": {},
   "outputs": [
    {
     "data": {
      "text/plain": [
       "array([3.8, 3. ])"
      ]
     },
     "execution_count": 6,
     "metadata": {},
     "output_type": "execute_result"
    }
   ],
   "source": [
    "lpMod_x.x"
   ]
  },
  {
   "cell_type": "code",
   "execution_count": 7,
   "metadata": {},
   "outputs": [
    {
     "data": {
      "text/plain": [
       "[0.15, 0.10000000000000003, 0.0]"
      ]
     },
     "execution_count": 7,
     "metadata": {},
     "output_type": "execute_result"
    }
   ],
   "source": [
    "[lpMod_con[i].Pi for i in range(len(A))]"
   ]
  },
  {
   "cell_type": "code",
   "execution_count": 8,
   "metadata": {},
   "outputs": [],
   "source": [
    "obj = np.array([-1,4])\n",
    "A = np.zeros((3,2))\n",
    "A[0,:] = [-10,20]\n",
    "A[1,:] = [5,10]\n",
    "A[2,:] = [1,0]\n",
    "sense = ['<']*3\n",
    "b = np.array([22,49,5])"
   ]
  },
  {
   "cell_type": "code",
   "execution_count": 9,
   "metadata": {},
   "outputs": [],
   "source": [
    "lpMod = gp.Model()\n",
    "lpMod_x = lpMod.addMVar(2)\n",
    "lpMod_con = lpMod.addMConstrs(A, lpMod_x, sense, b)\n",
    "lpMod.setMObjective(None,obj,0,sense=gp.GRB.MAXIMIZE)\n",
    "\n",
    "lpMod.Params.OutputFlag = 0 # tell gurobi to shut up!!\n",
    "lpMod.optimize()"
   ]
  },
  {
   "cell_type": "code",
   "execution_count": null,
   "metadata": {},
   "outputs": [],
   "source": []
  },
  {
   "cell_type": "code",
   "execution_count": null,
   "metadata": {},
   "outputs": [],
   "source": []
  },
  {
   "cell_type": "code",
   "execution_count": null,
   "metadata": {},
   "outputs": [],
   "source": []
  },
  {
   "cell_type": "markdown",
   "metadata": {},
   "source": [
    "# Q2"
   ]
  },
  {
   "cell_type": "code",
   "execution_count": 10,
   "metadata": {},
   "outputs": [],
   "source": [
    "obj = np.array([9,5,6,4])\n",
    "A = np.zeros((5,4))\n",
    "A[0,:] = [1,1,1,1]  #total invest <11\n",
    "A[1,:] = [0,0,1,0]  #factory in Austin >1\n",
    "A[2,:] = [0,0,0,1]  #factory in Dallas >1     \n",
    "A[3,:] = [1,0,0,0]  #warehouse in Austin <1\n",
    "A[4,:] = [0,1,0,0]  #warehouse in Dallas <1\n",
    "sense = np.array(['<','<','<','>','>'])\n",
    "b = np.array([11,1,1,1,1])"
   ]
  },
  {
   "cell_type": "code",
   "execution_count": 11,
   "metadata": {},
   "outputs": [
    {
     "data": {
      "text/plain": [
       "5"
      ]
     },
     "execution_count": 11,
     "metadata": {},
     "output_type": "execute_result"
    }
   ],
   "source": [
    "len(sense)"
   ]
  },
  {
   "cell_type": "code",
   "execution_count": 12,
   "metadata": {},
   "outputs": [],
   "source": [
    "ipMod = gp.Model()\n",
    "ipMod_x = ipMod.addMVar(4,vtype=['I']*4) # 'C'-> continuous or 'I' -> integer or 'B' -> binary,vtype means variable type\n",
    "                                           # vtype needs to be a list\n",
    "ipMod_con = ipMod.addMConstrs(A, ipMod_x, sense, b)\n",
    "ipMod.setMObjective(None,obj,0,sense=gp.GRB.MAXIMIZE)\n",
    "\n",
    "ipMod.Params.OutputFlag = 0 # tell gurobi to shut up!!\n",
    "ipMod.optimize()"
   ]
  },
  {
   "cell_type": "code",
   "execution_count": 13,
   "metadata": {},
   "outputs": [
    {
     "data": {
      "text/plain": [
       "array([10.,  1., -0., -0.])"
      ]
     },
     "execution_count": 13,
     "metadata": {},
     "output_type": "execute_result"
    }
   ],
   "source": [
    "ipMod_x.x"
   ]
  },
  {
   "cell_type": "code",
   "execution_count": null,
   "metadata": {},
   "outputs": [],
   "source": []
  },
  {
   "cell_type": "markdown",
   "metadata": {},
   "source": [
    "# Q3"
   ]
  },
  {
   "cell_type": "code",
   "execution_count": 14,
   "metadata": {},
   "outputs": [
    {
     "ename": "ValueError",
     "evalue": "could not broadcast input array from shape (12,) into shape (4,)",
     "output_type": "error",
     "traceback": [
      "\u001b[1;31m---------------------------------------------------------------------------\u001b[0m",
      "\u001b[1;31mValueError\u001b[0m                                Traceback (most recent call last)",
      "\u001b[1;32m<ipython-input-14-d3f23f71b6ff>\u001b[0m in \u001b[0;36m<module>\u001b[1;34m\u001b[0m\n\u001b[0;32m      1\u001b[0m \u001b[0mobj\u001b[0m \u001b[1;33m=\u001b[0m \u001b[0mnp\u001b[0m\u001b[1;33m.\u001b[0m\u001b[0marray\u001b[0m\u001b[1;33m(\u001b[0m\u001b[1;33m[\u001b[0m\u001b[1;36m9\u001b[0m\u001b[1;33m,\u001b[0m\u001b[1;36m5\u001b[0m\u001b[1;33m,\u001b[0m\u001b[1;36m6\u001b[0m\u001b[1;33m,\u001b[0m\u001b[1;36m4\u001b[0m\u001b[1;33m]\u001b[0m\u001b[1;33m)\u001b[0m\u001b[1;33m\u001b[0m\u001b[1;33m\u001b[0m\u001b[0m\n\u001b[0;32m      2\u001b[0m \u001b[0mA\u001b[0m \u001b[1;33m=\u001b[0m \u001b[0mnp\u001b[0m\u001b[1;33m.\u001b[0m\u001b[0mzeros\u001b[0m\u001b[1;33m(\u001b[0m\u001b[1;33m(\u001b[0m\u001b[1;36m5\u001b[0m\u001b[1;33m,\u001b[0m\u001b[1;36m4\u001b[0m\u001b[1;33m)\u001b[0m\u001b[1;33m)\u001b[0m\u001b[1;33m\u001b[0m\u001b[1;33m\u001b[0m\u001b[0m\n\u001b[1;32m----> 3\u001b[1;33m \u001b[0mA\u001b[0m\u001b[1;33m[\u001b[0m\u001b[1;36m0\u001b[0m\u001b[1;33m,\u001b[0m\u001b[1;33m:\u001b[0m\u001b[1;33m]\u001b[0m \u001b[1;33m=\u001b[0m \u001b[1;33m[\u001b[0m\u001b[1;36m1\u001b[0m\u001b[1;33m,\u001b[0m\u001b[1;36m0\u001b[0m\u001b[1;33m,\u001b[0m\u001b[1;36m1\u001b[0m\u001b[1;33m,\u001b[0m\u001b[1;36m0\u001b[0m\u001b[1;33m,\u001b[0m\u001b[1;36m1\u001b[0m\u001b[1;33m,\u001b[0m\u001b[1;36m0\u001b[0m\u001b[1;33m,\u001b[0m\u001b[1;36m1\u001b[0m\u001b[1;33m,\u001b[0m\u001b[1;36m1\u001b[0m\u001b[1;33m,\u001b[0m\u001b[1;36m1\u001b[0m\u001b[1;33m,\u001b[0m\u001b[1;36m0\u001b[0m\u001b[1;33m,\u001b[0m\u001b[1;36m0\u001b[0m\u001b[1;33m,\u001b[0m\u001b[1;36m0\u001b[0m\u001b[1;33m]\u001b[0m  \u001b[1;31m#total invest <11\u001b[0m\u001b[1;33m\u001b[0m\u001b[1;33m\u001b[0m\u001b[0m\n\u001b[0m\u001b[0;32m      4\u001b[0m \u001b[0mA\u001b[0m\u001b[1;33m[\u001b[0m\u001b[1;36m1\u001b[0m\u001b[1;33m,\u001b[0m\u001b[1;33m:\u001b[0m\u001b[1;33m]\u001b[0m \u001b[1;33m=\u001b[0m \u001b[1;33m[\u001b[0m\u001b[1;36m0\u001b[0m\u001b[1;33m,\u001b[0m\u001b[1;36m0\u001b[0m\u001b[1;33m,\u001b[0m\u001b[1;36m1\u001b[0m\u001b[1;33m,\u001b[0m\u001b[1;36m0\u001b[0m\u001b[1;33m]\u001b[0m  \u001b[1;31m#factory in Austin >1\u001b[0m\u001b[1;33m\u001b[0m\u001b[1;33m\u001b[0m\u001b[0m\n\u001b[0;32m      5\u001b[0m \u001b[0mA\u001b[0m\u001b[1;33m[\u001b[0m\u001b[1;36m2\u001b[0m\u001b[1;33m,\u001b[0m\u001b[1;33m:\u001b[0m\u001b[1;33m]\u001b[0m \u001b[1;33m=\u001b[0m \u001b[1;33m[\u001b[0m\u001b[1;36m0\u001b[0m\u001b[1;33m,\u001b[0m\u001b[1;36m0\u001b[0m\u001b[1;33m,\u001b[0m\u001b[1;36m0\u001b[0m\u001b[1;33m,\u001b[0m\u001b[1;36m1\u001b[0m\u001b[1;33m]\u001b[0m  \u001b[1;31m#factory in Dallas >1\u001b[0m\u001b[1;33m\u001b[0m\u001b[1;33m\u001b[0m\u001b[0m\n",
      "\u001b[1;31mValueError\u001b[0m: could not broadcast input array from shape (12,) into shape (4,)"
     ]
    }
   ],
   "source": [
    "obj = np.array([9,5,6,4])\n",
    "A = np.zeros((5,4))\n",
    "A[0,:] = [1,0,1,0,1,0,1,1,1,0,0,0]  #total invest <11\n",
    "A[1,:] = [0,0,1,0]  #factory in Austin >1\n",
    "A[2,:] = [0,0,0,1]  #factory in Dallas >1     \n",
    "A[3,:] = [1,0,0,0]  #warehouse in Austin <1\n",
    "A[4,:] = [0,1,0,0]  #warehouse in Dallas <1\n",
    "sense = np.array(['<','<','<','>','>'])\n",
    "b = np.array([11,1,1,1,1])\n"
   ]
  },
  {
   "cell_type": "code",
   "execution_count": null,
   "metadata": {},
   "outputs": [],
   "source": []
  },
  {
   "cell_type": "code",
   "execution_count": null,
   "metadata": {},
   "outputs": [],
   "source": []
  },
  {
   "cell_type": "code",
   "execution_count": null,
   "metadata": {},
   "outputs": [],
   "source": []
  },
  {
   "cell_type": "markdown",
   "metadata": {},
   "source": [
    "# Q3"
   ]
  },
  {
   "cell_type": "code",
   "execution_count": null,
   "metadata": {},
   "outputs": [],
   "source": [
    "obj = np.array([1]*12)\n",
    "A = np.zeros((12,12))\n",
    "A[0,:] = [1,0,1,0,1,0,1,1,1,0,0,0] \n",
    "A[1,:] = [0,1,0,0,0,0,0,1,1,0,0,0]  \n",
    "A[2,:] = [1,0,1,0,0,0,1,1,1,0,0,0]       \n",
    "A[3,:] = [0,0,0,1,0,0,0,0,0,1,0,0]  \n",
    "A[4,:] = [1,0,0,0,1,0,1,0,0,0,0,0]  \n",
    "A[5,:] = [0,0,0,0,0,1,0,0,0,1,1,0]  \n",
    "A[6,:] = [1,0,1,0,1,0,1,0,0,0,0,0]  \n",
    "A[7,:] = [1,1,1,0,0,0,0,1,1,0,0,0]  \n",
    "A[8,:] = [1,1,1,0,0,0,0,1,1,0,0,0] \n",
    "A[9,:] = [0,0,0,1,0,1,0,0,0,1,1,1] \n",
    "A[10,:]= [0,0,0,0,0,1,0,0,0,1,1,1] \n",
    "A[11,:]= [0,0,0,0,0,0,0,0,0,1,1,1] \n",
    "sense = np.array(['>']*12)\n",
    "b = np.array([1]*12)"
   ]
  },
  {
   "cell_type": "code",
   "execution_count": null,
   "metadata": {},
   "outputs": [],
   "source": [
    "ipMod = gp.Model()\n",
    "ipMod_x = ipMod.addMVar(12,vtype=['B']*12) # 'C'-> continuous or 'I' -> integer or 'B' -> binary,vtype means variable type\n",
    "                                           # vtype needs to be a list\n",
    "ipMod_con = ipMod.addMConstrs(A, ipMod_x, sense, b)\n",
    "ipMod.setMObjective(None,obj,0,sense=gp.GRB.MINIMIZE)\n",
    "\n",
    "ipMod.Params.OutputFlag = 0 # tell gurobi to shut up!!\n",
    "ipMod.optimize()"
   ]
  },
  {
   "cell_type": "code",
   "execution_count": null,
   "metadata": {},
   "outputs": [],
   "source": [
    "ipMod_x.x"
   ]
  },
  {
   "cell_type": "code",
   "execution_count": null,
   "metadata": {},
   "outputs": [],
   "source": []
  },
  {
   "cell_type": "code",
   "execution_count": null,
   "metadata": {},
   "outputs": [],
   "source": []
  },
  {
   "cell_type": "markdown",
   "metadata": {},
   "source": [
    "# Q4"
   ]
  },
  {
   "cell_type": "code",
   "execution_count": 15,
   "metadata": {},
   "outputs": [],
   "source": [
    "obj = np.array([20,8,16,21,4,9,12])\n",
    "A = np.zeros((3,7))\n",
    "A[0,:] = [4,3,2,1,1,0,0] \n",
    "A[1,:] = [0,1,0,2,1,3,0]  \n",
    "A[2,:] = [0,0,1,0,1,0,2]\n",
    "sense = np.array(['>']*3)\n",
    "b = np.array([233,148,106])"
   ]
  },
  {
   "cell_type": "code",
   "execution_count": 16,
   "metadata": {},
   "outputs": [],
   "source": [
    "ipMod = gp.Model()\n",
    "ipMod_x = ipMod.addMVar(7,vtype=['I']*7) # 'C'-> continuous or 'I' -> integer or 'B' -> binary,vtype means variable type\n",
    "                                           # vtype needs to be a list\n",
    "ipMod_con = ipMod.addMConstrs(A, ipMod_x, sense, b)\n",
    "ipMod.setMObjective(None,obj,0,sense=gp.GRB.MINIMIZE)\n",
    "\n",
    "ipMod.Params.OutputFlag = 0 # tell gurobi to shut up!!\n",
    "ipMod.optimize()"
   ]
  },
  {
   "cell_type": "code",
   "execution_count": 17,
   "metadata": {},
   "outputs": [
    {
     "data": {
      "text/plain": [
       "array([  0.,  42.,  -0.,  -0., 107.,  -0.,  -0.])"
      ]
     },
     "execution_count": 17,
     "metadata": {},
     "output_type": "execute_result"
    }
   ],
   "source": [
    "ipMod_x.x"
   ]
  },
  {
   "cell_type": "markdown",
   "metadata": {},
   "source": [
    "# Q5"
   ]
  },
  {
   "cell_type": "code",
   "execution_count": 60,
   "metadata": {},
   "outputs": [],
   "source": [
    "obj = np.array([90+60*4,60*5,90+60*4,90*2+60*3,90*2+60*3,90*2+60*3,90*2+60*3])\n",
    "A = np.zeros((7,7))\n",
    "A[0,:] = [1,0,0,1,1,1,1] \n",
    "A[1,:] = [1,1,0,0,1,1,1]  \n",
    "A[2,:] = [1,1,1,0,0,1,1]       \n",
    "A[3,:] = [1,1,1,1,0,0,1]  \n",
    "A[4,:] = [1,1,1,1,1,0,0]  \n",
    "A[5,:] = [0,1,1,1,1,1,0]  \n",
    "A[6,:] = [0,0,1,1,1,1,1]  \n",
    "\n",
    "sense = np.array(['>']*7)\n",
    "b = np.array([5,13,12,10,14,8,6])"
   ]
  },
  {
   "cell_type": "code",
   "execution_count": 61,
   "metadata": {},
   "outputs": [],
   "source": [
    "ipMod = gp.Model()\n",
    "ipMod_x = ipMod.addMVar(7,vtype=['I']*7) # 'C'-> continuous or 'I' -> integer or 'B' -> binary,vtype means variable type\n",
    "                                           # vtype needs to be a list\n",
    "ipMod_con = ipMod.addMConstrs(A, ipMod_x, sense, b)\n",
    "ipMod.setMObjective(None,obj,0,sense=gp.GRB.MINIMIZE)\n",
    "\n",
    "ipMod.Params.OutputFlag = 0 # tell gurobi to shut up!!\n",
    "ipMod.optimize()"
   ]
  },
  {
   "cell_type": "code",
   "execution_count": 63,
   "metadata": {},
   "outputs": [
    {
     "data": {
      "text/plain": [
       "array([ 1.,  8.,  2., -0.,  3.,  1., -0.])"
      ]
     },
     "execution_count": 63,
     "metadata": {},
     "output_type": "execute_result"
    }
   ],
   "source": [
    "ipMod_x.x"
   ]
  },
  {
   "cell_type": "code",
   "execution_count": null,
   "metadata": {},
   "outputs": [],
   "source": []
  },
  {
   "cell_type": "code",
   "execution_count": null,
   "metadata": {},
   "outputs": [],
   "source": []
  },
  {
   "cell_type": "code",
   "execution_count": null,
   "metadata": {},
   "outputs": [],
   "source": []
  },
  {
   "cell_type": "markdown",
   "metadata": {},
   "source": [
    "# NPV Example"
   ]
  },
  {
   "cell_type": "code",
   "execution_count": 25,
   "metadata": {},
   "outputs": [],
   "source": [
    "obj = np.array([16000,8000,10000,19500,22000,12000,7500])\n",
    "sense = ['<']\n",
    "A = np.zeros((1,7))\n",
    "A[0,:] = [5000,2500,3500,6000,7000,4500,3000]\n",
    "b = np.array([15000])\n"
   ]
  },
  {
   "cell_type": "code",
   "execution_count": 26,
   "metadata": {},
   "outputs": [],
   "source": [
    "npvMod = gp.Model()\n",
    "npvMod_x = npvMod.addMVar(len(obj),vtype=['B']*len(obj)) # 'C' or 'I' or 'B'\n",
    "npvMod_con = npvMod.addMConstrs(A, npvMod_x, sense, b)\n",
    "npvMod.setMObjective(None,obj,0,sense=gp.GRB.MAXIMIZE)\n",
    "\n",
    "npvMod.Params.OutputFlag = 0 # tell gurobi to shut up!!\n",
    "npvMod.optimize()"
   ]
  },
  {
   "cell_type": "code",
   "execution_count": 27,
   "metadata": {},
   "outputs": [
    {
     "data": {
      "text/plain": [
       "array([1., 1., 0., 0., 1., 0., 0.])"
      ]
     },
     "execution_count": 27,
     "metadata": {},
     "output_type": "execute_result"
    }
   ],
   "source": [
    "npvMod_x.x"
   ]
  },
  {
   "cell_type": "code",
   "execution_count": 28,
   "metadata": {},
   "outputs": [
    {
     "data": {
      "text/plain": [
       "46000.0"
      ]
     },
     "execution_count": 28,
     "metadata": {},
     "output_type": "execute_result"
    }
   ],
   "source": [
    "npvMod.objVal"
   ]
  },
  {
   "cell_type": "code",
   "execution_count": 30,
   "metadata": {},
   "outputs": [
    {
     "ename": "AttributeError",
     "evalue": "Unable to retrieve attribute 'Pi'",
     "output_type": "error",
     "traceback": [
      "\u001b[1;31m---------------------------------------------------------------------------\u001b[0m",
      "\u001b[1;31mAttributeError\u001b[0m                            Traceback (most recent call last)",
      "\u001b[1;32m<ipython-input-30-4a0ee7411f95>\u001b[0m in \u001b[0;36m<module>\u001b[1;34m\u001b[0m\n\u001b[1;32m----> 1\u001b[1;33m \u001b[0mnpvMod_con\u001b[0m\u001b[1;33m[\u001b[0m\u001b[1;36m0\u001b[0m\u001b[1;33m]\u001b[0m\u001b[1;33m.\u001b[0m\u001b[0mPi\u001b[0m  \u001b[1;31m#no shadow price\u001b[0m\u001b[1;33m\u001b[0m\u001b[1;33m\u001b[0m\u001b[0m\n\u001b[0m",
      "\u001b[1;32msrc\\gurobipy\\constr.pxi\u001b[0m in \u001b[0;36mgurobipy.Constr.__getattr__\u001b[1;34m()\u001b[0m\n",
      "\u001b[1;32msrc\\gurobipy\\constr.pxi\u001b[0m in \u001b[0;36mgurobipy.Constr.getAttr\u001b[1;34m()\u001b[0m\n",
      "\u001b[1;32msrc\\gurobipy\\attrutil.pxi\u001b[0m in \u001b[0;36mgurobipy.__getattr\u001b[1;34m()\u001b[0m\n",
      "\u001b[1;31mAttributeError\u001b[0m: Unable to retrieve attribute 'Pi'"
     ]
    }
   ],
   "source": [
    "npvMod_con[0].Pi  #no shadow price "
   ]
  },
  {
   "cell_type": "code",
   "execution_count": 31,
   "metadata": {},
   "outputs": [
    {
     "ename": "GurobiError",
     "evalue": "Unable to retrieve attribute 'SAObjUp'",
     "output_type": "error",
     "traceback": [
      "\u001b[1;31m---------------------------------------------------------------------------\u001b[0m",
      "\u001b[1;31mGurobiError\u001b[0m                               Traceback (most recent call last)",
      "\u001b[1;32m<ipython-input-31-6ec832841913>\u001b[0m in \u001b[0;36m<module>\u001b[1;34m\u001b[0m\n\u001b[1;32m----> 1\u001b[1;33m \u001b[0mnpvMod\u001b[0m\u001b[1;33m.\u001b[0m\u001b[0mSAObjUp\u001b[0m\u001b[1;33m\u001b[0m\u001b[1;33m\u001b[0m\u001b[0m\n\u001b[0m",
      "\u001b[1;32msrc\\gurobipy\\model.pxi\u001b[0m in \u001b[0;36mgurobipy.Model.__getattr__\u001b[1;34m()\u001b[0m\n",
      "\u001b[1;32msrc\\gurobipy\\model.pxi\u001b[0m in \u001b[0;36mgurobipy.Model.getAttr\u001b[1;34m()\u001b[0m\n",
      "\u001b[1;32msrc\\gurobipy\\attrutil.pxi\u001b[0m in \u001b[0;36mgurobipy.__gettypedattrlist\u001b[1;34m()\u001b[0m\n",
      "\u001b[1;31mGurobiError\u001b[0m: Unable to retrieve attribute 'SAObjUp'"
     ]
    }
   ],
   "source": [
    "npvMod.SAObjUp  ##no sensitivity analysis allowed"
   ]
  },
  {
   "cell_type": "markdown",
   "metadata": {},
   "source": [
    "# Buy in Problem"
   ]
  },
  {
   "cell_type": "code",
   "execution_count": 16,
   "metadata": {},
   "outputs": [],
   "source": [
    "# buy-in problem\n",
    "# variables are x1, x2, ..., x5, y1, y2, ..., y5\n",
    "M = 7\n",
    "obj = np.array([10,18,11,9,10,-25,-35,-28,-20,-40]) # profits per unit and buy in costs\n",
    "ub = np.array([5,4,5,7,3,1,1,1,1,1]) # upper bound on each project\n",
    "A = np.zeros((6,10))\n",
    "b = np.zeros(6)\n",
    "sense = ['<']*6\n",
    "A[0,:] = [5,7,6,4,8,25,35,28,20,40] # budget constraint\n",
    "b[0] = 125\n",
    "\n",
    "A[1,[0,5]] = [1,-M] # big M constraints\n",
    "A[2,[1,6]] = [1,-M]\n",
    "A[3,[2,7]] = [1,-M]\n",
    "A[4,[3,8]] = [1,-M]\n",
    "A[5,[4,9]] = [1,-M]\n",
    "vtype = ['C']*5 + ['B']*5\n"
   ]
  },
  {
   "cell_type": "code",
   "execution_count": 17,
   "metadata": {},
   "outputs": [],
   "source": [
    "biMod = gp.Model()\n",
    "biMod_x = biMod.addMVar(len(obj),vtype=vtype,ub=ub) # vtype can be: 'C' or 'I' or 'B'\n",
    "biMod_con = biMod.addMConstrs(A, biMod_x, sense, b)\n",
    "biMod.setMObjective(None,obj,0,sense=gp.GRB.MAXIMIZE)\n",
    "\n",
    "biMod.Params.OutputFlag = 0 # tell gurobi to shut up!!\n",
    "biMod.optimize()"
   ]
  },
  {
   "cell_type": "code",
   "execution_count": 18,
   "metadata": {},
   "outputs": [
    {
     "data": {
      "text/plain": [
       "array([ 0.,  4.,  0.,  7.,  0.,  0.,  1., -0.,  1., -0.])"
      ]
     },
     "execution_count": 18,
     "metadata": {},
     "output_type": "execute_result"
    }
   ],
   "source": [
    "biMod_x.x"
   ]
  },
  {
   "cell_type": "code",
   "execution_count": 19,
   "metadata": {},
   "outputs": [
    {
     "data": {
      "text/plain": [
       "80.0"
      ]
     },
     "execution_count": 19,
     "metadata": {},
     "output_type": "execute_result"
    }
   ],
   "source": [
    "# y2 and y4 are 1\n",
    "# y1, y3 and y5 are 0\n",
    "# so only x2 and x4 are allowed to be positive\n",
    "# x1, x3, and x5 must be 0, which they are!\n",
    "# buy 4 units of investment 2 and 7 units of investment 4\n",
    "biMod.objVal # this is the PROFIT, not the payoff\n",
    "# we don't need to include money not invested because you can't get a PROFIT on that money\n",
    "# you actually only invest $101, not your whole $125 budget...\n",
    "# what if you could take all money not invested in a project and put it in a bank\n",
    "# account that pays 1% interest?\n",
    "# then you could also include a slack variable for  all money not spent \n",
    "# in the budget constraint.  then that could be added to the objective\n",
    "# (just its interest) so interest on money not invested gets included in profits\n",
    "# can you set up the model to include that?\n"
   ]
  },
  {
   "cell_type": "code",
   "execution_count": null,
   "metadata": {},
   "outputs": [],
   "source": []
  },
  {
   "cell_type": "code",
   "execution_count": null,
   "metadata": {},
   "outputs": [],
   "source": []
  },
  {
   "cell_type": "code",
   "execution_count": null,
   "metadata": {},
   "outputs": [],
   "source": []
  },
  {
   "cell_type": "code",
   "execution_count": null,
   "metadata": {},
   "outputs": [],
   "source": []
  },
  {
   "cell_type": "code",
   "execution_count": null,
   "metadata": {},
   "outputs": [],
   "source": []
  },
  {
   "cell_type": "code",
   "execution_count": null,
   "metadata": {},
   "outputs": [],
   "source": []
  }
 ],
 "metadata": {
  "kernelspec": {
   "display_name": "Python 3",
   "language": "python",
   "name": "python3"
  },
  "language_info": {
   "codemirror_mode": {
    "name": "ipython",
    "version": 3
   },
   "file_extension": ".py",
   "mimetype": "text/x-python",
   "name": "python",
   "nbconvert_exporter": "python",
   "pygments_lexer": "ipython3",
   "version": "3.8.8"
  }
 },
 "nbformat": 4,
 "nbformat_minor": 2
}
