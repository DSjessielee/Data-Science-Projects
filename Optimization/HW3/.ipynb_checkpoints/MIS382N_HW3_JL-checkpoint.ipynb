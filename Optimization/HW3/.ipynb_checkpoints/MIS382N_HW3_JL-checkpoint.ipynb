{
 "cells": [
  {
   "cell_type": "markdown",
   "metadata": {
    "id": "Nb3QnVJJbF-b"
   },
   "source": [
    "# <p style=\"text-align: center;\">MIS 382N: Advanced Machine Learning</p>\n",
    "# <p style=\"text-align: center;\">Homework 3</p>\n",
    "## <p style=\"text-align: center;\">Total points: 85</p>\n",
    "## <p style=\"text-align: center;\">Due: Monday, **Oct 15th** submitted via Canvas by 11:59 pm</p>\n",
    "\n",
    "Your homework should be written in a **Jupyter notebook**. Please make sure your code runs and the graphics (and anything else) are displayed in your notebook before submitting (%matplotlib inline). \n",
    "\n",
    "**Note: Notebooks MUST have the images embedded in them. There will be no regrades if attached images do not render in the notebook. Please re download from canvas after submission and make sure all attached images render without errors. (Hint: Image module from IPython.display)**"
   ]
  },
  {
   "cell_type": "markdown",
   "metadata": {
    "id": "wkXOyWSCbMlw"
   },
   "source": [
    "**This can be an individual assignment or group of 2. If you choose to do it as a group, please specify who you are working with (name and EID), then only one student should submit the homework. Put your name and eid here.**\n",
    "\n",
    "Name:\n",
    "\n",
    "EID:\n",
    "\n",
    "Name:\n",
    "\n",
    "EID:"
   ]
  },
  {
   "cell_type": "markdown",
   "metadata": {
    "id": "7LgyLF87bPkA"
   },
   "source": [
    "# Question 1: Stochastic gradient descent II (20 pts)\n",
    "\n",
    "Write an SGD solution in Python to the non-linear model without using any other library except for those provided in the code template below. \n",
    "\n",
    "$$ y = w_0 + w_1x_1 + w_2x_1x_2 + w_3x_1^2x_2 + w_4x_1x_2^2 + w_5x_2^3$$ \n",
    "\n",
    "The solution class template is given. The `init()` function of the class takes as input the `learning_rate`, `regularization_constant` and `number_of_epochs`. The `fit()` method must take as input `X`, `y` and `update_rule` which can be `'sgd_momentum'` or `'RMSprop'`. The `predict()` method takes an `X` value (optionally, an array of values). \n",
    "\n",
    "Use your new gradient descent regression to train your model and predict the data given in 'SGD_samples.csv', for 30 epochs, using learning rates: `[0.0001, 0.001, 0.01, 0.05]` and regularization (ridge regression) constants: `[0, 0.01, 0.1]`. **(8 points)** \n",
    "\n",
    "Plot MSE and the $w$ parameters as a function of epoch (for 30 epochs) for the best 2 combinations of `learning_rate` and `regularization_constant` for SGD-Momentum, RMSprop, i.e., for each combination, you should have one plot for MSE vs Epoch and another for the parameters(weights) vs Epoch using respectively SGD-Momentum and RMSprop, hence in total 8 plots. Report the `learning_rate`, `regularization_constant` and MSE at the end of 30 epochs for the two best combinations for SGD-Momentum and RMSprop respectively. **($4\\times 2 = 8$ pts)**\n",
    "\n",
    "Observe the results, compare the performance of the two learning methods **(4 pts)**. \n",
    "\n",
    "Here is a blog which you can go through to know about RMSprop and Adam - [blog](http://ruder.io/optimizing-gradient-descent/).\n",
    "\n",
    "Following codes are for your reference, please don't change the initialization values of the given parameters.\n"
   ]
  },
  {
   "cell_type": "code",
   "execution_count": 57,
   "metadata": {
    "id": "XVVk-mks4laL"
   },
   "outputs": [],
   "source": [
    "%matplotlib inline\n",
    "import random\n",
    "import numpy as np\n",
    "import matplotlib.pyplot as plt\n",
    "import pandas as pd\n",
    "\n",
    "class LinearRegression:\n",
    "    \n",
    "    def __init__(self, learning_rate, regularization, n_epoch):\n",
    "        self.learning_rate = learning_rate\n",
    "        self.n_epoch = n_epoch\n",
    "        self.regularization = regularization\n",
    "        self.coef = np.zeros(5) # coefficient vector\n",
    "        self.eps = 10**-8 # only used in adagrad\n",
    "        self.cache = np.zeros(self.coef.shape) # only used in adagrad\n",
    "        self.mu = 0.9 # used in momentum\n",
    "\n",
    "    def rmsprop(self, gradient):\n",
    "        '''\n",
    "        updates self.coef based on gradient using rmsprop\n",
    "        '''\n",
    "        self.coef = self.coef - self.learning_rate * gradient\n",
    "    \n",
    "    def sgd_momentum(self, gradient):\n",
    "        '''\n",
    "        updates self.coef based on gradient using Sgd_momentum\n",
    "        '''\n",
    "    \n",
    "    def fit(self, X, y, update_rule='sgd_momentum', plot=False):\n",
    "        '''\n",
    "        Fit the model given X, y. It uses the specified update_rule\n",
    "        and displays a plot of the coefficients vs epochs, and mse vs epochs if plot is set as True. \n",
    "        \n",
    "        -> use get_features to get the features from X\n",
    "        -> for epoch in epochs:\n",
    "            iterate through all x, y.\n",
    "                compute prediction using linearPredict.\n",
    "                compute gradient.\n",
    "                pass this gradient to the corresponding update function and update the coefficients\n",
    "                keep track of mse and coefficients\n",
    "        -> plot if required\n",
    "        \n",
    "        '''\n",
    "\n",
    "    def get_features(self, X):\n",
    "       '''\n",
    "       X (input) is the nx2 dimensional array - n data points with X_1 and X_2.\n",
    "       It returns a nX5 dimensional array - n data points with 1, X_1, X_1X_2, X_1^2X_2^2, X_2^3.\n",
    "       '''\n",
    "        \n",
    "    def linearPredict(self, X_features):\n",
    "       '''\n",
    "       returns the dot product of X and self.coef\n",
    "       '''"
   ]
  },
  {
   "cell_type": "code",
   "execution_count": 58,
   "metadata": {
    "id": "XE3pcI6O7Jvj"
   },
   "outputs": [
    {
     "ename": "ModuleNotFoundError",
     "evalue": "No module named 'google'",
     "output_type": "error",
     "traceback": [
      "\u001b[1;31m---------------------------------------------------------------------------\u001b[0m",
      "\u001b[1;31mModuleNotFoundError\u001b[0m                       Traceback (most recent call last)",
      "\u001b[1;32m<ipython-input-58-25e79b7f35f7>\u001b[0m in \u001b[0;36m<module>\u001b[1;34m\u001b[0m\n\u001b[0;32m      1\u001b[0m \u001b[1;31m# Only use this code block if you are using Google Colab.\u001b[0m\u001b[1;33m\u001b[0m\u001b[1;33m\u001b[0m\u001b[1;33m\u001b[0m\u001b[0m\n\u001b[0;32m      2\u001b[0m \u001b[1;31m# If you are using Jupyter Notebook, please ignore this code block. You can directly upload the file to your Jupyter Notebook file systems.\u001b[0m\u001b[1;33m\u001b[0m\u001b[1;33m\u001b[0m\u001b[1;33m\u001b[0m\u001b[0m\n\u001b[1;32m----> 3\u001b[1;33m \u001b[1;32mfrom\u001b[0m \u001b[0mgoogle\u001b[0m\u001b[1;33m.\u001b[0m\u001b[0mcolab\u001b[0m \u001b[1;32mimport\u001b[0m \u001b[0mfiles\u001b[0m\u001b[1;33m\u001b[0m\u001b[1;33m\u001b[0m\u001b[0m\n\u001b[0m\u001b[0;32m      4\u001b[0m \u001b[1;33m\u001b[0m\u001b[0m\n\u001b[0;32m      5\u001b[0m \u001b[1;31m## It will prompt you to select a local file. Click on “Choose Files” then select and upload the file.\u001b[0m\u001b[1;33m\u001b[0m\u001b[1;33m\u001b[0m\u001b[1;33m\u001b[0m\u001b[0m\n",
      "\u001b[1;31mModuleNotFoundError\u001b[0m: No module named 'google'"
     ]
    }
   ],
   "source": [
    "# Only use this code block if you are using Google Colab.\n",
    "# If you are using Jupyter Notebook, please ignore this code block. You can directly upload the file to your Jupyter Notebook file systems.\n",
    "from google.colab import files\n",
    "\n",
    "## It will prompt you to select a local file. Click on “Choose Files” then select and upload the file. \n",
    "## Wait for the file to be 100% uploaded. You should see the name of the file once Colab has uploaded it.\n",
    "uploaded = files.upload()"
   ]
  },
  {
   "cell_type": "code",
   "execution_count": null,
   "metadata": {
    "id": "KMCFUos-5Brh"
   },
   "outputs": [],
   "source": [
    "import random\n",
    "import numpy as np\n",
    "import matplotlib.pyplot as plt\n",
    "import pandas as pd\n",
    "\n",
    "num_terms = 6\n",
    "\n",
    "data = pd.read_csv('SGD_samples.csv')\n",
    "X = np.array([data['x1'].values, data['x2'].values]).T\n",
    "y = data['y'].values\n",
    "n_epochs = 30\n",
    "learning_rate = [0.0001, 0.001, 0.01, 0.05]\n",
    "regularization = [0, 0.01, 0.1]"
   ]
  },
  {
   "cell_type": "markdown",
   "metadata": {
    "id": "d0xrLYAi3GtV"
   },
   "source": [
    "# Answer:"
   ]
  },
  {
   "cell_type": "markdown",
   "metadata": {
    "id": "H6pUQ7SvbU4G"
   },
   "source": [
    "#Question 2: Tensorflow Playground (15 pts)\n",
    "\n",
    "In this question, you will be playing with [Tensorflow Playground](https://playground.tensorflow.org).\n",
    "\n",
    "Select \"**Classification**\" as the **Problem Type**. Among the four datasets shown in DATA, please select the **top right** dataset. \n",
    "\n",
    "Use the following settings as the DEFAULT settings for all **subquestions**: Learning rate = 0.03, Activation = Tanh, Regularization = None, Ratio of training to test data = 50%, Noise = 0, Batch Size = 30, input as $X_1$ with $X_2$, One hidden layer with two neurons.\n",
    "\n",
    "a) **(4 pts)** Use the DEFAULT setting and run two experiments - one using **Tanh** as the activation function and one using the **Linear** activation function. Report the train, test losses for both at the end of **1000 epochs**. What qualitative difference do you observe in the decision boundaries obtained? What do you think is the reason for this? \n",
    "\n",
    "We will now study the effect of certain variations in the network structure or training process, keeping all other aspects the same as in the DEFAULT setting specified above, with **Tanh** as the activation.\n",
    "\n",
    "b) **(4 pts)** Effect of number of hidden units: Keep other settings the same as in DEFAULT, report the training loss and test loss at the end of 1000 epochs **using 4 neurons and 8 neurons in the hidden layer**. What do you observe in terms of the decision boundary obtained as the number of neurons increases? What do you think is the reason for this? \n",
    "\n",
    "c) **(4 pts)** Effect of Learning rate and number of epochs: Keep other settings the same as in DEFAULT, change the Activation to **ReLU** and use **4 neurons** in the hidden layer. For learning rate 10, 1, 0.1, 0.01 and 0.001, report the train, test losses at the end of **100 epochs**, **1000 epochs** respectively. What do you observe from the change of loss vs learning rate, and the change of loss vs epoch numbers? \n",
    "\n",
    "d) **(3 pts)** Use the DEFAULT setting. Play around with any hyperparameters, network architectures or input features (such as $\\sin(X_1), X_1^2$ etc.), and report the best train and test loss you obtain (test loss should be no greater than 0.06). Attach the screenshot showing your full network, output and the parameters. Briefly justify your results, and comment on what helps/what doesn't help with lowering the loss, etc. "
   ]
  },
  {
   "cell_type": "markdown",
   "metadata": {
    "id": "l85_A1P33Nr4"
   },
   "source": [
    "# Answer:"
   ]
  },
  {
   "cell_type": "markdown",
   "metadata": {
    "id": "rYljtggnkSzl"
   },
   "source": [
    "# Question 3: Outlier detection using PyOD (30 pts)\n",
    "\n",
    "Oulier detection, or anomaly detection is usually an unsupervised learning task where the objective is to identify suspicious observations in data. It has been widely used in military surveillance for enemy activities to prevent attacks, intrusion detection in cyber security, fraud detection for credit cards, etc.\n",
    "\n",
    "PyOD is a comprehensive and scalable Python library for detecting outlying objects in multivariate data. PyOD includes more than 30 detection algorithms and provides unified APIs which makes it quite handy to use. In this question, you will play with PyOD, explore three different outlier detection algorithms and compare their performances. First let's install PyOD.\n",
    "\n",
    "```\n",
    "# install pyod using pip first\n",
    "!pip install pyod\n",
    "```\n",
    "\n",
    "You can load the data stored in 'Q3_train_dataset.csv' and 'Q3_test_dataset.csv' using the following codes.\n",
    "\n",
    "```\n",
    "import pandas as pd\n",
    "# Load data code goes here\n",
    "train_df = pd.read_csv('Q3_train_dataset.csv')\n",
    "test_df = pd.read_csv('Q3_test_dataset.csv')\n",
    "\n",
    "X_train = train_df[['X_train_0', 'X_train_1', 'X_train_2', 'X_train_3', 'X_train_4']].to_numpy()\n",
    "y_train = train_df[['y_train']].to_numpy()\n",
    "X_test = test_df[['X_test_0', 'X_test_1', 'X_test_2', 'X_test_3', 'X_test_4']].to_numpy()\n",
    "y_test = test_df[['y_test']].to_numpy()\n",
    "```\n",
    "\n",
    " `X_train` and `X_test` contain the features, with the dimension of 5. `y_train` and `y_test` store the outlier labels, 0 means normal data, 1 means outlier data. \n",
    " \n",
    "a) **(5 pts)** **Fit `X_train` to a linear outlier detection model Minimum Covariance Determinant (MCD) using PyOD**, this [page](https://pyod.readthedocs.io/en/latest/pyod.models.html#module-pyod.models.mcd) will provide some functions you may need. \n",
    "\n",
    "```\n",
    "from pyod.models.mcd import MCD\n",
    "clf = MCD() # initialize MCD class using the default parameters\n",
    "\n",
    "# YOUR CODE SHOULD COME HERE, FIT THE MODEL USING X_TRAIN\n",
    "```\n",
    "**Use the fitted model to predict the outlier labels of `X_test`. Compute the raw outlier scores on `X_test` using `decision_function()`.**\n",
    "\n",
    "**Run PyOD's `evaluate_print()` function using the test set ground truth outlier labels and the raw outlier scores predicted by the model, to compute the ROC and Precision@n results .** \n",
    "\n",
    "```\n",
    "from pyod.utils.data import evaluate_print\n",
    "```\n",
    "\n",
    "b) **(5 pts)** `X_train` and `X_test` are 5-dimension features, which makes it impossible to visualize them in Euclidean plane. But we can use Principal Component Analysis (PCA) to reduce the dimensions of `X_train` and `X_test` to 2, and then plot them. You may want to use `fit_and_transform()` function.\n",
    "\n",
    "\n",
    "```\n",
    "from sklearn.decomposition import PCA\n",
    "\n",
    "pca = PCA(n_components=2)\n",
    "\n",
    "# Fit pca to X_train and X_test and transform \n",
    "train_principalComponents = # IMPLEMENT\n",
    "test_principalComponents = # IMPLEMENT\n",
    "```\n",
    "\n",
    "After reducing the dimension to 2, now you can visualize the outliers using PyOD's `visualize()` function. Please plot the visualization. You may find [this](https://pyod.readthedocs.io/en/latest/pyod.utils.html#module-pyod.utils.example) useful on how to use `visualize()` .\n",
    "\n",
    "```\n",
    "from pyod.utils.example import visualize\n",
    "```\n",
    "\n",
    "Now you should be able to observe the ground truth outliers and the outliers predicted by the model.\n",
    "\n",
    "\n",
    "c) **(20 pts)** Apply the same process as in (a) and (b) to the following two models, and visualize the outlier results. Please compare the performance of the three models in terms of their ROC, Precision@n, and what you observe from the three visualizations.\n",
    "\n",
    "*   [Proximity-Based model - Clustering Based Local Outlier Factor (CBLOF)](https://pyod.readthedocs.io/en/latest/pyod.models.html#module-pyod.models.cblof)\n",
    "*   [Probabilistic model - Copula-based Outlier Detection (COPOD)](https://pyod.readthedocs.io/en/latest/pyod.models.html#module-pyod.models.copod)\n",
    "\n",
    "```\n",
    "from pyod.models.cblof import CBLOF\n",
    "from pyod.models.copod import COPOD\n",
    "```\n",
    "\n",
    "# Answer:"
   ]
  },
  {
   "cell_type": "code",
   "execution_count": null,
   "metadata": {
    "id": "BULJ0M0sL1gf"
   },
   "outputs": [],
   "source": [
    "# install pyod using pip first\n",
    "!pip install pyod"
   ]
  },
  {
   "cell_type": "code",
   "execution_count": null,
   "metadata": {
    "id": "qEY5NClZL9a8"
   },
   "outputs": [],
   "source": [
    "import pandas as pd\n",
    "# Load data code goes here\n",
    "train_df = pd.read_csv('Q3_train_dataset.csv')\n",
    "test_df = pd.read_csv('Q3_test_dataset.csv')\n",
    "\n",
    "X_train = train_df[['X_train_0', 'X_train_1', 'X_train_2', 'X_train_3', 'X_train_4']].to_numpy()\n",
    "y_train = train_df[['y_train']].to_numpy()\n",
    "X_test = test_df[['X_test_0', 'X_test_1', 'X_test_2', 'X_test_3', 'X_test_4']].to_numpy()\n",
    "y_test = test_df[['y_test']].to_numpy()"
   ]
  },
  {
   "cell_type": "code",
   "execution_count": null,
   "metadata": {
    "id": "oRPwxrFQL_Y3"
   },
   "outputs": [],
   "source": [
    "# (a)\n",
    "from pyod.models.mcd import MCD\n",
    "clf = MCD() # initialize MCD class using the default parameters\n",
    "\n",
    "# fit the model using X_train\n",
    "\n",
    "# YOUR CODE SHOULD COME HERE"
   ]
  },
  {
   "cell_type": "code",
   "execution_count": null,
   "metadata": {
    "id": "pwFvjZQ5MBE_"
   },
   "outputs": [],
   "source": [
    "from pyod.utils.data import evaluate_print\n",
    "# predict the outlier labels of X_test using the trained model, compute the raw outlier scores on X_test using decision_function()\n",
    "# then use evaluate_print() to print out the evaluation results\n",
    "\n",
    "# YOUR CODE SHOULD COME HERE"
   ]
  },
  {
   "cell_type": "code",
   "execution_count": null,
   "metadata": {
    "id": "RBIhWWz-MC1C"
   },
   "outputs": [],
   "source": [
    "# (b)\n",
    "from sklearn.decomposition import PCA\n",
    "\n",
    "pca = PCA(n_components=2)\n",
    "\n",
    "# Fit pca to X_train and X_test and transform \n",
    "train_principalComponents = # YOUR CODE SHOULD COME HERE\n",
    "test_principalComponents = # YOUR CODE SHOULD COME HERE\n",
    "\n",
    "from pyod.utils.example import visualize\n",
    "# Visualize the ground truth outliers and predicted outliers using visualize()\n",
    "\n",
    "# YOUR CODE SHOULD COME HERE"
   ]
  },
  {
   "cell_type": "code",
   "execution_count": null,
   "metadata": {
    "id": "dSs_Kej_MIN5"
   },
   "outputs": [],
   "source": [
    "# (c)\n",
    "from pyod.models.cblof import CBLOF\n",
    "from pyod.models.copod import COPOD\n",
    "\n",
    "# YOUR CODE SHOULD COME HERE"
   ]
  },
  {
   "cell_type": "markdown",
   "metadata": {
    "id": "98Ipdr7rbdal"
   },
   "source": [
    "# Question 4: PCA Conceptual questions (5 pts)\n",
    "Explain the principle of Principal Component Analysis algorithm, especially why we can select the best projection bases based on the covariance matrix of data from the perspective of optimization?\n",
    "\n",
    "# Answer:"
   ]
  },
  {
   "cell_type": "markdown",
   "metadata": {},
   "source": [
    " N-dimensional data will result in NxN symetric covariance matrix where the diagnal is the variance of each dimension.\n",
    " \n",
    "  \\begin{matrix}\n",
    "  cov(x_{1}x_{1}) & cov(x_{1}x_{2}) & cov(x_{1}x_{3}) ... & cov(x_{1}x_{n}) \\\\\n",
    "  cov(x_{2}x_{1}) & cov(x_{2}x_{2}) & cov(x_{2}x_{3}) ... & cov(x_{2}x_{n}) \\\\\n",
    "  cov(x_{3}x_{1}) & cov(x_{3}x_{2}) & cov(x_{3}x_{3}) ... & cov(x_{3}x_{n}) \\\\\n",
    "  ...    &  ...   &  ...       & ...     \\\\\n",
    "  cov(x_{n}x_{1}) & cov(x_{n}x_{2}) & cov(x_{n}x_{3}) ... & cov(x_{n}x_{n}) \n",
    "   \\end{matrix}\n",
    "\n",
    "This covariance matrix needs to be decomposed to find eigenvectors and eigenvalues, where we find that the eigenvectors with the largest eigenvalues correspond to the dimensions that have the strongest correlation in the dataset, which is the principal component.\n",
    "\n",
    "PCA finds the best “subspace” that captures as much data variance as possible, to retain as much information as possible from the original dataset, where the dimention is reduced. The 1st PCA captures \n",
    " \n",
    "matrix\n",
    " \n",
    "\n"
   ]
  },
  {
   "cell_type": "markdown",
   "metadata": {
    "id": "a7LS1E520XPL"
   },
   "source": [
    "\n",
    "\n",
    "# Question 5: Pre-processing and sampling (15 pts)\n",
    "\n",
    "The following dataset contains House prices describing the sales of individual residential property in Ames, Iowa data with explanatory variables describing almost every aspect of residential homes and dependent variable being SalePrice. Here, some cells of most columns in the dataset contain NaN values.\n",
    "\n",
    "\n",
    "\n",
    "\n",
    "\n",
    "\n",
    "\n",
    "\n",
    "\n",
    "\n",
    "\n"
   ]
  },
  {
   "cell_type": "code",
   "execution_count": null,
   "metadata": {
    "id": "HzXBJJihpKum"
   },
   "outputs": [],
   "source": [
    "import pandas as pd \n",
    "import numpy as np \n",
    "import scipy.stats as stats\n",
    "import math\n",
    "import matplotlib.pyplot as plt\n",
    "np.random.seed(100)\n",
    "\n",
    "data = pd.read_csv(\"sales_data.csv\")\n",
    "data.head()"
   ]
  },
  {
   "cell_type": "markdown",
   "metadata": {
    "id": "SZpAfufgqDnc"
   },
   "source": [
    "\n",
    "a) **(2 pts)** Print the number of NaN values in each column.\n"
   ]
  },
  {
   "cell_type": "code",
   "execution_count": 79,
   "metadata": {
    "id": "4ZJ-OvcIO9bW"
   },
   "outputs": [
    {
     "name": "stdout",
     "output_type": "stream",
     "text": [
      "MSSubClass          0\n",
      "MSZoning            0\n",
      "LotFrontage       259\n",
      "LotArea             0\n",
      "Alley            1369\n",
      "OverallQual         0\n",
      "OverallCond         0\n",
      "YearBuilt           0\n",
      "YearRemodAdd        0\n",
      "MasVnrArea          8\n",
      "ExterQual           0\n",
      "BsmtFinSF1          0\n",
      "BsmtFinSF2          0\n",
      "BsmtUnfSF           0\n",
      "TotalBsmtSF         0\n",
      "HeatingQC           0\n",
      "CentralAir          0\n",
      "Electrical          1\n",
      "1stFlrSF            0\n",
      "2ndFlrSF            0\n",
      "LowQualFinSF        0\n",
      "GrLivArea           0\n",
      "BsmtFullBath        0\n",
      "BsmtHalfBath        0\n",
      "FullBath            0\n",
      "HalfBath            0\n",
      "BedroomAbvGr        0\n",
      "KitchenAbvGr        0\n",
      "KitchenQual         0\n",
      "TotRmsAbvGrd        0\n",
      "Functional          0\n",
      "Fireplaces          0\n",
      "FireplaceQu       690\n",
      "GarageType         81\n",
      "GarageYrBlt        81\n",
      "GarageCars          0\n",
      "GarageArea          0\n",
      "WoodDeckSF          0\n",
      "OpenPorchSF         0\n",
      "EnclosedPorch       0\n",
      "3SsnPorch           0\n",
      "ScreenPorch         0\n",
      "PoolArea            0\n",
      "PoolQC           1453\n",
      "Fence            1179\n",
      "MiscFeature      1406\n",
      "MiscVal             0\n",
      "MoSold              0\n",
      "YrSold              0\n",
      "SalePrice           0\n",
      "dtype: int64\n"
     ]
    }
   ],
   "source": [
    "print(data.isna().sum())"
   ]
  },
  {
   "cell_type": "markdown",
   "metadata": {
    "id": "2qX1tYc9PTeq"
   },
   "source": [
    "b) **(3 pts)** Create a copy of `data`, and name it `data_dm`, then create a new column in `data_dm` named `binned_yr_built` and apply binning to the column `yr_built`. Use `pandas.cut()` and modify its paramter list as below:\n",
    "\n",
    "```\n",
    "bins=[1900, 1920, 1940, 1960, 1980, 2000, 2020]\n",
    "labels=['1900-1920', '1920-1940', '1940-1960', '1960-1980', '1980-2000', '2000-2020']\n",
    "include_lowest=True\n",
    "```\n",
    "Next, perform one-hot encoding on this new column."
   ]
  },
  {
   "cell_type": "code",
   "execution_count": 98,
   "metadata": {
    "id": "f5JLgp3ePXaH"
   },
   "outputs": [],
   "source": [
    "data_dm=data.copy()\n",
    "data_dm['binned_yr_built']=pd.cut(data_dm['YearBuilt'],\n",
    "                                  bins=[1900, 1920, 1940, 1960, 1980, 2000, 2020],\n",
    "                                  labels=['1900-1920', '1920-1940', '1940-1960', '1960-1980','1980-2000', '2000-2020'],\n",
    "                                  include_lowest=True)"
   ]
  },
  {
   "cell_type": "code",
   "execution_count": 99,
   "metadata": {},
   "outputs": [
    {
     "data": {
      "text/plain": [
       "MSSubClass         False\n",
       "MSZoning           False\n",
       "LotFrontage        False\n",
       "LotArea            False\n",
       "Alley               True\n",
       "OverallQual        False\n",
       "OverallCond        False\n",
       "YearBuilt          False\n",
       "YearRemodAdd       False\n",
       "MasVnrArea         False\n",
       "ExterQual          False\n",
       "BsmtFinSF1         False\n",
       "BsmtFinSF2         False\n",
       "BsmtUnfSF          False\n",
       "TotalBsmtSF        False\n",
       "HeatingQC          False\n",
       "CentralAir         False\n",
       "Electrical         False\n",
       "1stFlrSF           False\n",
       "2ndFlrSF           False\n",
       "LowQualFinSF       False\n",
       "GrLivArea          False\n",
       "BsmtFullBath       False\n",
       "BsmtHalfBath       False\n",
       "FullBath           False\n",
       "HalfBath           False\n",
       "BedroomAbvGr       False\n",
       "KitchenAbvGr       False\n",
       "KitchenQual        False\n",
       "TotRmsAbvGrd       False\n",
       "Functional         False\n",
       "Fireplaces         False\n",
       "FireplaceQu        False\n",
       "GarageType         False\n",
       "GarageYrBlt        False\n",
       "GarageCars         False\n",
       "GarageArea         False\n",
       "WoodDeckSF         False\n",
       "OpenPorchSF        False\n",
       "EnclosedPorch      False\n",
       "3SsnPorch          False\n",
       "ScreenPorch        False\n",
       "PoolArea           False\n",
       "PoolQC              True\n",
       "Fence               True\n",
       "MiscFeature         True\n",
       "MiscVal            False\n",
       "MoSold             False\n",
       "YrSold             False\n",
       "SalePrice          False\n",
       "binned_yr_built    False\n",
       "dtype: bool"
      ]
     },
     "execution_count": 99,
     "metadata": {},
     "output_type": "execute_result"
    }
   ],
   "source": [
    "data_dm.isna().sum()>=len(data_dm)*0.65"
   ]
  },
  {
   "cell_type": "markdown",
   "metadata": {
    "id": "DZG-thPCPe8J"
   },
   "source": [
    "\n",
    "c) **(2 pts)** Drop the columns which have more than 65 percentage of missing values."
   ]
  },
  {
   "cell_type": "code",
   "execution_count": 93,
   "metadata": {
    "id": "4wwgOq-_PlXV"
   },
   "outputs": [
    {
     "data": {
      "text/plain": [
       "Index(['MSSubClass', 'MSZoning', 'LotFrontage', 'LotArea', 'OverallQual',\n",
       "       'OverallCond', 'YearBuilt', 'YearRemodAdd', 'MasVnrArea', 'ExterQual',\n",
       "       'BsmtFinSF1', 'BsmtFinSF2', 'BsmtUnfSF', 'TotalBsmtSF', 'HeatingQC',\n",
       "       'CentralAir', 'Electrical', '1stFlrSF', '2ndFlrSF', 'LowQualFinSF',\n",
       "       'GrLivArea', 'BsmtFullBath', 'BsmtHalfBath', 'FullBath', 'HalfBath',\n",
       "       'BedroomAbvGr', 'KitchenAbvGr', 'KitchenQual', 'TotRmsAbvGrd',\n",
       "       'Functional', 'Fireplaces', 'GarageType', 'GarageYrBlt', 'GarageCars',\n",
       "       'GarageArea', 'WoodDeckSF', 'OpenPorchSF', 'EnclosedPorch', '3SsnPorch',\n",
       "       'ScreenPorch', 'PoolArea', 'MiscVal', 'MoSold', 'YrSold', 'SalePrice',\n",
       "       'binned_yr_built'],\n",
       "      dtype='object')"
      ]
     },
     "execution_count": 93,
     "metadata": {},
     "output_type": "execute_result"
    }
   ],
   "source": [
    "data_dm=data_dm.dropna(thresh=len(data_dm)*0.65, axis=1)\n",
    "len(data_dm.columns)\n",
    "data_dm.columns"
   ]
  },
  {
   "cell_type": "markdown",
   "metadata": {
    "id": "1F_Tj5rtPSLw"
   },
   "source": [
    "\n",
    "d) **(3 pts)** Take a sample of 800 rows at random and compute its mean, compare this value with the population mean.\n",
    "  "
   ]
  },
  {
   "cell_type": "code",
   "execution_count": 100,
   "metadata": {
    "id": "LqijYNMkPS-a"
   },
   "outputs": [
    {
     "data": {
      "text/html": [
       "<div>\n",
       "<style scoped>\n",
       "    .dataframe tbody tr th:only-of-type {\n",
       "        vertical-align: middle;\n",
       "    }\n",
       "\n",
       "    .dataframe tbody tr th {\n",
       "        vertical-align: top;\n",
       "    }\n",
       "\n",
       "    .dataframe thead th {\n",
       "        text-align: right;\n",
       "    }\n",
       "</style>\n",
       "<table border=\"1\" class=\"dataframe\">\n",
       "  <thead>\n",
       "    <tr style=\"text-align: right;\">\n",
       "      <th></th>\n",
       "      <th>population_mean</th>\n",
       "      <th>sample_mean</th>\n",
       "      <th>diff in %</th>\n",
       "    </tr>\n",
       "  </thead>\n",
       "  <tbody>\n",
       "    <tr>\n",
       "      <th>MSSubClass</th>\n",
       "      <td>56.897260</td>\n",
       "      <td>54.456250</td>\n",
       "      <td>-4.290207</td>\n",
       "    </tr>\n",
       "    <tr>\n",
       "      <th>LotFrontage</th>\n",
       "      <td>70.049958</td>\n",
       "      <td>70.500000</td>\n",
       "      <td>0.642458</td>\n",
       "    </tr>\n",
       "    <tr>\n",
       "      <th>LotArea</th>\n",
       "      <td>10516.828082</td>\n",
       "      <td>10917.616250</td>\n",
       "      <td>3.810923</td>\n",
       "    </tr>\n",
       "    <tr>\n",
       "      <th>OverallQual</th>\n",
       "      <td>6.099315</td>\n",
       "      <td>6.076250</td>\n",
       "      <td>-0.378158</td>\n",
       "    </tr>\n",
       "    <tr>\n",
       "      <th>OverallCond</th>\n",
       "      <td>5.575342</td>\n",
       "      <td>5.585000</td>\n",
       "      <td>0.173219</td>\n",
       "    </tr>\n",
       "    <tr>\n",
       "      <th>YearBuilt</th>\n",
       "      <td>1971.267808</td>\n",
       "      <td>1970.491250</td>\n",
       "      <td>-0.039394</td>\n",
       "    </tr>\n",
       "    <tr>\n",
       "      <th>YearRemodAdd</th>\n",
       "      <td>1984.865753</td>\n",
       "      <td>1984.900000</td>\n",
       "      <td>0.001725</td>\n",
       "    </tr>\n",
       "    <tr>\n",
       "      <th>MasVnrArea</th>\n",
       "      <td>103.685262</td>\n",
       "      <td>94.958595</td>\n",
       "      <td>-8.416497</td>\n",
       "    </tr>\n",
       "    <tr>\n",
       "      <th>BsmtFinSF1</th>\n",
       "      <td>443.639726</td>\n",
       "      <td>422.495000</td>\n",
       "      <td>-4.766193</td>\n",
       "    </tr>\n",
       "    <tr>\n",
       "      <th>BsmtFinSF2</th>\n",
       "      <td>46.549315</td>\n",
       "      <td>49.912500</td>\n",
       "      <td>7.224993</td>\n",
       "    </tr>\n",
       "    <tr>\n",
       "      <th>BsmtUnfSF</th>\n",
       "      <td>567.240411</td>\n",
       "      <td>586.693750</td>\n",
       "      <td>3.429470</td>\n",
       "    </tr>\n",
       "    <tr>\n",
       "      <th>TotalBsmtSF</th>\n",
       "      <td>1057.429452</td>\n",
       "      <td>1059.101250</td>\n",
       "      <td>0.158100</td>\n",
       "    </tr>\n",
       "    <tr>\n",
       "      <th>1stFlrSF</th>\n",
       "      <td>1162.626712</td>\n",
       "      <td>1171.187500</td>\n",
       "      <td>0.736332</td>\n",
       "    </tr>\n",
       "    <tr>\n",
       "      <th>2ndFlrSF</th>\n",
       "      <td>346.992466</td>\n",
       "      <td>348.098750</td>\n",
       "      <td>0.318821</td>\n",
       "    </tr>\n",
       "    <tr>\n",
       "      <th>LowQualFinSF</th>\n",
       "      <td>5.844521</td>\n",
       "      <td>8.245000</td>\n",
       "      <td>41.072308</td>\n",
       "    </tr>\n",
       "    <tr>\n",
       "      <th>GrLivArea</th>\n",
       "      <td>1515.463699</td>\n",
       "      <td>1527.531250</td>\n",
       "      <td>0.796294</td>\n",
       "    </tr>\n",
       "    <tr>\n",
       "      <th>BsmtFullBath</th>\n",
       "      <td>0.425342</td>\n",
       "      <td>0.410000</td>\n",
       "      <td>-3.607085</td>\n",
       "    </tr>\n",
       "    <tr>\n",
       "      <th>BsmtHalfBath</th>\n",
       "      <td>0.057534</td>\n",
       "      <td>0.060000</td>\n",
       "      <td>4.285714</td>\n",
       "    </tr>\n",
       "    <tr>\n",
       "      <th>FullBath</th>\n",
       "      <td>1.565068</td>\n",
       "      <td>1.552500</td>\n",
       "      <td>-0.803063</td>\n",
       "    </tr>\n",
       "    <tr>\n",
       "      <th>HalfBath</th>\n",
       "      <td>0.382877</td>\n",
       "      <td>0.390000</td>\n",
       "      <td>1.860465</td>\n",
       "    </tr>\n",
       "    <tr>\n",
       "      <th>BedroomAbvGr</th>\n",
       "      <td>2.866438</td>\n",
       "      <td>2.873750</td>\n",
       "      <td>0.255078</td>\n",
       "    </tr>\n",
       "    <tr>\n",
       "      <th>KitchenAbvGr</th>\n",
       "      <td>1.046575</td>\n",
       "      <td>1.041250</td>\n",
       "      <td>-0.508835</td>\n",
       "    </tr>\n",
       "    <tr>\n",
       "      <th>TotRmsAbvGrd</th>\n",
       "      <td>6.517808</td>\n",
       "      <td>6.561250</td>\n",
       "      <td>0.666509</td>\n",
       "    </tr>\n",
       "    <tr>\n",
       "      <th>Fireplaces</th>\n",
       "      <td>0.613014</td>\n",
       "      <td>0.617500</td>\n",
       "      <td>0.731844</td>\n",
       "    </tr>\n",
       "    <tr>\n",
       "      <th>GarageYrBlt</th>\n",
       "      <td>1978.506164</td>\n",
       "      <td>1977.769737</td>\n",
       "      <td>-0.037221</td>\n",
       "    </tr>\n",
       "    <tr>\n",
       "      <th>GarageCars</th>\n",
       "      <td>1.767123</td>\n",
       "      <td>1.746250</td>\n",
       "      <td>-1.181202</td>\n",
       "    </tr>\n",
       "    <tr>\n",
       "      <th>GarageArea</th>\n",
       "      <td>472.980137</td>\n",
       "      <td>469.008750</td>\n",
       "      <td>-0.839652</td>\n",
       "    </tr>\n",
       "    <tr>\n",
       "      <th>WoodDeckSF</th>\n",
       "      <td>94.244521</td>\n",
       "      <td>97.320000</td>\n",
       "      <td>3.263298</td>\n",
       "    </tr>\n",
       "    <tr>\n",
       "      <th>OpenPorchSF</th>\n",
       "      <td>46.660274</td>\n",
       "      <td>45.477500</td>\n",
       "      <td>-2.534863</td>\n",
       "    </tr>\n",
       "    <tr>\n",
       "      <th>EnclosedPorch</th>\n",
       "      <td>21.954110</td>\n",
       "      <td>23.793750</td>\n",
       "      <td>8.379481</td>\n",
       "    </tr>\n",
       "    <tr>\n",
       "      <th>3SsnPorch</th>\n",
       "      <td>3.409589</td>\n",
       "      <td>3.041250</td>\n",
       "      <td>-10.803033</td>\n",
       "    </tr>\n",
       "    <tr>\n",
       "      <th>ScreenPorch</th>\n",
       "      <td>15.060959</td>\n",
       "      <td>13.955000</td>\n",
       "      <td>-7.343217</td>\n",
       "    </tr>\n",
       "    <tr>\n",
       "      <th>PoolArea</th>\n",
       "      <td>2.758904</td>\n",
       "      <td>2.143750</td>\n",
       "      <td>-22.297046</td>\n",
       "    </tr>\n",
       "    <tr>\n",
       "      <th>MiscVal</th>\n",
       "      <td>43.489041</td>\n",
       "      <td>47.462500</td>\n",
       "      <td>9.136690</td>\n",
       "    </tr>\n",
       "    <tr>\n",
       "      <th>MoSold</th>\n",
       "      <td>6.321918</td>\n",
       "      <td>6.248750</td>\n",
       "      <td>-1.157367</td>\n",
       "    </tr>\n",
       "    <tr>\n",
       "      <th>YrSold</th>\n",
       "      <td>2007.815753</td>\n",
       "      <td>2007.837500</td>\n",
       "      <td>0.001083</td>\n",
       "    </tr>\n",
       "    <tr>\n",
       "      <th>SalePrice</th>\n",
       "      <td>180921.195890</td>\n",
       "      <td>181643.962500</td>\n",
       "      <td>0.399493</td>\n",
       "    </tr>\n",
       "  </tbody>\n",
       "</table>\n",
       "</div>"
      ],
      "text/plain": [
       "               population_mean    sample_mean  diff in %\n",
       "MSSubClass           56.897260      54.456250  -4.290207\n",
       "LotFrontage          70.049958      70.500000   0.642458\n",
       "LotArea           10516.828082   10917.616250   3.810923\n",
       "OverallQual           6.099315       6.076250  -0.378158\n",
       "OverallCond           5.575342       5.585000   0.173219\n",
       "YearBuilt          1971.267808    1970.491250  -0.039394\n",
       "YearRemodAdd       1984.865753    1984.900000   0.001725\n",
       "MasVnrArea          103.685262      94.958595  -8.416497\n",
       "BsmtFinSF1          443.639726     422.495000  -4.766193\n",
       "BsmtFinSF2           46.549315      49.912500   7.224993\n",
       "BsmtUnfSF           567.240411     586.693750   3.429470\n",
       "TotalBsmtSF        1057.429452    1059.101250   0.158100\n",
       "1stFlrSF           1162.626712    1171.187500   0.736332\n",
       "2ndFlrSF            346.992466     348.098750   0.318821\n",
       "LowQualFinSF          5.844521       8.245000  41.072308\n",
       "GrLivArea          1515.463699    1527.531250   0.796294\n",
       "BsmtFullBath          0.425342       0.410000  -3.607085\n",
       "BsmtHalfBath          0.057534       0.060000   4.285714\n",
       "FullBath              1.565068       1.552500  -0.803063\n",
       "HalfBath              0.382877       0.390000   1.860465\n",
       "BedroomAbvGr          2.866438       2.873750   0.255078\n",
       "KitchenAbvGr          1.046575       1.041250  -0.508835\n",
       "TotRmsAbvGrd          6.517808       6.561250   0.666509\n",
       "Fireplaces            0.613014       0.617500   0.731844\n",
       "GarageYrBlt        1978.506164    1977.769737  -0.037221\n",
       "GarageCars            1.767123       1.746250  -1.181202\n",
       "GarageArea          472.980137     469.008750  -0.839652\n",
       "WoodDeckSF           94.244521      97.320000   3.263298\n",
       "OpenPorchSF          46.660274      45.477500  -2.534863\n",
       "EnclosedPorch        21.954110      23.793750   8.379481\n",
       "3SsnPorch             3.409589       3.041250 -10.803033\n",
       "ScreenPorch          15.060959      13.955000  -7.343217\n",
       "PoolArea              2.758904       2.143750 -22.297046\n",
       "MiscVal              43.489041      47.462500   9.136690\n",
       "MoSold                6.321918       6.248750  -1.157367\n",
       "YrSold             2007.815753    2007.837500   0.001083\n",
       "SalePrice        180921.195890  181643.962500   0.399493"
      ]
     },
     "execution_count": 100,
     "metadata": {},
     "output_type": "execute_result"
    }
   ],
   "source": [
    "np.random.seed(6)\n",
    "sample_ages = np.random.choice(a= data['SalePrice'], size=800)\n",
    "#Sample mean\n",
    "from sklearn.utils import shuffle\n",
    "\n",
    "data_dm = shuffle(data_dm)\n",
    "\n",
    "sample_mean=data_dm[:800].mean(axis=0, skipna=True,numeric_only=True)\n",
    "population_mean=data_dm.mean(axis=0, skipna=True,numeric_only=True)\n",
    "#Population mean\n",
    "sample_mean.append(population_mean)\n",
    "\n",
    "mean_compare=pd.concat({'population_mean':population_mean,'sample_mean':sample_mean},axis=1)\n",
    "mean_compare['diff in %']=(mean_compare['sample_mean']/mean_compare['population_mean']-1)*100\n",
    "mean_compare"
   ]
  },
  {
   "cell_type": "markdown",
   "metadata": {
    "id": "2FfEuB-hQ9a5"
   },
   "source": [
    "e) **(2pts)** Calculate the 95% confidence intervals for SalePrice with a sample size of 100. \n"
   ]
  },
  {
   "cell_type": "code",
   "execution_count": 108,
   "metadata": {
    "id": "nrXDpIsgUhPs"
   },
   "outputs": [
    {
     "name": "stdout",
     "output_type": "stream",
     "text": [
      "95% confidence_interval is: (174380.3010998981, 200514.5589001019)\n",
      "True mean value is: 180921.19589041095\n"
     ]
    }
   ],
   "source": [
    "np.random.seed(10)\n",
    "sample_size = 100\n",
    "sample = np.random.choice(a= data_dm['SalePrice'],\n",
    "                          size = sample_size)\n",
    "sample_mean = sample.mean()\n",
    "\n",
    "#Get the critical Z value\n",
    "\n",
    "from scipy.stats import norm\n",
    "\n",
    "z_critical  = norm.ppf(0.95)\n",
    "\n",
    "# define probability\n",
    "\n",
    "p = 0.95\n",
    "\n",
    "# retrieve value <= probability\n",
    "\n",
    "\n",
    "#Get population standard deviation\n",
    "\n",
    "pop_stdev=data_dm['SalePrice'].std()\n",
    "\n",
    "#margin of error\n",
    "margin_of_error = z_critical * (pop_stdev/math.sqrt(sample_size)) \n",
    "\n",
    "#confidence interval\n",
    "confidence_interval = (sample_mean - margin_of_error,\n",
    "                       sample_mean + margin_of_error)  \n",
    "\n",
    "#Print confidence interval and true mean value\n",
    "\n",
    "print('95% confidence_interval is: {}'.format(confidence_interval))\n",
    "print('True mean value is: {}'.format(data_dm['SalePrice'].mean()))"
   ]
  },
  {
   "cell_type": "markdown",
   "metadata": {},
   "source": [
    "**(3pts)** Calculate the 95% confidence intervals for 100 different trials with a sample size of 500. Plot the confidence intervals and interpret how it captures the population mean."
   ]
  },
  {
   "cell_type": "code",
   "execution_count": 110,
   "metadata": {
    "id": "vpX5NGr0VhyM"
   },
   "outputs": [
    {
     "data": {
      "image/png": "[encoded data removed]",
      "text/plain": [
       "<Figure size 936x648 with 1 Axes>"
      ]
     },
     "metadata": {
      "needs_background": "light"
     },
     "output_type": "display_data"
    }
   ],
   "source": [
    "np.random.seed(12)\n",
    "\n",
    "sample_size = 500\n",
    "\n",
    "intervals = []\n",
    "sample_means = []\n",
    "\n",
    "for sample in range(100):\n",
    "    sample = np.random.choice(a= data_dm['SalePrice'], size = sample_size)\n",
    "    sample_mean = sample.mean()\n",
    "    sample_means.append(sample_mean)\n",
    "   \n",
    "    # compute z critical value\n",
    "    z_critical  = norm.ppf(0.95)   \n",
    "\n",
    "    # compute population standard deviation\n",
    "    pop_stdev=data_dm['SalePrice'].std()\n",
    "  \n",
    "    margin_of_error = z_critical * (pop_stdev/math.sqrt(sample_size))\n",
    "    confidence_interval = (sample_mean - margin_of_error,\n",
    "                           sample_mean + margin_of_error)  \n",
    "    \n",
    "    intervals.append(confidence_interval)\n",
    "    \n",
    "plt.figure(figsize=(13, 9))\n",
    "\n",
    "plt.errorbar(x=np.arange(0.1, 100, 1), \n",
    "             y=sample_means, \n",
    "             yerr=[(top-bot)/2 for top,bot in intervals],\n",
    "             fmt='o')\n",
    "\n",
    "plt.hlines(xmin=0, xmax=100,\n",
    "           y=data['SalePrice'].mean(), \n",
    "           linewidth=2.0,\n",
    "           color=\"red\")\n",
    "plt.title('Confidence Intervals for 100 Trials', fontsize = 20)\n",
    "plt.show()"
   ]
  }
 ],
 "metadata": {
  "colab": {
   "collapsed_sections": [],
   "name": "MIS382N-HW3.ipynb",
   "provenance": []
  },
  "kernelspec": {
   "display_name": "Python 3",
   "language": "python",
   "name": "python3"
  },
  "language_info": {
   "codemirror_mode": {
    "name": "ipython",
    "version": 3
   },
   "file_extension": ".py",
   "mimetype": "text/x-python",
   "name": "python",
   "nbconvert_exporter": "python",
   "pygments_lexer": "ipython3",
   "version": "3.8.8"
  }
 },
 "nbformat": 4,
 "nbformat_minor": 1
}
