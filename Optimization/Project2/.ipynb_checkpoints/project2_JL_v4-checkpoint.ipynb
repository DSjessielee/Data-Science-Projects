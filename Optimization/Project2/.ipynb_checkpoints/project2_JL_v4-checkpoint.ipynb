{
 "cells": [
  {
   "cell_type": "code",
   "execution_count": 45,
   "metadata": {},
   "outputs": [],
   "source": [
    "import numpy as np\n",
    "import pandas as pd\n",
    "import gurobipy as gp"
   ]
  },
  {
   "cell_type": "markdown",
   "metadata": {},
   "source": [
    "# Load and Prepare Data"
   ]
  },
  {
   "cell_type": "code",
   "execution_count": 46,
   "metadata": {},
   "outputs": [],
   "source": [
    "stk_19=pd.read_csv('stocks2019.csv',index_col=0)\n",
    "stk_20=pd.read_csv('stocks2020.csv',index_col=0)"
   ]
  },
  {
   "cell_type": "markdown",
   "metadata": {},
   "source": [
    "# Daily return and Correlation Matrix"
   ]
  },
  {
   "cell_type": "code",
   "execution_count": 47,
   "metadata": {
    "scrolled": true
   },
   "outputs": [],
   "source": [
    "rt19=np.array(stk_19.pct_change().drop(columns='NDX',index='2019-01-02'))\n",
    "rt20=np.array(stk_20.pct_change().drop(columns='NDX',index='1/2/20'))\n",
    "\n",
    "cor19=np.array(stk_19.pct_change().drop(columns='NDX',index='2019-01-02').corr())\n",
    "ticker=stk_19.columns[1:]"
   ]
  },
  {
   "cell_type": "code",
   "execution_count": 48,
   "metadata": {},
   "outputs": [],
   "source": [
    "idx_rt19=np.array(stk_19['NDX'].pct_change().drop(index='2019-01-02'))\n",
    "idx_rt20=np.array(stk_20['NDX'].pct_change().drop(index='1/2/20'))"
   ]
  },
  {
   "cell_type": "markdown",
   "metadata": {},
   "source": [
    "# Start with 5 stocks"
   ]
  },
  {
   "cell_type": "code",
   "execution_count": 49,
   "metadata": {},
   "outputs": [],
   "source": [
    "m=5\n",
    "n=cor19.shape[1]"
   ]
  },
  {
   "cell_type": "code",
   "execution_count": 50,
   "metadata": {},
   "outputs": [],
   "source": [
    "A=np.zeros((n**2+n+1,n**2+n))\n",
    "sense=np.array(['']*A.shape[0])\n",
    "b=np.zeros((A.shape[0])) "
   ]
  },
  {
   "cell_type": "markdown",
   "metadata": {},
   "source": [
    "Constraint part I: $\\sum \\limits _{j=0} ^{100} X_{ij} $ =1   ..........100 constraints"
   ]
  },
  {
   "cell_type": "code",
   "execution_count": 51,
   "metadata": {},
   "outputs": [],
   "source": [
    "# Constraint: \n",
    "row=0\n",
    "for i in range(n):\n",
    "    A[i,i*n:i*n+n]=1\n",
    "    sense[i]='='\n",
    "    b[i]=1"
   ]
  },
  {
   "cell_type": "markdown",
   "metadata": {},
   "source": [
    "Constraint part II: $X_{ij}<Y_{j} $    ...........100*100 constraints"
   ]
  },
  {
   "cell_type": "code",
   "execution_count": 52,
   "metadata": {},
   "outputs": [],
   "source": [
    "for i in range(n):\n",
    "    for j in range(n):\n",
    "        A[i * n + j + n, i * n + j]=1\n",
    "        A[i * n + j + n, j + n**2]=-1\n",
    "        sense[i * n + j + n]='<'\n",
    "        b[i * n + j + n]=0"
   ]
  },
  {
   "cell_type": "markdown",
   "metadata": {},
   "source": [
    "Constraint part III: $\\sum \\limits _{j=0} ^{n=100}y_{j}<m $    ...........1 constraints"
   ]
  },
  {
   "cell_type": "code",
   "execution_count": 53,
   "metadata": {},
   "outputs": [],
   "source": [
    "#Weight cannot be larger than 0 if it's not selected\n",
    "for j in range(n):\n",
    "    A[n**2 + n, n**2 + j ] = 1\n",
    "sense[n**2 + n] = '='\n",
    "b[n**2 + n] = m"
   ]
  },
  {
   "cell_type": "markdown",
   "metadata": {},
   "source": [
    "# Objective Function"
   ]
  },
  {
   "cell_type": "code",
   "execution_count": 54,
   "metadata": {},
   "outputs": [],
   "source": [
    "obj=np.hstack((np.ndarray.flatten(cor19),np.array([0]*n)))"
   ]
  },
  {
   "cell_type": "markdown",
   "metadata": {},
   "source": [
    "# Variable type"
   ]
  },
  {
   "cell_type": "code",
   "execution_count": 55,
   "metadata": {},
   "outputs": [],
   "source": [
    "var_type=['B']*(n**2+n)"
   ]
  },
  {
   "cell_type": "markdown",
   "metadata": {},
   "source": [
    "# Model"
   ]
  },
  {
   "cell_type": "code",
   "execution_count": 56,
   "metadata": {},
   "outputs": [],
   "source": [
    "StkMod = gp.Model()\n",
    "StkMod_x = StkMod.addMVar(len(obj),vtype=var_type) # vtype can be: 'C' or 'I' or 'B'\n",
    "StkMod_con = StkMod.addMConstrs(A, StkMod_x, sense, b)\n",
    "StkMod.setMObjective(None,obj,0,sense=gp.GRB.MAXIMIZE)\n",
    "\n",
    "StkMod.Params.OutputFlag = 0 # tell gurobi to shut up!!\n",
    "StkMod.optimize()"
   ]
  },
  {
   "cell_type": "code",
   "execution_count": 57,
   "metadata": {},
   "outputs": [
    {
     "data": {
      "text/plain": [
       "54.83990652229107"
      ]
     },
     "execution_count": 57,
     "metadata": {},
     "output_type": "execute_result"
    }
   ],
   "source": [
    "# Max coefficient\n",
    "StkMod.objVal"
   ]
  },
  {
   "cell_type": "code",
   "execution_count": 58,
   "metadata": {},
   "outputs": [],
   "source": [
    "import math\n",
    "port_idx=[]\n",
    "for i in range(n**2,len(obj),1):\n",
    "    if StkMod_x.x[i]==1:\n",
    "        port_idx.append(i-n**2)"
   ]
  },
  {
   "cell_type": "code",
   "execution_count": 59,
   "metadata": {},
   "outputs": [
    {
     "data": {
      "text/plain": [
       "[56, 59, 63, 94, 98]"
      ]
     },
     "execution_count": 59,
     "metadata": {},
     "output_type": "execute_result"
    }
   ],
   "source": [
    "port_idx"
   ]
  },
  {
   "cell_type": "markdown",
   "metadata": {},
   "source": [
    "# Tickers to choose"
   ]
  },
  {
   "cell_type": "code",
   "execution_count": 60,
   "metadata": {},
   "outputs": [
    {
     "data": {
      "text/plain": [
       "['LBTYK', 'MXIM', 'MSFT', 'VRTX', 'XEL']"
      ]
     },
     "execution_count": 60,
     "metadata": {},
     "output_type": "execute_result"
    }
   ],
   "source": [
    "[ticker[i] for i in port_idx]"
   ]
  },
  {
   "cell_type": "markdown",
   "metadata": {},
   "source": [
    "# Optimize weight matrix for 5 chosen stocks"
   ]
  },
  {
   "cell_type": "code",
   "execution_count": 61,
   "metadata": {},
   "outputs": [],
   "source": [
    "#250 return data per stock\n",
    "t=rt19.shape[0]"
   ]
  },
  {
   "cell_type": "code",
   "execution_count": 62,
   "metadata": {},
   "outputs": [],
   "source": [
    "# Initialize Constraint Matrix\n",
    "A=np.zeros((t * 2 + 1 , t + m)) \n",
    "sense=np.array(['']*A.shape[0])\n",
    "b=np.zeros((A.shape[0])) "
   ]
  },
  {
   "cell_type": "code",
   "execution_count": 63,
   "metadata": {},
   "outputs": [],
   "source": [
    "\n",
    "for i in range(t):\n",
    "    for j in range(m):\n",
    "        #A[:5] are the weight of chosen stocks\n",
    "        A[i * 2, j] = rt19[i, port_idx[j]]\n",
    "        A[i * 2 + 1, j] = rt19[i, port_idx[j]]\n",
    "    # A[6:6+250] --> y are the difference between weighted gain and index gain \n",
    "    # w.x - qt - y <= 0\n",
    "    A[i * 2, i + m] = -1\n",
    "    sense[i * 2] = '<'\n",
    "    b[i * 2] = idx_rt19[i]\n",
    "    #w.x - qt + y >= 0\n",
    "    A[i * 2 + 1, i + m] = 1\n",
    "    sense[i * 2 + 1] = '>'\n",
    "    b[i * 2 + 1] = idx_rt19[i]\n",
    "\n",
    "#Sum of weight = 1\n",
    "for i in range(m):\n",
    "    A[t*2, i] = 1\n",
    "b[t*2] = 1\n",
    "sense[t*2] = '='\n",
    "\n",
    "# Objective to minimize\n",
    "\n",
    "obj = np.hstack((np.zeros((m)),np.array([1]*t)))\n",
    "\n",
    "# Variable type\n",
    "\n",
    "var_type=['C']*A.shape[1]\n"
   ]
  },
  {
   "cell_type": "code",
   "execution_count": 64,
   "metadata": {},
   "outputs": [],
   "source": [
    "# Optimize\n",
    "StkMod = gp.Model()\n",
    "StkMod_x = StkMod.addMVar(len(obj),vtype=var_type) # vtype can be: 'C' or 'I' or 'B'\n",
    "StkMod_con = StkMod.addMConstrs(A, StkMod_x, sense, b)\n",
    "StkMod.setMObjective(None,obj,0,sense=gp.GRB.MINIMIZE)\n",
    "\n",
    "StkMod.Params.OutputFlag = 0 # tell gurobi to shut up!!\n",
    "StkMod.optimize()"
   ]
  },
  {
   "cell_type": "code",
   "execution_count": 65,
   "metadata": {
    "scrolled": true
   },
   "outputs": [
    {
     "data": {
      "text/plain": [
       "0.7892"
      ]
     },
     "execution_count": 65,
     "metadata": {},
     "output_type": "execute_result"
    }
   ],
   "source": [
    "diff19=StkMod.objVal\n",
    "round(diff19,4)"
   ]
  },
  {
   "cell_type": "markdown",
   "metadata": {},
   "source": [
    "# Weight of the 5 Chosen Stocks"
   ]
  },
  {
   "cell_type": "code",
   "execution_count": 66,
   "metadata": {},
   "outputs": [],
   "source": [
    "stk_wt=dict(zip([ticker[i] for i in port_idx], StkMod.X[:5]))"
   ]
  },
  {
   "cell_type": "code",
   "execution_count": 67,
   "metadata": {},
   "outputs": [
    {
     "data": {
      "text/html": [
       "<div>\n",
       "<style scoped>\n",
       "    .dataframe tbody tr th:only-of-type {\n",
       "        vertical-align: middle;\n",
       "    }\n",
       "\n",
       "    .dataframe tbody tr th {\n",
       "        vertical-align: top;\n",
       "    }\n",
       "\n",
       "    .dataframe thead th {\n",
       "        text-align: right;\n",
       "    }\n",
       "</style>\n",
       "<table border=\"1\" class=\"dataframe\">\n",
       "  <thead>\n",
       "    <tr style=\"text-align: right;\">\n",
       "      <th></th>\n",
       "      <th>ticker</th>\n",
       "      <th>weight</th>\n",
       "    </tr>\n",
       "  </thead>\n",
       "  <tbody>\n",
       "    <tr>\n",
       "      <th>0</th>\n",
       "      <td>LBTYK</td>\n",
       "      <td>0.048862</td>\n",
       "    </tr>\n",
       "    <tr>\n",
       "      <th>1</th>\n",
       "      <td>MXIM</td>\n",
       "      <td>0.210388</td>\n",
       "    </tr>\n",
       "    <tr>\n",
       "      <th>2</th>\n",
       "      <td>MSFT</td>\n",
       "      <td>0.580352</td>\n",
       "    </tr>\n",
       "    <tr>\n",
       "      <th>3</th>\n",
       "      <td>VRTX</td>\n",
       "      <td>0.071190</td>\n",
       "    </tr>\n",
       "    <tr>\n",
       "      <th>4</th>\n",
       "      <td>XEL</td>\n",
       "      <td>0.089208</td>\n",
       "    </tr>\n",
       "  </tbody>\n",
       "</table>\n",
       "</div>"
      ],
      "text/plain": [
       "  ticker    weight\n",
       "0  LBTYK  0.048862\n",
       "1   MXIM  0.210388\n",
       "2   MSFT  0.580352\n",
       "3   VRTX  0.071190\n",
       "4    XEL  0.089208"
      ]
     },
     "execution_count": 67,
     "metadata": {},
     "output_type": "execute_result"
    }
   ],
   "source": [
    "wt19=pd.DataFrame(stk_wt.items(),columns=['ticker','weight'])\n",
    "wt19"
   ]
  },
  {
   "cell_type": "markdown",
   "metadata": {},
   "source": [
    "# Use the same portforlio to calculate 2020 return"
   ]
  },
  {
   "cell_type": "code",
   "execution_count": 68,
   "metadata": {
    "scrolled": true
   },
   "outputs": [
    {
     "data": {
      "text/plain": [
       "[56, 59, 63, 94, 98]"
      ]
     },
     "execution_count": 68,
     "metadata": {},
     "output_type": "execute_result"
    }
   ],
   "source": [
    "port_idx"
   ]
  },
  {
   "cell_type": "code",
   "execution_count": 69,
   "metadata": {},
   "outputs": [
    {
     "name": "stdout",
     "output_type": "stream",
     "text": [
      "The difference applying the same portfolio chosen from 2019 tickers to 2020 data is 1.1124 compared wtih 0.7892!\n"
     ]
    }
   ],
   "source": [
    "diff19=np.sum(abs(wt19['weight']@rt19[:,port_idx].T-idx_rt19))\n",
    "diff20=np.sum(abs(wt19['weight']@rt20[:,port_idx].T-idx_rt20))\n",
    "print('The difference applying the same portfolio chosen from 2019 tickers to 2020 data is {} compared wtih {}!'.format(round(diff20,4),round(diff19,4)))"
   ]
  },
  {
   "cell_type": "markdown",
   "metadata": {},
   "source": [
    "# Repeat with m =  10, 20, …, 90, 100"
   ]
  },
  {
   "cell_type": "code",
   "execution_count": 72,
   "metadata": {},
   "outputs": [],
   "source": [
    "m=np.linspace(10,100,10)\n",
    "stk_chosen=dict(zip(m,['']*len(m)))\n",
    "wt_stk_chosen=dict(zip(m,['']*len(m)))"
   ]
  },
  {
   "cell_type": "code",
   "execution_count": 73,
   "metadata": {},
   "outputs": [],
   "source": [
    "\n",
    "for m in np.linspace(10,100,10):\n",
    "    \n",
    "    n=cor19.shape[1]\n",
    "    A=np.zeros((n**2+n+1,n**2+n))\n",
    "    sense=np.array(['']*A.shape[0])\n",
    "    b=np.zeros((A.shape[0])) \n",
    "    for i in range(n):\n",
    "        \n",
    "        A[i,n*i:n*(i+1)]=1\n",
    "        sense[i]='='\n",
    "        b[i]=1\n",
    "\n",
    "    for i in range(n):\n",
    "        for j in range(n):\n",
    "            A[i * n + j + n, i * n + j]=1\n",
    "            A[i * n + j + n, j + n**2]=-1\n",
    "            sense[i * n + j + n]='<'\n",
    "            b[i * n + j + n]=0\n",
    "    \n",
    "    for j in range(n):\n",
    "        A[n**2 + n, n**2 + j ] = 1\n",
    "        sense[n**2 + n] = '='\n",
    "        b[n**2 + n] = m\n",
    "    \n",
    "    for j in range(n):                            #a\n",
    "        A[n**2 + n, n**2 + j ] = 1\n",
    "        sense[n**2 + n] = '='\n",
    "        b[n**2 + n] = m\n",
    "    \n",
    "    obj=np.hstack((np.ndarray.flatten(cor19),np.array([0]*n)))\n",
    "\n",
    "    var_type=['B']*(n**2+n)\n",
    "    \n",
    "    StkMod = gp.Model()\n",
    "    StkMod_x = StkMod.addMVar(len(obj),vtype=var_type) # vtype can be: 'C' or 'I' or 'B'\n",
    "    StkMod_con = StkMod.addMConstrs(A, StkMod_x, sense, b)\n",
    "    StkMod.setMObjective(None,obj,0,sense=gp.GRB.MAXIMIZE)\n",
    "\n",
    "    StkMod.Params.OutputFlag = 0 # tell gurobi to shut up!!\n",
    "    StkMod.optimize()\n",
    "    \n",
    "    port_idx=[]\n",
    "    for i in range(n**2,len(obj),1):\n",
    "        if StkMod_x.X[i]==1:\n",
    "            port_idx.append(i-n**2)\n",
    "    \n",
    "        stk_chosen[m]=port_idx"
   ]
  },
  {
   "cell_type": "code",
   "execution_count": 74,
   "metadata": {},
   "outputs": [
    {
     "data": {
      "text/plain": [
       "90"
      ]
     },
     "execution_count": 74,
     "metadata": {},
     "output_type": "execute_result"
    }
   ],
   "source": [
    "ticker_select=pd.DataFrame(stk_chosen.items(),columns=['m','tickers'])\n",
    "len(ticker_select.iloc[8,:][1])"
   ]
  },
  {
   "cell_type": "markdown",
   "metadata": {},
   "source": [
    "# Optimize weight matrix for different m"
   ]
  },
  {
   "cell_type": "code",
   "execution_count": null,
   "metadata": {},
   "outputs": [],
   "source": []
  },
  {
   "cell_type": "code",
   "execution_count": 75,
   "metadata": {},
   "outputs": [],
   "source": [
    "stk_wt_all_name=[]\n",
    "stk_wt_all_idx=[]\n",
    "\n",
    "for stk in stk_chosen.values():\n",
    "    m=len(stk)\n",
    "    t=rt19.shape[0]\n",
    "    A=np.zeros((t * 2 + 1 , t + m)) \n",
    "    sense=np.array(['']*A.shape[0])\n",
    "    b=np.zeros((A.shape[0])) \n",
    "    for i in range(t):\n",
    "        for j in range(len(stk)):\n",
    "            #A[:5] are the weight of chosen stocks\n",
    "            A[i * 2, j] = rt19[i, stk[j]]\n",
    "            A[i * 2 + 1, j] = rt19[i, stk[j]]\n",
    "        # A[6:6+250] --> y are the difference between weighted gain and index gain \n",
    "        # w.x - qt - y <= 0\n",
    "        A[i * 2, i + m] = -1\n",
    "        sense[i * 2] = '<'\n",
    "        b[i * 2] = idx_rt19[i]\n",
    "        #w.x - qt + y >= 0\n",
    "        A[i * 2 + 1, i + m] = 1\n",
    "        sense[i * 2 + 1] = '>'\n",
    "        b[i * 2 + 1] = idx_rt19[i]\n",
    "\n",
    "    #Sum of weight = 1\n",
    "    for i in range(m):\n",
    "        A[t*2, i] = 1\n",
    "        b[t*2] = 1\n",
    "        sense[t*2] = '='\n",
    "\n",
    "    # Objective to minimize\n",
    "\n",
    "    obj = np.hstack((np.zeros((m)),np.array([1]*t)))\n",
    "\n",
    "    # Variable type\n",
    "\n",
    "    var_type=['C']*A.shape[1]\n",
    "    \n",
    "    # Optimize\n",
    "    StkMod = gp.Model()\n",
    "    StkMod_x = StkMod.addMVar(len(obj),vtype=var_type) # vtype can be: 'C' or 'I' or 'B'\n",
    "    StkMod_con = StkMod.addMConstrs(A, StkMod_x, sense, b)\n",
    "    StkMod.setMObjective(None,obj,0,sense=gp.GRB.MINIMIZE)\n",
    "\n",
    "    StkMod.Params.OutputFlag = 0 # tell gurobi to shut up!!\n",
    "    StkMod.optimize()\n",
    "    \n",
    "    stk_wt_name=dict(zip([ticker[i] for i in stk], StkMod.X[:m]))\n",
    "    stk_wt_idx=dict(zip([i for i in stk],StkMod.X[:m]))\n",
    "    stk_wt_all_name.append(stk_wt_name)\n",
    "    stk_wt_all_idx.append(stk_wt_idx)"
   ]
  },
  {
   "cell_type": "code",
   "execution_count": 76,
   "metadata": {},
   "outputs": [
    {
     "data": {
      "text/plain": [
       "(20, 100)"
      ]
     },
     "execution_count": 76,
     "metadata": {},
     "output_type": "execute_result"
    }
   ],
   "source": [
    "rt19[np.array(list(stk_wt_all_idx[1].keys()))].shape"
   ]
  },
  {
   "cell_type": "code",
   "execution_count": 77,
   "metadata": {},
   "outputs": [],
   "source": [
    "stk_idx=[]\n",
    "stk_tkr=[]\n",
    "stk_wt=[]\n",
    "for sel in stk_wt_all_idx:\n",
    "    stk_idx.append([i for i in sel.keys()])\n",
    "    stk_tkr.append([ticker[i] for i in sel.keys()])\n",
    "    stk_wt.append([i for i in sel.values()])"
   ]
  },
  {
   "cell_type": "code",
   "execution_count": 78,
   "metadata": {},
   "outputs": [
    {
     "data": {
      "text/html": [
       "<div>\n",
       "<style scoped>\n",
       "    .dataframe tbody tr th:only-of-type {\n",
       "        vertical-align: middle;\n",
       "    }\n",
       "\n",
       "    .dataframe tbody tr th {\n",
       "        vertical-align: top;\n",
       "    }\n",
       "\n",
       "    .dataframe thead th {\n",
       "        text-align: right;\n",
       "    }\n",
       "</style>\n",
       "<table border=\"1\" class=\"dataframe\">\n",
       "  <thead>\n",
       "    <tr style=\"text-align: right;\">\n",
       "      <th></th>\n",
       "      <th>selection index</th>\n",
       "      <th>selection ticker</th>\n",
       "      <th>weights</th>\n",
       "    </tr>\n",
       "  </thead>\n",
       "  <tbody>\n",
       "    <tr>\n",
       "      <th>m=10</th>\n",
       "      <td>[0, 4, 40, 53, 56, 59, 63, 79, 94, 98]</td>\n",
       "      <td>[ATVI, ALGN, EXPE, KHC, LBTYK, MXIM, MSFT, ROS...</td>\n",
       "      <td>[0.0442000816251551, 0.024995874294039634, 0.0...</td>\n",
       "    </tr>\n",
       "    <tr>\n",
       "      <th>m=20</th>\n",
       "      <td>[0, 4, 5, 10, 15, 17, 24, 36, 40, 51, 53, 56, ...</td>\n",
       "      <td>[ATVI, ALGN, GOOGL, ANSS, ADP, BIIB, CHTR, DLT...</td>\n",
       "      <td>[0.01756825161913682, 0.015084885097907412, 0....</td>\n",
       "    </tr>\n",
       "    <tr>\n",
       "      <th>m=30</th>\n",
       "      <td>[0, 1, 5, 12, 15, 17, 19, 24, 28, 34, 35, 36, ...</td>\n",
       "      <td>[ATVI, ADBE, GOOGL, AMAT, ADP, BIIB, BKNG, CHT...</td>\n",
       "      <td>[0.03189196295507514, 0.03448203558994392, 0.1...</td>\n",
       "    </tr>\n",
       "    <tr>\n",
       "      <th>m=40</th>\n",
       "      <td>[0, 1, 4, 5, 8, 12, 15, 17, 19, 23, 25, 29, 30...</td>\n",
       "      <td>[ATVI, ADBE, ALGN, GOOGL, AMGN, AMAT, ADP, BII...</td>\n",
       "      <td>[0.025964514371002778, 0.02629467998457026, 0....</td>\n",
       "    </tr>\n",
       "    <tr>\n",
       "      <th>m=50</th>\n",
       "      <td>[0, 1, 3, 4, 5, 8, 12, 15, 17, 19, 22, 23, 24,...</td>\n",
       "      <td>[ATVI, ADBE, ALXN, ALGN, GOOGL, AMGN, AMAT, AD...</td>\n",
       "      <td>[0.017277786096989357, 0.026378953694862366, 0...</td>\n",
       "    </tr>\n",
       "    <tr>\n",
       "      <th>m=60</th>\n",
       "      <td>[1, 2, 3, 4, 5, 8, 12, 15, 16, 17, 18, 22, 23,...</td>\n",
       "      <td>[ADBE, AMD, ALXN, ALGN, GOOGL, AMGN, AMAT, ADP...</td>\n",
       "      <td>[0.05918076630768743, 0.011091742793502663, 0....</td>\n",
       "    </tr>\n",
       "    <tr>\n",
       "      <th>m=70</th>\n",
       "      <td>[2, 3, 4, 6, 8, 11, 12, 15, 16, 17, 18, 19, 21...</td>\n",
       "      <td>[AMD, ALXN, ALGN, GOOG, AMGN, AAPL, AMAT, ADP,...</td>\n",
       "      <td>[0.00806823832939714, 0.0026489995729639384, 0...</td>\n",
       "    </tr>\n",
       "    <tr>\n",
       "      <th>m=80</th>\n",
       "      <td>[0, 2, 3, 4, 5, 8, 11, 12, 14, 15, 16, 17, 18,...</td>\n",
       "      <td>[ATVI, AMD, ALXN, ALGN, GOOGL, AMGN, AAPL, AMA...</td>\n",
       "      <td>[0.00861135341944239, 0.006452940814983598, 0....</td>\n",
       "    </tr>\n",
       "    <tr>\n",
       "      <th>m=90</th>\n",
       "      <td>[0, 1, 2, 3, 4, 6, 7, 8, 10, 11, 12, 13, 14, 1...</td>\n",
       "      <td>[ATVI, ADBE, AMD, ALXN, ALGN, GOOG, AMZN, AMGN...</td>\n",
       "      <td>[0.0034407988123856155, 0.020014628603631013, ...</td>\n",
       "    </tr>\n",
       "    <tr>\n",
       "      <th>m=100</th>\n",
       "      <td>[0, 1, 2, 3, 4, 5, 6, 7, 8, 9, 10, 11, 12, 13,...</td>\n",
       "      <td>[ATVI, ADBE, AMD, ALXN, ALGN, GOOGL, GOOG, AMZ...</td>\n",
       "      <td>[0.004222720908253134, 0.01713793953924502, 0....</td>\n",
       "    </tr>\n",
       "  </tbody>\n",
       "</table>\n",
       "</div>"
      ],
      "text/plain": [
       "                                         selection index  \\\n",
       "m=10              [0, 4, 40, 53, 56, 59, 63, 79, 94, 98]   \n",
       "m=20   [0, 4, 5, 10, 15, 17, 24, 36, 40, 51, 53, 56, ...   \n",
       "m=30   [0, 1, 5, 12, 15, 17, 19, 24, 28, 34, 35, 36, ...   \n",
       "m=40   [0, 1, 4, 5, 8, 12, 15, 17, 19, 23, 25, 29, 30...   \n",
       "m=50   [0, 1, 3, 4, 5, 8, 12, 15, 17, 19, 22, 23, 24,...   \n",
       "m=60   [1, 2, 3, 4, 5, 8, 12, 15, 16, 17, 18, 22, 23,...   \n",
       "m=70   [2, 3, 4, 6, 8, 11, 12, 15, 16, 17, 18, 19, 21...   \n",
       "m=80   [0, 2, 3, 4, 5, 8, 11, 12, 14, 15, 16, 17, 18,...   \n",
       "m=90   [0, 1, 2, 3, 4, 6, 7, 8, 10, 11, 12, 13, 14, 1...   \n",
       "m=100  [0, 1, 2, 3, 4, 5, 6, 7, 8, 9, 10, 11, 12, 13,...   \n",
       "\n",
       "                                        selection ticker  \\\n",
       "m=10   [ATVI, ALGN, EXPE, KHC, LBTYK, MXIM, MSFT, ROS...   \n",
       "m=20   [ATVI, ALGN, GOOGL, ANSS, ADP, BIIB, CHTR, DLT...   \n",
       "m=30   [ATVI, ADBE, GOOGL, AMAT, ADP, BIIB, BKNG, CHT...   \n",
       "m=40   [ATVI, ADBE, ALGN, GOOGL, AMGN, AMAT, ADP, BII...   \n",
       "m=50   [ATVI, ADBE, ALXN, ALGN, GOOGL, AMGN, AMAT, AD...   \n",
       "m=60   [ADBE, AMD, ALXN, ALGN, GOOGL, AMGN, AMAT, ADP...   \n",
       "m=70   [AMD, ALXN, ALGN, GOOG, AMGN, AAPL, AMAT, ADP,...   \n",
       "m=80   [ATVI, AMD, ALXN, ALGN, GOOGL, AMGN, AAPL, AMA...   \n",
       "m=90   [ATVI, ADBE, AMD, ALXN, ALGN, GOOG, AMZN, AMGN...   \n",
       "m=100  [ATVI, ADBE, AMD, ALXN, ALGN, GOOGL, GOOG, AMZ...   \n",
       "\n",
       "                                                 weights  \n",
       "m=10   [0.0442000816251551, 0.024995874294039634, 0.0...  \n",
       "m=20   [0.01756825161913682, 0.015084885097907412, 0....  \n",
       "m=30   [0.03189196295507514, 0.03448203558994392, 0.1...  \n",
       "m=40   [0.025964514371002778, 0.02629467998457026, 0....  \n",
       "m=50   [0.017277786096989357, 0.026378953694862366, 0...  \n",
       "m=60   [0.05918076630768743, 0.011091742793502663, 0....  \n",
       "m=70   [0.00806823832939714, 0.0026489995729639384, 0...  \n",
       "m=80   [0.00861135341944239, 0.006452940814983598, 0....  \n",
       "m=90   [0.0034407988123856155, 0.020014628603631013, ...  \n",
       "m=100  [0.004222720908253134, 0.01713793953924502, 0....  "
      ]
     },
     "execution_count": 78,
     "metadata": {},
     "output_type": "execute_result"
    }
   ],
   "source": [
    "port_selection=pd.DataFrame(columns=['selection index','selection ticker','weights'],\n",
    "                       index=['m=10','m=20','m=30','m=40','m=50','m=60','m=70','m=80','m=90','m=100'])\n",
    "port_selection.iloc[:,0]=stk_idx\n",
    "port_selection.iloc[:,1]=stk_tkr\n",
    "port_selection.iloc[:,2]=stk_wt\n",
    "port_selection"
   ]
  },
  {
   "cell_type": "markdown",
   "metadata": {},
   "source": [
    "# Compare performance of portfolios with different m"
   ]
  },
  {
   "cell_type": "code",
   "execution_count": 83,
   "metadata": {},
   "outputs": [],
   "source": [
    "sum_19=[]\n",
    "sum_20=[]\n",
    "daily_diff19=0\n",
    "daily_diff20=0\n",
    "for i in range(10):\n",
    "    daily_diff19=0\n",
    "    daily_diff20=0\n",
    "    daily_diff_mtx19=rt19[:,np.array(list(stk_wt_all_idx[i].keys()))]@np.array(list(stk_wt_all_idx[i].values()))\n",
    "    daily_diff_mtx20=rt20[:,np.array(list(stk_wt_all_idx[i].keys()))]@np.array(list(stk_wt_all_idx[i].values()))\n",
    "    for j in range(t):\n",
    "        daily_diff19+=abs(daily_diff_mtx19[j]-idx_rt19[j])\n",
    "        daily_diff20+=abs(daily_diff_mtx20[j]-idx_rt20[j])\n",
    "    sum_19.append(daily_diff19)\n",
    "    sum_20.append(daily_diff20)"
   ]
  },
  {
   "cell_type": "code",
   "execution_count": 84,
   "metadata": {
    "scrolled": true
   },
   "outputs": [],
   "source": [
    "port_comp=pd.DataFrame(columns=['difference for 2019','difference for 2020'],\n",
    "                       index=['m=10','m=20','m=30','m=40','m=50','m=60','m=70','m=80','m=90','m=100'])\n",
    "port_comp.iloc[:,0]=sum_19\n",
    "port_comp.iloc[:,1]=list(sum_20)"
   ]
  },
  {
   "cell_type": "code",
   "execution_count": 86,
   "metadata": {},
   "outputs": [
    {
     "data": {
      "text/html": [
       "<div>\n",
       "<style scoped>\n",
       "    .dataframe tbody tr th:only-of-type {\n",
       "        vertical-align: middle;\n",
       "    }\n",
       "\n",
       "    .dataframe tbody tr th {\n",
       "        vertical-align: top;\n",
       "    }\n",
       "\n",
       "    .dataframe thead th {\n",
       "        text-align: right;\n",
       "    }\n",
       "</style>\n",
       "<table border=\"1\" class=\"dataframe\">\n",
       "  <thead>\n",
       "    <tr style=\"text-align: right;\">\n",
       "      <th></th>\n",
       "      <th>difference for 2019</th>\n",
       "      <th>difference for 2020</th>\n",
       "    </tr>\n",
       "  </thead>\n",
       "  <tbody>\n",
       "    <tr>\n",
       "      <th>m=10</th>\n",
       "      <td>0.701218</td>\n",
       "      <td>1.100511</td>\n",
       "    </tr>\n",
       "    <tr>\n",
       "      <th>m=20</th>\n",
       "      <td>0.466268</td>\n",
       "      <td>0.853782</td>\n",
       "    </tr>\n",
       "    <tr>\n",
       "      <th>m=30</th>\n",
       "      <td>0.407021</td>\n",
       "      <td>0.755453</td>\n",
       "    </tr>\n",
       "    <tr>\n",
       "      <th>m=40</th>\n",
       "      <td>0.368247</td>\n",
       "      <td>0.761539</td>\n",
       "    </tr>\n",
       "    <tr>\n",
       "      <th>m=50</th>\n",
       "      <td>0.334010</td>\n",
       "      <td>0.772208</td>\n",
       "    </tr>\n",
       "    <tr>\n",
       "      <th>m=60</th>\n",
       "      <td>0.349468</td>\n",
       "      <td>1.146336</td>\n",
       "    </tr>\n",
       "    <tr>\n",
       "      <th>m=70</th>\n",
       "      <td>0.171729</td>\n",
       "      <td>0.534894</td>\n",
       "    </tr>\n",
       "    <tr>\n",
       "      <th>m=80</th>\n",
       "      <td>0.147683</td>\n",
       "      <td>0.535013</td>\n",
       "    </tr>\n",
       "    <tr>\n",
       "      <th>m=90</th>\n",
       "      <td>0.053779</td>\n",
       "      <td>0.364608</td>\n",
       "    </tr>\n",
       "    <tr>\n",
       "      <th>m=100</th>\n",
       "      <td>0.044911</td>\n",
       "      <td>0.365480</td>\n",
       "    </tr>\n",
       "  </tbody>\n",
       "</table>\n",
       "</div>"
      ],
      "text/plain": [
       "       difference for 2019  difference for 2020\n",
       "m=10              0.701218             1.100511\n",
       "m=20              0.466268             0.853782\n",
       "m=30              0.407021             0.755453\n",
       "m=40              0.368247             0.761539\n",
       "m=50              0.334010             0.772208\n",
       "m=60              0.349468             1.146336\n",
       "m=70              0.171729             0.534894\n",
       "m=80              0.147683             0.535013\n",
       "m=90              0.053779             0.364608\n",
       "m=100             0.044911             0.365480"
      ]
     },
     "execution_count": 86,
     "metadata": {},
     "output_type": "execute_result"
    }
   ],
   "source": [
    "port_comp"
   ]
  },
  {
   "cell_type": "code",
   "execution_count": 43,
   "metadata": {},
   "outputs": [
    {
     "data": {
      "text/plain": [
       "<AxesSubplot:>"
      ]
     },
     "execution_count": 43,
     "metadata": {},
     "output_type": "execute_result"
    },
    {
     "data": {
      "image/png": "[encoded data removed]",
      "text/plain": [
       "<Figure size 432x288 with 1 Axes>"
      ]
     },
     "metadata": {
      "needs_background": "light"
     },
     "output_type": "display_data"
    }
   ],
   "source": [
    "port_comp.plot(kind='line')"
   ]
  },
  {
   "cell_type": "markdown",
   "metadata": {},
   "source": [
    "# key message here is the stock selection abased on 2019 data didn't perform as well in tracking index performance for 2020 data "
   ]
  },
  {
   "cell_type": "markdown",
   "metadata": {},
   "source": [
    "# 4) Another way to select stocks by minimizing difference"
   ]
  },
  {
   "cell_type": "code",
   "execution_count": 142,
   "metadata": {},
   "outputs": [],
   "source": [
    "#Period of return ~250\n",
    "t=rt19.shape[0]\n",
    "#of tickers ~100\n",
    "n=rt19.shape[1]\n",
    "#of tickers in portfolio\n",
    "m_number=list(np.linspace(10,100,10))\n",
    "#Big M=1\n",
    "M=1"
   ]
  },
  {
   "cell_type": "code",
   "execution_count": 45,
   "metadata": {},
   "outputs": [],
   "source": [
    "port_comp2=pd.DataFrame(columns=['difference for 2019','difference for 2020'],\n",
    "                       index=['m=10','m=20','m=30','m=40','m=50','m=60','m=70','m=80','m=90','m=100'])"
   ]
  },
  {
   "cell_type": "code",
   "execution_count": 87,
   "metadata": {},
   "outputs": [
    {
     "name": "stderr",
     "output_type": "stream",
     "text": [
      "<ipython-input-87-170b024deea9>:81: SettingWithCopyWarning: \n",
      "A value is trying to be set on a copy of a slice from a DataFrame\n",
      "\n",
      "See the caveats in the documentation: https://pandas.pydata.org/pandas-docs/stable/user_guide/indexing.html#returning-a-view-versus-a-copy\n",
      "  port_comp2['difference for 2020'][i]=sum(abs(np.sum(weight[i]*rt20,axis=0)-idx_rt20[i]))\n"
     ]
    },
    {
     "data": {
      "text/html": [
       "<div>\n",
       "<style scoped>\n",
       "    .dataframe tbody tr th:only-of-type {\n",
       "        vertical-align: middle;\n",
       "    }\n",
       "\n",
       "    .dataframe tbody tr th {\n",
       "        vertical-align: top;\n",
       "    }\n",
       "\n",
       "    .dataframe thead th {\n",
       "        text-align: right;\n",
       "    }\n",
       "</style>\n",
       "<table border=\"1\" class=\"dataframe\">\n",
       "  <thead>\n",
       "    <tr style=\"text-align: right;\">\n",
       "      <th></th>\n",
       "      <th>difference for 2019</th>\n",
       "      <th>difference for 2020</th>\n",
       "    </tr>\n",
       "  </thead>\n",
       "  <tbody>\n",
       "    <tr>\n",
       "      <th>m=10</th>\n",
       "      <td>0.303570</td>\n",
       "      <td>1.269171</td>\n",
       "    </tr>\n",
       "    <tr>\n",
       "      <th>m=20</th>\n",
       "      <td>0.166274</td>\n",
       "      <td>0.818341</td>\n",
       "    </tr>\n",
       "    <tr>\n",
       "      <th>m=30</th>\n",
       "      <td>0.110948</td>\n",
       "      <td>0.427904</td>\n",
       "    </tr>\n",
       "    <tr>\n",
       "      <th>m=40</th>\n",
       "      <td>0.078818</td>\n",
       "      <td>0.783373</td>\n",
       "    </tr>\n",
       "    <tr>\n",
       "      <th>m=50</th>\n",
       "      <td>0.062072</td>\n",
       "      <td>0.847236</td>\n",
       "    </tr>\n",
       "    <tr>\n",
       "      <th>m=60</th>\n",
       "      <td>0.051871</td>\n",
       "      <td>0.667014</td>\n",
       "    </tr>\n",
       "    <tr>\n",
       "      <th>m=70</th>\n",
       "      <td>0.047567</td>\n",
       "      <td>1.085438</td>\n",
       "    </tr>\n",
       "    <tr>\n",
       "      <th>m=80</th>\n",
       "      <td>0.045227</td>\n",
       "      <td>0.826413</td>\n",
       "    </tr>\n",
       "    <tr>\n",
       "      <th>m=90</th>\n",
       "      <td>0.044911</td>\n",
       "      <td>0.409781</td>\n",
       "    </tr>\n",
       "    <tr>\n",
       "      <th>m=100</th>\n",
       "      <td>0.044911</td>\n",
       "      <td>0.919521</td>\n",
       "    </tr>\n",
       "  </tbody>\n",
       "</table>\n",
       "</div>"
      ],
      "text/plain": [
       "       difference for 2019 difference for 2020\n",
       "m=10              0.303570            1.269171\n",
       "m=20              0.166274            0.818341\n",
       "m=30              0.110948            0.427904\n",
       "m=40              0.078818            0.783373\n",
       "m=50              0.062072            0.847236\n",
       "m=60              0.051871            0.667014\n",
       "m=70              0.047567            1.085438\n",
       "m=80              0.045227            0.826413\n",
       "m=90              0.044911            0.409781\n",
       "m=100             0.044911            0.919521"
      ]
     },
     "execution_count": 87,
     "metadata": {},
     "output_type": "execute_result"
    }
   ],
   "source": [
    "#For all Xi, Xi - Yi <= 0.\n",
    "'''\n",
    "diff=[]\n",
    "weight=[]\n",
    "for m in np.linspace(10,100,10):\n",
    "            \n",
    "            # first 100 var are weights, second 200 are if a stock is selected (binary) for portfolio\n",
    "            # third batch 250 are the difference between daily return of portfolio and index funds\n",
    "            \n",
    "            #obj[0X200+1X250]\n",
    "            obj=np.array([0]*n*2+[1]*t)       # 450 variables\n",
    "            \n",
    "            #A.shape --> 602X450\n",
    "            A=np.zeros((n+t*2+2,2*n+t))       # 602 constraints\n",
    "            \n",
    "            sense=['']*A.shape[0]  \n",
    "            \n",
    "            b=np.zeros((A.shape[0]))\n",
    "\n",
    "            row = 0\n",
    "            # weight has to be 0 if the stk is not selected - 100 constraints\n",
    "            for i in range(n):\n",
    "\n",
    "                A[row,i]=1\n",
    "                A[row,i+n]=-M\n",
    "                sense[row]='<'\n",
    "                row+=1\n",
    "                \n",
    "            # difference between weighted average of portfolio and index for each day (X-diff<index) 250 constrains\n",
    "            for i in range(t):\n",
    "                \n",
    "                A[row,:n]=rt19[i]\n",
    "                A[row,2*n+i]=-1\n",
    "                sense[row]='<'\n",
    "                b[row]=idx_rt19[i][0]\n",
    "                row+=1\n",
    "\n",
    "            # difference between weighted average of portfolio and index for each day (X+diff>index) 250 constrains\n",
    "            for i in range(t):\n",
    "                \n",
    "                A[row,:n]=rt19[i]\n",
    "                A[row,2*n+i]=1\n",
    "                sense[row]='>'\n",
    "                b[row]=idx_rt19[i][0]\n",
    "                row+=1\n",
    "                \n",
    "            # all weights sum up to 1 ..........1 constraint\n",
    "            A[row,:n]=1\n",
    "            sense[n+2*t]='='\n",
    "            b[n+2*t]=1\n",
    "            row+=1\n",
    "            \n",
    "            # total of m selected stocks  ...........1 constraint\n",
    "            A[row,n:2*n]=1\n",
    "            sense[row]='='\n",
    "            b[row]=m\n",
    "            \n",
    "\n",
    "            v_type=['C']*100 + ['B'] * 100 + ['C'] * 250\n",
    "\n",
    "            StkMod = gp.Model()\n",
    "            StkMod_x = StkMod.addMVar(len(obj),vtype=v_type) # 'C' or 'I' or 'B'\n",
    "            StkMod_con = StkMod.addMConstrs(A, StkMod_x, sense, b)\n",
    "            StkMod.setMObjective(None,obj,0,sense=gp.GRB.MINIMIZE)\n",
    "\n",
    "            StkMod.Params.OutputFlag = 0 # tell gurobi to shut up!!\n",
    "            StkMod.Params.TimeLimit = 3600\n",
    "            StkMod.optimize()\n",
    "            \n",
    "            \n",
    "            diff.append(StkMod.objVal)\n",
    "            weight.append(StkMod_x.X[:n])\n",
    "\n",
    "diff19=pd.DataFrame(diff,columns=['difference in 2019'])\n",
    "wt19=pd.DataFrame(weight)\n",
    "diff19.to_csv('diff19.csv',index=False)\n",
    "wt19.to_csv('wt19.csv',index=False)\n",
    "\n",
    "port_comp2['difference for 2019']=diff\n",
    "for i in range(len(weight)):\n",
    "    port_comp2['difference for 2020'][i]=sum(abs(np.sum(weight[i]*rt20,axis=0)-idx_rt20[i]))\n",
    "port_comp2\n",
    "\n",
    "'''"
   ]
  },
  {
   "cell_type": "code",
   "execution_count": 147,
   "metadata": {},
   "outputs": [
    {
     "data": {
      "text/html": [
       "<div>\n",
       "<style scoped>\n",
       "    .dataframe tbody tr th:only-of-type {\n",
       "        vertical-align: middle;\n",
       "    }\n",
       "\n",
       "    .dataframe tbody tr th {\n",
       "        vertical-align: top;\n",
       "    }\n",
       "\n",
       "    .dataframe thead th {\n",
       "        text-align: right;\n",
       "    }\n",
       "</style>\n",
       "<table border=\"1\" class=\"dataframe\">\n",
       "  <thead>\n",
       "    <tr style=\"text-align: right;\">\n",
       "      <th></th>\n",
       "      <th>selection index</th>\n",
       "      <th>selection ticker</th>\n",
       "      <th>weights</th>\n",
       "    </tr>\n",
       "  </thead>\n",
       "  <tbody>\n",
       "    <tr>\n",
       "      <th>m=10</th>\n",
       "      <td>([5, 7, 11, 27, 41, 44, 48, 63, 93, 99],)</td>\n",
       "      <td>[GOOGL, AMZN, AAPL, CSCO, FB, GILD, INTC, MSFT...</td>\n",
       "      <td>[0.1147028884648668, 0.1275886567495478, 0.140...</td>\n",
       "    </tr>\n",
       "    <tr>\n",
       "      <th>m=20</th>\n",
       "      <td>([1, 6, 7, 8, 11, 27, 30, 41, 44, 48, 62, 63, ...</td>\n",
       "      <td>[ADBE, GOOG, AMZN, AMGN, AAPL, CSCO, CMCSA, FB...</td>\n",
       "      <td>[0.0354315281422861, 0.091502305287932, 0.0998...</td>\n",
       "    </tr>\n",
       "    <tr>\n",
       "      <th>m=30</th>\n",
       "      <td>([1, 5, 7, 8, 11, 15, 16, 17, 19, 20, 21, 24, ...</td>\n",
       "      <td>[ADBE, GOOGL, AMZN, AMGN, AAPL, ADP, BIDU, BII...</td>\n",
       "      <td>[0.0243128563031083, 0.0898908387923361, 0.095...</td>\n",
       "    </tr>\n",
       "    <tr>\n",
       "      <th>m=40</th>\n",
       "      <td>([1, 5, 7, 8, 11, 15, 17, 19, 20, 27, 28, 30, ...</td>\n",
       "      <td>[ADBE, GOOGL, AMZN, AMGN, AAPL, ADP, BIIB, BKN...</td>\n",
       "      <td>[0.0256881596765564, 0.0836437012254965, 0.097...</td>\n",
       "    </tr>\n",
       "    <tr>\n",
       "      <th>m=50</th>\n",
       "      <td>([0, 1, 2, 5, 7, 8, 11, 14, 15, 16, 17, 18, 19...</td>\n",
       "      <td>[ATVI, ADBE, AMD, GOOGL, AMZN, AMGN, AAPL, ADS...</td>\n",
       "      <td>[0.0055295297871961, 0.0195444196032516, 0.005...</td>\n",
       "    </tr>\n",
       "    <tr>\n",
       "      <th>m=60</th>\n",
       "      <td>([1, 2, 5, 7, 8, 11, 14, 15, 16, 17, 18, 19, 2...</td>\n",
       "      <td>[ADBE, AMD, GOOGL, AMZN, AMGN, AAPL, ADSK, ADP...</td>\n",
       "      <td>[0.0178951534248061, 0.0037866258989731, 0.086...</td>\n",
       "    </tr>\n",
       "    <tr>\n",
       "      <th>m=70</th>\n",
       "      <td>([0, 1, 2, 5, 7, 8, 11, 12, 14, 15, 16, 17, 18...</td>\n",
       "      <td>[ATVI, ADBE, AMD, GOOGL, AMZN, AMGN, AAPL, AMA...</td>\n",
       "      <td>[0.0034937937360363, 0.0182694353229364, 0.003...</td>\n",
       "    </tr>\n",
       "    <tr>\n",
       "      <th>m=80</th>\n",
       "      <td>([0, 1, 2, 3, 5, 6, 7, 8, 11, 12, 13, 14, 15, ...</td>\n",
       "      <td>[ATVI, ADBE, AMD, ALXN, GOOGL, GOOG, AMZN, AMG...</td>\n",
       "      <td>[0.0031192740211572, 0.0178445065401232, 0.003...</td>\n",
       "    </tr>\n",
       "    <tr>\n",
       "      <th>m=90</th>\n",
       "      <td>([0, 1, 2, 3, 5, 6, 7, 8, 11, 12, 13, 14, 15, ...</td>\n",
       "      <td>[ATVI, ADBE, AMD, ALXN, GOOGL, GOOG, AMZN, AMG...</td>\n",
       "      <td>[0.0042232895931933, 0.0171400492740289, 0.004...</td>\n",
       "    </tr>\n",
       "    <tr>\n",
       "      <th>m=100</th>\n",
       "      <td>([0, 1, 2, 3, 5, 6, 7, 8, 11, 12, 13, 14, 15, ...</td>\n",
       "      <td>[ATVI, ADBE, AMD, ALXN, GOOGL, GOOG, AMZN, AMG...</td>\n",
       "      <td>[0.0042232895931936, 0.0171400492740285, 0.004...</td>\n",
       "    </tr>\n",
       "  </tbody>\n",
       "</table>\n",
       "</div>"
      ],
      "text/plain": [
       "                                         selection index  \\\n",
       "m=10           ([5, 7, 11, 27, 41, 44, 48, 63, 93, 99],)   \n",
       "m=20   ([1, 6, 7, 8, 11, 27, 30, 41, 44, 48, 62, 63, ...   \n",
       "m=30   ([1, 5, 7, 8, 11, 15, 16, 17, 19, 20, 21, 24, ...   \n",
       "m=40   ([1, 5, 7, 8, 11, 15, 17, 19, 20, 27, 28, 30, ...   \n",
       "m=50   ([0, 1, 2, 5, 7, 8, 11, 14, 15, 16, 17, 18, 19...   \n",
       "m=60   ([1, 2, 5, 7, 8, 11, 14, 15, 16, 17, 18, 19, 2...   \n",
       "m=70   ([0, 1, 2, 5, 7, 8, 11, 12, 14, 15, 16, 17, 18...   \n",
       "m=80   ([0, 1, 2, 3, 5, 6, 7, 8, 11, 12, 13, 14, 15, ...   \n",
       "m=90   ([0, 1, 2, 3, 5, 6, 7, 8, 11, 12, 13, 14, 15, ...   \n",
       "m=100  ([0, 1, 2, 3, 5, 6, 7, 8, 11, 12, 13, 14, 15, ...   \n",
       "\n",
       "                                        selection ticker  \\\n",
       "m=10   [GOOGL, AMZN, AAPL, CSCO, FB, GILD, INTC, MSFT...   \n",
       "m=20   [ADBE, GOOG, AMZN, AMGN, AAPL, CSCO, CMCSA, FB...   \n",
       "m=30   [ADBE, GOOGL, AMZN, AMGN, AAPL, ADP, BIDU, BII...   \n",
       "m=40   [ADBE, GOOGL, AMZN, AMGN, AAPL, ADP, BIIB, BKN...   \n",
       "m=50   [ATVI, ADBE, AMD, GOOGL, AMZN, AMGN, AAPL, ADS...   \n",
       "m=60   [ADBE, AMD, GOOGL, AMZN, AMGN, AAPL, ADSK, ADP...   \n",
       "m=70   [ATVI, ADBE, AMD, GOOGL, AMZN, AMGN, AAPL, AMA...   \n",
       "m=80   [ATVI, ADBE, AMD, ALXN, GOOGL, GOOG, AMZN, AMG...   \n",
       "m=90   [ATVI, ADBE, AMD, ALXN, GOOGL, GOOG, AMZN, AMG...   \n",
       "m=100  [ATVI, ADBE, AMD, ALXN, GOOGL, GOOG, AMZN, AMG...   \n",
       "\n",
       "                                                 weights  \n",
       "m=10   [0.1147028884648668, 0.1275886567495478, 0.140...  \n",
       "m=20   [0.0354315281422861, 0.091502305287932, 0.0998...  \n",
       "m=30   [0.0243128563031083, 0.0898908387923361, 0.095...  \n",
       "m=40   [0.0256881596765564, 0.0836437012254965, 0.097...  \n",
       "m=50   [0.0055295297871961, 0.0195444196032516, 0.005...  \n",
       "m=60   [0.0178951534248061, 0.0037866258989731, 0.086...  \n",
       "m=70   [0.0034937937360363, 0.0182694353229364, 0.003...  \n",
       "m=80   [0.0031192740211572, 0.0178445065401232, 0.003...  \n",
       "m=90   [0.0042232895931933, 0.0171400492740289, 0.004...  \n",
       "m=100  [0.0042232895931936, 0.0171400492740285, 0.004...  "
      ]
     },
     "execution_count": 147,
     "metadata": {},
     "output_type": "execute_result"
    }
   ],
   "source": [
    "port_selection2=port_selection\n",
    "wt19_2=np.array(np.array(pd.read_csv('wt19.csv')))\n",
    "for i in range(wt19_2.shape[0]):\n",
    "    port_selection2['selection index'][i]=np.where(wt19_2[i]>0)\n",
    "    port_selection2['selection ticker'][i]=ticker[np.where(wt19_2[i]>0)].values\n",
    "    port_selection2['weights'][i]=wt19_2[i][np.where(wt19_2[i]>0)]\n",
    "port_selection2"
   ]
  },
  {
   "cell_type": "code",
   "execution_count": 149,
   "metadata": {},
   "outputs": [
    {
     "data": {
      "text/html": [
       "<div>\n",
       "<style scoped>\n",
       "    .dataframe tbody tr th:only-of-type {\n",
       "        vertical-align: middle;\n",
       "    }\n",
       "\n",
       "    .dataframe tbody tr th {\n",
       "        vertical-align: top;\n",
       "    }\n",
       "\n",
       "    .dataframe thead th {\n",
       "        text-align: right;\n",
       "    }\n",
       "</style>\n",
       "<table border=\"1\" class=\"dataframe\">\n",
       "  <thead>\n",
       "    <tr style=\"text-align: right;\">\n",
       "      <th></th>\n",
       "      <th>difference for 2019</th>\n",
       "      <th>difference for 2020</th>\n",
       "    </tr>\n",
       "  </thead>\n",
       "  <tbody>\n",
       "    <tr>\n",
       "      <th>m=10</th>\n",
       "      <td>0.303570</td>\n",
       "      <td>0.691485</td>\n",
       "    </tr>\n",
       "    <tr>\n",
       "      <th>m=20</th>\n",
       "      <td>0.166274</td>\n",
       "      <td>0.572540</td>\n",
       "    </tr>\n",
       "    <tr>\n",
       "      <th>m=30</th>\n",
       "      <td>0.110948</td>\n",
       "      <td>0.508069</td>\n",
       "    </tr>\n",
       "    <tr>\n",
       "      <th>m=40</th>\n",
       "      <td>0.078818</td>\n",
       "      <td>0.432141</td>\n",
       "    </tr>\n",
       "    <tr>\n",
       "      <th>m=50</th>\n",
       "      <td>0.062072</td>\n",
       "      <td>0.375637</td>\n",
       "    </tr>\n",
       "    <tr>\n",
       "      <th>m=60</th>\n",
       "      <td>0.051871</td>\n",
       "      <td>0.381008</td>\n",
       "    </tr>\n",
       "    <tr>\n",
       "      <th>m=70</th>\n",
       "      <td>0.047567</td>\n",
       "      <td>0.358158</td>\n",
       "    </tr>\n",
       "    <tr>\n",
       "      <th>m=80</th>\n",
       "      <td>0.045227</td>\n",
       "      <td>0.370629</td>\n",
       "    </tr>\n",
       "    <tr>\n",
       "      <th>m=90</th>\n",
       "      <td>0.044911</td>\n",
       "      <td>0.368682</td>\n",
       "    </tr>\n",
       "    <tr>\n",
       "      <th>m=100</th>\n",
       "      <td>0.044911</td>\n",
       "      <td>0.368682</td>\n",
       "    </tr>\n",
       "  </tbody>\n",
       "</table>\n",
       "</div>"
      ],
      "text/plain": [
       "       difference for 2019  difference for 2020\n",
       "m=10              0.303570             0.691485\n",
       "m=20              0.166274             0.572540\n",
       "m=30              0.110948             0.508069\n",
       "m=40              0.078818             0.432141\n",
       "m=50              0.062072             0.375637\n",
       "m=60              0.051871             0.381008\n",
       "m=70              0.047567             0.358158\n",
       "m=80              0.045227             0.370629\n",
       "m=90              0.044911             0.368682\n",
       "m=100             0.044911             0.368682"
      ]
     },
     "execution_count": 149,
     "metadata": {},
     "output_type": "execute_result"
    }
   ],
   "source": [
    "\n",
    "for i in range(len(m_number)):\n",
    "    port_comp2['difference for 2019'][i]=np.sum(abs(rt19[:,np.where(wt19[i]>0)[0]]@wt19[i][np.where(wt19_2[i]>0)]-idx_rt19))\n",
    "    port_comp2['difference for 2020'][i]=np.sum(abs(rt20[:,np.where(wt19[i]>0)[0]]@wt19[i][np.where(wt19_2[i]>0)]-idx_rt20))\n",
    "\n",
    "port_comp2"
   ]
  },
  {
   "cell_type": "code",
   "execution_count": 152,
   "metadata": {},
   "outputs": [
    {
     "data": {
      "text/plain": [
       "<AxesSubplot:>"
      ]
     },
     "execution_count": 152,
     "metadata": {},
     "output_type": "execute_result"
    },
    {
     "data": {
      "image/png": "[encoded data removed]",
      "text/plain": [
       "<Figure size 432x288 with 1 Axes>"
      ]
     },
     "metadata": {
      "needs_background": "light"
     },
     "output_type": "display_data"
    }
   ],
   "source": [
    "port_comp.plot(kind='line')"
   ]
  },
  {
   "cell_type": "code",
   "execution_count": 153,
   "metadata": {},
   "outputs": [
    {
     "data": {
      "text/plain": [
       "<AxesSubplot:>"
      ]
     },
     "execution_count": 153,
     "metadata": {},
     "output_type": "execute_result"
    },
    {
     "data": {
      "image/png": "[encoded data removed]",
      "text/plain": [
       "<Figure size 432x288 with 1 Axes>"
      ]
     },
     "metadata": {
      "needs_background": "light"
     },
     "output_type": "display_data"
    }
   ],
   "source": [
    "port_comp2.plot(kind='line')"
   ]
  }
 ],
 "metadata": {
  "kernelspec": {
   "display_name": "Python 3",
   "language": "python",
   "name": "python3"
  },
  "language_info": {
   "codemirror_mode": {
    "name": "ipython",
    "version": 3
   },
   "file_extension": ".py",
   "mimetype": "text/x-python",
   "name": "python",
   "nbconvert_exporter": "python",
   "pygments_lexer": "ipython3",
   "version": "3.8.8"
  }
 },
 "nbformat": 4,
 "nbformat_minor": 2
}
