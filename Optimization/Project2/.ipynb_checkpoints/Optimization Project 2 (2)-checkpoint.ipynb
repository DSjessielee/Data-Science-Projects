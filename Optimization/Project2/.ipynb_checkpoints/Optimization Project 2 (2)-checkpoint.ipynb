{
 "cells": [
  {
   "cell_type": "code",
   "execution_count": null,
   "metadata": {},
   "outputs": [],
   "source": []
  },
  {
   "cell_type": "code",
   "execution_count": 7,
   "metadata": {},
   "outputs": [
    {
     "ename": "FileNotFoundError",
     "evalue": "[WinError 3] The system cannot find the path specified: '/Users/kundra/Downloads'",
     "output_type": "error",
     "traceback": [
      "\u001b[1;31m---------------------------------------------------------------------------\u001b[0m",
      "\u001b[1;31mFileNotFoundError\u001b[0m                         Traceback (most recent call last)",
      "\u001b[1;32m<ipython-input-7-34ec7d7698e9>\u001b[0m in \u001b[0;36m<module>\u001b[1;34m\u001b[0m\n\u001b[0;32m      3\u001b[0m \u001b[1;32mimport\u001b[0m \u001b[0mgurobipy\u001b[0m \u001b[1;32mas\u001b[0m \u001b[0mgp\u001b[0m\u001b[1;33m\u001b[0m\u001b[1;33m\u001b[0m\u001b[0m\n\u001b[0;32m      4\u001b[0m \u001b[1;32mimport\u001b[0m \u001b[0mos\u001b[0m\u001b[1;33m\u001b[0m\u001b[1;33m\u001b[0m\u001b[0m\n\u001b[1;32m----> 5\u001b[1;33m \u001b[0mos\u001b[0m\u001b[1;33m.\u001b[0m\u001b[0mchdir\u001b[0m\u001b[1;33m(\u001b[0m\u001b[1;34m'/Users/kundra/Downloads'\u001b[0m\u001b[1;33m)\u001b[0m\u001b[1;33m\u001b[0m\u001b[1;33m\u001b[0m\u001b[0m\n\u001b[0m",
      "\u001b[1;31mFileNotFoundError\u001b[0m: [WinError 3] The system cannot find the path specified: '/Users/kundra/Downloads'"
     ]
    }
   ],
   "source": [
    "import pandas as pd\n",
    "import numpy as np\n",
    "import gurobipy as gp\n",
    "import os\n",
    "os.chdir('/Users/kundra/Downloads')"
   ]
  },
  {
   "cell_type": "code",
   "execution_count": null,
   "metadata": {},
   "outputs": [],
   "source": [
    "stocks2020 = pd.read_csv('stocks2020.csv')\n",
    "stocks2019 = pd.read_csv('stocks2019.csv')"
   ]
  },
  {
   "cell_type": "code",
   "execution_count": null,
   "metadata": {},
   "outputs": [],
   "source": [
    "returns = (stocks2019.drop(columns = ['X']) - stocks2019.shift(1).drop(columns = ['X']))/(stocks2019.shift(1).drop(columns = ['X']))\n",
    "returns_2019 = returns[1:]\n",
    "returns_2019"
   ]
  },
  {
   "cell_type": "code",
   "execution_count": null,
   "metadata": {},
   "outputs": [],
   "source": [
    "corr_returns = returns_2019.drop(columns = 'NDX').corr()\n",
    "corr_returns"
   ]
  },
  {
   "cell_type": "markdown",
   "metadata": {},
   "source": [
    "### 5 Stock Problem"
   ]
  },
  {
   "cell_type": "code",
   "execution_count": null,
   "metadata": {},
   "outputs": [],
   "source": [
    "m = 5\n",
    "A = np.zeros((101 + 100**2, 100**2 + 100))\n",
    "b = np.zeros((101 + 100**2))\n",
    "sense = np.array(['']*(101 + 100**2))\n",
    "\n",
    "corr_obj = []\n",
    "for i in range(100):\n",
    "    corr_obj +=list(corr_returns.iloc[i])\n",
    "    \n",
    "obj = np.array([0]*100 + corr_obj)\n",
    "\n",
    "\n",
    "for j in range(100):\n",
    "    A[0,j] = 1\n",
    "    b[0] = m\n",
    "    sense[0] = '='\n",
    "\n",
    "\n",
    "index = np.array(range(100))\n",
    "row = 1\n",
    "for j in range(100):\n",
    "    A[row, 100+ 100*j + index] = 1\n",
    "    b[row] = 1\n",
    "    sense[row] = '='\n",
    "    row += 1\n",
    "    \n",
    "\n",
    "for j in range(100):\n",
    "    for i in range(100):\n",
    "        A[row,[j,100+ 100*i+j]] = [-1,1]\n",
    "        b[row] = 0\n",
    "        sense[row] = '<'\n",
    "        row += 1"
   ]
  },
  {
   "cell_type": "code",
   "execution_count": null,
   "metadata": {},
   "outputs": [],
   "source": [
    "npvMod = gp.Model()\n",
    "npvMod_x = npvMod.addMVar(len(obj),vtype=['B']*len(obj)) # 'C' or 'I' or 'B'\n",
    "npvMod_con = npvMod.addMConstrs(A, npvMod_x, sense, b)\n",
    "npvMod.setMObjective(None,obj,0,sense=gp.GRB.MAXIMIZE)\n",
    "\n",
    "npvMod.Params.OutputFlag = 0 # tell gurobi to shut up!!\n",
    "npvMod.optimize()\n"
   ]
  },
  {
   "cell_type": "code",
   "execution_count": null,
   "metadata": {},
   "outputs": [],
   "source": [
    "npvMod.objVal"
   ]
  },
  {
   "cell_type": "code",
   "execution_count": null,
   "metadata": {},
   "outputs": [],
   "source": [
    "where_stk = np.where(npvMod_x.x[0:100])\n",
    "select_five = list(corr_returns.columns.values[where_stk])\n",
    "select_five"
   ]
  },
  {
   "cell_type": "markdown",
   "metadata": {},
   "source": [
    "### WEIGHT FOR 5 STOCKS"
   ]
  },
  {
   "cell_type": "code",
   "execution_count": null,
   "metadata": {},
   "outputs": [],
   "source": [
    "stocks_selected= returns_2019[select_five]\n",
    "ndx_return = returns_2019[['NDX']]\n",
    "stocks_selected.reset_index(drop=True, inplace = True)\n",
    "ndx_return.reset_index(drop=True, inplace = True)\n",
    "stocks_selected"
   ]
  },
  {
   "cell_type": "code",
   "execution_count": null,
   "metadata": {},
   "outputs": [],
   "source": [
    "obj = np.array([1]*250 + [0]*m)\n",
    "sense = np.array(['']*501)\n",
    "b = np.zeros(501)"
   ]
  },
  {
   "cell_type": "code",
   "execution_count": null,
   "metadata": {},
   "outputs": [],
   "source": [
    "row = 0\n",
    "A = np.zeros((501,250 + m))\n",
    "for i in range(250):\n",
    "    A[row,i] = -1\n",
    "    A[row,250:] = -(stocks_selected.iloc[i])\n",
    "    b[row] = -(ndx_return.iloc[i])\n",
    "    sense[row] = '<'\n",
    "    row += 1\n",
    "A"
   ]
  },
  {
   "cell_type": "code",
   "execution_count": null,
   "metadata": {},
   "outputs": [],
   "source": [
    "for i in range(250):\n",
    "    A[row,i] = -1\n",
    "    A[row,250:] = stocks_selected.iloc[i]\n",
    "    b[row] = ndx_return.iloc[i]\n",
    "    sense[row] = '<'\n",
    "    row += 1"
   ]
  },
  {
   "cell_type": "code",
   "execution_count": null,
   "metadata": {},
   "outputs": [],
   "source": [
    "A[row,250:] = 1\n",
    "b[row] = 1\n",
    "sense[row] = '='\n"
   ]
  },
  {
   "cell_type": "code",
   "execution_count": null,
   "metadata": {},
   "outputs": [],
   "source": [
    "npvMod = gp.Model()\n",
    "npvMod_x = npvMod.addMVar(len(obj),vtype=['C']*len(obj)) # 'C' or 'I' or 'B'\n",
    "npvMod_con = npvMod.addMConstrs(A, npvMod_x, sense, b)\n",
    "npvMod.setMObjective(None,obj,0,sense=gp.GRB.MINIMIZE)\n",
    "\n",
    "npvMod.Params.OutputFlag = 0 # tell gurobi to shut up!!\n",
    "npvMod.optimize()"
   ]
  },
  {
   "cell_type": "code",
   "execution_count": 8,
   "metadata": {},
   "outputs": [
    {
     "ename": "NameError",
     "evalue": "name 'npvMod' is not defined",
     "output_type": "error",
     "traceback": [
      "\u001b[1;31m---------------------------------------------------------------------------\u001b[0m",
      "\u001b[1;31mNameError\u001b[0m                                 Traceback (most recent call last)",
      "\u001b[1;32m<ipython-input-8-ecd90b0cb324>\u001b[0m in \u001b[0;36m<module>\u001b[1;34m\u001b[0m\n\u001b[1;32m----> 1\u001b[1;33m \u001b[0mnpvMod\u001b[0m\u001b[1;33m.\u001b[0m\u001b[0mobjVal\u001b[0m\u001b[1;33m\u001b[0m\u001b[1;33m\u001b[0m\u001b[0m\n\u001b[0m",
      "\u001b[1;31mNameError\u001b[0m: name 'npvMod' is not defined"
     ]
    }
   ],
   "source": [
    "npvMod.objVal"
   ]
  },
  {
   "cell_type": "code",
   "execution_count": null,
   "metadata": {},
   "outputs": [],
   "source": [
    "weights_5 =npvMod_x.x[250:]\n",
    "weights_5"
   ]
  },
  {
   "cell_type": "code",
   "execution_count": null,
   "metadata": {},
   "outputs": [],
   "source": [
    "Weights_five = pd.DataFrame(weights_5,index= select_five, columns = ['Weight'])\n",
    "Weights_five "
   ]
  },
  {
   "cell_type": "markdown",
   "metadata": {},
   "source": [
    "### 2020 Data Performance"
   ]
  },
  {
   "cell_type": "code",
   "execution_count": null,
   "metadata": {},
   "outputs": [],
   "source": [
    "returns = (stocks2020.drop(columns = ['Unnamed: 0']) - stocks2020.shift(1).drop(columns = ['Unnamed: 0']))/(stocks2020.shift(1).drop(columns = ['Unnamed: 0']))\n",
    "returns_2020 = returns[1:]\n",
    "returns_2020.reset_index(drop=True, inplace = True)"
   ]
  },
  {
   "cell_type": "code",
   "execution_count": null,
   "metadata": {},
   "outputs": [],
   "source": [
    "returns_2020"
   ]
  },
  {
   "cell_type": "code",
   "execution_count": null,
   "metadata": {},
   "outputs": [],
   "source": [
    "r = np.array(returns_2020[select_five])\n",
    "w = np.array(Weights_five)"
   ]
  },
  {
   "cell_type": "code",
   "execution_count": null,
   "metadata": {},
   "outputs": [],
   "source": [
    "ret_wt = r@w\n",
    "ret_wt_flatten = ret_wt.flatten()"
   ]
  },
  {
   "cell_type": "code",
   "execution_count": null,
   "metadata": {},
   "outputs": [],
   "source": [
    "sum(abs(np.array(returns_2020['NDX']) - ret_wt_flatten))"
   ]
  },
  {
   "cell_type": "markdown",
   "metadata": {},
   "source": [
    "### m = 10, 20, 30....."
   ]
  },
  {
   "cell_type": "code",
   "execution_count": null,
   "metadata": {},
   "outputs": [],
   "source": [
    "table_comparison = pd.DataFrame(columns = ['2019_perf','2020_perf'], index = np.linspace(10,100,10))\n",
    "table_comparison"
   ]
  },
  {
   "cell_type": "code",
   "execution_count": null,
   "metadata": {},
   "outputs": [],
   "source": [
    "table_comparison['2019_perf'].loc[10]"
   ]
  },
  {
   "cell_type": "code",
   "execution_count": null,
   "metadata": {},
   "outputs": [],
   "source": [
    "#index = 0\n",
    "for m in np.linspace(10,100,10):\n",
    "    \n",
    "        A = np.zeros((101 + 100**2, 100**2 + 100))\n",
    "        b = np.zeros((101 + 100**2))\n",
    "        sense = np.array(['']*(101 + 100**2))\n",
    "\n",
    "        corr_obj = []\n",
    "        for i in range(100):\n",
    "            corr_obj +=list(corr_returns.iloc[i])\n",
    "\n",
    "        obj = np.array([0]*100 + corr_obj)\n",
    "\n",
    "\n",
    "        for j in range(100):\n",
    "            A[0,j] = 1\n",
    "            b[0] = m\n",
    "            sense[0] = '='\n",
    "\n",
    "\n",
    "        index = np.array(range(100))\n",
    "        row = 1\n",
    "        for j in range(100):\n",
    "            A[row, 100+ 100*j + index] = 1\n",
    "            b[row] = 1\n",
    "            sense[row] = '='\n",
    "            row += 1\n",
    "\n",
    "\n",
    "        for j in range(100):\n",
    "            for i in range(100):\n",
    "                A[row,[j,100+ 100*i+j]] = [-1,1]\n",
    "                b[row] = 0\n",
    "                sense[row] = '<'\n",
    "                row += 1\n",
    "                \n",
    "        npvMod = gp.Model()\n",
    "        npvMod_x = npvMod.addMVar(len(obj),vtype=['B']*len(obj)) # 'C' or 'I' or 'B'\n",
    "        npvMod_con = npvMod.addMConstrs(A, npvMod_x, sense, b)\n",
    "        npvMod.setMObjective(None,obj,0,sense=gp.GRB.MAXIMIZE)\n",
    "\n",
    "        npvMod.Params.OutputFlag = 0 # tell gurobi to shut up!!\n",
    "        npvMod.optimize()\n",
    "        \n",
    "        \n",
    "        \n",
    "        where_stk = np.where(npvMod_x.x[0:100])\n",
    "        select_five = list(corr_returns.columns.values[where_stk])\n",
    "        \n",
    "        stocks_selected= returns_2019[select_five]\n",
    "        ndx_return = returns_2019[['NDX']]\n",
    "        stocks_selected.reset_index(drop=True, inplace = True)\n",
    "        \n",
    "        obj = np.array([1]*250 + [0]*int(m))\n",
    "        sense = np.array(['']*501)\n",
    "        b = np.zeros(501)\n",
    "        \n",
    "        row = 0\n",
    "        A = np.zeros((501,250 + int(m)))\n",
    "        for i in range(250):\n",
    "            A[row,i] = -1\n",
    "            A[row,250:] = -(stocks_selected.iloc[i])\n",
    "            b[row] = -(ndx_return.iloc[i])\n",
    "            sense[row] = '<'\n",
    "            row += 1\n",
    "            \n",
    "        for i in range(250):\n",
    "            A[row,i] = -1\n",
    "            A[row,250:] = stocks_selected.iloc[i]\n",
    "            b[row] = ndx_return.iloc[i]\n",
    "            sense[row] = '<'\n",
    "            row += 1\n",
    "            \n",
    "        A[row,250:] = 1\n",
    "        b[row] = 1\n",
    "        sense[row] = '='\n",
    "        \n",
    "        npvMod = gp.Model()\n",
    "        npvMod_x = npvMod.addMVar(len(obj),vtype=['C']*len(obj)) # 'C' or 'I' or 'B'\n",
    "        npvMod_con = npvMod.addMConstrs(A, npvMod_x, sense, b)\n",
    "        npvMod.setMObjective(None,obj,0,sense=gp.GRB.MINIMIZE)\n",
    "\n",
    "        npvMod.Params.OutputFlag = 0 # tell gurobi to shut up!!\n",
    "        npvMod.optimize()\n",
    "        \n",
    "        table_comparison['2019_perf'].loc[m] = npvMod.objVal\n",
    "        \n",
    "        weights_5 =npvMod_x.x[250:]\n",
    "        Weights_five = pd.DataFrame(weights_5,index= select_five, columns = ['Weight'])\n",
    "        \n",
    "        r = np.array(returns_2020[select_five])\n",
    "        w = np.array(Weights_five)\n",
    "        \n",
    "        ret_wt = r@w\n",
    "        ret_wt_flatten = ret_wt.flatten()\n",
    "        \n",
    "        table_comparison['2020_perf'].loc[m] = sum(abs(np.array(returns_2020['NDX']) - ret_wt_flatten))\n",
    "  \n",
    "        \n",
    "        \n",
    "table_comparison  "
   ]
  },
  {
   "cell_type": "markdown",
   "metadata": {},
   "source": [
    "### Question 4"
   ]
  },
  {
   "cell_type": "code",
   "execution_count": null,
   "metadata": {},
   "outputs": [],
   "source": [
    "stocks_selected= returns_2019.drop(columns = ['NDX'])\n",
    "ndx_return = returns_2019[['NDX']]\n",
    "stocks_selected.reset_index(drop=True, inplace = True)\n",
    "ndx_return.reset_index(drop=True, inplace = True)"
   ]
  },
  {
   "cell_type": "code",
   "execution_count": null,
   "metadata": {},
   "outputs": [],
   "source": [
    "returns_2020_new = returns_2020.drop(columns = ['NDX'])\n",
    "ndx_return_2020 = returns_2020[['NDX']]\n",
    "returns_2020_new.reset_index(drop=True, inplace = True)\n",
    "ndx_return_2020.reset_index(drop=True, inplace = True)"
   ]
  },
  {
   "cell_type": "code",
   "execution_count": null,
   "metadata": {},
   "outputs": [],
   "source": [
    "\n",
    "m = 5\n",
    "row = 0\n",
    "A = np.zeros((602,250 + 100+100))\n",
    "\n",
    "obj = np.array([1]*250 + [0]*100 + [0]*100)\n",
    "\n",
    "sense = np.array(['']*602)\n",
    "b = np.zeros(602)\n",
    "\n",
    "\n",
    "for i in range(250):\n",
    "    A[row,i] = -1\n",
    "    A[row,250:350] = -(stocks_selected.iloc[i])\n",
    "    b[row] = -(ndx_return.iloc[i])\n",
    "    sense[row] = '<'\n",
    "    row += 1\n",
    "\n",
    "    \n",
    "for i in range(250):\n",
    "    A[row,i] = -1\n",
    "    A[row,250:350] = stocks_selected.iloc[i]\n",
    "    b[row] = ndx_return.iloc[i]\n",
    "    sense[row] = '<'\n",
    "    row += 1\n",
    "    \n",
    "A[row,250:350] = 1\n",
    "b[row] = 1\n",
    "sense[row] = '='\n",
    "row += 1\n",
    "\n",
    "A[row,350:] = 1\n",
    "b[row] = m\n",
    "sense[row] = '='\n",
    "row += 1\n",
    "\n",
    "for i in range(100):\n",
    "    A[row,[250+i,350+i]] = [1,-1]\n",
    "    sense[row] = '<'\n",
    "    b[row] = 0\n",
    "    row += 1"
   ]
  },
  {
   "cell_type": "code",
   "execution_count": null,
   "metadata": {},
   "outputs": [],
   "source": [
    "npvMod = gp.Model()\n",
    "npvMod_x = npvMod.addMVar(len(obj),vtype=['C']*350 + ['B']*100) # 'C' or 'I' or 'B'\n",
    "npvMod_con = npvMod.addMConstrs(A, npvMod_x, sense, b)\n",
    "npvMod.setMObjective(None,obj,0,sense=gp.GRB.MINIMIZE)\n",
    "\n",
    "npvMod.Params.OutputFlag = 0# tell gurobi to shut up!!\n",
    "npvMod.Params.TimeLimit = 10\n",
    "npvMod.optimize()"
   ]
  },
  {
   "cell_type": "code",
   "execution_count": null,
   "metadata": {},
   "outputs": [],
   "source": [
    "npvMod.objVal"
   ]
  },
  {
   "cell_type": "code",
   "execution_count": null,
   "metadata": {},
   "outputs": [],
   "source": [
    "w=npvMod_x.x[250:350]\n",
    "r = np.array(returns_2020_new)"
   ]
  },
  {
   "cell_type": "code",
   "execution_count": null,
   "metadata": {},
   "outputs": [],
   "source": [
    "ret_wt = r@w\n",
    "ret_wt_flatten = ret_wt.flatten()"
   ]
  },
  {
   "cell_type": "code",
   "execution_count": null,
   "metadata": {},
   "outputs": [],
   "source": [
    "sum(abs(np.array(returns_2020['NDX']) - ret_wt_flatten))"
   ]
  },
  {
   "cell_type": "markdown",
   "metadata": {},
   "source": [
    "### m = 10, 20, 30....."
   ]
  },
  {
   "cell_type": "code",
   "execution_count": null,
   "metadata": {},
   "outputs": [],
   "source": [
    "table_comparison = pd.DataFrame(columns = ['2019_perf','2020_perf'], index = np.linspace(10,100,10))\n",
    "table_comparison"
   ]
  },
  {
   "cell_type": "code",
   "execution_count": 2,
   "metadata": {},
   "outputs": [
    {
     "ename": "NameError",
     "evalue": "name 'stocks_selected' is not defined",
     "output_type": "error",
     "traceback": [
      "\u001b[1;31m---------------------------------------------------------------------------\u001b[0m",
      "\u001b[1;31mNameError\u001b[0m                                 Traceback (most recent call last)",
      "\u001b[1;32m<ipython-input-2-115cda04beaf>\u001b[0m in \u001b[0;36m<module>\u001b[1;34m\u001b[0m\n\u001b[0;32m     11\u001b[0m             \u001b[1;32mfor\u001b[0m \u001b[0mi\u001b[0m \u001b[1;32min\u001b[0m \u001b[0mrange\u001b[0m\u001b[1;33m(\u001b[0m\u001b[1;36m250\u001b[0m\u001b[1;33m)\u001b[0m\u001b[1;33m:\u001b[0m\u001b[1;33m\u001b[0m\u001b[1;33m\u001b[0m\u001b[0m\n\u001b[0;32m     12\u001b[0m                 \u001b[0mA\u001b[0m\u001b[1;33m[\u001b[0m\u001b[0mrow\u001b[0m\u001b[1;33m,\u001b[0m\u001b[0mi\u001b[0m\u001b[1;33m]\u001b[0m \u001b[1;33m=\u001b[0m \u001b[1;33m-\u001b[0m\u001b[1;36m1\u001b[0m\u001b[1;33m\u001b[0m\u001b[1;33m\u001b[0m\u001b[0m\n\u001b[1;32m---> 13\u001b[1;33m                 \u001b[0mA\u001b[0m\u001b[1;33m[\u001b[0m\u001b[0mrow\u001b[0m\u001b[1;33m,\u001b[0m\u001b[1;36m250\u001b[0m\u001b[1;33m:\u001b[0m\u001b[1;36m350\u001b[0m\u001b[1;33m]\u001b[0m \u001b[1;33m=\u001b[0m \u001b[1;33m-\u001b[0m\u001b[1;33m(\u001b[0m\u001b[0mstocks_selected\u001b[0m\u001b[1;33m.\u001b[0m\u001b[0miloc\u001b[0m\u001b[1;33m[\u001b[0m\u001b[0mi\u001b[0m\u001b[1;33m]\u001b[0m\u001b[1;33m)\u001b[0m\u001b[1;33m\u001b[0m\u001b[1;33m\u001b[0m\u001b[0m\n\u001b[0m\u001b[0;32m     14\u001b[0m                 \u001b[0mb\u001b[0m\u001b[1;33m[\u001b[0m\u001b[0mrow\u001b[0m\u001b[1;33m]\u001b[0m \u001b[1;33m=\u001b[0m \u001b[1;33m-\u001b[0m\u001b[1;33m(\u001b[0m\u001b[0mndx_return\u001b[0m\u001b[1;33m.\u001b[0m\u001b[0miloc\u001b[0m\u001b[1;33m[\u001b[0m\u001b[0mi\u001b[0m\u001b[1;33m]\u001b[0m\u001b[1;33m)\u001b[0m\u001b[1;33m\u001b[0m\u001b[1;33m\u001b[0m\u001b[0m\n\u001b[0;32m     15\u001b[0m                 \u001b[0msense\u001b[0m\u001b[1;33m[\u001b[0m\u001b[0mrow\u001b[0m\u001b[1;33m]\u001b[0m \u001b[1;33m=\u001b[0m \u001b[1;34m'<'\u001b[0m\u001b[1;33m\u001b[0m\u001b[1;33m\u001b[0m\u001b[0m\n",
      "\u001b[1;31mNameError\u001b[0m: name 'stocks_selected' is not defined"
     ]
    }
   ],
   "source": [
    "for m in np.linspace(10,100,10):\n",
    "            row = 0\n",
    "            A = np.zeros((602,250 + 100+100))\n",
    "\n",
    "            obj = np.array([1]*250 + [0]*100 + [0]*100)\n",
    "\n",
    "            sense = np.array(['']*602)\n",
    "            b = np.zeros(602)\n",
    "\n",
    "\n",
    "            for i in range(250):\n",
    "                A[row,i] = -1\n",
    "                A[row,250:350] = -(stocks_selected.iloc[i])\n",
    "                b[row] = -(ndx_return.iloc[i])\n",
    "                sense[row] = '<'\n",
    "                row += 1\n",
    "\n",
    "\n",
    "            for i in range(250):\n",
    "                A[row,i] = -1\n",
    "                A[row,250:350] = stocks_selected.iloc[i]\n",
    "                b[row] = ndx_return.iloc[i]\n",
    "                sense[row] = '<'\n",
    "                row += 1\n",
    "\n",
    "            A[row,250:350] = 1\n",
    "            b[row] = 1\n",
    "            sense[row] = '='\n",
    "            row += 1\n",
    "\n",
    "            A[row,350:] = 1\n",
    "            b[row] = m\n",
    "            sense[row] = '='\n",
    "            row += 1\n",
    "\n",
    "            for i in range(100):\n",
    "                A[row,[250+i,350+i]] = [1,-1]\n",
    "                sense[row] = '<'\n",
    "                b[row] = 0\n",
    "                row += 1\n",
    "                \n",
    "            npvMod = gp.Model()\n",
    "            npvMod_x = npvMod.addMVar(len(obj),vtype=['C']*350 + ['B']*100) # 'C' or 'I' or 'B'\n",
    "            npvMod_con = npvMod.addMConstrs(A, npvMod_x, sense, b)\n",
    "            npvMod.setMObjective(None,obj,0,sense=gp.GRB.MINIMIZE)\n",
    "\n",
    "            npvMod.Params.OutputFlag = 0# tell gurobi to shut up!!\n",
    "            npvMod.Params.TimeLimit = 10\n",
    "            npvMod.optimize()\n",
    "            \n",
    "            table_comparison['2019_perf'].loc[m] = npvMod.objVal \n",
    "            \n",
    "            \n",
    "            w=npvMod_x.x[250:350]\n",
    "            r = np.array(returns_2020_new)\n",
    "            \n",
    "            ret_wt = r@w\n",
    "            ret_wt_flatten = ret_wt.flatten()\n",
    "            \n",
    "            \n",
    "            table_comparison['2019_perf'].loc[m] = sum(abs(np.array(returns_2020['NDX']) - ret_wt_flatten))"
   ]
  },
  {
   "cell_type": "code",
   "execution_count": null,
   "metadata": {},
   "outputs": [],
   "source": [
    " table_comparison"
   ]
  },
  {
   "cell_type": "code",
   "execution_count": null,
   "metadata": {},
   "outputs": [],
   "source": []
  }
 ],
 "metadata": {
  "kernelspec": {
   "display_name": "Python 3",
   "language": "python",
   "name": "python3"
  },
  "language_info": {
   "codemirror_mode": {
    "name": "ipython",
    "version": 3
   },
   "file_extension": ".py",
   "mimetype": "text/x-python",
   "name": "python",
   "nbconvert_exporter": "python",
   "pygments_lexer": "ipython3",
   "version": "3.8.8"
  }
 },
 "nbformat": 4,
 "nbformat_minor": 4
}
