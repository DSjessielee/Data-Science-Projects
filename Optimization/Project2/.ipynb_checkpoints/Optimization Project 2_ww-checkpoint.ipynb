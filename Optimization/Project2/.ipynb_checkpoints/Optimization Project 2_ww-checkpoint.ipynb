{
 "cells": [
  {
   "cell_type": "code",
   "execution_count": 1,
   "id": "9a6817a1",
   "metadata": {},
   "outputs": [],
   "source": [
    "import numpy as np\n",
    "import gurobipy as gp\n",
    "import pandas as pd\n",
    "import math"
   ]
  },
  {
   "cell_type": "code",
   "execution_count": null,
   "id": "a473f05b",
   "metadata": {},
   "outputs": [],
   "source": [
    "gurobipy"
   ]
  },
  {
   "cell_type": "code",
   "execution_count": 2,
   "id": "ce3323b3",
   "metadata": {},
   "outputs": [],
   "source": [
    "def get_abs(x):\n",
    "    return abs(x)"
   ]
  },
  {
   "cell_type": "code",
   "execution_count": 3,
   "id": "5c2ccd94",
   "metadata": {},
   "outputs": [],
   "source": [
    "df_19 = pd.read_csv('stocks2019.csv')\n",
    "df_20 = pd.read_csv('stocks2020.csv')"
   ]
  },
  {
   "cell_type": "code",
   "execution_count": 4,
   "id": "3226b8f3",
   "metadata": {},
   "outputs": [],
   "source": [
    "column_names = df_19.columns[1:]"
   ]
  },
  {
   "cell_type": "code",
   "execution_count": 5,
   "id": "3ec2c6c0",
   "metadata": {},
   "outputs": [],
   "source": [
    "i = 0\n",
    "j = 0\n",
    "returns_total = []\n",
    "returns = []\n",
    "while i < len(column_names):\n",
    "    returns = []\n",
    "    j = 0\n",
    "    while j < len(df_19):\n",
    "        if j == 0:\n",
    "            returns.append(0)\n",
    "            j += 1\n",
    "        else:\n",
    "            returns.append((df_19[column_names[i]][j] - df_19[column_names[i]][j - 1])/df_19[column_names[i]][j - 1])\n",
    "            j += 1\n",
    "    returns_total.append(returns)\n",
    "    i += 1"
   ]
  },
  {
   "cell_type": "code",
   "execution_count": 6,
   "id": "671df4db",
   "metadata": {},
   "outputs": [],
   "source": [
    "df_19_returns = pd.DataFrame()\n",
    "\n",
    "i = 0\n",
    "while i < len(column_names):\n",
    "    df_19_returns[column_names[i]] = returns_total[i]\n",
    "    i += 1"
   ]
  },
  {
   "cell_type": "code",
   "execution_count": 7,
   "id": "f278761a",
   "metadata": {},
   "outputs": [
    {
     "data": {
      "text/plain": [
       "251"
      ]
     },
     "execution_count": 7,
     "metadata": {},
     "output_type": "execute_result"
    }
   ],
   "source": [
    "len(df_19_returns)"
   ]
  },
  {
   "cell_type": "code",
   "execution_count": 8,
   "id": "745ccc88",
   "metadata": {},
   "outputs": [],
   "source": [
    "df_19_clean = df_19_returns.copy()\n",
    "NDX = list(df_19_clean['NDX'])\n",
    "df_19_clean = df_19_clean.drop(columns = 'NDX')\n",
    "df_19_clean = df_19_clean.loc[1:]\n",
    "NDX = NDX[1:]"
   ]
  },
  {
   "cell_type": "code",
   "execution_count": 9,
   "id": "774a87c9",
   "metadata": {},
   "outputs": [
    {
     "data": {
      "text/html": [
       "<div>\n",
       "<style scoped>\n",
       "    .dataframe tbody tr th:only-of-type {\n",
       "        vertical-align: middle;\n",
       "    }\n",
       "\n",
       "    .dataframe tbody tr th {\n",
       "        vertical-align: top;\n",
       "    }\n",
       "\n",
       "    .dataframe thead th {\n",
       "        text-align: right;\n",
       "    }\n",
       "</style>\n",
       "<table border=\"1\" class=\"dataframe\">\n",
       "  <thead>\n",
       "    <tr style=\"text-align: right;\">\n",
       "      <th></th>\n",
       "      <th>ATVI</th>\n",
       "      <th>ADBE</th>\n",
       "      <th>AMD</th>\n",
       "      <th>ALXN</th>\n",
       "      <th>ALGN</th>\n",
       "      <th>GOOGL</th>\n",
       "      <th>GOOG</th>\n",
       "      <th>AMZN</th>\n",
       "      <th>AMGN</th>\n",
       "      <th>ADI</th>\n",
       "      <th>...</th>\n",
       "      <th>TCOM</th>\n",
       "      <th>ULTA</th>\n",
       "      <th>VRSN</th>\n",
       "      <th>VRSK</th>\n",
       "      <th>VRTX</th>\n",
       "      <th>WBA</th>\n",
       "      <th>WDAY</th>\n",
       "      <th>WDC</th>\n",
       "      <th>XEL</th>\n",
       "      <th>XLNX</th>\n",
       "    </tr>\n",
       "  </thead>\n",
       "  <tbody>\n",
       "    <tr>\n",
       "      <th>1</th>\n",
       "      <td>-0.035509</td>\n",
       "      <td>-0.039498</td>\n",
       "      <td>-0.094530</td>\n",
       "      <td>0.022030</td>\n",
       "      <td>-0.085791</td>\n",
       "      <td>-0.027696</td>\n",
       "      <td>-0.028484</td>\n",
       "      <td>-0.025242</td>\n",
       "      <td>-0.015216</td>\n",
       "      <td>-0.060405</td>\n",
       "      <td>...</td>\n",
       "      <td>-0.022834</td>\n",
       "      <td>-0.018591</td>\n",
       "      <td>-0.034989</td>\n",
       "      <td>-0.030557</td>\n",
       "      <td>-0.002133</td>\n",
       "      <td>-0.010435</td>\n",
       "      <td>-0.035808</td>\n",
       "      <td>-0.068217</td>\n",
       "      <td>-0.003940</td>\n",
       "      <td>-0.037651</td>\n",
       "    </tr>\n",
       "    <tr>\n",
       "      <th>2</th>\n",
       "      <td>0.039903</td>\n",
       "      <td>0.048632</td>\n",
       "      <td>0.114370</td>\n",
       "      <td>0.057779</td>\n",
       "      <td>0.010445</td>\n",
       "      <td>0.051294</td>\n",
       "      <td>0.053786</td>\n",
       "      <td>0.050064</td>\n",
       "      <td>0.034184</td>\n",
       "      <td>0.024278</td>\n",
       "      <td>...</td>\n",
       "      <td>0.058976</td>\n",
       "      <td>0.047954</td>\n",
       "      <td>0.044744</td>\n",
       "      <td>0.044147</td>\n",
       "      <td>0.054785</td>\n",
       "      <td>0.033269</td>\n",
       "      <td>0.060577</td>\n",
       "      <td>0.042356</td>\n",
       "      <td>0.009786</td>\n",
       "      <td>0.046303</td>\n",
       "    </tr>\n",
       "    <tr>\n",
       "      <th>3</th>\n",
       "      <td>0.028196</td>\n",
       "      <td>0.013573</td>\n",
       "      <td>0.082632</td>\n",
       "      <td>0.018302</td>\n",
       "      <td>0.017192</td>\n",
       "      <td>-0.001994</td>\n",
       "      <td>-0.002167</td>\n",
       "      <td>0.034353</td>\n",
       "      <td>0.013457</td>\n",
       "      <td>0.006288</td>\n",
       "      <td>...</td>\n",
       "      <td>0.022067</td>\n",
       "      <td>0.062620</td>\n",
       "      <td>0.016312</td>\n",
       "      <td>0.001000</td>\n",
       "      <td>0.018240</td>\n",
       "      <td>0.005749</td>\n",
       "      <td>0.000918</td>\n",
       "      <td>0.035522</td>\n",
       "      <td>-0.004330</td>\n",
       "      <td>0.026415</td>\n",
       "    </tr>\n",
       "    <tr>\n",
       "      <th>4</th>\n",
       "      <td>0.030309</td>\n",
       "      <td>0.014918</td>\n",
       "      <td>0.008751</td>\n",
       "      <td>0.006207</td>\n",
       "      <td>0.015954</td>\n",
       "      <td>0.008783</td>\n",
       "      <td>0.007385</td>\n",
       "      <td>0.016612</td>\n",
       "      <td>0.012824</td>\n",
       "      <td>0.024396</td>\n",
       "      <td>...</td>\n",
       "      <td>0.010281</td>\n",
       "      <td>0.018450</td>\n",
       "      <td>0.036460</td>\n",
       "      <td>0.008902</td>\n",
       "      <td>0.013307</td>\n",
       "      <td>0.020009</td>\n",
       "      <td>0.021101</td>\n",
       "      <td>-0.009615</td>\n",
       "      <td>0.011597</td>\n",
       "      <td>-0.019051</td>\n",
       "    </tr>\n",
       "    <tr>\n",
       "      <th>5</th>\n",
       "      <td>0.017210</td>\n",
       "      <td>0.011819</td>\n",
       "      <td>-0.026988</td>\n",
       "      <td>0.012430</td>\n",
       "      <td>0.038196</td>\n",
       "      <td>-0.003427</td>\n",
       "      <td>-0.001505</td>\n",
       "      <td>0.001714</td>\n",
       "      <td>-0.001196</td>\n",
       "      <td>0.025340</td>\n",
       "      <td>...</td>\n",
       "      <td>0.023745</td>\n",
       "      <td>0.018804</td>\n",
       "      <td>-0.008157</td>\n",
       "      <td>0.003781</td>\n",
       "      <td>0.023065</td>\n",
       "      <td>0.012050</td>\n",
       "      <td>-0.004612</td>\n",
       "      <td>0.044083</td>\n",
       "      <td>-0.007984</td>\n",
       "      <td>0.008972</td>\n",
       "    </tr>\n",
       "  </tbody>\n",
       "</table>\n",
       "<p>5 rows × 100 columns</p>\n",
       "</div>"
      ],
      "text/plain": [
       "       ATVI      ADBE       AMD      ALXN      ALGN     GOOGL      GOOG  \\\n",
       "1 -0.035509 -0.039498 -0.094530  0.022030 -0.085791 -0.027696 -0.028484   \n",
       "2  0.039903  0.048632  0.114370  0.057779  0.010445  0.051294  0.053786   \n",
       "3  0.028196  0.013573  0.082632  0.018302  0.017192 -0.001994 -0.002167   \n",
       "4  0.030309  0.014918  0.008751  0.006207  0.015954  0.008783  0.007385   \n",
       "5  0.017210  0.011819 -0.026988  0.012430  0.038196 -0.003427 -0.001505   \n",
       "\n",
       "       AMZN      AMGN       ADI  ...      TCOM      ULTA      VRSN      VRSK  \\\n",
       "1 -0.025242 -0.015216 -0.060405  ... -0.022834 -0.018591 -0.034989 -0.030557   \n",
       "2  0.050064  0.034184  0.024278  ...  0.058976  0.047954  0.044744  0.044147   \n",
       "3  0.034353  0.013457  0.006288  ...  0.022067  0.062620  0.016312  0.001000   \n",
       "4  0.016612  0.012824  0.024396  ...  0.010281  0.018450  0.036460  0.008902   \n",
       "5  0.001714 -0.001196  0.025340  ...  0.023745  0.018804 -0.008157  0.003781   \n",
       "\n",
       "       VRTX       WBA      WDAY       WDC       XEL      XLNX  \n",
       "1 -0.002133 -0.010435 -0.035808 -0.068217 -0.003940 -0.037651  \n",
       "2  0.054785  0.033269  0.060577  0.042356  0.009786  0.046303  \n",
       "3  0.018240  0.005749  0.000918  0.035522 -0.004330  0.026415  \n",
       "4  0.013307  0.020009  0.021101 -0.009615  0.011597 -0.019051  \n",
       "5  0.023065  0.012050 -0.004612  0.044083 -0.007984  0.008972  \n",
       "\n",
       "[5 rows x 100 columns]"
      ]
     },
     "execution_count": 9,
     "metadata": {},
     "output_type": "execute_result"
    }
   ],
   "source": [
    "df_19_clean.head()"
   ]
  },
  {
   "cell_type": "code",
   "execution_count": 10,
   "id": "60766d8e",
   "metadata": {},
   "outputs": [],
   "source": [
    "A = np.zeros((602,450))"
   ]
  },
  {
   "cell_type": "code",
   "execution_count": 11,
   "id": "8de56e81",
   "metadata": {},
   "outputs": [],
   "source": [
    "#For all Xi, Xi - Yi <= 0.\n",
    "i = 0\n",
    "j = 100\n",
    "sense = []\n",
    "b_list = []\n",
    "while i < 100:\n",
    "    A[i,i] = 1\n",
    "    A[i,j] = -1\n",
    "    sense.append('<')\n",
    "    b_list.append(0)\n",
    "    i += 1\n",
    "    j += 1"
   ]
  },
  {
   "cell_type": "code",
   "execution_count": 12,
   "id": "53d69813",
   "metadata": {},
   "outputs": [],
   "source": [
    "#for weight Xi, sum up equals 1. Which is, X0 +... + X99 = 1\n",
    "A[100, 0:100] = (1)\n",
    "b_list.append(1)\n",
    "sense.append('=')"
   ]
  },
  {
   "cell_type": "code",
   "execution_count": 13,
   "id": "92fa305e",
   "metadata": {},
   "outputs": [],
   "source": [
    "#Zi - (Xi *  Returni) > - Return NDX\n",
    "#Zi + (Xi * Returni) > Return NDX\n",
    "i = 101\n",
    "j = 200\n",
    "q = 0\n",
    "while i < 351:\n",
    "    A[i,0:100] = list(-df_19_clean.loc[q+1])\n",
    "    A[i,j] = 1\n",
    "    b_list.append(-NDX[q])\n",
    "    sense.append('>')\n",
    "    i += 1\n",
    "    j += 1\n",
    "    q += 1"
   ]
  },
  {
   "cell_type": "code",
   "execution_count": 14,
   "id": "7341a97d",
   "metadata": {},
   "outputs": [],
   "source": [
    "i = 351\n",
    "j = 200\n",
    "q = 0\n",
    "while i < 601:\n",
    "    A[i,0:100] = list(df_19_clean.loc[q+1])\n",
    "    A[i,j] = 1\n",
    "    b_list.append(NDX[q])\n",
    "    sense.append('>')\n",
    "    i += 1\n",
    "    j += 1\n",
    "    q += 1\n",
    "    "
   ]
  },
  {
   "cell_type": "code",
   "execution_count": 15,
   "id": "5c7a05ca",
   "metadata": {},
   "outputs": [],
   "source": [
    "m = 5 #number of stocks to pick into fund"
   ]
  },
  {
   "cell_type": "code",
   "execution_count": 16,
   "id": "9a9e81b0",
   "metadata": {},
   "outputs": [],
   "source": [
    "#The number of stock picked is less than m. sum(yi) = m\n",
    "A[601,100:200] = 1\n",
    "b_list.append(m)\n",
    "sense.append('=')"
   ]
  },
  {
   "cell_type": "code",
   "execution_count": 17,
   "id": "e05faf62",
   "metadata": {},
   "outputs": [
    {
     "data": {
      "text/plain": [
       "602"
      ]
     },
     "execution_count": 17,
     "metadata": {},
     "output_type": "execute_result"
    }
   ],
   "source": [
    "len(A)"
   ]
  },
  {
   "cell_type": "code",
   "execution_count": 18,
   "id": "2692604f",
   "metadata": {},
   "outputs": [
    {
     "data": {
      "text/plain": [
       "602"
      ]
     },
     "execution_count": 18,
     "metadata": {},
     "output_type": "execute_result"
    }
   ],
   "source": [
    "len(sense)"
   ]
  },
  {
   "cell_type": "code",
   "execution_count": 19,
   "id": "416b40a4",
   "metadata": {},
   "outputs": [
    {
     "data": {
      "text/plain": [
       "602"
      ]
     },
     "execution_count": 19,
     "metadata": {},
     "output_type": "execute_result"
    }
   ],
   "source": [
    "len(b_list)"
   ]
  },
  {
   "cell_type": "code",
   "execution_count": 20,
   "id": "e3268bd3",
   "metadata": {},
   "outputs": [],
   "source": [
    "b = np.array(b_list)"
   ]
  },
  {
   "cell_type": "code",
   "execution_count": 21,
   "id": "976e1721",
   "metadata": {},
   "outputs": [],
   "source": [
    "obj = np.array([0]*200 + [1]*250)"
   ]
  },
  {
   "cell_type": "code",
   "execution_count": 22,
   "id": "8141edec",
   "metadata": {},
   "outputs": [
    {
     "data": {
      "text/plain": [
       "450"
      ]
     },
     "execution_count": 22,
     "metadata": {},
     "output_type": "execute_result"
    }
   ],
   "source": [
    "len(obj)"
   ]
  },
  {
   "cell_type": "code",
   "execution_count": null,
   "id": "dfe9773c",
   "metadata": {},
   "outputs": [],
   "source": [
    "npvMod = gp.Model()\n",
    "npvMod_x = npvMod.addMVar(len(obj),vtype=['C']*100 + ['B'] * 100 + ['C'] * 250) # 'C' or 'I' or 'B'\n",
    "npvMod_con = npvMod.addMConstrs(A, npvMod_x, sense, b)\n",
    "npvMod.setMObjective(None,obj,0,sense=gp.GRB.MINIMIZE)\n",
    "\n",
    "npvMod.Params.OutputFlag = 0 # tell gurobi to shut up!!\n",
    "npvMod.optimize()"
   ]
  },
  {
   "cell_type": "code",
   "execution_count": null,
   "id": "8a96ae4c",
   "metadata": {},
   "outputs": [],
   "source": [
    "npvMod_x.x"
   ]
  },
  {
   "cell_type": "code",
   "execution_count": 286,
   "id": "5468a4b2",
   "metadata": {},
   "outputs": [
    {
     "data": {
      "text/plain": [
       "1.871064922733745"
      ]
     },
     "execution_count": 286,
     "metadata": {},
     "output_type": "execute_result"
    }
   ],
   "source": [
    "npvMod.objVal"
   ]
  }
 ],
 "metadata": {
  "kernelspec": {
   "display_name": "Python 3",
   "language": "python",
   "name": "python3"
  },
  "language_info": {
   "codemirror_mode": {
    "name": "ipython",
    "version": 3
   },
   "file_extension": ".py",
   "mimetype": "text/x-python",
   "name": "python",
   "nbconvert_exporter": "python",
   "pygments_lexer": "ipython3",
   "version": "3.8.8"
  }
 },
 "nbformat": 4,
 "nbformat_minor": 5
}
