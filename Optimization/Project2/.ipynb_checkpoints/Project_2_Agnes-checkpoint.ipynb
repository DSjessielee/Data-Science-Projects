{
 "cells": [
  {
   "cell_type": "code",
   "execution_count": 1,
   "id": "050c3892-795b-40f2-889f-326a9892dd26",
   "metadata": {},
   "outputs": [],
   "source": [
    "import numpy as np\n",
    "import gurobipy as gp\n",
    "import pandas as pd\n",
    "import matplotlib.pyplot as plt\n",
    "import warnings\n",
    "from tqdm import tqdm\n",
    "warnings.filterwarnings('ignore')"
   ]
  },
  {
   "cell_type": "code",
   "execution_count": 2,
   "id": "f16ed74c-18ea-4baf-b01a-75a2d61d01a0",
   "metadata": {},
   "outputs": [],
   "source": [
    "def get_stock_tickers(x):\n",
    "    index = []\n",
    "    for i in range(10000,10100):\n",
    "        if x[i] == 1:\n",
    "            index.append(i-10000)\n",
    "    return [list(corr.columns)[i] for i in index], index"
   ]
  },
  {
   "cell_type": "code",
   "execution_count": 3,
   "id": "14f82c9d-8f5a-4700-88fb-f11ffc012d12",
   "metadata": {},
   "outputs": [],
   "source": [
    "## define time limit here\n",
    "timelimit = 3600"
   ]
  },
  {
   "cell_type": "code",
   "execution_count": 4,
   "id": "a1408af5-3501-43de-a1db-3e84fa59a95b",
   "metadata": {},
   "outputs": [],
   "source": [
    "df_2019 = pd.read_csv('stocks2019.csv',index_col=0)\n",
    "df_2020 = pd.read_csv('stocks2020.csv',index_col=0)"
   ]
  },
  {
   "cell_type": "code",
   "execution_count": 8,
   "id": "86aba599-0e06-40bd-a0e2-cf82ba311c4f",
   "metadata": {},
   "outputs": [],
   "source": [
    "corr = df_2019.pct_change().drop(columns='NDX').corr()"
   ]
  },
  {
   "cell_type": "code",
   "execution_count": 9,
   "id": "c265deef-c955-4c3e-a2fa-7034a9b8b239",
   "metadata": {},
   "outputs": [
    {
     "data": {
      "text/html": [
       "<div>\n",
       "<style scoped>\n",
       "    .dataframe tbody tr th:only-of-type {\n",
       "        vertical-align: middle;\n",
       "    }\n",
       "\n",
       "    .dataframe tbody tr th {\n",
       "        vertical-align: top;\n",
       "    }\n",
       "\n",
       "    .dataframe thead th {\n",
       "        text-align: right;\n",
       "    }\n",
       "</style>\n",
       "<table border=\"1\" class=\"dataframe\">\n",
       "  <thead>\n",
       "    <tr style=\"text-align: right;\">\n",
       "      <th></th>\n",
       "      <th>ATVI</th>\n",
       "      <th>ADBE</th>\n",
       "      <th>AMD</th>\n",
       "      <th>ALXN</th>\n",
       "      <th>ALGN</th>\n",
       "      <th>GOOGL</th>\n",
       "      <th>GOOG</th>\n",
       "      <th>AMZN</th>\n",
       "      <th>AMGN</th>\n",
       "      <th>ADI</th>\n",
       "      <th>...</th>\n",
       "      <th>TCOM</th>\n",
       "      <th>ULTA</th>\n",
       "      <th>VRSN</th>\n",
       "      <th>VRSK</th>\n",
       "      <th>VRTX</th>\n",
       "      <th>WBA</th>\n",
       "      <th>WDAY</th>\n",
       "      <th>WDC</th>\n",
       "      <th>XEL</th>\n",
       "      <th>XLNX</th>\n",
       "    </tr>\n",
       "  </thead>\n",
       "  <tbody>\n",
       "    <tr>\n",
       "      <th>ATVI</th>\n",
       "      <td>1.000000</td>\n",
       "      <td>0.399939</td>\n",
       "      <td>0.365376</td>\n",
       "      <td>0.223162</td>\n",
       "      <td>0.216280</td>\n",
       "      <td>0.433097</td>\n",
       "      <td>0.426777</td>\n",
       "      <td>0.467076</td>\n",
       "      <td>0.203956</td>\n",
       "      <td>0.329355</td>\n",
       "      <td>...</td>\n",
       "      <td>0.322906</td>\n",
       "      <td>0.128241</td>\n",
       "      <td>0.464850</td>\n",
       "      <td>0.316549</td>\n",
       "      <td>0.259679</td>\n",
       "      <td>0.218149</td>\n",
       "      <td>0.311659</td>\n",
       "      <td>0.303077</td>\n",
       "      <td>0.043389</td>\n",
       "      <td>0.249667</td>\n",
       "    </tr>\n",
       "    <tr>\n",
       "      <th>ADBE</th>\n",
       "      <td>0.399939</td>\n",
       "      <td>1.000000</td>\n",
       "      <td>0.452848</td>\n",
       "      <td>0.368928</td>\n",
       "      <td>0.363370</td>\n",
       "      <td>0.552125</td>\n",
       "      <td>0.540404</td>\n",
       "      <td>0.598237</td>\n",
       "      <td>0.291978</td>\n",
       "      <td>0.473815</td>\n",
       "      <td>...</td>\n",
       "      <td>0.360392</td>\n",
       "      <td>0.201151</td>\n",
       "      <td>0.711339</td>\n",
       "      <td>0.541243</td>\n",
       "      <td>0.402171</td>\n",
       "      <td>0.228106</td>\n",
       "      <td>0.650430</td>\n",
       "      <td>0.361516</td>\n",
       "      <td>0.207403</td>\n",
       "      <td>0.289497</td>\n",
       "    </tr>\n",
       "    <tr>\n",
       "      <th>AMD</th>\n",
       "      <td>0.365376</td>\n",
       "      <td>0.452848</td>\n",
       "      <td>1.000000</td>\n",
       "      <td>0.301831</td>\n",
       "      <td>0.344252</td>\n",
       "      <td>0.418861</td>\n",
       "      <td>0.417254</td>\n",
       "      <td>0.549302</td>\n",
       "      <td>0.151452</td>\n",
       "      <td>0.503733</td>\n",
       "      <td>...</td>\n",
       "      <td>0.332776</td>\n",
       "      <td>0.210623</td>\n",
       "      <td>0.498342</td>\n",
       "      <td>0.330900</td>\n",
       "      <td>0.272983</td>\n",
       "      <td>0.281950</td>\n",
       "      <td>0.407626</td>\n",
       "      <td>0.438892</td>\n",
       "      <td>0.017283</td>\n",
       "      <td>0.478010</td>\n",
       "    </tr>\n",
       "    <tr>\n",
       "      <th>ALXN</th>\n",
       "      <td>0.223162</td>\n",
       "      <td>0.368928</td>\n",
       "      <td>0.301831</td>\n",
       "      <td>1.000000</td>\n",
       "      <td>0.332433</td>\n",
       "      <td>0.315993</td>\n",
       "      <td>0.307698</td>\n",
       "      <td>0.363170</td>\n",
       "      <td>0.342022</td>\n",
       "      <td>0.317040</td>\n",
       "      <td>...</td>\n",
       "      <td>0.257143</td>\n",
       "      <td>0.408936</td>\n",
       "      <td>0.350581</td>\n",
       "      <td>0.191489</td>\n",
       "      <td>0.522423</td>\n",
       "      <td>0.192720</td>\n",
       "      <td>0.416396</td>\n",
       "      <td>0.289908</td>\n",
       "      <td>0.047947</td>\n",
       "      <td>0.200356</td>\n",
       "    </tr>\n",
       "    <tr>\n",
       "      <th>ALGN</th>\n",
       "      <td>0.216280</td>\n",
       "      <td>0.363370</td>\n",
       "      <td>0.344252</td>\n",
       "      <td>0.332433</td>\n",
       "      <td>1.000000</td>\n",
       "      <td>0.248747</td>\n",
       "      <td>0.250316</td>\n",
       "      <td>0.399281</td>\n",
       "      <td>0.264599</td>\n",
       "      <td>0.328280</td>\n",
       "      <td>...</td>\n",
       "      <td>0.175957</td>\n",
       "      <td>0.128559</td>\n",
       "      <td>0.360886</td>\n",
       "      <td>0.251855</td>\n",
       "      <td>0.334978</td>\n",
       "      <td>0.219595</td>\n",
       "      <td>0.308968</td>\n",
       "      <td>0.284407</td>\n",
       "      <td>0.088059</td>\n",
       "      <td>0.253934</td>\n",
       "    </tr>\n",
       "    <tr>\n",
       "      <th>...</th>\n",
       "      <td>...</td>\n",
       "      <td>...</td>\n",
       "      <td>...</td>\n",
       "      <td>...</td>\n",
       "      <td>...</td>\n",
       "      <td>...</td>\n",
       "      <td>...</td>\n",
       "      <td>...</td>\n",
       "      <td>...</td>\n",
       "      <td>...</td>\n",
       "      <td>...</td>\n",
       "      <td>...</td>\n",
       "      <td>...</td>\n",
       "      <td>...</td>\n",
       "      <td>...</td>\n",
       "      <td>...</td>\n",
       "      <td>...</td>\n",
       "      <td>...</td>\n",
       "      <td>...</td>\n",
       "      <td>...</td>\n",
       "      <td>...</td>\n",
       "    </tr>\n",
       "    <tr>\n",
       "      <th>WBA</th>\n",
       "      <td>0.218149</td>\n",
       "      <td>0.228106</td>\n",
       "      <td>0.281950</td>\n",
       "      <td>0.192720</td>\n",
       "      <td>0.219595</td>\n",
       "      <td>0.232900</td>\n",
       "      <td>0.230603</td>\n",
       "      <td>0.288168</td>\n",
       "      <td>0.194490</td>\n",
       "      <td>0.347861</td>\n",
       "      <td>...</td>\n",
       "      <td>0.257049</td>\n",
       "      <td>0.145330</td>\n",
       "      <td>0.195475</td>\n",
       "      <td>0.126118</td>\n",
       "      <td>0.214585</td>\n",
       "      <td>1.000000</td>\n",
       "      <td>0.211641</td>\n",
       "      <td>0.296309</td>\n",
       "      <td>-0.130798</td>\n",
       "      <td>0.276643</td>\n",
       "    </tr>\n",
       "    <tr>\n",
       "      <th>WDAY</th>\n",
       "      <td>0.311659</td>\n",
       "      <td>0.650430</td>\n",
       "      <td>0.407626</td>\n",
       "      <td>0.416396</td>\n",
       "      <td>0.308968</td>\n",
       "      <td>0.379493</td>\n",
       "      <td>0.371826</td>\n",
       "      <td>0.424748</td>\n",
       "      <td>0.211712</td>\n",
       "      <td>0.351734</td>\n",
       "      <td>...</td>\n",
       "      <td>0.235045</td>\n",
       "      <td>0.269545</td>\n",
       "      <td>0.569672</td>\n",
       "      <td>0.401476</td>\n",
       "      <td>0.376047</td>\n",
       "      <td>0.211641</td>\n",
       "      <td>1.000000</td>\n",
       "      <td>0.315699</td>\n",
       "      <td>0.209240</td>\n",
       "      <td>0.254117</td>\n",
       "    </tr>\n",
       "    <tr>\n",
       "      <th>WDC</th>\n",
       "      <td>0.303077</td>\n",
       "      <td>0.361516</td>\n",
       "      <td>0.438892</td>\n",
       "      <td>0.289908</td>\n",
       "      <td>0.284407</td>\n",
       "      <td>0.328619</td>\n",
       "      <td>0.322110</td>\n",
       "      <td>0.419620</td>\n",
       "      <td>0.172623</td>\n",
       "      <td>0.602935</td>\n",
       "      <td>...</td>\n",
       "      <td>0.377215</td>\n",
       "      <td>0.126463</td>\n",
       "      <td>0.331916</td>\n",
       "      <td>0.308558</td>\n",
       "      <td>0.314773</td>\n",
       "      <td>0.296309</td>\n",
       "      <td>0.315699</td>\n",
       "      <td>1.000000</td>\n",
       "      <td>-0.076115</td>\n",
       "      <td>0.516958</td>\n",
       "    </tr>\n",
       "    <tr>\n",
       "      <th>XEL</th>\n",
       "      <td>0.043389</td>\n",
       "      <td>0.207403</td>\n",
       "      <td>0.017283</td>\n",
       "      <td>0.047947</td>\n",
       "      <td>0.088059</td>\n",
       "      <td>0.059930</td>\n",
       "      <td>0.052570</td>\n",
       "      <td>0.076724</td>\n",
       "      <td>0.137857</td>\n",
       "      <td>-0.047259</td>\n",
       "      <td>...</td>\n",
       "      <td>-0.172752</td>\n",
       "      <td>0.074686</td>\n",
       "      <td>0.280371</td>\n",
       "      <td>0.407770</td>\n",
       "      <td>0.191667</td>\n",
       "      <td>-0.130798</td>\n",
       "      <td>0.209240</td>\n",
       "      <td>-0.076115</td>\n",
       "      <td>1.000000</td>\n",
       "      <td>-0.117552</td>\n",
       "    </tr>\n",
       "    <tr>\n",
       "      <th>XLNX</th>\n",
       "      <td>0.249667</td>\n",
       "      <td>0.289497</td>\n",
       "      <td>0.478010</td>\n",
       "      <td>0.200356</td>\n",
       "      <td>0.253934</td>\n",
       "      <td>0.221983</td>\n",
       "      <td>0.213764</td>\n",
       "      <td>0.389871</td>\n",
       "      <td>0.092808</td>\n",
       "      <td>0.687646</td>\n",
       "      <td>...</td>\n",
       "      <td>0.415079</td>\n",
       "      <td>0.142450</td>\n",
       "      <td>0.352529</td>\n",
       "      <td>0.193846</td>\n",
       "      <td>0.166732</td>\n",
       "      <td>0.276643</td>\n",
       "      <td>0.254117</td>\n",
       "      <td>0.516958</td>\n",
       "      <td>-0.117552</td>\n",
       "      <td>1.000000</td>\n",
       "    </tr>\n",
       "  </tbody>\n",
       "</table>\n",
       "<p>100 rows × 100 columns</p>\n",
       "</div>"
      ],
      "text/plain": [
       "          ATVI      ADBE       AMD      ALXN      ALGN     GOOGL      GOOG  \\\n",
       "ATVI  1.000000  0.399939  0.365376  0.223162  0.216280  0.433097  0.426777   \n",
       "ADBE  0.399939  1.000000  0.452848  0.368928  0.363370  0.552125  0.540404   \n",
       "AMD   0.365376  0.452848  1.000000  0.301831  0.344252  0.418861  0.417254   \n",
       "ALXN  0.223162  0.368928  0.301831  1.000000  0.332433  0.315993  0.307698   \n",
       "ALGN  0.216280  0.363370  0.344252  0.332433  1.000000  0.248747  0.250316   \n",
       "...        ...       ...       ...       ...       ...       ...       ...   \n",
       "WBA   0.218149  0.228106  0.281950  0.192720  0.219595  0.232900  0.230603   \n",
       "WDAY  0.311659  0.650430  0.407626  0.416396  0.308968  0.379493  0.371826   \n",
       "WDC   0.303077  0.361516  0.438892  0.289908  0.284407  0.328619  0.322110   \n",
       "XEL   0.043389  0.207403  0.017283  0.047947  0.088059  0.059930  0.052570   \n",
       "XLNX  0.249667  0.289497  0.478010  0.200356  0.253934  0.221983  0.213764   \n",
       "\n",
       "          AMZN      AMGN       ADI  ...      TCOM      ULTA      VRSN  \\\n",
       "ATVI  0.467076  0.203956  0.329355  ...  0.322906  0.128241  0.464850   \n",
       "ADBE  0.598237  0.291978  0.473815  ...  0.360392  0.201151  0.711339   \n",
       "AMD   0.549302  0.151452  0.503733  ...  0.332776  0.210623  0.498342   \n",
       "ALXN  0.363170  0.342022  0.317040  ...  0.257143  0.408936  0.350581   \n",
       "ALGN  0.399281  0.264599  0.328280  ...  0.175957  0.128559  0.360886   \n",
       "...        ...       ...       ...  ...       ...       ...       ...   \n",
       "WBA   0.288168  0.194490  0.347861  ...  0.257049  0.145330  0.195475   \n",
       "WDAY  0.424748  0.211712  0.351734  ...  0.235045  0.269545  0.569672   \n",
       "WDC   0.419620  0.172623  0.602935  ...  0.377215  0.126463  0.331916   \n",
       "XEL   0.076724  0.137857 -0.047259  ... -0.172752  0.074686  0.280371   \n",
       "XLNX  0.389871  0.092808  0.687646  ...  0.415079  0.142450  0.352529   \n",
       "\n",
       "          VRSK      VRTX       WBA      WDAY       WDC       XEL      XLNX  \n",
       "ATVI  0.316549  0.259679  0.218149  0.311659  0.303077  0.043389  0.249667  \n",
       "ADBE  0.541243  0.402171  0.228106  0.650430  0.361516  0.207403  0.289497  \n",
       "AMD   0.330900  0.272983  0.281950  0.407626  0.438892  0.017283  0.478010  \n",
       "ALXN  0.191489  0.522423  0.192720  0.416396  0.289908  0.047947  0.200356  \n",
       "ALGN  0.251855  0.334978  0.219595  0.308968  0.284407  0.088059  0.253934  \n",
       "...        ...       ...       ...       ...       ...       ...       ...  \n",
       "WBA   0.126118  0.214585  1.000000  0.211641  0.296309 -0.130798  0.276643  \n",
       "WDAY  0.401476  0.376047  0.211641  1.000000  0.315699  0.209240  0.254117  \n",
       "WDC   0.308558  0.314773  0.296309  0.315699  1.000000 -0.076115  0.516958  \n",
       "XEL   0.407770  0.191667 -0.130798  0.209240 -0.076115  1.000000 -0.117552  \n",
       "XLNX  0.193846  0.166732  0.276643  0.254117  0.516958 -0.117552  1.000000  \n",
       "\n",
       "[100 rows x 100 columns]"
      ]
     },
     "execution_count": 9,
     "metadata": {},
     "output_type": "execute_result"
    }
   ],
   "source": [
    "corr"
   ]
  },
  {
   "cell_type": "code",
   "execution_count": 6,
   "id": "22f6b4d8-98d3-4a89-a520-0575e248bd24",
   "metadata": {},
   "outputs": [],
   "source": [
    "roi_2019 = df_2019.pct_change().drop(index='2019-01-02')\n",
    "num_day_2019 = roi_2019.shape[0]\n",
    "num_stock = roi_2019.shape[1] - 1\n",
    "roi_ndx_2019 = list(roi_2019['NDX'])\n",
    "\n",
    "roi_2020 = df_2020.pct_change().drop(index='1/2/20')\n",
    "num_day_2020 = roi_2020.shape[0]\n",
    "roi_ndx_2020 = list(roi_2020['NDX'])"
   ]
  },
  {
   "cell_type": "code",
   "execution_count": 7,
   "id": "f4f85585-9c04-47be-936e-bbc0039130f0",
   "metadata": {},
   "outputs": [],
   "source": [
    "flatten_corr = []\n",
    "corr_list = corr.values.tolist()\n",
    "for i in corr_list:\n",
    "    flatten_corr += i"
   ]
  },
  {
   "cell_type": "code",
   "execution_count": 16,
   "id": "b3513969-1910-43bc-9155-5f38ab440a16",
   "metadata": {},
   "outputs": [],
   "source": [
    "def stock_selection(m):\n",
    "    if m <= num_stock:\n",
    "        obj = np.array(flatten_corr+[0]*num_stock)\n",
    "        A = np.zeros((1+num_stock+num_stock**2,num_stock**2+num_stock)) # initialize constraint matrix\n",
    "\n",
    "        A[0,num_stock*num_stock:] = 1\n",
    "\n",
    "        for i in range(1,num_stock+1):\n",
    "            start = (i-1)*num_stock\n",
    "            end = (i-1)*num_stock+num_stock\n",
    "            A[i,start:end] = 1\n",
    "\n",
    "        for i in range(num_stock):\n",
    "            for j in range(num_stock):\n",
    "                A[i*num_stock+num_stock+1+j,j*num_stock+i] = 1\n",
    "                A[i*num_stock+num_stock+1+j,i+num_stock**2] = -1\n",
    "\n",
    "\n",
    "        b = np.array([m]+[1]*num_stock+[0]*(num_stock**2))\n",
    "\n",
    "        sense = np.array(['=']*(num_stock+1)+['<']*(num_stock**2))\n",
    "\n",
    "        ssModel = gp.Model()\n",
    "        ssModX = ssModel.addMVar(num_stock**2+num_stock,vtype=['B']*(num_stock**2+num_stock))\n",
    "        ssModCon = ssModel.addMConstrs(A, ssModX, sense, b)\n",
    "        ssModel.setMObjective(None,obj,0,sense=gp.GRB.MAXIMIZE) \n",
    "        ssModel.Params.OutputFlag = 0\n",
    "        ssModel.optimize()\n",
    "\n",
    "        ticks, index = get_stock_tickers(ssModel.x)\n",
    "        \n",
    "        chosen_stock_roi_2019 = roi_2019[ticks].values\n",
    "        chosen_stock_roi_2020 = roi_2020[ticks].values\n",
    "\n",
    "        obj_sw = np.array([1]*num_day_2019+[0]*m)\n",
    "\n",
    "        A_sw = np.zeros((2*num_day_2019+1,num_day_2019+m))\n",
    "        b_sw = []\n",
    "        for i in roi_ndx_2019:\n",
    "            b_sw.append(i)\n",
    "            b_sw.append(-i)\n",
    "        b_sw.append(1)\n",
    "\n",
    "        for i in range(0,2*num_day_2019,2):\n",
    "            A_sw[i,i//2] = 1\n",
    "            A_sw[i,-m:] = chosen_stock_roi_2019[i//2]\n",
    "            A_sw[i+1,i//2] = 1\n",
    "            A_sw[i+1,-m:] = chosen_stock_roi_2019[i//2]*(-1)\n",
    "\n",
    "        A_sw[-1,-m:] = 1\n",
    "\n",
    "\n",
    "        sense_sw = np.array(['>']*(num_day_2019*2)+['='])\n",
    "\n",
    "        swModel = gp.Model() \n",
    "        swModX = swModel.addMVar(num_day_2019+m)\n",
    "        swModCon = swModel.addMConstrs(A_sw, swModX, sense_sw, np.array(b_sw))\n",
    "        swModel.setMObjective(None,obj_sw,0,sense=gp.GRB.MINIMIZE)\n",
    "\n",
    "        swModel.Params.OutputFlag = 0\n",
    "        swModel.optimize()\n",
    "\n",
    "        return_2019 = swModel.objVal\n",
    "\n",
    "        return_2020 = sum(abs(roi_ndx_2020-chosen_stock_roi_2020 @ swModel.x[-m:]))\n",
    "    else:\n",
    "        print(\"m is greater than the umber of stocks in the index, so choose all of stocks in the index instead.\")\n",
    "        return stock_selection(m=100)\n",
    "\n",
    "    return ssModel, ticks, swModel, return_2019, return_2020"
   ]
  },
  {
   "cell_type": "code",
   "execution_count": 17,
   "id": "6dc3a575-6555-45b8-9d70-e43b670d2797",
   "metadata": {},
   "outputs": [],
   "source": [
    "ssModel, ticks, swModel, return_2019, return_2020 = stock_selection(m=5)"
   ]
  },
  {
   "cell_type": "code",
   "execution_count": 18,
   "id": "4d4201af-283f-4d92-8a47-aa513d905778",
   "metadata": {},
   "outputs": [
    {
     "data": {
      "text/plain": [
       "0.7891782824631473"
      ]
     },
     "execution_count": 18,
     "metadata": {},
     "output_type": "execute_result"
    }
   ],
   "source": [
    "swModel.objVal"
   ]
  },
  {
   "cell_type": "code",
   "execution_count": 19,
   "id": "b821b7d5-26dc-472d-9164-6d21783e01b1",
   "metadata": {},
   "outputs": [
    {
     "data": {
      "text/plain": [
       "1.1124373455076468"
      ]
     },
     "execution_count": 19,
     "metadata": {},
     "output_type": "execute_result"
    }
   ],
   "source": [
    "return_2020"
   ]
  },
  {
   "cell_type": "code",
   "execution_count": 20,
   "id": "0681c6e8-1829-4c7e-8c48-8eb3cd73d41c",
   "metadata": {},
   "outputs": [],
   "source": [
    "return_2019_lista = []\n",
    "return_2020_lista = []\n",
    "\n",
    "for m in range(10,101,10):\n",
    "    ssModel, ticks, swModel, return_2019, return_2020 = stock_selection(m=m)\n",
    "    return_2019_lista.append(return_2019)\n",
    "    return_2020_lista.append(return_2020)"
   ]
  },
  {
   "cell_type": "code",
   "execution_count": 22,
   "id": "262624ae-c450-445c-9588-d4b805c4fb1b",
   "metadata": {},
   "outputs": [
    {
     "data": {
      "text/plain": [
       "<matplotlib.legend.Legend at 0x1230e4d00>"
      ]
     },
     "execution_count": 22,
     "metadata": {},
     "output_type": "execute_result"
    },
    {
     "data": {
      "image/png": "[encoded data removed]",
      "text/plain": [
       "<Figure size 432x288 with 1 Axes>"
      ]
     },
     "metadata": {
      "needs_background": "light"
     },
     "output_type": "display_data"
    }
   ],
   "source": [
    "plt.plot(range(10,101,10),return_2019_lista, label='2019')\n",
    "plt.plot(range(10,101,10),return_2020_lista, label='2020')\n",
    "plt.legend()"
   ]
  },
  {
   "cell_type": "code",
   "execution_count": 25,
   "id": "e59bf578-d82d-4ee5-bb53-b98d6a8f9cfd",
   "metadata": {},
   "outputs": [
    {
     "data": {
      "text/html": [
       "<div>\n",
       "<style scoped>\n",
       "    .dataframe tbody tr th:only-of-type {\n",
       "        vertical-align: middle;\n",
       "    }\n",
       "\n",
       "    .dataframe tbody tr th {\n",
       "        vertical-align: top;\n",
       "    }\n",
       "\n",
       "    .dataframe thead th {\n",
       "        text-align: right;\n",
       "    }\n",
       "</style>\n",
       "<table border=\"1\" class=\"dataframe\">\n",
       "  <thead>\n",
       "    <tr style=\"text-align: right;\">\n",
       "      <th></th>\n",
       "      <th>m=10</th>\n",
       "      <th>m=20</th>\n",
       "      <th>m=30</th>\n",
       "      <th>m=40</th>\n",
       "      <th>m=50</th>\n",
       "      <th>m=60</th>\n",
       "      <th>m=70</th>\n",
       "      <th>m=80</th>\n",
       "      <th>m=90</th>\n",
       "      <th>m=100</th>\n",
       "    </tr>\n",
       "  </thead>\n",
       "  <tbody>\n",
       "    <tr>\n",
       "      <th>2019</th>\n",
       "      <td>0.686533</td>\n",
       "      <td>0.466268</td>\n",
       "      <td>0.413917</td>\n",
       "      <td>0.368785</td>\n",
       "      <td>0.33254</td>\n",
       "      <td>0.349217</td>\n",
       "      <td>0.233057</td>\n",
       "      <td>0.147683</td>\n",
       "      <td>0.053827</td>\n",
       "      <td>0.044911</td>\n",
       "    </tr>\n",
       "    <tr>\n",
       "      <th>2020</th>\n",
       "      <td>1.097709</td>\n",
       "      <td>0.855446</td>\n",
       "      <td>0.764759</td>\n",
       "      <td>0.790884</td>\n",
       "      <td>0.77210</td>\n",
       "      <td>1.166752</td>\n",
       "      <td>0.845242</td>\n",
       "      <td>0.537323</td>\n",
       "      <td>0.370506</td>\n",
       "      <td>0.368682</td>\n",
       "    </tr>\n",
       "  </tbody>\n",
       "</table>\n",
       "</div>"
      ],
      "text/plain": [
       "          m=10      m=20      m=30      m=40     m=50      m=60      m=70  \\\n",
       "2019  0.686533  0.466268  0.413917  0.368785  0.33254  0.349217  0.233057   \n",
       "2020  1.097709  0.855446  0.764759  0.790884  0.77210  1.166752  0.845242   \n",
       "\n",
       "          m=80      m=90     m=100  \n",
       "2019  0.147683  0.053827  0.044911  \n",
       "2020  0.537323  0.370506  0.368682  "
      ]
     },
     "execution_count": 25,
     "metadata": {},
     "output_type": "execute_result"
    }
   ],
   "source": [
    "pd.DataFrame([return_2019_lista,return_2020_lista],index=['2019','2020'],columns=['m='+str(i) for i in range(10,101,10)])"
   ]
  },
  {
   "cell_type": "code",
   "execution_count": 8,
   "id": "ca3ba4d8-d57d-4861-865a-8361fd4e6616",
   "metadata": {},
   "outputs": [],
   "source": [
    "stock_roi_2019 = roi_2019.values\n",
    "stock_roi_2020 = roi_2020.values"
   ]
  },
  {
   "cell_type": "code",
   "execution_count": 9,
   "id": "c0c84b47-414f-4220-aaad-6bc55f4e906d",
   "metadata": {},
   "outputs": [],
   "source": [
    "def stock_selection_2(m):\n",
    "    obj_sw_2 = np.array([1]*num_day_2019+[0]*(num_stock*2))\n",
    "\n",
    "    A_sw_2 = np.zeros((2*num_day_2019+2+num_stock,num_day_2019+num_stock*2))\n",
    "    b_sw_2 = []\n",
    "    for i in roi_ndx_2019:\n",
    "        b_sw_2.append(i)\n",
    "        b_sw_2.append(-i)\n",
    "    b_sw_2.append(1)\n",
    "    b_sw_2.append(m)\n",
    "    b_sw_2 += [0]*num_stock\n",
    "\n",
    "    for i in range(0,2*num_day_2019,2):\n",
    "        A_sw_2[i,i//2] = 1\n",
    "        A_sw_2[i,-num_stock:] = stock_roi_2019[i//2][1:]\n",
    "        A_sw_2[i+1,i//2] = 1\n",
    "        A_sw_2[i+1,-num_stock:] = stock_roi_2019[i//2][1:]*(-1)\n",
    "\n",
    "    A_sw_2[2*num_day_2019,-num_stock:] = 1\n",
    "    A_sw_2[2*num_day_2019+1,num_day_2019:-num_stock] = 1\n",
    "\n",
    "    for i in range(2*num_day_2019+2,2*num_day_2019+2+num_stock):\n",
    "        A_sw_2[i,i-num_day_2019-2] = 1\n",
    "        A_sw_2[i,i-num_day_2019-2+num_stock] = -1\n",
    "\n",
    "    sense_sw_2 = np.array(['>']*(num_day_2019*2)+['=']*2+['>']*num_stock)\n",
    "\n",
    "    sw2Model = gp.Model()\n",
    "    sw2Model.setParam('TimeLimit', timelimit)\n",
    "    sw2ModX = sw2Model.addMVar(num_day_2019+num_stock*2,vtype=['C']*num_day_2019+['B']*num_stock+['C']*num_stock)\n",
    "    sw2ModCon = sw2Model.addMConstrs(A_sw_2, sw2ModX, sense_sw_2, np.array(b_sw_2))\n",
    "    sw2Model.setMObjective(None,obj_sw_2,0,sense=gp.GRB.MINIMIZE)\n",
    "\n",
    "    sw2Model.Params.OutputFlag = 0\n",
    "    sw2Model.optimize()\n",
    "    \n",
    "    return_2019 = sw2Model.objVal\n",
    "\n",
    "    return_2020 = sum(abs(roi_ndx_2020-roi_2020.drop(columns='NDX').values @ sw2Model.x[-num_stock:]))\n",
    "\n",
    "    return sw2Model, return_2019, return_2020"
   ]
  },
  {
   "cell_type": "code",
   "execution_count": 13,
   "id": "2dfeb7fd-3b6a-4679-9384-7e03c9416dd7",
   "metadata": {},
   "outputs": [
    {
     "name": "stdout",
     "output_type": "stream",
     "text": [
      "Changed value of parameter TimeLimit to 3600.0\n",
      "   Prev: inf  Min: 0.0  Max: inf  Default: inf\n"
     ]
    }
   ],
   "source": [
    "sw2Model, return2_2019, return2_2020 = stock_selection_2(m=5)"
   ]
  },
  {
   "cell_type": "code",
   "execution_count": 14,
   "id": "cd9dad7a-9f91-4836-80e3-c6827ce28659",
   "metadata": {},
   "outputs": [
    {
     "data": {
      "text/plain": [
       "0.4992586920546361"
      ]
     },
     "execution_count": 14,
     "metadata": {},
     "output_type": "execute_result"
    }
   ],
   "source": [
    "return2_2019"
   ]
  },
  {
   "cell_type": "code",
   "execution_count": 26,
   "id": "2f4a2c18-52e6-4141-a7a8-e8f79498c2be",
   "metadata": {},
   "outputs": [
    {
     "data": {
      "text/plain": [
       "0.7773624845503463"
      ]
     },
     "execution_count": 26,
     "metadata": {},
     "output_type": "execute_result"
    }
   ],
   "source": [
    "return2_2020"
   ]
  },
  {
   "cell_type": "code",
   "execution_count": 12,
   "id": "ab90dc2b-92f8-4d09-a88e-82b90332be3f",
   "metadata": {
    "tags": []
   },
   "outputs": [
    {
     "name": "stderr",
     "output_type": "stream",
     "text": [
      "  0%|                                                    | 0/10 [00:00<?, ?it/s]"
     ]
    },
    {
     "name": "stdout",
     "output_type": "stream",
     "text": [
      "Changed value of parameter TimeLimit to 3600.0\n",
      "   Prev: inf  Min: 0.0  Max: inf  Default: inf\n"
     ]
    },
    {
     "name": "stderr",
     "output_type": "stream",
     "text": [
      " 10%|███▊                                  | 1/10 [1:00:01<9:00:13, 3601.53s/it]"
     ]
    },
    {
     "name": "stdout",
     "output_type": "stream",
     "text": [
      "Changed value of parameter TimeLimit to 3600.0\n",
      "   Prev: inf  Min: 0.0  Max: inf  Default: inf\n"
     ]
    },
    {
     "name": "stderr",
     "output_type": "stream",
     "text": [
      " 20%|███████▌                              | 2/10 [2:00:03<8:00:12, 3601.53s/it]"
     ]
    },
    {
     "name": "stdout",
     "output_type": "stream",
     "text": [
      "Changed value of parameter TimeLimit to 3600.0\n",
      "   Prev: inf  Min: 0.0  Max: inf  Default: inf\n"
     ]
    },
    {
     "name": "stderr",
     "output_type": "stream",
     "text": [
      " 30%|███████████▍                          | 3/10 [3:00:04<7:00:09, 3601.35s/it]"
     ]
    },
    {
     "name": "stdout",
     "output_type": "stream",
     "text": [
      "Changed value of parameter TimeLimit to 3600.0\n",
      "   Prev: inf  Min: 0.0  Max: inf  Default: inf\n"
     ]
    },
    {
     "name": "stderr",
     "output_type": "stream",
     "text": [
      " 40%|███████████████▏                      | 4/10 [4:00:05<6:00:07, 3601.30s/it]"
     ]
    },
    {
     "name": "stdout",
     "output_type": "stream",
     "text": [
      "Changed value of parameter TimeLimit to 3600.0\n",
      "   Prev: inf  Min: 0.0  Max: inf  Default: inf\n"
     ]
    },
    {
     "name": "stderr",
     "output_type": "stream",
     "text": [
      " 50%|███████████████████                   | 5/10 [5:00:06<5:00:06, 3601.26s/it]"
     ]
    },
    {
     "name": "stdout",
     "output_type": "stream",
     "text": [
      "Changed value of parameter TimeLimit to 3600.0\n",
      "   Prev: inf  Min: 0.0  Max: inf  Default: inf\n"
     ]
    },
    {
     "name": "stderr",
     "output_type": "stream",
     "text": [
      " 60%|██████████████████████▊               | 6/10 [6:00:08<4:00:05, 3601.46s/it]"
     ]
    },
    {
     "name": "stdout",
     "output_type": "stream",
     "text": [
      "Changed value of parameter TimeLimit to 3600.0\n",
      "   Prev: inf  Min: 0.0  Max: inf  Default: inf\n"
     ]
    },
    {
     "name": "stderr",
     "output_type": "stream",
     "text": [
      " 70%|██████████████████████████▌           | 7/10 [7:00:10<3:00:04, 3601.61s/it]"
     ]
    },
    {
     "name": "stdout",
     "output_type": "stream",
     "text": [
      "Changed value of parameter TimeLimit to 3600.0\n",
      "   Prev: inf  Min: 0.0  Max: inf  Default: inf\n"
     ]
    },
    {
     "name": "stderr",
     "output_type": "stream",
     "text": [
      " 80%|██████████████████████████████▍       | 8/10 [7:00:41<1:22:09, 2464.92s/it]"
     ]
    },
    {
     "name": "stdout",
     "output_type": "stream",
     "text": [
      "Changed value of parameter TimeLimit to 3600.0\n",
      "   Prev: inf  Min: 0.0  Max: inf  Default: inf\n"
     ]
    },
    {
     "name": "stderr",
     "output_type": "stream",
     "text": [
      " 90%|████████████████████████████████████    | 9/10 [7:00:43<28:14, 1694.95s/it]"
     ]
    },
    {
     "name": "stdout",
     "output_type": "stream",
     "text": [
      "Changed value of parameter TimeLimit to 3600.0\n",
      "   Prev: inf  Min: 0.0  Max: inf  Default: inf\n"
     ]
    },
    {
     "name": "stderr",
     "output_type": "stream",
     "text": [
      "100%|███████████████████████████████████████| 10/10 [7:00:43<00:00, 2524.35s/it]\n"
     ]
    }
   ],
   "source": [
    "return2_2019_lista = []\n",
    "return2_2020_lista = []\n",
    "\n",
    "for i in tqdm(range(10,101,10)):\n",
    "    sw2Model, return2_2019, return2_2020 = stock_selection_2(m=i)\n",
    "    return2_2019_lista.append(return2_2019)\n",
    "    return2_2020_lista.append(return2_2020)\n",
    "\n",
    "pd.DataFrame([return2_2019_lista,return2_2020_lista],index=['2019','2020'],columns=[i for i in range(10,101,10)]).to_csv('model_1_hour.csv')"
   ]
  },
  {
   "cell_type": "code",
   "execution_count": 23,
   "id": "d12d30a0-5853-4326-b316-6e6c4627b3a9",
   "metadata": {},
   "outputs": [
    {
     "data": {
      "text/plain": [
       "<matplotlib.legend.Legend at 0x1235496a0>"
      ]
     },
     "execution_count": 23,
     "metadata": {},
     "output_type": "execute_result"
    },
    {
     "data": {
      "image/png": "[encoded data removed]",
      "text/plain": [
       "<Figure size 432x288 with 1 Axes>"
      ]
     },
     "metadata": {
      "needs_background": "light"
     },
     "output_type": "display_data"
    }
   ],
   "source": [
    "plt.plot(range(10,101,10),return2_2019_lista, label='2019')\n",
    "plt.plot(range(10,101,10),return2_2020_lista, label='2020')\n",
    "plt.legend()"
   ]
  },
  {
   "cell_type": "code",
   "execution_count": 27,
   "id": "44c183eb-9319-4491-84dd-49808cddd605",
   "metadata": {},
   "outputs": [
    {
     "data": {
      "text/html": [
       "<div>\n",
       "<style scoped>\n",
       "    .dataframe tbody tr th:only-of-type {\n",
       "        vertical-align: middle;\n",
       "    }\n",
       "\n",
       "    .dataframe tbody tr th {\n",
       "        vertical-align: top;\n",
       "    }\n",
       "\n",
       "    .dataframe thead th {\n",
       "        text-align: right;\n",
       "    }\n",
       "</style>\n",
       "<table border=\"1\" class=\"dataframe\">\n",
       "  <thead>\n",
       "    <tr style=\"text-align: right;\">\n",
       "      <th></th>\n",
       "      <th>m=10</th>\n",
       "      <th>m=20</th>\n",
       "      <th>m=30</th>\n",
       "      <th>m=40</th>\n",
       "      <th>m=50</th>\n",
       "      <th>m=60</th>\n",
       "      <th>m=70</th>\n",
       "      <th>m=80</th>\n",
       "      <th>m=90</th>\n",
       "      <th>m=100</th>\n",
       "    </tr>\n",
       "  </thead>\n",
       "  <tbody>\n",
       "    <tr>\n",
       "      <th>2019</th>\n",
       "      <td>0.290137</td>\n",
       "      <td>0.157501</td>\n",
       "      <td>0.111709</td>\n",
       "      <td>0.081988</td>\n",
       "      <td>0.061875</td>\n",
       "      <td>0.052104</td>\n",
       "      <td>0.047488</td>\n",
       "      <td>0.045227</td>\n",
       "      <td>0.044911</td>\n",
       "      <td>0.044911</td>\n",
       "    </tr>\n",
       "    <tr>\n",
       "      <th>2020</th>\n",
       "      <td>0.753372</td>\n",
       "      <td>0.559464</td>\n",
       "      <td>0.498627</td>\n",
       "      <td>0.449616</td>\n",
       "      <td>0.407966</td>\n",
       "      <td>0.372569</td>\n",
       "      <td>0.360502</td>\n",
       "      <td>0.370629</td>\n",
       "      <td>0.368682</td>\n",
       "      <td>0.368682</td>\n",
       "    </tr>\n",
       "  </tbody>\n",
       "</table>\n",
       "</div>"
      ],
      "text/plain": [
       "          m=10      m=20      m=30      m=40      m=50      m=60      m=70  \\\n",
       "2019  0.290137  0.157501  0.111709  0.081988  0.061875  0.052104  0.047488   \n",
       "2020  0.753372  0.559464  0.498627  0.449616  0.407966  0.372569  0.360502   \n",
       "\n",
       "          m=80      m=90     m=100  \n",
       "2019  0.045227  0.044911  0.044911  \n",
       "2020  0.370629  0.368682  0.368682  "
      ]
     },
     "execution_count": 27,
     "metadata": {},
     "output_type": "execute_result"
    }
   ],
   "source": [
    "pd.DataFrame([return2_2019_lista,return2_2020_lista],index=['2019','2020'],columns=['m='+str(i) for i in range(10,101,10)])\n",
    "# .to_csv('model_1_hour.csv')"
   ]
  },
  {
   "cell_type": "code",
   "execution_count": null,
   "id": "d114c528-fa6e-4012-8aa6-45a20e60f221",
   "metadata": {},
   "outputs": [],
   "source": []
  }
 ],
 "metadata": {
  "kernelspec": {
   "display_name": "Python 3",
   "language": "python",
   "name": "python3"
  },
  "language_info": {
   "codemirror_mode": {
    "name": "ipython",
    "version": 3
   },
   "file_extension": ".py",
   "mimetype": "text/x-python",
   "name": "python",
   "nbconvert_exporter": "python",
   "pygments_lexer": "ipython3",
   "version": "3.8.8"
  }
 },
 "nbformat": 4,
 "nbformat_minor": 5
}
