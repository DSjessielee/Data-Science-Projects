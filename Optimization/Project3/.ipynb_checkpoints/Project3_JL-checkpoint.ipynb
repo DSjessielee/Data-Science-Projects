{
 "cells": [
  {
   "cell_type": "code",
   "execution_count": null,
   "metadata": {},
   "outputs": [],
   "source": [
    "import numpy as np\n",
    "import pandas as pd\n",
    "import gurobipy as gp\n",
    "from scipy.optimize import minimize"
   ]
  },
  {
   "cell_type": "code",
   "execution_count": null,
   "metadata": {},
   "outputs": [],
   "source": []
  },
  {
   "cell_type": "markdown",
   "metadata": {},
   "source": [
    "# Portfolio Optimization"
   ]
  },
  {
   "cell_type": "code",
   "execution_count": null,
   "metadata": {},
   "outputs": [],
   "source": [
    "train_raw=pd.read_csv('training_data.csv')\n",
    "test_raw=pd.read_csv('test_data.csv')\n",
    "n=train_raw.shape[0]"
   ]
  },
  {
   "cell_type": "code",
   "execution_count": null,
   "metadata": {},
   "outputs": [],
   "source": [
    "y_train=train_raw['y']\n",
    "x_train=train_raw.iloc[:,1:]\n",
    "y_test=test_raw['y']\n",
    "x_test=test_raw.iloc[:,1:]\n",
    "# X and y mtrix\n",
    "X_train=np.ones((n,m+1))\n",
    "X_train[:,1:]=x_train\n",
    "X_test=np.ones((x_test.shape[0],m+1))\n",
    "X_test[:,1:]=x_test"
   ]
  },
  {
   "cell_type": "code",
   "execution_count": null,
   "metadata": {},
   "outputs": [],
   "source": [
    "# m=50 here\n",
    "m=x_train.shape[1]\n",
    "n= 250 \n",
    "n=x_train.shape[0]\n",
    "M = 1000\n",
    "k=10"
   ]
  },
  {
   "cell_type": "code",
   "execution_count": null,
   "metadata": {},
   "outputs": [],
   "source": [
    "pd.DataFrame(X_train)"
   ]
  },
  {
   "cell_type": "code",
   "execution_count": null,
   "metadata": {},
   "outputs": [],
   "source": [
    "# sigma is a 2*(m+1)X2*(m+1)matrix\n",
    "sigma=np.zeros((2*m+1,2*m+1))\n",
    "sigma[:m+1,:m+1]=X_train.T@X_train\n",
    "#bX_train\n",
    "linear_term=np.zeros((2*m+1))\n",
    "linear_term[:m+1]=-2*(y_train.T@X_train)"
   ]
  },
  {
   "cell_type": "code",
   "execution_count": null,
   "metadata": {},
   "outputs": [],
   "source": [
    "#initiate constraint matrix\n",
    "A=np.zeros((2*m+1,2*m+1))\n",
    "b=np.zeros((A.shape[0]))\n",
    "sense=['']*A.shape[0]"
   ]
  },
  {
   "cell_type": "code",
   "execution_count": null,
   "metadata": {},
   "outputs": [],
   "source": [
    "A=np.zeros((2*m+1,2*m+1))\n",
    "b=np.zeros((A.shape[0]))\n",
    "sense=['']*A.shape[0]\n",
    "\n",
    "#weights are <>0 when it's 'turned on'\n",
    "row=0\n",
    "for i in range(1,m+1,1):\n",
    "    A[row,[i,i+m]]=[1,-M]\n",
    "    sense[row]='<'\n",
    "    b[row]=0\n",
    "    row+=1\n",
    "for i in range(1,m+1,1):\n",
    "    A[row,[i,i+m]]=[1,M]\n",
    "    sense[row]='>'\n",
    "    b[row]=0\n",
    "    row+=1\n",
    "\n",
    "A[row,m+1:]=1\n",
    "sense[row]='='\n",
    "b[row]=k"
   ]
  },
  {
   "cell_type": "code",
   "execution_count": null,
   "metadata": {},
   "outputs": [],
   "source": [
    "ub=[M]*(m+1)+[1]*m\n",
    "lb=[-M]*(m+1)+[0]*m\n",
    "vtype=['C']*(m+1)+['B']*m"
   ]
  },
  {
   "cell_type": "code",
   "execution_count": null,
   "metadata": {},
   "outputs": [],
   "source": [
    "y_train@y_train.T"
   ]
  },
  {
   "cell_type": "markdown",
   "metadata": {},
   "source": [
    "# Solve it as a QP"
   ]
  },
  {
   "cell_type": "code",
   "execution_count": null,
   "metadata": {},
   "outputs": [],
   "source": [
    "MIQPMod = gp.Model()\n",
    "MIQPMod_x = MIQPMod.addMVar((2*m+1),ub=ub,lb=lb,vtype=vtype)\n",
    "MIQPMod_con = MIQPMod.addMConstrs(A, MIQPMod_x, sense, b)\n",
    "\n",
    "#no linear so none\n",
    "#only quadratic matrix sigma\n",
    "\n",
    "MIQPMod.setMObjective(sigma,linear_term,0,sense=gp.GRB.MINIMIZE)\n",
    "\n",
    "MIQPMod.Params.OutputFlag = 0 \n",
    "\n",
    "MIQPMod.optimize()"
   ]
  },
  {
   "cell_type": "code",
   "execution_count": null,
   "metadata": {},
   "outputs": [],
   "source": [
    "MIQPMod_x.x[:m+1]"
   ]
  },
  {
   "cell_type": "markdown",
   "metadata": {},
   "source": [
    "# Cross Validation"
   ]
  },
  {
   "cell_type": "code",
   "execution_count": null,
   "metadata": {},
   "outputs": [],
   "source": [
    "# linear regression, n is the max variable number\n",
    "def lr(X,y,n=10,timelimit=10):\n",
    "    # sigma is a 2*(m+1)X2*(m+1)matrix\n",
    "    \n",
    "    m=X.shape[1]-1\n",
    "    sigma=np.zeros((2*m+1,2*m+1))\n",
    "    sigma[:m+1,:m+1]=X.T@X\n",
    "   \n",
    "    linear_term=np.zeros((2*m+1))\n",
    "    linear_term[:m+1]=-2*(y.T@X)\n",
    "    \n",
    "    A=np.zeros((2*m+1,2*m+1))\n",
    "    b=np.zeros((A.shape[0]))\n",
    "    sense=['']*A.shape[0]\n",
    "\n",
    "    #weights are <>0 when it's 'turned on'\n",
    "    row=0\n",
    "    for i in range(1,m+1,1):\n",
    "        A[row,[i,i+m]]=[1,-10]\n",
    "        sense[row]='<'\n",
    "        b[row]=0\n",
    "        row+=1\n",
    "    for i in range(1,m+1,1):\n",
    "        A[row,[i,i+m]]=[1,10]\n",
    "        sense[row]='>'\n",
    "        b[row]=0\n",
    "        row+=1\n",
    "\n",
    "    A[row,m+1:]=1\n",
    "    sense[row]='='\n",
    "    b[row]=n\n",
    "    \n",
    "    #optimization parameters\n",
    "    ub=[M]*(m+1)+[1]*m\n",
    "    lb=[-M]*(m+1)+[0]*m\n",
    "    vtype=['C']*(m+1)+['B']*m\n",
    "    \n",
    "    MIQPMod = gp.Model()\n",
    "    MIQPMod_x = MIQPMod.addMVar((2*m+1),ub=ub,lb=lb,vtype=vtype)\n",
    "    MIQPMod_con = MIQPMod.addMConstrs(A, MIQPMod_x, sense, b)\n",
    "\n",
    "    #no linear so none\n",
    "    #only quadratic matrix sigma\n",
    "\n",
    "    MIQPMod.setMObjective(sigma,linear_term,0,sense=gp.GRB.MINIMIZE)\n",
    "    MIQPMod.Params.OutputFlag = 0 \n",
    "    \n",
    "    MIQPMod.Params.TimeLimit = timelimit\n",
    "    MIQPMod.optimize()\n",
    "    \n",
    "    return MIQPMod_x.x[:m+1],MIQPMod.objVal-y@y.T\n",
    "\n",
    "def lr_cv(X,y,n=5,k_fold=10,timelimit=10):\n",
    "    idx=np.linspace(0,X.shape[0]-1,X.shape[0])\n",
    "    np.random.shuffle(idx)\n",
    "    idx=np.split(idx,k_fold)\n",
    "    \n",
    "    for i in range(k_fold):\n",
    "        X_valid=X[idx[i].astype(int)]\n",
    "        y_valid=y[idx[i].astype(int)]\n",
    "        X_train=X[np.array((idx[:2]+idx[2+1:])).reshape((int(X.shape[0]-X.shape[0]/k_fold))).astype(int)]\n",
    "        y_train=y[np.array((idx[:i]+idx[i+1:])).reshape((int(X.shape[0]-X.shape[0]/k_fold))).astype(int)]\n",
    "        weight, err=lr(X_train,y_train,n,timelimit)      \n",
    "        valid_err=np.sum(weight.T@X_valid.T@X_valid@weight-2*y_valid.T@X_valid@weight-y_valid@y_valid.T)\n",
    "        if i==0:\n",
    "            min_weight = weight\n",
    "            min_err = valid_err\n",
    "            err_choice = valid_err\n",
    "        else:\n",
    "            if valid_err < min_err:\n",
    "                min_err = valid_err\n",
    "                min_weight = weight\n",
    "        if valid_err < err_choice:\n",
    "            err_choice=valid_err\n",
    "    return min_weight,min_err\n",
    "\n",
    "def lr_pred(weight,X):\n",
    "    return weight@X"
   ]
  },
  {
   "cell_type": "code",
   "execution_count": null,
   "metadata": {},
   "outputs": [],
   "source": [
    "weight_update=[]\n",
    "err_update=[]\n",
    "for n in np.linspace(5,50,10,80):\n",
    "    weight,err=lr_cv(X_train,y_train,n,10,timelimit=10)\n",
    "    weight_update.append(weight)\n",
    "    err_update.append(err)\n",
    "    \n",
    "mtx=pd.DataFrame(columns=['weight','err'],index=['k=5','k=10','k=15','k=20','k=25','k=30','k=35','k=40','k=45','k=50'])\n",
    "mtx['weight']=weight_update\n",
    "mtx['err']=err_update"
   ]
  },
  {
   "cell_type": "code",
   "execution_count": null,
   "metadata": {},
   "outputs": [],
   "source": [
    "mtx=pd.DataFrame(columns=['weight','err'],index=['k=5','k=10','k=15','k=20','k=25','k=30','k=35','k=40','k=45','k=50'])\n",
    "mtx['weight']=weight_update\n",
    "mtx['err']=err_update"
   ]
  },
  {
   "cell_type": "code",
   "execution_count": null,
   "metadata": {},
   "outputs": [],
   "source": []
  },
  {
   "cell_type": "markdown",
   "metadata": {},
   "source": [
    "# Lasso CV"
   ]
  },
  {
   "cell_type": "code",
   "execution_count": null,
   "metadata": {},
   "outputs": [],
   "source": [
    "import numpy as np\n",
    "from sklearn.metrics import SCORERS\n",
    "from sklearn.linear_model import RidgeCV\n",
    "from sklearn.model_selection import GridSearchCV\n",
    "from sklearn import linear_model\n",
    "from sklearn.linear_model import Ridge, RidgeCV, Lasso, LassoCV\n",
    "from sklearn.metrics import mean_squared_error\n",
    "from sklearn.model_selection import KFold\n",
    "from sklearn.metrics import mean_squared_error, make_scorer\n",
    "import matplotlib.pyplot as plt"
   ]
  },
  {
   "cell_type": "code",
   "execution_count": 196,
   "metadata": {},
   "outputs": [],
   "source": [
    "import warnings\n",
    "warnings.simplefilter(\"ignore\")\n",
    "\n",
    "#Grid Search for alpha(or lambda)\n",
    "alpha_grid = 10**np.linspace(6,-6,100)\n",
    "tuned_parameters = [{'alpha': alpha_grid}]\n",
    "lasso = Lasso()\n",
    "lasso_cv_grid = GridSearchCV(lasso, \n",
    "                              tuned_parameters, \n",
    "                              cv=10, scoring = 'neg_mean_squared_error', \n",
    "                              refit=True) #build lasso model with 10 fold\n",
    "lasso_cv_grid.fit(X_train,y_train)\n",
    "lasso_alpha=lasso_cv_grid.best_params_"
   ]
  },
  {
   "cell_type": "code",
   "execution_count": 223,
   "metadata": {},
   "outputs": [],
   "source": [
    "alpha=list(lasso_alpha.values())[0]\n",
    "\n",
    "lasso_cv_model=LassoCV(alphas=[alpha],\n",
    "                     cv=10,)\n",
    "lasso_cv_model.fit(X_train[:,1:], y_train)\n",
    "lasso_weight=lasso_cv_model.coef_ \n"
   ]
  },
  {
   "cell_type": "code",
   "execution_count": 224,
   "metadata": {},
   "outputs": [
    {
     "data": {
      "text/plain": [
       "array([-0.        , -0.        ,  0.        ,  0.        , -0.        ,\n",
       "        0.        , -0.        , -0.        , -2.16759923,  0.        ,\n",
       "       -0.06543049, -0.        , -0.        , -0.        , -0.41968302,\n",
       "       -0.1952272 ,  0.        ,  0.        , -0.        ,  0.        ,\n",
       "        0.        , -0.1939836 , -1.36867927,  0.74620669, -0.00605903,\n",
       "       -1.30816494, -0.        ,  0.        ,  0.05717854,  0.        ,\n",
       "       -0.        ,  0.        , -0.09717768,  0.29386359,  0.        ,\n",
       "        0.        ,  0.        ,  0.        , -0.23972899,  0.        ,\n",
       "       -0.        ,  0.        ,  0.        ,  0.03733622,  1.56934772,\n",
       "       -0.02949255,  0.71091105, -0.09588212,  0.        ,  0.        ])"
      ]
     },
     "execution_count": 224,
     "metadata": {},
     "output_type": "execute_result"
    }
   ],
   "source": [
    "lasso_weight"
   ]
  },
  {
   "cell_type": "code",
   "execution_count": 215,
   "metadata": {},
   "outputs": [
    {
     "data": {
      "text/plain": [
       "array([[ 1.00000000e+00, -1.53541286e+00,  7.18887717e-01, ...,\n",
       "        -4.71045042e-01, -1.13978107e+00, -2.60772742e-01],\n",
       "       [ 1.00000000e+00, -1.73460938e+00,  5.51981259e-01, ...,\n",
       "        -2.42564880e-01, -1.82662085e-03,  1.18745316e+00],\n",
       "       [ 1.00000000e+00,  9.72566647e-02,  1.07634348e-01, ...,\n",
       "        -7.51230919e-01,  1.45060937e+00,  2.90593419e-01],\n",
       "       ...,\n",
       "       [ 1.00000000e+00,  9.12367152e-02,  4.73697596e-01, ...,\n",
       "        -8.41853603e-02, -2.00142679e-01,  8.40785925e-01],\n",
       "       [ 1.00000000e+00, -1.40700336e+00,  5.10885944e-01, ...,\n",
       "        -5.22506923e-02,  5.43761518e-01,  2.74006244e-01],\n",
       "       [ 1.00000000e+00, -1.95950543e+00,  2.71732927e-01, ...,\n",
       "         2.05276206e+00,  3.35630224e-02, -1.19848557e+00]])"
      ]
     },
     "execution_count": 215,
     "metadata": {},
     "output_type": "execute_result"
    }
   ],
   "source": [
    "X_train"
   ]
  },
  {
   "cell_type": "code",
   "execution_count": 211,
   "metadata": {},
   "outputs": [
    {
     "data": {
      "text/plain": [
       "0.07054802310718646"
      ]
     },
     "execution_count": 211,
     "metadata": {},
     "output_type": "execute_result"
    }
   ],
   "source": [
    "list(alpha)[0]"
   ]
  },
  {
   "cell_type": "code",
   "execution_count": 184,
   "metadata": {},
   "outputs": [
    {
     "data": {
      "text/plain": [
       "dict_values([0.07054802310718646])"
      ]
     },
     "execution_count": 184,
     "metadata": {},
     "output_type": "execute_result"
    }
   ],
   "source": [
    "lasso_cv_model.best_params_.values()"
   ]
  },
  {
   "cell_type": "code",
   "execution_count": 178,
   "metadata": {},
   "outputs": [
    {
     "ename": "AttributeError",
     "evalue": "'LassoCV' object has no attribute 'best_params_'",
     "output_type": "error",
     "traceback": [
      "\u001b[1;31m---------------------------------------------------------------------------\u001b[0m",
      "\u001b[1;31mAttributeError\u001b[0m                            Traceback (most recent call last)",
      "\u001b[1;32m<ipython-input-178-f3b778a15905>\u001b[0m in \u001b[0;36m<module>\u001b[1;34m\u001b[0m\n\u001b[0;32m      9\u001b[0m     \u001b[0mlasso_cv_model\u001b[0m\u001b[1;33m.\u001b[0m\u001b[0mfit\u001b[0m\u001b[1;33m(\u001b[0m\u001b[0mX_train\u001b[0m\u001b[1;33m,\u001b[0m \u001b[0my_train\u001b[0m\u001b[1;33m)\u001b[0m\u001b[1;33m\u001b[0m\u001b[1;33m\u001b[0m\u001b[0m\n\u001b[0;32m     10\u001b[0m     \u001b[0mlasso_coefs\u001b[0m\u001b[1;33m.\u001b[0m\u001b[0mappend\u001b[0m\u001b[1;33m(\u001b[0m\u001b[0mlasso_cv_model\u001b[0m\u001b[1;33m.\u001b[0m\u001b[0mcoef_\u001b[0m\u001b[1;33m)\u001b[0m\u001b[1;33m\u001b[0m\u001b[1;33m\u001b[0m\u001b[0m\n\u001b[1;32m---> 11\u001b[1;33m     \u001b[0mlasso_alpha\u001b[0m\u001b[1;33m=\u001b[0m\u001b[0mlasso_cv_model\u001b[0m\u001b[1;33m.\u001b[0m\u001b[0mbest_params_\u001b[0m\u001b[1;33m[\u001b[0m\u001b[1;34m'alpha'\u001b[0m\u001b[1;33m]\u001b[0m\u001b[1;33m\u001b[0m\u001b[1;33m\u001b[0m\u001b[0m\n\u001b[0m\u001b[0;32m     12\u001b[0m \u001b[1;33m\u001b[0m\u001b[0m\n\u001b[0;32m     13\u001b[0m \u001b[1;33m\u001b[0m\u001b[0m\n",
      "\u001b[1;31mAttributeError\u001b[0m: 'LassoCV' object has no attribute 'best_params_'"
     ]
    }
   ],
   "source": [
    "#for Lasso Model\n",
    "lasso_coefs = []\n",
    "lasso_err=[]\n",
    "lambda_grid = 10**np.linspace(6,-6,100)\n",
    "\n",
    "for lambda1 in lambda_grid:\n",
    "    lasso_cv_model=LassoCV(alphas=[lambda1],\n",
    "                               cv=10,)\n",
    "    lasso_cv_model.fit(X_train, y_train)\n",
    "    lasso_coefs.append(lasso_cv_model.coef_)\n",
    "    lasso_alpha=lasso_cv_model.best_params_['alpha']\n",
    "\n",
    "\n",
    "    \n",
    "#Plot RidgeCV Coefficient as function of the regularization\n",
    "ax = plt.gca()\n",
    "\n",
    "ax.plot(alpha_grid, lasso_coefs)\n",
    "ax.set_xscale('log')\n",
    "ax.set_xlim(ax.get_xlim()[::-1])  # reverse axis\n",
    "plt.xlabel('alpha')\n",
    "plt.ylabel('weights')\n",
    "plt.title('Lasso CV coefficients as a function of the regularization')\n",
    "plt.axis('tight')\n",
    "plt.show()"
   ]
  },
  {
   "cell_type": "code",
   "execution_count": null,
   "metadata": {},
   "outputs": [],
   "source": [
    "[int(item) for item in split[:4] + split[5:]]"
   ]
  },
  {
   "cell_type": "code",
   "execution_count": null,
   "metadata": {},
   "outputs": [],
   "source": [
    "split[:4] + split[5:]"
   ]
  },
  {
   "cell_type": "code",
   "execution_count": null,
   "metadata": {},
   "outputs": [],
   "source": [
    "from sklearn.model_selection import KFold\n",
    "#for i in range(10):\n",
    "#n1=np.split(np.random.shuffle(np.linspace(0,249,1)),10)\n",
    "\n",
    "idx=np.linspace(1,250,250)\n",
    "np.random.shuffle(idx)\n",
    "n1=np.split(idx,10)\n"
   ]
  },
  {
   "cell_type": "code",
   "execution_count": null,
   "metadata": {},
   "outputs": [],
   "source": [
    "import numpy as np\n",
    "np.linspace"
   ]
  },
  {
   "cell_type": "code",
   "execution_count": null,
   "metadata": {},
   "outputs": [],
   "source": [
    "split=np.split(X,10,axis=0)\n",
    "valid_set=split[2]\n",
    "train_set=np.array(split[:2] + split[2+1:])\n",
    "train_set.reshape(((train_set.shape[0]*train_set.shape[1],train_set.shape[2])))"
   ]
  },
  {
   "cell_type": "code",
   "execution_count": null,
   "metadata": {},
   "outputs": [],
   "source": [
    "k_fold=10\n",
    "\n",
    "randomRow = np.random.randint(X.shape[0], size=int(X.shape[0]/k_fold))\n",
    "randomRow"
   ]
  },
  {
   "cell_type": "code",
   "execution_count": null,
   "metadata": {},
   "outputs": [],
   "source": [
    "np.split(X,10,axis=0)[1].shape"
   ]
  },
  {
   "cell_type": "code",
   "execution_count": null,
   "metadata": {},
   "outputs": [],
   "source": []
  },
  {
   "cell_type": "code",
   "execution_count": null,
   "metadata": {},
   "outputs": [],
   "source": [
    "weights=[]\n",
    "square_err=[]\n",
    "for i in range(5,51,5):\n",
    "    wt,se = lr(X,y,i)\n",
    "    weights.append(wt)\n",
    "    square_err.append(se)"
   ]
  },
  {
   "cell_type": "code",
   "execution_count": null,
   "metadata": {},
   "outputs": [],
   "source": [
    "for i in range(5,51,5):\n",
    "    \n",
    "    wt,se = lr(X,y,i)\n",
    "    weights.append(wt)\n",
    "    square_err.append(se)"
   ]
  },
  {
   "cell_type": "code",
   "execution_count": null,
   "metadata": {},
   "outputs": [],
   "source": []
  },
  {
   "cell_type": "code",
   "execution_count": null,
   "metadata": {},
   "outputs": [],
   "source": []
  },
  {
   "cell_type": "code",
   "execution_count": null,
   "metadata": {},
   "outputs": [],
   "source": [
    "from sklearn.metrics import mean_squared_error, accuracy_score\n",
    "from sklearn.model_selection import KFold\n",
    "import matplotlib.pyplot as plt\n",
    "%matplotlib inline\n",
    "import warnings\n",
    "warnings.filterwarnings('ignore')\n",
    "\n",
    "# Define number of folds and create KFold from sklearn\n",
    "n_folds = 5\n",
    "k_fold = KFold(n_folds)\n",
    "lasso_alphas =  10**np.linspace(6,-6,100)       #(start at 6, end at -6 )           \n",
    "lasso_avg_mse = {}\n",
    "#For each value of alpha and each fold compute the mean square error\n",
    "for alpha in lasso_alphas:\n",
    "    lasso = linear_model.Lasso(alpha=alpha)\n",
    "    avg_mse = 0\n",
    "    for k, (train, test) in enumerate(k_fold.split(X_train, Y_train)):\n",
    "    lasso.fit(X_train[train], Y_train[train])    \n",
    "    avg_mse = avg_mse + mean_squared_error(Y_train[test], lasso.predict(X_train[test])) \n",
    "  # Take the average mean squared error as metric\n",
    "  lasso_avg_mse[alpha] = avg_mse / n_folds\n",
    "\n",
    "# Find the best value for alpha with minimum mean squared error\n",
    "best_alpha_lasso = min(lasso_avg_mse, key=lasso_avg_mse.get)\n",
    "print(\"Best lasso alpha: {}\".format(best_alpha_lasso))\n",
    "\n",
    "ridge_alphas =  10**np.linspace(6,-6,100)\n",
    "ridge_avg_mse = {}\n",
    "\n",
    "for alpha in ridge_alphas:\n",
    "  ridge = linear_model.Ridge(alpha=alpha)\n",
    "  avg_mse = 0\n",
    "  for k, (train, test) in enumerate(k_fold.split(X_train, Y_train)):\n",
    "      ridge.fit(X_train[train], Y_train[train])\n",
    "      avg_mse = avg_mse + mean_squared_error(Y_train[test], ridge.predict(X_train[test])) \n",
    "  ridge_avg_mse[alpha] = avg_mse / n_folds\n",
    "best_alpha_ridge = min(ridge_avg_mse, key=ridge_avg_mse.get)\n",
    "print(\"Best ridge alpha: {}\".format(best_alpha_ridge))"
   ]
  },
  {
   "cell_type": "code",
   "execution_count": null,
   "metadata": {},
   "outputs": [],
   "source": [
    "A=np.zeros((2,n*2))\n",
    "A[0,:n]=1\n",
    "sense[0]='='\n",
    "A[1,n:]=1"
   ]
  },
  {
   "cell_type": "code",
   "execution_count": null,
   "metadata": {},
   "outputs": [],
   "source": []
  },
  {
   "cell_type": "code",
   "execution_count": null,
   "metadata": {},
   "outputs": [],
   "source": []
  },
  {
   "cell_type": "code",
   "execution_count": null,
   "metadata": {},
   "outputs": [],
   "source": [
    "threshold_return = 0.09\n",
    "\n",
    "\n",
    "meanvec = np.array([.1073,.0737,.0627])\n",
    "Sigma = np.zeros((3,3))\n",
    "Sigma[0,:] = [0.0278,0.00387,0.000207]\n",
    "Sigma[1,:] = [0.00387,0.0111,-0.000195]\n",
    "Sigma[2,:] = [0.000207,-0.000195,0.00116]\n",
    "\n",
    "w = np.ones(3)/3\n",
    "\n",
    "print(w @ Sigma @ w)\n",
    "\n",
    "print(w @ meanvec)\n",
    "\n"
   ]
  },
  {
   "cell_type": "markdown",
   "metadata": {},
   "source": [
    "# Solve it as a QP"
   ]
  },
  {
   "cell_type": "code",
   "execution_count": null,
   "metadata": {},
   "outputs": [],
   "source": [
    "# constraint0: weights sum to 1\n",
    "# constraint1: mean return is >= 9%\n",
    "\n",
    "A = np.ones((2,3)) # row 0 is all 1s already\n",
    "A[1,:] = meanvec # now change row 1\n",
    "\n",
    "b = np.ones(2) # row 0 is already 1\n",
    "b[1] = threshold_return # now change row 1\n",
    "\n",
    "sense = ['=','>'] \n",
    "\n"
   ]
  },
  {
   "cell_type": "code",
   "execution_count": null,
   "metadata": {},
   "outputs": [],
   "source": [
    "portMod = gp.Model()\n",
    "portMod_x = portMod.addMVar(3,ub=np.array([1,1,1]))\n",
    "portMod_con = portMod.addMConstrs(A, portMod_x, sense, b)\n",
    "\n",
    "#no linear so none\n",
    "#only quadratic matrix sigma\n",
    "\n",
    "portMod.setMObjective(Sigma,None,0,sense=gp.GRB.MINIMIZE)\n",
    "\n",
    "portMod.Params.OutputFlag = 0 \n",
    "\n",
    "portMod.optimize()\n"
   ]
  },
  {
   "cell_type": "code",
   "execution_count": null,
   "metadata": {},
   "outputs": [],
   "source": [
    "portMod_x.x"
   ]
  },
  {
   "cell_type": "code",
   "execution_count": null,
   "metadata": {},
   "outputs": [],
   "source": [
    "portMod.objVal"
   ]
  },
  {
   "cell_type": "code",
   "execution_count": null,
   "metadata": {},
   "outputs": [],
   "source": []
  },
  {
   "cell_type": "markdown",
   "metadata": {},
   "source": [
    "## Now solve it as a general NLP"
   ]
  },
  {
   "cell_type": "code",
   "execution_count": null,
   "metadata": {},
   "outputs": [],
   "source": [
    "def obj_fun(x):\n",
    "    return x @ Sigma @ x"
   ]
  },
  {
   "cell_type": "code",
   "execution_count": null,
   "metadata": {},
   "outputs": [],
   "source": [
    "# inequality constraints must be >= 0\n",
    "def mean_con_fun(x):\n",
    "    return (x @ meanvec) - threshold_return"
   ]
  },
  {
   "cell_type": "code",
   "execution_count": null,
   "metadata": {},
   "outputs": [],
   "source": [
    "# equality constraints must be =0\n",
    "def all_invest_con(x):\n",
    "    return np.sum(x)-1"
   ]
  },
  {
   "cell_type": "code",
   "execution_count": null,
   "metadata": {},
   "outputs": [],
   "source": [
    "con1 = {'type':'eq', 'fun': all_invest_con}\n",
    "con2 = {'type':'ineq', 'fun': mean_con_fun}\n",
    "cons = [con1,con2]\n",
    "bds = [(0,1),(0,1),(0,1)] # all weights must be between 0-1"
   ]
  },
  {
   "cell_type": "code",
   "execution_count": null,
   "metadata": {},
   "outputs": [],
   "source": [
    "# if you don't tell it what method to use it will default to the correct method based on constraints/bounds\n",
    "\n",
    "opt_port = minimize(obj_fun,w,constraints=cons,bounds=bds) "
   ]
  },
  {
   "cell_type": "code",
   "execution_count": null,
   "metadata": {},
   "outputs": [],
   "source": [
    "opt_port.x"
   ]
  },
  {
   "cell_type": "code",
   "execution_count": null,
   "metadata": {},
   "outputs": [],
   "source": [
    "opt_port.fun"
   ]
  },
  {
   "cell_type": "markdown",
   "metadata": {},
   "source": [
    "# Something weird...\n",
    "Something I have noticed is that for portfolio problems with many stocks if the objective is variance then the solver may return the initial guess, which is stupid.  It is sometimes possible to fix this by changing the objective to be standard deviation."
   ]
  },
  {
   "cell_type": "code",
   "execution_count": null,
   "metadata": {},
   "outputs": [],
   "source": [
    "def obj_fun_std(x):\n",
    "    return np.sqrt(x @ Sigma @ x)"
   ]
  },
  {
   "cell_type": "code",
   "execution_count": null,
   "metadata": {},
   "outputs": [],
   "source": [
    "opt_port2 = minimize(obj_fun_std,w,constraints=cons,bounds=bds)"
   ]
  },
  {
   "cell_type": "code",
   "execution_count": null,
   "metadata": {},
   "outputs": [],
   "source": [
    "opt_port2.x"
   ]
  },
  {
   "cell_type": "code",
   "execution_count": null,
   "metadata": {},
   "outputs": [],
   "source": [
    "opt_port2.fun**2"
   ]
  }
 ],
 "metadata": {
  "kernelspec": {
   "display_name": "Python 3",
   "language": "python",
   "name": "python3"
  },
  "language_info": {
   "codemirror_mode": {
    "name": "ipython",
    "version": 3
   },
   "file_extension": ".py",
   "mimetype": "text/x-python",
   "name": "python",
   "nbconvert_exporter": "python",
   "pygments_lexer": "ipython3",
   "version": "3.8.8"
  }
 },
 "nbformat": 4,
 "nbformat_minor": 2
}
